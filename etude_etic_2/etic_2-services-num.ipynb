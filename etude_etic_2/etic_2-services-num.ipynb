{
 "cells": [
  {
   "attachments": {},
   "cell_type": "markdown",
   "metadata": {},
   "source": [
    "# **Clustering Service numérique établissement**\n",
    "\n",
    "\n",
    "Nous allons encore une fois procéder à un clustering pour réduire le nombre de colonnes suivantes en une seule colonne avec plusieurs modalités :\n",
    "- *`'ServInt_NoteElev'`* : Les notes des élèves sont l'un des services de l'établissement accessibles hors établissement via internet\n",
    "- *`'ServInt_AbsElev'`* : Les absences des élèves sont l'un des services de l'établissement accessibles hors établissement via internet\n",
    "- *`'ServInt_EdtElevCls'`* : L'emploi du temps des élèves ou de la classe est l'un des services de l'établissement accessible hors\n",
    "établissement via internet\n",
    "- *`'ServInt_CahierTxt'`* : Le cahier de textes de la classe est l'un des services de l'établissement accessibles hors établissement\n",
    "via internet\n",
    "- *`'ServInt_DocRessPeda'`* : Les documents et ressources pédagogiques sont l'un des services de l'établissement accessibles hors établissement via internet\n",
    "- *`'ServInt_AgdActuEtab'`* : L'agenda/Actualités de l'école est un service disponible par internet pour l'école\n",
    "- *`'ServInt_PlatApp'`* : La plateforme d'apprentissage (Moodle, Claroline, MOOC, etc.) est l'un des services de l'établissement\n",
    "accessible hors établissement via internet\n",
    "- *`'ServInt_Autres'`* : D'autres services de l'établissement sont accessibles hors établissement via internet\n",
    "- *`'ServInt_aucun'`* : Aucun service n'est proposé par l'école\n",
    "\n"
   ]
  },
  {
   "attachments": {},
   "cell_type": "markdown",
   "metadata": {},
   "source": [
    "Nous faisons comme nous avons pu le faire pour les analyses précédentes. Nous traitons ces colonnes ensemble car elles sont toutes liées car elles traitent des services que proposent un établissement au format numérique. Des informations qu'on peut accéder depuis Internet\n",
    "\n",
    "### *Import des bibliothèques*"
   ]
  },
  {
   "cell_type": "code",
   "execution_count": 1,
   "metadata": {},
   "outputs": [],
   "source": [
    "import pandas as pd\n",
    "import prince as pc\n",
    "from sklearn.cluster import KMeans\n",
    "from sklearn.decomposition import PCA\n",
    "import plotly_express as px\n",
    "import plotly.graph_objects as go"
   ]
  },
  {
   "attachments": {},
   "cell_type": "markdown",
   "metadata": {},
   "source": [
    "### *Import des données*"
   ]
  },
  {
   "cell_type": "code",
   "execution_count": 2,
   "metadata": {},
   "outputs": [
    {
     "data": {
      "text/plain": [
       "Index(['Code_UAI', 'Millesime', 'Code_nature', 'nature_uai', 'typ_etab',\n",
       "       'Academie', 'Departement', 'NbEleve', 'NbEnseignant',\n",
       "       'SiEtabCentreRessource', 'SiProjetNumEcole', 'SiEntDisponible',\n",
       "       'SiProjEtabIntegreENT', 'Maint_PersCollect', 'Maint_PrestaExt',\n",
       "       'Maint_PersonnelEducNatHsEtab', 'Maint_PersonnelEtab',\n",
       "       'Maint_AutreNeSaitPas', 'Maint_Personne', 'NbRessourceEdit',\n",
       "       'TpRess_ManuelNum', 'TpRess_AnimScienLogiSimu', 'TpRess_Bdd',\n",
       "       'TpRess_LogiOutils', 'TpRess_OuvRef', 'TpRess_ResEntrainement',\n",
       "       'TpRess_Autres', 'TpRess_aucune', 'ServInt_NoteElev', 'ServInt_AbsElev',\n",
       "       'ServInt_EdtElevCls', 'ServInt_CahierTxt', 'ServInt_DocRessPeda',\n",
       "       'ServInt_AgdActuEtab', 'ServInt_PlatApp', 'ServInt_Autres',\n",
       "       'ServInt_aucun', 'NbTerminaux', 'NbTablette', 'NbTablettePC',\n",
       "       'NbMicroMoins5', 'NbMicroPortable', 'NbPortAffEl', 'NbPortAffEns',\n",
       "       'NbEleveEqASH', 'NbPosteEqASH', 'NbTBI', 'propClassesAvecTBI',\n",
       "       'NbVideoProj', 'NbClassMobile', 'NbLecteurMpx', 'NbImpr3D',\n",
       "       'AccWeb_RTC', 'AccWeb_CableFibreOptique', 'AccWeb_ADSL',\n",
       "       'AccWeb_AutresHautDebit', 'AccWeb_NeSaitPas', 'AccWeb_Aucun',\n",
       "       'DebitWeb', 'SiWifi', 'SalleInternet', 'PostesInfoElvHorsCours',\n",
       "       'SiPareFeuEtab', 'SiOuifiltrageWeb', 'ControlePosteriori',\n",
       "       'SiCharteUsageWeb', 'Diffch_AnnexeeRI',\n",
       "       'Diffch_DossierRentreeEnseignants', 'Diffch_CRConseilAdmin',\n",
       "       'Diffch_DiffusionParents', 'Diffch_Autres', 'AccesParentCharte',\n",
       "       'ElvAuthentif', 'SiVisioConferenc', 'SiEntUtilise',\n",
       "       'TypeMatHandi_Tablette', 'TypeMatHandi_OrdiPort', 'TypeMatHandi_LogApp',\n",
       "       'TypeMatHandi_Autre', 'Code_region', 'Libelle_region'],\n",
       "      dtype='object')"
      ]
     },
     "execution_count": 2,
     "metadata": {},
     "output_type": "execute_result"
    }
   ],
   "source": [
    "df = pd.read_csv('../data/lycee-college/fr-en-etic_2d.csv', sep=';')\n",
    "\n",
    "#on garde les données les plus récentes, donc 2019\n",
    "df = df.loc[df[\"Millesime\"] == 2019]\n",
    "\n",
    "#On consulte les colonnes existantes\n",
    "df.columns"
   ]
  },
  {
   "attachments": {},
   "cell_type": "markdown",
   "metadata": {},
   "source": [
    "### *Traitement des données*\n",
    "\n",
    "On va changer d'index en affectant le code UAI car il est unique et il sera plus simple d'identifier les établissements par la suite. On va supprimer toutes les colonnes qui nous intéressenet pas et on va supprimer les lignes contenant des NaN"
   ]
  },
  {
   "cell_type": "code",
   "execution_count": 3,
   "metadata": {},
   "outputs": [],
   "source": [
    "df_services = df.set_index(\"Code_UAI\")\n",
    "\n",
    "#On supprime les colonnes inutiles\n",
    "df_services.drop(columns=['Millesime', 'Code_nature', 'nature_uai', 'typ_etab',\n",
    "       'Academie', 'Departement', 'NbEleve', 'NbEnseignant',\n",
    "       'SiEtabCentreRessource', 'SiProjetNumEcole', 'SiEntDisponible',\n",
    "       'SiProjEtabIntegreENT', 'Maint_PersCollect', 'Maint_PrestaExt',\n",
    "       'Maint_PersonnelEducNatHsEtab', 'Maint_PersonnelEtab',\n",
    "       'Maint_AutreNeSaitPas', 'Maint_Personne', 'NbRessourceEdit',\n",
    "       'TpRess_ManuelNum', 'TpRess_AnimScienLogiSimu', 'TpRess_Bdd',\n",
    "       'TpRess_LogiOutils', 'TpRess_OuvRef', 'TpRess_ResEntrainement',\n",
    "       'TpRess_Autres', 'TpRess_aucune', 'NbTerminaux', 'NbTablette', 'NbTablettePC',\n",
    "       'NbMicroMoins5', 'NbMicroPortable', 'NbPortAffEl', 'NbPortAffEns',\n",
    "       'NbEleveEqASH', 'NbPosteEqASH', 'NbTBI', 'propClassesAvecTBI',\n",
    "       'NbVideoProj', 'NbClassMobile', 'NbLecteurMpx', 'NbImpr3D',\n",
    "       'AccWeb_RTC', 'AccWeb_CableFibreOptique', 'AccWeb_ADSL',\n",
    "       'AccWeb_AutresHautDebit', 'AccWeb_NeSaitPas', 'AccWeb_Aucun',\n",
    "       'DebitWeb', 'SiWifi', 'SalleInternet', 'PostesInfoElvHorsCours',\n",
    "       'SiPareFeuEtab', 'SiOuifiltrageWeb', 'ControlePosteriori',\n",
    "       'SiCharteUsageWeb', 'Diffch_AnnexeeRI',\n",
    "       'Diffch_DossierRentreeEnseignants', 'Diffch_CRConseilAdmin',\n",
    "       'Diffch_DiffusionParents', 'Diffch_Autres', 'AccesParentCharte',\n",
    "       'ElvAuthentif', 'SiVisioConferenc', 'SiEntUtilise',\n",
    "       'TypeMatHandi_Tablette', 'TypeMatHandi_OrdiPort', 'TypeMatHandi_LogApp',\n",
    "       'TypeMatHandi_Autre', 'Code_region', 'Libelle_region'], inplace=True)\n",
    "\n",
    "#On supprime les lignes avec des valeurs manquantes\n",
    "df_services.dropna(inplace=True)"
   ]
  },
  {
   "cell_type": "markdown",
   "metadata": {},
   "source": [
    "On vérifie que les données indésirables ont bien été supprimées"
   ]
  },
  {
   "cell_type": "code",
   "execution_count": 4,
   "metadata": {},
   "outputs": [
    {
     "data": {
      "text/html": [
       "<div>\n",
       "<style scoped>\n",
       "    .dataframe tbody tr th:only-of-type {\n",
       "        vertical-align: middle;\n",
       "    }\n",
       "\n",
       "    .dataframe tbody tr th {\n",
       "        vertical-align: top;\n",
       "    }\n",
       "\n",
       "    .dataframe thead th {\n",
       "        text-align: right;\n",
       "    }\n",
       "</style>\n",
       "<table border=\"1\" class=\"dataframe\">\n",
       "  <thead>\n",
       "    <tr style=\"text-align: right;\">\n",
       "      <th></th>\n",
       "      <th>ServInt_NoteElev</th>\n",
       "      <th>ServInt_AbsElev</th>\n",
       "      <th>ServInt_EdtElevCls</th>\n",
       "      <th>ServInt_CahierTxt</th>\n",
       "      <th>ServInt_DocRessPeda</th>\n",
       "      <th>ServInt_AgdActuEtab</th>\n",
       "      <th>ServInt_PlatApp</th>\n",
       "      <th>ServInt_Autres</th>\n",
       "      <th>ServInt_aucun</th>\n",
       "    </tr>\n",
       "    <tr>\n",
       "      <th>Code_UAI</th>\n",
       "      <th></th>\n",
       "      <th></th>\n",
       "      <th></th>\n",
       "      <th></th>\n",
       "      <th></th>\n",
       "      <th></th>\n",
       "      <th></th>\n",
       "      <th></th>\n",
       "      <th></th>\n",
       "    </tr>\n",
       "  </thead>\n",
       "  <tbody>\n",
       "    <tr>\n",
       "      <th>0810016C</th>\n",
       "      <td>oui</td>\n",
       "      <td>oui</td>\n",
       "      <td>oui</td>\n",
       "      <td>oui</td>\n",
       "      <td>oui</td>\n",
       "      <td>oui</td>\n",
       "      <td>non</td>\n",
       "      <td>oui</td>\n",
       "      <td>non</td>\n",
       "    </tr>\n",
       "    <tr>\n",
       "      <th>0810026N</th>\n",
       "      <td>oui</td>\n",
       "      <td>oui</td>\n",
       "      <td>oui</td>\n",
       "      <td>oui</td>\n",
       "      <td>oui</td>\n",
       "      <td>oui</td>\n",
       "      <td>non</td>\n",
       "      <td>non</td>\n",
       "      <td>non</td>\n",
       "    </tr>\n",
       "    <tr>\n",
       "      <th>0810041E</th>\n",
       "      <td>oui</td>\n",
       "      <td>oui</td>\n",
       "      <td>oui</td>\n",
       "      <td>oui</td>\n",
       "      <td>oui</td>\n",
       "      <td>oui</td>\n",
       "      <td>non</td>\n",
       "      <td>oui</td>\n",
       "      <td>non</td>\n",
       "    </tr>\n",
       "  </tbody>\n",
       "</table>\n",
       "</div>"
      ],
      "text/plain": [
       "         ServInt_NoteElev ServInt_AbsElev ServInt_EdtElevCls  \\\n",
       "Code_UAI                                                       \n",
       "0810016C              oui             oui                oui   \n",
       "0810026N              oui             oui                oui   \n",
       "0810041E              oui             oui                oui   \n",
       "\n",
       "         ServInt_CahierTxt ServInt_DocRessPeda ServInt_AgdActuEtab  \\\n",
       "Code_UAI                                                             \n",
       "0810016C               oui                 oui                 oui   \n",
       "0810026N               oui                 oui                 oui   \n",
       "0810041E               oui                 oui                 oui   \n",
       "\n",
       "         ServInt_PlatApp ServInt_Autres ServInt_aucun  \n",
       "Code_UAI                                               \n",
       "0810016C             non            oui           non  \n",
       "0810026N             non            non           non  \n",
       "0810041E             non            oui           non  "
      ]
     },
     "execution_count": 4,
     "metadata": {},
     "output_type": "execute_result"
    }
   ],
   "source": [
    "df_services.head(3)"
   ]
  },
  {
   "cell_type": "code",
   "execution_count": 5,
   "metadata": {},
   "outputs": [
    {
     "name": "stdout",
     "output_type": "stream",
     "text": [
      "Nombre de valeurs manquantes dans la colonne  ServInt_NoteElev : 0\n",
      "Nombre de valeurs manquantes dans la colonne  ServInt_AbsElev : 0\n",
      "Nombre de valeurs manquantes dans la colonne  ServInt_EdtElevCls : 0\n",
      "Nombre de valeurs manquantes dans la colonne  ServInt_CahierTxt : 0\n",
      "Nombre de valeurs manquantes dans la colonne  ServInt_DocRessPeda : 0\n",
      "Nombre de valeurs manquantes dans la colonne  ServInt_AgdActuEtab : 0\n",
      "Nombre de valeurs manquantes dans la colonne  ServInt_PlatApp : 0\n",
      "Nombre de valeurs manquantes dans la colonne  ServInt_Autres : 0\n",
      "Nombre de valeurs manquantes dans la colonne  ServInt_aucun : 0\n"
     ]
    }
   ],
   "source": [
    "for column in df_services.columns:\n",
    "    print(\"Nombre de valeurs manquantes dans la colonne \", column, \":\", df_services[column].isna().sum())"
   ]
  },
  {
   "attachments": {},
   "cell_type": "markdown",
   "metadata": {},
   "source": [
    "On va ensuite renommer les colonnes comme le suffixe `ServInt` se répète"
   ]
  },
  {
   "cell_type": "code",
   "execution_count": 6,
   "metadata": {},
   "outputs": [
    {
     "data": {
      "text/plain": [
       "Index(['noteelev', 'abselev', 'edtelevcls', 'cahiertxt', 'docresspeda',\n",
       "       'agdactuetab', 'platapp', 'autres', 'aucun'],\n",
       "      dtype='object')"
      ]
     },
     "execution_count": 6,
     "metadata": {},
     "output_type": "execute_result"
    }
   ],
   "source": [
    "old_columns = df_services.columns\n",
    "\n",
    "for column in old_columns:\n",
    "    df_services.rename(columns={column: column.replace(\"ServInt_\", \"\").lower()}, inplace=True)\n",
    "\n",
    "df_services.columns"
   ]
  },
  {
   "attachments": {},
   "cell_type": "markdown",
   "metadata": {},
   "source": [
    "On va maintenant transfomer les \"oui\" et \"non\" en valeurs binaires pour pouvoir faire une classification non supervisée. On va transformer les \"oui\" en 1 et les \"non\" en 0"
   ]
  },
  {
   "cell_type": "code",
   "execution_count": 7,
   "metadata": {},
   "outputs": [
    {
     "data": {
      "text/html": [
       "<div>\n",
       "<style scoped>\n",
       "    .dataframe tbody tr th:only-of-type {\n",
       "        vertical-align: middle;\n",
       "    }\n",
       "\n",
       "    .dataframe tbody tr th {\n",
       "        vertical-align: top;\n",
       "    }\n",
       "\n",
       "    .dataframe thead th {\n",
       "        text-align: right;\n",
       "    }\n",
       "</style>\n",
       "<table border=\"1\" class=\"dataframe\">\n",
       "  <thead>\n",
       "    <tr style=\"text-align: right;\">\n",
       "      <th></th>\n",
       "      <th>noteelev</th>\n",
       "      <th>abselev</th>\n",
       "      <th>edtelevcls</th>\n",
       "      <th>cahiertxt</th>\n",
       "      <th>docresspeda</th>\n",
       "      <th>agdactuetab</th>\n",
       "      <th>platapp</th>\n",
       "      <th>autres</th>\n",
       "      <th>aucun</th>\n",
       "    </tr>\n",
       "    <tr>\n",
       "      <th>Code_UAI</th>\n",
       "      <th></th>\n",
       "      <th></th>\n",
       "      <th></th>\n",
       "      <th></th>\n",
       "      <th></th>\n",
       "      <th></th>\n",
       "      <th></th>\n",
       "      <th></th>\n",
       "      <th></th>\n",
       "    </tr>\n",
       "  </thead>\n",
       "  <tbody>\n",
       "    <tr>\n",
       "      <th>0810016C</th>\n",
       "      <td>1.0</td>\n",
       "      <td>1.0</td>\n",
       "      <td>1.0</td>\n",
       "      <td>1.0</td>\n",
       "      <td>1.0</td>\n",
       "      <td>1.0</td>\n",
       "      <td>0.0</td>\n",
       "      <td>1.0</td>\n",
       "      <td>0.0</td>\n",
       "    </tr>\n",
       "    <tr>\n",
       "      <th>0810026N</th>\n",
       "      <td>1.0</td>\n",
       "      <td>1.0</td>\n",
       "      <td>1.0</td>\n",
       "      <td>1.0</td>\n",
       "      <td>1.0</td>\n",
       "      <td>1.0</td>\n",
       "      <td>0.0</td>\n",
       "      <td>0.0</td>\n",
       "      <td>0.0</td>\n",
       "    </tr>\n",
       "    <tr>\n",
       "      <th>0810041E</th>\n",
       "      <td>1.0</td>\n",
       "      <td>1.0</td>\n",
       "      <td>1.0</td>\n",
       "      <td>1.0</td>\n",
       "      <td>1.0</td>\n",
       "      <td>1.0</td>\n",
       "      <td>0.0</td>\n",
       "      <td>1.0</td>\n",
       "      <td>0.0</td>\n",
       "    </tr>\n",
       "  </tbody>\n",
       "</table>\n",
       "</div>"
      ],
      "text/plain": [
       "          noteelev  abselev  edtelevcls  cahiertxt  docresspeda  agdactuetab  \\\n",
       "Code_UAI                                                                       \n",
       "0810016C       1.0      1.0         1.0        1.0          1.0          1.0   \n",
       "0810026N       1.0      1.0         1.0        1.0          1.0          1.0   \n",
       "0810041E       1.0      1.0         1.0        1.0          1.0          1.0   \n",
       "\n",
       "          platapp  autres  aucun  \n",
       "Code_UAI                          \n",
       "0810016C      0.0     1.0    0.0  \n",
       "0810026N      0.0     0.0    0.0  \n",
       "0810041E      0.0     1.0    0.0  "
      ]
     },
     "execution_count": 7,
     "metadata": {},
     "output_type": "execute_result"
    }
   ],
   "source": [
    "for column in df_services.columns:\n",
    "    df_services[column] = df_services[column].replace({'oui': 1, 'non': 0})\n",
    "    df_services[column] = df_services[column].astype('float64')\n",
    "\n",
    "df_services.head(3)"
   ]
  },
  {
   "attachments": {},
   "cell_type": "markdown",
   "metadata": {},
   "source": [
    "### Corrélation\n",
    "\n",
    "On va d'abord voir si une corrélation existe entre ces différentes variables."
   ]
  },
  {
   "cell_type": "code",
   "execution_count": 8,
   "metadata": {},
   "outputs": [
    {
     "data": {
      "application/vnd.plotly.v1+json": {
       "config": {
        "plotlyServerURL": "https://plot.ly"
       },
       "data": [
        {
         "colorbar": {
          "thickness": 20,
          "ticklen": 3
         },
         "hoverinfo": "text",
         "hovertext": [
          [
           1,
           0.16176305345785608,
           -0.005598837354174492,
           null,
           -0.00794527078331599,
           -0.009195620984470545,
           0.03640980478146609,
           -0.0003071565269392776,
           null
          ],
          [
           0.16176305345785608,
           1,
           0.12669328911191116,
           null,
           -0.02357138152775178,
           0.060980653240469564,
           0.0797777341808729,
           -0.03628906929867377,
           null
          ],
          [
           -0.005598837354174492,
           0.12669328911191116,
           1,
           null,
           -0.009742057068295642,
           -0.011275168191529185,
           -0.08763395699341754,
           -0.027995312708483912,
           null
          ],
          [
           null,
           null,
           null,
           null,
           null,
           null,
           null,
           null,
           null
          ],
          [
           -0.00794527078331599,
           -0.02357138152775178,
           -0.009742057068295642,
           null,
           1,
           0.4240135686512991,
           0.01642500249088116,
           0.07785253320441185,
           null
          ],
          [
           -0.009195620984470545,
           0.060980653240469564,
           -0.011275168191529185,
           null,
           0.4240135686512991,
           1,
           -0.08961768140193815,
           0.033402477924837276,
           null
          ],
          [
           0.03640980478146609,
           0.0797777341808729,
           -0.08763395699341754,
           null,
           0.01642500249088116,
           -0.08961768140193815,
           1,
           0.09497408782013336,
           null
          ],
          [
           -0.0003071565269392776,
           -0.03628906929867377,
           -0.027995312708483912,
           null,
           0.07785253320441185,
           0.033402477924837276,
           0.09497408782013336,
           1,
           null
          ],
          [
           null,
           null,
           null,
           null,
           null,
           null,
           null,
           null,
           null
          ]
         ],
         "type": "heatmap",
         "x": [
          "noteelev",
          "abselev",
          "edtelevcls",
          "cahiertxt",
          "docresspeda",
          "agdactuetab",
          "platapp",
          "autres",
          "aucun"
         ],
         "xgap": 1,
         "y": [
          "noteelev",
          "abselev",
          "edtelevcls",
          "cahiertxt",
          "docresspeda",
          "agdactuetab",
          "platapp",
          "autres",
          "aucun"
         ],
         "ygap": 1,
         "z": [
          [
           1,
           0.16176305345785608,
           -0.005598837354174492,
           null,
           -0.00794527078331599,
           -0.009195620984470545,
           0.03640980478146609,
           -0.0003071565269392776,
           null
          ],
          [
           0.16176305345785608,
           1,
           0.12669328911191116,
           null,
           -0.02357138152775178,
           0.060980653240469564,
           0.0797777341808729,
           -0.03628906929867377,
           null
          ],
          [
           -0.005598837354174492,
           0.12669328911191116,
           1,
           null,
           -0.009742057068295642,
           -0.011275168191529185,
           -0.08763395699341754,
           -0.027995312708483912,
           null
          ],
          [
           null,
           null,
           null,
           null,
           null,
           null,
           null,
           null,
           null
          ],
          [
           -0.00794527078331599,
           -0.02357138152775178,
           -0.009742057068295642,
           null,
           1,
           0.4240135686512991,
           0.01642500249088116,
           0.07785253320441185,
           null
          ],
          [
           -0.009195620984470545,
           0.060980653240469564,
           -0.011275168191529185,
           null,
           0.4240135686512991,
           1,
           -0.08961768140193815,
           0.033402477924837276,
           null
          ],
          [
           0.03640980478146609,
           0.0797777341808729,
           -0.08763395699341754,
           null,
           0.01642500249088116,
           -0.08961768140193815,
           1,
           0.09497408782013336,
           null
          ],
          [
           -0.0003071565269392776,
           -0.03628906929867377,
           -0.027995312708483912,
           null,
           0.07785253320441185,
           0.033402477924837276,
           0.09497408782013336,
           1,
           null
          ],
          [
           null,
           null,
           null,
           null,
           null,
           null,
           null,
           null,
           null
          ]
         ]
        }
       ],
       "layout": {
        "height": 600,
        "template": {
         "data": {
          "bar": [
           {
            "error_x": {
             "color": "#2a3f5f"
            },
            "error_y": {
             "color": "#2a3f5f"
            },
            "marker": {
             "line": {
              "color": "#E5ECF6",
              "width": 0.5
             },
             "pattern": {
              "fillmode": "overlay",
              "size": 10,
              "solidity": 0.2
             }
            },
            "type": "bar"
           }
          ],
          "barpolar": [
           {
            "marker": {
             "line": {
              "color": "#E5ECF6",
              "width": 0.5
             },
             "pattern": {
              "fillmode": "overlay",
              "size": 10,
              "solidity": 0.2
             }
            },
            "type": "barpolar"
           }
          ],
          "carpet": [
           {
            "aaxis": {
             "endlinecolor": "#2a3f5f",
             "gridcolor": "white",
             "linecolor": "white",
             "minorgridcolor": "white",
             "startlinecolor": "#2a3f5f"
            },
            "baxis": {
             "endlinecolor": "#2a3f5f",
             "gridcolor": "white",
             "linecolor": "white",
             "minorgridcolor": "white",
             "startlinecolor": "#2a3f5f"
            },
            "type": "carpet"
           }
          ],
          "choropleth": [
           {
            "colorbar": {
             "outlinewidth": 0,
             "ticks": ""
            },
            "type": "choropleth"
           }
          ],
          "contour": [
           {
            "colorbar": {
             "outlinewidth": 0,
             "ticks": ""
            },
            "colorscale": [
             [
              0,
              "#0d0887"
             ],
             [
              0.1111111111111111,
              "#46039f"
             ],
             [
              0.2222222222222222,
              "#7201a8"
             ],
             [
              0.3333333333333333,
              "#9c179e"
             ],
             [
              0.4444444444444444,
              "#bd3786"
             ],
             [
              0.5555555555555556,
              "#d8576b"
             ],
             [
              0.6666666666666666,
              "#ed7953"
             ],
             [
              0.7777777777777778,
              "#fb9f3a"
             ],
             [
              0.8888888888888888,
              "#fdca26"
             ],
             [
              1,
              "#f0f921"
             ]
            ],
            "type": "contour"
           }
          ],
          "contourcarpet": [
           {
            "colorbar": {
             "outlinewidth": 0,
             "ticks": ""
            },
            "type": "contourcarpet"
           }
          ],
          "heatmap": [
           {
            "colorbar": {
             "outlinewidth": 0,
             "ticks": ""
            },
            "colorscale": [
             [
              0,
              "#0d0887"
             ],
             [
              0.1111111111111111,
              "#46039f"
             ],
             [
              0.2222222222222222,
              "#7201a8"
             ],
             [
              0.3333333333333333,
              "#9c179e"
             ],
             [
              0.4444444444444444,
              "#bd3786"
             ],
             [
              0.5555555555555556,
              "#d8576b"
             ],
             [
              0.6666666666666666,
              "#ed7953"
             ],
             [
              0.7777777777777778,
              "#fb9f3a"
             ],
             [
              0.8888888888888888,
              "#fdca26"
             ],
             [
              1,
              "#f0f921"
             ]
            ],
            "type": "heatmap"
           }
          ],
          "heatmapgl": [
           {
            "colorbar": {
             "outlinewidth": 0,
             "ticks": ""
            },
            "colorscale": [
             [
              0,
              "#0d0887"
             ],
             [
              0.1111111111111111,
              "#46039f"
             ],
             [
              0.2222222222222222,
              "#7201a8"
             ],
             [
              0.3333333333333333,
              "#9c179e"
             ],
             [
              0.4444444444444444,
              "#bd3786"
             ],
             [
              0.5555555555555556,
              "#d8576b"
             ],
             [
              0.6666666666666666,
              "#ed7953"
             ],
             [
              0.7777777777777778,
              "#fb9f3a"
             ],
             [
              0.8888888888888888,
              "#fdca26"
             ],
             [
              1,
              "#f0f921"
             ]
            ],
            "type": "heatmapgl"
           }
          ],
          "histogram": [
           {
            "marker": {
             "pattern": {
              "fillmode": "overlay",
              "size": 10,
              "solidity": 0.2
             }
            },
            "type": "histogram"
           }
          ],
          "histogram2d": [
           {
            "colorbar": {
             "outlinewidth": 0,
             "ticks": ""
            },
            "colorscale": [
             [
              0,
              "#0d0887"
             ],
             [
              0.1111111111111111,
              "#46039f"
             ],
             [
              0.2222222222222222,
              "#7201a8"
             ],
             [
              0.3333333333333333,
              "#9c179e"
             ],
             [
              0.4444444444444444,
              "#bd3786"
             ],
             [
              0.5555555555555556,
              "#d8576b"
             ],
             [
              0.6666666666666666,
              "#ed7953"
             ],
             [
              0.7777777777777778,
              "#fb9f3a"
             ],
             [
              0.8888888888888888,
              "#fdca26"
             ],
             [
              1,
              "#f0f921"
             ]
            ],
            "type": "histogram2d"
           }
          ],
          "histogram2dcontour": [
           {
            "colorbar": {
             "outlinewidth": 0,
             "ticks": ""
            },
            "colorscale": [
             [
              0,
              "#0d0887"
             ],
             [
              0.1111111111111111,
              "#46039f"
             ],
             [
              0.2222222222222222,
              "#7201a8"
             ],
             [
              0.3333333333333333,
              "#9c179e"
             ],
             [
              0.4444444444444444,
              "#bd3786"
             ],
             [
              0.5555555555555556,
              "#d8576b"
             ],
             [
              0.6666666666666666,
              "#ed7953"
             ],
             [
              0.7777777777777778,
              "#fb9f3a"
             ],
             [
              0.8888888888888888,
              "#fdca26"
             ],
             [
              1,
              "#f0f921"
             ]
            ],
            "type": "histogram2dcontour"
           }
          ],
          "mesh3d": [
           {
            "colorbar": {
             "outlinewidth": 0,
             "ticks": ""
            },
            "type": "mesh3d"
           }
          ],
          "parcoords": [
           {
            "line": {
             "colorbar": {
              "outlinewidth": 0,
              "ticks": ""
             }
            },
            "type": "parcoords"
           }
          ],
          "pie": [
           {
            "automargin": true,
            "type": "pie"
           }
          ],
          "scatter": [
           {
            "fillpattern": {
             "fillmode": "overlay",
             "size": 10,
             "solidity": 0.2
            },
            "type": "scatter"
           }
          ],
          "scatter3d": [
           {
            "line": {
             "colorbar": {
              "outlinewidth": 0,
              "ticks": ""
             }
            },
            "marker": {
             "colorbar": {
              "outlinewidth": 0,
              "ticks": ""
             }
            },
            "type": "scatter3d"
           }
          ],
          "scattercarpet": [
           {
            "marker": {
             "colorbar": {
              "outlinewidth": 0,
              "ticks": ""
             }
            },
            "type": "scattercarpet"
           }
          ],
          "scattergeo": [
           {
            "marker": {
             "colorbar": {
              "outlinewidth": 0,
              "ticks": ""
             }
            },
            "type": "scattergeo"
           }
          ],
          "scattergl": [
           {
            "marker": {
             "colorbar": {
              "outlinewidth": 0,
              "ticks": ""
             }
            },
            "type": "scattergl"
           }
          ],
          "scattermapbox": [
           {
            "marker": {
             "colorbar": {
              "outlinewidth": 0,
              "ticks": ""
             }
            },
            "type": "scattermapbox"
           }
          ],
          "scatterpolar": [
           {
            "marker": {
             "colorbar": {
              "outlinewidth": 0,
              "ticks": ""
             }
            },
            "type": "scatterpolar"
           }
          ],
          "scatterpolargl": [
           {
            "marker": {
             "colorbar": {
              "outlinewidth": 0,
              "ticks": ""
             }
            },
            "type": "scatterpolargl"
           }
          ],
          "scatterternary": [
           {
            "marker": {
             "colorbar": {
              "outlinewidth": 0,
              "ticks": ""
             }
            },
            "type": "scatterternary"
           }
          ],
          "surface": [
           {
            "colorbar": {
             "outlinewidth": 0,
             "ticks": ""
            },
            "colorscale": [
             [
              0,
              "#0d0887"
             ],
             [
              0.1111111111111111,
              "#46039f"
             ],
             [
              0.2222222222222222,
              "#7201a8"
             ],
             [
              0.3333333333333333,
              "#9c179e"
             ],
             [
              0.4444444444444444,
              "#bd3786"
             ],
             [
              0.5555555555555556,
              "#d8576b"
             ],
             [
              0.6666666666666666,
              "#ed7953"
             ],
             [
              0.7777777777777778,
              "#fb9f3a"
             ],
             [
              0.8888888888888888,
              "#fdca26"
             ],
             [
              1,
              "#f0f921"
             ]
            ],
            "type": "surface"
           }
          ],
          "table": [
           {
            "cells": {
             "fill": {
              "color": "#EBF0F8"
             },
             "line": {
              "color": "white"
             }
            },
            "header": {
             "fill": {
              "color": "#C8D4E3"
             },
             "line": {
              "color": "white"
             }
            },
            "type": "table"
           }
          ]
         },
         "layout": {
          "annotationdefaults": {
           "arrowcolor": "#2a3f5f",
           "arrowhead": 0,
           "arrowwidth": 1
          },
          "autotypenumbers": "strict",
          "coloraxis": {
           "colorbar": {
            "outlinewidth": 0,
            "ticks": ""
           }
          },
          "colorscale": {
           "diverging": [
            [
             0,
             "#8e0152"
            ],
            [
             0.1,
             "#c51b7d"
            ],
            [
             0.2,
             "#de77ae"
            ],
            [
             0.3,
             "#f1b6da"
            ],
            [
             0.4,
             "#fde0ef"
            ],
            [
             0.5,
             "#f7f7f7"
            ],
            [
             0.6,
             "#e6f5d0"
            ],
            [
             0.7,
             "#b8e186"
            ],
            [
             0.8,
             "#7fbc41"
            ],
            [
             0.9,
             "#4d9221"
            ],
            [
             1,
             "#276419"
            ]
           ],
           "sequential": [
            [
             0,
             "#0d0887"
            ],
            [
             0.1111111111111111,
             "#46039f"
            ],
            [
             0.2222222222222222,
             "#7201a8"
            ],
            [
             0.3333333333333333,
             "#9c179e"
            ],
            [
             0.4444444444444444,
             "#bd3786"
            ],
            [
             0.5555555555555556,
             "#d8576b"
            ],
            [
             0.6666666666666666,
             "#ed7953"
            ],
            [
             0.7777777777777778,
             "#fb9f3a"
            ],
            [
             0.8888888888888888,
             "#fdca26"
            ],
            [
             1,
             "#f0f921"
            ]
           ],
           "sequentialminus": [
            [
             0,
             "#0d0887"
            ],
            [
             0.1111111111111111,
             "#46039f"
            ],
            [
             0.2222222222222222,
             "#7201a8"
            ],
            [
             0.3333333333333333,
             "#9c179e"
            ],
            [
             0.4444444444444444,
             "#bd3786"
            ],
            [
             0.5555555555555556,
             "#d8576b"
            ],
            [
             0.6666666666666666,
             "#ed7953"
            ],
            [
             0.7777777777777778,
             "#fb9f3a"
            ],
            [
             0.8888888888888888,
             "#fdca26"
            ],
            [
             1,
             "#f0f921"
            ]
           ]
          },
          "colorway": [
           "#636efa",
           "#EF553B",
           "#00cc96",
           "#ab63fa",
           "#FFA15A",
           "#19d3f3",
           "#FF6692",
           "#B6E880",
           "#FF97FF",
           "#FECB52"
          ],
          "font": {
           "color": "#2a3f5f"
          },
          "geo": {
           "bgcolor": "white",
           "lakecolor": "white",
           "landcolor": "#E5ECF6",
           "showlakes": true,
           "showland": true,
           "subunitcolor": "white"
          },
          "hoverlabel": {
           "align": "left"
          },
          "hovermode": "closest",
          "mapbox": {
           "style": "light"
          },
          "paper_bgcolor": "white",
          "plot_bgcolor": "#E5ECF6",
          "polar": {
           "angularaxis": {
            "gridcolor": "white",
            "linecolor": "white",
            "ticks": ""
           },
           "bgcolor": "#E5ECF6",
           "radialaxis": {
            "gridcolor": "white",
            "linecolor": "white",
            "ticks": ""
           }
          },
          "scene": {
           "xaxis": {
            "backgroundcolor": "#E5ECF6",
            "gridcolor": "white",
            "gridwidth": 2,
            "linecolor": "white",
            "showbackground": true,
            "ticks": "",
            "zerolinecolor": "white"
           },
           "yaxis": {
            "backgroundcolor": "#E5ECF6",
            "gridcolor": "white",
            "gridwidth": 2,
            "linecolor": "white",
            "showbackground": true,
            "ticks": "",
            "zerolinecolor": "white"
           },
           "zaxis": {
            "backgroundcolor": "#E5ECF6",
            "gridcolor": "white",
            "gridwidth": 2,
            "linecolor": "white",
            "showbackground": true,
            "ticks": "",
            "zerolinecolor": "white"
           }
          },
          "shapedefaults": {
           "line": {
            "color": "#2a3f5f"
           }
          },
          "ternary": {
           "aaxis": {
            "gridcolor": "white",
            "linecolor": "white",
            "ticks": ""
           },
           "baxis": {
            "gridcolor": "white",
            "linecolor": "white",
            "ticks": ""
           },
           "bgcolor": "#E5ECF6",
           "caxis": {
            "gridcolor": "white",
            "linecolor": "white",
            "ticks": ""
           }
          },
          "title": {
           "x": 0.05
          },
          "xaxis": {
           "automargin": true,
           "gridcolor": "white",
           "linecolor": "white",
           "ticks": "",
           "title": {
            "standoff": 15
           },
           "zerolinecolor": "white",
           "zerolinewidth": 2
          },
          "yaxis": {
           "automargin": true,
           "gridcolor": "white",
           "linecolor": "white",
           "ticks": "",
           "title": {
            "standoff": 15
           },
           "zerolinecolor": "white",
           "zerolinewidth": 2
          }
         }
        },
        "title": {
         "text": "Matrice de corrélation"
        },
        "width": 600,
        "xaxis": {
         "showgrid": false
        },
        "yaxis": {
         "autorange": "reversed",
         "showgrid": false
        }
       }
      }
     },
     "metadata": {},
     "output_type": "display_data"
    }
   ],
   "source": [
    "columns_names = df_services.columns\n",
    "\n",
    "heat = go.Heatmap(\n",
    "    z = df_services.corr(),\n",
    "    x = columns_names,\n",
    "    y = columns_names,\n",
    "    xgap=1,\n",
    "    ygap=1,\n",
    "    colorbar_thickness=20,\n",
    "    colorbar_ticklen=3,\n",
    "    hovertext= df_services.corr(),\n",
    "    hoverinfo='text'\n",
    ")\n",
    "\n",
    "layout = go.Layout(\n",
    "    title='Matrice de corrélation',\n",
    "    width=600,\n",
    "    height=600,\n",
    "    xaxis_showgrid=False,\n",
    "    yaxis_showgrid=False,\n",
    "    yaxis_autorange='reversed'\n",
    ")\n",
    "\n",
    "fig = go.Figure(data=[heat], layout=layout)\n",
    "fig.show()"
   ]
  },
  {
   "attachments": {},
   "cell_type": "markdown",
   "metadata": {},
   "source": [
    "On peut remarquer une petite corrélation entre le \"cahiertxt\" et \"noteelev\", ce qui n'est pas trés surprenant car la plupart des établissements qui offrent la possibilité de consulter son cahier de texte en ligne (par exemple ENT) offre aussi la possibilité d'accéder aux notes de l'élève."
   ]
  },
  {
   "attachments": {},
   "cell_type": "markdown",
   "metadata": {},
   "source": [
    "### *Clustering*\n",
    "\n",
    "On peut maintenant faire du clustering avec l'algorithme de KMeans en essayant plusieurs paramètres pour l'algo. Nous allons laisser seulement les résultats avec les meilleurs paramètres. Nos essais précédents n'apparaîtront pas car ils sont multiples et n'aboutissent pas toujours à des résultats de qualité."
   ]
  },
  {
   "cell_type": "code",
   "execution_count": 9,
   "metadata": {},
   "outputs": [
    {
     "data": {
      "text/html": [
       "<div>\n",
       "<style scoped>\n",
       "    .dataframe tbody tr th:only-of-type {\n",
       "        vertical-align: middle;\n",
       "    }\n",
       "\n",
       "    .dataframe tbody tr th {\n",
       "        vertical-align: top;\n",
       "    }\n",
       "\n",
       "    .dataframe thead th {\n",
       "        text-align: right;\n",
       "    }\n",
       "</style>\n",
       "<table border=\"1\" class=\"dataframe\">\n",
       "  <thead>\n",
       "    <tr style=\"text-align: right;\">\n",
       "      <th></th>\n",
       "      <th>noteelev</th>\n",
       "      <th>abselev</th>\n",
       "      <th>edtelevcls</th>\n",
       "      <th>cahiertxt</th>\n",
       "      <th>docresspeda</th>\n",
       "      <th>agdactuetab</th>\n",
       "      <th>platapp</th>\n",
       "      <th>autres</th>\n",
       "      <th>aucun</th>\n",
       "    </tr>\n",
       "  </thead>\n",
       "  <tbody>\n",
       "    <tr>\n",
       "      <th>0</th>\n",
       "      <td>1.000000</td>\n",
       "      <td>0.989899</td>\n",
       "      <td>0.979798</td>\n",
       "      <td>1.0</td>\n",
       "      <td>0.989899</td>\n",
       "      <td>0.959596</td>\n",
       "      <td>1.000000e+00</td>\n",
       "      <td>5.858586e-01</td>\n",
       "      <td>0.0</td>\n",
       "    </tr>\n",
       "    <tr>\n",
       "      <th>1</th>\n",
       "      <td>0.994444</td>\n",
       "      <td>0.961111</td>\n",
       "      <td>0.994444</td>\n",
       "      <td>1.0</td>\n",
       "      <td>0.977778</td>\n",
       "      <td>0.983333</td>\n",
       "      <td>-8.326673e-17</td>\n",
       "      <td>-1.110223e-16</td>\n",
       "      <td>0.0</td>\n",
       "    </tr>\n",
       "    <tr>\n",
       "      <th>2</th>\n",
       "      <td>0.993789</td>\n",
       "      <td>0.944099</td>\n",
       "      <td>1.000000</td>\n",
       "      <td>1.0</td>\n",
       "      <td>0.993789</td>\n",
       "      <td>0.993789</td>\n",
       "      <td>5.551115e-17</td>\n",
       "      <td>1.000000e+00</td>\n",
       "      <td>0.0</td>\n",
       "    </tr>\n",
       "  </tbody>\n",
       "</table>\n",
       "</div>"
      ],
      "text/plain": [
       "   noteelev   abselev  edtelevcls  cahiertxt  docresspeda  agdactuetab  \\\n",
       "0  1.000000  0.989899    0.979798        1.0     0.989899     0.959596   \n",
       "1  0.994444  0.961111    0.994444        1.0     0.977778     0.983333   \n",
       "2  0.993789  0.944099    1.000000        1.0     0.993789     0.993789   \n",
       "\n",
       "        platapp        autres  aucun  \n",
       "0  1.000000e+00  5.858586e-01    0.0  \n",
       "1 -8.326673e-17 -1.110223e-16    0.0  \n",
       "2  5.551115e-17  1.000000e+00    0.0  "
      ]
     },
     "execution_count": 9,
     "metadata": {},
     "output_type": "execute_result"
    }
   ],
   "source": [
    "km_services = KMeans(\n",
    "    n_clusters=3, \n",
    "    random_state=42,\n",
    "    n_init=20,\n",
    "    max_iter=3600,\n",
    "    init='k-means++'\n",
    ")\n",
    "\n",
    "y_km_services = km_services.fit_predict(df_services)\n",
    "\n",
    "resultat = pd.DataFrame(km_services.cluster_centers_, columns=km_services.feature_names_in_)\n",
    "\n",
    "resultat"
   ]
  },
  {
   "attachments": {},
   "cell_type": "markdown",
   "metadata": {},
   "source": [
    "On va convertir en \"oui\" et \"non\" pour que ces résultats soient plus parlant. Nous allons essayer d'interprèter ces centres pour pouvoir comprendre le nombre de classes et les caractèristiques moyennes d'une classe pour pouvoir lui accorder une modalité"
   ]
  },
  {
   "cell_type": "code",
   "execution_count": 10,
   "metadata": {},
   "outputs": [
    {
     "data": {
      "text/html": [
       "<div>\n",
       "<style scoped>\n",
       "    .dataframe tbody tr th:only-of-type {\n",
       "        vertical-align: middle;\n",
       "    }\n",
       "\n",
       "    .dataframe tbody tr th {\n",
       "        vertical-align: top;\n",
       "    }\n",
       "\n",
       "    .dataframe thead th {\n",
       "        text-align: right;\n",
       "    }\n",
       "</style>\n",
       "<table border=\"1\" class=\"dataframe\">\n",
       "  <thead>\n",
       "    <tr style=\"text-align: right;\">\n",
       "      <th></th>\n",
       "      <th>noteelev</th>\n",
       "      <th>abselev</th>\n",
       "      <th>edtelevcls</th>\n",
       "      <th>cahiertxt</th>\n",
       "      <th>docresspeda</th>\n",
       "      <th>agdactuetab</th>\n",
       "      <th>platapp</th>\n",
       "      <th>autres</th>\n",
       "      <th>aucun</th>\n",
       "    </tr>\n",
       "  </thead>\n",
       "  <tbody>\n",
       "    <tr>\n",
       "      <th>0</th>\n",
       "      <td>oui</td>\n",
       "      <td>oui</td>\n",
       "      <td>oui</td>\n",
       "      <td>oui</td>\n",
       "      <td>oui</td>\n",
       "      <td>oui</td>\n",
       "      <td>oui</td>\n",
       "      <td>oui</td>\n",
       "      <td>non</td>\n",
       "    </tr>\n",
       "    <tr>\n",
       "      <th>1</th>\n",
       "      <td>oui</td>\n",
       "      <td>oui</td>\n",
       "      <td>oui</td>\n",
       "      <td>oui</td>\n",
       "      <td>oui</td>\n",
       "      <td>oui</td>\n",
       "      <td>non</td>\n",
       "      <td>non</td>\n",
       "      <td>non</td>\n",
       "    </tr>\n",
       "    <tr>\n",
       "      <th>2</th>\n",
       "      <td>oui</td>\n",
       "      <td>oui</td>\n",
       "      <td>oui</td>\n",
       "      <td>oui</td>\n",
       "      <td>oui</td>\n",
       "      <td>oui</td>\n",
       "      <td>non</td>\n",
       "      <td>oui</td>\n",
       "      <td>non</td>\n",
       "    </tr>\n",
       "  </tbody>\n",
       "</table>\n",
       "</div>"
      ],
      "text/plain": [
       "  noteelev abselev edtelevcls cahiertxt docresspeda agdactuetab platapp  \\\n",
       "0      oui     oui        oui       oui         oui         oui     oui   \n",
       "1      oui     oui        oui       oui         oui         oui     non   \n",
       "2      oui     oui        oui       oui         oui         oui     non   \n",
       "\n",
       "  autres aucun  \n",
       "0    oui   non  \n",
       "1    non   non  \n",
       "2    oui   non  "
      ]
     },
     "execution_count": 10,
     "metadata": {},
     "output_type": "execute_result"
    }
   ],
   "source": [
    "def change_value(row):\n",
    "    if(row > 0.5):\n",
    "        return 1\n",
    "    else:\n",
    "        return 0\n",
    "\n",
    "\n",
    "for column in resultat.columns:\n",
    "    resultat[column] = resultat[column].apply(change_value)\n",
    "    resultat[column] = resultat[column].replace({1: 'oui', 0: 'non'})\n",
    "    resultat[column] = resultat[column].astype(str)\n",
    "\n",
    "\n",
    "resultat"
   ]
  },
  {
   "attachments": {},
   "cell_type": "markdown",
   "metadata": {},
   "source": [
    "Après plusieurs essais avec plusieurs nombre de clusters, nous avons vu qu'avec un faible nombre de clusters (comme 2,3 ou 4) les clusters se ressemblaient quand même et il n'y avait pas de grandes différences pour les moyennes. Nous avons donc essayé d'augmenter le nombre de clusters, mais sans pas trop de résulats car les clusters étaient quasiment identiques pour ce qui est des moyennes des centres. Quand on crée un grand nombre de clusters, il existe souvent un ou deux classes qui sont bien différentes de toutes les autres, mais le seul inconvénient est que ces classes ne contiennent que peu d'établissement (en général 4 sur un totale de 912, des établissements atypiques). Nous avons donc décidé de créer seulement 3 clusters en remarquant qu'il y en a 2 qui se ressemblent. Nous avons donc décidé de rassembler la classe 1 et 2 en une seule classe. \n",
    "\n",
    "On va accorder les modalités suivantes à chaque classe :\n",
    "- \"Trés bien\" : la classe 0\n",
    "- \"Bien\" : les classes 1 et 2"
   ]
  },
  {
   "cell_type": "code",
   "execution_count": 11,
   "metadata": {},
   "outputs": [
    {
     "data": {
      "text/html": [
       "<div>\n",
       "<style scoped>\n",
       "    .dataframe tbody tr th:only-of-type {\n",
       "        vertical-align: middle;\n",
       "    }\n",
       "\n",
       "    .dataframe tbody tr th {\n",
       "        vertical-align: top;\n",
       "    }\n",
       "\n",
       "    .dataframe thead th {\n",
       "        text-align: right;\n",
       "    }\n",
       "</style>\n",
       "<table border=\"1\" class=\"dataframe\">\n",
       "  <thead>\n",
       "    <tr style=\"text-align: right;\">\n",
       "      <th></th>\n",
       "      <th>noteelev</th>\n",
       "      <th>abselev</th>\n",
       "      <th>edtelevcls</th>\n",
       "      <th>cahiertxt</th>\n",
       "      <th>docresspeda</th>\n",
       "      <th>agdactuetab</th>\n",
       "      <th>platapp</th>\n",
       "      <th>autres</th>\n",
       "      <th>aucun</th>\n",
       "      <th>cluster</th>\n",
       "    </tr>\n",
       "    <tr>\n",
       "      <th>Code_UAI</th>\n",
       "      <th></th>\n",
       "      <th></th>\n",
       "      <th></th>\n",
       "      <th></th>\n",
       "      <th></th>\n",
       "      <th></th>\n",
       "      <th></th>\n",
       "      <th></th>\n",
       "      <th></th>\n",
       "      <th></th>\n",
       "    </tr>\n",
       "  </thead>\n",
       "  <tbody>\n",
       "    <tr>\n",
       "      <th>0810016C</th>\n",
       "      <td>1.0</td>\n",
       "      <td>1.0</td>\n",
       "      <td>1.0</td>\n",
       "      <td>1.0</td>\n",
       "      <td>1.0</td>\n",
       "      <td>1.0</td>\n",
       "      <td>0.0</td>\n",
       "      <td>1.0</td>\n",
       "      <td>0.0</td>\n",
       "      <td>2</td>\n",
       "    </tr>\n",
       "    <tr>\n",
       "      <th>0810026N</th>\n",
       "      <td>1.0</td>\n",
       "      <td>1.0</td>\n",
       "      <td>1.0</td>\n",
       "      <td>1.0</td>\n",
       "      <td>1.0</td>\n",
       "      <td>1.0</td>\n",
       "      <td>0.0</td>\n",
       "      <td>0.0</td>\n",
       "      <td>0.0</td>\n",
       "      <td>1</td>\n",
       "    </tr>\n",
       "    <tr>\n",
       "      <th>0810041E</th>\n",
       "      <td>1.0</td>\n",
       "      <td>1.0</td>\n",
       "      <td>1.0</td>\n",
       "      <td>1.0</td>\n",
       "      <td>1.0</td>\n",
       "      <td>1.0</td>\n",
       "      <td>0.0</td>\n",
       "      <td>1.0</td>\n",
       "      <td>0.0</td>\n",
       "      <td>2</td>\n",
       "    </tr>\n",
       "  </tbody>\n",
       "</table>\n",
       "</div>"
      ],
      "text/plain": [
       "          noteelev  abselev  edtelevcls  cahiertxt  docresspeda  agdactuetab  \\\n",
       "Code_UAI                                                                       \n",
       "0810016C       1.0      1.0         1.0        1.0          1.0          1.0   \n",
       "0810026N       1.0      1.0         1.0        1.0          1.0          1.0   \n",
       "0810041E       1.0      1.0         1.0        1.0          1.0          1.0   \n",
       "\n",
       "          platapp  autres  aucun cluster  \n",
       "Code_UAI                                  \n",
       "0810016C      0.0     1.0    0.0       2  \n",
       "0810026N      0.0     0.0    0.0       1  \n",
       "0810041E      0.0     1.0    0.0       2  "
      ]
     },
     "execution_count": 11,
     "metadata": {},
     "output_type": "execute_result"
    }
   ],
   "source": [
    "df_services['cluster'] = y_km_services\n",
    "\n",
    "df_services.cluster = df_services.cluster.astype(str)\n",
    "\n",
    "\n",
    "df_services.cluster.value_counts()\n",
    "df_services.head(3)"
   ]
  },
  {
   "attachments": {},
   "cell_type": "markdown",
   "metadata": {},
   "source": [
    "On peut maintenant passer à l'ACP pour voir les résultats. "
   ]
  },
  {
   "cell_type": "code",
   "execution_count": 12,
   "metadata": {},
   "outputs": [
    {
     "data": {
      "application/vnd.plotly.v1+json": {
       "config": {
        "plotlyServerURL": "https://plot.ly"
       },
       "data": [
        {
         "hovertemplate": "color=2<br>PC 1 (50.6%)=%{x}<br>PC 2 (33.7%)=%{y}<extra></extra>",
         "legendgroup": "2",
         "marker": {
          "color": "#636efa",
          "symbol": "circle"
         },
         "mode": "markers",
         "name": "2",
         "orientation": "v",
         "showlegend": true,
         "type": "scatter",
         "x": [
          0.43401468288165856,
          0.434014682881655,
          0.4340146828816546,
          0.43401468288165096,
          0.4340146828816548,
          0.4340146828816559,
          0.4340146828816559,
          0.4340146828816559,
          0.4340146828816559,
          0.4340146828816559,
          0.4340146828816559,
          0.4340146828816559,
          0.4340146828816559,
          0.4340146828816559,
          0.4340146828816559,
          0.4340146828816559,
          0.4340146828816559,
          0.4340146828816559,
          0.4340146828816559,
          0.4340146828816559,
          0.4340146828816559,
          0.4340146828816559,
          0.4340146828816559,
          0.4340146828816559,
          0.4340146828816559,
          0.4340146828816559,
          0.4426501947748165,
          0.4340146828816559,
          0.4340146828816559,
          0.4340146828816559,
          0.4340146828816559,
          0.4426501947748165,
          0.4426501947748165,
          0.4426501947748165,
          0.4340146828816559,
          0.4340146828816559,
          0.410351152213359,
          0.4340146828816559,
          0.4340146828816559,
          0.4340146828816559,
          0.4340146828816559,
          0.4340146828816559,
          0.4340146828816559,
          0.4340146828816559,
          0.4340146828816559,
          0.4340146828816559,
          0.4340146828816559,
          0.4340146828816559,
          0.4340146828816559,
          0.4340146828816559,
          0.4340146828816559,
          0.4340146828816559,
          0.4340146828816559,
          0.4340146828816559,
          0.4340146828816559,
          0.4340146828816559,
          0.4340146828816559,
          0.4340146828816559,
          0.4340146828816559,
          0.4340146828816559,
          0.4340146828816559,
          0.4340146828816559,
          0.4340146828816559,
          0.4340146828816559,
          0.4340146828816559,
          0.4340146828816559,
          0.4340146828816559,
          0.4340146828816559,
          0.4340146828816559,
          0.4340146828816559,
          0.4340146828816559,
          0.4340146828816559,
          0.4340146828816559,
          0.4340146828816559,
          0.4340146828816559,
          0.4340146828816559,
          0.43315932476579794,
          0.4340146828816559,
          0.4340146828816559,
          0.4340146828816559,
          0.4340146828816559,
          0.4426501947748165,
          0.4340146828816559,
          0.4340146828816559,
          0.4340146828816559,
          0.4340146828816559,
          0.4340146828816559,
          0.4340146828816559,
          0.4340146828816559,
          0.4340146828816559,
          0.4340146828816559,
          0.4340146828816559,
          0.4340146828816559,
          0.4340146828816559,
          0.4340146828816559,
          0.4340146828816559,
          0.4340146828816559,
          0.4340146828816559,
          0.4340146828816559,
          0.4340146828816559,
          0.4340146828816559,
          0.4340146828816559,
          0.4340146828816559,
          0.4340146828816559,
          0.4340146828816559,
          0.4340146828816559,
          0.4340146828816559,
          0.4340146828816559,
          0.4340146828816559,
          0.4340146828816559,
          0.4340146828816559,
          0.4340146828816559,
          0.4340146828816559,
          0.4340146828816559,
          0.4340146828816559,
          0.4340146828816559,
          0.4340146828816559,
          0.4340146828816559,
          0.4340146828816559,
          0.4340146828816559,
          0.4340146828816559,
          0.4340146828816559,
          0.4340146828816559,
          0.4340146828816559,
          0.4340146828816559,
          0.4340146828816559,
          0.4340146828816559,
          0.4340146828816559,
          0.4340146828816559,
          0.4340146828816559,
          0.4340146828816559,
          0.4340146828816559,
          0.4340146828816559,
          0.4340146828816559,
          0.4340146828816559,
          0.4340146828816559,
          0.4340146828816559,
          0.4340146828816559,
          0.4340146828816559,
          0.4340146828816559,
          0.4426501947748165,
          0.4340146828816559,
          0.4426501947748165,
          0.4340146828816559,
          0.4340146828816559,
          0.4340146828816559,
          0.4340146828816559,
          0.4340146828816559,
          0.4340146828816559,
          0.4340146828816559,
          0.4340146828816559,
          0.4340146828816559,
          0.4340146828816559,
          0.4340146828816559,
          0.4340146828816559,
          0.4426501947748165,
          0.4340146828816559,
          0.4340146828816559,
          0.4340146828816559,
          0.4426501947748165,
          0.4340146828816559
         ],
         "xaxis": "x",
         "y": [
          -0.3360000580231605,
          -0.33600005802316246,
          -0.3360000580231622,
          -0.3360000580231614,
          -0.3360000580231614,
          -0.336000058023162,
          -0.336000058023162,
          -0.336000058023162,
          -0.336000058023162,
          -0.336000058023162,
          -0.336000058023162,
          -0.336000058023162,
          -0.336000058023162,
          -0.336000058023162,
          -0.336000058023162,
          -0.336000058023162,
          -0.336000058023162,
          -0.336000058023162,
          -0.336000058023162,
          -0.336000058023162,
          -0.336000058023162,
          -0.336000058023162,
          -0.336000058023162,
          -0.336000058023162,
          -0.336000058023162,
          -0.336000058023162,
          -0.388518200582448,
          -0.336000058023162,
          -0.336000058023162,
          -0.336000058023162,
          -0.336000058023162,
          -0.388518200582448,
          -0.388518200582448,
          -0.388518200582448,
          -0.336000058023162,
          -0.336000058023162,
          -0.2975373460140498,
          -0.336000058023162,
          -0.336000058023162,
          -0.336000058023162,
          -0.336000058023162,
          -0.336000058023162,
          -0.336000058023162,
          -0.336000058023162,
          -0.336000058023162,
          -0.336000058023162,
          -0.336000058023162,
          -0.336000058023162,
          -0.336000058023162,
          -0.336000058023162,
          -0.336000058023162,
          -0.336000058023162,
          -0.336000058023162,
          -0.336000058023162,
          -0.336000058023162,
          -0.336000058023162,
          -0.336000058023162,
          -0.336000058023162,
          -0.336000058023162,
          -0.336000058023162,
          -0.336000058023162,
          -0.336000058023162,
          -0.336000058023162,
          -0.336000058023162,
          -0.336000058023162,
          -0.336000058023162,
          -0.336000058023162,
          -0.336000058023162,
          -0.336000058023162,
          -0.336000058023162,
          -0.336000058023162,
          -0.336000058023162,
          -0.336000058023162,
          -0.336000058023162,
          -0.336000058023162,
          -0.336000058023162,
          -0.3426884494388389,
          -0.336000058023162,
          -0.336000058023162,
          -0.336000058023162,
          -0.336000058023162,
          -0.388518200582448,
          -0.336000058023162,
          -0.336000058023162,
          -0.336000058023162,
          -0.336000058023162,
          -0.336000058023162,
          -0.336000058023162,
          -0.336000058023162,
          -0.336000058023162,
          -0.336000058023162,
          -0.336000058023162,
          -0.336000058023162,
          -0.336000058023162,
          -0.336000058023162,
          -0.336000058023162,
          -0.336000058023162,
          -0.336000058023162,
          -0.336000058023162,
          -0.336000058023162,
          -0.336000058023162,
          -0.336000058023162,
          -0.336000058023162,
          -0.336000058023162,
          -0.336000058023162,
          -0.336000058023162,
          -0.336000058023162,
          -0.336000058023162,
          -0.336000058023162,
          -0.336000058023162,
          -0.336000058023162,
          -0.336000058023162,
          -0.336000058023162,
          -0.336000058023162,
          -0.336000058023162,
          -0.336000058023162,
          -0.336000058023162,
          -0.336000058023162,
          -0.336000058023162,
          -0.336000058023162,
          -0.336000058023162,
          -0.336000058023162,
          -0.336000058023162,
          -0.336000058023162,
          -0.336000058023162,
          -0.336000058023162,
          -0.336000058023162,
          -0.336000058023162,
          -0.336000058023162,
          -0.336000058023162,
          -0.336000058023162,
          -0.336000058023162,
          -0.336000058023162,
          -0.336000058023162,
          -0.336000058023162,
          -0.336000058023162,
          -0.336000058023162,
          -0.336000058023162,
          -0.336000058023162,
          -0.336000058023162,
          -0.388518200582448,
          -0.336000058023162,
          -0.388518200582448,
          -0.336000058023162,
          -0.336000058023162,
          -0.336000058023162,
          -0.336000058023162,
          -0.336000058023162,
          -0.336000058023162,
          -0.336000058023162,
          -0.336000058023162,
          -0.336000058023162,
          -0.336000058023162,
          -0.336000058023162,
          -0.336000058023162,
          -0.388518200582448,
          -0.336000058023162,
          -0.336000058023162,
          -0.336000058023162,
          -0.388518200582448,
          -0.336000058023162
         ],
         "yaxis": "y"
        },
        {
         "hovertemplate": "color=1<br>PC 1 (50.6%)=%{x}<br>PC 2 (33.7%)=%{y}<extra></extra>",
         "legendgroup": "1",
         "marker": {
          "color": "#EF553B",
          "symbol": "circle"
         },
         "mode": "markers",
         "name": "1",
         "orientation": "v",
         "showlegend": true,
         "type": "scatter",
         "x": [
          -0.5369110096371854,
          -0.5328618981768747,
          -0.536911009637194,
          -0.536911009637194,
          -0.536911009637194,
          -0.536911009637194,
          -0.536911009637194,
          -0.536911009637194,
          -0.536911009637194,
          -0.536911009637194,
          -0.536911009637194,
          -0.536911009637194,
          -0.536911009637194,
          -0.536911009637194,
          -0.536911009637194,
          -0.536911009637194,
          -0.536911009637194,
          -0.536911009637194,
          -0.536911009637194,
          -0.536911009637194,
          -0.536911009637194,
          -0.5282754977440334,
          -0.536911009637194,
          -0.536911009637194,
          -0.536911009637194,
          -0.536911009637194,
          -0.536911009637194,
          -0.536911009637194,
          -0.5294352601712469,
          -0.536911009637194,
          -0.536911009637194,
          -0.536911009637194,
          -0.5291308558598915,
          -0.536911009637194,
          -0.536911009637194,
          -0.536911009637194,
          -0.536911009637194,
          -0.536911009637194,
          -0.536911009637194,
          -0.536911009637194,
          -0.536911009637194,
          -0.536911009637194,
          -0.536911009637194,
          -0.536911009637194,
          -0.536911009637194,
          -0.536911009637194,
          -0.536911009637194,
          -0.536911009637194,
          -0.536911009637194,
          -0.536911009637194,
          -0.536911009637194,
          -0.536911009637194,
          -0.5414974100700426,
          -0.5605745403054908,
          -0.536911009637194,
          -0.536911009637194,
          -0.536911009637194,
          -0.536911009637194,
          -0.536911009637194,
          -0.536911009637194,
          -0.536911009637194,
          -0.536911009637194,
          -0.536911009637194,
          -0.536911009637194,
          -0.536911009637194,
          -0.536911009637194,
          -0.5559881398726421,
          -0.536911009637194,
          -0.536911009637194,
          -0.536911009637194,
          -0.536911009637194,
          -0.536911009637194,
          -0.536911009637194,
          -0.536911009637194,
          -0.536911009637194,
          -0.536911009637194,
          -0.536911009637194,
          -0.536911009637194,
          -0.536911009637194,
          -0.536911009637194,
          -0.536911009637194,
          -0.536911009637194,
          -0.536911009637194,
          -0.536911009637194,
          -0.5559881398726421,
          -0.536911009637194,
          -0.536911009637194,
          -0.5559881398726421,
          -0.536911009637194,
          -0.536911009637194,
          -0.536911009637194,
          -0.5282754977440334,
          -0.536911009637194,
          -0.536911009637194,
          -0.536911009637194,
          -0.536911009637194,
          -0.536911009637194,
          -0.536911009637194,
          -0.536911009637194,
          -0.536911009637194,
          -0.536911009637194,
          -0.536911009637194,
          -0.536911009637194,
          -0.536911009637194,
          -0.536911009637194,
          -0.536911009637194,
          -0.536911009637194,
          -0.536911009637194,
          -0.536911009637194,
          -0.536911009637194,
          -0.536911009637194,
          -0.536911009637194,
          -0.536911009637194,
          -0.536911009637194,
          -0.536911009637194,
          -0.536911009637194,
          -0.536911009637194,
          -0.536911009637194,
          -0.536911009637194,
          -0.5282754977440334,
          -0.536911009637194,
          -0.5282754977440334,
          -0.536911009637194,
          -0.536911009637194,
          -0.536911009637194,
          -0.536911009637194,
          -0.536911009637194,
          -0.536911009637194,
          -0.536911009637194,
          -0.536911009637194,
          -0.536911009637194,
          -0.536911009637194,
          -0.536911009637194,
          -0.536911009637194,
          -0.536911009637194,
          -0.536911009637194,
          -0.536911009637194,
          -0.536911009637194,
          -0.536911009637194,
          -0.536911009637194,
          -0.536911009637194,
          -0.536911009637194,
          -0.536911009637194,
          -0.536911009637194,
          -0.536911009637194,
          -0.536911009637194,
          -0.536911009637194,
          -0.536911009637194,
          -0.536911009637194,
          -0.536911009637194,
          -0.536911009637194,
          -0.536911009637194,
          -0.536911009637194,
          -0.536911009637194,
          -0.536911009637194,
          -0.536911009637194,
          -0.536911009637194,
          -0.536911009637194,
          -0.536911009637194,
          -0.536911009637194,
          -0.536911009637194,
          -0.536911009637194,
          -0.536911009637194,
          -0.536911009637194,
          -0.536911009637194,
          -0.536911009637194,
          -0.536911009637194,
          -0.536911009637194,
          -0.536911009637194,
          -0.536911009637194,
          -0.536911009637194,
          -0.536911009637194,
          -0.536911009637194,
          -0.536911009637194,
          -0.536911009637194,
          -0.536911009637194,
          -0.5282754977440334,
          -0.536911009637194,
          -0.536911009637194,
          -0.536911009637194
         ],
         "xaxis": "x",
         "y": [
          -0.0986917607290226,
          -0.11629877894124424,
          -0.09869176072902028,
          -0.09869176072902028,
          -0.09869176072902028,
          -0.09869176072902028,
          -0.09869176072902028,
          -0.09869176072902028,
          -0.09869176072902028,
          -0.09869176072902028,
          -0.09869176072902028,
          -0.09869176072902028,
          -0.09869176072902028,
          -0.09869176072902028,
          -0.09869176072902028,
          -0.09869176072902028,
          -0.09869176072902028,
          -0.09869176072902028,
          -0.09869176072902028,
          -0.09869176072902028,
          -0.09869176072902028,
          -0.15120990328830622,
          -0.09869176072902028,
          -0.09869176072902028,
          -0.09869176072902028,
          -0.09869176072902028,
          -0.09869176072902028,
          -0.09869176072902028,
          -0.08316853009421933,
          -0.09869176072902028,
          -0.09869176072902028,
          -0.09869176072902028,
          -0.157898294703983,
          -0.09869176072902028,
          -0.09869176072902028,
          -0.09869176072902028,
          -0.09869176072902028,
          -0.09869176072902028,
          -0.09869176072902028,
          -0.09869176072902028,
          -0.09869176072902028,
          -0.09869176072902028,
          -0.09869176072902028,
          -0.09869176072902028,
          -0.09869176072902028,
          -0.09869176072902028,
          -0.09869176072902028,
          -0.09869176072902028,
          -0.09869176072902028,
          -0.09869176072902028,
          -0.09869176072902028,
          -0.09869176072902028,
          -0.06378063638195762,
          -0.060229048719908036,
          -0.09869176072902028,
          -0.09869176072902028,
          -0.09869176072902028,
          -0.09869176072902028,
          -0.09869176072902028,
          -0.09869176072902028,
          -0.09869176072902028,
          -0.09869176072902028,
          -0.09869176072902028,
          -0.09869176072902028,
          -0.09869176072902028,
          -0.09869176072902028,
          -0.09514017306697081,
          -0.09869176072902028,
          -0.09869176072902028,
          -0.09869176072902028,
          -0.09869176072902028,
          -0.09869176072902028,
          -0.09869176072902028,
          -0.09869176072902028,
          -0.09869176072902028,
          -0.09869176072902028,
          -0.09869176072902028,
          -0.09869176072902028,
          -0.09869176072902028,
          -0.09869176072902028,
          -0.09869176072902028,
          -0.09869176072902028,
          -0.09869176072902028,
          -0.09869176072902028,
          -0.09514017306697081,
          -0.09869176072902028,
          -0.09869176072902028,
          -0.09514017306697081,
          -0.09869176072902028,
          -0.09869176072902028,
          -0.09869176072902028,
          -0.15120990328830622,
          -0.09869176072902028,
          -0.09869176072902028,
          -0.09869176072902028,
          -0.09869176072902028,
          -0.09869176072902028,
          -0.09869176072902028,
          -0.09869176072902028,
          -0.09869176072902028,
          -0.09869176072902028,
          -0.09869176072902028,
          -0.09869176072902028,
          -0.09869176072902028,
          -0.09869176072902028,
          -0.09869176072902028,
          -0.09869176072902028,
          -0.09869176072902028,
          -0.09869176072902028,
          -0.09869176072902028,
          -0.09869176072902028,
          -0.09869176072902028,
          -0.09869176072902028,
          -0.09869176072902028,
          -0.09869176072902028,
          -0.09869176072902028,
          -0.09869176072902028,
          -0.09869176072902028,
          -0.09869176072902028,
          -0.15120990328830622,
          -0.09869176072902028,
          -0.15120990328830622,
          -0.09869176072902028,
          -0.09869176072902028,
          -0.09869176072902028,
          -0.09869176072902028,
          -0.09869176072902028,
          -0.09869176072902028,
          -0.09869176072902028,
          -0.09869176072902028,
          -0.09869176072902028,
          -0.09869176072902028,
          -0.09869176072902028,
          -0.09869176072902028,
          -0.09869176072902028,
          -0.09869176072902028,
          -0.09869176072902028,
          -0.09869176072902028,
          -0.09869176072902028,
          -0.09869176072902028,
          -0.09869176072902028,
          -0.09869176072902028,
          -0.09869176072902028,
          -0.09869176072902028,
          -0.09869176072902028,
          -0.09869176072902028,
          -0.09869176072902028,
          -0.09869176072902028,
          -0.09869176072902028,
          -0.09869176072902028,
          -0.09869176072902028,
          -0.09869176072902028,
          -0.09869176072902028,
          -0.09869176072902028,
          -0.09869176072902028,
          -0.09869176072902028,
          -0.09869176072902028,
          -0.09869176072902028,
          -0.09869176072902028,
          -0.09869176072902028,
          -0.09869176072902028,
          -0.09869176072902028,
          -0.09869176072902028,
          -0.09869176072902028,
          -0.09869176072902028,
          -0.09869176072902028,
          -0.09869176072902028,
          -0.09869176072902028,
          -0.09869176072902028,
          -0.09869176072902028,
          -0.09869176072902028,
          -0.09869176072902028,
          -0.09869176072902028,
          -0.09869176072902028,
          -0.09869176072902028,
          -0.09869176072902028,
          -0.15120990328830622,
          -0.09869176072902028,
          -0.09869176072902028,
          -0.09869176072902028
         ],
         "yaxis": "y"
        },
        {
         "hovertemplate": "color=0<br>PC 1 (50.6%)=%{x}<br>PC 2 (33.7%)=%{y}<extra></extra>",
         "legendgroup": "0",
         "marker": {
          "color": "#00cc96",
          "symbol": "circle"
         },
         "mode": "markers",
         "name": "0",
         "orientation": "v",
         "showlegend": true,
         "type": "scatter",
         "x": [
          0.6723152013590571,
          0.6723152013590581,
          -0.29861049115979166,
          0.6723152013590581,
          0.6723152013590581,
          -0.29861049115979166,
          0.6723152013590581,
          -0.29861049115979166,
          -0.29861049115979166,
          0.6723152013590581,
          -0.29861049115979166,
          -0.29861049115979166,
          0.6677288009262096,
          -0.29861049115979166,
          0.6723152013590581,
          0.6723152013590581,
          0.6723152013590581,
          0.6723152013590581,
          0.6723152013590581,
          0.6723152013590581,
          0.6723152013590581,
          -0.29861049115979166,
          -0.29861049115979166,
          0.6723152013590581,
          -0.29861049115979166,
          -0.29861049115979166,
          -0.29861049115979166,
          0.688426462718166,
          0.6723152013590581,
          0.6723152013590581,
          0.6723152013590581,
          0.6797909508250053,
          -0.29861049115979166,
          0.6723152013590581,
          0.6723152013590581,
          0.6723152013590581,
          0.6723152013590581,
          0.6723152013590581,
          -0.29861049115979166,
          0.6723152013590581,
          0.6723152013590581,
          0.6723152013590581,
          -0.29861049115979166,
          0.6677288009262096,
          -0.29861049115979166,
          0.6723152013590581,
          0.6723152013590581,
          -0.3222740218280885,
          -0.29861049115979166,
          -0.29861049115979166,
          -0.29861049115979166,
          0.6723152013590581,
          0.6723152013590581,
          0.6723152013590581,
          0.6723152013590581,
          0.6723152013590581,
          0.6723152013590581,
          0.6723152013590581,
          0.6723152013590581,
          0.6723152013590581,
          -0.29861049115979166,
          0.6723152013590581,
          0.6723152013590581,
          0.6723152013590581,
          -0.29861049115979166,
          -0.29861049115979166,
          -0.29861049115979166,
          -0.29861049115979166,
          0.6723152013590581,
          0.6723152013590581,
          0.6723152013590581,
          -0.30319689159264035,
          0.6723152013590581,
          -0.29861049115979166,
          0.6723152013590581,
          0.6723152013590581,
          -0.29861049115979166,
          0.6723152013590581,
          -0.29861049115979166,
          -0.29861049115979166,
          0.6723152013590581,
          -0.29861049115979166,
          0.6723152013590581,
          -0.29861049115979166,
          0.6723152013590581,
          -0.29861049115979166,
          0.6723152013590581,
          0.6723152013590581,
          -0.29861049115979166,
          0.6723152013590581,
          -0.29861049115979166,
          -0.29861049115979166,
          0.6723152013590581,
          -0.29861049115979166,
          -0.29861049115979166,
          -0.29861049115979166,
          -0.29861049115979166,
          0.6723152013590581,
          -0.29861049115979166
         ],
         "xaxis": "x",
         "y": [
          0.6332313442179694,
          0.6332313442179692,
          0.8705396415121109,
          0.6332313442179692,
          0.6332313442179692,
          0.8705396415121109,
          0.6332313442179692,
          0.8705396415121109,
          0.8705396415121109,
          0.6332313442179692,
          0.8705396415121109,
          0.8705396415121109,
          0.668142468565032,
          0.8705396415121109,
          0.6332313442179692,
          0.6332313442179692,
          0.6332313442179692,
          0.6332313442179692,
          0.6332313442179692,
          0.6332313442179692,
          0.6332313442179692,
          0.8705396415121109,
          0.8705396415121109,
          0.6332313442179692,
          0.8705396415121109,
          0.8705396415121109,
          0.8705396415121109,
          0.5962364322934843,
          0.6332313442179692,
          0.6332313442179692,
          0.6332313442179692,
          0.6487545748527702,
          0.8705396415121109,
          0.6332313442179692,
          0.6332313442179692,
          0.6332313442179692,
          0.6332313442179692,
          0.6332313442179692,
          0.8705396415121109,
          0.6332313442179692,
          0.6332313442179692,
          0.6332313442179692,
          0.8705396415121109,
          0.668142468565032,
          0.8705396415121109,
          0.6332313442179692,
          0.6332313442179692,
          0.9090023535212232,
          0.8705396415121109,
          0.8705396415121109,
          0.8705396415121109,
          0.6332313442179692,
          0.6332313442179692,
          0.6332313442179692,
          0.6332313442179692,
          0.6332313442179692,
          0.6332313442179692,
          0.6332313442179692,
          0.6332313442179692,
          0.6332313442179692,
          0.8705396415121109,
          0.6332313442179692,
          0.6332313442179692,
          0.6332313442179692,
          0.8705396415121109,
          0.8705396415121109,
          0.8705396415121109,
          0.8705396415121109,
          0.6332313442179692,
          0.6332313442179692,
          0.6332313442179692,
          0.9054507658591737,
          0.6332313442179692,
          0.8705396415121109,
          0.6332313442179692,
          0.6332313442179692,
          0.8705396415121109,
          0.6332313442179692,
          0.8705396415121109,
          0.8705396415121109,
          0.6332313442179692,
          0.8705396415121109,
          0.6332313442179692,
          0.8705396415121109,
          0.6332313442179692,
          0.8705396415121109,
          0.6332313442179692,
          0.6332313442179692,
          0.8705396415121109,
          0.6332313442179692,
          0.8705396415121109,
          0.8705396415121109,
          0.6332313442179692,
          0.8705396415121109,
          0.8705396415121109,
          0.8705396415121109,
          0.8705396415121109,
          0.6332313442179692,
          0.8705396415121109
         ],
         "yaxis": "y"
        }
       ],
       "layout": {
        "legend": {
         "title": {
          "text": "color"
         },
         "tracegroupgap": 0
        },
        "margin": {
         "t": 60
        },
        "template": {
         "data": {
          "bar": [
           {
            "error_x": {
             "color": "#2a3f5f"
            },
            "error_y": {
             "color": "#2a3f5f"
            },
            "marker": {
             "line": {
              "color": "#E5ECF6",
              "width": 0.5
             },
             "pattern": {
              "fillmode": "overlay",
              "size": 10,
              "solidity": 0.2
             }
            },
            "type": "bar"
           }
          ],
          "barpolar": [
           {
            "marker": {
             "line": {
              "color": "#E5ECF6",
              "width": 0.5
             },
             "pattern": {
              "fillmode": "overlay",
              "size": 10,
              "solidity": 0.2
             }
            },
            "type": "barpolar"
           }
          ],
          "carpet": [
           {
            "aaxis": {
             "endlinecolor": "#2a3f5f",
             "gridcolor": "white",
             "linecolor": "white",
             "minorgridcolor": "white",
             "startlinecolor": "#2a3f5f"
            },
            "baxis": {
             "endlinecolor": "#2a3f5f",
             "gridcolor": "white",
             "linecolor": "white",
             "minorgridcolor": "white",
             "startlinecolor": "#2a3f5f"
            },
            "type": "carpet"
           }
          ],
          "choropleth": [
           {
            "colorbar": {
             "outlinewidth": 0,
             "ticks": ""
            },
            "type": "choropleth"
           }
          ],
          "contour": [
           {
            "colorbar": {
             "outlinewidth": 0,
             "ticks": ""
            },
            "colorscale": [
             [
              0,
              "#0d0887"
             ],
             [
              0.1111111111111111,
              "#46039f"
             ],
             [
              0.2222222222222222,
              "#7201a8"
             ],
             [
              0.3333333333333333,
              "#9c179e"
             ],
             [
              0.4444444444444444,
              "#bd3786"
             ],
             [
              0.5555555555555556,
              "#d8576b"
             ],
             [
              0.6666666666666666,
              "#ed7953"
             ],
             [
              0.7777777777777778,
              "#fb9f3a"
             ],
             [
              0.8888888888888888,
              "#fdca26"
             ],
             [
              1,
              "#f0f921"
             ]
            ],
            "type": "contour"
           }
          ],
          "contourcarpet": [
           {
            "colorbar": {
             "outlinewidth": 0,
             "ticks": ""
            },
            "type": "contourcarpet"
           }
          ],
          "heatmap": [
           {
            "colorbar": {
             "outlinewidth": 0,
             "ticks": ""
            },
            "colorscale": [
             [
              0,
              "#0d0887"
             ],
             [
              0.1111111111111111,
              "#46039f"
             ],
             [
              0.2222222222222222,
              "#7201a8"
             ],
             [
              0.3333333333333333,
              "#9c179e"
             ],
             [
              0.4444444444444444,
              "#bd3786"
             ],
             [
              0.5555555555555556,
              "#d8576b"
             ],
             [
              0.6666666666666666,
              "#ed7953"
             ],
             [
              0.7777777777777778,
              "#fb9f3a"
             ],
             [
              0.8888888888888888,
              "#fdca26"
             ],
             [
              1,
              "#f0f921"
             ]
            ],
            "type": "heatmap"
           }
          ],
          "heatmapgl": [
           {
            "colorbar": {
             "outlinewidth": 0,
             "ticks": ""
            },
            "colorscale": [
             [
              0,
              "#0d0887"
             ],
             [
              0.1111111111111111,
              "#46039f"
             ],
             [
              0.2222222222222222,
              "#7201a8"
             ],
             [
              0.3333333333333333,
              "#9c179e"
             ],
             [
              0.4444444444444444,
              "#bd3786"
             ],
             [
              0.5555555555555556,
              "#d8576b"
             ],
             [
              0.6666666666666666,
              "#ed7953"
             ],
             [
              0.7777777777777778,
              "#fb9f3a"
             ],
             [
              0.8888888888888888,
              "#fdca26"
             ],
             [
              1,
              "#f0f921"
             ]
            ],
            "type": "heatmapgl"
           }
          ],
          "histogram": [
           {
            "marker": {
             "pattern": {
              "fillmode": "overlay",
              "size": 10,
              "solidity": 0.2
             }
            },
            "type": "histogram"
           }
          ],
          "histogram2d": [
           {
            "colorbar": {
             "outlinewidth": 0,
             "ticks": ""
            },
            "colorscale": [
             [
              0,
              "#0d0887"
             ],
             [
              0.1111111111111111,
              "#46039f"
             ],
             [
              0.2222222222222222,
              "#7201a8"
             ],
             [
              0.3333333333333333,
              "#9c179e"
             ],
             [
              0.4444444444444444,
              "#bd3786"
             ],
             [
              0.5555555555555556,
              "#d8576b"
             ],
             [
              0.6666666666666666,
              "#ed7953"
             ],
             [
              0.7777777777777778,
              "#fb9f3a"
             ],
             [
              0.8888888888888888,
              "#fdca26"
             ],
             [
              1,
              "#f0f921"
             ]
            ],
            "type": "histogram2d"
           }
          ],
          "histogram2dcontour": [
           {
            "colorbar": {
             "outlinewidth": 0,
             "ticks": ""
            },
            "colorscale": [
             [
              0,
              "#0d0887"
             ],
             [
              0.1111111111111111,
              "#46039f"
             ],
             [
              0.2222222222222222,
              "#7201a8"
             ],
             [
              0.3333333333333333,
              "#9c179e"
             ],
             [
              0.4444444444444444,
              "#bd3786"
             ],
             [
              0.5555555555555556,
              "#d8576b"
             ],
             [
              0.6666666666666666,
              "#ed7953"
             ],
             [
              0.7777777777777778,
              "#fb9f3a"
             ],
             [
              0.8888888888888888,
              "#fdca26"
             ],
             [
              1,
              "#f0f921"
             ]
            ],
            "type": "histogram2dcontour"
           }
          ],
          "mesh3d": [
           {
            "colorbar": {
             "outlinewidth": 0,
             "ticks": ""
            },
            "type": "mesh3d"
           }
          ],
          "parcoords": [
           {
            "line": {
             "colorbar": {
              "outlinewidth": 0,
              "ticks": ""
             }
            },
            "type": "parcoords"
           }
          ],
          "pie": [
           {
            "automargin": true,
            "type": "pie"
           }
          ],
          "scatter": [
           {
            "fillpattern": {
             "fillmode": "overlay",
             "size": 10,
             "solidity": 0.2
            },
            "type": "scatter"
           }
          ],
          "scatter3d": [
           {
            "line": {
             "colorbar": {
              "outlinewidth": 0,
              "ticks": ""
             }
            },
            "marker": {
             "colorbar": {
              "outlinewidth": 0,
              "ticks": ""
             }
            },
            "type": "scatter3d"
           }
          ],
          "scattercarpet": [
           {
            "marker": {
             "colorbar": {
              "outlinewidth": 0,
              "ticks": ""
             }
            },
            "type": "scattercarpet"
           }
          ],
          "scattergeo": [
           {
            "marker": {
             "colorbar": {
              "outlinewidth": 0,
              "ticks": ""
             }
            },
            "type": "scattergeo"
           }
          ],
          "scattergl": [
           {
            "marker": {
             "colorbar": {
              "outlinewidth": 0,
              "ticks": ""
             }
            },
            "type": "scattergl"
           }
          ],
          "scattermapbox": [
           {
            "marker": {
             "colorbar": {
              "outlinewidth": 0,
              "ticks": ""
             }
            },
            "type": "scattermapbox"
           }
          ],
          "scatterpolar": [
           {
            "marker": {
             "colorbar": {
              "outlinewidth": 0,
              "ticks": ""
             }
            },
            "type": "scatterpolar"
           }
          ],
          "scatterpolargl": [
           {
            "marker": {
             "colorbar": {
              "outlinewidth": 0,
              "ticks": ""
             }
            },
            "type": "scatterpolargl"
           }
          ],
          "scatterternary": [
           {
            "marker": {
             "colorbar": {
              "outlinewidth": 0,
              "ticks": ""
             }
            },
            "type": "scatterternary"
           }
          ],
          "surface": [
           {
            "colorbar": {
             "outlinewidth": 0,
             "ticks": ""
            },
            "colorscale": [
             [
              0,
              "#0d0887"
             ],
             [
              0.1111111111111111,
              "#46039f"
             ],
             [
              0.2222222222222222,
              "#7201a8"
             ],
             [
              0.3333333333333333,
              "#9c179e"
             ],
             [
              0.4444444444444444,
              "#bd3786"
             ],
             [
              0.5555555555555556,
              "#d8576b"
             ],
             [
              0.6666666666666666,
              "#ed7953"
             ],
             [
              0.7777777777777778,
              "#fb9f3a"
             ],
             [
              0.8888888888888888,
              "#fdca26"
             ],
             [
              1,
              "#f0f921"
             ]
            ],
            "type": "surface"
           }
          ],
          "table": [
           {
            "cells": {
             "fill": {
              "color": "#EBF0F8"
             },
             "line": {
              "color": "white"
             }
            },
            "header": {
             "fill": {
              "color": "#C8D4E3"
             },
             "line": {
              "color": "white"
             }
            },
            "type": "table"
           }
          ]
         },
         "layout": {
          "annotationdefaults": {
           "arrowcolor": "#2a3f5f",
           "arrowhead": 0,
           "arrowwidth": 1
          },
          "autotypenumbers": "strict",
          "coloraxis": {
           "colorbar": {
            "outlinewidth": 0,
            "ticks": ""
           }
          },
          "colorscale": {
           "diverging": [
            [
             0,
             "#8e0152"
            ],
            [
             0.1,
             "#c51b7d"
            ],
            [
             0.2,
             "#de77ae"
            ],
            [
             0.3,
             "#f1b6da"
            ],
            [
             0.4,
             "#fde0ef"
            ],
            [
             0.5,
             "#f7f7f7"
            ],
            [
             0.6,
             "#e6f5d0"
            ],
            [
             0.7,
             "#b8e186"
            ],
            [
             0.8,
             "#7fbc41"
            ],
            [
             0.9,
             "#4d9221"
            ],
            [
             1,
             "#276419"
            ]
           ],
           "sequential": [
            [
             0,
             "#0d0887"
            ],
            [
             0.1111111111111111,
             "#46039f"
            ],
            [
             0.2222222222222222,
             "#7201a8"
            ],
            [
             0.3333333333333333,
             "#9c179e"
            ],
            [
             0.4444444444444444,
             "#bd3786"
            ],
            [
             0.5555555555555556,
             "#d8576b"
            ],
            [
             0.6666666666666666,
             "#ed7953"
            ],
            [
             0.7777777777777778,
             "#fb9f3a"
            ],
            [
             0.8888888888888888,
             "#fdca26"
            ],
            [
             1,
             "#f0f921"
            ]
           ],
           "sequentialminus": [
            [
             0,
             "#0d0887"
            ],
            [
             0.1111111111111111,
             "#46039f"
            ],
            [
             0.2222222222222222,
             "#7201a8"
            ],
            [
             0.3333333333333333,
             "#9c179e"
            ],
            [
             0.4444444444444444,
             "#bd3786"
            ],
            [
             0.5555555555555556,
             "#d8576b"
            ],
            [
             0.6666666666666666,
             "#ed7953"
            ],
            [
             0.7777777777777778,
             "#fb9f3a"
            ],
            [
             0.8888888888888888,
             "#fdca26"
            ],
            [
             1,
             "#f0f921"
            ]
           ]
          },
          "colorway": [
           "#636efa",
           "#EF553B",
           "#00cc96",
           "#ab63fa",
           "#FFA15A",
           "#19d3f3",
           "#FF6692",
           "#B6E880",
           "#FF97FF",
           "#FECB52"
          ],
          "font": {
           "color": "#2a3f5f"
          },
          "geo": {
           "bgcolor": "white",
           "lakecolor": "white",
           "landcolor": "#E5ECF6",
           "showlakes": true,
           "showland": true,
           "subunitcolor": "white"
          },
          "hoverlabel": {
           "align": "left"
          },
          "hovermode": "closest",
          "mapbox": {
           "style": "light"
          },
          "paper_bgcolor": "white",
          "plot_bgcolor": "#E5ECF6",
          "polar": {
           "angularaxis": {
            "gridcolor": "white",
            "linecolor": "white",
            "ticks": ""
           },
           "bgcolor": "#E5ECF6",
           "radialaxis": {
            "gridcolor": "white",
            "linecolor": "white",
            "ticks": ""
           }
          },
          "scene": {
           "xaxis": {
            "backgroundcolor": "#E5ECF6",
            "gridcolor": "white",
            "gridwidth": 2,
            "linecolor": "white",
            "showbackground": true,
            "ticks": "",
            "zerolinecolor": "white"
           },
           "yaxis": {
            "backgroundcolor": "#E5ECF6",
            "gridcolor": "white",
            "gridwidth": 2,
            "linecolor": "white",
            "showbackground": true,
            "ticks": "",
            "zerolinecolor": "white"
           },
           "zaxis": {
            "backgroundcolor": "#E5ECF6",
            "gridcolor": "white",
            "gridwidth": 2,
            "linecolor": "white",
            "showbackground": true,
            "ticks": "",
            "zerolinecolor": "white"
           }
          },
          "shapedefaults": {
           "line": {
            "color": "#2a3f5f"
           }
          },
          "ternary": {
           "aaxis": {
            "gridcolor": "white",
            "linecolor": "white",
            "ticks": ""
           },
           "baxis": {
            "gridcolor": "white",
            "linecolor": "white",
            "ticks": ""
           },
           "bgcolor": "#E5ECF6",
           "caxis": {
            "gridcolor": "white",
            "linecolor": "white",
            "ticks": ""
           }
          },
          "title": {
           "x": 0.05
          },
          "xaxis": {
           "automargin": true,
           "gridcolor": "white",
           "linecolor": "white",
           "ticks": "",
           "title": {
            "standoff": 15
           },
           "zerolinecolor": "white",
           "zerolinewidth": 2
          },
          "yaxis": {
           "automargin": true,
           "gridcolor": "white",
           "linecolor": "white",
           "ticks": "",
           "title": {
            "standoff": 15
           },
           "zerolinecolor": "white",
           "zerolinewidth": 2
          }
         }
        },
        "xaxis": {
         "anchor": "y",
         "domain": [
          0,
          1
         ],
         "title": {
          "text": "PC 1 (50.6%)"
         }
        },
        "yaxis": {
         "anchor": "x",
         "domain": [
          0,
          1
         ],
         "title": {
          "text": "PC 2 (33.7%)"
         }
        }
       }
      }
     },
     "metadata": {},
     "output_type": "display_data"
    }
   ],
   "source": [
    "pca_services = PCA(n_components=2)\n",
    "\n",
    "components_services = pca_services.fit_transform(df_services.drop('cluster', axis=1))\n",
    "\n",
    "labels = {\n",
    "    str(i): f\"PC {i+1} ({var:.1f}%)\"\n",
    "    for i, var in enumerate(pca_services.explained_variance_ratio_ * 100)\n",
    "}\n",
    "\n",
    "fig = px.scatter(components_services, x=0, y=1, color=df_services.cluster, labels=labels)\n",
    "fig.show()\n",
    "\n"
   ]
  },
  {
   "attachments": {},
   "cell_type": "markdown",
   "metadata": {},
   "source": [
    "L'ACP met en évidence l'existence de 4 groupes. Nous avons une très bonne variance expliquée qui est de 82.3% ici. Il vaut mieux donc refaire une classification en cherchant 4 clusters. Nous allons recommencer le processus de classification une deuxième fois ci-dessous."
   ]
  },
  {
   "cell_type": "code",
   "execution_count": 13,
   "metadata": {},
   "outputs": [
    {
     "data": {
      "text/html": [
       "<div>\n",
       "<style scoped>\n",
       "    .dataframe tbody tr th:only-of-type {\n",
       "        vertical-align: middle;\n",
       "    }\n",
       "\n",
       "    .dataframe tbody tr th {\n",
       "        vertical-align: top;\n",
       "    }\n",
       "\n",
       "    .dataframe thead th {\n",
       "        text-align: right;\n",
       "    }\n",
       "</style>\n",
       "<table border=\"1\" class=\"dataframe\">\n",
       "  <thead>\n",
       "    <tr style=\"text-align: right;\">\n",
       "      <th></th>\n",
       "      <th>noteelev</th>\n",
       "      <th>abselev</th>\n",
       "      <th>edtelevcls</th>\n",
       "      <th>cahiertxt</th>\n",
       "      <th>docresspeda</th>\n",
       "      <th>agdactuetab</th>\n",
       "      <th>platapp</th>\n",
       "      <th>autres</th>\n",
       "      <th>aucun</th>\n",
       "    </tr>\n",
       "  </thead>\n",
       "  <tbody>\n",
       "    <tr>\n",
       "      <th>0</th>\n",
       "      <td>0.994444</td>\n",
       "      <td>0.961111</td>\n",
       "      <td>0.994444</td>\n",
       "      <td>1.0</td>\n",
       "      <td>0.977778</td>\n",
       "      <td>0.983333</td>\n",
       "      <td>-8.326673e-17</td>\n",
       "      <td>-1.110223e-16</td>\n",
       "      <td>0.0</td>\n",
       "    </tr>\n",
       "    <tr>\n",
       "      <th>1</th>\n",
       "      <td>0.993789</td>\n",
       "      <td>0.944099</td>\n",
       "      <td>1.000000</td>\n",
       "      <td>1.0</td>\n",
       "      <td>0.993789</td>\n",
       "      <td>0.993789</td>\n",
       "      <td>5.551115e-17</td>\n",
       "      <td>1.000000e+00</td>\n",
       "      <td>0.0</td>\n",
       "    </tr>\n",
       "    <tr>\n",
       "      <th>2</th>\n",
       "      <td>1.000000</td>\n",
       "      <td>0.982759</td>\n",
       "      <td>0.965517</td>\n",
       "      <td>1.0</td>\n",
       "      <td>1.000000</td>\n",
       "      <td>0.965517</td>\n",
       "      <td>1.000000e+00</td>\n",
       "      <td>1.000000e+00</td>\n",
       "      <td>0.0</td>\n",
       "    </tr>\n",
       "    <tr>\n",
       "      <th>3</th>\n",
       "      <td>1.000000</td>\n",
       "      <td>1.000000</td>\n",
       "      <td>1.000000</td>\n",
       "      <td>1.0</td>\n",
       "      <td>0.975610</td>\n",
       "      <td>0.951220</td>\n",
       "      <td>1.000000e+00</td>\n",
       "      <td>-1.665335e-16</td>\n",
       "      <td>0.0</td>\n",
       "    </tr>\n",
       "  </tbody>\n",
       "</table>\n",
       "</div>"
      ],
      "text/plain": [
       "   noteelev   abselev  edtelevcls  cahiertxt  docresspeda  agdactuetab  \\\n",
       "0  0.994444  0.961111    0.994444        1.0     0.977778     0.983333   \n",
       "1  0.993789  0.944099    1.000000        1.0     0.993789     0.993789   \n",
       "2  1.000000  0.982759    0.965517        1.0     1.000000     0.965517   \n",
       "3  1.000000  1.000000    1.000000        1.0     0.975610     0.951220   \n",
       "\n",
       "        platapp        autres  aucun  \n",
       "0 -8.326673e-17 -1.110223e-16    0.0  \n",
       "1  5.551115e-17  1.000000e+00    0.0  \n",
       "2  1.000000e+00  1.000000e+00    0.0  \n",
       "3  1.000000e+00 -1.665335e-16    0.0  "
      ]
     },
     "execution_count": 13,
     "metadata": {},
     "output_type": "execute_result"
    }
   ],
   "source": [
    "km_services_2 = KMeans(\n",
    "    n_clusters=4,\n",
    "    random_state=42,\n",
    "    n_init=20,\n",
    "    max_iter=3600,\n",
    "    init='k-means++'\n",
    ")\n",
    "\n",
    "y_km_services_2 = km_services_2.fit_predict(df_services.drop('cluster', axis=1))\n",
    "\n",
    "resultat_2 = pd.DataFrame(km_services_2.cluster_centers_, columns=km_services_2.feature_names_in_)\n",
    "\n",
    "resultat_2"
   ]
  },
  {
   "cell_type": "code",
   "execution_count": 14,
   "metadata": {},
   "outputs": [
    {
     "data": {
      "text/html": [
       "<div>\n",
       "<style scoped>\n",
       "    .dataframe tbody tr th:only-of-type {\n",
       "        vertical-align: middle;\n",
       "    }\n",
       "\n",
       "    .dataframe tbody tr th {\n",
       "        vertical-align: top;\n",
       "    }\n",
       "\n",
       "    .dataframe thead th {\n",
       "        text-align: right;\n",
       "    }\n",
       "</style>\n",
       "<table border=\"1\" class=\"dataframe\">\n",
       "  <thead>\n",
       "    <tr style=\"text-align: right;\">\n",
       "      <th></th>\n",
       "      <th>noteelev</th>\n",
       "      <th>abselev</th>\n",
       "      <th>edtelevcls</th>\n",
       "      <th>cahiertxt</th>\n",
       "      <th>docresspeda</th>\n",
       "      <th>agdactuetab</th>\n",
       "      <th>platapp</th>\n",
       "      <th>autres</th>\n",
       "      <th>aucun</th>\n",
       "    </tr>\n",
       "  </thead>\n",
       "  <tbody>\n",
       "    <tr>\n",
       "      <th>0</th>\n",
       "      <td>oui</td>\n",
       "      <td>oui</td>\n",
       "      <td>oui</td>\n",
       "      <td>oui</td>\n",
       "      <td>oui</td>\n",
       "      <td>oui</td>\n",
       "      <td>non</td>\n",
       "      <td>non</td>\n",
       "      <td>non</td>\n",
       "    </tr>\n",
       "    <tr>\n",
       "      <th>1</th>\n",
       "      <td>oui</td>\n",
       "      <td>oui</td>\n",
       "      <td>oui</td>\n",
       "      <td>oui</td>\n",
       "      <td>oui</td>\n",
       "      <td>oui</td>\n",
       "      <td>non</td>\n",
       "      <td>oui</td>\n",
       "      <td>non</td>\n",
       "    </tr>\n",
       "    <tr>\n",
       "      <th>2</th>\n",
       "      <td>oui</td>\n",
       "      <td>oui</td>\n",
       "      <td>oui</td>\n",
       "      <td>oui</td>\n",
       "      <td>oui</td>\n",
       "      <td>oui</td>\n",
       "      <td>oui</td>\n",
       "      <td>oui</td>\n",
       "      <td>non</td>\n",
       "    </tr>\n",
       "    <tr>\n",
       "      <th>3</th>\n",
       "      <td>oui</td>\n",
       "      <td>oui</td>\n",
       "      <td>oui</td>\n",
       "      <td>oui</td>\n",
       "      <td>oui</td>\n",
       "      <td>oui</td>\n",
       "      <td>oui</td>\n",
       "      <td>non</td>\n",
       "      <td>non</td>\n",
       "    </tr>\n",
       "  </tbody>\n",
       "</table>\n",
       "</div>"
      ],
      "text/plain": [
       "  noteelev abselev edtelevcls cahiertxt docresspeda agdactuetab platapp  \\\n",
       "0      oui     oui        oui       oui         oui         oui     non   \n",
       "1      oui     oui        oui       oui         oui         oui     non   \n",
       "2      oui     oui        oui       oui         oui         oui     oui   \n",
       "3      oui     oui        oui       oui         oui         oui     oui   \n",
       "\n",
       "  autres aucun  \n",
       "0    non   non  \n",
       "1    oui   non  \n",
       "2    oui   non  \n",
       "3    non   non  "
      ]
     },
     "execution_count": 14,
     "metadata": {},
     "output_type": "execute_result"
    }
   ],
   "source": [
    "for column in resultat_2.columns:\n",
    "    resultat_2[column] = resultat_2[column].apply(change_value)\n",
    "    resultat_2[column] = resultat_2[column].replace({1: 'oui', 0: 'non'})\n",
    "    resultat_2[column] = resultat_2[column].astype(str)\n",
    "    \n",
    "resultat_2"
   ]
  },
  {
   "cell_type": "code",
   "execution_count": 15,
   "metadata": {},
   "outputs": [
    {
     "data": {
      "application/vnd.plotly.v1+json": {
       "config": {
        "plotlyServerURL": "https://plot.ly"
       },
       "data": [
        {
         "hovertemplate": "PC 1 (50.6%)=%{x}<br>PC 2 (33.7%)=%{y}<br>color=%{marker.color}<extra></extra>",
         "legendgroup": "",
         "marker": {
          "color": [
           1,
           0,
           1,
           1,
           1,
           1,
           0,
           2,
           1,
           1,
           0,
           0,
           0,
           0,
           0,
           2,
           3,
           1,
           1,
           1,
           0,
           2,
           0,
           1,
           2,
           3,
           2,
           1,
           1,
           3,
           1,
           3,
           1,
           0,
           1,
           0,
           1,
           0,
           0,
           1,
           0,
           1,
           1,
           0,
           1,
           0,
           0,
           0,
           1,
           0,
           1,
           1,
           0,
           1,
           2,
           1,
           0,
           1,
           3,
           1,
           0,
           0,
           0,
           3,
           0,
           2,
           3,
           0,
           0,
           1,
           2,
           0,
           0,
           2,
           1,
           0,
           2,
           2,
           2,
           0,
           2,
           1,
           1,
           1,
           0,
           1,
           2,
           0,
           3,
           0,
           3,
           1,
           1,
           2,
           3,
           0,
           3,
           0,
           0,
           1,
           0,
           0,
           0,
           0,
           1,
           1,
           0,
           1,
           3,
           2,
           0,
           1,
           1,
           1,
           1,
           1,
           2,
           1,
           0,
           2,
           2,
           0,
           0,
           0,
           1,
           0,
           2,
           1,
           1,
           1,
           3,
           2,
           0,
           0,
           0,
           1,
           2,
           0,
           1,
           0,
           0,
           2,
           0,
           2,
           1,
           0,
           0,
           2,
           3,
           1,
           1,
           1,
           1,
           2,
           0,
           1,
           1,
           1,
           2,
           2,
           0,
           0,
           0,
           3,
           0,
           2,
           1,
           0,
           1,
           1,
           0,
           1,
           0,
           0,
           1,
           0,
           1,
           0,
           3,
           0,
           2,
           0,
           1,
           0,
           0,
           0,
           0,
           1,
           2,
           1,
           0,
           0,
           0,
           1,
           0,
           1,
           0,
           1,
           0,
           1,
           0,
           0,
           0,
           0,
           0,
           1,
           0,
           1,
           1,
           1,
           0,
           3,
           3,
           3,
           3,
           0,
           2,
           0,
           0,
           0,
           1,
           1,
           0,
           0,
           0,
           0,
           2,
           2,
           0,
           1,
           2,
           0,
           2,
           1,
           1,
           2,
           1,
           1,
           2,
           1,
           1,
           0,
           0,
           0,
           1,
           1,
           0,
           0,
           1,
           0,
           2,
           1,
           1,
           1,
           1,
           0,
           2,
           1,
           0,
           1,
           1,
           3,
           1,
           2,
           0,
           1,
           1,
           0,
           1,
           0,
           0,
           1,
           1,
           2,
           0,
           0,
           1,
           1,
           1,
           0,
           2,
           1,
           0,
           0,
           1,
           1,
           0,
           0,
           0,
           0,
           0,
           0,
           1,
           1,
           1,
           1,
           1,
           3,
           1,
           1,
           3,
           1,
           1,
           0,
           1,
           0,
           0,
           1,
           1,
           0,
           0,
           1,
           1,
           3,
           0,
           0,
           3,
           0,
           0,
           2,
           0,
           0,
           1,
           0,
           0,
           1,
           1,
           1,
           0,
           2,
           2,
           0,
           0,
           0,
           1,
           1,
           1,
           0,
           3,
           0,
           2,
           1,
           0,
           1,
           3,
           2,
           1,
           2,
           3,
           2,
           3,
           3,
           0,
           1,
           0,
           2,
           3,
           1,
           0,
           1,
           2,
           1,
           1,
           0,
           0,
           0,
           0,
           0,
           0,
           1,
           0,
           1,
           0,
           1,
           1,
           0,
           0,
           3,
           0,
           0,
           0,
           0,
           0,
           0,
           0,
           0,
           1,
           0,
           0,
           1,
           1,
           1,
           0,
           1,
           2,
           1,
           3,
           1,
           2,
           0,
           1,
           2,
           1,
           0,
           3,
           0,
           0,
           2,
           0,
           1,
           1,
           3,
           3,
           2,
           3,
           3,
           3,
           0,
           3,
           2,
           1,
           0,
           1,
           1,
           0,
           1,
           0,
           0,
           1,
           3,
           0,
           1,
           0,
           1,
           0,
           1,
           1,
           0,
           0,
           0
          ],
          "coloraxis": "coloraxis",
          "symbol": "circle"
         },
         "mode": "markers",
         "name": "",
         "orientation": "v",
         "showlegend": false,
         "type": "scatter",
         "x": [
          0.43401468288165856,
          -0.5369110096371854,
          0.434014682881655,
          0.4340146828816546,
          0.43401468288165096,
          0.4340146828816548,
          -0.5328618981768747,
          0.6723152013590571,
          0.4340146828816559,
          0.4340146828816559,
          -0.536911009637194,
          -0.536911009637194,
          -0.536911009637194,
          -0.536911009637194,
          -0.536911009637194,
          0.6723152013590581,
          -0.29861049115979166,
          0.4340146828816559,
          0.4340146828816559,
          0.4340146828816559,
          -0.536911009637194,
          0.6723152013590581,
          -0.536911009637194,
          0.4340146828816559,
          0.6723152013590581,
          -0.29861049115979166,
          0.6723152013590581,
          0.4340146828816559,
          0.4340146828816559,
          -0.29861049115979166,
          0.4340146828816559,
          -0.29861049115979166,
          0.4340146828816559,
          -0.536911009637194,
          0.4340146828816559,
          -0.536911009637194,
          0.4340146828816559,
          -0.536911009637194,
          -0.536911009637194,
          0.4340146828816559,
          -0.536911009637194,
          0.4340146828816559,
          0.4340146828816559,
          -0.536911009637194,
          0.4340146828816559,
          -0.536911009637194,
          -0.536911009637194,
          -0.536911009637194,
          0.4340146828816559,
          -0.536911009637194,
          0.4340146828816559,
          0.4340146828816559,
          -0.536911009637194,
          0.4340146828816559,
          0.6723152013590581,
          0.4340146828816559,
          -0.536911009637194,
          0.4426501947748165,
          -0.29861049115979166,
          0.4340146828816559,
          -0.5282754977440334,
          -0.536911009637194,
          -0.536911009637194,
          -0.29861049115979166,
          -0.536911009637194,
          0.6677288009262096,
          -0.29861049115979166,
          -0.536911009637194,
          -0.536911009637194,
          0.4340146828816559,
          0.6723152013590581,
          -0.536911009637194,
          -0.5294352601712469,
          0.6723152013590581,
          0.4340146828816559,
          -0.536911009637194,
          0.6723152013590581,
          0.6723152013590581,
          0.6723152013590581,
          -0.536911009637194,
          0.6723152013590581,
          0.4340146828816559,
          0.4426501947748165,
          0.4426501947748165,
          -0.536911009637194,
          0.4426501947748165,
          0.6723152013590581,
          -0.5291308558598915,
          -0.29861049115979166,
          -0.536911009637194,
          -0.29861049115979166,
          0.4340146828816559,
          0.4340146828816559,
          0.6723152013590581,
          -0.29861049115979166,
          -0.536911009637194,
          -0.29861049115979166,
          -0.536911009637194,
          -0.536911009637194,
          0.410351152213359,
          -0.536911009637194,
          -0.536911009637194,
          -0.536911009637194,
          -0.536911009637194,
          0.4340146828816559,
          0.4340146828816559,
          -0.536911009637194,
          0.4340146828816559,
          -0.29861049115979166,
          0.688426462718166,
          -0.536911009637194,
          0.4340146828816559,
          0.4340146828816559,
          0.4340146828816559,
          0.4340146828816559,
          0.4340146828816559,
          0.6723152013590581,
          0.4340146828816559,
          -0.536911009637194,
          0.6723152013590581,
          0.6723152013590581,
          -0.536911009637194,
          -0.536911009637194,
          -0.536911009637194,
          0.4340146828816559,
          -0.536911009637194,
          0.6797909508250053,
          0.4340146828816559,
          0.4340146828816559,
          0.4340146828816559,
          -0.29861049115979166,
          0.6723152013590581,
          -0.536911009637194,
          -0.536911009637194,
          -0.536911009637194,
          0.4340146828816559,
          0.6723152013590581,
          -0.536911009637194,
          0.4340146828816559,
          -0.5414974100700426,
          -0.5605745403054908,
          0.6723152013590581,
          -0.536911009637194,
          0.6723152013590581,
          0.4340146828816559,
          -0.536911009637194,
          -0.536911009637194,
          0.6723152013590581,
          -0.29861049115979166,
          0.4340146828816559,
          0.4340146828816559,
          0.4340146828816559,
          0.4340146828816559,
          0.6723152013590581,
          -0.536911009637194,
          0.4340146828816559,
          0.4340146828816559,
          0.4340146828816559,
          0.6723152013590581,
          0.6723152013590581,
          -0.536911009637194,
          -0.536911009637194,
          -0.536911009637194,
          -0.29861049115979166,
          -0.536911009637194,
          0.6677288009262096,
          0.4340146828816559,
          -0.536911009637194,
          0.4340146828816559,
          0.4340146828816559,
          -0.536911009637194,
          0.4340146828816559,
          -0.536911009637194,
          -0.536911009637194,
          0.4340146828816559,
          -0.5559881398726421,
          0.4340146828816559,
          -0.536911009637194,
          -0.29861049115979166,
          -0.536911009637194,
          0.6723152013590581,
          -0.536911009637194,
          0.4340146828816559,
          -0.536911009637194,
          -0.536911009637194,
          -0.536911009637194,
          -0.536911009637194,
          0.4340146828816559,
          0.6723152013590581,
          0.4340146828816559,
          -0.536911009637194,
          -0.536911009637194,
          -0.536911009637194,
          0.4340146828816559,
          -0.536911009637194,
          0.4340146828816559,
          -0.536911009637194,
          0.4340146828816559,
          -0.536911009637194,
          0.4340146828816559,
          -0.536911009637194,
          -0.536911009637194,
          -0.536911009637194,
          -0.536911009637194,
          -0.5559881398726421,
          0.4340146828816559,
          -0.536911009637194,
          0.4340146828816559,
          0.4340146828816559,
          0.43315932476579794,
          -0.536911009637194,
          -0.3222740218280885,
          -0.29861049115979166,
          -0.29861049115979166,
          -0.29861049115979166,
          -0.5559881398726421,
          0.6723152013590581,
          -0.536911009637194,
          -0.536911009637194,
          -0.536911009637194,
          0.4340146828816559,
          0.4340146828816559,
          -0.5282754977440334,
          -0.536911009637194,
          -0.536911009637194,
          -0.536911009637194,
          0.6723152013590581,
          0.6723152013590581,
          -0.536911009637194,
          0.4340146828816559,
          0.6723152013590581,
          -0.536911009637194,
          0.6723152013590581,
          0.4340146828816559,
          0.4426501947748165,
          0.6723152013590581,
          0.4340146828816559,
          0.4340146828816559,
          0.6723152013590581,
          0.4340146828816559,
          0.4340146828816559,
          -0.536911009637194,
          -0.536911009637194,
          -0.536911009637194,
          0.4340146828816559,
          0.4340146828816559,
          -0.536911009637194,
          -0.536911009637194,
          0.4340146828816559,
          -0.536911009637194,
          0.6723152013590581,
          0.4340146828816559,
          0.4340146828816559,
          0.4340146828816559,
          0.4340146828816559,
          -0.536911009637194,
          0.6723152013590581,
          0.4340146828816559,
          -0.536911009637194,
          0.4340146828816559,
          0.4340146828816559,
          -0.29861049115979166,
          0.4340146828816559,
          0.6723152013590581,
          -0.536911009637194,
          0.4340146828816559,
          0.4340146828816559,
          -0.536911009637194,
          0.4340146828816559,
          -0.536911009637194,
          -0.536911009637194,
          0.4340146828816559,
          0.4340146828816559,
          0.6723152013590581,
          -0.536911009637194,
          -0.536911009637194,
          0.4340146828816559,
          0.4340146828816559,
          0.4340146828816559,
          -0.536911009637194,
          0.6723152013590581,
          0.4340146828816559,
          -0.536911009637194,
          -0.536911009637194,
          0.4340146828816559,
          0.4340146828816559,
          -0.536911009637194,
          -0.536911009637194,
          -0.536911009637194,
          -0.536911009637194,
          -0.536911009637194,
          -0.5282754977440334,
          0.4340146828816559,
          0.4340146828816559,
          0.4340146828816559,
          0.4340146828816559,
          0.4340146828816559,
          -0.29861049115979166,
          0.4340146828816559,
          0.4340146828816559,
          -0.29861049115979166,
          0.4340146828816559,
          0.4340146828816559,
          -0.536911009637194,
          0.4340146828816559,
          -0.5282754977440334,
          -0.536911009637194,
          0.4340146828816559,
          0.4340146828816559,
          -0.536911009637194,
          -0.536911009637194,
          0.4340146828816559,
          0.4340146828816559,
          -0.29861049115979166,
          -0.536911009637194,
          -0.536911009637194,
          -0.29861049115979166,
          -0.536911009637194,
          -0.536911009637194,
          0.6723152013590581,
          -0.536911009637194,
          -0.536911009637194,
          0.4340146828816559,
          -0.536911009637194,
          -0.536911009637194,
          0.4340146828816559,
          0.4340146828816559,
          0.4340146828816559,
          -0.536911009637194,
          0.6723152013590581,
          0.6723152013590581,
          -0.536911009637194,
          -0.536911009637194,
          -0.536911009637194,
          0.4340146828816559,
          0.4340146828816559,
          0.4340146828816559,
          -0.536911009637194,
          -0.30319689159264035,
          -0.536911009637194,
          0.6723152013590581,
          0.4340146828816559,
          -0.536911009637194,
          0.4340146828816559,
          -0.29861049115979166,
          0.6723152013590581,
          0.4340146828816559,
          0.6723152013590581,
          -0.29861049115979166,
          0.6723152013590581,
          -0.29861049115979166,
          -0.29861049115979166,
          -0.536911009637194,
          0.4340146828816559,
          -0.536911009637194,
          0.6723152013590581,
          -0.29861049115979166,
          0.4340146828816559,
          -0.536911009637194,
          0.4340146828816559,
          0.6723152013590581,
          0.4340146828816559,
          0.4340146828816559,
          -0.536911009637194,
          -0.536911009637194,
          -0.536911009637194,
          -0.536911009637194,
          -0.536911009637194,
          -0.536911009637194,
          0.4340146828816559,
          -0.536911009637194,
          0.4340146828816559,
          -0.536911009637194,
          0.4340146828816559,
          0.4426501947748165,
          -0.536911009637194,
          -0.536911009637194,
          -0.29861049115979166,
          -0.536911009637194,
          -0.536911009637194,
          -0.536911009637194,
          -0.536911009637194,
          -0.536911009637194,
          -0.536911009637194,
          -0.536911009637194,
          -0.536911009637194,
          0.4340146828816559,
          -0.536911009637194,
          -0.536911009637194,
          0.4426501947748165,
          0.4340146828816559,
          0.4340146828816559,
          -0.536911009637194,
          0.4340146828816559,
          0.6723152013590581,
          0.4340146828816559,
          -0.29861049115979166,
          0.4340146828816559,
          0.6723152013590581,
          -0.536911009637194,
          0.4340146828816559,
          0.6723152013590581,
          0.4340146828816559,
          -0.536911009637194,
          -0.29861049115979166,
          -0.536911009637194,
          -0.536911009637194,
          0.6723152013590581,
          -0.536911009637194,
          0.4340146828816559,
          0.4340146828816559,
          -0.29861049115979166,
          -0.29861049115979166,
          0.6723152013590581,
          -0.29861049115979166,
          -0.29861049115979166,
          -0.29861049115979166,
          -0.536911009637194,
          -0.29861049115979166,
          0.6723152013590581,
          0.4340146828816559,
          -0.536911009637194,
          0.4340146828816559,
          0.4340146828816559,
          -0.536911009637194,
          0.4426501947748165,
          -0.536911009637194,
          -0.536911009637194,
          0.4340146828816559,
          -0.29861049115979166,
          -0.536911009637194,
          0.4340146828816559,
          -0.536911009637194,
          0.4340146828816559,
          -0.5282754977440334,
          0.4426501947748165,
          0.4340146828816559,
          -0.536911009637194,
          -0.536911009637194,
          -0.536911009637194
         ],
         "xaxis": "x",
         "y": [
          -0.3360000580231605,
          -0.0986917607290226,
          -0.33600005802316246,
          -0.3360000580231622,
          -0.3360000580231614,
          -0.3360000580231614,
          -0.11629877894124424,
          0.6332313442179694,
          -0.336000058023162,
          -0.336000058023162,
          -0.09869176072902028,
          -0.09869176072902028,
          -0.09869176072902028,
          -0.09869176072902028,
          -0.09869176072902028,
          0.6332313442179692,
          0.8705396415121109,
          -0.336000058023162,
          -0.336000058023162,
          -0.336000058023162,
          -0.09869176072902028,
          0.6332313442179692,
          -0.09869176072902028,
          -0.336000058023162,
          0.6332313442179692,
          0.8705396415121109,
          0.6332313442179692,
          -0.336000058023162,
          -0.336000058023162,
          0.8705396415121109,
          -0.336000058023162,
          0.8705396415121109,
          -0.336000058023162,
          -0.09869176072902028,
          -0.336000058023162,
          -0.09869176072902028,
          -0.336000058023162,
          -0.09869176072902028,
          -0.09869176072902028,
          -0.336000058023162,
          -0.09869176072902028,
          -0.336000058023162,
          -0.336000058023162,
          -0.09869176072902028,
          -0.336000058023162,
          -0.09869176072902028,
          -0.09869176072902028,
          -0.09869176072902028,
          -0.336000058023162,
          -0.09869176072902028,
          -0.336000058023162,
          -0.336000058023162,
          -0.09869176072902028,
          -0.336000058023162,
          0.6332313442179692,
          -0.336000058023162,
          -0.09869176072902028,
          -0.388518200582448,
          0.8705396415121109,
          -0.336000058023162,
          -0.15120990328830622,
          -0.09869176072902028,
          -0.09869176072902028,
          0.8705396415121109,
          -0.09869176072902028,
          0.668142468565032,
          0.8705396415121109,
          -0.09869176072902028,
          -0.09869176072902028,
          -0.336000058023162,
          0.6332313442179692,
          -0.09869176072902028,
          -0.08316853009421933,
          0.6332313442179692,
          -0.336000058023162,
          -0.09869176072902028,
          0.6332313442179692,
          0.6332313442179692,
          0.6332313442179692,
          -0.09869176072902028,
          0.6332313442179692,
          -0.336000058023162,
          -0.388518200582448,
          -0.388518200582448,
          -0.09869176072902028,
          -0.388518200582448,
          0.6332313442179692,
          -0.157898294703983,
          0.8705396415121109,
          -0.09869176072902028,
          0.8705396415121109,
          -0.336000058023162,
          -0.336000058023162,
          0.6332313442179692,
          0.8705396415121109,
          -0.09869176072902028,
          0.8705396415121109,
          -0.09869176072902028,
          -0.09869176072902028,
          -0.2975373460140498,
          -0.09869176072902028,
          -0.09869176072902028,
          -0.09869176072902028,
          -0.09869176072902028,
          -0.336000058023162,
          -0.336000058023162,
          -0.09869176072902028,
          -0.336000058023162,
          0.8705396415121109,
          0.5962364322934843,
          -0.09869176072902028,
          -0.336000058023162,
          -0.336000058023162,
          -0.336000058023162,
          -0.336000058023162,
          -0.336000058023162,
          0.6332313442179692,
          -0.336000058023162,
          -0.09869176072902028,
          0.6332313442179692,
          0.6332313442179692,
          -0.09869176072902028,
          -0.09869176072902028,
          -0.09869176072902028,
          -0.336000058023162,
          -0.09869176072902028,
          0.6487545748527702,
          -0.336000058023162,
          -0.336000058023162,
          -0.336000058023162,
          0.8705396415121109,
          0.6332313442179692,
          -0.09869176072902028,
          -0.09869176072902028,
          -0.09869176072902028,
          -0.336000058023162,
          0.6332313442179692,
          -0.09869176072902028,
          -0.336000058023162,
          -0.06378063638195762,
          -0.060229048719908036,
          0.6332313442179692,
          -0.09869176072902028,
          0.6332313442179692,
          -0.336000058023162,
          -0.09869176072902028,
          -0.09869176072902028,
          0.6332313442179692,
          0.8705396415121109,
          -0.336000058023162,
          -0.336000058023162,
          -0.336000058023162,
          -0.336000058023162,
          0.6332313442179692,
          -0.09869176072902028,
          -0.336000058023162,
          -0.336000058023162,
          -0.336000058023162,
          0.6332313442179692,
          0.6332313442179692,
          -0.09869176072902028,
          -0.09869176072902028,
          -0.09869176072902028,
          0.8705396415121109,
          -0.09869176072902028,
          0.668142468565032,
          -0.336000058023162,
          -0.09869176072902028,
          -0.336000058023162,
          -0.336000058023162,
          -0.09869176072902028,
          -0.336000058023162,
          -0.09869176072902028,
          -0.09869176072902028,
          -0.336000058023162,
          -0.09514017306697081,
          -0.336000058023162,
          -0.09869176072902028,
          0.8705396415121109,
          -0.09869176072902028,
          0.6332313442179692,
          -0.09869176072902028,
          -0.336000058023162,
          -0.09869176072902028,
          -0.09869176072902028,
          -0.09869176072902028,
          -0.09869176072902028,
          -0.336000058023162,
          0.6332313442179692,
          -0.336000058023162,
          -0.09869176072902028,
          -0.09869176072902028,
          -0.09869176072902028,
          -0.336000058023162,
          -0.09869176072902028,
          -0.336000058023162,
          -0.09869176072902028,
          -0.336000058023162,
          -0.09869176072902028,
          -0.336000058023162,
          -0.09869176072902028,
          -0.09869176072902028,
          -0.09869176072902028,
          -0.09869176072902028,
          -0.09514017306697081,
          -0.336000058023162,
          -0.09869176072902028,
          -0.336000058023162,
          -0.336000058023162,
          -0.3426884494388389,
          -0.09869176072902028,
          0.9090023535212232,
          0.8705396415121109,
          0.8705396415121109,
          0.8705396415121109,
          -0.09514017306697081,
          0.6332313442179692,
          -0.09869176072902028,
          -0.09869176072902028,
          -0.09869176072902028,
          -0.336000058023162,
          -0.336000058023162,
          -0.15120990328830622,
          -0.09869176072902028,
          -0.09869176072902028,
          -0.09869176072902028,
          0.6332313442179692,
          0.6332313442179692,
          -0.09869176072902028,
          -0.336000058023162,
          0.6332313442179692,
          -0.09869176072902028,
          0.6332313442179692,
          -0.336000058023162,
          -0.388518200582448,
          0.6332313442179692,
          -0.336000058023162,
          -0.336000058023162,
          0.6332313442179692,
          -0.336000058023162,
          -0.336000058023162,
          -0.09869176072902028,
          -0.09869176072902028,
          -0.09869176072902028,
          -0.336000058023162,
          -0.336000058023162,
          -0.09869176072902028,
          -0.09869176072902028,
          -0.336000058023162,
          -0.09869176072902028,
          0.6332313442179692,
          -0.336000058023162,
          -0.336000058023162,
          -0.336000058023162,
          -0.336000058023162,
          -0.09869176072902028,
          0.6332313442179692,
          -0.336000058023162,
          -0.09869176072902028,
          -0.336000058023162,
          -0.336000058023162,
          0.8705396415121109,
          -0.336000058023162,
          0.6332313442179692,
          -0.09869176072902028,
          -0.336000058023162,
          -0.336000058023162,
          -0.09869176072902028,
          -0.336000058023162,
          -0.09869176072902028,
          -0.09869176072902028,
          -0.336000058023162,
          -0.336000058023162,
          0.6332313442179692,
          -0.09869176072902028,
          -0.09869176072902028,
          -0.336000058023162,
          -0.336000058023162,
          -0.336000058023162,
          -0.09869176072902028,
          0.6332313442179692,
          -0.336000058023162,
          -0.09869176072902028,
          -0.09869176072902028,
          -0.336000058023162,
          -0.336000058023162,
          -0.09869176072902028,
          -0.09869176072902028,
          -0.09869176072902028,
          -0.09869176072902028,
          -0.09869176072902028,
          -0.15120990328830622,
          -0.336000058023162,
          -0.336000058023162,
          -0.336000058023162,
          -0.336000058023162,
          -0.336000058023162,
          0.8705396415121109,
          -0.336000058023162,
          -0.336000058023162,
          0.8705396415121109,
          -0.336000058023162,
          -0.336000058023162,
          -0.09869176072902028,
          -0.336000058023162,
          -0.15120990328830622,
          -0.09869176072902028,
          -0.336000058023162,
          -0.336000058023162,
          -0.09869176072902028,
          -0.09869176072902028,
          -0.336000058023162,
          -0.336000058023162,
          0.8705396415121109,
          -0.09869176072902028,
          -0.09869176072902028,
          0.8705396415121109,
          -0.09869176072902028,
          -0.09869176072902028,
          0.6332313442179692,
          -0.09869176072902028,
          -0.09869176072902028,
          -0.336000058023162,
          -0.09869176072902028,
          -0.09869176072902028,
          -0.336000058023162,
          -0.336000058023162,
          -0.336000058023162,
          -0.09869176072902028,
          0.6332313442179692,
          0.6332313442179692,
          -0.09869176072902028,
          -0.09869176072902028,
          -0.09869176072902028,
          -0.336000058023162,
          -0.336000058023162,
          -0.336000058023162,
          -0.09869176072902028,
          0.9054507658591737,
          -0.09869176072902028,
          0.6332313442179692,
          -0.336000058023162,
          -0.09869176072902028,
          -0.336000058023162,
          0.8705396415121109,
          0.6332313442179692,
          -0.336000058023162,
          0.6332313442179692,
          0.8705396415121109,
          0.6332313442179692,
          0.8705396415121109,
          0.8705396415121109,
          -0.09869176072902028,
          -0.336000058023162,
          -0.09869176072902028,
          0.6332313442179692,
          0.8705396415121109,
          -0.336000058023162,
          -0.09869176072902028,
          -0.336000058023162,
          0.6332313442179692,
          -0.336000058023162,
          -0.336000058023162,
          -0.09869176072902028,
          -0.09869176072902028,
          -0.09869176072902028,
          -0.09869176072902028,
          -0.09869176072902028,
          -0.09869176072902028,
          -0.336000058023162,
          -0.09869176072902028,
          -0.336000058023162,
          -0.09869176072902028,
          -0.336000058023162,
          -0.388518200582448,
          -0.09869176072902028,
          -0.09869176072902028,
          0.8705396415121109,
          -0.09869176072902028,
          -0.09869176072902028,
          -0.09869176072902028,
          -0.09869176072902028,
          -0.09869176072902028,
          -0.09869176072902028,
          -0.09869176072902028,
          -0.09869176072902028,
          -0.336000058023162,
          -0.09869176072902028,
          -0.09869176072902028,
          -0.388518200582448,
          -0.336000058023162,
          -0.336000058023162,
          -0.09869176072902028,
          -0.336000058023162,
          0.6332313442179692,
          -0.336000058023162,
          0.8705396415121109,
          -0.336000058023162,
          0.6332313442179692,
          -0.09869176072902028,
          -0.336000058023162,
          0.6332313442179692,
          -0.336000058023162,
          -0.09869176072902028,
          0.8705396415121109,
          -0.09869176072902028,
          -0.09869176072902028,
          0.6332313442179692,
          -0.09869176072902028,
          -0.336000058023162,
          -0.336000058023162,
          0.8705396415121109,
          0.8705396415121109,
          0.6332313442179692,
          0.8705396415121109,
          0.8705396415121109,
          0.8705396415121109,
          -0.09869176072902028,
          0.8705396415121109,
          0.6332313442179692,
          -0.336000058023162,
          -0.09869176072902028,
          -0.336000058023162,
          -0.336000058023162,
          -0.09869176072902028,
          -0.388518200582448,
          -0.09869176072902028,
          -0.09869176072902028,
          -0.336000058023162,
          0.8705396415121109,
          -0.09869176072902028,
          -0.336000058023162,
          -0.09869176072902028,
          -0.336000058023162,
          -0.15120990328830622,
          -0.388518200582448,
          -0.336000058023162,
          -0.09869176072902028,
          -0.09869176072902028,
          -0.09869176072902028
         ],
         "yaxis": "y"
        }
       ],
       "layout": {
        "coloraxis": {
         "colorbar": {
          "title": {
           "text": "color"
          }
         },
         "colorscale": [
          [
           0,
           "#0d0887"
          ],
          [
           0.1111111111111111,
           "#46039f"
          ],
          [
           0.2222222222222222,
           "#7201a8"
          ],
          [
           0.3333333333333333,
           "#9c179e"
          ],
          [
           0.4444444444444444,
           "#bd3786"
          ],
          [
           0.5555555555555556,
           "#d8576b"
          ],
          [
           0.6666666666666666,
           "#ed7953"
          ],
          [
           0.7777777777777778,
           "#fb9f3a"
          ],
          [
           0.8888888888888888,
           "#fdca26"
          ],
          [
           1,
           "#f0f921"
          ]
         ]
        },
        "legend": {
         "tracegroupgap": 0
        },
        "margin": {
         "t": 60
        },
        "template": {
         "data": {
          "bar": [
           {
            "error_x": {
             "color": "#2a3f5f"
            },
            "error_y": {
             "color": "#2a3f5f"
            },
            "marker": {
             "line": {
              "color": "#E5ECF6",
              "width": 0.5
             },
             "pattern": {
              "fillmode": "overlay",
              "size": 10,
              "solidity": 0.2
             }
            },
            "type": "bar"
           }
          ],
          "barpolar": [
           {
            "marker": {
             "line": {
              "color": "#E5ECF6",
              "width": 0.5
             },
             "pattern": {
              "fillmode": "overlay",
              "size": 10,
              "solidity": 0.2
             }
            },
            "type": "barpolar"
           }
          ],
          "carpet": [
           {
            "aaxis": {
             "endlinecolor": "#2a3f5f",
             "gridcolor": "white",
             "linecolor": "white",
             "minorgridcolor": "white",
             "startlinecolor": "#2a3f5f"
            },
            "baxis": {
             "endlinecolor": "#2a3f5f",
             "gridcolor": "white",
             "linecolor": "white",
             "minorgridcolor": "white",
             "startlinecolor": "#2a3f5f"
            },
            "type": "carpet"
           }
          ],
          "choropleth": [
           {
            "colorbar": {
             "outlinewidth": 0,
             "ticks": ""
            },
            "type": "choropleth"
           }
          ],
          "contour": [
           {
            "colorbar": {
             "outlinewidth": 0,
             "ticks": ""
            },
            "colorscale": [
             [
              0,
              "#0d0887"
             ],
             [
              0.1111111111111111,
              "#46039f"
             ],
             [
              0.2222222222222222,
              "#7201a8"
             ],
             [
              0.3333333333333333,
              "#9c179e"
             ],
             [
              0.4444444444444444,
              "#bd3786"
             ],
             [
              0.5555555555555556,
              "#d8576b"
             ],
             [
              0.6666666666666666,
              "#ed7953"
             ],
             [
              0.7777777777777778,
              "#fb9f3a"
             ],
             [
              0.8888888888888888,
              "#fdca26"
             ],
             [
              1,
              "#f0f921"
             ]
            ],
            "type": "contour"
           }
          ],
          "contourcarpet": [
           {
            "colorbar": {
             "outlinewidth": 0,
             "ticks": ""
            },
            "type": "contourcarpet"
           }
          ],
          "heatmap": [
           {
            "colorbar": {
             "outlinewidth": 0,
             "ticks": ""
            },
            "colorscale": [
             [
              0,
              "#0d0887"
             ],
             [
              0.1111111111111111,
              "#46039f"
             ],
             [
              0.2222222222222222,
              "#7201a8"
             ],
             [
              0.3333333333333333,
              "#9c179e"
             ],
             [
              0.4444444444444444,
              "#bd3786"
             ],
             [
              0.5555555555555556,
              "#d8576b"
             ],
             [
              0.6666666666666666,
              "#ed7953"
             ],
             [
              0.7777777777777778,
              "#fb9f3a"
             ],
             [
              0.8888888888888888,
              "#fdca26"
             ],
             [
              1,
              "#f0f921"
             ]
            ],
            "type": "heatmap"
           }
          ],
          "heatmapgl": [
           {
            "colorbar": {
             "outlinewidth": 0,
             "ticks": ""
            },
            "colorscale": [
             [
              0,
              "#0d0887"
             ],
             [
              0.1111111111111111,
              "#46039f"
             ],
             [
              0.2222222222222222,
              "#7201a8"
             ],
             [
              0.3333333333333333,
              "#9c179e"
             ],
             [
              0.4444444444444444,
              "#bd3786"
             ],
             [
              0.5555555555555556,
              "#d8576b"
             ],
             [
              0.6666666666666666,
              "#ed7953"
             ],
             [
              0.7777777777777778,
              "#fb9f3a"
             ],
             [
              0.8888888888888888,
              "#fdca26"
             ],
             [
              1,
              "#f0f921"
             ]
            ],
            "type": "heatmapgl"
           }
          ],
          "histogram": [
           {
            "marker": {
             "pattern": {
              "fillmode": "overlay",
              "size": 10,
              "solidity": 0.2
             }
            },
            "type": "histogram"
           }
          ],
          "histogram2d": [
           {
            "colorbar": {
             "outlinewidth": 0,
             "ticks": ""
            },
            "colorscale": [
             [
              0,
              "#0d0887"
             ],
             [
              0.1111111111111111,
              "#46039f"
             ],
             [
              0.2222222222222222,
              "#7201a8"
             ],
             [
              0.3333333333333333,
              "#9c179e"
             ],
             [
              0.4444444444444444,
              "#bd3786"
             ],
             [
              0.5555555555555556,
              "#d8576b"
             ],
             [
              0.6666666666666666,
              "#ed7953"
             ],
             [
              0.7777777777777778,
              "#fb9f3a"
             ],
             [
              0.8888888888888888,
              "#fdca26"
             ],
             [
              1,
              "#f0f921"
             ]
            ],
            "type": "histogram2d"
           }
          ],
          "histogram2dcontour": [
           {
            "colorbar": {
             "outlinewidth": 0,
             "ticks": ""
            },
            "colorscale": [
             [
              0,
              "#0d0887"
             ],
             [
              0.1111111111111111,
              "#46039f"
             ],
             [
              0.2222222222222222,
              "#7201a8"
             ],
             [
              0.3333333333333333,
              "#9c179e"
             ],
             [
              0.4444444444444444,
              "#bd3786"
             ],
             [
              0.5555555555555556,
              "#d8576b"
             ],
             [
              0.6666666666666666,
              "#ed7953"
             ],
             [
              0.7777777777777778,
              "#fb9f3a"
             ],
             [
              0.8888888888888888,
              "#fdca26"
             ],
             [
              1,
              "#f0f921"
             ]
            ],
            "type": "histogram2dcontour"
           }
          ],
          "mesh3d": [
           {
            "colorbar": {
             "outlinewidth": 0,
             "ticks": ""
            },
            "type": "mesh3d"
           }
          ],
          "parcoords": [
           {
            "line": {
             "colorbar": {
              "outlinewidth": 0,
              "ticks": ""
             }
            },
            "type": "parcoords"
           }
          ],
          "pie": [
           {
            "automargin": true,
            "type": "pie"
           }
          ],
          "scatter": [
           {
            "fillpattern": {
             "fillmode": "overlay",
             "size": 10,
             "solidity": 0.2
            },
            "type": "scatter"
           }
          ],
          "scatter3d": [
           {
            "line": {
             "colorbar": {
              "outlinewidth": 0,
              "ticks": ""
             }
            },
            "marker": {
             "colorbar": {
              "outlinewidth": 0,
              "ticks": ""
             }
            },
            "type": "scatter3d"
           }
          ],
          "scattercarpet": [
           {
            "marker": {
             "colorbar": {
              "outlinewidth": 0,
              "ticks": ""
             }
            },
            "type": "scattercarpet"
           }
          ],
          "scattergeo": [
           {
            "marker": {
             "colorbar": {
              "outlinewidth": 0,
              "ticks": ""
             }
            },
            "type": "scattergeo"
           }
          ],
          "scattergl": [
           {
            "marker": {
             "colorbar": {
              "outlinewidth": 0,
              "ticks": ""
             }
            },
            "type": "scattergl"
           }
          ],
          "scattermapbox": [
           {
            "marker": {
             "colorbar": {
              "outlinewidth": 0,
              "ticks": ""
             }
            },
            "type": "scattermapbox"
           }
          ],
          "scatterpolar": [
           {
            "marker": {
             "colorbar": {
              "outlinewidth": 0,
              "ticks": ""
             }
            },
            "type": "scatterpolar"
           }
          ],
          "scatterpolargl": [
           {
            "marker": {
             "colorbar": {
              "outlinewidth": 0,
              "ticks": ""
             }
            },
            "type": "scatterpolargl"
           }
          ],
          "scatterternary": [
           {
            "marker": {
             "colorbar": {
              "outlinewidth": 0,
              "ticks": ""
             }
            },
            "type": "scatterternary"
           }
          ],
          "surface": [
           {
            "colorbar": {
             "outlinewidth": 0,
             "ticks": ""
            },
            "colorscale": [
             [
              0,
              "#0d0887"
             ],
             [
              0.1111111111111111,
              "#46039f"
             ],
             [
              0.2222222222222222,
              "#7201a8"
             ],
             [
              0.3333333333333333,
              "#9c179e"
             ],
             [
              0.4444444444444444,
              "#bd3786"
             ],
             [
              0.5555555555555556,
              "#d8576b"
             ],
             [
              0.6666666666666666,
              "#ed7953"
             ],
             [
              0.7777777777777778,
              "#fb9f3a"
             ],
             [
              0.8888888888888888,
              "#fdca26"
             ],
             [
              1,
              "#f0f921"
             ]
            ],
            "type": "surface"
           }
          ],
          "table": [
           {
            "cells": {
             "fill": {
              "color": "#EBF0F8"
             },
             "line": {
              "color": "white"
             }
            },
            "header": {
             "fill": {
              "color": "#C8D4E3"
             },
             "line": {
              "color": "white"
             }
            },
            "type": "table"
           }
          ]
         },
         "layout": {
          "annotationdefaults": {
           "arrowcolor": "#2a3f5f",
           "arrowhead": 0,
           "arrowwidth": 1
          },
          "autotypenumbers": "strict",
          "coloraxis": {
           "colorbar": {
            "outlinewidth": 0,
            "ticks": ""
           }
          },
          "colorscale": {
           "diverging": [
            [
             0,
             "#8e0152"
            ],
            [
             0.1,
             "#c51b7d"
            ],
            [
             0.2,
             "#de77ae"
            ],
            [
             0.3,
             "#f1b6da"
            ],
            [
             0.4,
             "#fde0ef"
            ],
            [
             0.5,
             "#f7f7f7"
            ],
            [
             0.6,
             "#e6f5d0"
            ],
            [
             0.7,
             "#b8e186"
            ],
            [
             0.8,
             "#7fbc41"
            ],
            [
             0.9,
             "#4d9221"
            ],
            [
             1,
             "#276419"
            ]
           ],
           "sequential": [
            [
             0,
             "#0d0887"
            ],
            [
             0.1111111111111111,
             "#46039f"
            ],
            [
             0.2222222222222222,
             "#7201a8"
            ],
            [
             0.3333333333333333,
             "#9c179e"
            ],
            [
             0.4444444444444444,
             "#bd3786"
            ],
            [
             0.5555555555555556,
             "#d8576b"
            ],
            [
             0.6666666666666666,
             "#ed7953"
            ],
            [
             0.7777777777777778,
             "#fb9f3a"
            ],
            [
             0.8888888888888888,
             "#fdca26"
            ],
            [
             1,
             "#f0f921"
            ]
           ],
           "sequentialminus": [
            [
             0,
             "#0d0887"
            ],
            [
             0.1111111111111111,
             "#46039f"
            ],
            [
             0.2222222222222222,
             "#7201a8"
            ],
            [
             0.3333333333333333,
             "#9c179e"
            ],
            [
             0.4444444444444444,
             "#bd3786"
            ],
            [
             0.5555555555555556,
             "#d8576b"
            ],
            [
             0.6666666666666666,
             "#ed7953"
            ],
            [
             0.7777777777777778,
             "#fb9f3a"
            ],
            [
             0.8888888888888888,
             "#fdca26"
            ],
            [
             1,
             "#f0f921"
            ]
           ]
          },
          "colorway": [
           "#636efa",
           "#EF553B",
           "#00cc96",
           "#ab63fa",
           "#FFA15A",
           "#19d3f3",
           "#FF6692",
           "#B6E880",
           "#FF97FF",
           "#FECB52"
          ],
          "font": {
           "color": "#2a3f5f"
          },
          "geo": {
           "bgcolor": "white",
           "lakecolor": "white",
           "landcolor": "#E5ECF6",
           "showlakes": true,
           "showland": true,
           "subunitcolor": "white"
          },
          "hoverlabel": {
           "align": "left"
          },
          "hovermode": "closest",
          "mapbox": {
           "style": "light"
          },
          "paper_bgcolor": "white",
          "plot_bgcolor": "#E5ECF6",
          "polar": {
           "angularaxis": {
            "gridcolor": "white",
            "linecolor": "white",
            "ticks": ""
           },
           "bgcolor": "#E5ECF6",
           "radialaxis": {
            "gridcolor": "white",
            "linecolor": "white",
            "ticks": ""
           }
          },
          "scene": {
           "xaxis": {
            "backgroundcolor": "#E5ECF6",
            "gridcolor": "white",
            "gridwidth": 2,
            "linecolor": "white",
            "showbackground": true,
            "ticks": "",
            "zerolinecolor": "white"
           },
           "yaxis": {
            "backgroundcolor": "#E5ECF6",
            "gridcolor": "white",
            "gridwidth": 2,
            "linecolor": "white",
            "showbackground": true,
            "ticks": "",
            "zerolinecolor": "white"
           },
           "zaxis": {
            "backgroundcolor": "#E5ECF6",
            "gridcolor": "white",
            "gridwidth": 2,
            "linecolor": "white",
            "showbackground": true,
            "ticks": "",
            "zerolinecolor": "white"
           }
          },
          "shapedefaults": {
           "line": {
            "color": "#2a3f5f"
           }
          },
          "ternary": {
           "aaxis": {
            "gridcolor": "white",
            "linecolor": "white",
            "ticks": ""
           },
           "baxis": {
            "gridcolor": "white",
            "linecolor": "white",
            "ticks": ""
           },
           "bgcolor": "#E5ECF6",
           "caxis": {
            "gridcolor": "white",
            "linecolor": "white",
            "ticks": ""
           }
          },
          "title": {
           "x": 0.05
          },
          "xaxis": {
           "automargin": true,
           "gridcolor": "white",
           "linecolor": "white",
           "ticks": "",
           "title": {
            "standoff": 15
           },
           "zerolinecolor": "white",
           "zerolinewidth": 2
          },
          "yaxis": {
           "automargin": true,
           "gridcolor": "white",
           "linecolor": "white",
           "ticks": "",
           "title": {
            "standoff": 15
           },
           "zerolinecolor": "white",
           "zerolinewidth": 2
          }
         }
        },
        "xaxis": {
         "anchor": "y",
         "domain": [
          0,
          1
         ],
         "title": {
          "text": "PC 1 (50.6%)"
         }
        },
        "yaxis": {
         "anchor": "x",
         "domain": [
          0,
          1
         ],
         "title": {
          "text": "PC 2 (33.7%)"
         }
        }
       }
      }
     },
     "metadata": {},
     "output_type": "display_data"
    }
   ],
   "source": [
    "pca_services_2 = PCA(n_components=2)\n",
    "components_services_2 = pca_services_2.fit_transform(df_services.drop('cluster', axis=1))\n",
    "\n",
    "labels = {\n",
    "    str(i): f\"PC {i+1} ({var:.1f}%)\"\n",
    "    for i, var in enumerate(pca_services_2.explained_variance_ratio_ * 100)\n",
    "}\n",
    "\n",
    "fig = px.scatter(components_services_2, x=0, y=1, color=y_km_services_2, labels=labels)\n",
    "fig.show()"
   ]
  },
  {
   "attachments": {},
   "cell_type": "markdown",
   "metadata": {},
   "source": [
    "Nous voyons ici que c'est mieux que la découpe précédente, on a donc une meilleure classification. Le seul inconvénient est que nous ne pouvons pas réellement accordé à chaque groupe une modalité car les clusters se ressemblent beaucoup. Nous allons donc garder les modalités et valeurs fixés précedemment."
   ]
  },
  {
   "cell_type": "code",
   "execution_count": 16,
   "metadata": {},
   "outputs": [
    {
     "data": {
      "text/plain": [
       "Bien         341\n",
       "Trés bien     99\n",
       "Name: cluster, dtype: int64"
      ]
     },
     "execution_count": 16,
     "metadata": {},
     "output_type": "execute_result"
    }
   ],
   "source": [
    "df_services.cluster.replace({'0' : \"Trés bien\", \"1\": \"Bien\", \"2\": \"Bien\"}, inplace=True)\n",
    "\n",
    "df_services.cluster.value_counts()"
   ]
  },
  {
   "attachments": {},
   "cell_type": "markdown",
   "metadata": {},
   "source": [
    "### *Enregistrement du résultat*\n",
    "\n",
    "On peut maintenant enregistrer le résultat dans un fichier csv qui va être utilisé pour l'analyse finale."
   ]
  },
  {
   "cell_type": "code",
   "execution_count": 17,
   "metadata": {},
   "outputs": [
    {
     "data": {
      "text/html": [
       "<div>\n",
       "<style scoped>\n",
       "    .dataframe tbody tr th:only-of-type {\n",
       "        vertical-align: middle;\n",
       "    }\n",
       "\n",
       "    .dataframe tbody tr th {\n",
       "        vertical-align: top;\n",
       "    }\n",
       "\n",
       "    .dataframe thead th {\n",
       "        text-align: right;\n",
       "    }\n",
       "</style>\n",
       "<table border=\"1\" class=\"dataframe\">\n",
       "  <thead>\n",
       "    <tr style=\"text-align: right;\">\n",
       "      <th></th>\n",
       "      <th>services_num</th>\n",
       "    </tr>\n",
       "    <tr>\n",
       "      <th>Code_UAI</th>\n",
       "      <th></th>\n",
       "    </tr>\n",
       "  </thead>\n",
       "  <tbody>\n",
       "    <tr>\n",
       "      <th>0810016C</th>\n",
       "      <td>Bien</td>\n",
       "    </tr>\n",
       "    <tr>\n",
       "      <th>0810026N</th>\n",
       "      <td>Bien</td>\n",
       "    </tr>\n",
       "    <tr>\n",
       "      <th>0810041E</th>\n",
       "      <td>Bien</td>\n",
       "    </tr>\n",
       "  </tbody>\n",
       "</table>\n",
       "</div>"
      ],
      "text/plain": [
       "         services_num\n",
       "Code_UAI             \n",
       "0810016C         Bien\n",
       "0810026N         Bien\n",
       "0810041E         Bien"
      ]
     },
     "execution_count": 17,
     "metadata": {},
     "output_type": "execute_result"
    }
   ],
   "source": [
    "df_services_final = pd.DataFrame(df_services.cluster)\n",
    "df_services_final.rename(columns={'cluster': 'services_num'}, inplace=True)\n",
    "\n",
    "df_services_final.head(3)"
   ]
  },
  {
   "cell_type": "code",
   "execution_count": 18,
   "metadata": {},
   "outputs": [],
   "source": [
    "df_services_final.to_csv('../data/analyses/services_num.csv', index=True, sep=\";\")"
   ]
  }
 ],
 "metadata": {
  "kernelspec": {
   "display_name": "Python 3",
   "language": "python",
   "name": "python3"
  },
  "language_info": {
   "codemirror_mode": {
    "name": "ipython",
    "version": 3
   },
   "file_extension": ".py",
   "mimetype": "text/x-python",
   "name": "python",
   "nbconvert_exporter": "python",
   "pygments_lexer": "ipython3",
   "version": "3.10.9"
  },
  "orig_nbformat": 4,
  "vscode": {
   "interpreter": {
    "hash": "2349f8cba88a5b2d1d390f83a8a5748abc4e6656a2f4a0a7bc22dd7876009b29"
   }
  }
 },
 "nbformat": 4,
 "nbformat_minor": 2
}
