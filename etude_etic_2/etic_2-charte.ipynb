{
 "cells": [
  {
   "attachments": {},
   "cell_type": "markdown",
   "metadata": {},
   "source": [
    "# **Clustering Charte Internet**\n",
    "\n",
    "Nous allons étudier les diffèrentes colonnes qui traitent sur les informations de la charte mise en place et de la bonne utilisation du numérique et d'Internet. Il est important d'étudier cet aspect car même si une école met en place un grand nombre de moyens pour le numérique, si elle ne sensibilise pas et ne forme pas les élèves et leurs parents, un mauvais usage peut être fait de ces moyens et ils ne seront pas utilisés efficacement pour atteindre les résultats souhaités\n",
    "\n",
    "- *`'AccesParentCharte'`* : est-ce que l'école met en place une action à destination des parents autour de l’internet responsable ou de l’usage responsable du numérique ?\n",
    "- *``'ControlePosteriori'``* : est-ce que l'école utilise un dispositif d’enregistrement des sites visités permettant un contrôle a posteriori ?\n",
    "- *``'SiCharteUsageWeb'``* : est-ce que l'école dispose d'une charte de bon usage d'Internet ?\n",
    "- *``'DiffCh_AnnexeeRi'``* : La charte de bon usage de l’Internet est diffusée par annexe au règlement intérieur\n",
    "- *``'DiffCh_DossierRentreeEnseignants'``* : La charte de bon usage de l’Internet est diffusée via le dossier de rentrée des enseignants\n",
    "- *``'DiffCh_CRConseilAdmin'``* : La charte de bon usage de l’Internet est diffusée dans le compte‐rendu du conseil d'école\n",
    "- *``'DiffCh_DiffusionParents'``* : La charte de bon usage de l’Internet est diffusée aux parents\n",
    "- *``'DiffCh_autres'``* : La charte de bon usage de l’Internet est diffusée par un autre moyen\n",
    "- *``'AccesParentCharte'``* : Votre école met‐elle en place une action à destination des parents autour de l’internet responsable ou de l’usage responsable du numérique ?\n",
    "\n",
    "Nous allons procéder comme on a pu le faire dans les étapes précédentes."
   ]
  },
  {
   "cell_type": "code",
   "execution_count": 2,
   "metadata": {},
   "outputs": [],
   "source": [
    "import pandas as pd\n",
    "import prince as pc\n",
    "from sklearn.cluster import KMeans\n",
    "from sklearn.decomposition import PCA\n",
    "from sklearn.preprocessing import StandardScaler\n",
    "import plotly_express as px\n",
    "import plotly.graph_objects as go\n",
    "import re"
   ]
  },
  {
   "cell_type": "code",
   "execution_count": 3,
   "metadata": {},
   "outputs": [
    {
     "data": {
      "text/plain": [
       "Index(['Code_UAI', 'Millesime', 'Code_nature', 'nature_uai', 'typ_etab',\n",
       "       'Academie', 'Departement', 'NbEleve', 'NbEnseignant',\n",
       "       'SiEtabCentreRessource', 'SiProjetNumEcole', 'SiEntDisponible',\n",
       "       'SiProjEtabIntegreENT', 'Maint_PersCollect', 'Maint_PrestaExt',\n",
       "       'Maint_PersonnelEducNatHsEtab', 'Maint_PersonnelEtab',\n",
       "       'Maint_AutreNeSaitPas', 'Maint_Personne', 'NbRessourceEdit',\n",
       "       'TpRess_ManuelNum', 'TpRess_AnimScienLogiSimu', 'TpRess_Bdd',\n",
       "       'TpRess_LogiOutils', 'TpRess_OuvRef', 'TpRess_ResEntrainement',\n",
       "       'TpRess_Autres', 'TpRess_aucune', 'ServInt_NoteElev', 'ServInt_AbsElev',\n",
       "       'ServInt_EdtElevCls', 'ServInt_CahierTxt', 'ServInt_DocRessPeda',\n",
       "       'ServInt_AgdActuEtab', 'ServInt_PlatApp', 'ServInt_Autres',\n",
       "       'ServInt_aucun', 'NbTerminaux', 'NbTablette', 'NbTablettePC',\n",
       "       'NbMicroMoins5', 'NbMicroPortable', 'NbPortAffEl', 'NbPortAffEns',\n",
       "       'NbEleveEqASH', 'NbPosteEqASH', 'NbTBI', 'propClassesAvecTBI',\n",
       "       'NbVideoProj', 'NbClassMobile', 'NbLecteurMpx', 'NbImpr3D',\n",
       "       'AccWeb_RTC', 'AccWeb_CableFibreOptique', 'AccWeb_ADSL',\n",
       "       'AccWeb_AutresHautDebit', 'AccWeb_NeSaitPas', 'AccWeb_Aucun',\n",
       "       'DebitWeb', 'SiWifi', 'SalleInternet', 'PostesInfoElvHorsCours',\n",
       "       'SiPareFeuEtab', 'SiOuifiltrageWeb', 'ControlePosteriori',\n",
       "       'SiCharteUsageWeb', 'Diffch_AnnexeeRI',\n",
       "       'Diffch_DossierRentreeEnseignants', 'Diffch_CRConseilAdmin',\n",
       "       'Diffch_DiffusionParents', 'Diffch_Autres', 'AccesParentCharte',\n",
       "       'ElvAuthentif', 'SiVisioConferenc', 'SiEntUtilise',\n",
       "       'TypeMatHandi_Tablette', 'TypeMatHandi_OrdiPort', 'TypeMatHandi_LogApp',\n",
       "       'TypeMatHandi_Autre', 'Code_region', 'Libelle_region'],\n",
       "      dtype='object')"
      ]
     },
     "execution_count": 3,
     "metadata": {},
     "output_type": "execute_result"
    }
   ],
   "source": [
    "df = pd.read_csv('../data/lycee-college/fr-en-etic_2d.csv', sep=';')\n",
    "\n",
    "#On consulte les colonnes existantes\n",
    "df.columns"
   ]
  },
  {
   "cell_type": "code",
   "execution_count": 4,
   "metadata": {},
   "outputs": [],
   "source": [
    "df.set_index('Code_UAI', inplace=True)\n",
    "\n",
    "df_charte = df.drop(columns=[\n",
    "       'Millesime', 'Code_nature', 'nature_uai', 'typ_etab',\n",
    "       'Academie', 'Departement', 'NbEleve', 'NbEnseignant',\n",
    "       'SiEtabCentreRessource', 'SiProjetNumEcole', 'SiEntDisponible',\n",
    "       'SiProjEtabIntegreENT', 'Maint_PersCollect', 'Maint_PrestaExt',\n",
    "       'Maint_PersonnelEducNatHsEtab', 'Maint_PersonnelEtab',\n",
    "       'Maint_AutreNeSaitPas', 'Maint_Personne', 'NbRessourceEdit',\n",
    "       'TpRess_ManuelNum', 'TpRess_AnimScienLogiSimu', 'TpRess_Bdd',\n",
    "       'TpRess_LogiOutils', 'TpRess_OuvRef', 'TpRess_ResEntrainement',\n",
    "       'TpRess_Autres', 'TpRess_aucune', 'ServInt_NoteElev', 'ServInt_AbsElev',\n",
    "       'ServInt_EdtElevCls', 'ServInt_CahierTxt', 'ServInt_DocRessPeda',\n",
    "       'ServInt_AgdActuEtab', 'ServInt_PlatApp', 'ServInt_Autres',\n",
    "       'ServInt_aucun', 'NbTerminaux', 'NbTablette', 'NbTablettePC',\n",
    "       'NbMicroMoins5', 'NbMicroPortable', 'NbPortAffEl', 'NbPortAffEns',\n",
    "       'NbEleveEqASH', 'NbPosteEqASH', 'NbTBI', 'propClassesAvecTBI',\n",
    "       'NbVideoProj', 'NbClassMobile', 'NbLecteurMpx', 'NbImpr3D',\n",
    "       'AccWeb_RTC', 'AccWeb_CableFibreOptique', 'AccWeb_ADSL',\n",
    "       'AccWeb_AutresHautDebit', 'AccWeb_NeSaitPas', 'AccWeb_Aucun',\n",
    "       'DebitWeb', 'SiWifi', 'SalleInternet', 'PostesInfoElvHorsCours',\n",
    "       'SiPareFeuEtab', 'SiOuifiltrageWeb',\n",
    "       'ElvAuthentif', 'SiVisioConferenc', 'SiEntUtilise',\n",
    "       'TypeMatHandi_Tablette', 'TypeMatHandi_OrdiPort', 'TypeMatHandi_LogApp',\n",
    "       'TypeMatHandi_Autre', 'Code_region', 'Libelle_region'\n",
    "])\n",
    "\n",
    "\n",
    "df_charte.dropna(inplace=True)"
   ]
  },
  {
   "cell_type": "code",
   "execution_count": 5,
   "metadata": {},
   "outputs": [],
   "source": [
    "df_charte.columns = df_charte.columns.str.lower()"
   ]
  },
  {
   "cell_type": "code",
   "execution_count": 6,
   "metadata": {},
   "outputs": [
    {
     "data": {
      "text/plain": [
       "Index(['controleposteriori', 'sicharteusageweb', 'diffch_annexeeri',\n",
       "       'diffch_dossierrentreeenseignants', 'diffch_crconseiladmin',\n",
       "       'diffch_diffusionparents', 'diffch_autres', 'accesparentcharte'],\n",
       "      dtype='object')"
      ]
     },
     "execution_count": 6,
     "metadata": {},
     "output_type": "execute_result"
    }
   ],
   "source": [
    "df_charte.columns"
   ]
  },
  {
   "attachments": {},
   "cell_type": "markdown",
   "metadata": {},
   "source": [
    "On vérifie que les modifications sont bien appliquées"
   ]
  },
  {
   "cell_type": "code",
   "execution_count": 7,
   "metadata": {},
   "outputs": [
    {
     "data": {
      "text/html": [
       "<div>\n",
       "<style scoped>\n",
       "    .dataframe tbody tr th:only-of-type {\n",
       "        vertical-align: middle;\n",
       "    }\n",
       "\n",
       "    .dataframe tbody tr th {\n",
       "        vertical-align: top;\n",
       "    }\n",
       "\n",
       "    .dataframe thead th {\n",
       "        text-align: right;\n",
       "    }\n",
       "</style>\n",
       "<table border=\"1\" class=\"dataframe\">\n",
       "  <thead>\n",
       "    <tr style=\"text-align: right;\">\n",
       "      <th></th>\n",
       "      <th>controleposteriori</th>\n",
       "      <th>sicharteusageweb</th>\n",
       "      <th>diffch_annexeeri</th>\n",
       "      <th>diffch_dossierrentreeenseignants</th>\n",
       "      <th>diffch_crconseiladmin</th>\n",
       "      <th>diffch_diffusionparents</th>\n",
       "      <th>diffch_autres</th>\n",
       "      <th>accesparentcharte</th>\n",
       "    </tr>\n",
       "    <tr>\n",
       "      <th>Code_UAI</th>\n",
       "      <th></th>\n",
       "      <th></th>\n",
       "      <th></th>\n",
       "      <th></th>\n",
       "      <th></th>\n",
       "      <th></th>\n",
       "      <th></th>\n",
       "      <th></th>\n",
       "    </tr>\n",
       "  </thead>\n",
       "  <tbody>\n",
       "    <tr>\n",
       "      <th>0810016C</th>\n",
       "      <td>oui</td>\n",
       "      <td>oui</td>\n",
       "      <td>oui</td>\n",
       "      <td>non</td>\n",
       "      <td>non</td>\n",
       "      <td>non</td>\n",
       "      <td>non</td>\n",
       "      <td>non</td>\n",
       "    </tr>\n",
       "    <tr>\n",
       "      <th>0810026N</th>\n",
       "      <td>oui</td>\n",
       "      <td>oui</td>\n",
       "      <td>oui</td>\n",
       "      <td>non</td>\n",
       "      <td>non</td>\n",
       "      <td>oui</td>\n",
       "      <td>non</td>\n",
       "      <td>ouiEntiteExt</td>\n",
       "    </tr>\n",
       "    <tr>\n",
       "      <th>0810041E</th>\n",
       "      <td>oui</td>\n",
       "      <td>oui</td>\n",
       "      <td>oui</td>\n",
       "      <td>non</td>\n",
       "      <td>non</td>\n",
       "      <td>oui</td>\n",
       "      <td>non</td>\n",
       "      <td>ouiPersonnelEtb</td>\n",
       "    </tr>\n",
       "    <tr>\n",
       "      <th>0810124V</th>\n",
       "      <td>oui</td>\n",
       "      <td>oui</td>\n",
       "      <td>oui</td>\n",
       "      <td>non</td>\n",
       "      <td>non</td>\n",
       "      <td>non</td>\n",
       "      <td>non</td>\n",
       "      <td>ouiPersonnelEtb</td>\n",
       "    </tr>\n",
       "    <tr>\n",
       "      <th>0810125W</th>\n",
       "      <td>oui</td>\n",
       "      <td>oui</td>\n",
       "      <td>oui</td>\n",
       "      <td>non</td>\n",
       "      <td>non</td>\n",
       "      <td>non</td>\n",
       "      <td>non</td>\n",
       "      <td>non</td>\n",
       "    </tr>\n",
       "  </tbody>\n",
       "</table>\n",
       "</div>"
      ],
      "text/plain": [
       "         controleposteriori sicharteusageweb diffch_annexeeri  \\\n",
       "Code_UAI                                                        \n",
       "0810016C                oui              oui              oui   \n",
       "0810026N                oui              oui              oui   \n",
       "0810041E                oui              oui              oui   \n",
       "0810124V                oui              oui              oui   \n",
       "0810125W                oui              oui              oui   \n",
       "\n",
       "         diffch_dossierrentreeenseignants diffch_crconseiladmin  \\\n",
       "Code_UAI                                                          \n",
       "0810016C                              non                   non   \n",
       "0810026N                              non                   non   \n",
       "0810041E                              non                   non   \n",
       "0810124V                              non                   non   \n",
       "0810125W                              non                   non   \n",
       "\n",
       "         diffch_diffusionparents diffch_autres accesparentcharte  \n",
       "Code_UAI                                                          \n",
       "0810016C                     non           non               non  \n",
       "0810026N                     oui           non      ouiEntiteExt  \n",
       "0810041E                     oui           non   ouiPersonnelEtb  \n",
       "0810124V                     non           non   ouiPersonnelEtb  \n",
       "0810125W                     non           non               non  "
      ]
     },
     "execution_count": 7,
     "metadata": {},
     "output_type": "execute_result"
    }
   ],
   "source": [
    "df_charte.head()"
   ]
  },
  {
   "attachments": {},
   "cell_type": "markdown",
   "metadata": {},
   "source": [
    "On va ensuite procéder à la transformation de ces modalités en valeur binaire. On va associer à la modalité \"oui\" la valeur 1 et à la modalité \"non\" la valeur 0. Pour la colonne `accesParentCharte`, nous voyons que nous avons plusieurs modalités, on va voir combien il en existe et on va associer à chaque modalité une valeur numérique."
   ]
  },
  {
   "cell_type": "code",
   "execution_count": 8,
   "metadata": {},
   "outputs": [
    {
     "data": {
      "text/plain": [
       "non                394\n",
       "ouiPersonnelEtb    220\n",
       "ouiEntiteExt       200\n",
       "Name: accesparentcharte, dtype: int64"
      ]
     },
     "execution_count": 8,
     "metadata": {},
     "output_type": "execute_result"
    }
   ],
   "source": [
    "df_charte.accesparentcharte.value_counts()"
   ]
  },
  {
   "attachments": {},
   "cell_type": "markdown",
   "metadata": {},
   "source": [
    "On voit qu'il existe 3 modalités, soit \"non\" l'école ne met pas en place une action de sensibilisation pour les parents sur l'internet responsable et l'usage responsable du numérique.\n",
    "\n",
    "Les deux autres modalités sont \"ouiPersonnelEtb\" et \"ouiEntiteExt\", elles sont presque semblables car cela veut dire qu'une action est mise en place, ce qui change est la personne qui s'occupe de la sensibilisation. \n",
    "\n",
    "Si la personne qui s'occupe de ça est compétente dans la matière, cela ne change rien que cela soit fait par le personnel de l'établissement ou par une personne extérieure. \n",
    "Le plus important est qu'une action de sensibilisation existe. Nous allons donc agréger ces deux modalités en une seule qui sera \"oui\""
   ]
  },
  {
   "cell_type": "code",
   "execution_count": 9,
   "metadata": {},
   "outputs": [
    {
     "data": {
      "text/plain": [
       "oui    420\n",
       "non    394\n",
       "Name: accesparentcharte, dtype: int64"
      ]
     },
     "execution_count": 9,
     "metadata": {},
     "output_type": "execute_result"
    }
   ],
   "source": [
    "df_charte.replace({ 'ouiPersonnelEtb': 'oui', 'ouiEntiteExt': 'oui'}, inplace=True)\n",
    "\n",
    "df_charte.accesparentcharte.value_counts()"
   ]
  },
  {
   "attachments": {},
   "cell_type": "markdown",
   "metadata": {},
   "source": [
    "On peut maintenant transformer toutes les colonnes en valeurs binaires"
   ]
  },
  {
   "cell_type": "code",
   "execution_count": 10,
   "metadata": {},
   "outputs": [
    {
     "data": {
      "text/html": [
       "<div>\n",
       "<style scoped>\n",
       "    .dataframe tbody tr th:only-of-type {\n",
       "        vertical-align: middle;\n",
       "    }\n",
       "\n",
       "    .dataframe tbody tr th {\n",
       "        vertical-align: top;\n",
       "    }\n",
       "\n",
       "    .dataframe thead th {\n",
       "        text-align: right;\n",
       "    }\n",
       "</style>\n",
       "<table border=\"1\" class=\"dataframe\">\n",
       "  <thead>\n",
       "    <tr style=\"text-align: right;\">\n",
       "      <th></th>\n",
       "      <th>controleposteriori</th>\n",
       "      <th>sicharteusageweb</th>\n",
       "      <th>diffch_annexeeri</th>\n",
       "      <th>diffch_dossierrentreeenseignants</th>\n",
       "      <th>diffch_crconseiladmin</th>\n",
       "      <th>diffch_diffusionparents</th>\n",
       "      <th>diffch_autres</th>\n",
       "      <th>accesparentcharte</th>\n",
       "    </tr>\n",
       "    <tr>\n",
       "      <th>Code_UAI</th>\n",
       "      <th></th>\n",
       "      <th></th>\n",
       "      <th></th>\n",
       "      <th></th>\n",
       "      <th></th>\n",
       "      <th></th>\n",
       "      <th></th>\n",
       "      <th></th>\n",
       "    </tr>\n",
       "  </thead>\n",
       "  <tbody>\n",
       "    <tr>\n",
       "      <th>0810016C</th>\n",
       "      <td>1.0</td>\n",
       "      <td>1.0</td>\n",
       "      <td>1.0</td>\n",
       "      <td>0.0</td>\n",
       "      <td>0.0</td>\n",
       "      <td>0.0</td>\n",
       "      <td>0.0</td>\n",
       "      <td>0.0</td>\n",
       "    </tr>\n",
       "    <tr>\n",
       "      <th>0810026N</th>\n",
       "      <td>1.0</td>\n",
       "      <td>1.0</td>\n",
       "      <td>1.0</td>\n",
       "      <td>0.0</td>\n",
       "      <td>0.0</td>\n",
       "      <td>1.0</td>\n",
       "      <td>0.0</td>\n",
       "      <td>1.0</td>\n",
       "    </tr>\n",
       "    <tr>\n",
       "      <th>0810041E</th>\n",
       "      <td>1.0</td>\n",
       "      <td>1.0</td>\n",
       "      <td>1.0</td>\n",
       "      <td>0.0</td>\n",
       "      <td>0.0</td>\n",
       "      <td>1.0</td>\n",
       "      <td>0.0</td>\n",
       "      <td>1.0</td>\n",
       "    </tr>\n",
       "    <tr>\n",
       "      <th>0810124V</th>\n",
       "      <td>1.0</td>\n",
       "      <td>1.0</td>\n",
       "      <td>1.0</td>\n",
       "      <td>0.0</td>\n",
       "      <td>0.0</td>\n",
       "      <td>0.0</td>\n",
       "      <td>0.0</td>\n",
       "      <td>1.0</td>\n",
       "    </tr>\n",
       "    <tr>\n",
       "      <th>0810125W</th>\n",
       "      <td>1.0</td>\n",
       "      <td>1.0</td>\n",
       "      <td>1.0</td>\n",
       "      <td>0.0</td>\n",
       "      <td>0.0</td>\n",
       "      <td>0.0</td>\n",
       "      <td>0.0</td>\n",
       "      <td>0.0</td>\n",
       "    </tr>\n",
       "  </tbody>\n",
       "</table>\n",
       "</div>"
      ],
      "text/plain": [
       "          controleposteriori  sicharteusageweb  diffch_annexeeri  \\\n",
       "Code_UAI                                                           \n",
       "0810016C                 1.0               1.0               1.0   \n",
       "0810026N                 1.0               1.0               1.0   \n",
       "0810041E                 1.0               1.0               1.0   \n",
       "0810124V                 1.0               1.0               1.0   \n",
       "0810125W                 1.0               1.0               1.0   \n",
       "\n",
       "          diffch_dossierrentreeenseignants  diffch_crconseiladmin  \\\n",
       "Code_UAI                                                            \n",
       "0810016C                               0.0                    0.0   \n",
       "0810026N                               0.0                    0.0   \n",
       "0810041E                               0.0                    0.0   \n",
       "0810124V                               0.0                    0.0   \n",
       "0810125W                               0.0                    0.0   \n",
       "\n",
       "          diffch_diffusionparents  diffch_autres  accesparentcharte  \n",
       "Code_UAI                                                             \n",
       "0810016C                      0.0            0.0                0.0  \n",
       "0810026N                      1.0            0.0                1.0  \n",
       "0810041E                      1.0            0.0                1.0  \n",
       "0810124V                      0.0            0.0                1.0  \n",
       "0810125W                      0.0            0.0                0.0  "
      ]
     },
     "execution_count": 10,
     "metadata": {},
     "output_type": "execute_result"
    }
   ],
   "source": [
    "for col in df_charte.columns:\n",
    "    df_charte[col] = df_charte[col].replace({'oui': 1, 'non': 0})\n",
    "    df_charte[col] = df_charte[col].astype(float)\n",
    "\n",
    "df_charte.head()"
   ]
  },
  {
   "attachments": {},
   "cell_type": "markdown",
   "metadata": {},
   "source": [
    "### *Corrélation entre les variables*\n",
    "\n",
    "Nous allons voir si il existe une corrélation entre les différentes colonnes."
   ]
  },
  {
   "cell_type": "code",
   "execution_count": 11,
   "metadata": {},
   "outputs": [
    {
     "data": {
      "application/vnd.plotly.v1+json": {
       "config": {
        "plotlyServerURL": "https://plot.ly"
       },
       "data": [
        {
         "colorscale": [
          [
           0,
           "#440154"
          ],
          [
           0.1111111111111111,
           "#482878"
          ],
          [
           0.2222222222222222,
           "#3e4989"
          ],
          [
           0.3333333333333333,
           "#31688e"
          ],
          [
           0.4444444444444444,
           "#26828e"
          ],
          [
           0.5555555555555556,
           "#1f9e89"
          ],
          [
           0.6666666666666666,
           "#35b779"
          ],
          [
           0.7777777777777778,
           "#6ece58"
          ],
          [
           0.8888888888888888,
           "#b5de2b"
          ],
          [
           1,
           "#fde725"
          ]
         ],
         "type": "heatmap",
         "x": [
          "controleposteriori",
          "sicharteusageweb",
          "diffch_annexeeri",
          "diffch_dossierrentreeenseignants",
          "diffch_crconseiladmin",
          "diffch_diffusionparents",
          "diffch_autres",
          "accesparentcharte"
         ],
         "xgap": 1,
         "y": [
          "controleposteriori",
          "sicharteusageweb",
          "diffch_annexeeri",
          "diffch_dossierrentreeenseignants",
          "diffch_crconseiladmin",
          "diffch_diffusionparents",
          "diffch_autres",
          "accesparentcharte"
         ],
         "ygap": 1,
         "z": [
          [
           1,
           null,
           0.04559752012188377,
           0.05318080262952667,
           0.05673680965606621,
           0.048653293541371684,
           0.041907768937849706,
           0.026974081084230835
          ],
          [
           null,
           null,
           null,
           null,
           null,
           null,
           null,
           null
          ],
          [
           0.04559752012188377,
           null,
           1,
           -0.0775796468475051,
           -0.06529254372082981,
           -0.08842086905954383,
           -0.18265400929508746,
           0.047644493874095785
          ],
          [
           0.05318080262952667,
           null,
           -0.0775796468475051,
           1,
           0.39025201343066424,
           0.60487097224344,
           0.13572697352321086,
           0.04744976048182883
          ],
          [
           0.05673680965606621,
           null,
           -0.06529254372082981,
           0.39025201343066424,
           1,
           0.35644156595514415,
           0.08145744840643875,
           0.046476490650367686
          ],
          [
           0.048653293541371684,
           null,
           -0.08842086905954383,
           0.60487097224344,
           0.35644156595514415,
           1,
           0.17781637839556066,
           0.07026345538466212
          ],
          [
           0.041907768937849706,
           null,
           -0.18265400929508746,
           0.13572697352321086,
           0.08145744840643875,
           0.17781637839556066,
           1,
           -0.05183882159708878
          ],
          [
           0.026974081084230835,
           null,
           0.047644493874095785,
           0.04744976048182883,
           0.046476490650367686,
           0.07026345538466212,
           -0.05183882159708878,
           1
          ]
         ]
        }
       ],
       "layout": {
        "height": 600,
        "template": {
         "data": {
          "bar": [
           {
            "error_x": {
             "color": "#2a3f5f"
            },
            "error_y": {
             "color": "#2a3f5f"
            },
            "marker": {
             "line": {
              "color": "#E5ECF6",
              "width": 0.5
             },
             "pattern": {
              "fillmode": "overlay",
              "size": 10,
              "solidity": 0.2
             }
            },
            "type": "bar"
           }
          ],
          "barpolar": [
           {
            "marker": {
             "line": {
              "color": "#E5ECF6",
              "width": 0.5
             },
             "pattern": {
              "fillmode": "overlay",
              "size": 10,
              "solidity": 0.2
             }
            },
            "type": "barpolar"
           }
          ],
          "carpet": [
           {
            "aaxis": {
             "endlinecolor": "#2a3f5f",
             "gridcolor": "white",
             "linecolor": "white",
             "minorgridcolor": "white",
             "startlinecolor": "#2a3f5f"
            },
            "baxis": {
             "endlinecolor": "#2a3f5f",
             "gridcolor": "white",
             "linecolor": "white",
             "minorgridcolor": "white",
             "startlinecolor": "#2a3f5f"
            },
            "type": "carpet"
           }
          ],
          "choropleth": [
           {
            "colorbar": {
             "outlinewidth": 0,
             "ticks": ""
            },
            "type": "choropleth"
           }
          ],
          "contour": [
           {
            "colorbar": {
             "outlinewidth": 0,
             "ticks": ""
            },
            "colorscale": [
             [
              0,
              "#0d0887"
             ],
             [
              0.1111111111111111,
              "#46039f"
             ],
             [
              0.2222222222222222,
              "#7201a8"
             ],
             [
              0.3333333333333333,
              "#9c179e"
             ],
             [
              0.4444444444444444,
              "#bd3786"
             ],
             [
              0.5555555555555556,
              "#d8576b"
             ],
             [
              0.6666666666666666,
              "#ed7953"
             ],
             [
              0.7777777777777778,
              "#fb9f3a"
             ],
             [
              0.8888888888888888,
              "#fdca26"
             ],
             [
              1,
              "#f0f921"
             ]
            ],
            "type": "contour"
           }
          ],
          "contourcarpet": [
           {
            "colorbar": {
             "outlinewidth": 0,
             "ticks": ""
            },
            "type": "contourcarpet"
           }
          ],
          "heatmap": [
           {
            "colorbar": {
             "outlinewidth": 0,
             "ticks": ""
            },
            "colorscale": [
             [
              0,
              "#0d0887"
             ],
             [
              0.1111111111111111,
              "#46039f"
             ],
             [
              0.2222222222222222,
              "#7201a8"
             ],
             [
              0.3333333333333333,
              "#9c179e"
             ],
             [
              0.4444444444444444,
              "#bd3786"
             ],
             [
              0.5555555555555556,
              "#d8576b"
             ],
             [
              0.6666666666666666,
              "#ed7953"
             ],
             [
              0.7777777777777778,
              "#fb9f3a"
             ],
             [
              0.8888888888888888,
              "#fdca26"
             ],
             [
              1,
              "#f0f921"
             ]
            ],
            "type": "heatmap"
           }
          ],
          "heatmapgl": [
           {
            "colorbar": {
             "outlinewidth": 0,
             "ticks": ""
            },
            "colorscale": [
             [
              0,
              "#0d0887"
             ],
             [
              0.1111111111111111,
              "#46039f"
             ],
             [
              0.2222222222222222,
              "#7201a8"
             ],
             [
              0.3333333333333333,
              "#9c179e"
             ],
             [
              0.4444444444444444,
              "#bd3786"
             ],
             [
              0.5555555555555556,
              "#d8576b"
             ],
             [
              0.6666666666666666,
              "#ed7953"
             ],
             [
              0.7777777777777778,
              "#fb9f3a"
             ],
             [
              0.8888888888888888,
              "#fdca26"
             ],
             [
              1,
              "#f0f921"
             ]
            ],
            "type": "heatmapgl"
           }
          ],
          "histogram": [
           {
            "marker": {
             "pattern": {
              "fillmode": "overlay",
              "size": 10,
              "solidity": 0.2
             }
            },
            "type": "histogram"
           }
          ],
          "histogram2d": [
           {
            "colorbar": {
             "outlinewidth": 0,
             "ticks": ""
            },
            "colorscale": [
             [
              0,
              "#0d0887"
             ],
             [
              0.1111111111111111,
              "#46039f"
             ],
             [
              0.2222222222222222,
              "#7201a8"
             ],
             [
              0.3333333333333333,
              "#9c179e"
             ],
             [
              0.4444444444444444,
              "#bd3786"
             ],
             [
              0.5555555555555556,
              "#d8576b"
             ],
             [
              0.6666666666666666,
              "#ed7953"
             ],
             [
              0.7777777777777778,
              "#fb9f3a"
             ],
             [
              0.8888888888888888,
              "#fdca26"
             ],
             [
              1,
              "#f0f921"
             ]
            ],
            "type": "histogram2d"
           }
          ],
          "histogram2dcontour": [
           {
            "colorbar": {
             "outlinewidth": 0,
             "ticks": ""
            },
            "colorscale": [
             [
              0,
              "#0d0887"
             ],
             [
              0.1111111111111111,
              "#46039f"
             ],
             [
              0.2222222222222222,
              "#7201a8"
             ],
             [
              0.3333333333333333,
              "#9c179e"
             ],
             [
              0.4444444444444444,
              "#bd3786"
             ],
             [
              0.5555555555555556,
              "#d8576b"
             ],
             [
              0.6666666666666666,
              "#ed7953"
             ],
             [
              0.7777777777777778,
              "#fb9f3a"
             ],
             [
              0.8888888888888888,
              "#fdca26"
             ],
             [
              1,
              "#f0f921"
             ]
            ],
            "type": "histogram2dcontour"
           }
          ],
          "mesh3d": [
           {
            "colorbar": {
             "outlinewidth": 0,
             "ticks": ""
            },
            "type": "mesh3d"
           }
          ],
          "parcoords": [
           {
            "line": {
             "colorbar": {
              "outlinewidth": 0,
              "ticks": ""
             }
            },
            "type": "parcoords"
           }
          ],
          "pie": [
           {
            "automargin": true,
            "type": "pie"
           }
          ],
          "scatter": [
           {
            "fillpattern": {
             "fillmode": "overlay",
             "size": 10,
             "solidity": 0.2
            },
            "type": "scatter"
           }
          ],
          "scatter3d": [
           {
            "line": {
             "colorbar": {
              "outlinewidth": 0,
              "ticks": ""
             }
            },
            "marker": {
             "colorbar": {
              "outlinewidth": 0,
              "ticks": ""
             }
            },
            "type": "scatter3d"
           }
          ],
          "scattercarpet": [
           {
            "marker": {
             "colorbar": {
              "outlinewidth": 0,
              "ticks": ""
             }
            },
            "type": "scattercarpet"
           }
          ],
          "scattergeo": [
           {
            "marker": {
             "colorbar": {
              "outlinewidth": 0,
              "ticks": ""
             }
            },
            "type": "scattergeo"
           }
          ],
          "scattergl": [
           {
            "marker": {
             "colorbar": {
              "outlinewidth": 0,
              "ticks": ""
             }
            },
            "type": "scattergl"
           }
          ],
          "scattermapbox": [
           {
            "marker": {
             "colorbar": {
              "outlinewidth": 0,
              "ticks": ""
             }
            },
            "type": "scattermapbox"
           }
          ],
          "scatterpolar": [
           {
            "marker": {
             "colorbar": {
              "outlinewidth": 0,
              "ticks": ""
             }
            },
            "type": "scatterpolar"
           }
          ],
          "scatterpolargl": [
           {
            "marker": {
             "colorbar": {
              "outlinewidth": 0,
              "ticks": ""
             }
            },
            "type": "scatterpolargl"
           }
          ],
          "scatterternary": [
           {
            "marker": {
             "colorbar": {
              "outlinewidth": 0,
              "ticks": ""
             }
            },
            "type": "scatterternary"
           }
          ],
          "surface": [
           {
            "colorbar": {
             "outlinewidth": 0,
             "ticks": ""
            },
            "colorscale": [
             [
              0,
              "#0d0887"
             ],
             [
              0.1111111111111111,
              "#46039f"
             ],
             [
              0.2222222222222222,
              "#7201a8"
             ],
             [
              0.3333333333333333,
              "#9c179e"
             ],
             [
              0.4444444444444444,
              "#bd3786"
             ],
             [
              0.5555555555555556,
              "#d8576b"
             ],
             [
              0.6666666666666666,
              "#ed7953"
             ],
             [
              0.7777777777777778,
              "#fb9f3a"
             ],
             [
              0.8888888888888888,
              "#fdca26"
             ],
             [
              1,
              "#f0f921"
             ]
            ],
            "type": "surface"
           }
          ],
          "table": [
           {
            "cells": {
             "fill": {
              "color": "#EBF0F8"
             },
             "line": {
              "color": "white"
             }
            },
            "header": {
             "fill": {
              "color": "#C8D4E3"
             },
             "line": {
              "color": "white"
             }
            },
            "type": "table"
           }
          ]
         },
         "layout": {
          "annotationdefaults": {
           "arrowcolor": "#2a3f5f",
           "arrowhead": 0,
           "arrowwidth": 1
          },
          "autotypenumbers": "strict",
          "coloraxis": {
           "colorbar": {
            "outlinewidth": 0,
            "ticks": ""
           }
          },
          "colorscale": {
           "diverging": [
            [
             0,
             "#8e0152"
            ],
            [
             0.1,
             "#c51b7d"
            ],
            [
             0.2,
             "#de77ae"
            ],
            [
             0.3,
             "#f1b6da"
            ],
            [
             0.4,
             "#fde0ef"
            ],
            [
             0.5,
             "#f7f7f7"
            ],
            [
             0.6,
             "#e6f5d0"
            ],
            [
             0.7,
             "#b8e186"
            ],
            [
             0.8,
             "#7fbc41"
            ],
            [
             0.9,
             "#4d9221"
            ],
            [
             1,
             "#276419"
            ]
           ],
           "sequential": [
            [
             0,
             "#0d0887"
            ],
            [
             0.1111111111111111,
             "#46039f"
            ],
            [
             0.2222222222222222,
             "#7201a8"
            ],
            [
             0.3333333333333333,
             "#9c179e"
            ],
            [
             0.4444444444444444,
             "#bd3786"
            ],
            [
             0.5555555555555556,
             "#d8576b"
            ],
            [
             0.6666666666666666,
             "#ed7953"
            ],
            [
             0.7777777777777778,
             "#fb9f3a"
            ],
            [
             0.8888888888888888,
             "#fdca26"
            ],
            [
             1,
             "#f0f921"
            ]
           ],
           "sequentialminus": [
            [
             0,
             "#0d0887"
            ],
            [
             0.1111111111111111,
             "#46039f"
            ],
            [
             0.2222222222222222,
             "#7201a8"
            ],
            [
             0.3333333333333333,
             "#9c179e"
            ],
            [
             0.4444444444444444,
             "#bd3786"
            ],
            [
             0.5555555555555556,
             "#d8576b"
            ],
            [
             0.6666666666666666,
             "#ed7953"
            ],
            [
             0.7777777777777778,
             "#fb9f3a"
            ],
            [
             0.8888888888888888,
             "#fdca26"
            ],
            [
             1,
             "#f0f921"
            ]
           ]
          },
          "colorway": [
           "#636efa",
           "#EF553B",
           "#00cc96",
           "#ab63fa",
           "#FFA15A",
           "#19d3f3",
           "#FF6692",
           "#B6E880",
           "#FF97FF",
           "#FECB52"
          ],
          "font": {
           "color": "#2a3f5f"
          },
          "geo": {
           "bgcolor": "white",
           "lakecolor": "white",
           "landcolor": "#E5ECF6",
           "showlakes": true,
           "showland": true,
           "subunitcolor": "white"
          },
          "hoverlabel": {
           "align": "left"
          },
          "hovermode": "closest",
          "mapbox": {
           "style": "light"
          },
          "paper_bgcolor": "white",
          "plot_bgcolor": "#E5ECF6",
          "polar": {
           "angularaxis": {
            "gridcolor": "white",
            "linecolor": "white",
            "ticks": ""
           },
           "bgcolor": "#E5ECF6",
           "radialaxis": {
            "gridcolor": "white",
            "linecolor": "white",
            "ticks": ""
           }
          },
          "scene": {
           "xaxis": {
            "backgroundcolor": "#E5ECF6",
            "gridcolor": "white",
            "gridwidth": 2,
            "linecolor": "white",
            "showbackground": true,
            "ticks": "",
            "zerolinecolor": "white"
           },
           "yaxis": {
            "backgroundcolor": "#E5ECF6",
            "gridcolor": "white",
            "gridwidth": 2,
            "linecolor": "white",
            "showbackground": true,
            "ticks": "",
            "zerolinecolor": "white"
           },
           "zaxis": {
            "backgroundcolor": "#E5ECF6",
            "gridcolor": "white",
            "gridwidth": 2,
            "linecolor": "white",
            "showbackground": true,
            "ticks": "",
            "zerolinecolor": "white"
           }
          },
          "shapedefaults": {
           "line": {
            "color": "#2a3f5f"
           }
          },
          "ternary": {
           "aaxis": {
            "gridcolor": "white",
            "linecolor": "white",
            "ticks": ""
           },
           "baxis": {
            "gridcolor": "white",
            "linecolor": "white",
            "ticks": ""
           },
           "bgcolor": "#E5ECF6",
           "caxis": {
            "gridcolor": "white",
            "linecolor": "white",
            "ticks": ""
           }
          },
          "title": {
           "x": 0.05
          },
          "xaxis": {
           "automargin": true,
           "gridcolor": "white",
           "linecolor": "white",
           "ticks": "",
           "title": {
            "standoff": 15
           },
           "zerolinecolor": "white",
           "zerolinewidth": 2
          },
          "yaxis": {
           "automargin": true,
           "gridcolor": "white",
           "linecolor": "white",
           "ticks": "",
           "title": {
            "standoff": 15
           },
           "zerolinecolor": "white",
           "zerolinewidth": 2
          }
         }
        },
        "title": {
         "text": "Correlation Matrix",
         "x": 0.5
        },
        "width": 700,
        "xaxis": {
         "showgrid": false
        },
        "yaxis": {
         "autorange": "reversed",
         "showgrid": false
        }
       }
      }
     },
     "metadata": {},
     "output_type": "display_data"
    }
   ],
   "source": [
    "column_names = df_charte.columns\n",
    "\n",
    "heat = go.Heatmap(\n",
    "    z=df_charte.corr().values,\n",
    "    x=column_names,\n",
    "    y=column_names,\n",
    "    xgap=1, ygap=1,\n",
    "    colorscale='Viridis'\n",
    ")\n",
    "\n",
    "layout = go.Layout(\n",
    "    title='Correlation Matrix',\n",
    "    title_x=0.5,\n",
    "    width=700, height=600,\n",
    "    xaxis_showgrid=False, yaxis_showgrid=False,\n",
    "    yaxis_autorange='reversed'\n",
    ")\n",
    "\n",
    "fig = go.Figure(data=[heat], layout=layout)\n",
    "fig.show()"
   ]
  },
  {
   "attachments": {},
   "cell_type": "markdown",
   "metadata": {},
   "source": [
    "On peut remarquer que pour la corrélation entre `sicharteusageweb` et les autres variables on a un `NaN`. On va essayer de voir pour quelle raison on a ce résultat. On va voir le nombre de valeurs possibles pour la variable `sicharteusageweb`."
   ]
  },
  {
   "cell_type": "code",
   "execution_count": 12,
   "metadata": {},
   "outputs": [
    {
     "data": {
      "text/plain": [
       "1.0    814\n",
       "Name: sicharteusageweb, dtype: int64"
      ]
     },
     "execution_count": 12,
     "metadata": {},
     "output_type": "execute_result"
    }
   ],
   "source": [
    "df_charte.sicharteusageweb.value_counts()"
   ]
  },
  {
   "attachments": {},
   "cell_type": "markdown",
   "metadata": {},
   "source": [
    "On voit qu'il existe seulement une seule valeur possible pour cette variable, ce qui explique le résultat de la matrice de corrélation. Il faudrait exclure cette variable de notre étude.\n",
    "\n",
    "\n",
    "Maintenant qu'on a trouvé la source du problème, nous pouvons passer à l'interprétation de la matrice de corrélation :\n",
    "\n",
    "On voit qu'il n'existe pas de corrélation considérable entre nos variables. Une seule attire notre attention, celle entre `diffch_dossierrentreeenseignants` et `diffch_diffusionparents` qui vaut 0.6. On ne peut pas réellement tiré de conclusion.\n",
    "\n",
    "On va donc passer au clustering pour remarquer des groupes qui se ressemblent."
   ]
  },
  {
   "attachments": {},
   "cell_type": "markdown",
   "metadata": {},
   "source": [
    "### *Classification non supervisée*\n",
    "\n",
    "Nous utiliserons ici comme dans les autres études l'algorithme de `KMeans` pour classifier les différents établissements. Tous les essais avec les différents paramètres n'apparaîtront pas. Seulement les résultats que nosu jugerons les plus importants apparaitront dans la suite."
   ]
  },
  {
   "cell_type": "code",
   "execution_count": 13,
   "metadata": {},
   "outputs": [
    {
     "data": {
      "text/html": [
       "<div>\n",
       "<style scoped>\n",
       "    .dataframe tbody tr th:only-of-type {\n",
       "        vertical-align: middle;\n",
       "    }\n",
       "\n",
       "    .dataframe tbody tr th {\n",
       "        vertical-align: top;\n",
       "    }\n",
       "\n",
       "    .dataframe thead tr th {\n",
       "        text-align: left;\n",
       "    }\n",
       "</style>\n",
       "<table border=\"1\" class=\"dataframe\">\n",
       "  <thead>\n",
       "    <tr>\n",
       "      <th></th>\n",
       "      <th>controleposteriori</th>\n",
       "      <th>diffch_annexeeri</th>\n",
       "      <th>diffch_dossierrentreeenseignants</th>\n",
       "      <th>diffch_crconseiladmin</th>\n",
       "      <th>diffch_diffusionparents</th>\n",
       "      <th>diffch_autres</th>\n",
       "      <th>accesparentcharte</th>\n",
       "    </tr>\n",
       "  </thead>\n",
       "  <tbody>\n",
       "    <tr>\n",
       "      <th>0</th>\n",
       "      <td>1.000000e+00</td>\n",
       "      <td>0.985240</td>\n",
       "      <td>0.092251</td>\n",
       "      <td>1.845018e-02</td>\n",
       "      <td>0.059041</td>\n",
       "      <td>0.077491</td>\n",
       "      <td>4.440892e-16</td>\n",
       "    </tr>\n",
       "    <tr>\n",
       "      <th>1</th>\n",
       "      <td>1.000000e+00</td>\n",
       "      <td>0.985866</td>\n",
       "      <td>0.120141</td>\n",
       "      <td>2.826855e-02</td>\n",
       "      <td>0.109541</td>\n",
       "      <td>0.077739</td>\n",
       "      <td>1.000000e+00</td>\n",
       "    </tr>\n",
       "    <tr>\n",
       "      <th>2</th>\n",
       "      <td>9.005848e-01</td>\n",
       "      <td>0.959064</td>\n",
       "      <td>0.988304</td>\n",
       "      <td>4.035088e-01</td>\n",
       "      <td>0.947368</td>\n",
       "      <td>0.181287</td>\n",
       "      <td>5.497076e-01</td>\n",
       "    </tr>\n",
       "    <tr>\n",
       "      <th>3</th>\n",
       "      <td>1.110223e-16</td>\n",
       "      <td>0.977528</td>\n",
       "      <td>0.078652</td>\n",
       "      <td>-4.163336e-17</td>\n",
       "      <td>0.056180</td>\n",
       "      <td>0.067416</td>\n",
       "      <td>4.831461e-01</td>\n",
       "    </tr>\n",
       "  </tbody>\n",
       "</table>\n",
       "</div>"
      ],
      "text/plain": [
       "  controleposteriori diffch_annexeeri diffch_dossierrentreeenseignants  \\\n",
       "0       1.000000e+00         0.985240                         0.092251   \n",
       "1       1.000000e+00         0.985866                         0.120141   \n",
       "2       9.005848e-01         0.959064                         0.988304   \n",
       "3       1.110223e-16         0.977528                         0.078652   \n",
       "\n",
       "  diffch_crconseiladmin diffch_diffusionparents diffch_autres  \\\n",
       "0          1.845018e-02                0.059041      0.077491   \n",
       "1          2.826855e-02                0.109541      0.077739   \n",
       "2          4.035088e-01                0.947368      0.181287   \n",
       "3         -4.163336e-17                0.056180      0.067416   \n",
       "\n",
       "  accesparentcharte  \n",
       "0      4.440892e-16  \n",
       "1      1.000000e+00  \n",
       "2      5.497076e-01  \n",
       "3      4.831461e-01  "
      ]
     },
     "execution_count": 13,
     "metadata": {},
     "output_type": "execute_result"
    }
   ],
   "source": [
    "km_charte = KMeans(\n",
    "    n_clusters=4,\n",
    "    init='k-means++',\n",
    "    n_init=20,\n",
    "    max_iter=300,\n",
    "    random_state=0\n",
    ")\n",
    "\n",
    "y_km_charte = km_charte.fit_predict(df_charte.drop(columns=['sicharteusageweb']))\n",
    "\n",
    "resultat = pd.DataFrame(km_charte.cluster_centers_, columns=[km_charte.feature_names_in_])\n",
    "\n",
    "resultat"
   ]
  },
  {
   "attachments": {},
   "cell_type": "markdown",
   "metadata": {},
   "source": [
    "Nous avons au dessus les moyennes des centres qui vont nous être utiles pour expliquer les caractèristiques de chaque classe et accorder à chaque établissement une note (modalité) pour ce qui concerne des actions mises en place pour un bon usage du numérique et d'internet.\n",
    "\n",
    "Nous allons convertir cela en \"oui\" et \"non\" pour pouvoir interprèter plus facilement ces résultats."
   ]
  },
  {
   "cell_type": "code",
   "execution_count": 14,
   "metadata": {},
   "outputs": [
    {
     "data": {
      "text/html": [
       "<div>\n",
       "<style scoped>\n",
       "    .dataframe tbody tr th:only-of-type {\n",
       "        vertical-align: middle;\n",
       "    }\n",
       "\n",
       "    .dataframe tbody tr th {\n",
       "        vertical-align: top;\n",
       "    }\n",
       "\n",
       "    .dataframe thead tr th {\n",
       "        text-align: left;\n",
       "    }\n",
       "</style>\n",
       "<table border=\"1\" class=\"dataframe\">\n",
       "  <thead>\n",
       "    <tr>\n",
       "      <th></th>\n",
       "      <th>controleposteriori</th>\n",
       "      <th>diffch_annexeeri</th>\n",
       "      <th>diffch_dossierrentreeenseignants</th>\n",
       "      <th>diffch_crconseiladmin</th>\n",
       "      <th>diffch_diffusionparents</th>\n",
       "      <th>diffch_autres</th>\n",
       "      <th>accesparentcharte</th>\n",
       "    </tr>\n",
       "  </thead>\n",
       "  <tbody>\n",
       "    <tr>\n",
       "      <th>0</th>\n",
       "      <td>oui</td>\n",
       "      <td>oui</td>\n",
       "      <td>non</td>\n",
       "      <td>non</td>\n",
       "      <td>non</td>\n",
       "      <td>non</td>\n",
       "      <td>non</td>\n",
       "    </tr>\n",
       "    <tr>\n",
       "      <th>1</th>\n",
       "      <td>oui</td>\n",
       "      <td>oui</td>\n",
       "      <td>non</td>\n",
       "      <td>non</td>\n",
       "      <td>non</td>\n",
       "      <td>non</td>\n",
       "      <td>oui</td>\n",
       "    </tr>\n",
       "    <tr>\n",
       "      <th>2</th>\n",
       "      <td>oui</td>\n",
       "      <td>oui</td>\n",
       "      <td>oui</td>\n",
       "      <td>non</td>\n",
       "      <td>oui</td>\n",
       "      <td>non</td>\n",
       "      <td>oui</td>\n",
       "    </tr>\n",
       "    <tr>\n",
       "      <th>3</th>\n",
       "      <td>non</td>\n",
       "      <td>oui</td>\n",
       "      <td>non</td>\n",
       "      <td>non</td>\n",
       "      <td>non</td>\n",
       "      <td>non</td>\n",
       "      <td>non</td>\n",
       "    </tr>\n",
       "  </tbody>\n",
       "</table>\n",
       "</div>"
      ],
      "text/plain": [
       "  controleposteriori diffch_annexeeri diffch_dossierrentreeenseignants  \\\n",
       "0                oui              oui                              non   \n",
       "1                oui              oui                              non   \n",
       "2                oui              oui                              oui   \n",
       "3                non              oui                              non   \n",
       "\n",
       "  diffch_crconseiladmin diffch_diffusionparents diffch_autres  \\\n",
       "0                   non                     non           non   \n",
       "1                   non                     non           non   \n",
       "2                   non                     oui           non   \n",
       "3                   non                     non           non   \n",
       "\n",
       "  accesparentcharte  \n",
       "0               non  \n",
       "1               oui  \n",
       "2               oui  \n",
       "3               non  "
      ]
     },
     "execution_count": 14,
     "metadata": {},
     "output_type": "execute_result"
    }
   ],
   "source": [
    "def round(row):\n",
    "    if(row > 0.5):\n",
    "        return 1\n",
    "    else:\n",
    "        return 0\n",
    "\n",
    "\n",
    "for col in resultat.columns:\n",
    "    resultat[col] = resultat[col].apply(round)\n",
    "    resultat[col] = resultat[col].replace({0: 'non', 1: 'oui'})\n",
    "    \n",
    "\n",
    "resultat"
   ]
  },
  {
   "attachments": {},
   "cell_type": "markdown",
   "metadata": {},
   "source": [
    "En interprétant les résultats, voici les modalités qui ressortent et à quelles classes elles vont être attribuées.\n",
    "\n",
    "- \"Très bien\" : classe 2  (On a presque \"oui\" partout, c'est le meilleur résultat entre toutes les classes)\n",
    "- \"Bien\" : classe 1\n",
    "- \"Moyen\" : classe 0   (nous accordons moyen à la classe 0 car en moyenne tous les établissements appartenant à ce cluster font un contrôle à posteriori permettant de savoir les sites visités et donc remarquer rapidement si un mauvais usage est fait ou pas)\n",
    "- \"Mauvais\" : classe 3\n",
    "\n",
    "Nous pouvons maintenant affecter à chaque établissement son cluster pour pouvoir avoir une visualisation des données à l'aide d'une ACP et pouvoir par la même occasion si une bonne découpe des classes a été faite."
   ]
  },
  {
   "cell_type": "code",
   "execution_count": 15,
   "metadata": {},
   "outputs": [],
   "source": [
    "df_charte['cluster'] = y_km_charte\n",
    "df_charte['cluster'] = df_charte['cluster'].astype(str)"
   ]
  },
  {
   "attachments": {},
   "cell_type": "markdown",
   "metadata": {},
   "source": [
    "On va d'abord centrer et réduire les données pour avoir une bonne représentation."
   ]
  },
  {
   "cell_type": "code",
   "execution_count": 16,
   "metadata": {},
   "outputs": [
    {
     "data": {
      "application/vnd.plotly.v1+json": {
       "config": {
        "plotlyServerURL": "https://plot.ly"
       },
       "data": [
        {
         "hovertemplate": "color=0<br>PC 1 (28.7%)=%{x}<br>PC 2 (16.7%)=%{y}<extra></extra>",
         "legendgroup": "0",
         "marker": {
          "color": "#636efa",
          "symbol": "circle"
         },
         "mode": "markers",
         "name": "0",
         "orientation": "v",
         "showlegend": true,
         "type": "scatter",
         "x": [
          -1.0206431519638812,
          -1.020643151963842,
          -1.0206431519638417,
          -1.0206431519638417,
          -1.0206431519638417,
          0.30075728917557054,
          -1.0206431519638417,
          -0.1873951958567544,
          -1.0206431519638417,
          -1.0206431519638417,
          -1.0206431519638417,
          -1.0206431519638417,
          -1.0206431519638417,
          -1.0206431519638417,
          -1.0206431519638417,
          -1.0206431519638417,
          -1.0206431519638417,
          -0.1873951958567544,
          0.26631812981482234,
          -1.0206431519638417,
          -1.0206431519638417,
          -1.0206431519638417,
          -1.0206431519638417,
          0.30075728917557054,
          -1.0206431519638417,
          -1.0206431519638417,
          -1.0206431519638417,
          -1.0206431519638417,
          -1.0206431519638417,
          -1.0206431519638417,
          -1.0206431519638417,
          -1.0206431519638417,
          -1.0206431519638417,
          0.26631812981482234,
          -1.0206431519638417,
          -1.0206431519638417,
          -1.0206431519638417,
          -1.0206431519638417,
          -1.0206431519638417,
          -1.0206431519638417,
          -1.0206431519638417,
          -1.0206431519638417,
          -1.0206431519638417,
          -1.0206431519638417,
          -1.0206431519638417,
          -1.0206431519638417,
          -1.0206431519638417,
          1.0995660859219094,
          -1.0206431519638417,
          -1.0206431519638417,
          0.9550688173028068,
          -1.0206431519638417,
          -1.0206431519638417,
          -1.0206431519638417,
          -1.0206431519638417,
          -1.0206431519638417,
          -1.0206431519638417,
          -1.0206431519638417,
          1.0995660859219094,
          -1.0206431519638417,
          -1.0206431519638417,
          -1.0206431519638417,
          -1.0206431519638417,
          -1.0206431519638417,
          0.26631812981482234,
          -1.0206431519638417,
          -1.0206431519638417,
          0.30075728917557054,
          -1.0206431519638417,
          -1.0206431519638417,
          0.30075728917557054,
          -1.0206431519638417,
          -1.0206431519638417,
          1.1340052452826583,
          0.9550688173028068,
          -1.0206431519638417,
          -1.0206431519638417,
          -1.0206431519638417,
          -1.0206431519638417,
          -1.0206431519638417,
          -1.0206431519638417,
          -1.0206431519638417,
          -1.0206431519638417,
          0.9550688173028068,
          1.1340052452826583,
          -1.0206431519638417,
          0.26631812981482234,
          0.30075728917557054,
          -1.0206431519638417,
          -1.0206431519638417,
          -1.0206431519638417,
          -1.0206431519638417,
          0.30075728917557054,
          1.0995660859219094,
          -1.0206431519638417,
          -1.0206431519638417,
          -1.0206431519638417,
          -1.0206431519638417,
          -1.0206431519638417,
          -1.0206431519638417,
          -0.1873951958567544,
          -1.0206431519638417,
          -1.0206431519638417,
          -1.0206431519638417,
          -1.0206431519638417,
          -0.1873951958567544,
          -1.0206431519638417,
          0.26631812981482234,
          -1.0206431519638417,
          -1.0206431519638417,
          0.26631812981482234,
          -1.0206431519638417,
          1.0995660859219094,
          -1.0206431519638417,
          0.26631812981482234,
          0.30075728917557054,
          -1.0206431519638417,
          -1.0206431519638417,
          -1.0206431519638417,
          0.538210225872674,
          -1.0206431519638417,
          -1.0206431519638417,
          -1.0206431519638417,
          -1.0206431519638417,
          -1.0206431519638417,
          -1.0206431519638417,
          1.0995660859219094,
          0.26631812981482234,
          -1.0206431519638417,
          -1.0206431519638417,
          1.0995660859219094,
          -0.1873951958567544,
          -1.0206431519638417,
          -1.0206431519638417,
          -1.0206431519638417,
          -1.0206431519638417,
          -1.0206431519638417,
          0.30075728917557054,
          -1.0206431519638417,
          -1.0206431519638417,
          -1.0206431519638417,
          -1.0206431519638417,
          -1.0206431519638417,
          -1.0206431519638417,
          -1.0206431519638417,
          -1.0206431519638417,
          -1.0206431519638417,
          0.538210225872674,
          -1.0206431519638417,
          -1.0206431519638417,
          0.26631812981482234,
          -1.0206431519638417,
          -1.0206431519638417,
          -1.0206431519638417,
          -1.0206431519638417,
          -1.0206431519638417,
          0.26631812981482234,
          -1.0206431519638417,
          -1.0206431519638417,
          1.1340052452826583,
          -1.0206431519638417,
          -1.0206431519638417,
          -1.0206431519638417,
          -1.0206431519638417,
          0.26631812981482234,
          -1.0206431519638417,
          -1.0206431519638417,
          -1.0206431519638417,
          -1.0206431519638417,
          -1.0206431519638417,
          -1.0206431519638417,
          -1.0206431519638417,
          -1.0206431519638417,
          0.538210225872674,
          -1.0206431519638417,
          -1.0206431519638417,
          -1.0206431519638417,
          -1.0206431519638417,
          0.30075728917557054,
          -1.0206431519638417,
          -1.0206431519638417,
          -1.0206431519638417,
          -1.0206431519638417,
          -1.0206431519638417,
          -0.1873951958567544,
          1.4432213023351312,
          -1.0206431519638417,
          -1.0206431519638417,
          -1.0206431519638417,
          -1.0206431519638417,
          -1.0206431519638417,
          -1.0206431519638417,
          0.26631812981482234,
          -1.0206431519638417,
          -1.0206431519638417,
          -1.0206431519638417,
          -1.0206431519638417,
          -1.0206431519638417,
          -0.1873951958567544,
          0.26631812981482234,
          -1.0206431519638417,
          0.30075728917557054,
          -1.0206431519638417,
          0.538210225872674,
          -1.0206431519638417,
          -1.0206431519638417,
          -1.0206431519638417,
          0.26631812981482234,
          -1.0206431519638417,
          -1.0206431519638417,
          -1.0206431519638417,
          -1.0206431519638417,
          -1.0206431519638417,
          -1.0206431519638417,
          -1.0206431519638417,
          -1.0206431519638417,
          -1.0206431519638417,
          -1.0206431519638417,
          -1.0206431519638417,
          -1.0206431519638417,
          -1.0206431519638417,
          -1.0206431519638417,
          0.26631812981482234,
          0.26631812981482234,
          -1.0206431519638417,
          -1.0206431519638417,
          -1.0206431519638417,
          -1.0206431519638417,
          -1.0206431519638417,
          -1.0206431519638417,
          -1.0206431519638417,
          -1.0206431519638417,
          -1.0206431519638417,
          -1.0206431519638417,
          -1.0206431519638417,
          -1.0206431519638417,
          -1.0206431519638417,
          0.538210225872674,
          -1.0206431519638417,
          -1.0206431519638417,
          -1.0206431519638417,
          0.30075728917557054,
          -0.1873951958567544,
          -1.0206431519638417,
          -1.0206431519638417,
          -1.0206431519638417,
          -1.0206431519638417,
          -1.0206431519638417,
          -1.0206431519638417,
          -1.0206431519638417,
          -1.0206431519638417,
          -1.0206431519638417,
          -1.0206431519638417,
          -1.0206431519638417,
          0.26631812981482234,
          -0.1873951958567544,
          0.26631812981482234,
          -1.0206431519638417,
          -1.0206431519638417,
          -1.0206431519638417,
          -1.0206431519638417,
          -1.0206431519638417,
          -1.0206431519638417,
          -1.0206431519638417,
          0.26631812981482234,
          -1.0206431519638417,
          -1.0206431519638417,
          -1.0206431519638417,
          -1.0206431519638417,
          0.30075728917557054,
          -1.0206431519638417
         ],
         "xaxis": "x",
         "y": [
          0.3144245481757225,
          0.31442454817577803,
          0.3144245481757787,
          0.3144245481757787,
          0.3144245481757787,
          0.1294324537667274,
          0.3144245481757787,
          2.099455215075025,
          0.3144245481757787,
          0.3144245481757787,
          0.3144245481757787,
          0.3144245481757787,
          0.3144245481757787,
          0.3144245481757787,
          0.3144245481757787,
          0.3144245481757787,
          0.3144245481757787,
          2.099455215075025,
          0.06632102686449548,
          0.3144245481757787,
          0.3144245481757787,
          0.3144245481757787,
          0.3144245481757787,
          0.1294324537667274,
          0.3144245481757787,
          0.3144245481757787,
          0.3144245481757787,
          0.3144245481757787,
          0.3144245481757787,
          0.3144245481757787,
          0.3144245481757787,
          0.3144245481757787,
          0.3144245481757787,
          0.06632102686449548,
          0.3144245481757787,
          0.3144245481757787,
          0.3144245481757787,
          0.3144245481757787,
          0.3144245481757787,
          0.3144245481757787,
          0.3144245481757787,
          0.3144245481757787,
          0.3144245481757787,
          0.3144245481757787,
          0.3144245481757787,
          0.3144245481757787,
          0.3144245481757787,
          1.8513516937637415,
          0.3144245481757787,
          0.3144245481757787,
          6.487138452387648,
          0.3144245481757787,
          0.3144245481757787,
          0.3144245481757787,
          0.3144245481757787,
          0.3144245481757787,
          0.3144245481757787,
          0.3144245481757787,
          1.8513516937637415,
          0.3144245481757787,
          0.3144245481757787,
          0.3144245481757787,
          0.3144245481757787,
          0.3144245481757787,
          0.06632102686449548,
          0.3144245481757787,
          0.3144245481757787,
          0.1294324537667274,
          0.3144245481757787,
          0.3144245481757787,
          0.1294324537667274,
          0.3144245481757787,
          0.3144245481757787,
          1.914463120665974,
          6.487138452387648,
          0.3144245481757787,
          0.3144245481757787,
          0.3144245481757787,
          0.3144245481757787,
          0.3144245481757787,
          0.3144245481757787,
          0.3144245481757787,
          0.3144245481757787,
          6.487138452387648,
          1.914463120665974,
          0.3144245481757787,
          0.06632102686449548,
          0.1294324537667274,
          0.3144245481757787,
          0.3144245481757787,
          0.3144245481757787,
          0.3144245481757787,
          0.1294324537667274,
          1.8513516937637415,
          0.3144245481757787,
          0.3144245481757787,
          0.3144245481757787,
          0.3144245481757787,
          0.3144245481757787,
          0.3144245481757787,
          2.099455215075025,
          0.3144245481757787,
          0.3144245481757787,
          0.3144245481757787,
          0.3144245481757787,
          2.099455215075025,
          0.3144245481757787,
          0.06632102686449548,
          0.3144245481757787,
          0.3144245481757787,
          0.06632102686449548,
          0.3144245481757787,
          1.8513516937637415,
          0.3144245481757787,
          0.06632102686449548,
          0.1294324537667274,
          0.3144245481757787,
          0.3144245481757787,
          0.3144245481757787,
          -0.15823790039557456,
          0.3144245481757787,
          0.3144245481757787,
          0.3144245481757787,
          0.3144245481757787,
          0.3144245481757787,
          0.3144245481757787,
          1.8513516937637415,
          0.06632102686449548,
          0.3144245481757787,
          0.3144245481757787,
          1.8513516937637415,
          2.099455215075025,
          0.3144245481757787,
          0.3144245481757787,
          0.3144245481757787,
          0.3144245481757787,
          0.3144245481757787,
          0.1294324537667274,
          0.3144245481757787,
          0.3144245481757787,
          0.3144245481757787,
          0.3144245481757787,
          0.3144245481757787,
          0.3144245481757787,
          0.3144245481757787,
          0.3144245481757787,
          0.3144245481757787,
          -0.15823790039557456,
          0.3144245481757787,
          0.3144245481757787,
          0.06632102686449548,
          0.3144245481757787,
          0.3144245481757787,
          0.3144245481757787,
          0.3144245481757787,
          0.3144245481757787,
          0.06632102686449548,
          0.3144245481757787,
          0.3144245481757787,
          1.914463120665974,
          0.3144245481757787,
          0.3144245481757787,
          0.3144245481757787,
          0.3144245481757787,
          0.06632102686449548,
          0.3144245481757787,
          0.3144245481757787,
          0.3144245481757787,
          0.3144245481757787,
          0.3144245481757787,
          0.3144245481757787,
          0.3144245481757787,
          0.3144245481757787,
          -0.15823790039557456,
          0.3144245481757787,
          0.3144245481757787,
          0.3144245481757787,
          0.3144245481757787,
          0.1294324537667274,
          0.3144245481757787,
          0.3144245481757787,
          0.3144245481757787,
          0.3144245481757787,
          0.3144245481757787,
          2.099455215075025,
          4.517115691079351,
          0.3144245481757787,
          0.3144245481757787,
          0.3144245481757787,
          0.3144245481757787,
          0.3144245481757787,
          0.3144245481757787,
          0.06632102686449548,
          0.3144245481757787,
          0.3144245481757787,
          0.3144245481757787,
          0.3144245481757787,
          0.3144245481757787,
          2.099455215075025,
          0.06632102686449548,
          0.3144245481757787,
          0.1294324537667274,
          0.3144245481757787,
          -0.15823790039557456,
          0.3144245481757787,
          0.3144245481757787,
          0.3144245481757787,
          0.06632102686449548,
          0.3144245481757787,
          0.3144245481757787,
          0.3144245481757787,
          0.3144245481757787,
          0.3144245481757787,
          0.3144245481757787,
          0.3144245481757787,
          0.3144245481757787,
          0.3144245481757787,
          0.3144245481757787,
          0.3144245481757787,
          0.3144245481757787,
          0.3144245481757787,
          0.3144245481757787,
          0.06632102686449548,
          0.06632102686449548,
          0.3144245481757787,
          0.3144245481757787,
          0.3144245481757787,
          0.3144245481757787,
          0.3144245481757787,
          0.3144245481757787,
          0.3144245481757787,
          0.3144245481757787,
          0.3144245481757787,
          0.3144245481757787,
          0.3144245481757787,
          0.3144245481757787,
          0.3144245481757787,
          -0.15823790039557456,
          0.3144245481757787,
          0.3144245481757787,
          0.3144245481757787,
          0.1294324537667274,
          2.099455215075025,
          0.3144245481757787,
          0.3144245481757787,
          0.3144245481757787,
          0.3144245481757787,
          0.3144245481757787,
          0.3144245481757787,
          0.3144245481757787,
          0.3144245481757787,
          0.3144245481757787,
          0.3144245481757787,
          0.3144245481757787,
          0.06632102686449548,
          2.099455215075025,
          0.06632102686449548,
          0.3144245481757787,
          0.3144245481757787,
          0.3144245481757787,
          0.3144245481757787,
          0.3144245481757787,
          0.3144245481757787,
          0.3144245481757787,
          0.06632102686449548,
          0.3144245481757787,
          0.3144245481757787,
          0.3144245481757787,
          0.3144245481757787,
          0.12943245376672746,
          0.3144245481757787
         ],
         "yaxis": "y"
        },
        {
         "hovertemplate": "color=1<br>PC 1 (28.7%)=%{x}<br>PC 2 (16.7%)=%{y}<extra></extra>",
         "legendgroup": "1",
         "marker": {
          "color": "#EF553B",
          "symbol": "circle"
         },
         "mode": "markers",
         "name": "1",
         "orientation": "v",
         "showlegend": true,
         "type": "scatter",
         "x": [
          0.443560908578258,
          0.44356090857816755,
          -0.8778395325612321,
          -0.877839532561237,
          -0.877839532561237,
          0.4435609085781752,
          1.2768088646852624,
          -0.044591576454149594,
          0.6810138452752788,
          -0.877839532561237,
          -0.877839532561237,
          -0.877839532561237,
          -0.877839532561237,
          0.409121749217427,
          -0.877839532561237,
          -0.877839532561237,
          0.409121749217427,
          0.409121749217427,
          -0.877839532561237,
          -0.877839532561237,
          -0.877839532561237,
          -0.877839532561237,
          0.4435609085781752,
          -0.877839532561237,
          -0.877839532561237,
          -0.877839532561237,
          0.409121749217427,
          -0.044591576454149594,
          -0.877839532561237,
          -0.877839532561237,
          -0.877839532561237,
          -0.877839532561237,
          1.2768088646852624,
          -0.877839532561237,
          -0.877839532561237,
          -0.877839532561237,
          0.4435609085781752,
          -0.877839532561237,
          -0.877839532561237,
          -0.044591576454149594,
          -0.877839532561237,
          0.409121749217427,
          -0.877839532561237,
          1.5142618013823663,
          -0.877839532561237,
          -0.877839532561237,
          -0.877839532561237,
          0.409121749217427,
          -0.877839532561237,
          -0.877839532561237,
          1.2768088646852624,
          0.4435609085781752,
          -0.877839532561237,
          -0.877839532561237,
          0.4435609085781752,
          -0.877839532561237,
          -0.877839532561237,
          -0.877839532561237,
          -0.877839532561237,
          -0.877839532561237,
          -0.877839532561237,
          -0.877839532561237,
          -0.877839532561237,
          -0.877839532561237,
          -0.877839532561237,
          0.4435609085781752,
          0.409121749217427,
          -0.877839532561237,
          -0.877839532561237,
          -0.877839532561237,
          -0.877839532561237,
          -0.877839532561237,
          -0.877839532561237,
          -0.877839532561237,
          1.0978724367054102,
          -0.877839532561237,
          0.409121749217427,
          -0.877839532561237,
          -0.877839532561237,
          0.4435609085781752,
          -0.877839532561237,
          -0.877839532561237,
          -0.877839532561237,
          -0.877839532561237,
          -0.877839532561237,
          -0.877839532561237,
          -0.877839532561237,
          -0.877839532561237,
          -0.877839532561237,
          -0.877839532561237,
          -0.877839532561237,
          -0.877839532561237,
          -0.877839532561237,
          -0.877839532561237,
          -0.877839532561237,
          0.6810138452752788,
          0.4435609085781752,
          -0.044591576454149594,
          -0.877839532561237,
          0.4435609085781752,
          -0.877839532561237,
          -0.877839532561237,
          -0.877839532561237,
          0.409121749217427,
          0.409121749217427,
          0.6810138452752788,
          -0.877839532561237,
          -0.877839532561237,
          -0.877839532561237,
          -0.877839532561237,
          -0.877839532561237,
          0.4435609085781752,
          -0.877839532561237,
          -0.877839532561237,
          0.409121749217427,
          -0.877839532561237,
          -0.877839532561237,
          -0.044591576454149594,
          0.4435609085781752,
          -0.877839532561237,
          -0.877839532561237,
          -0.877839532561237,
          -0.877839532561237,
          0.409121749217427,
          1.5142618013823663,
          -0.877839532561237,
          0.409121749217427,
          0.409121749217427,
          -0.877839532561237,
          0.4435609085781752,
          -0.877839532561237,
          -0.877839532561237,
          -0.877839532561237,
          -0.877839532561237,
          0.4435609085781752,
          -0.877839532561237,
          -0.877839532561237,
          0.4435609085781752,
          -0.877839532561237,
          -0.877839532561237,
          -0.877839532561237,
          -0.044591576454149594,
          -0.877839532561237,
          -0.877839532561237,
          -0.877839532561237,
          -0.877839532561237,
          -0.877839532561237,
          -0.877839532561237,
          0.4435609085781752,
          0.409121749217427,
          -0.877839532561237,
          0.4435609085781752,
          -0.877839532561237,
          -0.877839532561237,
          1.0978724367054102,
          -0.877839532561237,
          -0.877839532561237,
          -0.877839532561237,
          -0.877839532561237,
          -0.877839532561237,
          -0.044591576454149594,
          -0.877839532561237,
          -0.877839532561237,
          1.5860249217377356,
          -0.044591576454149594,
          -0.877839532561237,
          0.409121749217427,
          0.409121749217427,
          -0.044591576454149594,
          -0.877839532561237,
          -0.877839532561237,
          -0.877839532561237,
          0.4435609085781752,
          0.409121749217427,
          -0.877839532561237,
          -0.877839532561237,
          -0.877839532561237,
          0.409121749217427,
          -0.877839532561237,
          0.6810138452752788,
          -0.877839532561237,
          0.4435609085781752,
          0.4435609085781752,
          0.409121749217427,
          -0.877839532561237,
          0.4435609085781752,
          -0.877839532561237,
          -0.877839532561237,
          -0.877839532561237,
          -0.877839532561237,
          1.2768088646852624,
          -0.877839532561237,
          -0.877839532561237,
          -0.877839532561237,
          -0.877839532561237,
          -0.877839532561237,
          -0.877839532561237,
          -0.877839532561237,
          -0.877839532561237,
          0.409121749217427,
          -0.877839532561237,
          -0.877839532561237,
          -0.877839532561237,
          -0.877839532561237,
          -0.877839532561237,
          -0.877839532561237,
          0.409121749217427,
          0.6810138452752788,
          -0.877839532561237,
          -0.044591576454149594,
          -0.877839532561237,
          -0.877839532561237,
          -0.877839532561237,
          2.6567258145419257,
          0.409121749217427,
          0.4435609085781752,
          -0.877839532561237,
          -0.877839532561237,
          -0.877839532561237,
          -0.877839532561237,
          -0.877839532561237,
          -0.877839532561237,
          -0.877839532561237,
          -0.877839532561237,
          -0.877839532561237,
          -0.877839532561237,
          -0.877839532561237,
          -0.877839532561237,
          -0.877839532561237,
          -0.044591576454149594,
          -0.877839532561237,
          0.409121749217427,
          0.4435609085781752,
          -0.877839532561237,
          -0.877839532561237,
          0.409121749217427,
          -0.877839532561237,
          -0.877839532561237,
          -0.877839532561237,
          -0.877839532561237,
          -0.877839532561237,
          -0.877839532561237,
          -0.877839532561237,
          -0.044591576454149594,
          -0.877839532561237,
          -0.877839532561237,
          0.409121749217427,
          -0.877839532561237,
          -0.044591576454149594,
          -0.877839532561237,
          -0.877839532561237,
          0.409121749217427,
          -0.877839532561237,
          0.4435609085781752,
          0.409121749217427,
          0.409121749217427,
          -0.877839532561237,
          -0.877839532561237,
          -0.877839532561237,
          -0.877839532561237,
          0.409121749217427,
          -0.877839532561237,
          0.409121749217427,
          -0.877839532561237,
          0.4435609085781752,
          -0.877839532561237,
          -0.877839532561237,
          0.409121749217427,
          -0.877839532561237,
          0.409121749217427,
          -0.877839532561237,
          -0.877839532561237,
          -0.877839532561237,
          -0.877839532561237,
          -0.877839532561237,
          -0.877839532561237,
          -0.877839532561237,
          -0.877839532561237,
          -0.8778395325612369,
          0.409121749217427,
          -0.8778395325612369,
          -0.8778395325612369,
          -0.8778395325612369
         ],
         "xaxis": "x",
         "y": [
          -0.8396898283089524,
          -0.8396898283090093,
          -0.6546977338999337,
          -0.6546977338999526,
          -0.6546977338999527,
          -0.8396898283090042,
          0.9453408385902426,
          1.1303329329992942,
          -1.1273601824713062,
          -0.6546977338999527,
          -0.6546977338999527,
          -0.6546977338999527,
          -0.6546977338999527,
          -0.9028012552112359,
          -0.6546977338999527,
          -0.6546977338999527,
          -0.9028012552112359,
          -0.9028012552112359,
          -0.6546977338999527,
          -0.6546977338999527,
          -0.6546977338999527,
          -0.6546977338999527,
          -0.8396898283090042,
          -0.6546977338999527,
          -0.6546977338999527,
          -0.6546977338999527,
          -0.9028012552112359,
          1.1303329329992942,
          -0.6546977338999527,
          -0.6546977338999527,
          -0.6546977338999527,
          -0.6546977338999527,
          0.9453408385902426,
          -0.6546977338999527,
          -0.6546977338999527,
          -0.6546977338999527,
          -0.8396898283090042,
          -0.6546977338999527,
          -0.6546977338999527,
          1.1303329329992942,
          -0.6546977338999527,
          -0.9028012552112359,
          -0.6546977338999527,
          0.6576704844279408,
          -0.6546977338999527,
          -0.6546977338999527,
          -0.6546977338999527,
          -0.9028012552112359,
          -0.6546977338999527,
          -0.6546977338999527,
          0.9453408385902426,
          -0.8396898283090042,
          -0.6546977338999527,
          -0.6546977338999527,
          -0.8396898283090042,
          -0.6546977338999527,
          -0.6546977338999527,
          -0.6546977338999527,
          -0.6546977338999527,
          -0.6546977338999527,
          -0.6546977338999527,
          -0.6546977338999527,
          -0.6546977338999527,
          -0.6546977338999527,
          -0.6546977338999527,
          -0.8396898283090042,
          -0.9028012552112359,
          -0.6546977338999527,
          -0.6546977338999527,
          -0.6546977338999527,
          -0.6546977338999527,
          -0.6546977338999527,
          -0.6546977338999527,
          -0.6546977338999527,
          5.518016170311918,
          -0.6546977338999527,
          -0.9028012552112359,
          -0.6546977338999527,
          -0.6546977338999527,
          -0.8396898283090042,
          -0.6546977338999527,
          -0.6546977338999527,
          -0.6546977338999527,
          -0.6546977338999527,
          -0.6546977338999527,
          -0.6546977338999527,
          -0.6546977338999527,
          -0.6546977338999527,
          -0.6546977338999527,
          -0.6546977338999527,
          -0.6546977338999527,
          -0.6546977338999527,
          -0.6546977338999527,
          -0.6546977338999527,
          -0.6546977338999527,
          -1.1273601824713062,
          -0.8396898283090042,
          1.1303329329992942,
          -0.6546977338999527,
          -0.8396898283090042,
          -0.6546977338999527,
          -0.6546977338999527,
          -0.6546977338999527,
          -0.9028012552112359,
          -0.9028012552112359,
          -1.1273601824713062,
          -0.6546977338999527,
          -0.6546977338999527,
          -0.6546977338999527,
          -0.6546977338999527,
          -0.6546977338999527,
          -0.8396898283090042,
          -0.6546977338999527,
          -0.6546977338999527,
          -0.9028012552112359,
          -0.6546977338999527,
          -0.6546977338999527,
          1.1303329329992942,
          -0.8396898283090042,
          -0.6546977338999527,
          -0.6546977338999527,
          -0.6546977338999527,
          -0.6546977338999527,
          -0.9028012552112359,
          0.6576704844279408,
          -0.6546977338999527,
          -0.9028012552112359,
          -0.9028012552112359,
          -0.6546977338999527,
          -0.8396898283090042,
          -0.6546977338999527,
          -0.6546977338999527,
          -0.6546977338999527,
          -0.6546977338999527,
          -0.8396898283090042,
          -0.6546977338999527,
          -0.6546977338999527,
          -0.8396898283090042,
          -0.6546977338999527,
          -0.6546977338999527,
          -0.6546977338999527,
          1.1303329329992942,
          -0.6546977338999527,
          -0.6546977338999527,
          -0.6546977338999527,
          -0.6546977338999527,
          -0.6546977338999527,
          -0.6546977338999527,
          -0.8396898283090042,
          -0.9028012552112359,
          -0.6546977338999527,
          -0.8396898283090042,
          -0.6546977338999527,
          -0.6546977338999527,
          5.518016170311918,
          -0.6546977338999527,
          -0.6546977338999527,
          -0.6546977338999527,
          -0.6546977338999527,
          -0.6546977338999527,
          1.1303329329992942,
          -0.6546977338999527,
          -0.6546977338999527,
          3.547993409003619,
          1.1303329329992942,
          -0.6546977338999527,
          -0.9028012552112359,
          -0.9028012552112359,
          1.1303329329992942,
          -0.6546977338999527,
          -0.6546977338999527,
          -0.6546977338999527,
          -0.8396898283090042,
          -0.9028012552112359,
          -0.6546977338999527,
          -0.6546977338999527,
          -0.6546977338999527,
          -0.9028012552112359,
          -0.6546977338999527,
          -1.1273601824713062,
          -0.6546977338999527,
          -0.8396898283090042,
          -0.8396898283090042,
          -0.9028012552112359,
          -0.6546977338999527,
          -0.8396898283090042,
          -0.6546977338999527,
          -0.6546977338999527,
          -0.6546977338999527,
          -0.6546977338999527,
          0.9453408385902426,
          -0.6546977338999527,
          -0.6546977338999527,
          -0.6546977338999527,
          -0.6546977338999527,
          -0.6546977338999527,
          -0.6546977338999527,
          -0.6546977338999527,
          -0.6546977338999527,
          -0.9028012552112359,
          -0.6546977338999527,
          -0.6546977338999527,
          -0.6546977338999527,
          -0.6546977338999527,
          -0.6546977338999527,
          -0.6546977338999527,
          -0.9028012552112359,
          -1.1273601824713062,
          -0.6546977338999527,
          1.1303329329992942,
          -0.6546977338999527,
          -0.6546977338999527,
          -0.6546977338999527,
          5.045353721740564,
          -0.9028012552112359,
          -0.8396898283090042,
          -0.6546977338999527,
          -0.6546977338999527,
          -0.6546977338999527,
          -0.6546977338999527,
          -0.6546977338999527,
          -0.6546977338999527,
          -0.6546977338999527,
          -0.6546977338999527,
          -0.6546977338999527,
          -0.6546977338999527,
          -0.6546977338999527,
          -0.6546977338999527,
          -0.6546977338999527,
          1.1303329329992942,
          -0.6546977338999527,
          -0.9028012552112359,
          -0.8396898283090042,
          -0.6546977338999527,
          -0.6546977338999527,
          -0.9028012552112359,
          -0.6546977338999527,
          -0.6546977338999527,
          -0.6546977338999527,
          -0.6546977338999527,
          -0.6546977338999527,
          -0.6546977338999527,
          -0.6546977338999527,
          1.1303329329992942,
          -0.6546977338999527,
          -0.6546977338999527,
          -0.9028012552112359,
          -0.6546977338999527,
          1.1303329329992942,
          -0.6546977338999527,
          -0.6546977338999527,
          -0.9028012552112359,
          -0.6546977338999527,
          -0.8396898283090042,
          -0.9028012552112359,
          -0.9028012552112359,
          -0.6546977338999527,
          -0.6546977338999527,
          -0.6546977338999527,
          -0.6546977338999527,
          -0.9028012552112359,
          -0.6546977338999527,
          -0.9028012552112359,
          -0.6546977338999527,
          -0.8396898283090042,
          -0.6546977338999527,
          -0.6546977338999527,
          -0.9028012552112359,
          -0.6546977338999527,
          -0.9028012552112359,
          -0.6546977338999527,
          -0.6546977338999527,
          -0.6546977338999527,
          -0.6546977338999527,
          -0.6546977338999527,
          -0.6546977338999527,
          -0.6546977338999527,
          -0.6546977338999527,
          -0.6546977338999526,
          -0.902801255211236,
          -0.6546977338999527,
          -0.6546977338999527,
          -0.6546977338999527
         ],
         "yaxis": "y"
        },
        {
         "hovertemplate": "color=2<br>PC 1 (28.7%)=%{x}<br>PC 2 (16.7%)=%{y}<extra></extra>",
         "legendgroup": "2",
         "marker": {
          "color": "#00cc96",
          "symbol": "circle"
         },
         "mode": "markers",
         "name": "2",
         "orientation": "v",
         "showlegend": true,
         "type": "scatter",
         "x": [
          1.7305221903568393,
          2.730182584113795,
          3.1465719487907493,
          3.2893755681933547,
          3.1465719487907493,
          1.5877185709542345,
          3.2893755681933547,
          1.5877185709542345,
          1.5877185709542345,
          3.0224199854837233,
          3.2893755681933547,
          1.7305221903568393,
          2.4209665270613216,
          1.7305221903568393,
          1.5877185709542345,
          1.7305221903568393,
          3.2893755681933547,
          1.7305221903568393,
          1.5877185709542345,
          2.730182584113795,
          1.5877185709542345,
          1.7305221903568393,
          1.7305221903568393,
          1.7305221903568393,
          1.7305221903568393,
          1.5877185709542345,
          1.5877185709542345,
          4.289035961950309,
          3.2893755681933547,
          1.7305221903568393,
          1.7305221903568393,
          1.7305221903568393,
          2.4209665270613216,
          3.2893755681933547,
          3.2893755681933547,
          2.5637701464639266,
          2.15401094435169,
          2.4632270014041633,
          1.5877185709542345,
          1.7305221903568393,
          3.1465719487907493,
          1.7305221903568393,
          3.2893755681933547,
          1.4635666076472074,
          1.7305221903568393,
          1.7305221903568393,
          2.4209665270613216,
          1.5877185709542345,
          1.5877185709542345,
          1.5877185709542345,
          3.1465719487907493,
          1.7305221903568393,
          1.7305221903568393,
          1.320762988244603,
          1.8251715076513375,
          3.1465719487907493,
          1.7305221903568393,
          3.2893755681933547,
          3.2893755681933547,
          3.2893755681933547,
          3.0224199854837233,
          1.7305221903568393,
          3.2893755681933547,
          1.9679751270539423,
          3.2893755681933547,
          5.122283918057397,
          1.8251715076513375,
          1.9679751270539423,
          1.7305221903568393,
          3.9798199048978367,
          4.122623524300443,
          2.4209665270613216,
          1.7305221903568393,
          1.5877185709542345,
          2.4209665270613216,
          1.7305221903568393,
          3.2893755681933547,
          1.5877185709542345,
          1.7305221903568393,
          3.1465719487907493,
          1.9679751270539423,
          2.5637701464639266,
          1.5877185709542345,
          3.2893755681933547,
          1.7305221903568393,
          1.7305221903568393,
          1.7305221903568393,
          1.7305221903568393,
          3.2893755681933547,
          2.4209665270613216,
          1.7305221903568393,
          3.9798199048978367,
          1.5877185709542345,
          1.5877185709542345,
          1.8251715076513375,
          2.5637701464639266,
          2.8796163660811183,
          3.1465719487907493,
          1.7305221903568393,
          3.0224199854837233,
          1.320762988244603,
          3.2893755681933547,
          3.9798199048978367,
          2.5637701464639266,
          2.4209665270613216,
          1.8251715076513375,
          1.5877185709542345,
          2.0024142864146905,
          3.2893755681933547,
          1.5877185709542345,
          1.5877185709542345,
          1.7305221903568393,
          2.5637701464639266,
          2.8796163660811183,
          2.5637701464639266,
          1.320762988244603,
          4.122623524300443,
          4.122623524300443,
          1.4635666076472074,
          1.4635666076472074,
          1.5877185709542345,
          1.5877185709542345,
          1.5877185709542345,
          1.7305221903568393,
          1.5877185709542345,
          1.5877185709542345,
          1.7305221903568393,
          3.1465719487907493,
          3.0224199854837233,
          1.5877185709542345,
          1.4635666076472074,
          3.9798199048978367,
          1.8251715076513375,
          3.1465719487907493,
          3.2893755681933547,
          2.5637701464639266,
          3.2893755681933547,
          2.4632270014041633,
          5.122283918057397,
          3.1465719487907493,
          3.1465719487907493,
          2.5637701464639266,
          1.8251715076513375,
          3.2893755681933547,
          1.7305221903568393,
          3.2893755681933547,
          1.5877185709542345,
          2.4209665270613216,
          3.1465719487907493,
          2.0024142864146905,
          3.2893755681933547,
          2.4209665270613216,
          2.4209665270613216,
          3.2893755681933547,
          3.2893755681933547,
          1.7305221903568393,
          1.5877185709542345,
          3.1465719487907493,
          1.5877185709542345,
          3.2893755681933547,
          1.7305221903568393,
          3.9798199048978367,
          2.5637701464639266,
          1.7305221903568393,
          1.7305221903568393,
          4.122623524300443,
          1.7305221903568393,
          1.320762988244603,
          3.2893755681933547,
          1.7305221903568393,
          1.7305221903568393
         ],
         "xaxis": "x",
         "y": [
          -1.0877933496202874,
          4.269012169768068,
          -0.5913335161159092,
          -1.5604557981916407,
          -0.5913335161159092,
          -0.11867106754455586,
          -1.5604557981916407,
          -0.11867106754455586,
          -0.11867106754455586,
          -0.8967985872009946,
          -1.5604557981916407,
          -1.0877933496202874,
          1.6663595993546907,
          -1.0877933496202874,
          -0.11867106754455586,
          -1.0877933496202874,
          -1.5604557981916407,
          -1.0877933496202874,
          -0.11867106754455586,
          4.269012169768068,
          -0.11867106754455586,
          -1.0877933496202874,
          -1.0877933496202874,
          -1.0877933496202874,
          -1.0877933496202874,
          -0.11867106754455586,
          -0.11867106754455586,
          3.7963497211967128,
          -1.5604557981916407,
          -1.0877933496202874,
          -1.0877933496202874,
          -1.0877933496202874,
          1.6663595993546907,
          -1.5604557981916407,
          -1.5604557981916407,
          0.6972373172789592,
          2.3300168103453367,
          4.932669380758711,
          -0.11867106754455586,
          -1.0877933496202874,
          -0.5913335161159092,
          -1.0877933496202874,
          -1.5604557981916407,
          -0.42413613862964106,
          -1.0877933496202874,
          -1.0877933496202874,
          1.6663595993546907,
          -0.11867106754455586,
          -0.11867106754455586,
          -0.11867106754455586,
          -0.5913335161159092,
          -1.0877933496202874,
          -1.0877933496202874,
          0.5449861434460905,
          -0.40634142170685816,
          -0.5913335161159092,
          -1.0877933496202874,
          -1.5604557981916407,
          -1.5604557981916407,
          -1.5604557981916407,
          -0.8967985872009946,
          -1.0877933496202874,
          -1.5604557981916407,
          -1.3754637037825892,
          -1.5604557981916407,
          5.581380388095959,
          -0.40634142170685816,
          -1.3754637037825892,
          -1.0877933496202874,
          1.193697150783337,
          0.2245748687076057,
          1.6663595993546907,
          -1.0877933496202874,
          -0.11867106754455586,
          1.6663595993546907,
          -1.0877933496202874,
          -1.5604557981916407,
          -0.11867106754455586,
          -1.0877933496202874,
          -0.5913335161159092,
          -1.3754637037825892,
          0.6972373172789592,
          -0.11867106754455586,
          -1.5604557981916407,
          -1.0877933496202874,
          -1.0877933496202874,
          -1.0877933496202874,
          -1.0877933496202874,
          -1.5604557981916407,
          1.6663595993546907,
          -1.0877933496202874,
          1.193697150783337,
          -0.11867106754455586,
          -0.11867106754455586,
          -0.40634142170685816,
          0.6972373172789592,
          0.07232369487473708,
          -0.5913335161159092,
          -1.0877933496202874,
          -0.8967985872009946,
          0.5449861434460905,
          -1.5604557981916407,
          1.193697150783337,
          0.6972373172789592,
          1.6663595993546907,
          -0.40634142170685816,
          -0.11867106754455586,
          -1.312352276880357,
          -1.5604557981916407,
          -0.11867106754455586,
          -0.11867106754455586,
          -1.0877933496202874,
          0.6972373172789592,
          0.07232369487473708,
          0.6972373172789592,
          0.5449861434460905,
          0.2245748687076057,
          0.2245748687076057,
          -0.42413613862964106,
          -0.42413613862964106,
          -0.11867106754455586,
          -0.11867106754455586,
          -0.11867106754455586,
          -1.0877933496202874,
          -0.11867106754455586,
          -0.11867106754455586,
          -1.0877933496202874,
          -0.5913335161159092,
          -0.8967985872009946,
          -0.11867106754455586,
          -0.42413613862964106,
          1.193697150783337,
          -0.40634142170685816,
          -0.5913335161159092,
          -1.5604557981916407,
          0.6972373172789592,
          -1.5604557981916407,
          4.932669380758711,
          5.581380388095959,
          -0.5913335161159092,
          -0.5913335161159092,
          0.6972373172789592,
          -0.40634142170685816,
          -1.5604557981916407,
          -1.0877933496202874,
          -1.5604557981916407,
          -0.11867106754455586,
          1.6663595993546907,
          -0.5913335161159092,
          -1.312352276880357,
          -1.5604557981916407,
          1.6663595993546907,
          1.6663595993546907,
          -1.5604557981916407,
          -1.5604557981916407,
          -1.0877933496202874,
          -0.11867106754455586,
          -0.5913335161159092,
          -0.11867106754455586,
          -1.5604557981916407,
          -1.0877933496202874,
          1.193697150783337,
          0.6972373172789592,
          -1.0877933496202874,
          -1.0877933496202874,
          0.2245748687076057,
          -1.0877933496202874,
          0.5449861434460905,
          -1.5604557981916407,
          -1.0877933496202874,
          -1.0877933496202874
         ],
         "yaxis": "y"
        },
        {
         "hovertemplate": "color=3<br>PC 1 (28.7%)=%{x}<br>PC 2 (16.7%)=%{y}<extra></extra>",
         "legendgroup": "3",
         "marker": {
          "color": "#ab63fa",
          "symbol": "circle"
         },
         "mode": "markers",
         "name": "3",
         "orientation": "v",
         "showlegend": true,
         "type": "scatter",
         "x": [
          -1.2875987346734732,
          -1.1447951152708686,
          -1.1447951152708686,
          -1.2875987346734732,
          -1.2875987346734732,
          -1.1447951152708686,
          -1.2875987346734732,
          -1.2875987346734732,
          -1.1447951152708686,
          -1.2875987346734732,
          -1.1447951152708686,
          -1.2875987346734732,
          -1.2875987346734732,
          -1.2875987346734732,
          -1.1447951152708686,
          -1.2875987346734732,
          -1.2875987346734732,
          -1.2875987346734732,
          -1.2875987346734732,
          -1.1447951152708686,
          -1.1447951152708686,
          -1.1447951152708686,
          -1.1447951152708686,
          -1.1447951152708686,
          -1.2875987346734732,
          -1.1447951152708686,
          -1.2875987346734732,
          -0.0006374528948092671,
          -1.1447951152708686,
          -1.2875987346734732,
          0.03380170646593909,
          -1.1447951152708686,
          -1.2875987346734732,
          -0.4543507785663862,
          -1.2875987346734732,
          -1.2875987346734732,
          -1.1447951152708686,
          -1.2875987346734732,
          -1.2875987346734732,
          -0.4543507785663862,
          0.8326105032122787,
          -1.1447951152708686,
          -1.1447951152708686,
          1.2846301796673552,
          0.14216616650779543,
          -1.1447951152708686,
          -1.2875987346734732,
          -1.1447951152708686,
          -1.2875987346734732,
          -1.1447951152708686,
          -1.2875987346734732,
          -1.1447951152708686,
          -1.1447951152708686,
          1.2846301796673552,
          -1.1447951152708686,
          -1.1447951152708686,
          -1.1447951152708686,
          -1.1447951152708686,
          0.14216616650779543,
          -1.1447951152708686,
          -0.4543507785663862,
          -1.1447951152708686,
          -1.2875987346734732,
          -1.1447951152708686,
          0.867049662573026,
          0.1766053258685434,
          -1.2875987346734732,
          -1.1447951152708686,
          -1.2875987346734732,
          -1.2875987346734732,
          -1.2875987346734732,
          -1.1447951152708686,
          -1.1447951152708686,
          -1.1447951152708686,
          -1.1447951152708686,
          -1.1447951152708686,
          -1.1447951152708686,
          -1.1447951152708686,
          -1.2875987346734732,
          -1.2875987346734732,
          -1.2875987346734732,
          -1.2875987346734732,
          -1.1447951152708686,
          -1.2875987346734732,
          -1.2875987346734732,
          -0.0006374528948092671,
          -1.2875987346734732,
          0.03380170646593909,
          0.8670496625730256
         ],
         "xaxis": "x",
         "y": [
          0.978081759166425,
          0.008959477090693823,
          0.008959477090693823,
          0.978081759166425,
          0.978081759166425,
          0.008959477090693823,
          0.978081759166425,
          0.978081759166425,
          0.008959477090693823,
          0.978081759166425,
          0.008959477090693823,
          0.978081759166425,
          0.978081759166425,
          0.978081759166425,
          0.008959477090693823,
          0.978081759166425,
          0.978081759166425,
          0.978081759166425,
          0.978081759166425,
          0.008959477090693823,
          0.008959477090693823,
          0.008959477090693823,
          0.008959477090693823,
          0.008959477090693823,
          0.978081759166425,
          0.008959477090693823,
          0.978081759166425,
          0.7299782378551418,
          0.008959477090693823,
          0.978081759166425,
          0.793089664757374,
          0.008959477090693823,
          0.978081759166425,
          2.763112426065671,
          0.978081759166425,
          0.978081759166425,
          0.008959477090693823,
          0.978081759166425,
          0.978081759166425,
          2.763112426065671,
          2.5150089047543887,
          0.008959477090693823,
          0.008959477090693823,
          4.148539193092032,
          -0.23914404422058963,
          0.008959477090693823,
          0.978081759166425,
          0.008959477090693823,
          0.978081759166425,
          0.008959477090693823,
          0.978081759166425,
          0.008959477090693823,
          0.008959477090693823,
          4.148539193092032,
          0.008959477090693823,
          0.008959477090693823,
          0.008959477090693823,
          0.008959477090693823,
          -0.23914404422058963,
          0.008959477090693823,
          2.763112426065671,
          0.008959477090693823,
          0.978081759166425,
          0.008959477090693823,
          2.57812033165662,
          -0.17603261731835754,
          0.978081759166425,
          0.008959477090693823,
          0.978081759166425,
          0.978081759166425,
          0.978081759166425,
          0.008959477090693823,
          0.008959477090693823,
          0.008959477090693823,
          0.008959477090693823,
          0.008959477090693823,
          0.008959477090693823,
          0.008959477090693823,
          0.978081759166425,
          0.978081759166425,
          0.978081759166425,
          0.978081759166425,
          0.008959477090693823,
          0.978081759166425,
          0.978081759166425,
          0.7299782378551418,
          0.978081759166425,
          0.793089664757374,
          2.57812033165662
         ],
         "yaxis": "y"
        }
       ],
       "layout": {
        "legend": {
         "title": {
          "text": "color"
         },
         "tracegroupgap": 0
        },
        "margin": {
         "t": 60
        },
        "template": {
         "data": {
          "bar": [
           {
            "error_x": {
             "color": "#2a3f5f"
            },
            "error_y": {
             "color": "#2a3f5f"
            },
            "marker": {
             "line": {
              "color": "#E5ECF6",
              "width": 0.5
             },
             "pattern": {
              "fillmode": "overlay",
              "size": 10,
              "solidity": 0.2
             }
            },
            "type": "bar"
           }
          ],
          "barpolar": [
           {
            "marker": {
             "line": {
              "color": "#E5ECF6",
              "width": 0.5
             },
             "pattern": {
              "fillmode": "overlay",
              "size": 10,
              "solidity": 0.2
             }
            },
            "type": "barpolar"
           }
          ],
          "carpet": [
           {
            "aaxis": {
             "endlinecolor": "#2a3f5f",
             "gridcolor": "white",
             "linecolor": "white",
             "minorgridcolor": "white",
             "startlinecolor": "#2a3f5f"
            },
            "baxis": {
             "endlinecolor": "#2a3f5f",
             "gridcolor": "white",
             "linecolor": "white",
             "minorgridcolor": "white",
             "startlinecolor": "#2a3f5f"
            },
            "type": "carpet"
           }
          ],
          "choropleth": [
           {
            "colorbar": {
             "outlinewidth": 0,
             "ticks": ""
            },
            "type": "choropleth"
           }
          ],
          "contour": [
           {
            "colorbar": {
             "outlinewidth": 0,
             "ticks": ""
            },
            "colorscale": [
             [
              0,
              "#0d0887"
             ],
             [
              0.1111111111111111,
              "#46039f"
             ],
             [
              0.2222222222222222,
              "#7201a8"
             ],
             [
              0.3333333333333333,
              "#9c179e"
             ],
             [
              0.4444444444444444,
              "#bd3786"
             ],
             [
              0.5555555555555556,
              "#d8576b"
             ],
             [
              0.6666666666666666,
              "#ed7953"
             ],
             [
              0.7777777777777778,
              "#fb9f3a"
             ],
             [
              0.8888888888888888,
              "#fdca26"
             ],
             [
              1,
              "#f0f921"
             ]
            ],
            "type": "contour"
           }
          ],
          "contourcarpet": [
           {
            "colorbar": {
             "outlinewidth": 0,
             "ticks": ""
            },
            "type": "contourcarpet"
           }
          ],
          "heatmap": [
           {
            "colorbar": {
             "outlinewidth": 0,
             "ticks": ""
            },
            "colorscale": [
             [
              0,
              "#0d0887"
             ],
             [
              0.1111111111111111,
              "#46039f"
             ],
             [
              0.2222222222222222,
              "#7201a8"
             ],
             [
              0.3333333333333333,
              "#9c179e"
             ],
             [
              0.4444444444444444,
              "#bd3786"
             ],
             [
              0.5555555555555556,
              "#d8576b"
             ],
             [
              0.6666666666666666,
              "#ed7953"
             ],
             [
              0.7777777777777778,
              "#fb9f3a"
             ],
             [
              0.8888888888888888,
              "#fdca26"
             ],
             [
              1,
              "#f0f921"
             ]
            ],
            "type": "heatmap"
           }
          ],
          "heatmapgl": [
           {
            "colorbar": {
             "outlinewidth": 0,
             "ticks": ""
            },
            "colorscale": [
             [
              0,
              "#0d0887"
             ],
             [
              0.1111111111111111,
              "#46039f"
             ],
             [
              0.2222222222222222,
              "#7201a8"
             ],
             [
              0.3333333333333333,
              "#9c179e"
             ],
             [
              0.4444444444444444,
              "#bd3786"
             ],
             [
              0.5555555555555556,
              "#d8576b"
             ],
             [
              0.6666666666666666,
              "#ed7953"
             ],
             [
              0.7777777777777778,
              "#fb9f3a"
             ],
             [
              0.8888888888888888,
              "#fdca26"
             ],
             [
              1,
              "#f0f921"
             ]
            ],
            "type": "heatmapgl"
           }
          ],
          "histogram": [
           {
            "marker": {
             "pattern": {
              "fillmode": "overlay",
              "size": 10,
              "solidity": 0.2
             }
            },
            "type": "histogram"
           }
          ],
          "histogram2d": [
           {
            "colorbar": {
             "outlinewidth": 0,
             "ticks": ""
            },
            "colorscale": [
             [
              0,
              "#0d0887"
             ],
             [
              0.1111111111111111,
              "#46039f"
             ],
             [
              0.2222222222222222,
              "#7201a8"
             ],
             [
              0.3333333333333333,
              "#9c179e"
             ],
             [
              0.4444444444444444,
              "#bd3786"
             ],
             [
              0.5555555555555556,
              "#d8576b"
             ],
             [
              0.6666666666666666,
              "#ed7953"
             ],
             [
              0.7777777777777778,
              "#fb9f3a"
             ],
             [
              0.8888888888888888,
              "#fdca26"
             ],
             [
              1,
              "#f0f921"
             ]
            ],
            "type": "histogram2d"
           }
          ],
          "histogram2dcontour": [
           {
            "colorbar": {
             "outlinewidth": 0,
             "ticks": ""
            },
            "colorscale": [
             [
              0,
              "#0d0887"
             ],
             [
              0.1111111111111111,
              "#46039f"
             ],
             [
              0.2222222222222222,
              "#7201a8"
             ],
             [
              0.3333333333333333,
              "#9c179e"
             ],
             [
              0.4444444444444444,
              "#bd3786"
             ],
             [
              0.5555555555555556,
              "#d8576b"
             ],
             [
              0.6666666666666666,
              "#ed7953"
             ],
             [
              0.7777777777777778,
              "#fb9f3a"
             ],
             [
              0.8888888888888888,
              "#fdca26"
             ],
             [
              1,
              "#f0f921"
             ]
            ],
            "type": "histogram2dcontour"
           }
          ],
          "mesh3d": [
           {
            "colorbar": {
             "outlinewidth": 0,
             "ticks": ""
            },
            "type": "mesh3d"
           }
          ],
          "parcoords": [
           {
            "line": {
             "colorbar": {
              "outlinewidth": 0,
              "ticks": ""
             }
            },
            "type": "parcoords"
           }
          ],
          "pie": [
           {
            "automargin": true,
            "type": "pie"
           }
          ],
          "scatter": [
           {
            "fillpattern": {
             "fillmode": "overlay",
             "size": 10,
             "solidity": 0.2
            },
            "type": "scatter"
           }
          ],
          "scatter3d": [
           {
            "line": {
             "colorbar": {
              "outlinewidth": 0,
              "ticks": ""
             }
            },
            "marker": {
             "colorbar": {
              "outlinewidth": 0,
              "ticks": ""
             }
            },
            "type": "scatter3d"
           }
          ],
          "scattercarpet": [
           {
            "marker": {
             "colorbar": {
              "outlinewidth": 0,
              "ticks": ""
             }
            },
            "type": "scattercarpet"
           }
          ],
          "scattergeo": [
           {
            "marker": {
             "colorbar": {
              "outlinewidth": 0,
              "ticks": ""
             }
            },
            "type": "scattergeo"
           }
          ],
          "scattergl": [
           {
            "marker": {
             "colorbar": {
              "outlinewidth": 0,
              "ticks": ""
             }
            },
            "type": "scattergl"
           }
          ],
          "scattermapbox": [
           {
            "marker": {
             "colorbar": {
              "outlinewidth": 0,
              "ticks": ""
             }
            },
            "type": "scattermapbox"
           }
          ],
          "scatterpolar": [
           {
            "marker": {
             "colorbar": {
              "outlinewidth": 0,
              "ticks": ""
             }
            },
            "type": "scatterpolar"
           }
          ],
          "scatterpolargl": [
           {
            "marker": {
             "colorbar": {
              "outlinewidth": 0,
              "ticks": ""
             }
            },
            "type": "scatterpolargl"
           }
          ],
          "scatterternary": [
           {
            "marker": {
             "colorbar": {
              "outlinewidth": 0,
              "ticks": ""
             }
            },
            "type": "scatterternary"
           }
          ],
          "surface": [
           {
            "colorbar": {
             "outlinewidth": 0,
             "ticks": ""
            },
            "colorscale": [
             [
              0,
              "#0d0887"
             ],
             [
              0.1111111111111111,
              "#46039f"
             ],
             [
              0.2222222222222222,
              "#7201a8"
             ],
             [
              0.3333333333333333,
              "#9c179e"
             ],
             [
              0.4444444444444444,
              "#bd3786"
             ],
             [
              0.5555555555555556,
              "#d8576b"
             ],
             [
              0.6666666666666666,
              "#ed7953"
             ],
             [
              0.7777777777777778,
              "#fb9f3a"
             ],
             [
              0.8888888888888888,
              "#fdca26"
             ],
             [
              1,
              "#f0f921"
             ]
            ],
            "type": "surface"
           }
          ],
          "table": [
           {
            "cells": {
             "fill": {
              "color": "#EBF0F8"
             },
             "line": {
              "color": "white"
             }
            },
            "header": {
             "fill": {
              "color": "#C8D4E3"
             },
             "line": {
              "color": "white"
             }
            },
            "type": "table"
           }
          ]
         },
         "layout": {
          "annotationdefaults": {
           "arrowcolor": "#2a3f5f",
           "arrowhead": 0,
           "arrowwidth": 1
          },
          "autotypenumbers": "strict",
          "coloraxis": {
           "colorbar": {
            "outlinewidth": 0,
            "ticks": ""
           }
          },
          "colorscale": {
           "diverging": [
            [
             0,
             "#8e0152"
            ],
            [
             0.1,
             "#c51b7d"
            ],
            [
             0.2,
             "#de77ae"
            ],
            [
             0.3,
             "#f1b6da"
            ],
            [
             0.4,
             "#fde0ef"
            ],
            [
             0.5,
             "#f7f7f7"
            ],
            [
             0.6,
             "#e6f5d0"
            ],
            [
             0.7,
             "#b8e186"
            ],
            [
             0.8,
             "#7fbc41"
            ],
            [
             0.9,
             "#4d9221"
            ],
            [
             1,
             "#276419"
            ]
           ],
           "sequential": [
            [
             0,
             "#0d0887"
            ],
            [
             0.1111111111111111,
             "#46039f"
            ],
            [
             0.2222222222222222,
             "#7201a8"
            ],
            [
             0.3333333333333333,
             "#9c179e"
            ],
            [
             0.4444444444444444,
             "#bd3786"
            ],
            [
             0.5555555555555556,
             "#d8576b"
            ],
            [
             0.6666666666666666,
             "#ed7953"
            ],
            [
             0.7777777777777778,
             "#fb9f3a"
            ],
            [
             0.8888888888888888,
             "#fdca26"
            ],
            [
             1,
             "#f0f921"
            ]
           ],
           "sequentialminus": [
            [
             0,
             "#0d0887"
            ],
            [
             0.1111111111111111,
             "#46039f"
            ],
            [
             0.2222222222222222,
             "#7201a8"
            ],
            [
             0.3333333333333333,
             "#9c179e"
            ],
            [
             0.4444444444444444,
             "#bd3786"
            ],
            [
             0.5555555555555556,
             "#d8576b"
            ],
            [
             0.6666666666666666,
             "#ed7953"
            ],
            [
             0.7777777777777778,
             "#fb9f3a"
            ],
            [
             0.8888888888888888,
             "#fdca26"
            ],
            [
             1,
             "#f0f921"
            ]
           ]
          },
          "colorway": [
           "#636efa",
           "#EF553B",
           "#00cc96",
           "#ab63fa",
           "#FFA15A",
           "#19d3f3",
           "#FF6692",
           "#B6E880",
           "#FF97FF",
           "#FECB52"
          ],
          "font": {
           "color": "#2a3f5f"
          },
          "geo": {
           "bgcolor": "white",
           "lakecolor": "white",
           "landcolor": "#E5ECF6",
           "showlakes": true,
           "showland": true,
           "subunitcolor": "white"
          },
          "hoverlabel": {
           "align": "left"
          },
          "hovermode": "closest",
          "mapbox": {
           "style": "light"
          },
          "paper_bgcolor": "white",
          "plot_bgcolor": "#E5ECF6",
          "polar": {
           "angularaxis": {
            "gridcolor": "white",
            "linecolor": "white",
            "ticks": ""
           },
           "bgcolor": "#E5ECF6",
           "radialaxis": {
            "gridcolor": "white",
            "linecolor": "white",
            "ticks": ""
           }
          },
          "scene": {
           "xaxis": {
            "backgroundcolor": "#E5ECF6",
            "gridcolor": "white",
            "gridwidth": 2,
            "linecolor": "white",
            "showbackground": true,
            "ticks": "",
            "zerolinecolor": "white"
           },
           "yaxis": {
            "backgroundcolor": "#E5ECF6",
            "gridcolor": "white",
            "gridwidth": 2,
            "linecolor": "white",
            "showbackground": true,
            "ticks": "",
            "zerolinecolor": "white"
           },
           "zaxis": {
            "backgroundcolor": "#E5ECF6",
            "gridcolor": "white",
            "gridwidth": 2,
            "linecolor": "white",
            "showbackground": true,
            "ticks": "",
            "zerolinecolor": "white"
           }
          },
          "shapedefaults": {
           "line": {
            "color": "#2a3f5f"
           }
          },
          "ternary": {
           "aaxis": {
            "gridcolor": "white",
            "linecolor": "white",
            "ticks": ""
           },
           "baxis": {
            "gridcolor": "white",
            "linecolor": "white",
            "ticks": ""
           },
           "bgcolor": "#E5ECF6",
           "caxis": {
            "gridcolor": "white",
            "linecolor": "white",
            "ticks": ""
           }
          },
          "title": {
           "x": 0.05
          },
          "xaxis": {
           "automargin": true,
           "gridcolor": "white",
           "linecolor": "white",
           "ticks": "",
           "title": {
            "standoff": 15
           },
           "zerolinecolor": "white",
           "zerolinewidth": 2
          },
          "yaxis": {
           "automargin": true,
           "gridcolor": "white",
           "linecolor": "white",
           "ticks": "",
           "title": {
            "standoff": 15
           },
           "zerolinecolor": "white",
           "zerolinewidth": 2
          }
         }
        },
        "xaxis": {
         "anchor": "y",
         "domain": [
          0,
          1
         ],
         "title": {
          "text": "PC 1 (28.7%)"
         }
        },
        "yaxis": {
         "anchor": "x",
         "domain": [
          0,
          1
         ],
         "title": {
          "text": "PC 2 (16.7%)"
         }
        }
       }
      }
     },
     "metadata": {},
     "output_type": "display_data"
    }
   ],
   "source": [
    "df_scaled = StandardScaler().fit_transform(df_charte.drop(columns=['sicharteusageweb', 'cluster']))\n",
    "\n",
    "pca_charte = PCA(n_components=2)\n",
    "components = pca_charte.fit_transform(df_scaled)\n",
    "\n",
    "labels = {\n",
    "    str(i): f\"PC {i+1} ({var:.1f}%)\"\n",
    "    for i, var in enumerate(pca_charte.explained_variance_ratio_ * 100)\n",
    "}\n",
    "\n",
    "fig = px.scatter(components, x=0, y=1, color=df_charte.cluster, labels=labels)\n",
    "fig.show()\n"
   ]
  },
  {
   "attachments": {},
   "cell_type": "markdown",
   "metadata": {},
   "source": [
    "Cette ACP restitue 45.4 % de la variance totale. Ceci est bas, il est donc difficile d'interprèter cette ACP.\n",
    "\n",
    "La découpe n'est pas très bonne à ce qu'on peut voir, il n'y a pas réellement de groupes d'individus ou d'établissements atypiques. Cependant on ne peut pas juger cette découpe car la variance totale expliquée est inférieure à 67%.\n",
    "\n",
    "On va essayer de passer en 3 dimensions car peut-être quon récupérera plus d'informations."
   ]
  },
  {
   "cell_type": "code",
   "execution_count": 17,
   "metadata": {},
   "outputs": [
    {
     "data": {
      "application/vnd.plotly.v1+json": {
       "config": {
        "plotlyServerURL": "https://plot.ly"
       },
       "data": [
        {
         "hovertemplate": "color=0<br>PC 1 (28.7%)=%{x}<br>PC 2 (16.7%)=%{y}<br>PC 3 (14.3%)=%{z}<extra></extra>",
         "legendgroup": "0",
         "marker": {
          "color": "#636efa",
          "symbol": "circle"
         },
         "mode": "markers",
         "name": "0",
         "scene": "scene",
         "showlegend": true,
         "type": "scatter3d",
         "x": [
          -1.0206431519638315,
          -1.020643151963839,
          -1.020643151963839,
          -1.020643151963839,
          -1.020643151963839,
          0.30075728917557293,
          -1.020643151963839,
          -0.18739519585675732,
          -1.020643151963839,
          -1.020643151963839,
          -1.020643151963839,
          -1.020643151963839,
          -1.020643151963839,
          -1.020643151963839,
          -1.020643151963839,
          -1.020643151963839,
          -1.020643151963839,
          -0.18739519585675732,
          0.2663181298148277,
          -1.020643151963839,
          -1.020643151963839,
          -1.020643151963839,
          -1.020643151963839,
          0.30075728917557293,
          -1.020643151963839,
          -1.020643151963839,
          -1.020643151963839,
          -1.020643151963839,
          -1.020643151963839,
          -1.020643151963839,
          -1.020643151963839,
          -1.020643151963839,
          -1.020643151963839,
          0.2663181298148277,
          -1.020643151963839,
          -1.020643151963839,
          -1.020643151963839,
          -1.020643151963839,
          -1.020643151963839,
          -1.020643151963839,
          -1.020643151963839,
          -1.020643151963839,
          -1.020643151963839,
          -1.020643151963839,
          -1.020643151963839,
          -1.020643151963839,
          -1.020643151963839,
          1.0995660859219094,
          -1.020643151963839,
          -1.020643151963839,
          0.9550688173027722,
          -1.020643151963839,
          -1.020643151963839,
          -1.020643151963839,
          -1.020643151963839,
          -1.020643151963839,
          -1.020643151963839,
          -1.020643151963839,
          1.0995660859219094,
          -1.020643151963839,
          -1.020643151963839,
          -1.020643151963839,
          -1.020643151963839,
          -1.020643151963839,
          0.2663181298148277,
          -1.020643151963839,
          -1.020643151963839,
          0.30075728917557293,
          -1.020643151963839,
          -1.020643151963839,
          0.30075728917557293,
          -1.020643151963839,
          -1.020643151963839,
          1.1340052452826543,
          0.9550688173027722,
          -1.020643151963839,
          -1.020643151963839,
          -1.020643151963839,
          -1.020643151963839,
          -1.020643151963839,
          -1.020643151963839,
          -1.020643151963839,
          -1.020643151963839,
          0.9550688173027722,
          1.1340052452826543,
          -1.020643151963839,
          0.2663181298148277,
          0.30075728917557293,
          -1.020643151963839,
          -1.020643151963839,
          -1.020643151963839,
          -1.020643151963839,
          0.30075728917557293,
          1.0995660859219094,
          -1.020643151963839,
          -1.020643151963839,
          -1.020643151963839,
          -1.020643151963839,
          -1.020643151963839,
          -1.020643151963839,
          -0.18739519585675732,
          -1.020643151963839,
          -1.020643151963839,
          -1.020643151963839,
          -1.020643151963839,
          -0.18739519585675732,
          -1.020643151963839,
          0.2663181298148277,
          -1.020643151963839,
          -1.020643151963839,
          0.2663181298148277,
          -1.020643151963839,
          1.0995660859219094,
          -1.020643151963839,
          0.2663181298148277,
          0.30075728917557293,
          -1.020643151963839,
          -1.020643151963839,
          -1.020643151963839,
          0.5382102258726833,
          -1.020643151963839,
          -1.020643151963839,
          -1.020643151963839,
          -1.020643151963839,
          -1.020643151963839,
          -1.020643151963839,
          1.0995660859219094,
          0.2663181298148277,
          -1.020643151963839,
          -1.020643151963839,
          1.0995660859219094,
          -0.18739519585675732,
          -1.020643151963839,
          -1.020643151963839,
          -1.020643151963839,
          -1.020643151963839,
          -1.020643151963839,
          0.30075728917557293,
          -1.020643151963839,
          -1.020643151963839,
          -1.020643151963839,
          -1.020643151963839,
          -1.020643151963839,
          -1.020643151963839,
          -1.020643151963839,
          -1.020643151963839,
          -1.020643151963839,
          0.5382102258726833,
          -1.020643151963839,
          -1.020643151963839,
          0.2663181298148277,
          -1.020643151963839,
          -1.020643151963839,
          -1.020643151963839,
          -1.020643151963839,
          -1.020643151963839,
          0.2663181298148277,
          -1.020643151963839,
          -1.020643151963839,
          1.1340052452826543,
          -1.020643151963839,
          -1.020643151963839,
          -1.020643151963839,
          -1.020643151963839,
          0.2663181298148277,
          -1.020643151963839,
          -1.020643151963839,
          -1.020643151963839,
          -1.020643151963839,
          -1.020643151963839,
          -1.020643151963839,
          -1.020643151963839,
          -1.020643151963839,
          0.5382102258726833,
          -1.020643151963839,
          -1.020643151963839,
          -1.020643151963839,
          -1.020643151963839,
          0.30075728917557293,
          -1.020643151963839,
          -1.020643151963839,
          -1.020643151963839,
          -1.020643151963839,
          -1.020643151963839,
          -0.18739519585675732,
          1.4432213023351013,
          -1.020643151963839,
          -1.020643151963839,
          -1.020643151963839,
          -1.020643151963839,
          -1.020643151963839,
          -1.020643151963839,
          0.2663181298148277,
          -1.020643151963839,
          -1.020643151963839,
          -1.020643151963839,
          -1.020643151963839,
          -1.020643151963839,
          -0.18739519585675732,
          0.2663181298148277,
          -1.020643151963839,
          0.30075728917557293,
          -1.020643151963839,
          0.5382102258726833,
          -1.020643151963839,
          -1.020643151963839,
          -1.020643151963839,
          0.2663181298148277,
          -1.020643151963839,
          -1.020643151963839,
          -1.020643151963839,
          -1.020643151963839,
          -1.020643151963839,
          -1.020643151963839,
          -1.020643151963839,
          -1.020643151963839,
          -1.020643151963839,
          -1.020643151963839,
          -1.020643151963839,
          -1.020643151963839,
          -1.020643151963839,
          -1.020643151963839,
          0.2663181298148277,
          0.2663181298148277,
          -1.020643151963839,
          -1.020643151963839,
          -1.020643151963839,
          -1.020643151963839,
          -1.020643151963839,
          -1.020643151963839,
          -1.020643151963839,
          -1.020643151963839,
          -1.020643151963839,
          -1.020643151963839,
          -1.020643151963839,
          -1.020643151963839,
          -1.020643151963839,
          0.5382102258726833,
          -1.020643151963839,
          -1.020643151963839,
          -1.020643151963839,
          0.30075728917557293,
          -0.18739519585675732,
          -1.020643151963839,
          -1.020643151963839,
          -1.020643151963839,
          -1.020643151963839,
          -1.020643151963839,
          -1.020643151963839,
          -1.020643151963839,
          -1.020643151963839,
          -1.020643151963839,
          -1.020643151963839,
          -1.020643151963839,
          0.2663181298148277,
          -0.18739519585675732,
          0.2663181298148277,
          -1.020643151963839,
          -1.020643151963839,
          -1.020643151963839,
          -1.020643151963839,
          -1.020643151963839,
          -1.020643151963839,
          -1.020643151963839,
          0.2663181298148277,
          -1.020643151963839,
          -1.020643151963839,
          -1.020643151963839,
          -1.020643151963839,
          0.3007572891755729,
          -1.020643151963839
         ],
         "y": [
          0.3144245481757805,
          0.3144245481757796,
          0.3144245481757796,
          0.3144245481757796,
          0.3144245481757796,
          0.12943245376673385,
          0.3144245481757796,
          2.0994552150750105,
          0.3144245481757796,
          0.3144245481757796,
          0.3144245481757796,
          0.3144245481757796,
          0.3144245481757796,
          0.3144245481757796,
          0.3144245481757796,
          0.3144245481757796,
          0.3144245481757796,
          2.0994552150750105,
          0.06632102686450313,
          0.3144245481757796,
          0.3144245481757796,
          0.3144245481757796,
          0.3144245481757796,
          0.12943245376673385,
          0.3144245481757796,
          0.3144245481757796,
          0.3144245481757796,
          0.3144245481757796,
          0.3144245481757796,
          0.3144245481757796,
          0.3144245481757796,
          0.3144245481757796,
          0.3144245481757796,
          0.06632102686450313,
          0.3144245481757796,
          0.3144245481757796,
          0.3144245481757796,
          0.3144245481757796,
          0.3144245481757796,
          0.3144245481757796,
          0.3144245481757796,
          0.3144245481757796,
          0.3144245481757796,
          0.3144245481757796,
          0.3144245481757796,
          0.3144245481757796,
          0.3144245481757796,
          1.851351693763734,
          0.3144245481757796,
          0.3144245481757796,
          6.487138452387644,
          0.3144245481757796,
          0.3144245481757796,
          0.3144245481757796,
          0.3144245481757796,
          0.3144245481757796,
          0.3144245481757796,
          0.3144245481757796,
          1.851351693763734,
          0.3144245481757796,
          0.3144245481757796,
          0.3144245481757796,
          0.3144245481757796,
          0.3144245481757796,
          0.06632102686450313,
          0.3144245481757796,
          0.3144245481757796,
          0.12943245376673385,
          0.3144245481757796,
          0.3144245481757796,
          0.12943245376673385,
          0.3144245481757796,
          0.3144245481757796,
          1.9144631206659641,
          6.487138452387644,
          0.3144245481757796,
          0.3144245481757796,
          0.3144245481757796,
          0.3144245481757796,
          0.3144245481757796,
          0.3144245481757796,
          0.3144245481757796,
          0.3144245481757796,
          6.487138452387644,
          1.9144631206659641,
          0.3144245481757796,
          0.06632102686450313,
          0.12943245376673385,
          0.3144245481757796,
          0.3144245481757796,
          0.3144245481757796,
          0.3144245481757796,
          0.12943245376673385,
          1.851351693763734,
          0.3144245481757796,
          0.3144245481757796,
          0.3144245481757796,
          0.3144245481757796,
          0.3144245481757796,
          0.3144245481757796,
          2.0994552150750105,
          0.3144245481757796,
          0.3144245481757796,
          0.3144245481757796,
          0.3144245481757796,
          2.0994552150750105,
          0.3144245481757796,
          0.06632102686450313,
          0.3144245481757796,
          0.3144245481757796,
          0.06632102686450313,
          0.3144245481757796,
          1.851351693763734,
          0.3144245481757796,
          0.06632102686450313,
          0.12943245376673385,
          0.3144245481757796,
          0.3144245481757796,
          0.3144245481757796,
          -0.15823790039557556,
          0.3144245481757796,
          0.3144245481757796,
          0.3144245481757796,
          0.3144245481757796,
          0.3144245481757796,
          0.3144245481757796,
          1.851351693763734,
          0.06632102686450313,
          0.3144245481757796,
          0.3144245481757796,
          1.851351693763734,
          2.0994552150750105,
          0.3144245481757796,
          0.3144245481757796,
          0.3144245481757796,
          0.3144245481757796,
          0.3144245481757796,
          0.12943245376673385,
          0.3144245481757796,
          0.3144245481757796,
          0.3144245481757796,
          0.3144245481757796,
          0.3144245481757796,
          0.3144245481757796,
          0.3144245481757796,
          0.3144245481757796,
          0.3144245481757796,
          -0.15823790039557556,
          0.3144245481757796,
          0.3144245481757796,
          0.06632102686450313,
          0.3144245481757796,
          0.3144245481757796,
          0.3144245481757796,
          0.3144245481757796,
          0.3144245481757796,
          0.06632102686450313,
          0.3144245481757796,
          0.3144245481757796,
          1.9144631206659641,
          0.3144245481757796,
          0.3144245481757796,
          0.3144245481757796,
          0.3144245481757796,
          0.06632102686450313,
          0.3144245481757796,
          0.3144245481757796,
          0.3144245481757796,
          0.3144245481757796,
          0.3144245481757796,
          0.3144245481757796,
          0.3144245481757796,
          0.3144245481757796,
          -0.15823790039557556,
          0.3144245481757796,
          0.3144245481757796,
          0.3144245481757796,
          0.3144245481757796,
          0.12943245376673385,
          0.3144245481757796,
          0.3144245481757796,
          0.3144245481757796,
          0.3144245481757796,
          0.3144245481757796,
          2.0994552150750105,
          4.517115691079367,
          0.3144245481757796,
          0.3144245481757796,
          0.3144245481757796,
          0.3144245481757796,
          0.3144245481757796,
          0.3144245481757796,
          0.06632102686450313,
          0.3144245481757796,
          0.3144245481757796,
          0.3144245481757796,
          0.3144245481757796,
          0.3144245481757796,
          2.0994552150750105,
          0.06632102686450313,
          0.3144245481757796,
          0.12943245376673385,
          0.3144245481757796,
          -0.15823790039557556,
          0.3144245481757796,
          0.3144245481757796,
          0.3144245481757796,
          0.06632102686450313,
          0.3144245481757796,
          0.3144245481757796,
          0.3144245481757796,
          0.3144245481757796,
          0.3144245481757796,
          0.3144245481757796,
          0.3144245481757796,
          0.3144245481757796,
          0.3144245481757796,
          0.3144245481757796,
          0.3144245481757796,
          0.3144245481757796,
          0.3144245481757796,
          0.3144245481757796,
          0.06632102686450313,
          0.06632102686450313,
          0.3144245481757796,
          0.3144245481757796,
          0.3144245481757796,
          0.3144245481757796,
          0.3144245481757796,
          0.3144245481757796,
          0.3144245481757796,
          0.3144245481757796,
          0.3144245481757796,
          0.3144245481757796,
          0.3144245481757796,
          0.3144245481757796,
          0.3144245481757796,
          -0.15823790039557556,
          0.3144245481757796,
          0.3144245481757796,
          0.3144245481757796,
          0.12943245376673385,
          2.0994552150750105,
          0.3144245481757796,
          0.3144245481757796,
          0.3144245481757796,
          0.3144245481757796,
          0.3144245481757796,
          0.3144245481757796,
          0.3144245481757796,
          0.3144245481757796,
          0.3144245481757796,
          0.3144245481757796,
          0.3144245481757796,
          0.06632102686450313,
          2.0994552150750105,
          0.06632102686450313,
          0.3144245481757796,
          0.3144245481757796,
          0.3144245481757796,
          0.3144245481757796,
          0.3144245481757796,
          0.3144245481757796,
          0.3144245481757796,
          0.06632102686450313,
          0.3144245481757796,
          0.3144245481757796,
          0.3144245481757796,
          0.3144245481757796,
          0.12943245376673382,
          0.3144245481757796
         ],
         "z": [
          -0.5578674348331726,
          -0.5578674348331539,
          -0.5578674348331545,
          -0.5578674348331545,
          -0.5578674348331545,
          -0.3734517440468651,
          -0.5578674348331545,
          -1.5542684465030683,
          -0.5578674348331545,
          -0.5578674348331545,
          -0.5578674348331545,
          -0.5578674348331545,
          -0.5578674348331545,
          -0.5578674348331545,
          -0.5578674348331545,
          -0.5578674348331545,
          -0.5578674348331545,
          -1.5542684465030683,
          -0.3554203764672907,
          -0.5578674348331545,
          -0.5578674348331545,
          -0.5578674348331545,
          -0.5578674348331545,
          -0.3734517440468651,
          -0.5578674348331545,
          -0.5578674348331545,
          -0.5578674348331545,
          -0.5578674348331545,
          -0.5578674348331545,
          -0.5578674348331545,
          -0.5578674348331545,
          -0.5578674348331545,
          -0.5578674348331545,
          -0.3554203764672907,
          -0.5578674348331545,
          -0.5578674348331545,
          -0.5578674348331545,
          -0.5578674348331545,
          -0.5578674348331545,
          -0.5578674348331545,
          -0.5578674348331545,
          -0.5578674348331545,
          -0.5578674348331545,
          -0.5578674348331545,
          -0.5578674348331545,
          -0.5578674348331545,
          -0.5578674348331545,
          -1.3518213881372043,
          -0.5578674348331545,
          -0.5578674348331545,
          -1.0040621349255383,
          -0.5578674348331545,
          -0.5578674348331545,
          -0.5578674348331545,
          -0.5578674348331545,
          -0.5578674348331545,
          -0.5578674348331545,
          -0.5578674348331545,
          -1.3518213881372043,
          -0.5578674348331545,
          -0.5578674348331545,
          -0.5578674348331545,
          -0.5578674348331545,
          -0.5578674348331545,
          -0.3554203764672907,
          -0.5578674348331545,
          -0.5578674348331545,
          -0.3734517440468651,
          -0.5578674348331545,
          -0.5578674348331545,
          -0.3734517440468651,
          -0.5578674348331545,
          -0.5578674348331545,
          -1.3698527557167783,
          -1.0040621349255383,
          -0.5578674348331545,
          -0.5578674348331545,
          -0.5578674348331545,
          -0.5578674348331545,
          -0.5578674348331545,
          -0.5578674348331545,
          -0.5578674348331545,
          -0.5578674348331545,
          -1.0040621349255383,
          -1.3698527557167783,
          -0.5578674348331545,
          -0.3554203764672907,
          -0.3734517440468651,
          -0.5578674348331545,
          -0.5578674348331545,
          -0.5578674348331545,
          -0.5578674348331545,
          -0.3734517440468651,
          -1.3518213881372043,
          -0.5578674348331545,
          -0.5578674348331545,
          -0.5578674348331545,
          -0.5578674348331545,
          -0.5578674348331545,
          -0.5578674348331545,
          -1.5542684465030683,
          -0.5578674348331545,
          -0.5578674348331545,
          -0.5578674348331545,
          -0.5578674348331545,
          -1.5542684465030683,
          -0.5578674348331545,
          -0.3554203764672907,
          -0.5578674348331545,
          -0.5578674348331545,
          -0.3554203764672907,
          -0.5578674348331545,
          -1.3518213881372043,
          -0.5578674348331545,
          -0.3554203764672907,
          -0.3734517440468651,
          -0.5578674348331545,
          -0.5578674348331545,
          -0.5578674348331545,
          -0.3254810064711306,
          -0.5578674348331545,
          -0.5578674348331545,
          -0.5578674348331545,
          -0.5578674348331545,
          -0.5578674348331545,
          -0.5578674348331545,
          -1.3518213881372043,
          -0.3554203764672907,
          -0.5578674348331545,
          -0.5578674348331545,
          -1.3518213881372043,
          -1.5542684465030683,
          -0.5578674348331545,
          -0.5578674348331545,
          -0.5578674348331545,
          -0.5578674348331545,
          -0.5578674348331545,
          -0.3734517440468651,
          -0.5578674348331545,
          -0.5578674348331545,
          -0.5578674348331545,
          -0.5578674348331545,
          -0.5578674348331545,
          -0.5578674348331545,
          -0.5578674348331545,
          -0.5578674348331545,
          -0.5578674348331545,
          -0.3254810064711306,
          -0.5578674348331545,
          -0.5578674348331545,
          -0.3554203764672907,
          -0.5578674348331545,
          -0.5578674348331545,
          -0.5578674348331545,
          -0.5578674348331545,
          -0.5578674348331545,
          -0.3554203764672907,
          -0.5578674348331545,
          -0.5578674348331545,
          -1.3698527557167783,
          -0.5578674348331545,
          -0.5578674348331545,
          -0.5578674348331545,
          -0.5578674348331545,
          -0.3554203764672907,
          -0.5578674348331545,
          -0.5578674348331545,
          -0.5578674348331545,
          -0.5578674348331545,
          -0.5578674348331545,
          -0.5578674348331545,
          -0.5578674348331545,
          -0.5578674348331545,
          -0.3254810064711306,
          -0.5578674348331545,
          -0.5578674348331545,
          -0.5578674348331545,
          -0.5578674348331545,
          -0.3734517440468651,
          -0.5578674348331545,
          -0.5578674348331545,
          -0.5578674348331545,
          -0.5578674348331545,
          -0.5578674348331545,
          -1.5542684465030683,
          0.1767545675306647,
          -0.5578674348331545,
          -0.5578674348331545,
          -0.5578674348331545,
          -0.5578674348331545,
          -0.5578674348331545,
          -0.5578674348331545,
          -0.3554203764672907,
          -0.5578674348331545,
          -0.5578674348331545,
          -0.5578674348331545,
          -0.5578674348331545,
          -0.5578674348331545,
          -1.5542684465030683,
          -0.3554203764672907,
          -0.5578674348331545,
          -0.3734517440468651,
          -0.5578674348331545,
          -0.3254810064711306,
          -0.5578674348331545,
          -0.5578674348331545,
          -0.5578674348331545,
          -0.3554203764672907,
          -0.5578674348331545,
          -0.5578674348331545,
          -0.5578674348331545,
          -0.5578674348331545,
          -0.5578674348331545,
          -0.5578674348331545,
          -0.5578674348331545,
          -0.5578674348331545,
          -0.5578674348331545,
          -0.5578674348331545,
          -0.5578674348331545,
          -0.5578674348331545,
          -0.5578674348331545,
          -0.5578674348331545,
          -0.3554203764672907,
          -0.3554203764672907,
          -0.5578674348331545,
          -0.5578674348331545,
          -0.5578674348331545,
          -0.5578674348331545,
          -0.5578674348331545,
          -0.5578674348331545,
          -0.5578674348331545,
          -0.5578674348331545,
          -0.5578674348331545,
          -0.5578674348331545,
          -0.5578674348331545,
          -0.5578674348331545,
          -0.5578674348331545,
          -0.3254810064711306,
          -0.5578674348331545,
          -0.5578674348331545,
          -0.5578674348331545,
          -0.3734517440468651,
          -1.5542684465030683,
          -0.5578674348331545,
          -0.5578674348331545,
          -0.5578674348331545,
          -0.5578674348331545,
          -0.5578674348331545,
          -0.5578674348331545,
          -0.5578674348331545,
          -0.5578674348331545,
          -0.5578674348331545,
          -0.5578674348331545,
          -0.5578674348331545,
          -0.3554203764672907,
          -1.5542684465030683,
          -0.3554203764672907,
          -0.5578674348331545,
          -0.5578674348331545,
          -0.5578674348331545,
          -0.5578674348331545,
          -0.5578674348331545,
          -0.5578674348331545,
          -0.5578674348331545,
          -0.3554203764672907,
          -0.5578674348331545,
          -0.5578674348331545,
          -0.5578674348331545,
          -0.5578674348331545,
          -0.37345174404686493,
          -0.5578674348331545
         ]
        },
        {
         "hovertemplate": "color=1<br>PC 1 (28.7%)=%{x}<br>PC 2 (16.7%)=%{y}<br>PC 3 (14.3%)=%{z}<extra></extra>",
         "legendgroup": "1",
         "marker": {
          "color": "#EF553B",
          "symbol": "circle"
         },
         "mode": "markers",
         "name": "1",
         "scene": "scene",
         "showlegend": true,
         "type": "scatter3d",
         "x": [
          0.44356090857817937,
          0.44356090857817826,
          -0.8778395325612384,
          -0.8778395325612384,
          -0.8778395325612386,
          0.44356090857817354,
          1.2768088646852553,
          -0.04459157645415689,
          0.681013845275284,
          -0.8778395325612386,
          -0.8778395325612386,
          -0.8778395325612386,
          -0.8778395325612386,
          0.40912174921742833,
          -0.8778395325612386,
          -0.8778395325612386,
          0.40912174921742833,
          0.40912174921742833,
          -0.8778395325612386,
          -0.8778395325612386,
          -0.8778395325612386,
          -0.8778395325612386,
          0.44356090857817354,
          -0.8778395325612386,
          -0.8778395325612386,
          -0.8778395325612386,
          0.40912174921742833,
          -0.04459157645415689,
          -0.8778395325612386,
          -0.8778395325612386,
          -0.8778395325612386,
          -0.8778395325612386,
          1.2768088646852553,
          -0.8778395325612386,
          -0.8778395325612386,
          -0.8778395325612386,
          0.44356090857817354,
          -0.8778395325612386,
          -0.8778395325612386,
          -0.04459157645415689,
          -0.8778395325612386,
          0.40912174921742833,
          -0.8778395325612386,
          1.514261801382366,
          -0.8778395325612386,
          -0.8778395325612386,
          -0.8778395325612386,
          0.40912174921742833,
          -0.8778395325612386,
          -0.8778395325612386,
          1.2768088646852553,
          0.44356090857817354,
          -0.8778395325612386,
          -0.8778395325612386,
          0.44356090857817354,
          -0.8778395325612386,
          -0.8778395325612386,
          -0.8778395325612386,
          -0.8778395325612386,
          -0.8778395325612386,
          -0.8778395325612386,
          -0.8778395325612386,
          -0.8778395325612386,
          -0.8778395325612386,
          -0.8778395325612386,
          0.44356090857817354,
          0.40912174921742833,
          -0.8778395325612386,
          -0.8778395325612386,
          -0.8778395325612386,
          -0.8778395325612386,
          -0.8778395325612386,
          -0.8778395325612386,
          -0.8778395325612386,
          1.0978724367053712,
          -0.8778395325612386,
          0.40912174921742833,
          -0.8778395325612386,
          -0.8778395325612386,
          0.44356090857817354,
          -0.8778395325612386,
          -0.8778395325612386,
          -0.8778395325612386,
          -0.8778395325612386,
          -0.8778395325612386,
          -0.8778395325612386,
          -0.8778395325612386,
          -0.8778395325612386,
          -0.8778395325612386,
          -0.8778395325612386,
          -0.8778395325612386,
          -0.8778395325612386,
          -0.8778395325612386,
          -0.8778395325612386,
          -0.8778395325612386,
          0.681013845275284,
          0.44356090857817354,
          -0.04459157645415689,
          -0.8778395325612386,
          0.44356090857817354,
          -0.8778395325612386,
          -0.8778395325612386,
          -0.8778395325612386,
          0.40912174921742833,
          0.40912174921742833,
          0.681013845275284,
          -0.8778395325612386,
          -0.8778395325612386,
          -0.8778395325612386,
          -0.8778395325612386,
          -0.8778395325612386,
          0.44356090857817354,
          -0.8778395325612386,
          -0.8778395325612386,
          0.40912174921742833,
          -0.8778395325612386,
          -0.8778395325612386,
          -0.04459157645415689,
          0.44356090857817354,
          -0.8778395325612386,
          -0.8778395325612386,
          -0.8778395325612386,
          -0.8778395325612386,
          0.40912174921742833,
          1.514261801382366,
          -0.8778395325612386,
          0.40912174921742833,
          0.40912174921742833,
          -0.8778395325612386,
          0.44356090857817354,
          -0.8778395325612386,
          -0.8778395325612386,
          -0.8778395325612386,
          -0.8778395325612386,
          0.44356090857817354,
          -0.8778395325612386,
          -0.8778395325612386,
          0.44356090857817354,
          -0.8778395325612386,
          -0.8778395325612386,
          -0.8778395325612386,
          -0.04459157645415689,
          -0.8778395325612386,
          -0.8778395325612386,
          -0.8778395325612386,
          -0.8778395325612386,
          -0.8778395325612386,
          -0.8778395325612386,
          0.44356090857817354,
          0.40912174921742833,
          -0.8778395325612386,
          0.44356090857817354,
          -0.8778395325612386,
          -0.8778395325612386,
          1.0978724367053712,
          -0.8778395325612386,
          -0.8778395325612386,
          -0.8778395325612386,
          -0.8778395325612386,
          -0.8778395325612386,
          -0.04459157645415689,
          -0.8778395325612386,
          -0.8778395325612386,
          1.586024921737702,
          -0.04459157645415689,
          -0.8778395325612386,
          0.40912174921742833,
          0.40912174921742833,
          -0.04459157645415689,
          -0.8778395325612386,
          -0.8778395325612386,
          -0.8778395325612386,
          0.44356090857817354,
          0.40912174921742833,
          -0.8778395325612386,
          -0.8778395325612386,
          -0.8778395325612386,
          0.40912174921742833,
          -0.8778395325612386,
          0.681013845275284,
          -0.8778395325612386,
          0.44356090857817354,
          0.44356090857817354,
          0.40912174921742833,
          -0.8778395325612386,
          0.44356090857817354,
          -0.8778395325612386,
          -0.8778395325612386,
          -0.8778395325612386,
          -0.8778395325612386,
          1.2768088646852553,
          -0.8778395325612386,
          -0.8778395325612386,
          -0.8778395325612386,
          -0.8778395325612386,
          -0.8778395325612386,
          -0.8778395325612386,
          -0.8778395325612386,
          -0.8778395325612386,
          0.40912174921742833,
          -0.8778395325612386,
          -0.8778395325612386,
          -0.8778395325612386,
          -0.8778395325612386,
          -0.8778395325612386,
          -0.8778395325612386,
          0.40912174921742833,
          0.681013845275284,
          -0.8778395325612386,
          -0.04459157645415689,
          -0.8778395325612386,
          -0.8778395325612386,
          -0.8778395325612386,
          2.6567258145418946,
          0.40912174921742833,
          0.44356090857817354,
          -0.8778395325612386,
          -0.8778395325612386,
          -0.8778395325612386,
          -0.8778395325612386,
          -0.8778395325612386,
          -0.8778395325612386,
          -0.8778395325612386,
          -0.8778395325612386,
          -0.8778395325612386,
          -0.8778395325612386,
          -0.8778395325612386,
          -0.8778395325612386,
          -0.8778395325612386,
          -0.04459157645415689,
          -0.8778395325612386,
          0.40912174921742833,
          0.44356090857817354,
          -0.8778395325612386,
          -0.8778395325612386,
          0.40912174921742833,
          -0.8778395325612386,
          -0.8778395325612386,
          -0.8778395325612386,
          -0.8778395325612386,
          -0.8778395325612386,
          -0.8778395325612386,
          -0.8778395325612386,
          -0.04459157645415689,
          -0.8778395325612386,
          -0.8778395325612386,
          0.40912174921742833,
          -0.8778395325612386,
          -0.04459157645415689,
          -0.8778395325612386,
          -0.8778395325612386,
          0.40912174921742833,
          -0.8778395325612386,
          0.44356090857817354,
          0.40912174921742833,
          0.40912174921742833,
          -0.8778395325612386,
          -0.8778395325612386,
          -0.8778395325612386,
          -0.8778395325612386,
          0.40912174921742833,
          -0.8778395325612386,
          0.40912174921742833,
          -0.8778395325612386,
          0.44356090857817354,
          -0.8778395325612386,
          -0.8778395325612386,
          0.40912174921742833,
          -0.8778395325612386,
          0.40912174921742833,
          -0.8778395325612386,
          -0.8778395325612386,
          -0.8778395325612386,
          -0.8778395325612386,
          -0.8778395325612386,
          -0.8778395325612386,
          -0.8778395325612386,
          -0.8778395325612386,
          -0.8778395325612386,
          0.4091217492174283,
          -0.8778395325612386,
          -0.8778395325612386,
          -0.8778395325612386
         ],
         "y": [
          -0.8396898283090098,
          -0.8396898283089984,
          -0.6546977338999593,
          -0.654697733899961,
          -0.6546977338999606,
          -0.839689828309006,
          0.9453408385902248,
          1.13033293299927,
          -1.1273601824713155,
          -0.6546977338999606,
          -0.6546977338999606,
          -0.6546977338999606,
          -0.6546977338999606,
          -0.9028012552112368,
          -0.6546977338999606,
          -0.6546977338999606,
          -0.9028012552112368,
          -0.9028012552112368,
          -0.6546977338999606,
          -0.6546977338999606,
          -0.6546977338999606,
          -0.6546977338999606,
          -0.839689828309006,
          -0.6546977338999606,
          -0.6546977338999606,
          -0.6546977338999606,
          -0.9028012552112368,
          1.13033293299927,
          -0.6546977338999606,
          -0.6546977338999606,
          -0.6546977338999606,
          -0.6546977338999606,
          0.9453408385902248,
          -0.6546977338999606,
          -0.6546977338999606,
          -0.6546977338999606,
          -0.839689828309006,
          -0.6546977338999606,
          -0.6546977338999606,
          1.13033293299927,
          -0.6546977338999606,
          -0.9028012552112368,
          -0.6546977338999606,
          0.6576704844279151,
          -0.6546977338999606,
          -0.6546977338999606,
          -0.6546977338999606,
          -0.9028012552112368,
          -0.6546977338999606,
          -0.6546977338999606,
          0.9453408385902248,
          -0.839689828309006,
          -0.6546977338999606,
          -0.6546977338999606,
          -0.839689828309006,
          -0.6546977338999606,
          -0.6546977338999606,
          -0.6546977338999606,
          -0.6546977338999606,
          -0.6546977338999606,
          -0.6546977338999606,
          -0.6546977338999606,
          -0.6546977338999606,
          -0.6546977338999606,
          -0.6546977338999606,
          -0.839689828309006,
          -0.9028012552112368,
          -0.6546977338999606,
          -0.6546977338999606,
          -0.6546977338999606,
          -0.6546977338999606,
          -0.6546977338999606,
          -0.6546977338999606,
          -0.6546977338999606,
          5.518016170311902,
          -0.6546977338999606,
          -0.9028012552112368,
          -0.6546977338999606,
          -0.6546977338999606,
          -0.839689828309006,
          -0.6546977338999606,
          -0.6546977338999606,
          -0.6546977338999606,
          -0.6546977338999606,
          -0.6546977338999606,
          -0.6546977338999606,
          -0.6546977338999606,
          -0.6546977338999606,
          -0.6546977338999606,
          -0.6546977338999606,
          -0.6546977338999606,
          -0.6546977338999606,
          -0.6546977338999606,
          -0.6546977338999606,
          -0.6546977338999606,
          -1.1273601824713155,
          -0.839689828309006,
          1.13033293299927,
          -0.6546977338999606,
          -0.839689828309006,
          -0.6546977338999606,
          -0.6546977338999606,
          -0.6546977338999606,
          -0.9028012552112368,
          -0.9028012552112368,
          -1.1273601824713155,
          -0.6546977338999606,
          -0.6546977338999606,
          -0.6546977338999606,
          -0.6546977338999606,
          -0.6546977338999606,
          -0.839689828309006,
          -0.6546977338999606,
          -0.6546977338999606,
          -0.9028012552112368,
          -0.6546977338999606,
          -0.6546977338999606,
          1.13033293299927,
          -0.839689828309006,
          -0.6546977338999606,
          -0.6546977338999606,
          -0.6546977338999606,
          -0.6546977338999606,
          -0.9028012552112368,
          0.6576704844279151,
          -0.6546977338999606,
          -0.9028012552112368,
          -0.9028012552112368,
          -0.6546977338999606,
          -0.839689828309006,
          -0.6546977338999606,
          -0.6546977338999606,
          -0.6546977338999606,
          -0.6546977338999606,
          -0.839689828309006,
          -0.6546977338999606,
          -0.6546977338999606,
          -0.839689828309006,
          -0.6546977338999606,
          -0.6546977338999606,
          -0.6546977338999606,
          1.13033293299927,
          -0.6546977338999606,
          -0.6546977338999606,
          -0.6546977338999606,
          -0.6546977338999606,
          -0.6546977338999606,
          -0.6546977338999606,
          -0.839689828309006,
          -0.9028012552112368,
          -0.6546977338999606,
          -0.839689828309006,
          -0.6546977338999606,
          -0.6546977338999606,
          5.518016170311902,
          -0.6546977338999606,
          -0.6546977338999606,
          -0.6546977338999606,
          -0.6546977338999606,
          -0.6546977338999606,
          1.13033293299927,
          -0.6546977338999606,
          -0.6546977338999606,
          3.547993409003627,
          1.13033293299927,
          -0.6546977338999606,
          -0.9028012552112368,
          -0.9028012552112368,
          1.13033293299927,
          -0.6546977338999606,
          -0.6546977338999606,
          -0.6546977338999606,
          -0.839689828309006,
          -0.9028012552112368,
          -0.6546977338999606,
          -0.6546977338999606,
          -0.6546977338999606,
          -0.9028012552112368,
          -0.6546977338999606,
          -1.1273601824713155,
          -0.6546977338999606,
          -0.839689828309006,
          -0.839689828309006,
          -0.9028012552112368,
          -0.6546977338999606,
          -0.839689828309006,
          -0.6546977338999606,
          -0.6546977338999606,
          -0.6546977338999606,
          -0.6546977338999606,
          0.9453408385902248,
          -0.6546977338999606,
          -0.6546977338999606,
          -0.6546977338999606,
          -0.6546977338999606,
          -0.6546977338999606,
          -0.6546977338999606,
          -0.6546977338999606,
          -0.6546977338999606,
          -0.9028012552112368,
          -0.6546977338999606,
          -0.6546977338999606,
          -0.6546977338999606,
          -0.6546977338999606,
          -0.6546977338999606,
          -0.6546977338999606,
          -0.9028012552112368,
          -1.1273601824713155,
          -0.6546977338999606,
          1.13033293299927,
          -0.6546977338999606,
          -0.6546977338999606,
          -0.6546977338999606,
          5.045353721740547,
          -0.9028012552112368,
          -0.839689828309006,
          -0.6546977338999606,
          -0.6546977338999606,
          -0.6546977338999606,
          -0.6546977338999606,
          -0.6546977338999606,
          -0.6546977338999606,
          -0.6546977338999606,
          -0.6546977338999606,
          -0.6546977338999606,
          -0.6546977338999606,
          -0.6546977338999606,
          -0.6546977338999606,
          -0.6546977338999606,
          1.13033293299927,
          -0.6546977338999606,
          -0.9028012552112368,
          -0.839689828309006,
          -0.6546977338999606,
          -0.6546977338999606,
          -0.9028012552112368,
          -0.6546977338999606,
          -0.6546977338999606,
          -0.6546977338999606,
          -0.6546977338999606,
          -0.6546977338999606,
          -0.6546977338999606,
          -0.6546977338999606,
          1.13033293299927,
          -0.6546977338999606,
          -0.6546977338999606,
          -0.9028012552112368,
          -0.6546977338999606,
          1.13033293299927,
          -0.6546977338999606,
          -0.6546977338999606,
          -0.9028012552112368,
          -0.6546977338999606,
          -0.839689828309006,
          -0.9028012552112368,
          -0.9028012552112368,
          -0.6546977338999606,
          -0.6546977338999606,
          -0.6546977338999606,
          -0.6546977338999606,
          -0.9028012552112368,
          -0.6546977338999606,
          -0.9028012552112368,
          -0.6546977338999606,
          -0.839689828309006,
          -0.6546977338999606,
          -0.6546977338999606,
          -0.9028012552112368,
          -0.6546977338999606,
          -0.9028012552112368,
          -0.6546977338999606,
          -0.6546977338999606,
          -0.6546977338999606,
          -0.6546977338999606,
          -0.6546977338999606,
          -0.6546977338999606,
          -0.6546977338999606,
          -0.6546977338999606,
          -0.6546977338999606,
          -0.9028012552112367,
          -0.6546977338999606,
          -0.6546977338999606,
          -0.6546977338999606
         ],
         "z": [
          -0.07422129089005482,
          -0.07422129089004764,
          -0.25863698167633775,
          -0.25863698167633375,
          -0.25863698167633414,
          -0.07422129089004484,
          -1.0706223025599586,
          -1.2550379933462479,
          -0.026250553314310688,
          -0.25863698167633414,
          -0.25863698167633414,
          -0.25863698167633414,
          -0.25863698167633414,
          -0.05618992331047053,
          -0.25863698167633414,
          -0.25863698167633414,
          -0.05618992331047053,
          -0.05618992331047053,
          -0.25863698167633414,
          -0.25863698167633414,
          -0.25863698167633414,
          -0.25863698167633414,
          -0.07422129089004484,
          -0.25863698167633414,
          -0.25863698167633414,
          -0.25863698167633414,
          -0.05618992331047053,
          -1.2550379933462479,
          -0.25863698167633414,
          -0.25863698167633414,
          -0.25863698167633414,
          -0.25863698167633414,
          -1.0706223025599586,
          -0.25863698167633414,
          -0.25863698167633414,
          -0.25863698167633414,
          -0.07422129089004484,
          -0.25863698167633414,
          -0.25863698167633414,
          -1.2550379933462479,
          -0.25863698167633414,
          -0.05618992331047053,
          -0.25863698167633414,
          -1.0226515649842243,
          -0.25863698167633414,
          -0.25863698167633414,
          -0.25863698167633414,
          -0.05618992331047053,
          -0.25863698167633414,
          -0.25863698167633414,
          -1.0706223025599586,
          -0.07422129089004484,
          -0.25863698167633414,
          -0.25863698167633414,
          -0.07422129089004484,
          -0.25863698167633414,
          -0.25863698167633414,
          -0.25863698167633414,
          -0.25863698167633414,
          -0.25863698167633414,
          -0.25863698167633414,
          -0.25863698167633414,
          -0.25863698167633414,
          -0.25863698167633414,
          -0.25863698167633414,
          -0.07422129089004484,
          -0.05618992331047053,
          -0.25863698167633414,
          -0.25863698167633414,
          -0.25863698167633414,
          -0.25863698167633414,
          -0.25863698167633414,
          -0.25863698167633414,
          -0.25863698167633414,
          -0.7048316817687182,
          -0.25863698167633414,
          -0.05618992331047053,
          -0.25863698167633414,
          -0.25863698167633414,
          -0.07422129089004484,
          -0.25863698167633414,
          -0.25863698167633414,
          -0.25863698167633414,
          -0.25863698167633414,
          -0.25863698167633414,
          -0.25863698167633414,
          -0.25863698167633414,
          -0.25863698167633414,
          -0.25863698167633414,
          -0.25863698167633414,
          -0.25863698167633414,
          -0.25863698167633414,
          -0.25863698167633414,
          -0.25863698167633414,
          -0.25863698167633414,
          -0.026250553314310688,
          -0.07422129089004484,
          -1.2550379933462479,
          -0.25863698167633414,
          -0.07422129089004484,
          -0.25863698167633414,
          -0.25863698167633414,
          -0.25863698167633414,
          -0.05618992331047053,
          -0.05618992331047053,
          -0.026250553314310688,
          -0.25863698167633414,
          -0.25863698167633414,
          -0.25863698167633414,
          -0.25863698167633414,
          -0.25863698167633414,
          -0.07422129089004484,
          -0.25863698167633414,
          -0.25863698167633414,
          -0.05618992331047053,
          -0.25863698167633414,
          -0.25863698167633414,
          -1.2550379933462479,
          -0.07422129089004484,
          -0.25863698167633414,
          -0.25863698167633414,
          -0.25863698167633414,
          -0.25863698167633414,
          -0.05618992331047053,
          -1.0226515649842243,
          -0.25863698167633414,
          -0.05618992331047053,
          -0.05618992331047053,
          -0.25863698167633414,
          -0.07422129089004484,
          -0.25863698167633414,
          -0.25863698167633414,
          -0.25863698167633414,
          -0.25863698167633414,
          -0.07422129089004484,
          -0.25863698167633414,
          -0.25863698167633414,
          -0.07422129089004484,
          -0.25863698167633414,
          -0.25863698167633414,
          -0.25863698167633414,
          -1.2550379933462479,
          -0.25863698167633414,
          -0.25863698167633414,
          -0.25863698167633414,
          -0.25863698167633414,
          -0.25863698167633414,
          -0.25863698167633414,
          -0.07422129089004484,
          -0.05618992331047053,
          -0.25863698167633414,
          -0.07422129089004484,
          -0.25863698167633414,
          -0.25863698167633414,
          -0.7048316817687182,
          -0.25863698167633414,
          -0.25863698167633414,
          -0.25863698167633414,
          -0.25863698167633414,
          -0.25863698167633414,
          -1.2550379933462479,
          -0.25863698167633414,
          -0.25863698167633414,
          0.4759850206874848,
          -1.2550379933462479,
          -0.25863698167633414,
          -0.05618992331047053,
          -0.05618992331047053,
          -1.2550379933462479,
          -0.25863698167633414,
          -0.25863698167633414,
          -0.25863698167633414,
          -0.07422129089004484,
          -0.05618992331047053,
          -0.25863698167633414,
          -0.25863698167633414,
          -0.25863698167633414,
          -0.05618992331047053,
          -0.25863698167633414,
          -0.026250553314310688,
          -0.25863698167633414,
          -0.07422129089004484,
          -0.07422129089004484,
          -0.05618992331047053,
          -0.25863698167633414,
          -0.07422129089004484,
          -0.25863698167633414,
          -0.25863698167633414,
          -0.25863698167633414,
          -0.25863698167633414,
          -1.0706223025599586,
          -0.25863698167633414,
          -0.25863698167633414,
          -0.25863698167633414,
          -0.25863698167633414,
          -0.25863698167633414,
          -0.25863698167633414,
          -0.25863698167633414,
          -0.25863698167633414,
          -0.05618992331047053,
          -0.25863698167633414,
          -0.25863698167633414,
          -0.25863698167633414,
          -0.25863698167633414,
          -0.25863698167633414,
          -0.25863698167633414,
          -0.05618992331047053,
          -0.026250553314310688,
          -0.25863698167633414,
          -1.2550379933462479,
          -0.25863698167633414,
          -0.25863698167633414,
          -0.25863698167633414,
          -0.47244525340669496,
          -0.05618992331047053,
          -0.07422129089004484,
          -0.25863698167633414,
          -0.25863698167633414,
          -0.25863698167633414,
          -0.25863698167633414,
          -0.25863698167633414,
          -0.25863698167633414,
          -0.25863698167633414,
          -0.25863698167633414,
          -0.25863698167633414,
          -0.25863698167633414,
          -0.25863698167633414,
          -0.25863698167633414,
          -0.25863698167633414,
          -1.2550379933462479,
          -0.25863698167633414,
          -0.05618992331047053,
          -0.07422129089004484,
          -0.25863698167633414,
          -0.25863698167633414,
          -0.05618992331047053,
          -0.25863698167633414,
          -0.25863698167633414,
          -0.25863698167633414,
          -0.25863698167633414,
          -0.25863698167633414,
          -0.25863698167633414,
          -0.25863698167633414,
          -1.2550379933462479,
          -0.25863698167633414,
          -0.25863698167633414,
          -0.05618992331047053,
          -0.25863698167633414,
          -1.2550379933462479,
          -0.25863698167633414,
          -0.25863698167633414,
          -0.05618992331047053,
          -0.25863698167633414,
          -0.07422129089004484,
          -0.05618992331047053,
          -0.05618992331047053,
          -0.25863698167633414,
          -0.25863698167633414,
          -0.25863698167633414,
          -0.25863698167633414,
          -0.05618992331047053,
          -0.25863698167633414,
          -0.05618992331047053,
          -0.25863698167633414,
          -0.07422129089004484,
          -0.25863698167633414,
          -0.25863698167633414,
          -0.05618992331047053,
          -0.25863698167633414,
          -0.05618992331047053,
          -0.25863698167633414,
          -0.25863698167633414,
          -0.25863698167633414,
          -0.25863698167633414,
          -0.25863698167633414,
          -0.25863698167633414,
          -0.25863698167633414,
          -0.25863698167633414,
          -0.2586369816763342,
          -0.05618992331047043,
          -0.2586369816763342,
          -0.2586369816763342,
          -0.2586369816763342
         ]
        },
        {
         "hovertemplate": "color=2<br>PC 1 (28.7%)=%{x}<br>PC 2 (16.7%)=%{y}<br>PC 3 (14.3%)=%{z}<extra></extra>",
         "legendgroup": "2",
         "marker": {
          "color": "#00cc96",
          "symbol": "circle"
         },
         "mode": "markers",
         "name": "2",
         "scene": "scene",
         "showlegend": true,
         "type": "scatter3d",
         "x": [
          1.7305221903568404,
          2.730182584113769,
          3.146571948790762,
          3.2893755681933627,
          3.146571948790762,
          1.5877185709542398,
          3.2893755681933627,
          1.5877185709542398,
          1.5877185709542398,
          3.022419985483725,
          3.2893755681933627,
          1.7305221903568404,
          2.420966527061321,
          1.7305221903568404,
          1.5877185709542398,
          1.7305221903568404,
          3.2893755681933627,
          1.7305221903568404,
          1.5877185709542398,
          2.730182584113769,
          1.5877185709542398,
          1.7305221903568404,
          1.7305221903568404,
          1.7305221903568404,
          1.7305221903568404,
          1.5877185709542398,
          1.5877185709542398,
          4.289035961950291,
          3.2893755681933627,
          1.7305221903568404,
          1.7305221903568404,
          1.7305221903568404,
          2.420966527061321,
          3.2893755681933627,
          3.2893755681933627,
          2.5637701464639213,
          2.154010944351684,
          2.463227001404132,
          1.5877185709542398,
          1.7305221903568404,
          3.146571948790762,
          1.7305221903568404,
          3.2893755681933627,
          1.4635666076472027,
          1.7305221903568404,
          1.7305221903568404,
          2.420966527061321,
          1.5877185709542398,
          1.5877185709542398,
          1.5877185709542398,
          3.146571948790762,
          1.7305221903568404,
          1.7305221903568404,
          1.3207629882446021,
          1.8251715076513504,
          3.146571948790762,
          1.7305221903568404,
          3.2893755681933627,
          3.2893755681933627,
          3.2893755681933627,
          3.022419985483725,
          1.7305221903568404,
          3.2893755681933627,
          1.9679751270539512,
          3.2893755681933627,
          5.122283918057374,
          1.8251715076513504,
          1.9679751270539512,
          1.7305221903568404,
          3.9798199048978438,
          4.122623524300444,
          2.420966527061321,
          1.7305221903568404,
          1.5877185709542398,
          2.420966527061321,
          1.7305221903568404,
          3.2893755681933627,
          1.5877185709542398,
          1.7305221903568404,
          3.146571948790762,
          1.9679751270539512,
          2.5637701464639213,
          1.5877185709542398,
          3.2893755681933627,
          1.7305221903568404,
          1.7305221903568404,
          1.7305221903568404,
          1.7305221903568404,
          3.2893755681933627,
          2.420966527061321,
          1.7305221903568404,
          3.9798199048978438,
          1.5877185709542398,
          1.5877185709542398,
          1.8251715076513504,
          2.5637701464639213,
          2.8796163660811245,
          3.146571948790762,
          1.7305221903568404,
          3.022419985483725,
          1.3207629882446021,
          3.2893755681933627,
          3.9798199048978438,
          2.5637701464639213,
          2.420966527061321,
          1.8251715076513504,
          1.5877185709542398,
          2.0024142864146968,
          3.2893755681933627,
          1.5877185709542398,
          1.5877185709542398,
          1.7305221903568404,
          2.5637701464639213,
          2.8796163660811245,
          2.5637701464639213,
          1.3207629882446021,
          4.122623524300444,
          4.122623524300444,
          1.4635666076472027,
          1.4635666076472027,
          1.5877185709542398,
          1.5877185709542398,
          1.5877185709542398,
          1.7305221903568404,
          1.5877185709542398,
          1.5877185709542398,
          1.7305221903568404,
          3.146571948790762,
          3.022419985483725,
          1.5877185709542398,
          1.4635666076472027,
          3.9798199048978438,
          1.8251715076513504,
          3.146571948790762,
          3.2893755681933627,
          2.5637701464639213,
          3.2893755681933627,
          2.463227001404132,
          5.122283918057374,
          3.146571948790762,
          3.146571948790762,
          2.5637701464639213,
          1.8251715076513504,
          3.2893755681933627,
          1.7305221903568404,
          3.2893755681933627,
          1.5877185709542398,
          2.420966527061321,
          3.146571948790762,
          2.0024142864146968,
          3.2893755681933627,
          2.420966527061321,
          2.420966527061321,
          3.2893755681933627,
          3.2893755681933627,
          1.7305221903568404,
          1.5877185709542398,
          3.146571948790762,
          1.5877185709542398,
          3.2893755681933627,
          1.7305221903568404,
          3.9798199048978438,
          2.5637701464639213,
          1.7305221903568404,
          1.7305221903568404,
          4.122623524300444,
          1.7305221903568404,
          1.3207629882446021,
          3.2893755681933627,
          1.7305221903568404,
          1.7305221903568404
         ],
         "y": [
          -1.0877933496202827,
          4.26901216976809,
          -0.5913335161158977,
          -1.5604557981916376,
          -0.5913335161158977,
          -0.11867106754454271,
          -1.5604557981916376,
          -0.11867106754454271,
          -0.11867106754454271,
          -0.8967985872009779,
          -1.5604557981916376,
          -1.0877933496202827,
          1.666359599354688,
          -1.0877933496202827,
          -0.11867106754454271,
          -1.0877933496202827,
          -1.5604557981916376,
          -1.0877933496202827,
          -0.11867106754454271,
          4.26901216976809,
          -0.11867106754454271,
          -1.0877933496202827,
          -1.0877933496202827,
          -1.0877933496202827,
          -1.0877933496202827,
          -0.11867106754454271,
          -0.11867106754454271,
          3.796349721196735,
          -1.5604557981916376,
          -1.0877933496202827,
          -1.0877933496202827,
          -1.0877933496202827,
          1.666359599354688,
          -1.5604557981916376,
          -1.5604557981916376,
          0.6972373172789478,
          2.330016810345347,
          4.93266938075875,
          -0.11867106754454271,
          -1.0877933496202827,
          -0.5913335161158977,
          -1.0877933496202827,
          -1.5604557981916376,
          -0.42413613862962296,
          -1.0877933496202827,
          -1.0877933496202827,
          1.666359599354688,
          -0.11867106754454271,
          -0.11867106754454271,
          -0.11867106754454271,
          -0.5913335161158977,
          -1.0877933496202827,
          -1.0877933496202827,
          0.5449861434461167,
          -0.40634142170685233,
          -0.5913335161158977,
          -1.0877933496202827,
          -1.5604557981916376,
          -1.5604557981916376,
          -1.5604557981916376,
          -0.8967985872009779,
          -1.0877933496202827,
          -1.5604557981916376,
          -1.375463703782592,
          -1.5604557981916376,
          5.5813803880959645,
          -0.40634142170685233,
          -1.375463703782592,
          -1.0877933496202827,
          1.1936971507833327,
          0.22457486870759263,
          1.666359599354688,
          -1.0877933496202827,
          -0.11867106754454271,
          1.666359599354688,
          -1.0877933496202827,
          -1.5604557981916376,
          -0.11867106754454271,
          -1.0877933496202827,
          -0.5913335161158977,
          -1.375463703782592,
          0.6972373172789478,
          -0.11867106754454271,
          -1.5604557981916376,
          -1.0877933496202827,
          -1.0877933496202827,
          -1.0877933496202827,
          -1.0877933496202827,
          -1.5604557981916376,
          1.666359599354688,
          -1.0877933496202827,
          1.1936971507833327,
          -0.11867106754454271,
          -0.11867106754454271,
          -0.40634142170685233,
          0.6972373172789478,
          0.07232369487476153,
          -0.5913335161158977,
          -1.0877933496202827,
          -0.8967985872009779,
          0.5449861434461167,
          -1.5604557981916376,
          1.1936971507833327,
          0.6972373172789478,
          1.666359599354688,
          -0.40634142170685233,
          -0.11867106754454271,
          -1.3123522768803615,
          -1.5604557981916376,
          -0.11867106754454271,
          -0.11867106754454271,
          -1.0877933496202827,
          0.6972373172789478,
          0.07232369487476153,
          0.6972373172789478,
          0.5449861434461167,
          0.22457486870759263,
          0.22457486870759263,
          -0.42413613862962296,
          -0.42413613862962296,
          -0.11867106754454271,
          -0.11867106754454271,
          -0.11867106754454271,
          -1.0877933496202827,
          -0.11867106754454271,
          -0.11867106754454271,
          -1.0877933496202827,
          -0.5913335161158977,
          -0.8967985872009779,
          -0.11867106754454271,
          -0.42413613862962296,
          1.1936971507833327,
          -0.40634142170685233,
          -0.5913335161158977,
          -1.5604557981916376,
          0.6972373172789478,
          -1.5604557981916376,
          4.93266938075875,
          5.5813803880959645,
          -0.5913335161158977,
          -0.5913335161158977,
          0.6972373172789478,
          -0.40634142170685233,
          -1.5604557981916376,
          -1.0877933496202827,
          -1.5604557981916376,
          -0.11867106754454271,
          1.666359599354688,
          -0.5913335161158977,
          -1.3123522768803615,
          -1.5604557981916376,
          1.666359599354688,
          1.666359599354688,
          -1.5604557981916376,
          -1.5604557981916376,
          -1.0877933496202827,
          -0.11867106754454271,
          -0.5913335161158977,
          -0.11867106754454271,
          -1.5604557981916376,
          -1.0877933496202827,
          1.1936971507833327,
          0.6972373172789478,
          -1.0877933496202827,
          -1.0877933496202827,
          0.22457486870759263,
          -1.0877933496202827,
          0.5449861434461167,
          -1.5604557981916376,
          -1.0877933496202827,
          -1.0877933496202827
         ],
         "z": [
          0.1282257674758189,
          0.379201625896528,
          0.06138174268102261,
          0.3606121958378425,
          0.06138174268102261,
          -0.17100468568100133,
          0.3606121958378425,
          -0.17100468568100133,
          -0.17100468568100133,
          3.1218402297545267,
          0.3606121958378425,
          0.12822576747581887,
          -1.1674056973509148,
          0.12822576747581887,
          -0.17100468568100133,
          0.12822576747581887,
          0.3606121958378425,
          0.12822576747581887,
          -0.17100468568100133,
          0.379201625896528,
          -0.17100468568100133,
          0.12822576747581887,
          0.12822576747581887,
          0.12822576747581887,
          0.12822576747581887,
          -0.17100468568100133,
          -0.17100468568100133,
          0.6115880542585519,
          0.3606121958378425,
          0.12822576747581887,
          0.12822576747581887,
          0.12822576747581887,
          -1.1674056973509148,
          0.3606121958378425,
          0.3606121958378425,
          -0.8681752441940944,
          1.5938223365657695,
          3.140429659813213,
          -0.17100468568100133,
          0.12822576747581887,
          0.06138174268102261,
          0.12822576747581887,
          0.3606121958378425,
          2.8894538013925035,
          0.12822576747581887,
          0.12822576747581887,
          -1.1674056973509148,
          -0.17100468568100133,
          -0.17100468568100133,
          -0.17100468568100133,
          0.06138174268102261,
          0.12822576747581887,
          0.12822576747581887,
          2.5902233482356833,
          -0.12303394810526695,
          0.06138174268102261,
          0.12822576747581887,
          0.3606121958378425,
          0.3606121958378425,
          0.3606121958378425,
          3.1218402297545267,
          0.12822576747581887,
          0.3606121958378425,
          0.17619650505155315,
          0.3606121958378425,
          -0.3848129574113613,
          -0.12303394810526695,
          0.17619650505155315,
          0.12822576747581887,
          -0.9350192689888904,
          -0.6357888158320708,
          -1.1674056973509148,
          0.12822576747581887,
          -0.17100468568100133,
          -1.1674056973509148,
          0.12822576747581887,
          0.3606121958378425,
          -0.17100468568100133,
          0.12822576747581887,
          0.06138174268102261,
          0.17619650505155315,
          -0.8681752441940944,
          -0.17100468568100133,
          0.3606121958378425,
          0.12822576747581887,
          0.12822576747581887,
          0.12822576747581887,
          0.12822576747581887,
          0.3606121958378425,
          -1.1674056973509148,
          0.12822576747581887,
          -0.9350192689888904,
          -0.17100468568100133,
          -0.17100468568100133,
          -0.12303394810526695,
          -0.8681752441940944,
          2.822609776597708,
          0.06138174268102261,
          0.12822576747581887,
          3.1218402297545267,
          2.5902233482356833,
          0.3606121958378425,
          -0.9350192689888904,
          -0.8681752441940944,
          -1.1674056973509148,
          -0.12303394810526695,
          -0.17100468568100133,
          0.15816513747197883,
          0.3606121958378425,
          -0.17100468568100133,
          -0.17100468568100133,
          0.12822576747581887,
          -0.8681752441940944,
          2.822609776597708,
          -0.8681752441940944,
          2.5902233482356833,
          -0.6357888158320708,
          -0.6357888158320708,
          2.8894538013925035,
          2.8894538013925035,
          -0.17100468568100133,
          -0.17100468568100133,
          -0.17100468568100133,
          0.12822576747581887,
          -0.17100468568100133,
          -0.17100468568100133,
          0.12822576747581887,
          0.06138174268102261,
          3.1218402297545267,
          -0.17100468568100133,
          2.8894538013925035,
          -0.9350192689888904,
          -0.12303394810526695,
          0.06138174268102261,
          0.3606121958378425,
          -0.8681752441940944,
          0.3606121958378425,
          3.140429659813213,
          -0.3848129574113613,
          0.06138174268102261,
          0.06138174268102261,
          -0.8681752441940944,
          -0.12303394810526695,
          0.3606121958378425,
          0.12822576747581887,
          0.3606121958378425,
          -0.17100468568100133,
          -1.1674056973509148,
          0.06138174268102261,
          0.15816513747197883,
          0.3606121958378425,
          -1.1674056973509148,
          -1.1674056973509148,
          0.3606121958378425,
          0.3606121958378425,
          0.12822576747581887,
          -0.17100468568100133,
          0.06138174268102261,
          -0.17100468568100133,
          0.3606121958378425,
          0.12822576747581887,
          -0.9350192689888904,
          -0.8681752441940944,
          0.12822576747581887,
          0.12822576747581887,
          -0.6357888158320708,
          0.12822576747581887,
          2.5902233482356833,
          0.3606121958378425,
          0.12822576747581887,
          0.12822576747581887
         ]
        },
        {
         "hovertemplate": "color=3<br>PC 1 (28.7%)=%{x}<br>PC 2 (16.7%)=%{y}<br>PC 3 (14.3%)=%{z}<extra></extra>",
         "legendgroup": "3",
         "marker": {
          "color": "#ab63fa",
          "symbol": "circle"
         },
         "mode": "markers",
         "name": "3",
         "scene": "scene",
         "showlegend": true,
         "type": "scatter3d",
         "x": [
          -1.287598734673476,
          -1.1447951152708757,
          -1.1447951152708757,
          -1.287598734673476,
          -1.287598734673476,
          -1.1447951152708757,
          -1.287598734673476,
          -1.287598734673476,
          -1.1447951152708757,
          -1.287598734673476,
          -1.1447951152708757,
          -1.287598734673476,
          -1.287598734673476,
          -1.287598734673476,
          -1.1447951152708757,
          -1.287598734673476,
          -1.287598734673476,
          -1.287598734673476,
          -1.287598734673476,
          -1.1447951152708757,
          -1.1447951152708757,
          -1.1447951152708757,
          -1.1447951152708757,
          -1.1447951152708757,
          -1.287598734673476,
          -1.1447951152708757,
          -1.287598734673476,
          -0.0006374528948102638,
          -1.1447951152708757,
          -1.287598734673476,
          0.03380170646593561,
          -1.1447951152708757,
          -1.287598734673476,
          -0.4543507785663943,
          -1.287598734673476,
          -1.287598734673476,
          -1.1447951152708757,
          -1.287598734673476,
          -1.287598734673476,
          -0.4543507785663943,
          0.8326105032122721,
          -1.1447951152708757,
          -1.1447951152708757,
          1.2846301796673214,
          0.1421661665077908,
          -1.1447951152708757,
          -1.287598734673476,
          -1.1447951152708757,
          -1.287598734673476,
          -1.1447951152708757,
          -1.287598734673476,
          -1.1447951152708757,
          -1.1447951152708757,
          1.2846301796673214,
          -1.1447951152708757,
          -1.1447951152708757,
          -1.1447951152708757,
          -1.1447951152708757,
          0.1421661665077908,
          -1.1447951152708757,
          -0.4543507785663943,
          -1.1447951152708757,
          -1.287598734673476,
          -1.1447951152708757,
          0.8670496625730173,
          0.17660532586853675,
          -1.287598734673476,
          -1.1447951152708757,
          -1.287598734673476,
          -1.287598734673476,
          -1.287598734673476,
          -1.1447951152708757,
          -1.1447951152708757,
          -1.1447951152708757,
          -1.1447951152708757,
          -1.1447951152708757,
          -1.1447951152708757,
          -1.1447951152708757,
          -1.287598734673476,
          -1.287598734673476,
          -1.287598734673476,
          -1.287598734673476,
          -1.1447951152708757,
          -1.287598734673476,
          -1.287598734673476,
          -0.0006374528948102638,
          -1.287598734673476,
          0.03380170646593561,
          0.8670496625730173
         ],
         "y": [
          0.9780817591664397,
          0.00895947709069919,
          0.00895947709069919,
          0.9780817591664397,
          0.9780817591664397,
          0.00895947709069919,
          0.9780817591664397,
          0.9780817591664397,
          0.00895947709069919,
          0.9780817591664397,
          0.00895947709069919,
          0.9780817591664397,
          0.9780817591664397,
          0.9780817591664397,
          0.00895947709069919,
          0.9780817591664397,
          0.9780817591664397,
          0.9780817591664397,
          0.9780817591664397,
          0.00895947709069919,
          0.00895947709069919,
          0.00895947709069919,
          0.00895947709069919,
          0.00895947709069919,
          0.9780817591664397,
          0.00895947709069919,
          0.9780817591664397,
          0.7299782378551625,
          0.00895947709069919,
          0.9780817591664397,
          0.7930896647573935,
          0.00895947709069919,
          0.9780817591664397,
          2.76311242606567,
          0.9780817591664397,
          0.9780817591664397,
          0.00895947709069919,
          0.9780817591664397,
          0.9780817591664397,
          2.76311242606567,
          2.5150089047543935,
          0.00895947709069919,
          0.00895947709069919,
          4.148539193092056,
          -0.2391440442205775,
          0.00895947709069919,
          0.9780817591664397,
          0.00895947709069919,
          0.9780817591664397,
          0.00895947709069919,
          0.9780817591664397,
          0.00895947709069919,
          0.00895947709069919,
          4.148539193092056,
          0.00895947709069919,
          0.00895947709069919,
          0.00895947709069919,
          0.00895947709069919,
          -0.2391440442205775,
          0.00895947709069919,
          2.76311242606567,
          0.00895947709069919,
          0.9780817591664397,
          0.00895947709069919,
          2.578120331656624,
          -0.176032617318346,
          0.9780817591664397,
          0.00895947709069919,
          0.9780817591664397,
          0.9780817591664397,
          0.9780817591664397,
          0.00895947709069919,
          0.00895947709069919,
          0.00895947709069919,
          0.00895947709069919,
          0.00895947709069919,
          0.00895947709069919,
          0.00895947709069919,
          0.9780817591664397,
          0.9780817591664397,
          0.9780817591664397,
          0.9780817591664397,
          0.00895947709069919,
          0.9780817591664397,
          0.9780817591664397,
          0.7299782378551625,
          0.9780817591664397,
          0.7930896647573935,
          2.578120331656624
         ],
         "z": [
          2.2033605990835294,
          2.50259105224035,
          2.50259105224035,
          2.2033605990835294,
          2.2033605990835294,
          2.50259105224035,
          2.2033605990835294,
          2.2033605990835294,
          2.50259105224035,
          2.2033605990835294,
          2.50259105224035,
          2.2033605990835294,
          2.2033605990835294,
          2.2033605990835294,
          2.50259105224035,
          2.2033605990835294,
          2.2033605990835294,
          2.2033605990835294,
          2.2033605990835294,
          2.50259105224035,
          2.50259105224035,
          2.50259105224035,
          2.50259105224035,
          2.50259105224035,
          2.2033605990835294,
          2.50259105224035,
          2.2033605990835294,
          2.405807657449394,
          2.50259105224035,
          2.2033605990835294,
          2.3877762898698194,
          2.50259105224035,
          2.2033605990835294,
          1.2069595874136159,
          2.2033605990835294,
          2.2033605990835294,
          2.50259105224035,
          2.2033605990835294,
          2.2033605990835294,
          1.2069595874136159,
          1.4094066457794803,
          2.50259105224035,
          2.50259105224035,
          3.255244422183744,
          2.7050381106062136,
          2.50259105224035,
          2.2033605990835294,
          2.50259105224035,
          2.2033605990835294,
          2.50259105224035,
          2.2033605990835294,
          2.50259105224035,
          2.50259105224035,
          3.255244422183744,
          2.50259105224035,
          2.50259105224035,
          2.50259105224035,
          2.50259105224035,
          2.7050381106062136,
          2.50259105224035,
          1.2069595874136159,
          2.50259105224035,
          2.2033605990835294,
          2.50259105224035,
          1.3913752781999054,
          2.6870067430266387,
          2.2033605990835294,
          2.50259105224035,
          2.2033605990835294,
          2.2033605990835294,
          2.2033605990835294,
          2.50259105224035,
          2.50259105224035,
          2.50259105224035,
          2.50259105224035,
          2.50259105224035,
          2.50259105224035,
          2.50259105224035,
          2.2033605990835294,
          2.2033605990835294,
          2.2033605990835294,
          2.2033605990835294,
          2.50259105224035,
          2.2033605990835294,
          2.2033605990835294,
          2.405807657449394,
          2.2033605990835294,
          2.3877762898698194,
          1.3913752781999054
         ]
        }
       ],
       "layout": {
        "legend": {
         "title": {
          "text": "color"
         },
         "tracegroupgap": 0
        },
        "margin": {
         "t": 60
        },
        "scene": {
         "domain": {
          "x": [
           0,
           1
          ],
          "y": [
           0,
           1
          ]
         },
         "xaxis": {
          "title": {
           "text": "PC 1 (28.7%)"
          }
         },
         "yaxis": {
          "title": {
           "text": "PC 2 (16.7%)"
          }
         },
         "zaxis": {
          "title": {
           "text": "PC 3 (14.3%)"
          }
         }
        },
        "template": {
         "data": {
          "bar": [
           {
            "error_x": {
             "color": "#2a3f5f"
            },
            "error_y": {
             "color": "#2a3f5f"
            },
            "marker": {
             "line": {
              "color": "#E5ECF6",
              "width": 0.5
             },
             "pattern": {
              "fillmode": "overlay",
              "size": 10,
              "solidity": 0.2
             }
            },
            "type": "bar"
           }
          ],
          "barpolar": [
           {
            "marker": {
             "line": {
              "color": "#E5ECF6",
              "width": 0.5
             },
             "pattern": {
              "fillmode": "overlay",
              "size": 10,
              "solidity": 0.2
             }
            },
            "type": "barpolar"
           }
          ],
          "carpet": [
           {
            "aaxis": {
             "endlinecolor": "#2a3f5f",
             "gridcolor": "white",
             "linecolor": "white",
             "minorgridcolor": "white",
             "startlinecolor": "#2a3f5f"
            },
            "baxis": {
             "endlinecolor": "#2a3f5f",
             "gridcolor": "white",
             "linecolor": "white",
             "minorgridcolor": "white",
             "startlinecolor": "#2a3f5f"
            },
            "type": "carpet"
           }
          ],
          "choropleth": [
           {
            "colorbar": {
             "outlinewidth": 0,
             "ticks": ""
            },
            "type": "choropleth"
           }
          ],
          "contour": [
           {
            "colorbar": {
             "outlinewidth": 0,
             "ticks": ""
            },
            "colorscale": [
             [
              0,
              "#0d0887"
             ],
             [
              0.1111111111111111,
              "#46039f"
             ],
             [
              0.2222222222222222,
              "#7201a8"
             ],
             [
              0.3333333333333333,
              "#9c179e"
             ],
             [
              0.4444444444444444,
              "#bd3786"
             ],
             [
              0.5555555555555556,
              "#d8576b"
             ],
             [
              0.6666666666666666,
              "#ed7953"
             ],
             [
              0.7777777777777778,
              "#fb9f3a"
             ],
             [
              0.8888888888888888,
              "#fdca26"
             ],
             [
              1,
              "#f0f921"
             ]
            ],
            "type": "contour"
           }
          ],
          "contourcarpet": [
           {
            "colorbar": {
             "outlinewidth": 0,
             "ticks": ""
            },
            "type": "contourcarpet"
           }
          ],
          "heatmap": [
           {
            "colorbar": {
             "outlinewidth": 0,
             "ticks": ""
            },
            "colorscale": [
             [
              0,
              "#0d0887"
             ],
             [
              0.1111111111111111,
              "#46039f"
             ],
             [
              0.2222222222222222,
              "#7201a8"
             ],
             [
              0.3333333333333333,
              "#9c179e"
             ],
             [
              0.4444444444444444,
              "#bd3786"
             ],
             [
              0.5555555555555556,
              "#d8576b"
             ],
             [
              0.6666666666666666,
              "#ed7953"
             ],
             [
              0.7777777777777778,
              "#fb9f3a"
             ],
             [
              0.8888888888888888,
              "#fdca26"
             ],
             [
              1,
              "#f0f921"
             ]
            ],
            "type": "heatmap"
           }
          ],
          "heatmapgl": [
           {
            "colorbar": {
             "outlinewidth": 0,
             "ticks": ""
            },
            "colorscale": [
             [
              0,
              "#0d0887"
             ],
             [
              0.1111111111111111,
              "#46039f"
             ],
             [
              0.2222222222222222,
              "#7201a8"
             ],
             [
              0.3333333333333333,
              "#9c179e"
             ],
             [
              0.4444444444444444,
              "#bd3786"
             ],
             [
              0.5555555555555556,
              "#d8576b"
             ],
             [
              0.6666666666666666,
              "#ed7953"
             ],
             [
              0.7777777777777778,
              "#fb9f3a"
             ],
             [
              0.8888888888888888,
              "#fdca26"
             ],
             [
              1,
              "#f0f921"
             ]
            ],
            "type": "heatmapgl"
           }
          ],
          "histogram": [
           {
            "marker": {
             "pattern": {
              "fillmode": "overlay",
              "size": 10,
              "solidity": 0.2
             }
            },
            "type": "histogram"
           }
          ],
          "histogram2d": [
           {
            "colorbar": {
             "outlinewidth": 0,
             "ticks": ""
            },
            "colorscale": [
             [
              0,
              "#0d0887"
             ],
             [
              0.1111111111111111,
              "#46039f"
             ],
             [
              0.2222222222222222,
              "#7201a8"
             ],
             [
              0.3333333333333333,
              "#9c179e"
             ],
             [
              0.4444444444444444,
              "#bd3786"
             ],
             [
              0.5555555555555556,
              "#d8576b"
             ],
             [
              0.6666666666666666,
              "#ed7953"
             ],
             [
              0.7777777777777778,
              "#fb9f3a"
             ],
             [
              0.8888888888888888,
              "#fdca26"
             ],
             [
              1,
              "#f0f921"
             ]
            ],
            "type": "histogram2d"
           }
          ],
          "histogram2dcontour": [
           {
            "colorbar": {
             "outlinewidth": 0,
             "ticks": ""
            },
            "colorscale": [
             [
              0,
              "#0d0887"
             ],
             [
              0.1111111111111111,
              "#46039f"
             ],
             [
              0.2222222222222222,
              "#7201a8"
             ],
             [
              0.3333333333333333,
              "#9c179e"
             ],
             [
              0.4444444444444444,
              "#bd3786"
             ],
             [
              0.5555555555555556,
              "#d8576b"
             ],
             [
              0.6666666666666666,
              "#ed7953"
             ],
             [
              0.7777777777777778,
              "#fb9f3a"
             ],
             [
              0.8888888888888888,
              "#fdca26"
             ],
             [
              1,
              "#f0f921"
             ]
            ],
            "type": "histogram2dcontour"
           }
          ],
          "mesh3d": [
           {
            "colorbar": {
             "outlinewidth": 0,
             "ticks": ""
            },
            "type": "mesh3d"
           }
          ],
          "parcoords": [
           {
            "line": {
             "colorbar": {
              "outlinewidth": 0,
              "ticks": ""
             }
            },
            "type": "parcoords"
           }
          ],
          "pie": [
           {
            "automargin": true,
            "type": "pie"
           }
          ],
          "scatter": [
           {
            "fillpattern": {
             "fillmode": "overlay",
             "size": 10,
             "solidity": 0.2
            },
            "type": "scatter"
           }
          ],
          "scatter3d": [
           {
            "line": {
             "colorbar": {
              "outlinewidth": 0,
              "ticks": ""
             }
            },
            "marker": {
             "colorbar": {
              "outlinewidth": 0,
              "ticks": ""
             }
            },
            "type": "scatter3d"
           }
          ],
          "scattercarpet": [
           {
            "marker": {
             "colorbar": {
              "outlinewidth": 0,
              "ticks": ""
             }
            },
            "type": "scattercarpet"
           }
          ],
          "scattergeo": [
           {
            "marker": {
             "colorbar": {
              "outlinewidth": 0,
              "ticks": ""
             }
            },
            "type": "scattergeo"
           }
          ],
          "scattergl": [
           {
            "marker": {
             "colorbar": {
              "outlinewidth": 0,
              "ticks": ""
             }
            },
            "type": "scattergl"
           }
          ],
          "scattermapbox": [
           {
            "marker": {
             "colorbar": {
              "outlinewidth": 0,
              "ticks": ""
             }
            },
            "type": "scattermapbox"
           }
          ],
          "scatterpolar": [
           {
            "marker": {
             "colorbar": {
              "outlinewidth": 0,
              "ticks": ""
             }
            },
            "type": "scatterpolar"
           }
          ],
          "scatterpolargl": [
           {
            "marker": {
             "colorbar": {
              "outlinewidth": 0,
              "ticks": ""
             }
            },
            "type": "scatterpolargl"
           }
          ],
          "scatterternary": [
           {
            "marker": {
             "colorbar": {
              "outlinewidth": 0,
              "ticks": ""
             }
            },
            "type": "scatterternary"
           }
          ],
          "surface": [
           {
            "colorbar": {
             "outlinewidth": 0,
             "ticks": ""
            },
            "colorscale": [
             [
              0,
              "#0d0887"
             ],
             [
              0.1111111111111111,
              "#46039f"
             ],
             [
              0.2222222222222222,
              "#7201a8"
             ],
             [
              0.3333333333333333,
              "#9c179e"
             ],
             [
              0.4444444444444444,
              "#bd3786"
             ],
             [
              0.5555555555555556,
              "#d8576b"
             ],
             [
              0.6666666666666666,
              "#ed7953"
             ],
             [
              0.7777777777777778,
              "#fb9f3a"
             ],
             [
              0.8888888888888888,
              "#fdca26"
             ],
             [
              1,
              "#f0f921"
             ]
            ],
            "type": "surface"
           }
          ],
          "table": [
           {
            "cells": {
             "fill": {
              "color": "#EBF0F8"
             },
             "line": {
              "color": "white"
             }
            },
            "header": {
             "fill": {
              "color": "#C8D4E3"
             },
             "line": {
              "color": "white"
             }
            },
            "type": "table"
           }
          ]
         },
         "layout": {
          "annotationdefaults": {
           "arrowcolor": "#2a3f5f",
           "arrowhead": 0,
           "arrowwidth": 1
          },
          "autotypenumbers": "strict",
          "coloraxis": {
           "colorbar": {
            "outlinewidth": 0,
            "ticks": ""
           }
          },
          "colorscale": {
           "diverging": [
            [
             0,
             "#8e0152"
            ],
            [
             0.1,
             "#c51b7d"
            ],
            [
             0.2,
             "#de77ae"
            ],
            [
             0.3,
             "#f1b6da"
            ],
            [
             0.4,
             "#fde0ef"
            ],
            [
             0.5,
             "#f7f7f7"
            ],
            [
             0.6,
             "#e6f5d0"
            ],
            [
             0.7,
             "#b8e186"
            ],
            [
             0.8,
             "#7fbc41"
            ],
            [
             0.9,
             "#4d9221"
            ],
            [
             1,
             "#276419"
            ]
           ],
           "sequential": [
            [
             0,
             "#0d0887"
            ],
            [
             0.1111111111111111,
             "#46039f"
            ],
            [
             0.2222222222222222,
             "#7201a8"
            ],
            [
             0.3333333333333333,
             "#9c179e"
            ],
            [
             0.4444444444444444,
             "#bd3786"
            ],
            [
             0.5555555555555556,
             "#d8576b"
            ],
            [
             0.6666666666666666,
             "#ed7953"
            ],
            [
             0.7777777777777778,
             "#fb9f3a"
            ],
            [
             0.8888888888888888,
             "#fdca26"
            ],
            [
             1,
             "#f0f921"
            ]
           ],
           "sequentialminus": [
            [
             0,
             "#0d0887"
            ],
            [
             0.1111111111111111,
             "#46039f"
            ],
            [
             0.2222222222222222,
             "#7201a8"
            ],
            [
             0.3333333333333333,
             "#9c179e"
            ],
            [
             0.4444444444444444,
             "#bd3786"
            ],
            [
             0.5555555555555556,
             "#d8576b"
            ],
            [
             0.6666666666666666,
             "#ed7953"
            ],
            [
             0.7777777777777778,
             "#fb9f3a"
            ],
            [
             0.8888888888888888,
             "#fdca26"
            ],
            [
             1,
             "#f0f921"
            ]
           ]
          },
          "colorway": [
           "#636efa",
           "#EF553B",
           "#00cc96",
           "#ab63fa",
           "#FFA15A",
           "#19d3f3",
           "#FF6692",
           "#B6E880",
           "#FF97FF",
           "#FECB52"
          ],
          "font": {
           "color": "#2a3f5f"
          },
          "geo": {
           "bgcolor": "white",
           "lakecolor": "white",
           "landcolor": "#E5ECF6",
           "showlakes": true,
           "showland": true,
           "subunitcolor": "white"
          },
          "hoverlabel": {
           "align": "left"
          },
          "hovermode": "closest",
          "mapbox": {
           "style": "light"
          },
          "paper_bgcolor": "white",
          "plot_bgcolor": "#E5ECF6",
          "polar": {
           "angularaxis": {
            "gridcolor": "white",
            "linecolor": "white",
            "ticks": ""
           },
           "bgcolor": "#E5ECF6",
           "radialaxis": {
            "gridcolor": "white",
            "linecolor": "white",
            "ticks": ""
           }
          },
          "scene": {
           "xaxis": {
            "backgroundcolor": "#E5ECF6",
            "gridcolor": "white",
            "gridwidth": 2,
            "linecolor": "white",
            "showbackground": true,
            "ticks": "",
            "zerolinecolor": "white"
           },
           "yaxis": {
            "backgroundcolor": "#E5ECF6",
            "gridcolor": "white",
            "gridwidth": 2,
            "linecolor": "white",
            "showbackground": true,
            "ticks": "",
            "zerolinecolor": "white"
           },
           "zaxis": {
            "backgroundcolor": "#E5ECF6",
            "gridcolor": "white",
            "gridwidth": 2,
            "linecolor": "white",
            "showbackground": true,
            "ticks": "",
            "zerolinecolor": "white"
           }
          },
          "shapedefaults": {
           "line": {
            "color": "#2a3f5f"
           }
          },
          "ternary": {
           "aaxis": {
            "gridcolor": "white",
            "linecolor": "white",
            "ticks": ""
           },
           "baxis": {
            "gridcolor": "white",
            "linecolor": "white",
            "ticks": ""
           },
           "bgcolor": "#E5ECF6",
           "caxis": {
            "gridcolor": "white",
            "linecolor": "white",
            "ticks": ""
           }
          },
          "title": {
           "x": 0.05
          },
          "xaxis": {
           "automargin": true,
           "gridcolor": "white",
           "linecolor": "white",
           "ticks": "",
           "title": {
            "standoff": 15
           },
           "zerolinecolor": "white",
           "zerolinewidth": 2
          },
          "yaxis": {
           "automargin": true,
           "gridcolor": "white",
           "linecolor": "white",
           "ticks": "",
           "title": {
            "standoff": 15
           },
           "zerolinecolor": "white",
           "zerolinewidth": 2
          }
         }
        }
       }
      }
     },
     "metadata": {},
     "output_type": "display_data"
    }
   ],
   "source": [
    "pca_3d = PCA(n_components=3)\n",
    "\n",
    "components_3d = pca_3d.fit_transform(df_scaled)\n",
    "\n",
    "labels = {\n",
    "    str(i): f\"PC {i+1} ({var:.1f}%)\"\n",
    "    for i, var in enumerate(pca_3d.explained_variance_ratio_ * 100)\n",
    "}\n",
    "\n",
    "fig = px.scatter_3d(components_3d, x=0, y=1, z=2, color=df_charte.cluster, labels=labels)\n",
    "fig.show()"
   ]
  },
  {
   "attachments": {},
   "cell_type": "markdown",
   "metadata": {},
   "source": [
    "On a déjà une meilleure variance totale expliquée, elle est montée à 59.7%. On peut déjà voir ici une meilleure découpe même si il est très compliqué d'interpréter un graphe en 3 dimensions car ils ne sont pas toujours fiables.\n",
    "\n",
    "On peut maintenant passer à l'enregistrement de notre résultat.\n",
    "\n",
    "\n",
    "### *Enregistrement du résultat*\n",
    "\n",
    "Nous allons créé seulement la colonne qui nous intéresse ici pour ensuite la réutiliser dans l'analyse finale."
   ]
  },
  {
   "cell_type": "code",
   "execution_count": 18,
   "metadata": {},
   "outputs": [
    {
     "data": {
      "text/plain": [
       "Bien         283\n",
       "Moyen        271\n",
       "Très bien    171\n",
       "Mauvais       89\n",
       "Name: charte_num, dtype: int64"
      ]
     },
     "execution_count": 18,
     "metadata": {},
     "output_type": "execute_result"
    }
   ],
   "source": [
    "df_charte_final = pd.DataFrame(df_charte.cluster)\n",
    "df_charte_final.rename(columns={'cluster': 'charte_num'}, inplace=True)\n",
    "\n",
    "df_charte_final.charte_num.replace({'0': 'Moyen', '1': 'Bien', '2': 'Très bien', '3': 'Mauvais'}, inplace=True)\n",
    "\n",
    "df_charte_final.charte_num.value_counts()"
   ]
  },
  {
   "cell_type": "code",
   "execution_count": 19,
   "metadata": {},
   "outputs": [],
   "source": [
    "df_charte_final.to_csv('../data/analyses/charte_num.csv', index=True, sep=';')"
   ]
  }
 ],
 "metadata": {
  "kernelspec": {
   "display_name": "Python 3",
   "language": "python",
   "name": "python3"
  },
  "language_info": {
   "codemirror_mode": {
    "name": "ipython",
    "version": 3
   },
   "file_extension": ".py",
   "mimetype": "text/x-python",
   "name": "python",
   "nbconvert_exporter": "python",
   "pygments_lexer": "ipython3",
   "version": "3.10.9"
  },
  "orig_nbformat": 4,
  "vscode": {
   "interpreter": {
    "hash": "2349f8cba88a5b2d1d390f83a8a5748abc4e6656a2f4a0a7bc22dd7876009b29"
   }
  }
 },
 "nbformat": 4,
 "nbformat_minor": 2
}
