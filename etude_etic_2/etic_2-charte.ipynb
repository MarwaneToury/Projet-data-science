{
 "cells": [
  {
   "attachments": {},
   "cell_type": "markdown",
   "metadata": {},
   "source": [
    "# **Clustering Charte Internet**\n",
    "\n",
    "Nous allons étudier les diffèrentes colonnes qui traitent sur les informations de la charte mise en place et de la bonne utilisation du numérique et d'Internet. Il est important d'étudier cet aspect car même si une école met en place un grand nombre de moyens pour le numérique, si elle ne sensibilise pas et ne forme pas les élèves et leurs parents, un mauvais usage peut être fait de ces moyens et ils ne seront pas utilisés efficacement pour atteindre les résultats souhaités\n",
    "\n",
    "- *`'AccesParentCharte'`* : est-ce que l'école met en place une action à destination des parents autour de l’internet responsable ou de l’usage responsable du numérique ?\n",
    "- *``'ControlePosteriori'``* : est-ce que l'école utilise un dispositif d’enregistrement des sites visités permettant un contrôle a posteriori ?\n",
    "- *``'SiCharteUsageWeb'``* : est-ce que l'école dispose d'une charte de bon usage d'Internet ?\n",
    "- *``'DiffCh_AnnexeeRi'``* : La charte de bon usage de l’Internet est diffusée par annexe au règlement intérieur\n",
    "- *``'DiffCh_DossierRentreeEnseignants'``* : La charte de bon usage de l’Internet est diffusée via le dossier de rentrée des enseignants\n",
    "- *``'DiffCh_CRConseilAdmin'``* : La charte de bon usage de l’Internet est diffusée dans le compte‐rendu du conseil d'école\n",
    "- *``'DiffCh_DiffusionParents'``* : La charte de bon usage de l’Internet est diffusée aux parents\n",
    "- *``'DiffCh_autres'``* : La charte de bon usage de l’Internet est diffusée par un autre moyen\n",
    "- *``'AccesParentCharte'``* : Votre école met‐elle en place une action à destination des parents autour de l’internet responsable ou de l’usage responsable du numérique ?\n",
    "\n",
    "Nous allons procéder comme on a pu le faire dans les étapes précédentes."
   ]
  },
  {
   "cell_type": "code",
   "execution_count": 5,
   "metadata": {},
   "outputs": [],
   "source": [
    "import pandas as pd\n",
    "import prince as pc\n",
    "from sklearn.cluster import KMeans\n",
    "from sklearn.decomposition import PCA\n",
    "from sklearn.preprocessing import StandardScaler\n",
    "import plotly_express as px\n",
    "import plotly.graph_objects as go\n",
    "import re"
   ]
  },
  {
   "cell_type": "code",
   "execution_count": 6,
   "metadata": {},
   "outputs": [],
   "source": [
    "df = pd.read_csv('../data/lycee-college/fr-en-etic_2d.csv', sep=';')\n",
    "\n",
    "#On consulte les colonnes existantes\n",
    "df.columns\n",
    "\n",
    "#on garde les données les plus récentes, donc 2019\n",
    "df = df.loc[df[\"Millesime\"] == 2019]"
   ]
  },
  {
   "cell_type": "code",
   "execution_count": 7,
   "metadata": {},
   "outputs": [],
   "source": [
    "df.set_index('Code_UAI', inplace=True)\n",
    "\n",
    "df_charte = df.drop(columns=[\n",
    "       'Millesime', 'Code_nature', 'nature_uai', 'typ_etab',\n",
    "       'Academie', 'Departement', 'NbEleve', 'NbEnseignant',\n",
    "       'SiEtabCentreRessource', 'SiProjetNumEcole', 'SiEntDisponible',\n",
    "       'SiProjEtabIntegreENT', 'Maint_PersCollect', 'Maint_PrestaExt',\n",
    "       'Maint_PersonnelEducNatHsEtab', 'Maint_PersonnelEtab',\n",
    "       'Maint_AutreNeSaitPas', 'Maint_Personne', 'NbRessourceEdit',\n",
    "       'TpRess_ManuelNum', 'TpRess_AnimScienLogiSimu', 'TpRess_Bdd',\n",
    "       'TpRess_LogiOutils', 'TpRess_OuvRef', 'TpRess_ResEntrainement',\n",
    "       'TpRess_Autres', 'TpRess_aucune', 'ServInt_NoteElev', 'ServInt_AbsElev',\n",
    "       'ServInt_EdtElevCls', 'ServInt_CahierTxt', 'ServInt_DocRessPeda',\n",
    "       'ServInt_AgdActuEtab', 'ServInt_PlatApp', 'ServInt_Autres',\n",
    "       'ServInt_aucun', 'NbTerminaux', 'NbTablette', 'NbTablettePC',\n",
    "       'NbMicroMoins5', 'NbMicroPortable', 'NbPortAffEl', 'NbPortAffEns',\n",
    "       'NbEleveEqASH', 'NbPosteEqASH', 'NbTBI', 'propClassesAvecTBI',\n",
    "       'NbVideoProj', 'NbClassMobile', 'NbLecteurMpx', 'NbImpr3D',\n",
    "       'AccWeb_RTC', 'AccWeb_CableFibreOptique', 'AccWeb_ADSL',\n",
    "       'AccWeb_AutresHautDebit', 'AccWeb_NeSaitPas', 'AccWeb_Aucun',\n",
    "       'DebitWeb', 'SiWifi', 'SalleInternet', 'PostesInfoElvHorsCours',\n",
    "       'SiPareFeuEtab', 'SiOuifiltrageWeb',\n",
    "       'ElvAuthentif', 'SiVisioConferenc', 'SiEntUtilise',\n",
    "       'TypeMatHandi_Tablette', 'TypeMatHandi_OrdiPort', 'TypeMatHandi_LogApp',\n",
    "       'TypeMatHandi_Autre', 'Code_region', 'Libelle_region'\n",
    "])\n",
    "\n",
    "\n",
    "df_charte.dropna(inplace=True)"
   ]
  },
  {
   "cell_type": "code",
   "execution_count": 8,
   "metadata": {},
   "outputs": [],
   "source": [
    "df_charte.columns = df_charte.columns.str.lower()"
   ]
  },
  {
   "cell_type": "code",
   "execution_count": 9,
   "metadata": {},
   "outputs": [
    {
     "data": {
      "text/plain": [
       "Index(['controleposteriori', 'sicharteusageweb', 'diffch_annexeeri',\n",
       "       'diffch_dossierrentreeenseignants', 'diffch_crconseiladmin',\n",
       "       'diffch_diffusionparents', 'diffch_autres', 'accesparentcharte'],\n",
       "      dtype='object')"
      ]
     },
     "execution_count": 9,
     "metadata": {},
     "output_type": "execute_result"
    }
   ],
   "source": [
    "df_charte.columns"
   ]
  },
  {
   "attachments": {},
   "cell_type": "markdown",
   "metadata": {},
   "source": [
    "On vérifie que les modifications sont bien appliquées"
   ]
  },
  {
   "cell_type": "code",
   "execution_count": 10,
   "metadata": {},
   "outputs": [
    {
     "data": {
      "text/html": [
       "<div>\n",
       "<style scoped>\n",
       "    .dataframe tbody tr th:only-of-type {\n",
       "        vertical-align: middle;\n",
       "    }\n",
       "\n",
       "    .dataframe tbody tr th {\n",
       "        vertical-align: top;\n",
       "    }\n",
       "\n",
       "    .dataframe thead th {\n",
       "        text-align: right;\n",
       "    }\n",
       "</style>\n",
       "<table border=\"1\" class=\"dataframe\">\n",
       "  <thead>\n",
       "    <tr style=\"text-align: right;\">\n",
       "      <th></th>\n",
       "      <th>controleposteriori</th>\n",
       "      <th>sicharteusageweb</th>\n",
       "      <th>diffch_annexeeri</th>\n",
       "      <th>diffch_dossierrentreeenseignants</th>\n",
       "      <th>diffch_crconseiladmin</th>\n",
       "      <th>diffch_diffusionparents</th>\n",
       "      <th>diffch_autres</th>\n",
       "      <th>accesparentcharte</th>\n",
       "    </tr>\n",
       "    <tr>\n",
       "      <th>Code_UAI</th>\n",
       "      <th></th>\n",
       "      <th></th>\n",
       "      <th></th>\n",
       "      <th></th>\n",
       "      <th></th>\n",
       "      <th></th>\n",
       "      <th></th>\n",
       "      <th></th>\n",
       "    </tr>\n",
       "  </thead>\n",
       "  <tbody>\n",
       "    <tr>\n",
       "      <th>0810016C</th>\n",
       "      <td>oui</td>\n",
       "      <td>oui</td>\n",
       "      <td>oui</td>\n",
       "      <td>non</td>\n",
       "      <td>non</td>\n",
       "      <td>non</td>\n",
       "      <td>non</td>\n",
       "      <td>non</td>\n",
       "    </tr>\n",
       "    <tr>\n",
       "      <th>0810026N</th>\n",
       "      <td>oui</td>\n",
       "      <td>oui</td>\n",
       "      <td>oui</td>\n",
       "      <td>non</td>\n",
       "      <td>non</td>\n",
       "      <td>oui</td>\n",
       "      <td>non</td>\n",
       "      <td>ouiEntiteExt</td>\n",
       "    </tr>\n",
       "    <tr>\n",
       "      <th>0810041E</th>\n",
       "      <td>oui</td>\n",
       "      <td>oui</td>\n",
       "      <td>oui</td>\n",
       "      <td>non</td>\n",
       "      <td>non</td>\n",
       "      <td>oui</td>\n",
       "      <td>non</td>\n",
       "      <td>ouiPersonnelEtb</td>\n",
       "    </tr>\n",
       "    <tr>\n",
       "      <th>0810124V</th>\n",
       "      <td>oui</td>\n",
       "      <td>oui</td>\n",
       "      <td>oui</td>\n",
       "      <td>non</td>\n",
       "      <td>non</td>\n",
       "      <td>non</td>\n",
       "      <td>non</td>\n",
       "      <td>ouiPersonnelEtb</td>\n",
       "    </tr>\n",
       "    <tr>\n",
       "      <th>0810125W</th>\n",
       "      <td>oui</td>\n",
       "      <td>oui</td>\n",
       "      <td>oui</td>\n",
       "      <td>non</td>\n",
       "      <td>non</td>\n",
       "      <td>non</td>\n",
       "      <td>non</td>\n",
       "      <td>non</td>\n",
       "    </tr>\n",
       "  </tbody>\n",
       "</table>\n",
       "</div>"
      ],
      "text/plain": [
       "         controleposteriori sicharteusageweb diffch_annexeeri  \\\n",
       "Code_UAI                                                        \n",
       "0810016C                oui              oui              oui   \n",
       "0810026N                oui              oui              oui   \n",
       "0810041E                oui              oui              oui   \n",
       "0810124V                oui              oui              oui   \n",
       "0810125W                oui              oui              oui   \n",
       "\n",
       "         diffch_dossierrentreeenseignants diffch_crconseiladmin  \\\n",
       "Code_UAI                                                          \n",
       "0810016C                              non                   non   \n",
       "0810026N                              non                   non   \n",
       "0810041E                              non                   non   \n",
       "0810124V                              non                   non   \n",
       "0810125W                              non                   non   \n",
       "\n",
       "         diffch_diffusionparents diffch_autres accesparentcharte  \n",
       "Code_UAI                                                          \n",
       "0810016C                     non           non               non  \n",
       "0810026N                     oui           non      ouiEntiteExt  \n",
       "0810041E                     oui           non   ouiPersonnelEtb  \n",
       "0810124V                     non           non   ouiPersonnelEtb  \n",
       "0810125W                     non           non               non  "
      ]
     },
     "execution_count": 10,
     "metadata": {},
     "output_type": "execute_result"
    }
   ],
   "source": [
    "df_charte.head()"
   ]
  },
  {
   "attachments": {},
   "cell_type": "markdown",
   "metadata": {},
   "source": [
    "On va ensuite procéder à la transformation de ces modalités en valeur binaire. On va associer à la modalité \"oui\" la valeur 1 et à la modalité \"non\" la valeur 0. Pour la colonne `accesParentCharte`, nous voyons que nous avons plusieurs modalités, on va voir combien il en existe et on va associer à chaque modalité une valeur numérique."
   ]
  },
  {
   "cell_type": "code",
   "execution_count": 11,
   "metadata": {},
   "outputs": [
    {
     "data": {
      "text/plain": [
       "non                187\n",
       "ouiPersonnelEtb    110\n",
       "ouiEntiteExt       100\n",
       "Name: accesparentcharte, dtype: int64"
      ]
     },
     "execution_count": 11,
     "metadata": {},
     "output_type": "execute_result"
    }
   ],
   "source": [
    "df_charte.accesparentcharte.value_counts()"
   ]
  },
  {
   "attachments": {},
   "cell_type": "markdown",
   "metadata": {},
   "source": [
    "On voit qu'il existe 3 modalités, soit \"non\" l'école ne met pas en place une action de sensibilisation pour les parents sur l'internet responsable et l'usage responsable du numérique.\n",
    "\n",
    "Les deux autres modalités sont \"ouiPersonnelEtb\" et \"ouiEntiteExt\", elles sont presque semblables car cela veut dire qu'une action est mise en place, ce qui change est la personne qui s'occupe de la sensibilisation. \n",
    "\n",
    "Si la personne qui s'occupe de ça est compétente dans la matière, cela ne change rien que cela soit fait par le personnel de l'établissement ou par une personne extérieure. \n",
    "Le plus important est qu'une action de sensibilisation existe. Nous allons donc agréger ces deux modalités en une seule qui sera \"oui\""
   ]
  },
  {
   "cell_type": "code",
   "execution_count": 12,
   "metadata": {},
   "outputs": [
    {
     "data": {
      "text/plain": [
       "oui    210\n",
       "non    187\n",
       "Name: accesparentcharte, dtype: int64"
      ]
     },
     "execution_count": 12,
     "metadata": {},
     "output_type": "execute_result"
    }
   ],
   "source": [
    "df_charte.replace({ 'ouiPersonnelEtb': 'oui', 'ouiEntiteExt': 'oui'}, inplace=True)\n",
    "\n",
    "df_charte.accesparentcharte.value_counts()"
   ]
  },
  {
   "attachments": {},
   "cell_type": "markdown",
   "metadata": {},
   "source": [
    "On peut maintenant transformer toutes les colonnes en valeurs binaires"
   ]
  },
  {
   "cell_type": "code",
   "execution_count": 13,
   "metadata": {},
   "outputs": [
    {
     "data": {
      "text/html": [
       "<div>\n",
       "<style scoped>\n",
       "    .dataframe tbody tr th:only-of-type {\n",
       "        vertical-align: middle;\n",
       "    }\n",
       "\n",
       "    .dataframe tbody tr th {\n",
       "        vertical-align: top;\n",
       "    }\n",
       "\n",
       "    .dataframe thead th {\n",
       "        text-align: right;\n",
       "    }\n",
       "</style>\n",
       "<table border=\"1\" class=\"dataframe\">\n",
       "  <thead>\n",
       "    <tr style=\"text-align: right;\">\n",
       "      <th></th>\n",
       "      <th>controleposteriori</th>\n",
       "      <th>sicharteusageweb</th>\n",
       "      <th>diffch_annexeeri</th>\n",
       "      <th>diffch_dossierrentreeenseignants</th>\n",
       "      <th>diffch_crconseiladmin</th>\n",
       "      <th>diffch_diffusionparents</th>\n",
       "      <th>diffch_autres</th>\n",
       "      <th>accesparentcharte</th>\n",
       "    </tr>\n",
       "    <tr>\n",
       "      <th>Code_UAI</th>\n",
       "      <th></th>\n",
       "      <th></th>\n",
       "      <th></th>\n",
       "      <th></th>\n",
       "      <th></th>\n",
       "      <th></th>\n",
       "      <th></th>\n",
       "      <th></th>\n",
       "    </tr>\n",
       "  </thead>\n",
       "  <tbody>\n",
       "    <tr>\n",
       "      <th>0810016C</th>\n",
       "      <td>1.0</td>\n",
       "      <td>1.0</td>\n",
       "      <td>1.0</td>\n",
       "      <td>0.0</td>\n",
       "      <td>0.0</td>\n",
       "      <td>0.0</td>\n",
       "      <td>0.0</td>\n",
       "      <td>0.0</td>\n",
       "    </tr>\n",
       "    <tr>\n",
       "      <th>0810026N</th>\n",
       "      <td>1.0</td>\n",
       "      <td>1.0</td>\n",
       "      <td>1.0</td>\n",
       "      <td>0.0</td>\n",
       "      <td>0.0</td>\n",
       "      <td>1.0</td>\n",
       "      <td>0.0</td>\n",
       "      <td>1.0</td>\n",
       "    </tr>\n",
       "    <tr>\n",
       "      <th>0810041E</th>\n",
       "      <td>1.0</td>\n",
       "      <td>1.0</td>\n",
       "      <td>1.0</td>\n",
       "      <td>0.0</td>\n",
       "      <td>0.0</td>\n",
       "      <td>1.0</td>\n",
       "      <td>0.0</td>\n",
       "      <td>1.0</td>\n",
       "    </tr>\n",
       "    <tr>\n",
       "      <th>0810124V</th>\n",
       "      <td>1.0</td>\n",
       "      <td>1.0</td>\n",
       "      <td>1.0</td>\n",
       "      <td>0.0</td>\n",
       "      <td>0.0</td>\n",
       "      <td>0.0</td>\n",
       "      <td>0.0</td>\n",
       "      <td>1.0</td>\n",
       "    </tr>\n",
       "    <tr>\n",
       "      <th>0810125W</th>\n",
       "      <td>1.0</td>\n",
       "      <td>1.0</td>\n",
       "      <td>1.0</td>\n",
       "      <td>0.0</td>\n",
       "      <td>0.0</td>\n",
       "      <td>0.0</td>\n",
       "      <td>0.0</td>\n",
       "      <td>0.0</td>\n",
       "    </tr>\n",
       "  </tbody>\n",
       "</table>\n",
       "</div>"
      ],
      "text/plain": [
       "          controleposteriori  sicharteusageweb  diffch_annexeeri  \\\n",
       "Code_UAI                                                           \n",
       "0810016C                 1.0               1.0               1.0   \n",
       "0810026N                 1.0               1.0               1.0   \n",
       "0810041E                 1.0               1.0               1.0   \n",
       "0810124V                 1.0               1.0               1.0   \n",
       "0810125W                 1.0               1.0               1.0   \n",
       "\n",
       "          diffch_dossierrentreeenseignants  diffch_crconseiladmin  \\\n",
       "Code_UAI                                                            \n",
       "0810016C                               0.0                    0.0   \n",
       "0810026N                               0.0                    0.0   \n",
       "0810041E                               0.0                    0.0   \n",
       "0810124V                               0.0                    0.0   \n",
       "0810125W                               0.0                    0.0   \n",
       "\n",
       "          diffch_diffusionparents  diffch_autres  accesparentcharte  \n",
       "Code_UAI                                                             \n",
       "0810016C                      0.0            0.0                0.0  \n",
       "0810026N                      1.0            0.0                1.0  \n",
       "0810041E                      1.0            0.0                1.0  \n",
       "0810124V                      0.0            0.0                1.0  \n",
       "0810125W                      0.0            0.0                0.0  "
      ]
     },
     "execution_count": 13,
     "metadata": {},
     "output_type": "execute_result"
    }
   ],
   "source": [
    "for col in df_charte.columns:\n",
    "    df_charte[col] = df_charte[col].replace({'oui': 1, 'non': 0})\n",
    "    df_charte[col] = df_charte[col].astype(float)\n",
    "\n",
    "df_charte.head()"
   ]
  },
  {
   "attachments": {},
   "cell_type": "markdown",
   "metadata": {},
   "source": [
    "### *Corrélation entre les variables*\n",
    "\n",
    "Nous allons voir si il existe une corrélation entre les différentes colonnes."
   ]
  },
  {
   "cell_type": "code",
   "execution_count": 14,
   "metadata": {},
   "outputs": [
    {
     "data": {
      "application/vnd.plotly.v1+json": {
       "config": {
        "plotlyServerURL": "https://plot.ly"
       },
       "data": [
        {
         "colorscale": [
          [
           0,
           "#440154"
          ],
          [
           0.1111111111111111,
           "#482878"
          ],
          [
           0.2222222222222222,
           "#3e4989"
          ],
          [
           0.3333333333333333,
           "#31688e"
          ],
          [
           0.4444444444444444,
           "#26828e"
          ],
          [
           0.5555555555555556,
           "#1f9e89"
          ],
          [
           0.6666666666666666,
           "#35b779"
          ],
          [
           0.7777777777777778,
           "#6ece58"
          ],
          [
           0.8888888888888888,
           "#b5de2b"
          ],
          [
           1,
           "#fde725"
          ]
         ],
         "type": "heatmap",
         "x": [
          "controleposteriori",
          "sicharteusageweb",
          "diffch_annexeeri",
          "diffch_dossierrentreeenseignants",
          "diffch_crconseiladmin",
          "diffch_diffusionparents",
          "diffch_autres",
          "accesparentcharte"
         ],
         "xgap": 1,
         "y": [
          "controleposteriori",
          "sicharteusageweb",
          "diffch_annexeeri",
          "diffch_dossierrentreeenseignants",
          "diffch_crconseiladmin",
          "diffch_diffusionparents",
          "diffch_autres",
          "accesparentcharte"
         ],
         "ygap": 1,
         "z": [
          [
           1,
           null,
           0.029968328701755535,
           0.046875512074933436,
           0.05685543057724474,
           0.029011594918276977,
           0.05184999446183062,
           0.029446715384448173
          ],
          [
           null,
           null,
           null,
           null,
           null,
           null,
           null,
           null
          ],
          [
           0.029968328701755535,
           null,
           1,
           -0.055975907448132384,
           -0.089309691772904,
           -0.09999947475080362,
           -0.19485808823838066,
           0.05591350946447888
          ],
          [
           0.046875512074933436,
           null,
           -0.055975907448132384,
           1,
           0.38832606586736534,
           0.6043206151226763,
           0.13710696204894451,
           0.03872190867078283
          ],
          [
           0.05685543057724474,
           null,
           -0.089309691772904,
           0.38832606586736534,
           1,
           0.3427245785967027,
           0.09479586104782865,
           0.0690817514980606
          ],
          [
           0.029011594918276977,
           null,
           -0.09999947475080362,
           0.6043206151226763,
           0.3427245785967027,
           1,
           0.1574382071529163,
           0.08190743616548156
          ],
          [
           0.05184999446183062,
           null,
           -0.19485808823838066,
           0.13710696204894451,
           0.09479586104782865,
           0.1574382071529163,
           1,
           -0.061149611014224996
          ],
          [
           0.029446715384448173,
           null,
           0.05591350946447888,
           0.03872190867078283,
           0.0690817514980606,
           0.08190743616548156,
           -0.061149611014224996,
           1
          ]
         ]
        }
       ],
       "layout": {
        "height": 600,
        "template": {
         "data": {
          "bar": [
           {
            "error_x": {
             "color": "#2a3f5f"
            },
            "error_y": {
             "color": "#2a3f5f"
            },
            "marker": {
             "line": {
              "color": "#E5ECF6",
              "width": 0.5
             },
             "pattern": {
              "fillmode": "overlay",
              "size": 10,
              "solidity": 0.2
             }
            },
            "type": "bar"
           }
          ],
          "barpolar": [
           {
            "marker": {
             "line": {
              "color": "#E5ECF6",
              "width": 0.5
             },
             "pattern": {
              "fillmode": "overlay",
              "size": 10,
              "solidity": 0.2
             }
            },
            "type": "barpolar"
           }
          ],
          "carpet": [
           {
            "aaxis": {
             "endlinecolor": "#2a3f5f",
             "gridcolor": "white",
             "linecolor": "white",
             "minorgridcolor": "white",
             "startlinecolor": "#2a3f5f"
            },
            "baxis": {
             "endlinecolor": "#2a3f5f",
             "gridcolor": "white",
             "linecolor": "white",
             "minorgridcolor": "white",
             "startlinecolor": "#2a3f5f"
            },
            "type": "carpet"
           }
          ],
          "choropleth": [
           {
            "colorbar": {
             "outlinewidth": 0,
             "ticks": ""
            },
            "type": "choropleth"
           }
          ],
          "contour": [
           {
            "colorbar": {
             "outlinewidth": 0,
             "ticks": ""
            },
            "colorscale": [
             [
              0,
              "#0d0887"
             ],
             [
              0.1111111111111111,
              "#46039f"
             ],
             [
              0.2222222222222222,
              "#7201a8"
             ],
             [
              0.3333333333333333,
              "#9c179e"
             ],
             [
              0.4444444444444444,
              "#bd3786"
             ],
             [
              0.5555555555555556,
              "#d8576b"
             ],
             [
              0.6666666666666666,
              "#ed7953"
             ],
             [
              0.7777777777777778,
              "#fb9f3a"
             ],
             [
              0.8888888888888888,
              "#fdca26"
             ],
             [
              1,
              "#f0f921"
             ]
            ],
            "type": "contour"
           }
          ],
          "contourcarpet": [
           {
            "colorbar": {
             "outlinewidth": 0,
             "ticks": ""
            },
            "type": "contourcarpet"
           }
          ],
          "heatmap": [
           {
            "colorbar": {
             "outlinewidth": 0,
             "ticks": ""
            },
            "colorscale": [
             [
              0,
              "#0d0887"
             ],
             [
              0.1111111111111111,
              "#46039f"
             ],
             [
              0.2222222222222222,
              "#7201a8"
             ],
             [
              0.3333333333333333,
              "#9c179e"
             ],
             [
              0.4444444444444444,
              "#bd3786"
             ],
             [
              0.5555555555555556,
              "#d8576b"
             ],
             [
              0.6666666666666666,
              "#ed7953"
             ],
             [
              0.7777777777777778,
              "#fb9f3a"
             ],
             [
              0.8888888888888888,
              "#fdca26"
             ],
             [
              1,
              "#f0f921"
             ]
            ],
            "type": "heatmap"
           }
          ],
          "heatmapgl": [
           {
            "colorbar": {
             "outlinewidth": 0,
             "ticks": ""
            },
            "colorscale": [
             [
              0,
              "#0d0887"
             ],
             [
              0.1111111111111111,
              "#46039f"
             ],
             [
              0.2222222222222222,
              "#7201a8"
             ],
             [
              0.3333333333333333,
              "#9c179e"
             ],
             [
              0.4444444444444444,
              "#bd3786"
             ],
             [
              0.5555555555555556,
              "#d8576b"
             ],
             [
              0.6666666666666666,
              "#ed7953"
             ],
             [
              0.7777777777777778,
              "#fb9f3a"
             ],
             [
              0.8888888888888888,
              "#fdca26"
             ],
             [
              1,
              "#f0f921"
             ]
            ],
            "type": "heatmapgl"
           }
          ],
          "histogram": [
           {
            "marker": {
             "pattern": {
              "fillmode": "overlay",
              "size": 10,
              "solidity": 0.2
             }
            },
            "type": "histogram"
           }
          ],
          "histogram2d": [
           {
            "colorbar": {
             "outlinewidth": 0,
             "ticks": ""
            },
            "colorscale": [
             [
              0,
              "#0d0887"
             ],
             [
              0.1111111111111111,
              "#46039f"
             ],
             [
              0.2222222222222222,
              "#7201a8"
             ],
             [
              0.3333333333333333,
              "#9c179e"
             ],
             [
              0.4444444444444444,
              "#bd3786"
             ],
             [
              0.5555555555555556,
              "#d8576b"
             ],
             [
              0.6666666666666666,
              "#ed7953"
             ],
             [
              0.7777777777777778,
              "#fb9f3a"
             ],
             [
              0.8888888888888888,
              "#fdca26"
             ],
             [
              1,
              "#f0f921"
             ]
            ],
            "type": "histogram2d"
           }
          ],
          "histogram2dcontour": [
           {
            "colorbar": {
             "outlinewidth": 0,
             "ticks": ""
            },
            "colorscale": [
             [
              0,
              "#0d0887"
             ],
             [
              0.1111111111111111,
              "#46039f"
             ],
             [
              0.2222222222222222,
              "#7201a8"
             ],
             [
              0.3333333333333333,
              "#9c179e"
             ],
             [
              0.4444444444444444,
              "#bd3786"
             ],
             [
              0.5555555555555556,
              "#d8576b"
             ],
             [
              0.6666666666666666,
              "#ed7953"
             ],
             [
              0.7777777777777778,
              "#fb9f3a"
             ],
             [
              0.8888888888888888,
              "#fdca26"
             ],
             [
              1,
              "#f0f921"
             ]
            ],
            "type": "histogram2dcontour"
           }
          ],
          "mesh3d": [
           {
            "colorbar": {
             "outlinewidth": 0,
             "ticks": ""
            },
            "type": "mesh3d"
           }
          ],
          "parcoords": [
           {
            "line": {
             "colorbar": {
              "outlinewidth": 0,
              "ticks": ""
             }
            },
            "type": "parcoords"
           }
          ],
          "pie": [
           {
            "automargin": true,
            "type": "pie"
           }
          ],
          "scatter": [
           {
            "fillpattern": {
             "fillmode": "overlay",
             "size": 10,
             "solidity": 0.2
            },
            "type": "scatter"
           }
          ],
          "scatter3d": [
           {
            "line": {
             "colorbar": {
              "outlinewidth": 0,
              "ticks": ""
             }
            },
            "marker": {
             "colorbar": {
              "outlinewidth": 0,
              "ticks": ""
             }
            },
            "type": "scatter3d"
           }
          ],
          "scattercarpet": [
           {
            "marker": {
             "colorbar": {
              "outlinewidth": 0,
              "ticks": ""
             }
            },
            "type": "scattercarpet"
           }
          ],
          "scattergeo": [
           {
            "marker": {
             "colorbar": {
              "outlinewidth": 0,
              "ticks": ""
             }
            },
            "type": "scattergeo"
           }
          ],
          "scattergl": [
           {
            "marker": {
             "colorbar": {
              "outlinewidth": 0,
              "ticks": ""
             }
            },
            "type": "scattergl"
           }
          ],
          "scattermapbox": [
           {
            "marker": {
             "colorbar": {
              "outlinewidth": 0,
              "ticks": ""
             }
            },
            "type": "scattermapbox"
           }
          ],
          "scatterpolar": [
           {
            "marker": {
             "colorbar": {
              "outlinewidth": 0,
              "ticks": ""
             }
            },
            "type": "scatterpolar"
           }
          ],
          "scatterpolargl": [
           {
            "marker": {
             "colorbar": {
              "outlinewidth": 0,
              "ticks": ""
             }
            },
            "type": "scatterpolargl"
           }
          ],
          "scatterternary": [
           {
            "marker": {
             "colorbar": {
              "outlinewidth": 0,
              "ticks": ""
             }
            },
            "type": "scatterternary"
           }
          ],
          "surface": [
           {
            "colorbar": {
             "outlinewidth": 0,
             "ticks": ""
            },
            "colorscale": [
             [
              0,
              "#0d0887"
             ],
             [
              0.1111111111111111,
              "#46039f"
             ],
             [
              0.2222222222222222,
              "#7201a8"
             ],
             [
              0.3333333333333333,
              "#9c179e"
             ],
             [
              0.4444444444444444,
              "#bd3786"
             ],
             [
              0.5555555555555556,
              "#d8576b"
             ],
             [
              0.6666666666666666,
              "#ed7953"
             ],
             [
              0.7777777777777778,
              "#fb9f3a"
             ],
             [
              0.8888888888888888,
              "#fdca26"
             ],
             [
              1,
              "#f0f921"
             ]
            ],
            "type": "surface"
           }
          ],
          "table": [
           {
            "cells": {
             "fill": {
              "color": "#EBF0F8"
             },
             "line": {
              "color": "white"
             }
            },
            "header": {
             "fill": {
              "color": "#C8D4E3"
             },
             "line": {
              "color": "white"
             }
            },
            "type": "table"
           }
          ]
         },
         "layout": {
          "annotationdefaults": {
           "arrowcolor": "#2a3f5f",
           "arrowhead": 0,
           "arrowwidth": 1
          },
          "autotypenumbers": "strict",
          "coloraxis": {
           "colorbar": {
            "outlinewidth": 0,
            "ticks": ""
           }
          },
          "colorscale": {
           "diverging": [
            [
             0,
             "#8e0152"
            ],
            [
             0.1,
             "#c51b7d"
            ],
            [
             0.2,
             "#de77ae"
            ],
            [
             0.3,
             "#f1b6da"
            ],
            [
             0.4,
             "#fde0ef"
            ],
            [
             0.5,
             "#f7f7f7"
            ],
            [
             0.6,
             "#e6f5d0"
            ],
            [
             0.7,
             "#b8e186"
            ],
            [
             0.8,
             "#7fbc41"
            ],
            [
             0.9,
             "#4d9221"
            ],
            [
             1,
             "#276419"
            ]
           ],
           "sequential": [
            [
             0,
             "#0d0887"
            ],
            [
             0.1111111111111111,
             "#46039f"
            ],
            [
             0.2222222222222222,
             "#7201a8"
            ],
            [
             0.3333333333333333,
             "#9c179e"
            ],
            [
             0.4444444444444444,
             "#bd3786"
            ],
            [
             0.5555555555555556,
             "#d8576b"
            ],
            [
             0.6666666666666666,
             "#ed7953"
            ],
            [
             0.7777777777777778,
             "#fb9f3a"
            ],
            [
             0.8888888888888888,
             "#fdca26"
            ],
            [
             1,
             "#f0f921"
            ]
           ],
           "sequentialminus": [
            [
             0,
             "#0d0887"
            ],
            [
             0.1111111111111111,
             "#46039f"
            ],
            [
             0.2222222222222222,
             "#7201a8"
            ],
            [
             0.3333333333333333,
             "#9c179e"
            ],
            [
             0.4444444444444444,
             "#bd3786"
            ],
            [
             0.5555555555555556,
             "#d8576b"
            ],
            [
             0.6666666666666666,
             "#ed7953"
            ],
            [
             0.7777777777777778,
             "#fb9f3a"
            ],
            [
             0.8888888888888888,
             "#fdca26"
            ],
            [
             1,
             "#f0f921"
            ]
           ]
          },
          "colorway": [
           "#636efa",
           "#EF553B",
           "#00cc96",
           "#ab63fa",
           "#FFA15A",
           "#19d3f3",
           "#FF6692",
           "#B6E880",
           "#FF97FF",
           "#FECB52"
          ],
          "font": {
           "color": "#2a3f5f"
          },
          "geo": {
           "bgcolor": "white",
           "lakecolor": "white",
           "landcolor": "#E5ECF6",
           "showlakes": true,
           "showland": true,
           "subunitcolor": "white"
          },
          "hoverlabel": {
           "align": "left"
          },
          "hovermode": "closest",
          "mapbox": {
           "style": "light"
          },
          "paper_bgcolor": "white",
          "plot_bgcolor": "#E5ECF6",
          "polar": {
           "angularaxis": {
            "gridcolor": "white",
            "linecolor": "white",
            "ticks": ""
           },
           "bgcolor": "#E5ECF6",
           "radialaxis": {
            "gridcolor": "white",
            "linecolor": "white",
            "ticks": ""
           }
          },
          "scene": {
           "xaxis": {
            "backgroundcolor": "#E5ECF6",
            "gridcolor": "white",
            "gridwidth": 2,
            "linecolor": "white",
            "showbackground": true,
            "ticks": "",
            "zerolinecolor": "white"
           },
           "yaxis": {
            "backgroundcolor": "#E5ECF6",
            "gridcolor": "white",
            "gridwidth": 2,
            "linecolor": "white",
            "showbackground": true,
            "ticks": "",
            "zerolinecolor": "white"
           },
           "zaxis": {
            "backgroundcolor": "#E5ECF6",
            "gridcolor": "white",
            "gridwidth": 2,
            "linecolor": "white",
            "showbackground": true,
            "ticks": "",
            "zerolinecolor": "white"
           }
          },
          "shapedefaults": {
           "line": {
            "color": "#2a3f5f"
           }
          },
          "ternary": {
           "aaxis": {
            "gridcolor": "white",
            "linecolor": "white",
            "ticks": ""
           },
           "baxis": {
            "gridcolor": "white",
            "linecolor": "white",
            "ticks": ""
           },
           "bgcolor": "#E5ECF6",
           "caxis": {
            "gridcolor": "white",
            "linecolor": "white",
            "ticks": ""
           }
          },
          "title": {
           "x": 0.05
          },
          "xaxis": {
           "automargin": true,
           "gridcolor": "white",
           "linecolor": "white",
           "ticks": "",
           "title": {
            "standoff": 15
           },
           "zerolinecolor": "white",
           "zerolinewidth": 2
          },
          "yaxis": {
           "automargin": true,
           "gridcolor": "white",
           "linecolor": "white",
           "ticks": "",
           "title": {
            "standoff": 15
           },
           "zerolinecolor": "white",
           "zerolinewidth": 2
          }
         }
        },
        "title": {
         "text": "Correlation Matrix",
         "x": 0.5
        },
        "width": 700,
        "xaxis": {
         "showgrid": false
        },
        "yaxis": {
         "autorange": "reversed",
         "showgrid": false
        }
       }
      }
     },
     "metadata": {},
     "output_type": "display_data"
    }
   ],
   "source": [
    "column_names = df_charte.columns\n",
    "\n",
    "heat = go.Heatmap(\n",
    "    z=df_charte.corr().values,\n",
    "    x=column_names,\n",
    "    y=column_names,\n",
    "    xgap=1, ygap=1,\n",
    "    colorscale='Viridis'\n",
    ")\n",
    "\n",
    "layout = go.Layout(\n",
    "    title='Correlation Matrix',\n",
    "    title_x=0.5,\n",
    "    width=700, height=600,\n",
    "    xaxis_showgrid=False, yaxis_showgrid=False,\n",
    "    yaxis_autorange='reversed'\n",
    ")\n",
    "\n",
    "fig = go.Figure(data=[heat], layout=layout)\n",
    "fig.show()"
   ]
  },
  {
   "attachments": {},
   "cell_type": "markdown",
   "metadata": {},
   "source": [
    "On peut remarquer que pour la corrélation entre `sicharteusageweb` et les autres variables on a un `NaN`. On va essayer de voir pour quelle raison on a ce résultat. On va voir le nombre de valeurs possibles pour la variable `sicharteusageweb`."
   ]
  },
  {
   "cell_type": "code",
   "execution_count": 15,
   "metadata": {},
   "outputs": [
    {
     "data": {
      "text/plain": [
       "1.0    397\n",
       "Name: sicharteusageweb, dtype: int64"
      ]
     },
     "execution_count": 15,
     "metadata": {},
     "output_type": "execute_result"
    }
   ],
   "source": [
    "df_charte.sicharteusageweb.value_counts()"
   ]
  },
  {
   "attachments": {},
   "cell_type": "markdown",
   "metadata": {},
   "source": [
    "On voit qu'il existe seulement une seule valeur possible pour cette variable, ce qui explique le résultat de la matrice de corrélation. Il faudrait exclure cette variable de notre étude.\n",
    "\n",
    "\n",
    "Maintenant qu'on a trouvé la source du problème, nous pouvons passer à l'interprétation de la matrice de corrélation :\n",
    "\n",
    "On voit qu'il n'existe pas de corrélation considérable entre nos variables. Une seule attire notre attention, celle entre `diffch_dossierrentreeenseignants` et `diffch_diffusionparents` qui vaut 0.6. On ne peut pas réellement tiré de conclusion.\n",
    "\n",
    "On va donc passer au clustering pour remarquer des groupes qui se ressemblent."
   ]
  },
  {
   "attachments": {},
   "cell_type": "markdown",
   "metadata": {},
   "source": [
    "### *Classification non supervisée*\n",
    "\n",
    "Nous utiliserons ici comme dans les autres études l'algorithme de `KMeans` pour classifier les différents établissements. Tous les essais avec les différents paramètres n'apparaîtront pas. Seulement les résultats que nosu jugerons les plus importants apparaitront dans la suite."
   ]
  },
  {
   "cell_type": "code",
   "execution_count": 16,
   "metadata": {},
   "outputs": [
    {
     "data": {
      "text/html": [
       "<div>\n",
       "<style scoped>\n",
       "    .dataframe tbody tr th:only-of-type {\n",
       "        vertical-align: middle;\n",
       "    }\n",
       "\n",
       "    .dataframe tbody tr th {\n",
       "        vertical-align: top;\n",
       "    }\n",
       "\n",
       "    .dataframe thead tr th {\n",
       "        text-align: left;\n",
       "    }\n",
       "</style>\n",
       "<table border=\"1\" class=\"dataframe\">\n",
       "  <thead>\n",
       "    <tr>\n",
       "      <th></th>\n",
       "      <th>controleposteriori</th>\n",
       "      <th>diffch_annexeeri</th>\n",
       "      <th>diffch_dossierrentreeenseignants</th>\n",
       "      <th>diffch_crconseiladmin</th>\n",
       "      <th>diffch_diffusionparents</th>\n",
       "      <th>diffch_autres</th>\n",
       "      <th>accesparentcharte</th>\n",
       "    </tr>\n",
       "  </thead>\n",
       "  <tbody>\n",
       "    <tr>\n",
       "      <th>0</th>\n",
       "      <td>0.862903</td>\n",
       "      <td>0.983871</td>\n",
       "      <td>-2.775558e-16</td>\n",
       "      <td>0.040323</td>\n",
       "      <td>3.330669e-16</td>\n",
       "      <td>0.080645</td>\n",
       "      <td>1.000000e+00</td>\n",
       "    </tr>\n",
       "    <tr>\n",
       "      <th>1</th>\n",
       "      <td>0.870968</td>\n",
       "      <td>0.919355</td>\n",
       "      <td>8.548387e-01</td>\n",
       "      <td>0.225806</td>\n",
       "      <td>7.258065e-01</td>\n",
       "      <td>0.258065</td>\n",
       "      <td>2.220446e-16</td>\n",
       "    </tr>\n",
       "    <tr>\n",
       "      <th>2</th>\n",
       "      <td>0.918605</td>\n",
       "      <td>0.976744</td>\n",
       "      <td>7.790698e-01</td>\n",
       "      <td>0.255814</td>\n",
       "      <td>7.674419e-01</td>\n",
       "      <td>0.093023</td>\n",
       "      <td>1.000000e+00</td>\n",
       "    </tr>\n",
       "    <tr>\n",
       "      <th>3</th>\n",
       "      <td>0.864000</td>\n",
       "      <td>0.984000</td>\n",
       "      <td>-3.330669e-16</td>\n",
       "      <td>0.016000</td>\n",
       "      <td>1.665335e-16</td>\n",
       "      <td>0.056000</td>\n",
       "      <td>7.771561e-16</td>\n",
       "    </tr>\n",
       "  </tbody>\n",
       "</table>\n",
       "</div>"
      ],
      "text/plain": [
       "  controleposteriori diffch_annexeeri diffch_dossierrentreeenseignants  \\\n",
       "0           0.862903         0.983871                    -2.775558e-16   \n",
       "1           0.870968         0.919355                     8.548387e-01   \n",
       "2           0.918605         0.976744                     7.790698e-01   \n",
       "3           0.864000         0.984000                    -3.330669e-16   \n",
       "\n",
       "  diffch_crconseiladmin diffch_diffusionparents diffch_autres  \\\n",
       "0              0.040323            3.330669e-16      0.080645   \n",
       "1              0.225806            7.258065e-01      0.258065   \n",
       "2              0.255814            7.674419e-01      0.093023   \n",
       "3              0.016000            1.665335e-16      0.056000   \n",
       "\n",
       "  accesparentcharte  \n",
       "0      1.000000e+00  \n",
       "1      2.220446e-16  \n",
       "2      1.000000e+00  \n",
       "3      7.771561e-16  "
      ]
     },
     "execution_count": 16,
     "metadata": {},
     "output_type": "execute_result"
    }
   ],
   "source": [
    "km_charte = KMeans(\n",
    "    n_clusters=4,\n",
    "    init='k-means++',\n",
    "    n_init=20,\n",
    "    max_iter=300,\n",
    "    random_state=0\n",
    ")\n",
    "\n",
    "y_km_charte = km_charte.fit_predict(df_charte.drop(columns=['sicharteusageweb']))\n",
    "\n",
    "resultat = pd.DataFrame(km_charte.cluster_centers_, columns=[km_charte.feature_names_in_])\n",
    "\n",
    "resultat"
   ]
  },
  {
   "attachments": {},
   "cell_type": "markdown",
   "metadata": {},
   "source": [
    "Nous avons au dessus les moyennes des centres qui vont nous être utiles pour expliquer les caractèristiques de chaque classe et accorder à chaque établissement une note (modalité) pour ce qui concerne des actions mises en place pour un bon usage du numérique et d'internet.\n",
    "\n",
    "Nous allons convertir cela en \"oui\" et \"non\" pour pouvoir interprèter plus facilement ces résultats."
   ]
  },
  {
   "cell_type": "code",
   "execution_count": 17,
   "metadata": {},
   "outputs": [
    {
     "data": {
      "text/html": [
       "<div>\n",
       "<style scoped>\n",
       "    .dataframe tbody tr th:only-of-type {\n",
       "        vertical-align: middle;\n",
       "    }\n",
       "\n",
       "    .dataframe tbody tr th {\n",
       "        vertical-align: top;\n",
       "    }\n",
       "\n",
       "    .dataframe thead tr th {\n",
       "        text-align: left;\n",
       "    }\n",
       "</style>\n",
       "<table border=\"1\" class=\"dataframe\">\n",
       "  <thead>\n",
       "    <tr>\n",
       "      <th></th>\n",
       "      <th>controleposteriori</th>\n",
       "      <th>diffch_annexeeri</th>\n",
       "      <th>diffch_dossierrentreeenseignants</th>\n",
       "      <th>diffch_crconseiladmin</th>\n",
       "      <th>diffch_diffusionparents</th>\n",
       "      <th>diffch_autres</th>\n",
       "      <th>accesparentcharte</th>\n",
       "    </tr>\n",
       "  </thead>\n",
       "  <tbody>\n",
       "    <tr>\n",
       "      <th>0</th>\n",
       "      <td>oui</td>\n",
       "      <td>oui</td>\n",
       "      <td>non</td>\n",
       "      <td>non</td>\n",
       "      <td>non</td>\n",
       "      <td>non</td>\n",
       "      <td>oui</td>\n",
       "    </tr>\n",
       "    <tr>\n",
       "      <th>1</th>\n",
       "      <td>oui</td>\n",
       "      <td>oui</td>\n",
       "      <td>oui</td>\n",
       "      <td>non</td>\n",
       "      <td>oui</td>\n",
       "      <td>non</td>\n",
       "      <td>non</td>\n",
       "    </tr>\n",
       "    <tr>\n",
       "      <th>2</th>\n",
       "      <td>oui</td>\n",
       "      <td>oui</td>\n",
       "      <td>oui</td>\n",
       "      <td>non</td>\n",
       "      <td>oui</td>\n",
       "      <td>non</td>\n",
       "      <td>oui</td>\n",
       "    </tr>\n",
       "    <tr>\n",
       "      <th>3</th>\n",
       "      <td>oui</td>\n",
       "      <td>oui</td>\n",
       "      <td>non</td>\n",
       "      <td>non</td>\n",
       "      <td>non</td>\n",
       "      <td>non</td>\n",
       "      <td>non</td>\n",
       "    </tr>\n",
       "  </tbody>\n",
       "</table>\n",
       "</div>"
      ],
      "text/plain": [
       "  controleposteriori diffch_annexeeri diffch_dossierrentreeenseignants  \\\n",
       "0                oui              oui                              non   \n",
       "1                oui              oui                              oui   \n",
       "2                oui              oui                              oui   \n",
       "3                oui              oui                              non   \n",
       "\n",
       "  diffch_crconseiladmin diffch_diffusionparents diffch_autres  \\\n",
       "0                   non                     non           non   \n",
       "1                   non                     oui           non   \n",
       "2                   non                     oui           non   \n",
       "3                   non                     non           non   \n",
       "\n",
       "  accesparentcharte  \n",
       "0               oui  \n",
       "1               non  \n",
       "2               oui  \n",
       "3               non  "
      ]
     },
     "execution_count": 17,
     "metadata": {},
     "output_type": "execute_result"
    }
   ],
   "source": [
    "def round(row):\n",
    "    if(row > 0.5):\n",
    "        return 1\n",
    "    else:\n",
    "        return 0\n",
    "\n",
    "\n",
    "for col in resultat.columns:\n",
    "    resultat[col] = resultat[col].apply(round)\n",
    "    resultat[col] = resultat[col].replace({0: 'non', 1: 'oui'})\n",
    "    \n",
    "\n",
    "resultat"
   ]
  },
  {
   "attachments": {},
   "cell_type": "markdown",
   "metadata": {},
   "source": [
    "En interprétant les résultats, voici les modalités qui ressortent et à quelles classes elles vont être attribuées.\n",
    "\n",
    "- \"Très bien\" : classe 2  (On a presque \"oui\" partout, c'est le meilleur résultat entre toutes les classes)\n",
    "- \"Bien\" : classe 1\n",
    "- \"Moyen\" : classe 0   (nous accordons moyen à la classe 0 car en moyenne tous les établissements appartenant à ce cluster font un contrôle à posteriori permettant de savoir les sites visités et donc remarquer rapidement si un mauvais usage est fait ou pas)\n",
    "- \"Mauvais\" : classe 3\n",
    "\n",
    "Nous pouvons maintenant affecter à chaque établissement son cluster pour pouvoir avoir une visualisation des données à l'aide d'une ACP et pouvoir par la même occasion si une bonne découpe des classes a été faite."
   ]
  },
  {
   "cell_type": "code",
   "execution_count": 18,
   "metadata": {},
   "outputs": [],
   "source": [
    "df_charte['cluster'] = y_km_charte\n",
    "df_charte['cluster'] = df_charte['cluster'].astype(str)"
   ]
  },
  {
   "attachments": {},
   "cell_type": "markdown",
   "metadata": {},
   "source": [
    "On va d'abord centrer et réduire les données pour avoir une bonne représentation."
   ]
  },
  {
   "cell_type": "code",
   "execution_count": 19,
   "metadata": {},
   "outputs": [
    {
     "data": {
      "application/vnd.plotly.v1+json": {
       "config": {
        "plotlyServerURL": "https://plot.ly"
       },
       "data": [
        {
         "hovertemplate": "color=3<br>PC 1 (28.6%)=%{x}<br>PC 2 (16.9%)=%{y}<extra></extra>",
         "legendgroup": "3",
         "marker": {
          "color": "#636efa",
          "symbol": "circle"
         },
         "mode": "markers",
         "name": "3",
         "orientation": "v",
         "showlegend": true,
         "type": "scatter",
         "x": [
          -1.0753142200144572,
          -1.0753142200144574,
          -1.0753142200144585,
          -1.0753142200144585,
          -1.3207827083811265,
          -1.0753142200144585,
          -1.0753142200144585,
          -1.0753142200144585,
          -1.0753142200144585,
          -1.0753142200144585,
          -1.0753142200144585,
          -1.0753142200144585,
          -1.0753142200144585,
          -1.0753142200144585,
          -1.0753142200144585,
          -1.0753142200144585,
          -1.0753142200144585,
          -1.0753142200144585,
          -1.0753142200144585,
          -1.0753142200144585,
          0.7981209363063638,
          -1.0753142200144585,
          -1.0753142200144585,
          -1.0753142200144585,
          -1.0753142200144585,
          -1.0753142200144585,
          0.7981209363063638,
          -1.0753142200144585,
          -1.3207827083811265,
          -1.0753142200144585,
          -1.0753142200144585,
          -0.5053181860663735,
          -1.3207827083811265,
          -1.0753142200144585,
          -1.0753142200144585,
          -1.3207827083811265,
          -1.0753142200144585,
          -1.0753142200144585,
          -1.0753142200144585,
          -1.0753142200144585,
          0.4440851788440551,
          -1.0753142200144585,
          -1.0753142200144585,
          -1.3207827083811265,
          -1.0753142200144585,
          -1.0753142200144585,
          -1.0753142200144585,
          -1.3207827083811265,
          -1.0753142200144585,
          -1.0753142200144585,
          -1.0753142200144585,
          -0.2598496976997058,
          -1.0753142200144585,
          -1.0753142200144585,
          -1.0753142200144585,
          -1.3207827083811265,
          -1.0753142200144585,
          -1.0753142200144585,
          -1.0753142200144585,
          -1.0753142200144585,
          -1.0753142200144585,
          -1.0753142200144585,
          -1.0753142200144585,
          -1.0753142200144585,
          -1.0753142200144585,
          -1.0753142200144585,
          -1.0753142200144585,
          -1.0753142200144585,
          -1.0753142200144585,
          -1.0753142200144585,
          -1.0753142200144585,
          -1.0753142200144585,
          -0.2598496976997058,
          -1.0753142200144585,
          -1.0753142200144585,
          -1.0753142200144585,
          -1.3207827083811265,
          -1.0753142200144585,
          -1.0753142200144585,
          -1.0753142200144585,
          -1.0753142200144585,
          -1.0753142200144585,
          -1.0753142200144585,
          -1.0753142200144585,
          -1.0753142200144585,
          -0.2598496976997058,
          -1.0753142200144585,
          -1.0753142200144585,
          0.4440851788440551,
          -1.0753142200144585,
          -1.0753142200144585,
          -1.0753142200144585,
          -1.0753142200144585,
          -1.0753142200144585,
          -1.0753142200144585,
          -1.0753142200144585,
          -1.0753142200144585,
          -1.3207827083811265,
          -1.0753142200144585,
          -1.0753142200144585,
          -1.0753142200144585,
          -1.0753142200144585,
          -1.0753142200144585,
          -1.0753142200144585,
          -1.0753142200144585,
          -1.3207827083811265,
          -1.3207827083811265,
          -1.3207827083811265,
          -1.3207827083811265,
          -0.2598496976997058,
          -1.0753142200144585,
          -1.0753142200144585,
          -1.0753142200144585,
          -1.0753142200144585,
          -1.3207827083811265,
          -1.0753142200144585,
          -1.0753142200144585,
          -1.3207827083811265,
          -1.0753142200144585,
          -1.0753142200144585,
          -1.0753142200144585,
          -1.3207827083811265,
          -1.0753142200144585,
          -1.0753142200144585,
          -1.0753142200144585
         ],
         "xaxis": "x",
         "y": [
          0.4041885932265026,
          0.40418859322649364,
          0.4041885932264956,
          0.4041885932264956,
          0.7573465324437921,
          0.4041885932264956,
          0.4041885932264956,
          0.4041885932264956,
          0.4041885932264956,
          0.4041885932264956,
          0.4041885932264956,
          0.4041885932264956,
          0.4041885932264956,
          0.4041885932264956,
          0.4041885932264956,
          0.4041885932264956,
          0.4041885932264956,
          0.4041885932264956,
          0.4041885932264956,
          0.4041885932264956,
          5.951402028819596,
          0.4041885932264956,
          0.4041885932264956,
          0.4041885932264956,
          0.4041885932264956,
          0.4041885932264956,
          5.951402028819596,
          0.4041885932264956,
          0.7573465324437921,
          0.4041885932264956,
          0.4041885932264956,
          2.564203257449702,
          0.7573465324437921,
          0.4041885932264956,
          0.4041885932264956,
          0.7573465324437921,
          0.4041885932264956,
          0.4041885932264956,
          0.4041885932264956,
          0.4041885932264956,
          0.019164447611341128,
          0.4041885932264956,
          0.4041885932264956,
          0.7573465324437921,
          0.4041885932264956,
          0.4041885932264956,
          0.4041885932264956,
          0.7573465324437921,
          0.4041885932264956,
          0.4041885932264956,
          0.4041885932264956,
          2.2110453182324052,
          0.4041885932264956,
          0.4041885932264956,
          0.4041885932264956,
          0.7573465324437921,
          0.4041885932264956,
          0.4041885932264956,
          0.4041885932264956,
          0.4041885932264956,
          0.4041885932264956,
          0.4041885932264956,
          0.4041885932264956,
          0.4041885932264956,
          0.4041885932264956,
          0.4041885932264956,
          0.4041885932264956,
          0.4041885932264956,
          0.4041885932264956,
          0.4041885932264956,
          0.4041885932264956,
          0.4041885932264956,
          2.2110453182324052,
          0.4041885932264956,
          0.4041885932264956,
          0.4041885932264956,
          0.7573465324437921,
          0.4041885932264956,
          0.4041885932264956,
          0.4041885932264956,
          0.4041885932264956,
          0.4041885932264956,
          0.4041885932264956,
          0.4041885932264956,
          0.4041885932264956,
          2.2110453182324052,
          0.4041885932264956,
          0.4041885932264956,
          0.019164447611341128,
          0.4041885932264956,
          0.4041885932264956,
          0.4041885932264956,
          0.4041885932264956,
          0.4041885932264956,
          0.4041885932264956,
          0.4041885932264956,
          0.4041885932264956,
          0.7573465324437921,
          0.4041885932264956,
          0.4041885932264956,
          0.4041885932264956,
          0.4041885932264956,
          0.4041885932264956,
          0.4041885932264956,
          0.4041885932264956,
          0.7573465324437921,
          0.7573465324437921,
          0.7573465324437921,
          0.7573465324437921,
          2.2110453182324052,
          0.4041885932264956,
          0.4041885932264956,
          0.4041885932264956,
          0.4041885932264956,
          0.7573465324437921,
          0.4041885932264956,
          0.4041885932264956,
          0.7573465324437921,
          0.4041885932264956,
          0.4041885932264956,
          0.4041885932264956,
          0.7573465324437921,
          0.4041885932264956,
          0.4041885932264956,
          0.4041885932264956
         ],
         "yaxis": "y"
        },
        {
         "hovertemplate": "color=2<br>PC 1 (28.6%)=%{x}<br>PC 2 (16.9%)=%{y}<extra></extra>",
         "legendgroup": "2",
         "marker": {
          "color": "#EF553B",
          "symbol": "circle"
         },
         "mode": "markers",
         "name": "2",
         "orientation": "v",
         "showlegend": true,
         "type": "scatter",
         "x": [
          0.37177745092643855,
          0.3717774509264505,
          1.1872419732411983,
          1.638993406932971,
          1.638993406932971,
          1.638993406932971,
          1.638993406932971,
          0.3717774509264453,
          3.1583928057914843,
          1.638993406932971,
          0.3517877414526296,
          1.638993406932971,
          1.638993406932971,
          3.1583928057914843,
          0.3517877414526296,
          1.1872419732411983,
          3.1583928057914843,
          2.4544579292477238,
          0.3717774509264453,
          1.638993406932971,
          0.3717774509264453,
          1.638993406932971,
          3.1583928057914843,
          3.1583928057914843,
          3.1583928057914843,
          0.3717774509264453,
          2.9129243174248174,
          1.638993406932971,
          0.3717774509264453,
          3.1583928057914843,
          0.3517877414526296,
          0.3517877414526296,
          1.8711871403111435,
          3.1583928057914843,
          1.8711871403111435,
          1.638993406932971,
          3.973857328106237,
          0.3717774509264453,
          0.10631925308596196,
          0.3717774509264453,
          0.3517877414526296,
          0.3717774509264453,
          2.4544579292477238,
          1.638993406932971,
          2.9129243174248174,
          3.1583928057914843,
          2.4544579292477238,
          1.164289887092032,
          1.4297480849325146,
          0.3517877414526296,
          0.3517877414526296,
          0.3717774509264453,
          0.12630896255977722,
          1.393524918566304,
          1.393524918566304,
          0.3517877414526296,
          0.3517877414526296,
          0.3717774509264453,
          1.638993406932971,
          1.638993406932971,
          1.638993406932971,
          0.3717774509264453,
          3.1583928057914843,
          0.3517877414526296,
          0.3517877414526296,
          1.8911768497849593,
          3.1583928057914843,
          0.3517877414526296,
          0.3517877414526296,
          0.3717774509264453,
          0.3517877414526296,
          0.3517877414526296,
          3.1583928057914843,
          3.1583928057914843,
          1.638993406932971,
          3.1583928057914843,
          1.638993406932971,
          2.4544579292477238,
          1.638993406932971,
          1.638993406932971,
          3.973857328106237,
          1.638993406932971,
          3.1583928057914843,
          1.638993406932971,
          0.3517877414526296,
          1.638993406932971
         ],
         "xaxis": "x",
         "y": [
          -0.8550864031217421,
          -0.8550864031217514,
          0.9517703218841627,
          -1.1431136115670744,
          -1.1431136115670744,
          -1.1431136115670744,
          -1.1431136115670744,
          -0.8550864031217472,
          -1.5281377571822288,
          -1.1431136115670744,
          -0.9150894455695576,
          -1.1431136115670744,
          -1.1431136115670744,
          -1.5281377571822288,
          -0.9150894455695576,
          0.9517703218841627,
          -1.5281377571822288,
          0.6637431134388353,
          -0.8550864031217472,
          -1.1431136115670744,
          -0.8550864031217472,
          -1.1431136115670744,
          -1.5281377571822288,
          -1.5281377571822288,
          -1.5281377571822288,
          -0.8550864031217472,
          -1.1749798179649324,
          -1.1431136115670744,
          -0.8550864031217472,
          -1.5281377571822288,
          -0.9150894455695576,
          -0.9150894455695576,
          -1.3001135911847121,
          -1.5281377571822288,
          -1.3001135911847121,
          -1.1431136115670744,
          0.2787189678236809,
          -0.8550864031217472,
          -0.5619315063522611,
          -0.8550864031217472,
          -0.9150894455695576,
          -0.8550864031217472,
          0.6637431134388353,
          -1.1431136115670744,
          -1.1749798179649324,
          -1.5281377571822288,
          0.6637431134388353,
          3.178425204234931,
          2.8852703074654436,
          -0.9150894455695576,
          -0.9150894455695576,
          -0.8550864031217472,
          -0.5019284639044507,
          -0.7899556723497781,
          -0.7899556723497781,
          -0.9150894455695576,
          -0.9150894455695576,
          -0.8550864031217472,
          -1.1431136115670744,
          -1.1431136115670744,
          -1.1431136115670744,
          -0.8550864031217472,
          -1.5281377571822288,
          -0.9150894455695576,
          -0.9150894455695576,
          -1.2401105487369015,
          -1.5281377571822288,
          -0.9150894455695576,
          -0.9150894455695576,
          -0.8550864031217472,
          -0.9150894455695576,
          -0.9150894455695576,
          -1.5281377571822288,
          -1.5281377571822288,
          -1.1431136115670744,
          -1.5281377571822288,
          -1.1431136115670744,
          0.6637431134388353,
          -1.1431136115670744,
          -1.1431136115670744,
          0.2787189678236809,
          -1.1431136115670744,
          -1.5281377571822288,
          -1.1431136115670744,
          -0.9150894455695576,
          -1.1431136115670744
         ],
         "yaxis": "y"
        },
        {
         "hovertemplate": "color=0<br>PC 1 (28.6%)=%{x}<br>PC 2 (16.9%)=%{y}<extra></extra>",
         "legendgroup": "0",
         "marker": {
          "color": "#00cc96",
          "symbol": "circle"
         },
         "mode": "markers",
         "name": "0",
         "orientation": "v",
         "showlegend": true,
         "type": "scatter",
         "x": [
          -0.9154282145538924,
          -0.9154282145538963,
          -0.9154282145538961,
          -0.9154282145538961,
          -0.9154282145538961,
          -0.9154282145538961,
          -0.9154282145538961,
          -1.1608967029205643,
          -0.9154282145538961,
          -0.9154282145538961,
          -0.09996369223914345,
          -0.9154282145538961,
          -0.9154282145538961,
          1.4194357066193701,
          -0.9154282145538961,
          -1.1608967029205643,
          -0.9154282145538961,
          -1.1608967029205643,
          -0.9154282145538961,
          -0.9154282145538961,
          -0.9154282145538961,
          -1.1608967029205643,
          -0.9154282145538961,
          -0.9154282145538961,
          -0.9154282145538961,
          -0.9154282145538961,
          -0.9154282145538961,
          -0.9154282145538961,
          -0.9154282145538961,
          -0.9154282145538961,
          0.6039711843046174,
          -1.1608967029205643,
          -0.09996369223914345,
          -0.9154282145538961,
          -0.9154282145538961,
          -0.9154282145538961,
          -0.9154282145538961,
          0.6039711843046174,
          -0.9154282145538961,
          -0.9154282145538961,
          -0.9154282145538961,
          -1.1608967029205643,
          -0.9154282145538961,
          -1.1608967029205643,
          -0.9154282145538961,
          -0.9154282145538961,
          -0.9154282145538961,
          -0.09996369223914345,
          -1.1608967029205643,
          -0.9154282145538961,
          -0.9154282145538961,
          -0.9154282145538961,
          -0.9154282145538961,
          -0.9154282145538961,
          -0.9154282145538961,
          -0.9154282145538961,
          -1.1608967029205643,
          -0.9154282145538961,
          -0.9154282145538961,
          0.9580069417669261,
          -0.9154282145538961,
          -0.9154282145538961,
          -0.9154282145538961,
          -0.9154282145538961,
          -1.1608967029205643,
          -1.1608967029205643,
          -0.9154282145538961,
          -0.09996369223914345,
          -0.9154282145538961,
          -0.9154282145538961,
          -0.09996369223914345,
          -0.9154282145538961,
          -1.1608967029205643,
          -1.1608967029205643,
          -1.1608967029205643,
          -1.1608967029205643,
          -0.09996369223914345,
          -0.9154282145538961,
          -0.9154282145538961,
          -0.9154282145538961,
          -0.9154282145538961,
          -0.9154282145538961,
          -0.9154282145538961,
          -0.9154282145538961,
          -0.9154282145538961,
          -0.9154282145538961,
          0.6039711843046174,
          -0.9154282145538961,
          -1.1608967029205643,
          -0.09996369223914345,
          -0.9154282145538961,
          -0.9154282145538961,
          -0.9154282145538961,
          2.4774063406254396,
          -0.9154282145538961,
          -0.9154282145538961,
          -0.9154282145538961,
          -0.9154282145538961,
          -0.9154282145538961,
          -0.9154282145538961,
          -0.9154282145538961,
          -0.9154282145538961,
          -0.9154282145538961,
          -0.9154282145538961,
          -0.9154282145538961,
          -0.9154282145538961,
          -0.9154282145538961,
          -0.9154282145538961,
          -1.1608967029205643,
          -0.9154282145538961,
          -0.9154282145538961,
          -0.9154282145538961,
          -0.9154282145538961,
          -0.9154282145538961,
          -0.9154282145538961,
          -0.9154282145538961,
          -0.9154282145538961,
          -0.9154282145538961,
          -0.9154282145538961,
          -0.9154282145538961,
          -0.9154282145538961,
          -0.9154282145538961,
          -0.9154282145538961,
          -0.9154282145538961
         ],
         "xaxis": "x",
         "y": [
          -0.6270622371242298,
          -0.6270622371242287,
          -0.6270622371242304,
          -0.6270622371242301,
          -0.6270622371242301,
          -0.6270622371242301,
          -0.6270622371242301,
          -0.2739042979069336,
          -0.6270622371242301,
          -0.6270622371242301,
          1.1797944878816795,
          -0.6270622371242301,
          -0.6270622371242301,
          0.7947703422665252,
          -0.6270622371242301,
          -0.2739042979069336,
          -0.6270622371242301,
          -0.2739042979069336,
          -0.6270622371242301,
          -0.6270622371242301,
          -0.6270622371242301,
          -0.2739042979069336,
          -0.6270622371242301,
          -0.6270622371242301,
          -0.6270622371242301,
          -0.6270622371242301,
          -0.6270622371242301,
          -0.6270622371242301,
          -0.6270622371242301,
          -0.6270622371242301,
          -1.0120863827393844,
          -0.2739042979069336,
          1.1797944878816795,
          -0.6270622371242301,
          -0.6270622371242301,
          -0.6270622371242301,
          -0.6270622371242301,
          -1.0120863827393844,
          -0.6270622371242301,
          -0.6270622371242301,
          -0.6270622371242301,
          -0.2739042979069336,
          -0.6270622371242301,
          -0.2739042979069336,
          -0.6270622371242301,
          -0.6270622371242301,
          -0.6270622371242301,
          1.1797944878816795,
          -0.2739042979069336,
          -0.6270622371242301,
          -0.6270622371242301,
          -0.6270622371242301,
          -0.6270622371242301,
          -0.6270622371242301,
          -0.6270622371242301,
          -0.6270622371242301,
          -0.2739042979069336,
          -0.6270622371242301,
          -0.6270622371242301,
          4.92015119846887,
          -0.6270622371242301,
          -0.6270622371242301,
          -0.6270622371242301,
          -0.6270622371242301,
          -0.2739042979069336,
          -0.2739042979069336,
          -0.6270622371242301,
          1.1797944878816795,
          -0.6270622371242301,
          -0.6270622371242301,
          1.1797944878816795,
          -0.6270622371242301,
          -0.2739042979069336,
          -0.2739042979069336,
          -0.2739042979069336,
          -0.2739042979069336,
          1.1797944878816795,
          -0.6270622371242301,
          -0.6270622371242301,
          -0.6270622371242301,
          -0.6270622371242301,
          -0.6270622371242301,
          -0.6270622371242301,
          -0.6270622371242301,
          -0.6270622371242301,
          -0.6270622371242301,
          -1.0120863827393844,
          -0.6270622371242301,
          -0.2739042979069336,
          1.1797944878816795,
          -0.6270622371242301,
          -0.6270622371242301,
          -0.6270622371242301,
          4.535127052853716,
          -0.6270622371242301,
          -0.6270622371242301,
          -0.6270622371242301,
          -0.6270622371242301,
          -0.6270622371242301,
          -0.6270622371242301,
          -0.6270622371242301,
          -0.6270622371242301,
          -0.6270622371242301,
          -0.6270622371242301,
          -0.6270622371242301,
          -0.6270622371242301,
          -0.6270622371242301,
          -0.6270622371242301,
          -0.2739042979069336,
          -0.6270622371242301,
          -0.6270622371242301,
          -0.6270622371242301,
          -0.6270622371242301,
          -0.6270622371242301,
          -0.6270622371242301,
          -0.6270622371242301,
          -0.6270622371242301,
          -0.6270622371242301,
          -0.6270622371242301,
          -0.6270622371242301,
          -0.6270622371242301,
          -0.6270622371242301,
          -0.6270622371242301,
          -0.6270622371242301
         ],
         "yaxis": "y"
        },
        {
         "hovertemplate": "color=1<br>PC 1 (28.6%)=%{x}<br>PC 2 (16.9%)=%{y}<extra></extra>",
         "legendgroup": "1",
         "marker": {
          "color": "#ab63fa",
          "symbol": "circle"
         },
         "mode": "markers",
         "name": "1",
         "orientation": "v",
         "showlegend": true,
         "type": "scatter",
         "x": [
          1.4791074014724086,
          2.537078035478478,
          1.4791074014724086,
          0.19190173599206722,
          1.4791074014724086,
          1.4791074014724086,
          4.056477434336992,
          1.0073662583068201,
          2.2945719237871613,
          2.049103435420494,
          2.291609547111811,
          1.4791074014724086,
          2.9985068003309223,
          1.0273559677806359,
          0.19190173599206722,
          0.21189144546588304,
          4.871941956651745,
          0.21189144546588304,
          1.0073662583068201,
          1.711301134850581,
          3.813971322645674,
          1.4791074014724086,
          1.4791074014724086,
          1.0073662583068201,
          1.711301134850581,
          0.19190173599206722,
          1.0073662583068201,
          2.753038311964255,
          2.9985068003309223,
          0.21189144546588304,
          1.2336389131057415,
          3.813971322645674,
          2.2945719237871613,
          1.711301134850581,
          1.2698620794719524,
          1.4791074014724086,
          1.4791074014724086,
          1.4791074014724086,
          0.19190173599206722,
          0.19190173599206722,
          0.21189144546588304,
          1.4791074014724086,
          1.4791074014724086,
          0.19190173599206722,
          2.9985068003309223,
          1.4791074014724086,
          2.2945719237871613,
          2.9985068003309223,
          0.19190173599206722,
          2.2945719237871613,
          2.2945719237871613,
          0.19190173599206722,
          1.4791074014724086,
          2.9985068003309223,
          0.19190173599206722,
          1.4791074014724086,
          -0.05356675237460037,
          3.813971322645674,
          1.2336389131057415,
          -0.033577042900785094,
          0.21189144546588304,
          0.781887479413968
         ],
         "xaxis": "x",
         "y": [
          -0.11186278121634874,
          3.6284939293708414,
          -0.11186278121634874,
          0.1161613847811682,
          -0.11186278121634874,
          -0.11186278121634874,
          3.2434697837556876,
          1.923018109787078,
          1.6949939437895614,
          2.0481518830068577,
          3.98165186858814,
          -0.11186278121634874,
          -0.4968869268315029,
          1.9830211522348884,
          0.1161613847811682,
          0.1761644272289782,
          5.050326508761597,
          0.1761644272289782,
          1.923018109787078,
          -0.2688627608339861,
          1.309969798174407,
          -0.11186278121634874,
          -0.11186278121634874,
          1.923018109787078,
          -0.2688627608339861,
          0.1161613847811682,
          1.923018109787078,
          -0.14372898761420683,
          -0.4968869268315029,
          0.1761644272289782,
          0.24129515800094778,
          1.309969798174407,
          1.6949939437895614,
          -0.2688627608339861,
          3.9165211378161695,
          -0.11186278121634874,
          -0.11186278121634874,
          -0.11186278121634874,
          0.1161613847811682,
          0.1161613847811682,
          0.1761644272289782,
          -0.11186278121634874,
          -0.11186278121634874,
          0.1161613847811682,
          -0.4968869268315029,
          -0.11186278121634874,
          1.6949939437895614,
          -0.4968869268315029,
          0.1161613847811682,
          1.6949939437895614,
          1.6949939437895614,
          0.1161613847811682,
          -0.11186278121634874,
          -0.4968869268315029,
          0.1161613847811682,
          -0.11186278121634874,
          0.46931932399846465,
          1.309969798174407,
          0.24129515800094778,
          0.5293223664462751,
          0.1761644272289782,
          2.336179091452186
         ],
         "yaxis": "y"
        }
       ],
       "layout": {
        "legend": {
         "title": {
          "text": "color"
         },
         "tracegroupgap": 0
        },
        "margin": {
         "t": 60
        },
        "template": {
         "data": {
          "bar": [
           {
            "error_x": {
             "color": "#2a3f5f"
            },
            "error_y": {
             "color": "#2a3f5f"
            },
            "marker": {
             "line": {
              "color": "#E5ECF6",
              "width": 0.5
             },
             "pattern": {
              "fillmode": "overlay",
              "size": 10,
              "solidity": 0.2
             }
            },
            "type": "bar"
           }
          ],
          "barpolar": [
           {
            "marker": {
             "line": {
              "color": "#E5ECF6",
              "width": 0.5
             },
             "pattern": {
              "fillmode": "overlay",
              "size": 10,
              "solidity": 0.2
             }
            },
            "type": "barpolar"
           }
          ],
          "carpet": [
           {
            "aaxis": {
             "endlinecolor": "#2a3f5f",
             "gridcolor": "white",
             "linecolor": "white",
             "minorgridcolor": "white",
             "startlinecolor": "#2a3f5f"
            },
            "baxis": {
             "endlinecolor": "#2a3f5f",
             "gridcolor": "white",
             "linecolor": "white",
             "minorgridcolor": "white",
             "startlinecolor": "#2a3f5f"
            },
            "type": "carpet"
           }
          ],
          "choropleth": [
           {
            "colorbar": {
             "outlinewidth": 0,
             "ticks": ""
            },
            "type": "choropleth"
           }
          ],
          "contour": [
           {
            "colorbar": {
             "outlinewidth": 0,
             "ticks": ""
            },
            "colorscale": [
             [
              0,
              "#0d0887"
             ],
             [
              0.1111111111111111,
              "#46039f"
             ],
             [
              0.2222222222222222,
              "#7201a8"
             ],
             [
              0.3333333333333333,
              "#9c179e"
             ],
             [
              0.4444444444444444,
              "#bd3786"
             ],
             [
              0.5555555555555556,
              "#d8576b"
             ],
             [
              0.6666666666666666,
              "#ed7953"
             ],
             [
              0.7777777777777778,
              "#fb9f3a"
             ],
             [
              0.8888888888888888,
              "#fdca26"
             ],
             [
              1,
              "#f0f921"
             ]
            ],
            "type": "contour"
           }
          ],
          "contourcarpet": [
           {
            "colorbar": {
             "outlinewidth": 0,
             "ticks": ""
            },
            "type": "contourcarpet"
           }
          ],
          "heatmap": [
           {
            "colorbar": {
             "outlinewidth": 0,
             "ticks": ""
            },
            "colorscale": [
             [
              0,
              "#0d0887"
             ],
             [
              0.1111111111111111,
              "#46039f"
             ],
             [
              0.2222222222222222,
              "#7201a8"
             ],
             [
              0.3333333333333333,
              "#9c179e"
             ],
             [
              0.4444444444444444,
              "#bd3786"
             ],
             [
              0.5555555555555556,
              "#d8576b"
             ],
             [
              0.6666666666666666,
              "#ed7953"
             ],
             [
              0.7777777777777778,
              "#fb9f3a"
             ],
             [
              0.8888888888888888,
              "#fdca26"
             ],
             [
              1,
              "#f0f921"
             ]
            ],
            "type": "heatmap"
           }
          ],
          "heatmapgl": [
           {
            "colorbar": {
             "outlinewidth": 0,
             "ticks": ""
            },
            "colorscale": [
             [
              0,
              "#0d0887"
             ],
             [
              0.1111111111111111,
              "#46039f"
             ],
             [
              0.2222222222222222,
              "#7201a8"
             ],
             [
              0.3333333333333333,
              "#9c179e"
             ],
             [
              0.4444444444444444,
              "#bd3786"
             ],
             [
              0.5555555555555556,
              "#d8576b"
             ],
             [
              0.6666666666666666,
              "#ed7953"
             ],
             [
              0.7777777777777778,
              "#fb9f3a"
             ],
             [
              0.8888888888888888,
              "#fdca26"
             ],
             [
              1,
              "#f0f921"
             ]
            ],
            "type": "heatmapgl"
           }
          ],
          "histogram": [
           {
            "marker": {
             "pattern": {
              "fillmode": "overlay",
              "size": 10,
              "solidity": 0.2
             }
            },
            "type": "histogram"
           }
          ],
          "histogram2d": [
           {
            "colorbar": {
             "outlinewidth": 0,
             "ticks": ""
            },
            "colorscale": [
             [
              0,
              "#0d0887"
             ],
             [
              0.1111111111111111,
              "#46039f"
             ],
             [
              0.2222222222222222,
              "#7201a8"
             ],
             [
              0.3333333333333333,
              "#9c179e"
             ],
             [
              0.4444444444444444,
              "#bd3786"
             ],
             [
              0.5555555555555556,
              "#d8576b"
             ],
             [
              0.6666666666666666,
              "#ed7953"
             ],
             [
              0.7777777777777778,
              "#fb9f3a"
             ],
             [
              0.8888888888888888,
              "#fdca26"
             ],
             [
              1,
              "#f0f921"
             ]
            ],
            "type": "histogram2d"
           }
          ],
          "histogram2dcontour": [
           {
            "colorbar": {
             "outlinewidth": 0,
             "ticks": ""
            },
            "colorscale": [
             [
              0,
              "#0d0887"
             ],
             [
              0.1111111111111111,
              "#46039f"
             ],
             [
              0.2222222222222222,
              "#7201a8"
             ],
             [
              0.3333333333333333,
              "#9c179e"
             ],
             [
              0.4444444444444444,
              "#bd3786"
             ],
             [
              0.5555555555555556,
              "#d8576b"
             ],
             [
              0.6666666666666666,
              "#ed7953"
             ],
             [
              0.7777777777777778,
              "#fb9f3a"
             ],
             [
              0.8888888888888888,
              "#fdca26"
             ],
             [
              1,
              "#f0f921"
             ]
            ],
            "type": "histogram2dcontour"
           }
          ],
          "mesh3d": [
           {
            "colorbar": {
             "outlinewidth": 0,
             "ticks": ""
            },
            "type": "mesh3d"
           }
          ],
          "parcoords": [
           {
            "line": {
             "colorbar": {
              "outlinewidth": 0,
              "ticks": ""
             }
            },
            "type": "parcoords"
           }
          ],
          "pie": [
           {
            "automargin": true,
            "type": "pie"
           }
          ],
          "scatter": [
           {
            "fillpattern": {
             "fillmode": "overlay",
             "size": 10,
             "solidity": 0.2
            },
            "type": "scatter"
           }
          ],
          "scatter3d": [
           {
            "line": {
             "colorbar": {
              "outlinewidth": 0,
              "ticks": ""
             }
            },
            "marker": {
             "colorbar": {
              "outlinewidth": 0,
              "ticks": ""
             }
            },
            "type": "scatter3d"
           }
          ],
          "scattercarpet": [
           {
            "marker": {
             "colorbar": {
              "outlinewidth": 0,
              "ticks": ""
             }
            },
            "type": "scattercarpet"
           }
          ],
          "scattergeo": [
           {
            "marker": {
             "colorbar": {
              "outlinewidth": 0,
              "ticks": ""
             }
            },
            "type": "scattergeo"
           }
          ],
          "scattergl": [
           {
            "marker": {
             "colorbar": {
              "outlinewidth": 0,
              "ticks": ""
             }
            },
            "type": "scattergl"
           }
          ],
          "scattermapbox": [
           {
            "marker": {
             "colorbar": {
              "outlinewidth": 0,
              "ticks": ""
             }
            },
            "type": "scattermapbox"
           }
          ],
          "scatterpolar": [
           {
            "marker": {
             "colorbar": {
              "outlinewidth": 0,
              "ticks": ""
             }
            },
            "type": "scatterpolar"
           }
          ],
          "scatterpolargl": [
           {
            "marker": {
             "colorbar": {
              "outlinewidth": 0,
              "ticks": ""
             }
            },
            "type": "scatterpolargl"
           }
          ],
          "scatterternary": [
           {
            "marker": {
             "colorbar": {
              "outlinewidth": 0,
              "ticks": ""
             }
            },
            "type": "scatterternary"
           }
          ],
          "surface": [
           {
            "colorbar": {
             "outlinewidth": 0,
             "ticks": ""
            },
            "colorscale": [
             [
              0,
              "#0d0887"
             ],
             [
              0.1111111111111111,
              "#46039f"
             ],
             [
              0.2222222222222222,
              "#7201a8"
             ],
             [
              0.3333333333333333,
              "#9c179e"
             ],
             [
              0.4444444444444444,
              "#bd3786"
             ],
             [
              0.5555555555555556,
              "#d8576b"
             ],
             [
              0.6666666666666666,
              "#ed7953"
             ],
             [
              0.7777777777777778,
              "#fb9f3a"
             ],
             [
              0.8888888888888888,
              "#fdca26"
             ],
             [
              1,
              "#f0f921"
             ]
            ],
            "type": "surface"
           }
          ],
          "table": [
           {
            "cells": {
             "fill": {
              "color": "#EBF0F8"
             },
             "line": {
              "color": "white"
             }
            },
            "header": {
             "fill": {
              "color": "#C8D4E3"
             },
             "line": {
              "color": "white"
             }
            },
            "type": "table"
           }
          ]
         },
         "layout": {
          "annotationdefaults": {
           "arrowcolor": "#2a3f5f",
           "arrowhead": 0,
           "arrowwidth": 1
          },
          "autotypenumbers": "strict",
          "coloraxis": {
           "colorbar": {
            "outlinewidth": 0,
            "ticks": ""
           }
          },
          "colorscale": {
           "diverging": [
            [
             0,
             "#8e0152"
            ],
            [
             0.1,
             "#c51b7d"
            ],
            [
             0.2,
             "#de77ae"
            ],
            [
             0.3,
             "#f1b6da"
            ],
            [
             0.4,
             "#fde0ef"
            ],
            [
             0.5,
             "#f7f7f7"
            ],
            [
             0.6,
             "#e6f5d0"
            ],
            [
             0.7,
             "#b8e186"
            ],
            [
             0.8,
             "#7fbc41"
            ],
            [
             0.9,
             "#4d9221"
            ],
            [
             1,
             "#276419"
            ]
           ],
           "sequential": [
            [
             0,
             "#0d0887"
            ],
            [
             0.1111111111111111,
             "#46039f"
            ],
            [
             0.2222222222222222,
             "#7201a8"
            ],
            [
             0.3333333333333333,
             "#9c179e"
            ],
            [
             0.4444444444444444,
             "#bd3786"
            ],
            [
             0.5555555555555556,
             "#d8576b"
            ],
            [
             0.6666666666666666,
             "#ed7953"
            ],
            [
             0.7777777777777778,
             "#fb9f3a"
            ],
            [
             0.8888888888888888,
             "#fdca26"
            ],
            [
             1,
             "#f0f921"
            ]
           ],
           "sequentialminus": [
            [
             0,
             "#0d0887"
            ],
            [
             0.1111111111111111,
             "#46039f"
            ],
            [
             0.2222222222222222,
             "#7201a8"
            ],
            [
             0.3333333333333333,
             "#9c179e"
            ],
            [
             0.4444444444444444,
             "#bd3786"
            ],
            [
             0.5555555555555556,
             "#d8576b"
            ],
            [
             0.6666666666666666,
             "#ed7953"
            ],
            [
             0.7777777777777778,
             "#fb9f3a"
            ],
            [
             0.8888888888888888,
             "#fdca26"
            ],
            [
             1,
             "#f0f921"
            ]
           ]
          },
          "colorway": [
           "#636efa",
           "#EF553B",
           "#00cc96",
           "#ab63fa",
           "#FFA15A",
           "#19d3f3",
           "#FF6692",
           "#B6E880",
           "#FF97FF",
           "#FECB52"
          ],
          "font": {
           "color": "#2a3f5f"
          },
          "geo": {
           "bgcolor": "white",
           "lakecolor": "white",
           "landcolor": "#E5ECF6",
           "showlakes": true,
           "showland": true,
           "subunitcolor": "white"
          },
          "hoverlabel": {
           "align": "left"
          },
          "hovermode": "closest",
          "mapbox": {
           "style": "light"
          },
          "paper_bgcolor": "white",
          "plot_bgcolor": "#E5ECF6",
          "polar": {
           "angularaxis": {
            "gridcolor": "white",
            "linecolor": "white",
            "ticks": ""
           },
           "bgcolor": "#E5ECF6",
           "radialaxis": {
            "gridcolor": "white",
            "linecolor": "white",
            "ticks": ""
           }
          },
          "scene": {
           "xaxis": {
            "backgroundcolor": "#E5ECF6",
            "gridcolor": "white",
            "gridwidth": 2,
            "linecolor": "white",
            "showbackground": true,
            "ticks": "",
            "zerolinecolor": "white"
           },
           "yaxis": {
            "backgroundcolor": "#E5ECF6",
            "gridcolor": "white",
            "gridwidth": 2,
            "linecolor": "white",
            "showbackground": true,
            "ticks": "",
            "zerolinecolor": "white"
           },
           "zaxis": {
            "backgroundcolor": "#E5ECF6",
            "gridcolor": "white",
            "gridwidth": 2,
            "linecolor": "white",
            "showbackground": true,
            "ticks": "",
            "zerolinecolor": "white"
           }
          },
          "shapedefaults": {
           "line": {
            "color": "#2a3f5f"
           }
          },
          "ternary": {
           "aaxis": {
            "gridcolor": "white",
            "linecolor": "white",
            "ticks": ""
           },
           "baxis": {
            "gridcolor": "white",
            "linecolor": "white",
            "ticks": ""
           },
           "bgcolor": "#E5ECF6",
           "caxis": {
            "gridcolor": "white",
            "linecolor": "white",
            "ticks": ""
           }
          },
          "title": {
           "x": 0.05
          },
          "xaxis": {
           "automargin": true,
           "gridcolor": "white",
           "linecolor": "white",
           "ticks": "",
           "title": {
            "standoff": 15
           },
           "zerolinecolor": "white",
           "zerolinewidth": 2
          },
          "yaxis": {
           "automargin": true,
           "gridcolor": "white",
           "linecolor": "white",
           "ticks": "",
           "title": {
            "standoff": 15
           },
           "zerolinecolor": "white",
           "zerolinewidth": 2
          }
         }
        },
        "xaxis": {
         "anchor": "y",
         "domain": [
          0,
          1
         ],
         "title": {
          "text": "PC 1 (28.6%)"
         }
        },
        "yaxis": {
         "anchor": "x",
         "domain": [
          0,
          1
         ],
         "title": {
          "text": "PC 2 (16.9%)"
         }
        }
       }
      }
     },
     "metadata": {},
     "output_type": "display_data"
    }
   ],
   "source": [
    "df_scaled = StandardScaler().fit_transform(df_charte.drop(columns=['sicharteusageweb', 'cluster']))\n",
    "\n",
    "pca_charte = PCA(n_components=2)\n",
    "components = pca_charte.fit_transform(df_scaled)\n",
    "\n",
    "labels = {\n",
    "    str(i): f\"PC {i+1} ({var:.1f}%)\"\n",
    "    for i, var in enumerate(pca_charte.explained_variance_ratio_ * 100)\n",
    "}\n",
    "\n",
    "fig = px.scatter(components, x=0, y=1, color=df_charte.cluster, labels=labels)\n",
    "fig.show()\n"
   ]
  },
  {
   "attachments": {},
   "cell_type": "markdown",
   "metadata": {},
   "source": [
    "Cette ACP restitue 45.4 % de la variance totale. Ceci est bas, il est donc difficile d'interprèter cette ACP.\n",
    "\n",
    "La découpe n'est pas très bonne à ce qu'on peut voir, il n'y a pas réellement de groupes d'individus ou d'établissements atypiques. Cependant on ne peut pas juger cette découpe car la variance totale expliquée est inférieure à 67%.\n",
    "\n",
    "On va essayer de passer en 3 dimensions car peut-être quon récupérera plus d'informations."
   ]
  },
  {
   "cell_type": "code",
   "execution_count": 20,
   "metadata": {},
   "outputs": [
    {
     "data": {
      "application/vnd.plotly.v1+json": {
       "config": {
        "plotlyServerURL": "https://plot.ly"
       },
       "data": [
        {
         "hovertemplate": "color=3<br>PC 1 (28.6%)=%{x}<br>PC 2 (16.9%)=%{y}<br>PC 3 (14.4%)=%{z}<extra></extra>",
         "legendgroup": "3",
         "marker": {
          "color": "#636efa",
          "symbol": "circle"
         },
         "mode": "markers",
         "name": "3",
         "scene": "scene",
         "showlegend": true,
         "type": "scatter3d",
         "x": [
          -1.0753142200144572,
          -1.0753142200144574,
          -1.0753142200144585,
          -1.0753142200144585,
          -1.3207827083811265,
          -1.0753142200144585,
          -1.0753142200144585,
          -1.0753142200144585,
          -1.0753142200144585,
          -1.0753142200144585,
          -1.0753142200144585,
          -1.0753142200144585,
          -1.0753142200144585,
          -1.0753142200144585,
          -1.0753142200144585,
          -1.0753142200144585,
          -1.0753142200144585,
          -1.0753142200144585,
          -1.0753142200144585,
          -1.0753142200144585,
          0.7981209363063638,
          -1.0753142200144585,
          -1.0753142200144585,
          -1.0753142200144585,
          -1.0753142200144585,
          -1.0753142200144585,
          0.7981209363063638,
          -1.0753142200144585,
          -1.3207827083811265,
          -1.0753142200144585,
          -1.0753142200144585,
          -0.5053181860663735,
          -1.3207827083811265,
          -1.0753142200144585,
          -1.0753142200144585,
          -1.3207827083811265,
          -1.0753142200144585,
          -1.0753142200144585,
          -1.0753142200144585,
          -1.0753142200144585,
          0.4440851788440551,
          -1.0753142200144585,
          -1.0753142200144585,
          -1.3207827083811265,
          -1.0753142200144585,
          -1.0753142200144585,
          -1.0753142200144585,
          -1.3207827083811265,
          -1.0753142200144585,
          -1.0753142200144585,
          -1.0753142200144585,
          -0.2598496976997058,
          -1.0753142200144585,
          -1.0753142200144585,
          -1.0753142200144585,
          -1.3207827083811265,
          -1.0753142200144585,
          -1.0753142200144585,
          -1.0753142200144585,
          -1.0753142200144585,
          -1.0753142200144585,
          -1.0753142200144585,
          -1.0753142200144585,
          -1.0753142200144585,
          -1.0753142200144585,
          -1.0753142200144585,
          -1.0753142200144585,
          -1.0753142200144585,
          -1.0753142200144585,
          -1.0753142200144585,
          -1.0753142200144585,
          -1.0753142200144585,
          -0.2598496976997058,
          -1.0753142200144585,
          -1.0753142200144585,
          -1.0753142200144585,
          -1.3207827083811265,
          -1.0753142200144585,
          -1.0753142200144585,
          -1.0753142200144585,
          -1.0753142200144585,
          -1.0753142200144585,
          -1.0753142200144585,
          -1.0753142200144585,
          -1.0753142200144585,
          -0.2598496976997058,
          -1.0753142200144585,
          -1.0753142200144585,
          0.4440851788440551,
          -1.0753142200144585,
          -1.0753142200144585,
          -1.0753142200144585,
          -1.0753142200144585,
          -1.0753142200144585,
          -1.0753142200144585,
          -1.0753142200144585,
          -1.0753142200144585,
          -1.3207827083811265,
          -1.0753142200144585,
          -1.0753142200144585,
          -1.0753142200144585,
          -1.0753142200144585,
          -1.0753142200144585,
          -1.0753142200144585,
          -1.0753142200144585,
          -1.3207827083811265,
          -1.3207827083811265,
          -1.3207827083811265,
          -1.3207827083811265,
          -0.2598496976997058,
          -1.0753142200144585,
          -1.0753142200144585,
          -1.0753142200144585,
          -1.0753142200144585,
          -1.3207827083811265,
          -1.0753142200144585,
          -1.0753142200144585,
          -1.3207827083811265,
          -1.0753142200144585,
          -1.0753142200144585,
          -1.0753142200144585,
          -1.3207827083811265,
          -1.0753142200144585,
          -1.0753142200144585,
          -1.0753142200144585
         ],
         "y": [
          0.4041885932265026,
          0.40418859322649364,
          0.4041885932264956,
          0.4041885932264956,
          0.7573465324437921,
          0.4041885932264956,
          0.4041885932264956,
          0.4041885932264956,
          0.4041885932264956,
          0.4041885932264956,
          0.4041885932264956,
          0.4041885932264956,
          0.4041885932264956,
          0.4041885932264956,
          0.4041885932264956,
          0.4041885932264956,
          0.4041885932264956,
          0.4041885932264956,
          0.4041885932264956,
          0.4041885932264956,
          5.951402028819596,
          0.4041885932264956,
          0.4041885932264956,
          0.4041885932264956,
          0.4041885932264956,
          0.4041885932264956,
          5.951402028819596,
          0.4041885932264956,
          0.7573465324437921,
          0.4041885932264956,
          0.4041885932264956,
          2.564203257449702,
          0.7573465324437921,
          0.4041885932264956,
          0.4041885932264956,
          0.7573465324437921,
          0.4041885932264956,
          0.4041885932264956,
          0.4041885932264956,
          0.4041885932264956,
          0.019164447611341128,
          0.4041885932264956,
          0.4041885932264956,
          0.7573465324437921,
          0.4041885932264956,
          0.4041885932264956,
          0.4041885932264956,
          0.7573465324437921,
          0.4041885932264956,
          0.4041885932264956,
          0.4041885932264956,
          2.2110453182324052,
          0.4041885932264956,
          0.4041885932264956,
          0.4041885932264956,
          0.7573465324437921,
          0.4041885932264956,
          0.4041885932264956,
          0.4041885932264956,
          0.4041885932264956,
          0.4041885932264956,
          0.4041885932264956,
          0.4041885932264956,
          0.4041885932264956,
          0.4041885932264956,
          0.4041885932264956,
          0.4041885932264956,
          0.4041885932264956,
          0.4041885932264956,
          0.4041885932264956,
          0.4041885932264956,
          0.4041885932264956,
          2.2110453182324052,
          0.4041885932264956,
          0.4041885932264956,
          0.4041885932264956,
          0.7573465324437921,
          0.4041885932264956,
          0.4041885932264956,
          0.4041885932264956,
          0.4041885932264956,
          0.4041885932264956,
          0.4041885932264956,
          0.4041885932264956,
          0.4041885932264956,
          2.2110453182324052,
          0.4041885932264956,
          0.4041885932264956,
          0.019164447611341128,
          0.4041885932264956,
          0.4041885932264956,
          0.4041885932264956,
          0.4041885932264956,
          0.4041885932264956,
          0.4041885932264956,
          0.4041885932264956,
          0.4041885932264956,
          0.7573465324437921,
          0.4041885932264956,
          0.4041885932264956,
          0.4041885932264956,
          0.4041885932264956,
          0.4041885932264956,
          0.4041885932264956,
          0.4041885932264956,
          0.7573465324437921,
          0.7573465324437921,
          0.7573465324437921,
          0.7573465324437921,
          2.2110453182324052,
          0.4041885932264956,
          0.4041885932264956,
          0.4041885932264956,
          0.4041885932264956,
          0.7573465324437921,
          0.4041885932264956,
          0.4041885932264956,
          0.7573465324437921,
          0.4041885932264956,
          0.4041885932264956,
          0.4041885932264956,
          0.7573465324437921,
          0.4041885932264956,
          0.4041885932264956,
          0.4041885932264956
         ],
         "z": [
          -0.37136978673800625,
          -0.37136978673800647,
          -0.3713697867380058,
          -0.3713697867380058,
          2.52114008422188,
          -0.3713697867380058,
          -0.3713697867380058,
          -0.3713697867380058,
          -0.3713697867380058,
          -0.3713697867380058,
          -0.3713697867380058,
          -0.3713697867380058,
          -0.3713697867380058,
          -0.3713697867380058,
          -0.3713697867380058,
          -0.3713697867380058,
          -0.3713697867380058,
          -0.3713697867380058,
          -0.3713697867380058,
          -0.3713697867380058,
          -0.8865891267234055,
          -0.3713697867380058,
          -0.3713697867380058,
          -0.3713697867380058,
          -0.3713697867380058,
          -0.3713697867380058,
          -0.8865891267234055,
          -0.3713697867380058,
          2.52114008422188,
          -0.3713697867380058,
          -0.3713697867380058,
          1.6763403623932498,
          2.52114008422188,
          -0.3713697867380058,
          -0.3713697867380058,
          2.52114008422188,
          -0.3713697867380058,
          -0.3713697867380058,
          -0.3713697867380058,
          -0.3713697867380058,
          -0.2892485720098795,
          -0.3713697867380058,
          -0.3713697867380058,
          2.52114008422188,
          -0.3713697867380058,
          -0.3713697867380058,
          -0.3713697867380058,
          2.52114008422188,
          -0.3713697867380058,
          -0.3713697867380058,
          -0.3713697867380058,
          -1.2161695085666357,
          -0.3713697867380058,
          -0.3713697867380058,
          -0.3713697867380058,
          2.52114008422188,
          -0.3713697867380058,
          -0.3713697867380058,
          -0.3713697867380058,
          -0.3713697867380058,
          -0.3713697867380058,
          -0.3713697867380058,
          -0.3713697867380058,
          -0.3713697867380058,
          -0.3713697867380058,
          -0.3713697867380058,
          -0.3713697867380058,
          -0.3713697867380058,
          -0.3713697867380058,
          -0.3713697867380058,
          -0.3713697867380058,
          -0.3713697867380058,
          -1.2161695085666357,
          -0.3713697867380058,
          -0.3713697867380058,
          -0.3713697867380058,
          2.52114008422188,
          -0.3713697867380058,
          -0.3713697867380058,
          -0.3713697867380058,
          -0.3713697867380058,
          -0.3713697867380058,
          -0.3713697867380058,
          -0.3713697867380058,
          -0.3713697867380058,
          -1.2161695085666357,
          -0.3713697867380058,
          -0.3713697867380058,
          -0.2892485720098795,
          -0.3713697867380058,
          -0.3713697867380058,
          -0.3713697867380058,
          -0.3713697867380058,
          -0.3713697867380058,
          -0.3713697867380058,
          -0.3713697867380058,
          -0.3713697867380058,
          2.52114008422188,
          -0.3713697867380058,
          -0.3713697867380058,
          -0.3713697867380058,
          -0.3713697867380058,
          -0.3713697867380058,
          -0.3713697867380058,
          -0.3713697867380058,
          2.52114008422188,
          2.52114008422188,
          2.52114008422188,
          2.52114008422188,
          -1.2161695085666357,
          -0.3713697867380058,
          -0.3713697867380058,
          -0.3713697867380058,
          -0.3713697867380058,
          2.52114008422188,
          -0.3713697867380058,
          -0.3713697867380058,
          2.52114008422188,
          -0.3713697867380058,
          -0.3713697867380058,
          -0.3713697867380058,
          2.52114008422188,
          -0.3713697867380058,
          -0.3713697867380058,
          -0.3713697867380058
         ]
        },
        {
         "hovertemplate": "color=2<br>PC 1 (28.6%)=%{x}<br>PC 2 (16.9%)=%{y}<br>PC 3 (14.4%)=%{z}<extra></extra>",
         "legendgroup": "2",
         "marker": {
          "color": "#EF553B",
          "symbol": "circle"
         },
         "mode": "markers",
         "name": "2",
         "scene": "scene",
         "showlegend": true,
         "type": "scatter3d",
         "x": [
          0.37177745092643855,
          0.3717774509264505,
          1.1872419732411983,
          1.638993406932971,
          1.638993406932971,
          1.638993406932971,
          1.638993406932971,
          0.3717774509264453,
          3.1583928057914843,
          1.638993406932971,
          0.3517877414526296,
          1.638993406932971,
          1.638993406932971,
          3.1583928057914843,
          0.3517877414526296,
          1.1872419732411983,
          3.1583928057914843,
          2.4544579292477238,
          0.3717774509264453,
          1.638993406932971,
          0.3717774509264453,
          1.638993406932971,
          3.1583928057914843,
          3.1583928057914843,
          3.1583928057914843,
          0.3717774509264453,
          2.9129243174248174,
          1.638993406932971,
          0.3717774509264453,
          3.1583928057914843,
          0.3517877414526296,
          0.3517877414526296,
          1.8711871403111435,
          3.1583928057914843,
          1.8711871403111435,
          1.638993406932971,
          3.973857328106237,
          0.3717774509264453,
          0.10631925308596196,
          0.3717774509264453,
          0.3517877414526296,
          0.3717774509264453,
          2.4544579292477238,
          1.638993406932971,
          2.9129243174248174,
          3.1583928057914843,
          2.4544579292477238,
          1.164289887092032,
          1.4297480849325146,
          0.3517877414526296,
          0.3517877414526296,
          0.3717774509264453,
          0.12630896255977722,
          1.393524918566304,
          1.393524918566304,
          0.3517877414526296,
          0.3517877414526296,
          0.3717774509264453,
          1.638993406932971,
          1.638993406932971,
          1.638993406932971,
          0.3717774509264453,
          3.1583928057914843,
          0.3517877414526296,
          0.3517877414526296,
          1.8911768497849593,
          3.1583928057914843,
          0.3517877414526296,
          0.3517877414526296,
          0.3717774509264453,
          0.3517877414526296,
          0.3517877414526296,
          3.1583928057914843,
          3.1583928057914843,
          1.638993406932971,
          3.1583928057914843,
          1.638993406932971,
          2.4544579292477238,
          1.638993406932971,
          1.638993406932971,
          3.973857328106237,
          1.638993406932971,
          3.1583928057914843,
          1.638993406932971,
          0.3517877414526296,
          1.638993406932971
         ],
         "y": [
          -0.8550864031217421,
          -0.8550864031217514,
          0.9517703218841627,
          -1.1431136115670744,
          -1.1431136115670744,
          -1.1431136115670744,
          -1.1431136115670744,
          -0.8550864031217472,
          -1.5281377571822288,
          -1.1431136115670744,
          -0.9150894455695576,
          -1.1431136115670744,
          -1.1431136115670744,
          -1.5281377571822288,
          -0.9150894455695576,
          0.9517703218841627,
          -1.5281377571822288,
          0.6637431134388353,
          -0.8550864031217472,
          -1.1431136115670744,
          -0.8550864031217472,
          -1.1431136115670744,
          -1.5281377571822288,
          -1.5281377571822288,
          -1.5281377571822288,
          -0.8550864031217472,
          -1.1749798179649324,
          -1.1431136115670744,
          -0.8550864031217472,
          -1.5281377571822288,
          -0.9150894455695576,
          -0.9150894455695576,
          -1.3001135911847121,
          -1.5281377571822288,
          -1.3001135911847121,
          -1.1431136115670744,
          0.2787189678236809,
          -0.8550864031217472,
          -0.5619315063522611,
          -0.8550864031217472,
          -0.9150894455695576,
          -0.8550864031217472,
          0.6637431134388353,
          -1.1431136115670744,
          -1.1749798179649324,
          -1.5281377571822288,
          0.6637431134388353,
          3.178425204234931,
          2.8852703074654436,
          -0.9150894455695576,
          -0.9150894455695576,
          -0.8550864031217472,
          -0.5019284639044507,
          -0.7899556723497781,
          -0.7899556723497781,
          -0.9150894455695576,
          -0.9150894455695576,
          -0.8550864031217472,
          -1.1431136115670744,
          -1.1431136115670744,
          -1.1431136115670744,
          -0.8550864031217472,
          -1.5281377571822288,
          -0.9150894455695576,
          -0.9150894455695576,
          -1.2401105487369015,
          -1.5281377571822288,
          -0.9150894455695576,
          -0.9150894455695576,
          -0.8550864031217472,
          -0.9150894455695576,
          -0.9150894455695576,
          -1.5281377571822288,
          -1.5281377571822288,
          -1.1431136115670744,
          -1.5281377571822288,
          -1.1431136115670744,
          0.6637431134388353,
          -1.1431136115670744,
          -1.1431136115670744,
          0.2787189678236809,
          -1.1431136115670744,
          -1.5281377571822288,
          -1.1431136115670744,
          -0.9150894455695576,
          -1.1431136115670744
         ],
         "z": [
          -0.21357937667990093,
          -0.21357937667989543,
          -1.0583790985085273,
          -0.001692690370135146,
          -0.001692690370135146,
          -0.001692690370135146,
          -0.001692690370135146,
          -0.21357937667989718,
          0.08042852435799107,
          -0.001692690370135146,
          -0.2580702120876245,
          -0.001692690370135146,
          -0.001692690370135146,
          0.08042852435799107,
          -0.2580702120876245,
          -1.0583790985085273,
          0.08042852435799107,
          -0.8464924121987651,
          -0.21357937667989718,
          -0.001692690370135146,
          -0.21357937667989718,
          -0.001692690370135146,
          0.08042852435799107,
          0.08042852435799107,
          0.08042852435799107,
          -0.21357937667989718,
          2.9729383953178767,
          -0.001692690370135146,
          -0.21357937667989718,
          0.08042852435799107,
          -0.2580702120876245,
          -0.2580702120876245,
          -0.17594899735949815,
          0.08042852435799107,
          -0.17594899735949815,
          -0.001692690370135146,
          -0.7643711974706388,
          -0.21357937667989718,
          2.634439658872261,
          -0.21357937667989718,
          -0.2580702120876245,
          -0.21357937667989718,
          -0.8464924121987651,
          -0.001692690370135146,
          2.9729383953178767,
          0.08042852435799107,
          -0.8464924121987651,
          2.964020040715492,
          0.11600100516333299,
          -0.2580702120876245,
          -0.2580702120876245,
          -0.21357937667989718,
          2.6789304942799887,
          2.8908171805897505,
          2.8908171805897505,
          -0.2580702120876245,
          -0.2580702120876245,
          -0.21357937667989718,
          -0.001692690370135146,
          -0.001692690370135146,
          -0.001692690370135146,
          -0.21357937667989718,
          0.08042852435799107,
          -0.2580702120876245,
          -0.2580702120876245,
          -0.13145816195177085,
          0.08042852435799107,
          -0.2580702120876245,
          -0.2580702120876245,
          -0.21357937667989718,
          -0.2580702120876245,
          -0.2580702120876245,
          0.08042852435799107,
          0.08042852435799107,
          -0.001692690370135146,
          0.08042852435799107,
          -0.001692690370135146,
          -0.8464924121987651,
          -0.001692690370135146,
          -0.001692690370135146,
          -0.7643711974706388,
          -0.001692690370135146,
          0.08042852435799107,
          -0.001692690370135146,
          -0.2580702120876245,
          -0.001692690370135198
         ]
        },
        {
         "hovertemplate": "color=0<br>PC 1 (28.6%)=%{x}<br>PC 2 (16.9%)=%{y}<br>PC 3 (14.4%)=%{z}<extra></extra>",
         "legendgroup": "0",
         "marker": {
          "color": "#00cc96",
          "symbol": "circle"
         },
         "mode": "markers",
         "name": "0",
         "scene": "scene",
         "showlegend": true,
         "type": "scatter3d",
         "x": [
          -0.9154282145538924,
          -0.9154282145538963,
          -0.9154282145538961,
          -0.9154282145538961,
          -0.9154282145538961,
          -0.9154282145538961,
          -0.9154282145538961,
          -1.1608967029205643,
          -0.9154282145538961,
          -0.9154282145538961,
          -0.09996369223914345,
          -0.9154282145538961,
          -0.9154282145538961,
          1.4194357066193701,
          -0.9154282145538961,
          -1.1608967029205643,
          -0.9154282145538961,
          -1.1608967029205643,
          -0.9154282145538961,
          -0.9154282145538961,
          -0.9154282145538961,
          -1.1608967029205643,
          -0.9154282145538961,
          -0.9154282145538961,
          -0.9154282145538961,
          -0.9154282145538961,
          -0.9154282145538961,
          -0.9154282145538961,
          -0.9154282145538961,
          -0.9154282145538961,
          0.6039711843046174,
          -1.1608967029205643,
          -0.09996369223914345,
          -0.9154282145538961,
          -0.9154282145538961,
          -0.9154282145538961,
          -0.9154282145538961,
          0.6039711843046174,
          -0.9154282145538961,
          -0.9154282145538961,
          -0.9154282145538961,
          -1.1608967029205643,
          -0.9154282145538961,
          -1.1608967029205643,
          -0.9154282145538961,
          -0.9154282145538961,
          -0.9154282145538961,
          -0.09996369223914345,
          -1.1608967029205643,
          -0.9154282145538961,
          -0.9154282145538961,
          -0.9154282145538961,
          -0.9154282145538961,
          -0.9154282145538961,
          -0.9154282145538961,
          -0.9154282145538961,
          -1.1608967029205643,
          -0.9154282145538961,
          -0.9154282145538961,
          0.9580069417669261,
          -0.9154282145538961,
          -0.9154282145538961,
          -0.9154282145538961,
          -0.9154282145538961,
          -1.1608967029205643,
          -1.1608967029205643,
          -0.9154282145538961,
          -0.09996369223914345,
          -0.9154282145538961,
          -0.9154282145538961,
          -0.09996369223914345,
          -0.9154282145538961,
          -1.1608967029205643,
          -1.1608967029205643,
          -1.1608967029205643,
          -1.1608967029205643,
          -0.09996369223914345,
          -0.9154282145538961,
          -0.9154282145538961,
          -0.9154282145538961,
          -0.9154282145538961,
          -0.9154282145538961,
          -0.9154282145538961,
          -0.9154282145538961,
          -0.9154282145538961,
          -0.9154282145538961,
          0.6039711843046174,
          -0.9154282145538961,
          -1.1608967029205643,
          -0.09996369223914345,
          -0.9154282145538961,
          -0.9154282145538961,
          -0.9154282145538961,
          2.4774063406254396,
          -0.9154282145538961,
          -0.9154282145538961,
          -0.9154282145538961,
          -0.9154282145538961,
          -0.9154282145538961,
          -0.9154282145538961,
          -0.9154282145538961,
          -0.9154282145538961,
          -0.9154282145538961,
          -0.9154282145538961,
          -0.9154282145538961,
          -0.9154282145538961,
          -0.9154282145538961,
          -0.9154282145538961,
          -1.1608967029205643,
          -0.9154282145538961,
          -0.9154282145538961,
          -0.9154282145538961,
          -0.9154282145538961,
          -0.9154282145538961,
          -0.9154282145538961,
          -0.9154282145538961,
          -0.9154282145538961,
          -0.9154282145538961,
          -0.9154282145538961,
          -0.9154282145538961,
          -0.9154282145538961,
          -0.9154282145538961,
          -0.9154282145538961,
          -0.9154282145538961
         ],
         "y": [
          -0.6270622371242298,
          -0.6270622371242287,
          -0.6270622371242304,
          -0.6270622371242301,
          -0.6270622371242301,
          -0.6270622371242301,
          -0.6270622371242301,
          -0.2739042979069336,
          -0.6270622371242301,
          -0.6270622371242301,
          1.1797944878816795,
          -0.6270622371242301,
          -0.6270622371242301,
          0.7947703422665252,
          -0.6270622371242301,
          -0.2739042979069336,
          -0.6270622371242301,
          -0.2739042979069336,
          -0.6270622371242301,
          -0.6270622371242301,
          -0.6270622371242301,
          -0.2739042979069336,
          -0.6270622371242301,
          -0.6270622371242301,
          -0.6270622371242301,
          -0.6270622371242301,
          -0.6270622371242301,
          -0.6270622371242301,
          -0.6270622371242301,
          -0.6270622371242301,
          -1.0120863827393844,
          -0.2739042979069336,
          1.1797944878816795,
          -0.6270622371242301,
          -0.6270622371242301,
          -0.6270622371242301,
          -0.6270622371242301,
          -1.0120863827393844,
          -0.6270622371242301,
          -0.6270622371242301,
          -0.6270622371242301,
          -0.2739042979069336,
          -0.6270622371242301,
          -0.2739042979069336,
          -0.6270622371242301,
          -0.6270622371242301,
          -0.6270622371242301,
          1.1797944878816795,
          -0.2739042979069336,
          -0.6270622371242301,
          -0.6270622371242301,
          -0.6270622371242301,
          -0.6270622371242301,
          -0.6270622371242301,
          -0.6270622371242301,
          -0.6270622371242301,
          -0.2739042979069336,
          -0.6270622371242301,
          -0.6270622371242301,
          4.92015119846887,
          -0.6270622371242301,
          -0.6270622371242301,
          -0.6270622371242301,
          -0.6270622371242301,
          -0.2739042979069336,
          -0.2739042979069336,
          -0.6270622371242301,
          1.1797944878816795,
          -0.6270622371242301,
          -0.6270622371242301,
          1.1797944878816795,
          -0.6270622371242301,
          -0.2739042979069336,
          -0.2739042979069336,
          -0.2739042979069336,
          -0.2739042979069336,
          1.1797944878816795,
          -0.6270622371242301,
          -0.6270622371242301,
          -0.6270622371242301,
          -0.6270622371242301,
          -0.6270622371242301,
          -0.6270622371242301,
          -0.6270622371242301,
          -0.6270622371242301,
          -0.6270622371242301,
          -1.0120863827393844,
          -0.6270622371242301,
          -0.2739042979069336,
          1.1797944878816795,
          -0.6270622371242301,
          -0.6270622371242301,
          -0.6270622371242301,
          4.535127052853716,
          -0.6270622371242301,
          -0.6270622371242301,
          -0.6270622371242301,
          -0.6270622371242301,
          -0.6270622371242301,
          -0.6270622371242301,
          -0.6270622371242301,
          -0.6270622371242301,
          -0.6270622371242301,
          -0.6270622371242301,
          -0.6270622371242301,
          -0.6270622371242301,
          -0.6270622371242301,
          -0.6270622371242301,
          -0.2739042979069336,
          -0.6270622371242301,
          -0.6270622371242301,
          -0.6270622371242301,
          -0.6270622371242301,
          -0.6270622371242301,
          -0.6270622371242301,
          -0.6270622371242301,
          -0.6270622371242301,
          -0.6270622371242301,
          -0.6270622371242301,
          -0.6270622371242301,
          -0.6270622371242301,
          -0.6270622371242301,
          -0.6270622371242301,
          -0.6270622371242301
         ],
         "z": [
          -0.46995689839738575,
          -0.46995689839738647,
          -0.4699568983973866,
          -0.4699568983973865,
          -0.4699568983973865,
          -0.4699568983973865,
          -0.4699568983973865,
          2.4225529725624995,
          -0.4699568983973865,
          -0.4699568983973865,
          -1.3147566202260166,
          -0.4699568983973865,
          -0.4699568983973865,
          -1.2326354054978903,
          -0.4699568983973865,
          2.4225529725624995,
          -0.4699568983973865,
          2.4225529725624995,
          -0.4699568983973865,
          -0.4699568983973865,
          -0.4699568983973865,
          2.4225529725624995,
          -0.4699568983973865,
          -0.4699568983973865,
          -0.4699568983973865,
          -0.4699568983973865,
          -0.4699568983973865,
          -0.4699568983973865,
          -0.4699568983973865,
          -0.4699568983973865,
          -0.3878356836692602,
          2.4225529725624995,
          -1.3147566202260166,
          -0.4699568983973865,
          -0.4699568983973865,
          -0.4699568983973865,
          -0.4699568983973865,
          -0.3878356836692602,
          -0.4699568983973865,
          -0.4699568983973865,
          -0.4699568983973865,
          2.4225529725624995,
          -0.4699568983973865,
          2.4225529725624995,
          -0.4699568983973865,
          -0.4699568983973865,
          -0.4699568983973865,
          -1.3147566202260166,
          2.4225529725624995,
          -0.4699568983973865,
          -0.4699568983973865,
          -0.4699568983973865,
          -0.4699568983973865,
          -0.4699568983973865,
          -0.4699568983973865,
          -0.4699568983973865,
          2.4225529725624995,
          -0.4699568983973865,
          -0.4699568983973865,
          -0.9851762383827863,
          -0.4699568983973865,
          -0.4699568983973865,
          -0.4699568983973865,
          -0.4699568983973865,
          2.4225529725624995,
          2.4225529725624995,
          -0.4699568983973865,
          -1.3147566202260166,
          -0.4699568983973865,
          -0.4699568983973865,
          -1.3147566202260166,
          -0.4699568983973865,
          2.4225529725624995,
          2.4225529725624995,
          2.4225529725624995,
          2.4225529725624995,
          -1.3147566202260166,
          -0.4699568983973865,
          -0.4699568983973865,
          -0.4699568983973865,
          -0.4699568983973865,
          -0.4699568983973865,
          -0.4699568983973865,
          -0.4699568983973865,
          -0.4699568983973865,
          -0.4699568983973865,
          -0.3878356836692602,
          -0.4699568983973865,
          2.4225529725624995,
          -1.3147566202260166,
          -0.4699568983973865,
          -0.4699568983973865,
          -0.4699568983973865,
          -0.90305502365466,
          -0.4699568983973865,
          -0.4699568983973865,
          -0.4699568983973865,
          -0.4699568983973865,
          -0.4699568983973865,
          -0.4699568983973865,
          -0.4699568983973865,
          -0.4699568983973865,
          -0.4699568983973865,
          -0.4699568983973865,
          -0.4699568983973865,
          -0.4699568983973865,
          -0.4699568983973865,
          -0.4699568983973865,
          2.4225529725624995,
          -0.4699568983973865,
          -0.4699568983973865,
          -0.4699568983973865,
          -0.4699568983973865,
          -0.4699568983973865,
          -0.4699568983973865,
          -0.4699568983973865,
          -0.4699568983973865,
          -0.4699568983973865,
          -0.4699568983973865,
          -0.4699568983973865,
          -0.4699568983973865,
          -0.4699568983973865,
          -0.4699568983973865,
          -0.4699568983973865
         ]
        },
        {
         "hovertemplate": "color=1<br>PC 1 (28.6%)=%{x}<br>PC 2 (16.9%)=%{y}<br>PC 3 (14.4%)=%{z}<extra></extra>",
         "legendgroup": "1",
         "marker": {
          "color": "#ab63fa",
          "symbol": "circle"
         },
         "mode": "markers",
         "name": "1",
         "scene": "scene",
         "showlegend": true,
         "type": "scatter3d",
         "x": [
          1.4791074014724086,
          2.537078035478478,
          1.4791074014724086,
          0.19190173599206722,
          1.4791074014724086,
          1.4791074014724086,
          4.056477434336992,
          1.0073662583068201,
          2.2945719237871613,
          2.049103435420494,
          2.291609547111811,
          1.4791074014724086,
          2.9985068003309223,
          1.0273559677806359,
          0.19190173599206722,
          0.21189144546588304,
          4.871941956651745,
          0.21189144546588304,
          1.0073662583068201,
          1.711301134850581,
          3.813971322645674,
          1.4791074014724086,
          1.4791074014724086,
          1.0073662583068201,
          1.711301134850581,
          0.19190173599206722,
          1.0073662583068201,
          2.753038311964255,
          2.9985068003309223,
          0.21189144546588304,
          1.2336389131057415,
          3.813971322645674,
          2.2945719237871613,
          1.711301134850581,
          1.2698620794719524,
          1.4791074014724086,
          1.4791074014724086,
          1.4791074014724086,
          0.19190173599206722,
          0.19190173599206722,
          0.21189144546588304,
          1.4791074014724086,
          1.4791074014724086,
          0.19190173599206722,
          2.9985068003309223,
          1.4791074014724086,
          2.2945719237871613,
          2.9985068003309223,
          0.19190173599206722,
          2.2945719237871613,
          2.2945719237871613,
          0.19190173599206722,
          1.4791074014724086,
          2.9985068003309223,
          0.19190173599206722,
          1.4791074014724086,
          -0.05356675237460037,
          3.813971322645674,
          1.2336389131057415,
          -0.033577042900785094,
          0.21189144546588304,
          0.781887479413968
         ],
         "y": [
          -0.11186278121634874,
          3.6284939293708414,
          -0.11186278121634874,
          0.1161613847811682,
          -0.11186278121634874,
          -0.11186278121634874,
          3.2434697837556876,
          1.923018109787078,
          1.6949939437895614,
          2.0481518830068577,
          3.98165186858814,
          -0.11186278121634874,
          -0.4968869268315029,
          1.9830211522348884,
          0.1161613847811682,
          0.1761644272289782,
          5.050326508761597,
          0.1761644272289782,
          1.923018109787078,
          -0.2688627608339861,
          1.309969798174407,
          -0.11186278121634874,
          -0.11186278121634874,
          1.923018109787078,
          -0.2688627608339861,
          0.1161613847811682,
          1.923018109787078,
          -0.14372898761420683,
          -0.4968869268315029,
          0.1761644272289782,
          0.24129515800094778,
          1.309969798174407,
          1.6949939437895614,
          -0.2688627608339861,
          3.9165211378161695,
          -0.11186278121634874,
          -0.11186278121634874,
          -0.11186278121634874,
          0.1161613847811682,
          0.1161613847811682,
          0.1761644272289782,
          -0.11186278121634874,
          -0.11186278121634874,
          0.1161613847811682,
          -0.4968869268315029,
          -0.11186278121634874,
          1.6949939437895614,
          -0.4968869268315029,
          0.1161613847811682,
          1.6949939437895614,
          1.6949939437895614,
          0.1161613847811682,
          -0.11186278121634874,
          -0.4968869268315029,
          0.1161613847811682,
          -0.11186278121634874,
          0.46931932399846465,
          1.309969798174407,
          0.24129515800094778,
          0.5293223664462751,
          0.1761644272289782,
          2.336179091452186
         ],
         "z": [
          0.09689442128924558,
          0.426474803132476,
          0.09689442128924558,
          -0.15948310042824373,
          0.09689442128924558,
          0.09689442128924558,
          0.5085960178606022,
          -1.0042828222568736,
          -0.7479053005393844,
          2.144604570420501,
          3.318984674092362,
          0.09689442128924558,
          0.17901563601737183,
          -0.9597919868491465,
          -0.15948310042824373,
          -0.11499226502051649,
          -0.3362037039680279,
          -0.11499226502051649,
          -1.0042828222568736,
          -0.07736188570011737,
          -0.6657840858112579,
          0.09689442128924558,
          0.09689442128924558,
          -1.0042828222568736,
          -0.07736188570011737,
          -0.15948310042824373,
          -1.0042828222568736,
          3.0715255069772573,
          0.17901563601737183,
          -0.11499226502051649,
          2.989404292249131,
          -0.6657840858112579,
          -0.7479053005393844,
          -0.07736188570011737,
          0.2145881168227137,
          0.09689442128924558,
          0.09689442128924558,
          0.09689442128924558,
          -0.15948310042824373,
          -0.15948310042824373,
          -0.11499226502051649,
          0.09689442128924558,
          0.09689442128924558,
          -0.15948310042824373,
          0.17901563601737183,
          0.09689442128924558,
          -0.7479053005393844,
          0.17901563601737183,
          -0.15948310042824373,
          -0.7479053005393844,
          -0.7479053005393844,
          -0.15948310042824373,
          0.09689442128924558,
          0.17901563601737183,
          -0.15948310042824373,
          0.09689442128924558,
          2.7330267705316422,
          -0.6657840858112579,
          2.989404292249131,
          2.7775176059393694,
          -0.11499226502051649,
          1.9327178841107389
         ]
        }
       ],
       "layout": {
        "legend": {
         "title": {
          "text": "color"
         },
         "tracegroupgap": 0
        },
        "margin": {
         "t": 60
        },
        "scene": {
         "domain": {
          "x": [
           0,
           1
          ],
          "y": [
           0,
           1
          ]
         },
         "xaxis": {
          "title": {
           "text": "PC 1 (28.6%)"
          }
         },
         "yaxis": {
          "title": {
           "text": "PC 2 (16.9%)"
          }
         },
         "zaxis": {
          "title": {
           "text": "PC 3 (14.4%)"
          }
         }
        },
        "template": {
         "data": {
          "bar": [
           {
            "error_x": {
             "color": "#2a3f5f"
            },
            "error_y": {
             "color": "#2a3f5f"
            },
            "marker": {
             "line": {
              "color": "#E5ECF6",
              "width": 0.5
             },
             "pattern": {
              "fillmode": "overlay",
              "size": 10,
              "solidity": 0.2
             }
            },
            "type": "bar"
           }
          ],
          "barpolar": [
           {
            "marker": {
             "line": {
              "color": "#E5ECF6",
              "width": 0.5
             },
             "pattern": {
              "fillmode": "overlay",
              "size": 10,
              "solidity": 0.2
             }
            },
            "type": "barpolar"
           }
          ],
          "carpet": [
           {
            "aaxis": {
             "endlinecolor": "#2a3f5f",
             "gridcolor": "white",
             "linecolor": "white",
             "minorgridcolor": "white",
             "startlinecolor": "#2a3f5f"
            },
            "baxis": {
             "endlinecolor": "#2a3f5f",
             "gridcolor": "white",
             "linecolor": "white",
             "minorgridcolor": "white",
             "startlinecolor": "#2a3f5f"
            },
            "type": "carpet"
           }
          ],
          "choropleth": [
           {
            "colorbar": {
             "outlinewidth": 0,
             "ticks": ""
            },
            "type": "choropleth"
           }
          ],
          "contour": [
           {
            "colorbar": {
             "outlinewidth": 0,
             "ticks": ""
            },
            "colorscale": [
             [
              0,
              "#0d0887"
             ],
             [
              0.1111111111111111,
              "#46039f"
             ],
             [
              0.2222222222222222,
              "#7201a8"
             ],
             [
              0.3333333333333333,
              "#9c179e"
             ],
             [
              0.4444444444444444,
              "#bd3786"
             ],
             [
              0.5555555555555556,
              "#d8576b"
             ],
             [
              0.6666666666666666,
              "#ed7953"
             ],
             [
              0.7777777777777778,
              "#fb9f3a"
             ],
             [
              0.8888888888888888,
              "#fdca26"
             ],
             [
              1,
              "#f0f921"
             ]
            ],
            "type": "contour"
           }
          ],
          "contourcarpet": [
           {
            "colorbar": {
             "outlinewidth": 0,
             "ticks": ""
            },
            "type": "contourcarpet"
           }
          ],
          "heatmap": [
           {
            "colorbar": {
             "outlinewidth": 0,
             "ticks": ""
            },
            "colorscale": [
             [
              0,
              "#0d0887"
             ],
             [
              0.1111111111111111,
              "#46039f"
             ],
             [
              0.2222222222222222,
              "#7201a8"
             ],
             [
              0.3333333333333333,
              "#9c179e"
             ],
             [
              0.4444444444444444,
              "#bd3786"
             ],
             [
              0.5555555555555556,
              "#d8576b"
             ],
             [
              0.6666666666666666,
              "#ed7953"
             ],
             [
              0.7777777777777778,
              "#fb9f3a"
             ],
             [
              0.8888888888888888,
              "#fdca26"
             ],
             [
              1,
              "#f0f921"
             ]
            ],
            "type": "heatmap"
           }
          ],
          "heatmapgl": [
           {
            "colorbar": {
             "outlinewidth": 0,
             "ticks": ""
            },
            "colorscale": [
             [
              0,
              "#0d0887"
             ],
             [
              0.1111111111111111,
              "#46039f"
             ],
             [
              0.2222222222222222,
              "#7201a8"
             ],
             [
              0.3333333333333333,
              "#9c179e"
             ],
             [
              0.4444444444444444,
              "#bd3786"
             ],
             [
              0.5555555555555556,
              "#d8576b"
             ],
             [
              0.6666666666666666,
              "#ed7953"
             ],
             [
              0.7777777777777778,
              "#fb9f3a"
             ],
             [
              0.8888888888888888,
              "#fdca26"
             ],
             [
              1,
              "#f0f921"
             ]
            ],
            "type": "heatmapgl"
           }
          ],
          "histogram": [
           {
            "marker": {
             "pattern": {
              "fillmode": "overlay",
              "size": 10,
              "solidity": 0.2
             }
            },
            "type": "histogram"
           }
          ],
          "histogram2d": [
           {
            "colorbar": {
             "outlinewidth": 0,
             "ticks": ""
            },
            "colorscale": [
             [
              0,
              "#0d0887"
             ],
             [
              0.1111111111111111,
              "#46039f"
             ],
             [
              0.2222222222222222,
              "#7201a8"
             ],
             [
              0.3333333333333333,
              "#9c179e"
             ],
             [
              0.4444444444444444,
              "#bd3786"
             ],
             [
              0.5555555555555556,
              "#d8576b"
             ],
             [
              0.6666666666666666,
              "#ed7953"
             ],
             [
              0.7777777777777778,
              "#fb9f3a"
             ],
             [
              0.8888888888888888,
              "#fdca26"
             ],
             [
              1,
              "#f0f921"
             ]
            ],
            "type": "histogram2d"
           }
          ],
          "histogram2dcontour": [
           {
            "colorbar": {
             "outlinewidth": 0,
             "ticks": ""
            },
            "colorscale": [
             [
              0,
              "#0d0887"
             ],
             [
              0.1111111111111111,
              "#46039f"
             ],
             [
              0.2222222222222222,
              "#7201a8"
             ],
             [
              0.3333333333333333,
              "#9c179e"
             ],
             [
              0.4444444444444444,
              "#bd3786"
             ],
             [
              0.5555555555555556,
              "#d8576b"
             ],
             [
              0.6666666666666666,
              "#ed7953"
             ],
             [
              0.7777777777777778,
              "#fb9f3a"
             ],
             [
              0.8888888888888888,
              "#fdca26"
             ],
             [
              1,
              "#f0f921"
             ]
            ],
            "type": "histogram2dcontour"
           }
          ],
          "mesh3d": [
           {
            "colorbar": {
             "outlinewidth": 0,
             "ticks": ""
            },
            "type": "mesh3d"
           }
          ],
          "parcoords": [
           {
            "line": {
             "colorbar": {
              "outlinewidth": 0,
              "ticks": ""
             }
            },
            "type": "parcoords"
           }
          ],
          "pie": [
           {
            "automargin": true,
            "type": "pie"
           }
          ],
          "scatter": [
           {
            "fillpattern": {
             "fillmode": "overlay",
             "size": 10,
             "solidity": 0.2
            },
            "type": "scatter"
           }
          ],
          "scatter3d": [
           {
            "line": {
             "colorbar": {
              "outlinewidth": 0,
              "ticks": ""
             }
            },
            "marker": {
             "colorbar": {
              "outlinewidth": 0,
              "ticks": ""
             }
            },
            "type": "scatter3d"
           }
          ],
          "scattercarpet": [
           {
            "marker": {
             "colorbar": {
              "outlinewidth": 0,
              "ticks": ""
             }
            },
            "type": "scattercarpet"
           }
          ],
          "scattergeo": [
           {
            "marker": {
             "colorbar": {
              "outlinewidth": 0,
              "ticks": ""
             }
            },
            "type": "scattergeo"
           }
          ],
          "scattergl": [
           {
            "marker": {
             "colorbar": {
              "outlinewidth": 0,
              "ticks": ""
             }
            },
            "type": "scattergl"
           }
          ],
          "scattermapbox": [
           {
            "marker": {
             "colorbar": {
              "outlinewidth": 0,
              "ticks": ""
             }
            },
            "type": "scattermapbox"
           }
          ],
          "scatterpolar": [
           {
            "marker": {
             "colorbar": {
              "outlinewidth": 0,
              "ticks": ""
             }
            },
            "type": "scatterpolar"
           }
          ],
          "scatterpolargl": [
           {
            "marker": {
             "colorbar": {
              "outlinewidth": 0,
              "ticks": ""
             }
            },
            "type": "scatterpolargl"
           }
          ],
          "scatterternary": [
           {
            "marker": {
             "colorbar": {
              "outlinewidth": 0,
              "ticks": ""
             }
            },
            "type": "scatterternary"
           }
          ],
          "surface": [
           {
            "colorbar": {
             "outlinewidth": 0,
             "ticks": ""
            },
            "colorscale": [
             [
              0,
              "#0d0887"
             ],
             [
              0.1111111111111111,
              "#46039f"
             ],
             [
              0.2222222222222222,
              "#7201a8"
             ],
             [
              0.3333333333333333,
              "#9c179e"
             ],
             [
              0.4444444444444444,
              "#bd3786"
             ],
             [
              0.5555555555555556,
              "#d8576b"
             ],
             [
              0.6666666666666666,
              "#ed7953"
             ],
             [
              0.7777777777777778,
              "#fb9f3a"
             ],
             [
              0.8888888888888888,
              "#fdca26"
             ],
             [
              1,
              "#f0f921"
             ]
            ],
            "type": "surface"
           }
          ],
          "table": [
           {
            "cells": {
             "fill": {
              "color": "#EBF0F8"
             },
             "line": {
              "color": "white"
             }
            },
            "header": {
             "fill": {
              "color": "#C8D4E3"
             },
             "line": {
              "color": "white"
             }
            },
            "type": "table"
           }
          ]
         },
         "layout": {
          "annotationdefaults": {
           "arrowcolor": "#2a3f5f",
           "arrowhead": 0,
           "arrowwidth": 1
          },
          "autotypenumbers": "strict",
          "coloraxis": {
           "colorbar": {
            "outlinewidth": 0,
            "ticks": ""
           }
          },
          "colorscale": {
           "diverging": [
            [
             0,
             "#8e0152"
            ],
            [
             0.1,
             "#c51b7d"
            ],
            [
             0.2,
             "#de77ae"
            ],
            [
             0.3,
             "#f1b6da"
            ],
            [
             0.4,
             "#fde0ef"
            ],
            [
             0.5,
             "#f7f7f7"
            ],
            [
             0.6,
             "#e6f5d0"
            ],
            [
             0.7,
             "#b8e186"
            ],
            [
             0.8,
             "#7fbc41"
            ],
            [
             0.9,
             "#4d9221"
            ],
            [
             1,
             "#276419"
            ]
           ],
           "sequential": [
            [
             0,
             "#0d0887"
            ],
            [
             0.1111111111111111,
             "#46039f"
            ],
            [
             0.2222222222222222,
             "#7201a8"
            ],
            [
             0.3333333333333333,
             "#9c179e"
            ],
            [
             0.4444444444444444,
             "#bd3786"
            ],
            [
             0.5555555555555556,
             "#d8576b"
            ],
            [
             0.6666666666666666,
             "#ed7953"
            ],
            [
             0.7777777777777778,
             "#fb9f3a"
            ],
            [
             0.8888888888888888,
             "#fdca26"
            ],
            [
             1,
             "#f0f921"
            ]
           ],
           "sequentialminus": [
            [
             0,
             "#0d0887"
            ],
            [
             0.1111111111111111,
             "#46039f"
            ],
            [
             0.2222222222222222,
             "#7201a8"
            ],
            [
             0.3333333333333333,
             "#9c179e"
            ],
            [
             0.4444444444444444,
             "#bd3786"
            ],
            [
             0.5555555555555556,
             "#d8576b"
            ],
            [
             0.6666666666666666,
             "#ed7953"
            ],
            [
             0.7777777777777778,
             "#fb9f3a"
            ],
            [
             0.8888888888888888,
             "#fdca26"
            ],
            [
             1,
             "#f0f921"
            ]
           ]
          },
          "colorway": [
           "#636efa",
           "#EF553B",
           "#00cc96",
           "#ab63fa",
           "#FFA15A",
           "#19d3f3",
           "#FF6692",
           "#B6E880",
           "#FF97FF",
           "#FECB52"
          ],
          "font": {
           "color": "#2a3f5f"
          },
          "geo": {
           "bgcolor": "white",
           "lakecolor": "white",
           "landcolor": "#E5ECF6",
           "showlakes": true,
           "showland": true,
           "subunitcolor": "white"
          },
          "hoverlabel": {
           "align": "left"
          },
          "hovermode": "closest",
          "mapbox": {
           "style": "light"
          },
          "paper_bgcolor": "white",
          "plot_bgcolor": "#E5ECF6",
          "polar": {
           "angularaxis": {
            "gridcolor": "white",
            "linecolor": "white",
            "ticks": ""
           },
           "bgcolor": "#E5ECF6",
           "radialaxis": {
            "gridcolor": "white",
            "linecolor": "white",
            "ticks": ""
           }
          },
          "scene": {
           "xaxis": {
            "backgroundcolor": "#E5ECF6",
            "gridcolor": "white",
            "gridwidth": 2,
            "linecolor": "white",
            "showbackground": true,
            "ticks": "",
            "zerolinecolor": "white"
           },
           "yaxis": {
            "backgroundcolor": "#E5ECF6",
            "gridcolor": "white",
            "gridwidth": 2,
            "linecolor": "white",
            "showbackground": true,
            "ticks": "",
            "zerolinecolor": "white"
           },
           "zaxis": {
            "backgroundcolor": "#E5ECF6",
            "gridcolor": "white",
            "gridwidth": 2,
            "linecolor": "white",
            "showbackground": true,
            "ticks": "",
            "zerolinecolor": "white"
           }
          },
          "shapedefaults": {
           "line": {
            "color": "#2a3f5f"
           }
          },
          "ternary": {
           "aaxis": {
            "gridcolor": "white",
            "linecolor": "white",
            "ticks": ""
           },
           "baxis": {
            "gridcolor": "white",
            "linecolor": "white",
            "ticks": ""
           },
           "bgcolor": "#E5ECF6",
           "caxis": {
            "gridcolor": "white",
            "linecolor": "white",
            "ticks": ""
           }
          },
          "title": {
           "x": 0.05
          },
          "xaxis": {
           "automargin": true,
           "gridcolor": "white",
           "linecolor": "white",
           "ticks": "",
           "title": {
            "standoff": 15
           },
           "zerolinecolor": "white",
           "zerolinewidth": 2
          },
          "yaxis": {
           "automargin": true,
           "gridcolor": "white",
           "linecolor": "white",
           "ticks": "",
           "title": {
            "standoff": 15
           },
           "zerolinecolor": "white",
           "zerolinewidth": 2
          }
         }
        }
       }
      }
     },
     "metadata": {},
     "output_type": "display_data"
    }
   ],
   "source": [
    "pca_3d = PCA(n_components=3)\n",
    "\n",
    "components_3d = pca_3d.fit_transform(df_scaled)\n",
    "\n",
    "labels = {\n",
    "    str(i): f\"PC {i+1} ({var:.1f}%)\"\n",
    "    for i, var in enumerate(pca_3d.explained_variance_ratio_ * 100)\n",
    "}\n",
    "\n",
    "fig = px.scatter_3d(components_3d, x=0, y=1, z=2, color=df_charte.cluster, labels=labels)\n",
    "fig.show()"
   ]
  },
  {
   "attachments": {},
   "cell_type": "markdown",
   "metadata": {},
   "source": [
    "On a déjà une meilleure variance totale expliquée, elle est montée à 59.7%. On peut déjà voir ici une meilleure découpe même si il est très compliqué d'interpréter un graphe en 3 dimensions car ils ne sont pas toujours fiables.\n",
    "\n",
    "On peut maintenant passer à l'enregistrement de notre résultat.\n",
    "\n",
    "\n",
    "### *Enregistrement du résultat*\n",
    "\n",
    "Nous allons créé seulement la colonne qui nous intéresse ici pour ensuite la réutiliser dans l'analyse finale."
   ]
  },
  {
   "cell_type": "code",
   "execution_count": 21,
   "metadata": {},
   "outputs": [
    {
     "data": {
      "text/plain": [
       "Mauvais      125\n",
       "Moyen        124\n",
       "Très bien     86\n",
       "Bien          62\n",
       "Name: charte_num, dtype: int64"
      ]
     },
     "execution_count": 21,
     "metadata": {},
     "output_type": "execute_result"
    }
   ],
   "source": [
    "df_charte_final = pd.DataFrame(df_charte.cluster)\n",
    "df_charte_final.rename(columns={'cluster': 'charte_num'}, inplace=True)\n",
    "\n",
    "df_charte_final.charte_num.replace({'0': 'Moyen', '1': 'Bien', '2': 'Très bien', '3': 'Mauvais'}, inplace=True)\n",
    "\n",
    "df_charte_final.charte_num.value_counts()"
   ]
  },
  {
   "cell_type": "code",
   "execution_count": 22,
   "metadata": {},
   "outputs": [],
   "source": [
    "df_charte_final.to_csv('../data/analyses/charte_num.csv', index=True, sep=';')"
   ]
  }
 ],
 "metadata": {
  "kernelspec": {
   "display_name": "Python 3",
   "language": "python",
   "name": "python3"
  },
  "language_info": {
   "codemirror_mode": {
    "name": "ipython",
    "version": 3
   },
   "file_extension": ".py",
   "mimetype": "text/x-python",
   "name": "python",
   "nbconvert_exporter": "python",
   "pygments_lexer": "ipython3",
   "version": "3.10.9"
  },
  "orig_nbformat": 4,
  "vscode": {
   "interpreter": {
    "hash": "2349f8cba88a5b2d1d390f83a8a5748abc4e6656a2f4a0a7bc22dd7876009b29"
   }
  }
 },
 "nbformat": 4,
 "nbformat_minor": 2
}
