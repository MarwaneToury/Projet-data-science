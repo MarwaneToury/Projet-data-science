{
 "cells": [
  {
   "attachments": {},
   "cell_type": "markdown",
   "metadata": {},
   "source": [
    "# **Clustering Type de ressources**\n",
    "\n",
    "\n",
    ">Nous allons procéder ici aussi à un clustering des établissements sur les colonnes suivantes : \n",
    ">- TpRess_ManuelNum : *`est-ce que le manuel scolaire est disponible sous forme numérique`*\n",
    ">- TpRess_AnimScienLogiSimu : *`Les animations scientifiques et/ou logiciels de simulation sont l'un des types de ressources mises à la disposition des élèves`*\n",
    ">- TpRess_Bdd : *`Les banques de documents multimédias (vidéos, podcasts, textes, cartes, animations, etc.) sont l'un des types de ressources mises à la disposition des élèves.`*\n",
    ">- TpRess_LogiOutils : *`Les logiciels outils (géométrie, indexage, lexicographie, cartographie, etc.) sont l'un des types de ressources mises à la disposition des élèves`*\n",
    ">- TpRess_OuvRef : *`Les ouvrages de référence interactifs (atlas, dictionnaire, encyclopédie...) sont l'un des types de ressources mises à la disposition des élèves`*\n",
    ">- TpRess_ResEntrainement : *`Les ressources pour s'entraîner sont l'un des types de ressources mises à la disposition des élèves`*\n",
    ">- TpRess_Autres : *`D'autres types de ressources sont mis à la disposition des élèves`*\n",
    "\n",
    "\n",
    ">Le but va être de réduire ces 7 colonnes en une seule avec plusieurs modalités, pour faciliter l'analyse globale. Nous allons procèder comme nous avons pu le faire précedemment. Nous allons utiliser l'algorithme de ``KMeans`` pour procéder à une classification non supervisée pour voir si des groupes se dégagent \n",
    "\n",
    "\n",
    "\n",
    "### *Import des bibliothèques*"
   ]
  },
  {
   "cell_type": "code",
   "execution_count": 1,
   "metadata": {},
   "outputs": [],
   "source": [
    "import pandas as pd\n",
    "import plotly.graph_objects as go\n",
    "from sklearn.cluster import KMeans\n",
    "from sklearn.decomposition import PCA\n",
    "import plotly.express as px\n",
    "import prince as pc"
   ]
  },
  {
   "attachments": {},
   "cell_type": "markdown",
   "metadata": {},
   "source": [
    "### *Import du fichier*"
   ]
  },
  {
   "cell_type": "code",
   "execution_count": 2,
   "metadata": {},
   "outputs": [
    {
     "data": {
      "text/plain": [
       "Index(['Code_UAI', 'Millesime', 'Code_nature', 'nature_uai', 'typ_etab',\n",
       "       'Academie', 'Departement', 'NbEleve', 'NbEnseignant',\n",
       "       'SiEtabCentreRessource', 'SiProjetNumEcole', 'SiEntDisponible',\n",
       "       'SiProjEtabIntegreENT', 'Maint_PersCollect', 'Maint_PrestaExt',\n",
       "       'Maint_PersonnelEducNatHsEtab', 'Maint_PersonnelEtab',\n",
       "       'Maint_AutreNeSaitPas', 'Maint_Personne', 'NbRessourceEdit',\n",
       "       'TpRess_ManuelNum', 'TpRess_AnimScienLogiSimu', 'TpRess_Bdd',\n",
       "       'TpRess_LogiOutils', 'TpRess_OuvRef', 'TpRess_ResEntrainement',\n",
       "       'TpRess_Autres', 'TpRess_aucune', 'ServInt_NoteElev', 'ServInt_AbsElev',\n",
       "       'ServInt_EdtElevCls', 'ServInt_CahierTxt', 'ServInt_DocRessPeda',\n",
       "       'ServInt_AgdActuEtab', 'ServInt_PlatApp', 'ServInt_Autres',\n",
       "       'ServInt_aucun', 'NbTerminaux', 'NbTablette', 'NbTablettePC',\n",
       "       'NbMicroMoins5', 'NbMicroPortable', 'NbPortAffEl', 'NbPortAffEns',\n",
       "       'NbEleveEqASH', 'NbPosteEqASH', 'NbTBI', 'propClassesAvecTBI',\n",
       "       'NbVideoProj', 'NbClassMobile', 'NbLecteurMpx', 'NbImpr3D',\n",
       "       'AccWeb_RTC', 'AccWeb_CableFibreOptique', 'AccWeb_ADSL',\n",
       "       'AccWeb_AutresHautDebit', 'AccWeb_NeSaitPas', 'AccWeb_Aucun',\n",
       "       'DebitWeb', 'SiWifi', 'SalleInternet', 'PostesInfoElvHorsCours',\n",
       "       'SiPareFeuEtab', 'SiOuifiltrageWeb', 'ControlePosteriori',\n",
       "       'SiCharteUsageWeb', 'Diffch_AnnexeeRI',\n",
       "       'Diffch_DossierRentreeEnseignants', 'Diffch_CRConseilAdmin',\n",
       "       'Diffch_DiffusionParents', 'Diffch_Autres', 'AccesParentCharte',\n",
       "       'ElvAuthentif', 'SiVisioConferenc', 'SiEntUtilise',\n",
       "       'TypeMatHandi_Tablette', 'TypeMatHandi_OrdiPort', 'TypeMatHandi_LogApp',\n",
       "       'TypeMatHandi_Autre', 'Code_region', 'Libelle_region'],\n",
       "      dtype='object')"
      ]
     },
     "execution_count": 2,
     "metadata": {},
     "output_type": "execute_result"
    }
   ],
   "source": [
    "df = pd.read_csv('../data/lycee-college/fr-en-etic_2d.csv', sep=';')\n",
    "\n",
    "#on garde les données les plus récentes, donc 2019\n",
    "df = df.loc[df[\"Millesime\"] == 2019]\n",
    "\n",
    "#On consulte les colonnes existantes\n",
    "df.columns"
   ]
  },
  {
   "attachments": {},
   "cell_type": "markdown",
   "metadata": {},
   "source": [
    "### *Traitement du fichier*"
   ]
  },
  {
   "attachments": {},
   "cell_type": "markdown",
   "metadata": {},
   "source": [
    "On va fixer l'index et ensuite supprimer toutes les colonnes qui seront inutiles pour cette analyse. On supprime également les établissement pour lesquels il y a des `NaN` car cela va poser problème lors de la classification."
   ]
  },
  {
   "cell_type": "code",
   "execution_count": 3,
   "metadata": {},
   "outputs": [],
   "source": [
    "df_ressources = df.set_index('Code_UAI')\n",
    "\n",
    "#On supprime les colonnes inutiles\n",
    "df_ressources.drop(columns=['Millesime', 'Code_nature', 'nature_uai', 'typ_etab',\n",
    "       'Academie', 'Departement', 'NbEleve', 'NbEnseignant',\n",
    "       'SiEtabCentreRessource', 'SiProjetNumEcole', 'SiEntDisponible',\n",
    "       'SiProjEtabIntegreENT', 'Maint_PersCollect', 'Maint_PrestaExt',\n",
    "       'Maint_PersonnelEducNatHsEtab', 'Maint_PersonnelEtab',\n",
    "       'Maint_AutreNeSaitPas', 'Maint_Personne', 'NbRessourceEdit',\n",
    "       'ServInt_NoteElev', 'ServInt_AbsElev',\n",
    "       'ServInt_EdtElevCls', 'ServInt_CahierTxt', 'ServInt_DocRessPeda',\n",
    "       'ServInt_AgdActuEtab', 'ServInt_PlatApp', 'ServInt_Autres',\n",
    "       'ServInt_aucun', 'NbTerminaux', 'NbTablette', 'NbTablettePC',\n",
    "       'NbMicroMoins5', 'NbMicroPortable', 'NbPortAffEl', 'NbPortAffEns',\n",
    "       'NbEleveEqASH', 'NbPosteEqASH', 'NbTBI', 'propClassesAvecTBI',\n",
    "       'NbVideoProj', 'NbClassMobile', 'NbLecteurMpx', 'NbImpr3D',\n",
    "       'AccWeb_RTC', 'AccWeb_CableFibreOptique', 'AccWeb_ADSL',\n",
    "       'AccWeb_AutresHautDebit', 'AccWeb_NeSaitPas', 'AccWeb_Aucun',\n",
    "       'DebitWeb', 'SiWifi', 'SalleInternet', 'PostesInfoElvHorsCours',\n",
    "       'SiPareFeuEtab', 'SiOuifiltrageWeb', 'ControlePosteriori',\n",
    "       'SiCharteUsageWeb', 'Diffch_AnnexeeRI',\n",
    "       'Diffch_DossierRentreeEnseignants', 'Diffch_CRConseilAdmin',\n",
    "       'Diffch_DiffusionParents', 'Diffch_Autres', 'AccesParentCharte',\n",
    "       'ElvAuthentif', 'SiVisioConferenc', 'SiEntUtilise',\n",
    "       'TypeMatHandi_Tablette', 'TypeMatHandi_OrdiPort', 'TypeMatHandi_LogApp',\n",
    "       'TypeMatHandi_Autre', 'Code_region', 'Libelle_region'], inplace=True)\n",
    "\n",
    "\n",
    "#On supprime les lignes avec des valeurs manquantes\n",
    "df_ressources.dropna(inplace=True)"
   ]
  },
  {
   "attachments": {},
   "cell_type": "markdown",
   "metadata": {},
   "source": [
    "On vérifie que tout s'est bien supprimé"
   ]
  },
  {
   "cell_type": "code",
   "execution_count": 4,
   "metadata": {},
   "outputs": [
    {
     "data": {
      "text/html": [
       "<div>\n",
       "<style scoped>\n",
       "    .dataframe tbody tr th:only-of-type {\n",
       "        vertical-align: middle;\n",
       "    }\n",
       "\n",
       "    .dataframe tbody tr th {\n",
       "        vertical-align: top;\n",
       "    }\n",
       "\n",
       "    .dataframe thead th {\n",
       "        text-align: right;\n",
       "    }\n",
       "</style>\n",
       "<table border=\"1\" class=\"dataframe\">\n",
       "  <thead>\n",
       "    <tr style=\"text-align: right;\">\n",
       "      <th></th>\n",
       "      <th>TpRess_ManuelNum</th>\n",
       "      <th>TpRess_AnimScienLogiSimu</th>\n",
       "      <th>TpRess_Bdd</th>\n",
       "      <th>TpRess_LogiOutils</th>\n",
       "      <th>TpRess_OuvRef</th>\n",
       "      <th>TpRess_ResEntrainement</th>\n",
       "      <th>TpRess_Autres</th>\n",
       "      <th>TpRess_aucune</th>\n",
       "    </tr>\n",
       "    <tr>\n",
       "      <th>Code_UAI</th>\n",
       "      <th></th>\n",
       "      <th></th>\n",
       "      <th></th>\n",
       "      <th></th>\n",
       "      <th></th>\n",
       "      <th></th>\n",
       "      <th></th>\n",
       "      <th></th>\n",
       "    </tr>\n",
       "  </thead>\n",
       "  <tbody>\n",
       "    <tr>\n",
       "      <th>0810016C</th>\n",
       "      <td>oui</td>\n",
       "      <td>oui</td>\n",
       "      <td>oui</td>\n",
       "      <td>oui</td>\n",
       "      <td>oui</td>\n",
       "      <td>non</td>\n",
       "      <td>oui</td>\n",
       "      <td>non</td>\n",
       "    </tr>\n",
       "    <tr>\n",
       "      <th>0810026N</th>\n",
       "      <td>non</td>\n",
       "      <td>oui</td>\n",
       "      <td>oui</td>\n",
       "      <td>oui</td>\n",
       "      <td>oui</td>\n",
       "      <td>non</td>\n",
       "      <td>oui</td>\n",
       "      <td>non</td>\n",
       "    </tr>\n",
       "    <tr>\n",
       "      <th>0810041E</th>\n",
       "      <td>oui</td>\n",
       "      <td>non</td>\n",
       "      <td>oui</td>\n",
       "      <td>oui</td>\n",
       "      <td>oui</td>\n",
       "      <td>oui</td>\n",
       "      <td>oui</td>\n",
       "      <td>non</td>\n",
       "    </tr>\n",
       "    <tr>\n",
       "      <th>0810124V</th>\n",
       "      <td>oui</td>\n",
       "      <td>oui</td>\n",
       "      <td>oui</td>\n",
       "      <td>oui</td>\n",
       "      <td>oui</td>\n",
       "      <td>non</td>\n",
       "      <td>oui</td>\n",
       "      <td>non</td>\n",
       "    </tr>\n",
       "    <tr>\n",
       "      <th>0810125W</th>\n",
       "      <td>oui</td>\n",
       "      <td>non</td>\n",
       "      <td>non</td>\n",
       "      <td>oui</td>\n",
       "      <td>non</td>\n",
       "      <td>oui</td>\n",
       "      <td>non</td>\n",
       "      <td>non</td>\n",
       "    </tr>\n",
       "  </tbody>\n",
       "</table>\n",
       "</div>"
      ],
      "text/plain": [
       "         TpRess_ManuelNum TpRess_AnimScienLogiSimu TpRess_Bdd  \\\n",
       "Code_UAI                                                        \n",
       "0810016C              oui                      oui        oui   \n",
       "0810026N              non                      oui        oui   \n",
       "0810041E              oui                      non        oui   \n",
       "0810124V              oui                      oui        oui   \n",
       "0810125W              oui                      non        non   \n",
       "\n",
       "         TpRess_LogiOutils TpRess_OuvRef TpRess_ResEntrainement TpRess_Autres  \\\n",
       "Code_UAI                                                                        \n",
       "0810016C               oui           oui                    non           oui   \n",
       "0810026N               oui           oui                    non           oui   \n",
       "0810041E               oui           oui                    oui           oui   \n",
       "0810124V               oui           oui                    non           oui   \n",
       "0810125W               oui           non                    oui           non   \n",
       "\n",
       "         TpRess_aucune  \n",
       "Code_UAI                \n",
       "0810016C           non  \n",
       "0810026N           non  \n",
       "0810041E           non  \n",
       "0810124V           non  \n",
       "0810125W           non  "
      ]
     },
     "execution_count": 4,
     "metadata": {},
     "output_type": "execute_result"
    }
   ],
   "source": [
    "df_ressources.head()"
   ]
  },
  {
   "attachments": {},
   "cell_type": "markdown",
   "metadata": {},
   "source": [
    "On va procéder ensuite au renommage des colonnes"
   ]
  },
  {
   "cell_type": "code",
   "execution_count": 5,
   "metadata": {},
   "outputs": [
    {
     "data": {
      "text/plain": [
       "Index(['manuelnum', 'animscienlogisimu', 'bdd', 'logioutils', 'ouvref',\n",
       "       'resentrainement', 'autres', 'aucune'],\n",
       "      dtype='object')"
      ]
     },
     "execution_count": 5,
     "metadata": {},
     "output_type": "execute_result"
    }
   ],
   "source": [
    "old_columns = df_ressources.columns\n",
    "\n",
    "for column in old_columns:\n",
    "    df_ressources.rename(columns={column: column.replace('TpRess_', '').lower()}, inplace=True)\n",
    "\n",
    "df_ressources.columns"
   ]
  },
  {
   "attachments": {},
   "cell_type": "markdown",
   "metadata": {},
   "source": [
    "On va procèder maintenant à la transformation des modalités en valeurs numériques (1 pour \"oui\" et 0 pour \"non\"). Cette transformation est nécessaire pour pouvoir faire du clustering et faire une ACP à la fin pour avoir une représentation."
   ]
  },
  {
   "cell_type": "code",
   "execution_count": 6,
   "metadata": {},
   "outputs": [
    {
     "data": {
      "text/html": [
       "<div>\n",
       "<style scoped>\n",
       "    .dataframe tbody tr th:only-of-type {\n",
       "        vertical-align: middle;\n",
       "    }\n",
       "\n",
       "    .dataframe tbody tr th {\n",
       "        vertical-align: top;\n",
       "    }\n",
       "\n",
       "    .dataframe thead th {\n",
       "        text-align: right;\n",
       "    }\n",
       "</style>\n",
       "<table border=\"1\" class=\"dataframe\">\n",
       "  <thead>\n",
       "    <tr style=\"text-align: right;\">\n",
       "      <th></th>\n",
       "      <th>manuelnum</th>\n",
       "      <th>animscienlogisimu</th>\n",
       "      <th>bdd</th>\n",
       "      <th>logioutils</th>\n",
       "      <th>ouvref</th>\n",
       "      <th>resentrainement</th>\n",
       "      <th>autres</th>\n",
       "      <th>aucune</th>\n",
       "    </tr>\n",
       "    <tr>\n",
       "      <th>Code_UAI</th>\n",
       "      <th></th>\n",
       "      <th></th>\n",
       "      <th></th>\n",
       "      <th></th>\n",
       "      <th></th>\n",
       "      <th></th>\n",
       "      <th></th>\n",
       "      <th></th>\n",
       "    </tr>\n",
       "  </thead>\n",
       "  <tbody>\n",
       "    <tr>\n",
       "      <th>0810016C</th>\n",
       "      <td>1.0</td>\n",
       "      <td>1.0</td>\n",
       "      <td>1.0</td>\n",
       "      <td>1.0</td>\n",
       "      <td>1.0</td>\n",
       "      <td>0.0</td>\n",
       "      <td>1.0</td>\n",
       "      <td>0.0</td>\n",
       "    </tr>\n",
       "    <tr>\n",
       "      <th>0810026N</th>\n",
       "      <td>0.0</td>\n",
       "      <td>1.0</td>\n",
       "      <td>1.0</td>\n",
       "      <td>1.0</td>\n",
       "      <td>1.0</td>\n",
       "      <td>0.0</td>\n",
       "      <td>1.0</td>\n",
       "      <td>0.0</td>\n",
       "    </tr>\n",
       "    <tr>\n",
       "      <th>0810041E</th>\n",
       "      <td>1.0</td>\n",
       "      <td>0.0</td>\n",
       "      <td>1.0</td>\n",
       "      <td>1.0</td>\n",
       "      <td>1.0</td>\n",
       "      <td>1.0</td>\n",
       "      <td>1.0</td>\n",
       "      <td>0.0</td>\n",
       "    </tr>\n",
       "    <tr>\n",
       "      <th>0810124V</th>\n",
       "      <td>1.0</td>\n",
       "      <td>1.0</td>\n",
       "      <td>1.0</td>\n",
       "      <td>1.0</td>\n",
       "      <td>1.0</td>\n",
       "      <td>0.0</td>\n",
       "      <td>1.0</td>\n",
       "      <td>0.0</td>\n",
       "    </tr>\n",
       "    <tr>\n",
       "      <th>0810125W</th>\n",
       "      <td>1.0</td>\n",
       "      <td>0.0</td>\n",
       "      <td>0.0</td>\n",
       "      <td>1.0</td>\n",
       "      <td>0.0</td>\n",
       "      <td>1.0</td>\n",
       "      <td>0.0</td>\n",
       "      <td>0.0</td>\n",
       "    </tr>\n",
       "  </tbody>\n",
       "</table>\n",
       "</div>"
      ],
      "text/plain": [
       "          manuelnum  animscienlogisimu  bdd  logioutils  ouvref  \\\n",
       "Code_UAI                                                          \n",
       "0810016C        1.0                1.0  1.0         1.0     1.0   \n",
       "0810026N        0.0                1.0  1.0         1.0     1.0   \n",
       "0810041E        1.0                0.0  1.0         1.0     1.0   \n",
       "0810124V        1.0                1.0  1.0         1.0     1.0   \n",
       "0810125W        1.0                0.0  0.0         1.0     0.0   \n",
       "\n",
       "          resentrainement  autres  aucune  \n",
       "Code_UAI                                   \n",
       "0810016C              0.0     1.0     0.0  \n",
       "0810026N              0.0     1.0     0.0  \n",
       "0810041E              1.0     1.0     0.0  \n",
       "0810124V              0.0     1.0     0.0  \n",
       "0810125W              1.0     0.0     0.0  "
      ]
     },
     "execution_count": 6,
     "metadata": {},
     "output_type": "execute_result"
    }
   ],
   "source": [
    "for column in df_ressources.columns:\n",
    "    df_ressources[column] = df_ressources[column].replace({'oui': 1, 'non': 0})\n",
    "    df_ressources[column] = df_ressources[column].astype('float64')\n",
    "\n",
    "df_ressources.head()"
   ]
  },
  {
   "attachments": {},
   "cell_type": "markdown",
   "metadata": {},
   "source": [
    "### Corrélation\n",
    "\n",
    "Avant de faire de la classification, nous allons voir si il existe une corrélation entre les différentes variables qu'on a là"
   ]
  },
  {
   "cell_type": "code",
   "execution_count": 7,
   "metadata": {},
   "outputs": [
    {
     "data": {
      "application/vnd.plotly.v1+json": {
       "config": {
        "plotlyServerURL": "https://plot.ly"
       },
       "data": [
        {
         "colorbar": {
          "thickness": 20,
          "ticklen": 3
         },
         "hoverinfo": "text",
         "hovertext": [
          [
           1,
           0.17421864000792772,
           0.1771579881533197,
           0.1863394871228596,
           0.18902398717358662,
           0.05155995782629461,
           -0.0543256428403819,
           -0.07566221409793551
          ],
          [
           0.17421864000792772,
           1,
           0.27021580042056303,
           0.4300220949481228,
           0.27039522348118655,
           0.1112143284353048,
           0.1979019780231876,
           -0.09338435179945365
          ],
          [
           0.1771579881533197,
           0.27021580042056303,
           1,
           0.2204859916064273,
           0.25929334479889254,
           0.12244600828647509,
           0.07892078905209096,
           -0.10437669956864913
          ],
          [
           0.1863394871228596,
           0.4300220949481228,
           0.2204859916064273,
           1,
           0.29263344439323985,
           0.06268415138125323,
           0.011175262926657596,
           -0.1623064428457876
          ],
          [
           0.18902398717358662,
           0.27039522348118655,
           0.25929334479889254,
           0.29263344439323985,
           1,
           0.05057631535434997,
           0.07568816601253578,
           -0.08207371011509833
          ],
          [
           0.05155995782629461,
           0.1112143284353048,
           0.12244600828647509,
           0.06268415138125323,
           0.05057631535434997,
           1,
           0.04146989669676882,
           -0.04318931039962676
          ],
          [
           -0.0543256428403819,
           0.1979019780231876,
           0.07892078905209096,
           0.011175262926657596,
           0.07568816601253578,
           0.04146989669676882,
           1,
           -0.0511822804492353
          ],
          [
           -0.07566221409793551,
           -0.09338435179945365,
           -0.10437669956864913,
           -0.1623064428457876,
           -0.08207371011509833,
           -0.04318931039962676,
           -0.0511822804492353,
           1
          ]
         ],
         "type": "heatmap",
         "x": [
          "manuelnum",
          "animscienlogisimu",
          "bdd",
          "logioutils",
          "ouvref",
          "resentrainement",
          "autres",
          "aucune"
         ],
         "xgap": 1,
         "y": [
          "manuelnum",
          "animscienlogisimu",
          "bdd",
          "logioutils",
          "ouvref",
          "resentrainement",
          "autres",
          "aucune"
         ],
         "ygap": 1,
         "z": [
          [
           1,
           0.17421864000792772,
           0.1771579881533197,
           0.1863394871228596,
           0.18902398717358662,
           0.05155995782629461,
           -0.0543256428403819,
           -0.07566221409793551
          ],
          [
           0.17421864000792772,
           1,
           0.27021580042056303,
           0.4300220949481228,
           0.27039522348118655,
           0.1112143284353048,
           0.1979019780231876,
           -0.09338435179945365
          ],
          [
           0.1771579881533197,
           0.27021580042056303,
           1,
           0.2204859916064273,
           0.25929334479889254,
           0.12244600828647509,
           0.07892078905209096,
           -0.10437669956864913
          ],
          [
           0.1863394871228596,
           0.4300220949481228,
           0.2204859916064273,
           1,
           0.29263344439323985,
           0.06268415138125323,
           0.011175262926657596,
           -0.1623064428457876
          ],
          [
           0.18902398717358662,
           0.27039522348118655,
           0.25929334479889254,
           0.29263344439323985,
           1,
           0.05057631535434997,
           0.07568816601253578,
           -0.08207371011509833
          ],
          [
           0.05155995782629461,
           0.1112143284353048,
           0.12244600828647509,
           0.06268415138125323,
           0.05057631535434997,
           1,
           0.04146989669676882,
           -0.04318931039962676
          ],
          [
           -0.0543256428403819,
           0.1979019780231876,
           0.07892078905209096,
           0.011175262926657596,
           0.07568816601253578,
           0.04146989669676882,
           1,
           -0.0511822804492353
          ],
          [
           -0.07566221409793551,
           -0.09338435179945365,
           -0.10437669956864913,
           -0.1623064428457876,
           -0.08207371011509833,
           -0.04318931039962676,
           -0.0511822804492353,
           1
          ]
         ]
        }
       ],
       "layout": {
        "height": 600,
        "template": {
         "data": {
          "bar": [
           {
            "error_x": {
             "color": "#2a3f5f"
            },
            "error_y": {
             "color": "#2a3f5f"
            },
            "marker": {
             "line": {
              "color": "#E5ECF6",
              "width": 0.5
             },
             "pattern": {
              "fillmode": "overlay",
              "size": 10,
              "solidity": 0.2
             }
            },
            "type": "bar"
           }
          ],
          "barpolar": [
           {
            "marker": {
             "line": {
              "color": "#E5ECF6",
              "width": 0.5
             },
             "pattern": {
              "fillmode": "overlay",
              "size": 10,
              "solidity": 0.2
             }
            },
            "type": "barpolar"
           }
          ],
          "carpet": [
           {
            "aaxis": {
             "endlinecolor": "#2a3f5f",
             "gridcolor": "white",
             "linecolor": "white",
             "minorgridcolor": "white",
             "startlinecolor": "#2a3f5f"
            },
            "baxis": {
             "endlinecolor": "#2a3f5f",
             "gridcolor": "white",
             "linecolor": "white",
             "minorgridcolor": "white",
             "startlinecolor": "#2a3f5f"
            },
            "type": "carpet"
           }
          ],
          "choropleth": [
           {
            "colorbar": {
             "outlinewidth": 0,
             "ticks": ""
            },
            "type": "choropleth"
           }
          ],
          "contour": [
           {
            "colorbar": {
             "outlinewidth": 0,
             "ticks": ""
            },
            "colorscale": [
             [
              0,
              "#0d0887"
             ],
             [
              0.1111111111111111,
              "#46039f"
             ],
             [
              0.2222222222222222,
              "#7201a8"
             ],
             [
              0.3333333333333333,
              "#9c179e"
             ],
             [
              0.4444444444444444,
              "#bd3786"
             ],
             [
              0.5555555555555556,
              "#d8576b"
             ],
             [
              0.6666666666666666,
              "#ed7953"
             ],
             [
              0.7777777777777778,
              "#fb9f3a"
             ],
             [
              0.8888888888888888,
              "#fdca26"
             ],
             [
              1,
              "#f0f921"
             ]
            ],
            "type": "contour"
           }
          ],
          "contourcarpet": [
           {
            "colorbar": {
             "outlinewidth": 0,
             "ticks": ""
            },
            "type": "contourcarpet"
           }
          ],
          "heatmap": [
           {
            "colorbar": {
             "outlinewidth": 0,
             "ticks": ""
            },
            "colorscale": [
             [
              0,
              "#0d0887"
             ],
             [
              0.1111111111111111,
              "#46039f"
             ],
             [
              0.2222222222222222,
              "#7201a8"
             ],
             [
              0.3333333333333333,
              "#9c179e"
             ],
             [
              0.4444444444444444,
              "#bd3786"
             ],
             [
              0.5555555555555556,
              "#d8576b"
             ],
             [
              0.6666666666666666,
              "#ed7953"
             ],
             [
              0.7777777777777778,
              "#fb9f3a"
             ],
             [
              0.8888888888888888,
              "#fdca26"
             ],
             [
              1,
              "#f0f921"
             ]
            ],
            "type": "heatmap"
           }
          ],
          "heatmapgl": [
           {
            "colorbar": {
             "outlinewidth": 0,
             "ticks": ""
            },
            "colorscale": [
             [
              0,
              "#0d0887"
             ],
             [
              0.1111111111111111,
              "#46039f"
             ],
             [
              0.2222222222222222,
              "#7201a8"
             ],
             [
              0.3333333333333333,
              "#9c179e"
             ],
             [
              0.4444444444444444,
              "#bd3786"
             ],
             [
              0.5555555555555556,
              "#d8576b"
             ],
             [
              0.6666666666666666,
              "#ed7953"
             ],
             [
              0.7777777777777778,
              "#fb9f3a"
             ],
             [
              0.8888888888888888,
              "#fdca26"
             ],
             [
              1,
              "#f0f921"
             ]
            ],
            "type": "heatmapgl"
           }
          ],
          "histogram": [
           {
            "marker": {
             "pattern": {
              "fillmode": "overlay",
              "size": 10,
              "solidity": 0.2
             }
            },
            "type": "histogram"
           }
          ],
          "histogram2d": [
           {
            "colorbar": {
             "outlinewidth": 0,
             "ticks": ""
            },
            "colorscale": [
             [
              0,
              "#0d0887"
             ],
             [
              0.1111111111111111,
              "#46039f"
             ],
             [
              0.2222222222222222,
              "#7201a8"
             ],
             [
              0.3333333333333333,
              "#9c179e"
             ],
             [
              0.4444444444444444,
              "#bd3786"
             ],
             [
              0.5555555555555556,
              "#d8576b"
             ],
             [
              0.6666666666666666,
              "#ed7953"
             ],
             [
              0.7777777777777778,
              "#fb9f3a"
             ],
             [
              0.8888888888888888,
              "#fdca26"
             ],
             [
              1,
              "#f0f921"
             ]
            ],
            "type": "histogram2d"
           }
          ],
          "histogram2dcontour": [
           {
            "colorbar": {
             "outlinewidth": 0,
             "ticks": ""
            },
            "colorscale": [
             [
              0,
              "#0d0887"
             ],
             [
              0.1111111111111111,
              "#46039f"
             ],
             [
              0.2222222222222222,
              "#7201a8"
             ],
             [
              0.3333333333333333,
              "#9c179e"
             ],
             [
              0.4444444444444444,
              "#bd3786"
             ],
             [
              0.5555555555555556,
              "#d8576b"
             ],
             [
              0.6666666666666666,
              "#ed7953"
             ],
             [
              0.7777777777777778,
              "#fb9f3a"
             ],
             [
              0.8888888888888888,
              "#fdca26"
             ],
             [
              1,
              "#f0f921"
             ]
            ],
            "type": "histogram2dcontour"
           }
          ],
          "mesh3d": [
           {
            "colorbar": {
             "outlinewidth": 0,
             "ticks": ""
            },
            "type": "mesh3d"
           }
          ],
          "parcoords": [
           {
            "line": {
             "colorbar": {
              "outlinewidth": 0,
              "ticks": ""
             }
            },
            "type": "parcoords"
           }
          ],
          "pie": [
           {
            "automargin": true,
            "type": "pie"
           }
          ],
          "scatter": [
           {
            "fillpattern": {
             "fillmode": "overlay",
             "size": 10,
             "solidity": 0.2
            },
            "type": "scatter"
           }
          ],
          "scatter3d": [
           {
            "line": {
             "colorbar": {
              "outlinewidth": 0,
              "ticks": ""
             }
            },
            "marker": {
             "colorbar": {
              "outlinewidth": 0,
              "ticks": ""
             }
            },
            "type": "scatter3d"
           }
          ],
          "scattercarpet": [
           {
            "marker": {
             "colorbar": {
              "outlinewidth": 0,
              "ticks": ""
             }
            },
            "type": "scattercarpet"
           }
          ],
          "scattergeo": [
           {
            "marker": {
             "colorbar": {
              "outlinewidth": 0,
              "ticks": ""
             }
            },
            "type": "scattergeo"
           }
          ],
          "scattergl": [
           {
            "marker": {
             "colorbar": {
              "outlinewidth": 0,
              "ticks": ""
             }
            },
            "type": "scattergl"
           }
          ],
          "scattermapbox": [
           {
            "marker": {
             "colorbar": {
              "outlinewidth": 0,
              "ticks": ""
             }
            },
            "type": "scattermapbox"
           }
          ],
          "scatterpolar": [
           {
            "marker": {
             "colorbar": {
              "outlinewidth": 0,
              "ticks": ""
             }
            },
            "type": "scatterpolar"
           }
          ],
          "scatterpolargl": [
           {
            "marker": {
             "colorbar": {
              "outlinewidth": 0,
              "ticks": ""
             }
            },
            "type": "scatterpolargl"
           }
          ],
          "scatterternary": [
           {
            "marker": {
             "colorbar": {
              "outlinewidth": 0,
              "ticks": ""
             }
            },
            "type": "scatterternary"
           }
          ],
          "surface": [
           {
            "colorbar": {
             "outlinewidth": 0,
             "ticks": ""
            },
            "colorscale": [
             [
              0,
              "#0d0887"
             ],
             [
              0.1111111111111111,
              "#46039f"
             ],
             [
              0.2222222222222222,
              "#7201a8"
             ],
             [
              0.3333333333333333,
              "#9c179e"
             ],
             [
              0.4444444444444444,
              "#bd3786"
             ],
             [
              0.5555555555555556,
              "#d8576b"
             ],
             [
              0.6666666666666666,
              "#ed7953"
             ],
             [
              0.7777777777777778,
              "#fb9f3a"
             ],
             [
              0.8888888888888888,
              "#fdca26"
             ],
             [
              1,
              "#f0f921"
             ]
            ],
            "type": "surface"
           }
          ],
          "table": [
           {
            "cells": {
             "fill": {
              "color": "#EBF0F8"
             },
             "line": {
              "color": "white"
             }
            },
            "header": {
             "fill": {
              "color": "#C8D4E3"
             },
             "line": {
              "color": "white"
             }
            },
            "type": "table"
           }
          ]
         },
         "layout": {
          "annotationdefaults": {
           "arrowcolor": "#2a3f5f",
           "arrowhead": 0,
           "arrowwidth": 1
          },
          "autotypenumbers": "strict",
          "coloraxis": {
           "colorbar": {
            "outlinewidth": 0,
            "ticks": ""
           }
          },
          "colorscale": {
           "diverging": [
            [
             0,
             "#8e0152"
            ],
            [
             0.1,
             "#c51b7d"
            ],
            [
             0.2,
             "#de77ae"
            ],
            [
             0.3,
             "#f1b6da"
            ],
            [
             0.4,
             "#fde0ef"
            ],
            [
             0.5,
             "#f7f7f7"
            ],
            [
             0.6,
             "#e6f5d0"
            ],
            [
             0.7,
             "#b8e186"
            ],
            [
             0.8,
             "#7fbc41"
            ],
            [
             0.9,
             "#4d9221"
            ],
            [
             1,
             "#276419"
            ]
           ],
           "sequential": [
            [
             0,
             "#0d0887"
            ],
            [
             0.1111111111111111,
             "#46039f"
            ],
            [
             0.2222222222222222,
             "#7201a8"
            ],
            [
             0.3333333333333333,
             "#9c179e"
            ],
            [
             0.4444444444444444,
             "#bd3786"
            ],
            [
             0.5555555555555556,
             "#d8576b"
            ],
            [
             0.6666666666666666,
             "#ed7953"
            ],
            [
             0.7777777777777778,
             "#fb9f3a"
            ],
            [
             0.8888888888888888,
             "#fdca26"
            ],
            [
             1,
             "#f0f921"
            ]
           ],
           "sequentialminus": [
            [
             0,
             "#0d0887"
            ],
            [
             0.1111111111111111,
             "#46039f"
            ],
            [
             0.2222222222222222,
             "#7201a8"
            ],
            [
             0.3333333333333333,
             "#9c179e"
            ],
            [
             0.4444444444444444,
             "#bd3786"
            ],
            [
             0.5555555555555556,
             "#d8576b"
            ],
            [
             0.6666666666666666,
             "#ed7953"
            ],
            [
             0.7777777777777778,
             "#fb9f3a"
            ],
            [
             0.8888888888888888,
             "#fdca26"
            ],
            [
             1,
             "#f0f921"
            ]
           ]
          },
          "colorway": [
           "#636efa",
           "#EF553B",
           "#00cc96",
           "#ab63fa",
           "#FFA15A",
           "#19d3f3",
           "#FF6692",
           "#B6E880",
           "#FF97FF",
           "#FECB52"
          ],
          "font": {
           "color": "#2a3f5f"
          },
          "geo": {
           "bgcolor": "white",
           "lakecolor": "white",
           "landcolor": "#E5ECF6",
           "showlakes": true,
           "showland": true,
           "subunitcolor": "white"
          },
          "hoverlabel": {
           "align": "left"
          },
          "hovermode": "closest",
          "mapbox": {
           "style": "light"
          },
          "paper_bgcolor": "white",
          "plot_bgcolor": "#E5ECF6",
          "polar": {
           "angularaxis": {
            "gridcolor": "white",
            "linecolor": "white",
            "ticks": ""
           },
           "bgcolor": "#E5ECF6",
           "radialaxis": {
            "gridcolor": "white",
            "linecolor": "white",
            "ticks": ""
           }
          },
          "scene": {
           "xaxis": {
            "backgroundcolor": "#E5ECF6",
            "gridcolor": "white",
            "gridwidth": 2,
            "linecolor": "white",
            "showbackground": true,
            "ticks": "",
            "zerolinecolor": "white"
           },
           "yaxis": {
            "backgroundcolor": "#E5ECF6",
            "gridcolor": "white",
            "gridwidth": 2,
            "linecolor": "white",
            "showbackground": true,
            "ticks": "",
            "zerolinecolor": "white"
           },
           "zaxis": {
            "backgroundcolor": "#E5ECF6",
            "gridcolor": "white",
            "gridwidth": 2,
            "linecolor": "white",
            "showbackground": true,
            "ticks": "",
            "zerolinecolor": "white"
           }
          },
          "shapedefaults": {
           "line": {
            "color": "#2a3f5f"
           }
          },
          "ternary": {
           "aaxis": {
            "gridcolor": "white",
            "linecolor": "white",
            "ticks": ""
           },
           "baxis": {
            "gridcolor": "white",
            "linecolor": "white",
            "ticks": ""
           },
           "bgcolor": "#E5ECF6",
           "caxis": {
            "gridcolor": "white",
            "linecolor": "white",
            "ticks": ""
           }
          },
          "title": {
           "x": 0.05
          },
          "xaxis": {
           "automargin": true,
           "gridcolor": "white",
           "linecolor": "white",
           "ticks": "",
           "title": {
            "standoff": 15
           },
           "zerolinecolor": "white",
           "zerolinewidth": 2
          },
          "yaxis": {
           "automargin": true,
           "gridcolor": "white",
           "linecolor": "white",
           "ticks": "",
           "title": {
            "standoff": 15
           },
           "zerolinecolor": "white",
           "zerolinewidth": 2
          }
         }
        },
        "title": {
         "text": "Correlation Matrix",
         "x": 0.5
        },
        "width": 600,
        "xaxis": {
         "showgrid": false
        },
        "yaxis": {
         "autorange": "reversed",
         "showgrid": false
        }
       }
      }
     },
     "metadata": {},
     "output_type": "display_data"
    }
   ],
   "source": [
    "columns_names = df_ressources.columns\n",
    "\n",
    "heat = go.Heatmap(\n",
    "    z = df_ressources.corr(),\n",
    "    x = columns_names,\n",
    "    y = columns_names,\n",
    "    xgap = 1, ygap = 1,\n",
    "    colorbar_thickness=20,\n",
    "    colorbar_ticklen=3,\n",
    "    hovertext = df_ressources.corr(),\n",
    "    hoverinfo='text'\n",
    ")\n",
    "\n",
    "layout = go.Layout(\n",
    "    title_text= \"Correlation Matrix\",\n",
    "    title_x = 0.5,\n",
    "    width=600, height=600,\n",
    "    xaxis_showgrid=False,\n",
    "    yaxis_showgrid=False,\n",
    "    yaxis_autorange='reversed'\n",
    ")\n",
    "\n",
    "fig = go.Figure(data=[heat], layout=layout)\n",
    "fig.show()"
   ]
  },
  {
   "attachments": {},
   "cell_type": "markdown",
   "metadata": {},
   "source": [
    "On voit qu'il n'y a pas tellement de corrélation entre les variables qu'on a prises ici."
   ]
  },
  {
   "attachments": {},
   "cell_type": "markdown",
   "metadata": {},
   "source": [
    "### Clustering\n",
    "\n",
    "On peut maintenant passer au Clustering avec l'algorithme de ``KMeans``."
   ]
  },
  {
   "cell_type": "code",
   "execution_count": 8,
   "metadata": {},
   "outputs": [
    {
     "data": {
      "text/html": [
       "<div>\n",
       "<style scoped>\n",
       "    .dataframe tbody tr th:only-of-type {\n",
       "        vertical-align: middle;\n",
       "    }\n",
       "\n",
       "    .dataframe tbody tr th {\n",
       "        vertical-align: top;\n",
       "    }\n",
       "\n",
       "    .dataframe thead th {\n",
       "        text-align: right;\n",
       "    }\n",
       "</style>\n",
       "<table border=\"1\" class=\"dataframe\">\n",
       "  <thead>\n",
       "    <tr style=\"text-align: right;\">\n",
       "      <th></th>\n",
       "      <th>manuelnum</th>\n",
       "      <th>animscienlogisimu</th>\n",
       "      <th>bdd</th>\n",
       "      <th>logioutils</th>\n",
       "      <th>ouvref</th>\n",
       "      <th>resentrainement</th>\n",
       "      <th>autres</th>\n",
       "      <th>aucune</th>\n",
       "    </tr>\n",
       "  </thead>\n",
       "  <tbody>\n",
       "    <tr>\n",
       "      <th>0</th>\n",
       "      <td>0.337349</td>\n",
       "      <td>0.289157</td>\n",
       "      <td>0.385542</td>\n",
       "      <td>0.698795</td>\n",
       "      <td>0.277108</td>\n",
       "      <td>3.493976e-01</td>\n",
       "      <td>2.530120e-01</td>\n",
       "      <td>1.204819e-02</td>\n",
       "    </tr>\n",
       "    <tr>\n",
       "      <th>1</th>\n",
       "      <td>0.887324</td>\n",
       "      <td>0.873239</td>\n",
       "      <td>0.950704</td>\n",
       "      <td>0.978873</td>\n",
       "      <td>0.880282</td>\n",
       "      <td>4.507042e-01</td>\n",
       "      <td>3.330669e-16</td>\n",
       "      <td>-8.673617e-19</td>\n",
       "    </tr>\n",
       "    <tr>\n",
       "      <th>2</th>\n",
       "      <td>0.796117</td>\n",
       "      <td>0.941748</td>\n",
       "      <td>0.922330</td>\n",
       "      <td>0.980583</td>\n",
       "      <td>0.873786</td>\n",
       "      <td>1.000000e+00</td>\n",
       "      <td>1.000000e+00</td>\n",
       "      <td>-1.734723e-18</td>\n",
       "    </tr>\n",
       "    <tr>\n",
       "      <th>3</th>\n",
       "      <td>0.697248</td>\n",
       "      <td>0.926606</td>\n",
       "      <td>0.908257</td>\n",
       "      <td>0.954128</td>\n",
       "      <td>0.807339</td>\n",
       "      <td>1.110223e-16</td>\n",
       "      <td>1.000000e+00</td>\n",
       "      <td>-1.734723e-18</td>\n",
       "    </tr>\n",
       "  </tbody>\n",
       "</table>\n",
       "</div>"
      ],
      "text/plain": [
       "   manuelnum  animscienlogisimu       bdd  logioutils    ouvref  \\\n",
       "0   0.337349           0.289157  0.385542    0.698795  0.277108   \n",
       "1   0.887324           0.873239  0.950704    0.978873  0.880282   \n",
       "2   0.796117           0.941748  0.922330    0.980583  0.873786   \n",
       "3   0.697248           0.926606  0.908257    0.954128  0.807339   \n",
       "\n",
       "   resentrainement        autres        aucune  \n",
       "0     3.493976e-01  2.530120e-01  1.204819e-02  \n",
       "1     4.507042e-01  3.330669e-16 -8.673617e-19  \n",
       "2     1.000000e+00  1.000000e+00 -1.734723e-18  \n",
       "3     1.110223e-16  1.000000e+00 -1.734723e-18  "
      ]
     },
     "execution_count": 8,
     "metadata": {},
     "output_type": "execute_result"
    }
   ],
   "source": [
    "km_ressources = KMeans(\n",
    "    n_clusters=4, \n",
    "    random_state=42,\n",
    "    init='k-means++',\n",
    "    max_iter=3600,\n",
    "    n_init=20\n",
    ")\n",
    "\n",
    "y_km_ressources = km_ressources.fit_predict(df_ressources)\n",
    "\n",
    "resultat = pd.DataFrame(km_ressources.cluster_centers_, columns=km_ressources.feature_names_in_)\n",
    "\n",
    "resultat"
   ]
  },
  {
   "attachments": {},
   "cell_type": "markdown",
   "metadata": {},
   "source": [
    "On va convertir ces valeurs numériques en \"oui\" et \"non\" pour pouvoir comprendre le comportement moyen qui se dégage d'un cluster. Cela sera plus facile à comprendre et interprèter"
   ]
  },
  {
   "cell_type": "code",
   "execution_count": 9,
   "metadata": {},
   "outputs": [
    {
     "data": {
      "text/html": [
       "<div>\n",
       "<style scoped>\n",
       "    .dataframe tbody tr th:only-of-type {\n",
       "        vertical-align: middle;\n",
       "    }\n",
       "\n",
       "    .dataframe tbody tr th {\n",
       "        vertical-align: top;\n",
       "    }\n",
       "\n",
       "    .dataframe thead th {\n",
       "        text-align: right;\n",
       "    }\n",
       "</style>\n",
       "<table border=\"1\" class=\"dataframe\">\n",
       "  <thead>\n",
       "    <tr style=\"text-align: right;\">\n",
       "      <th></th>\n",
       "      <th>manuelnum</th>\n",
       "      <th>animscienlogisimu</th>\n",
       "      <th>bdd</th>\n",
       "      <th>logioutils</th>\n",
       "      <th>ouvref</th>\n",
       "      <th>resentrainement</th>\n",
       "      <th>autres</th>\n",
       "      <th>aucune</th>\n",
       "    </tr>\n",
       "  </thead>\n",
       "  <tbody>\n",
       "    <tr>\n",
       "      <th>0</th>\n",
       "      <td>non</td>\n",
       "      <td>non</td>\n",
       "      <td>non</td>\n",
       "      <td>oui</td>\n",
       "      <td>non</td>\n",
       "      <td>non</td>\n",
       "      <td>non</td>\n",
       "      <td>non</td>\n",
       "    </tr>\n",
       "    <tr>\n",
       "      <th>1</th>\n",
       "      <td>oui</td>\n",
       "      <td>oui</td>\n",
       "      <td>oui</td>\n",
       "      <td>oui</td>\n",
       "      <td>oui</td>\n",
       "      <td>non</td>\n",
       "      <td>non</td>\n",
       "      <td>non</td>\n",
       "    </tr>\n",
       "    <tr>\n",
       "      <th>2</th>\n",
       "      <td>oui</td>\n",
       "      <td>oui</td>\n",
       "      <td>oui</td>\n",
       "      <td>oui</td>\n",
       "      <td>oui</td>\n",
       "      <td>oui</td>\n",
       "      <td>oui</td>\n",
       "      <td>non</td>\n",
       "    </tr>\n",
       "    <tr>\n",
       "      <th>3</th>\n",
       "      <td>oui</td>\n",
       "      <td>oui</td>\n",
       "      <td>oui</td>\n",
       "      <td>oui</td>\n",
       "      <td>oui</td>\n",
       "      <td>non</td>\n",
       "      <td>oui</td>\n",
       "      <td>non</td>\n",
       "    </tr>\n",
       "  </tbody>\n",
       "</table>\n",
       "</div>"
      ],
      "text/plain": [
       "  manuelnum animscienlogisimu  bdd logioutils ouvref resentrainement autres  \\\n",
       "0       non               non  non        oui    non             non    non   \n",
       "1       oui               oui  oui        oui    oui             non    non   \n",
       "2       oui               oui  oui        oui    oui             oui    oui   \n",
       "3       oui               oui  oui        oui    oui             non    oui   \n",
       "\n",
       "  aucune  \n",
       "0    non  \n",
       "1    non  \n",
       "2    non  \n",
       "3    non  "
      ]
     },
     "execution_count": 9,
     "metadata": {},
     "output_type": "execute_result"
    }
   ],
   "source": [
    "def change_value(row):\n",
    "    if(row > 0.5):\n",
    "        return 1\n",
    "    else:\n",
    "        return 0\n",
    "\n",
    "\n",
    "for column in resultat.columns:\n",
    "    resultat[column] = resultat[column].apply(change_value)\n",
    "    resultat[column] = resultat[column].replace({1: 'oui', 0: 'non'})\n",
    "    resultat[column] = resultat[column].astype(str)\n",
    "\n",
    "\n",
    "resultat"
   ]
  },
  {
   "attachments": {},
   "cell_type": "markdown",
   "metadata": {},
   "source": [
    "Après plusieurs essais, avec plusieurs valeurs pour le nombre de clusters à trouver, nous avons pu voir que les meilleurs paramètres mis au dessus dans la fonction du KMeans est celui mis actuellement. Il permet de discrétiser en 4 modalités ces 8 colonnes. Si on augmente le nombre de clusters, on a des classes qui se ressemblent, et si on le diminue les classes ne sont pas précises. \n",
    "Nous avons donc ici 4 modalités pour la nouvelle classe \"ressources mises en place\" :\n",
    "- \"*`Très bien`*\" : la classe 1\n",
    "- \"*`Bien`*\" : la classe 3\n",
    "- \"*`Assez bien`*\" : la classe 0\n",
    "- \"*`Mauvais`*\" : la classe 2\n",
    "\n",
    "\n",
    "On va ensuite procéder à une ACP pour voir si on a une bonne découpe des clusters et avoir une représentation physique qui va plus nous parler.\n",
    "\n",
    "On ajoute à chaque individu sa classe."
   ]
  },
  {
   "cell_type": "code",
   "execution_count": 10,
   "metadata": {},
   "outputs": [
    {
     "data": {
      "text/html": [
       "<div>\n",
       "<style scoped>\n",
       "    .dataframe tbody tr th:only-of-type {\n",
       "        vertical-align: middle;\n",
       "    }\n",
       "\n",
       "    .dataframe tbody tr th {\n",
       "        vertical-align: top;\n",
       "    }\n",
       "\n",
       "    .dataframe thead th {\n",
       "        text-align: right;\n",
       "    }\n",
       "</style>\n",
       "<table border=\"1\" class=\"dataframe\">\n",
       "  <thead>\n",
       "    <tr style=\"text-align: right;\">\n",
       "      <th></th>\n",
       "      <th>manuelnum</th>\n",
       "      <th>animscienlogisimu</th>\n",
       "      <th>bdd</th>\n",
       "      <th>logioutils</th>\n",
       "      <th>ouvref</th>\n",
       "      <th>resentrainement</th>\n",
       "      <th>autres</th>\n",
       "      <th>aucune</th>\n",
       "      <th>cluster</th>\n",
       "    </tr>\n",
       "    <tr>\n",
       "      <th>Code_UAI</th>\n",
       "      <th></th>\n",
       "      <th></th>\n",
       "      <th></th>\n",
       "      <th></th>\n",
       "      <th></th>\n",
       "      <th></th>\n",
       "      <th></th>\n",
       "      <th></th>\n",
       "      <th></th>\n",
       "    </tr>\n",
       "  </thead>\n",
       "  <tbody>\n",
       "    <tr>\n",
       "      <th>0810016C</th>\n",
       "      <td>1.0</td>\n",
       "      <td>1.0</td>\n",
       "      <td>1.0</td>\n",
       "      <td>1.0</td>\n",
       "      <td>1.0</td>\n",
       "      <td>0.0</td>\n",
       "      <td>1.0</td>\n",
       "      <td>0.0</td>\n",
       "      <td>3</td>\n",
       "    </tr>\n",
       "    <tr>\n",
       "      <th>0810026N</th>\n",
       "      <td>0.0</td>\n",
       "      <td>1.0</td>\n",
       "      <td>1.0</td>\n",
       "      <td>1.0</td>\n",
       "      <td>1.0</td>\n",
       "      <td>0.0</td>\n",
       "      <td>1.0</td>\n",
       "      <td>0.0</td>\n",
       "      <td>3</td>\n",
       "    </tr>\n",
       "    <tr>\n",
       "      <th>0810041E</th>\n",
       "      <td>1.0</td>\n",
       "      <td>0.0</td>\n",
       "      <td>1.0</td>\n",
       "      <td>1.0</td>\n",
       "      <td>1.0</td>\n",
       "      <td>1.0</td>\n",
       "      <td>1.0</td>\n",
       "      <td>0.0</td>\n",
       "      <td>2</td>\n",
       "    </tr>\n",
       "    <tr>\n",
       "      <th>0810124V</th>\n",
       "      <td>1.0</td>\n",
       "      <td>1.0</td>\n",
       "      <td>1.0</td>\n",
       "      <td>1.0</td>\n",
       "      <td>1.0</td>\n",
       "      <td>0.0</td>\n",
       "      <td>1.0</td>\n",
       "      <td>0.0</td>\n",
       "      <td>3</td>\n",
       "    </tr>\n",
       "    <tr>\n",
       "      <th>0810125W</th>\n",
       "      <td>1.0</td>\n",
       "      <td>0.0</td>\n",
       "      <td>0.0</td>\n",
       "      <td>1.0</td>\n",
       "      <td>0.0</td>\n",
       "      <td>1.0</td>\n",
       "      <td>0.0</td>\n",
       "      <td>0.0</td>\n",
       "      <td>0</td>\n",
       "    </tr>\n",
       "  </tbody>\n",
       "</table>\n",
       "</div>"
      ],
      "text/plain": [
       "          manuelnum  animscienlogisimu  bdd  logioutils  ouvref  \\\n",
       "Code_UAI                                                          \n",
       "0810016C        1.0                1.0  1.0         1.0     1.0   \n",
       "0810026N        0.0                1.0  1.0         1.0     1.0   \n",
       "0810041E        1.0                0.0  1.0         1.0     1.0   \n",
       "0810124V        1.0                1.0  1.0         1.0     1.0   \n",
       "0810125W        1.0                0.0  0.0         1.0     0.0   \n",
       "\n",
       "          resentrainement  autres  aucune cluster  \n",
       "Code_UAI                                           \n",
       "0810016C              0.0     1.0     0.0       3  \n",
       "0810026N              0.0     1.0     0.0       3  \n",
       "0810041E              1.0     1.0     0.0       2  \n",
       "0810124V              0.0     1.0     0.0       3  \n",
       "0810125W              1.0     0.0     0.0       0  "
      ]
     },
     "execution_count": 10,
     "metadata": {},
     "output_type": "execute_result"
    }
   ],
   "source": [
    "df_ressources['cluster'] = y_km_ressources\n",
    "df_ressources['cluster'] = df_ressources['cluster'].astype(str)\n",
    "df_ressources.head()"
   ]
  },
  {
   "attachments": {},
   "cell_type": "markdown",
   "metadata": {},
   "source": [
    "Après avoir bien mis en forme nos données, on peut passer à une ACP. Nous allons d'abord faire une ACP à l'aide de la classe ``PCA`` fournie par ```sklearn```"
   ]
  },
  {
   "cell_type": "code",
   "execution_count": 11,
   "metadata": {},
   "outputs": [
    {
     "data": {
      "application/vnd.plotly.v1+json": {
       "config": {
        "plotlyServerURL": "https://plot.ly"
       },
       "data": [
        {
         "hovertemplate": "color=3<br>PC1=%{x}<br>PC2=%{y}<extra></extra>",
         "legendgroup": "3",
         "marker": {
          "color": "#636efa",
          "symbol": "circle"
         },
         "mode": "markers",
         "name": "3",
         "orientation": "v",
         "showlegend": true,
         "type": "scatter",
         "x": [
          -0.39658352832231414,
          -0.03756927997667173,
          -0.39658352832231547,
          -0.03756927997666693,
          -0.04113939215367404,
          -0.04113939215367404,
          0.42060164994452937,
          0.4322928917302141,
          -0.39658352832231447,
          -0.39658352832231447,
          0.06515751377588885,
          -0.39658352832231447,
          -0.39658352832231447,
          -0.39658352832231447,
          -0.39658352832231447,
          -0.39658352832231447,
          0.06515751377588885,
          -0.39658352832231447,
          0.29355126016677174,
          -0.03756927997666693,
          -0.39658352832231447,
          -0.39658352832231447,
          -0.03756927997666693,
          -0.03756927997666693,
          -0.03756927997666693,
          0.644444378903742,
          -0.39658352832231447,
          -0.39658352832231447,
          -0.39658352832231447,
          -0.39658352832231447,
          -0.03756927997666693,
          -0.03756927997666693,
          0.07327864338456645,
          -0.39658352832231447,
          -0.39658352832231447,
          0.06515751377588885,
          -0.39658352832231447,
          0.4241717621215365,
          -0.39658352832231447,
          0.4241717621215365,
          0.06515751377588885,
          -0.39658352832231447,
          -0.39658352832231447,
          -0.39658352832231447,
          -0.39658352832231447,
          -0.03756927997666693,
          0.42872277955320687,
          -0.39658352832231447,
          -0.39658352832231447,
          0.06515751377588885,
          0.29355126016677174,
          -0.39658352832231447,
          -0.39658352832231447,
          0.06515751377588885,
          0.06515751377588885,
          0.4241717621215365,
          0.4241717621215365,
          -0.39658352832231447,
          -0.39658352832231447,
          -0.39658352832231447,
          -0.39658352832231447,
          -0.39658352832231447,
          0.4241717621215365,
          -0.39658352832231447,
          -0.39658352832231447,
          -0.39658352832231447,
          -0.39658352832231447,
          -0.39658352832231447,
          -0.04113939215367404,
          0.06515751377588885,
          0.4322928917302141,
          0.4322928917302141,
          0.06515751377588885,
          0.3178748561919736,
          -0.39658352832231447,
          -0.39658352832231447,
          -0.39658352832231447,
          -0.03756927997666693,
          -0.39658352832231447,
          -0.03756927997666693,
          -0.39658352832231447,
          -0.39658352832231447,
          0.18270333680553835,
          -0.03756927997666693,
          -0.39658352832231447,
          -0.04113939215367404,
          -0.39658352832231447,
          -0.39658352832231447,
          -0.39658352832231447,
          -0.04113939215367404,
          -0.39658352832231447,
          0.4241717621215365,
          -0.03756927997666693,
          -0.39658352832231447,
          0.3178748561919736,
          0.4241717621215365,
          -0.39658352832231447,
          0.4241717621215365,
          -0.39658352832231447,
          -0.03756927997666693,
          -0.04113939215367404,
          -0.39658352832231447,
          0.07327864338456645,
          -0.39658352832231447,
          -0.03756927997666693,
          -0.03756927997666693,
          0.18270333680553835,
          0.06515751377588885,
          0.4241717621215366
         ],
         "xaxis": "x",
         "y": [
          0.2567060470722965,
          0.7106547873414201,
          0.2567060470722972,
          0.7106547873414205,
          0.35199840566978813,
          0.35199840566978813,
          0.5044479750451136,
          0.6802659872457595,
          0.25670604707229866,
          0.25670604707229866,
          0.40915561644762416,
          0.25670604707229866,
          0.25670604707229866,
          0.25670604707229866,
          0.25670604707229866,
          0.25670604707229866,
          0.40915561644762416,
          0.25670604707229866,
          0.31551675048922495,
          0.7106547873414205,
          0.25670604707229866,
          0.25670604707229866,
          0.7106547873414205,
          0.7106547873414205,
          0.7106547873414205,
          0.9523038602293336,
          0.25670604707229866,
          0.25670604707229866,
          0.25670604707229866,
          0.25670604707229866,
          0.7106547873414205,
          0.7106547873414205,
          0.22631724697663771,
          0.25670604707229866,
          0.25670604707229866,
          0.40915561644762416,
          0.25670604707229866,
          0.863104356716746,
          0.25670604707229866,
          0.863104356716746,
          0.40915561644762416,
          0.25670604707229866,
          0.25670604707229866,
          0.25670604707229866,
          0.25670604707229866,
          0.7106547873414205,
          0.3216096055741271,
          0.25670604707229866,
          0.25670604707229866,
          0.40915561644762416,
          0.31551675048922495,
          0.25670604707229866,
          0.25670604707229866,
          0.40915561644762416,
          0.40915561644762416,
          0.863104356716746,
          0.863104356716746,
          0.25670604707229866,
          0.25670604707229866,
          0.25670604707229866,
          0.25670604707229866,
          0.25670604707229866,
          0.863104356716746,
          0.25670604707229866,
          0.25670604707229866,
          0.25670604707229866,
          0.25670604707229866,
          0.25670604707229866,
          0.35199840566978813,
          0.40915561644762416,
          0.6802659872457595,
          0.6802659872457595,
          0.40915561644762416,
          0.8059471459389099,
          0.25670604707229866,
          0.25670604707229866,
          0.25670604707229866,
          0.7106547873414205,
          0.25670604707229866,
          0.7106547873414205,
          0.25670604707229866,
          0.25670604707229866,
          0.7998542908540079,
          0.7106547873414205,
          0.25670604707229866,
          0.35199840566978813,
          0.25670604707229866,
          0.25670604707229866,
          0.25670604707229866,
          0.35199840566978813,
          0.25670604707229866,
          0.863104356716746,
          0.7106547873414205,
          0.25670604707229866,
          0.8059471459389099,
          0.863104356716746,
          0.25670604707229866,
          0.863104356716746,
          0.25670604707229866,
          0.7106547873414205,
          0.35199840566978813,
          0.25670604707229866,
          0.22631724697663771,
          0.25670604707229866,
          0.7106547873414205,
          0.7106547873414205,
          0.7998542908540079,
          0.40915561644762416,
          0.863104356716746
         ],
         "yaxis": "y"
        },
        {
         "hovertemplate": "color=2<br>PC1=%{x}<br>PC2=%{y}<extra></extra>",
         "legendgroup": "2",
         "marker": {
          "color": "#EF553B",
          "symbol": "circle"
         },
         "mode": "markers",
         "name": "2",
         "orientation": "v",
         "showlegend": true,
         "type": "scatter",
         "x": [
          -0.2966824450159263,
          -0.7665446167228062,
          -0.7665446167228064,
          -0.3048035746246031,
          -0.7665446167228064,
          -0.7665446167228064,
          -0.7665446167228064,
          -0.40753036837715895,
          -0.7665446167228064,
          -0.2966824450159255,
          -0.7665446167228064,
          -0.41110048055416604,
          -0.7665446167228064,
          -0.7665446167228064,
          -0.7665446167228064,
          -0.40753036837715895,
          -0.7665446167228064,
          0.050640561544037344,
          -0.3048035746246031,
          -0.7665446167228064,
          -0.7665446167228064,
          -0.7665446167228064,
          -0.7665446167228064,
          -0.7665446167228064,
          -0.40753036837715895,
          -0.40753036837715895,
          -0.7665446167228064,
          -0.7665446167228064,
          -0.40753036837715895,
          -0.7665446167228064,
          -0.3048035746246031,
          -0.7665446167228064,
          -0.7665446167228064,
          -0.7665446167228064,
          -0.7665446167228064,
          -0.3048035746246031,
          -0.7665446167228064,
          -0.7665446167228064,
          -0.7665446167228064,
          -0.7665446167228064,
          -0.7665446167228064,
          0.05876169115271503,
          -0.3048035746246031,
          -0.40753036837715895,
          -0.7665446167228064,
          -0.7665446167228064,
          -0.7665446167228064,
          -0.40753036837715895,
          -0.40753036837715895,
          -0.7665446167228064,
          -0.05208623220851834,
          -0.7665446167228064,
          -0.2966824450159255,
          0.050640561544037344,
          -0.7665446167228064,
          -0.7665446167228064,
          -0.40753036837715895,
          -0.7665446167228064,
          -0.7665446167228064,
          -0.40753036837715895,
          -0.7665446167228064,
          -0.7665446167228064,
          -0.7665446167228064,
          -0.7665446167228064,
          -0.7665446167228064,
          -0.7665446167228064,
          0.16505859708227788,
          -0.7665446167228064,
          -0.7665446167228064,
          -0.7665446167228064,
          -0.7665446167228064,
          0.27448329050324993,
          -0.7665446167228064,
          -0.40753036837715895,
          -0.7665446167228064,
          -0.3048035746246031,
          -0.40753036837715895,
          -0.7665446167228064,
          -0.7665446167228064,
          -0.41110048055416604,
          -0.7665446167228064,
          -0.40753036837715895,
          -0.7665446167228064,
          0.050640561544037344,
          -0.40753036837715895,
          -0.7665446167228064,
          -0.7665446167228064,
          -0.2966824450159255,
          -0.3048035746246031,
          -0.7665446167228064,
          -0.40753036837715895,
          -0.08453095784239771,
          -0.40753036837715895,
          -0.7665446167228064,
          -0.7665446167228064,
          -0.7665446167228064,
          -0.40753036837715895,
          -0.7665446167228064,
          -0.40753036837715895,
          -0.40753036837715895,
          -0.7665446167228064,
          -0.41110048055416604,
          -0.7665446167228064
         ],
         "xaxis": "x",
         "y": [
          0.1376263658536618,
          0.16801516594932164,
          0.16801516594932173,
          0.3204647353246473,
          0.16801516594932173,
          0.16801516594932173,
          0.16801516594932173,
          0.6219639062184437,
          0.16801516594932173,
          0.13762636585366086,
          0.16801516594932173,
          0.2633075245468112,
          0.16801516594932173,
          0.16801516594932173,
          0.16801516594932173,
          0.6219639062184437,
          0.16801516594932173,
          0.4157570939221367,
          0.3204647353246473,
          0.16801516594932173,
          0.16801516594932173,
          0.16801516594932173,
          0.16801516594932173,
          0.16801516594932173,
          0.6219639062184437,
          0.6219639062184437,
          0.16801516594932173,
          0.16801516594932173,
          0.6219639062184437,
          0.16801516594932173,
          0.3204647353246473,
          0.16801516594932173,
          0.16801516594932173,
          0.16801516594932173,
          0.16801516594932173,
          0.3204647353246473,
          0.16801516594932173,
          0.16801516594932173,
          0.16801516594932173,
          0.16801516594932173,
          0.16801516594932173,
          0.23291872445115003,
          0.3204647353246473,
          0.6219639062184437,
          0.16801516594932173,
          0.16801516594932173,
          0.16801516594932173,
          0.6219639062184437,
          0.6219639062184437,
          0.16801516594932173,
          0.7172562648159331,
          0.16801516594932173,
          0.13762636585366086,
          0.4157570939221367,
          0.16801516594932173,
          0.16801516594932173,
          0.6219639062184437,
          0.16801516594932173,
          0.16801516594932173,
          0.6219639062184437,
          0.16801516594932173,
          0.16801516594932173,
          0.16801516594932173,
          0.16801516594932173,
          0.16801516594932173,
          0.16801516594932173,
          0.2900759352289863,
          0.16801516594932173,
          0.16801516594932173,
          0.16801516594932173,
          0.16801516594932173,
          0.8636129791063566,
          0.16801516594932173,
          0.6219639062184437,
          0.16801516594932173,
          0.3204647353246473,
          0.6219639062184437,
          0.16801516594932173,
          0.16801516594932173,
          0.2633075245468112,
          0.16801516594932173,
          0.6219639062184437,
          0.16801516594932173,
          0.4157570939221367,
          0.6219639062184437,
          0.16801516594932173,
          0.16801516594932173,
          0.13762636585366086,
          0.3204647353246473,
          0.16801516594932173,
          0.6219639062184437,
          0.4096642388372345,
          0.6219639062184437,
          0.16801516594932173,
          0.16801516594932173,
          0.16801516594932173,
          0.6219639062184437,
          0.16801516594932173,
          0.6219639062184437,
          0.6219639062184437,
          0.16801516594932173,
          0.2633075245468112,
          0.16801516594932173
         ],
         "yaxis": "y"
        },
        {
         "hovertemplate": "color=0<br>PC1=%{x}<br>PC2=%{y}<extra></extra>",
         "legendgroup": "0",
         "marker": {
          "color": "#00cc96",
          "symbol": "circle"
         },
         "mode": "markers",
         "name": "0",
         "orientation": "v",
         "showlegend": true,
         "type": "scatter",
         "x": [
          0.8744054277522277,
          1.6033807644983664,
          1.1091949967662829,
          0.7861955862315222,
          1.2494780699970578,
          1.1143065506106227,
          0.3018164622927897,
          1.0982481567114388,
          0.7861955862315222,
          1.4536922928800793,
          0.409654809889685,
          0.7745043444458375,
          1.1107364384336156,
          0.628385985004558,
          0.6717775506932816,
          0.7745043444458375,
          0.8940339338284174,
          0.4081133682223527,
          0.6717775506932816,
          0.4081133682223527,
          0.7745043444458375,
          0.518961291583586,
          1.4682092451119308,
          0.8779755399292337,
          1.4697506867792631,
          1.133518592791485,
          0.7861955862315222,
          1.0982481567114388,
          1.1143065506106227,
          0.7780744566228445,
          0.8940339338284174,
          0.518961291583586,
          1.099789598378771,
          0.3018164622927897,
          1.0080096446810598,
          0.412664385654023,
          0.7780744566228445,
          0.518961291583586,
          0.7861955862315222,
          1.4646391329349235,
          0.518961291583586,
          1.4697506867792631,
          0.7716786339996706,
          0.6717775506932816,
          0.7861955862315222,
          1.0028980908367202,
          0.40454325604534547,
          0.409654809889685,
          0.7877370278988544,
          0.6489953963354123,
          1.3619123391823678,
          1.0982481567114388,
          1.2494780699970578,
          1.1416397224001624,
          0.7745043444458375,
          0.6717775506932816,
          1.0028980908367202,
          0.8779755399292337,
          1.2443665161527182,
          0.8889223799840777,
          1.6033807644983658,
          0.7861955862315222,
          0.8779755399292337,
          0.744345462210131,
          1.6033807644983658,
          1.6033807644983658,
          1.8360886287350526,
          1.133518592791485,
          0.8889223799840777,
          1.6033807644983658,
          1.4646391329349235,
          0.8889223799840777,
          1.1107364384336156,
          0.8889223799840777,
          0.3018164622927897,
          1.2494780699970578,
          0.7826254740545149,
          0.40454325604534547,
          1.094678044534432,
          0.779615898290177,
          1.099789598378771,
          0.409654809889685,
          1.2443665161527182
         ],
         "xaxis": "x",
         "y": [
          -0.47768496149019407,
          0.06495465990190338,
          -0.3950869354521192,
          -0.1827872680709103,
          0.9280079152185744,
          0.9219150601336722,
          -0.14579699050073666,
          -0.029829076305974304,
          -0.1827872680709103,
          0.06546328229151518,
          0.8697058341912586,
          -0.3586052802715561,
          0.5632586784620399,
          0.0005597237896867524,
          -0.057106109377759715,
          -0.3586052802715561,
          0.8327155566210849,
          -0.08863977972290076,
          -0.057106109377759715,
          -0.08863977972290076,
          -0.3586052802715561,
          -0.5729773200876835,
          0.058861804817002636,
          -0.1190285798185618,
          1.0172074187311617,
          0.0953434599975658,
          -0.1827872680709103,
          -0.029829076305974304,
          0.9219150601336722,
          0.000051101400076307245,
          0.8327155566210849,
          -0.5729773200876835,
          0.9285165376081849,
          -0.14579699050073666,
          0.8647578493558364,
          -0.6301345308655195,
          0.000051101400076307245,
          -0.5729773200876835,
          -0.1827872680709103,
          -0.2997945768546298,
          -0.5729773200876835,
          1.0172074187311617,
          -0.17618579059639772,
          -0.057106109377759715,
          -0.1827872680709103,
          -0.4522441462299552,
          -0.447296161394533,
          0.8697058341912586,
          0.7755583458432491,
          0.4108091090867145,
          0.0017045940391666274,
          -0.029829076305974304,
          0.9280079152185744,
          -0.08749490947342077,
          -0.3586052802715561,
          -0.057106109377759715,
          -0.4522441462299552,
          -0.1190285798185618,
          -0.3889940803672171,
          -0.48428643896470663,
          0.06495465990190469,
          -0.1827872680709103,
          -0.1190285798185618,
          0.8332241790106953,
          0.06495465990190469,
          0.06495465990190469,
          0.15557257557814003,
          0.0953434599975658,
          -0.48428643896470663,
          0.06495465990190469,
          -0.2997945768546298,
          -0.48428643896470663,
          0.5632586784620399,
          -0.48428643896470663,
          -0.14579699050073666,
          0.9280079152185744,
          -0.5414436497425427,
          -0.447296161394533,
          -0.3884854579776067,
          0.9583967153142355,
          0.9285165376081849,
          0.8697058341912586,
          -0.38899408036721717
         ],
         "yaxis": "y"
        },
        {
         "hovertemplate": "color=1<br>PC1=%{x}<br>PC2=%{y}<extra></extra>",
         "legendgroup": "1",
         "marker": {
          "color": "#ab63fa",
          "symbol": "circle"
         },
         "mode": "markers",
         "name": "1",
         "orientation": "v",
         "showlegend": true,
         "type": "scatter",
         "x": [
          -0.41264192222149837,
          -0.41264192222149837,
          0.04909911987670496,
          -0.04268083382100641,
          0.41906020827719687,
          -0.41264192222149837,
          0.2693717366589104,
          -0.04268083382100641,
          0.31633341452464114,
          -0.41264192222149837,
          0.31633341452464114,
          0.6474539546680798,
          -0.41264192222149837,
          -0.04268083382100641,
          -0.04268083382100641,
          -0.053627673875850775,
          -0.41264192222149837,
          0.04909911987670496,
          -0.04268083382100641,
          0.04909911987670496,
          -0.41264192222149837,
          0.41906020827719687,
          0.41906020827719687,
          -0.04268083382100641,
          0.31633341452464114,
          0.057220249485382624,
          -0.41264192222149837,
          -0.04268083382100641,
          -0.04268083382100641,
          0.41906020827719687,
          -0.053627673875850775,
          -0.41264192222149837,
          0.312763302347634,
          -0.41264192222149837,
          -0.04268083382100641,
          -0.05719778605285809,
          -0.41264192222149837,
          -0.04268083382100641,
          -0.04268083382100641,
          0.057220249485382624,
          -0.04268083382100641,
          -0.41264192222149837,
          -0.04268083382100641,
          -0.41264192222149837,
          -0.04268083382100641,
          -0.41264192222149837,
          -0.04268083382100641,
          -0.04268083382100641,
          -0.04268083382100641,
          -0.41264192222149837,
          -0.41264192222149837,
          -0.04268083382100641,
          0.41906020827719687,
          0.312763302347634,
          0.31633341452464114,
          -0.053627673875850775,
          0.42718133788587453,
          -0.41264192222149837,
          -0.04268083382100641,
          -0.04268083382100641,
          -0.04268083382100641,
          0.42718133788587453,
          -0.04268083382100641,
          -0.053627673875850775,
          0.42718133788587453,
          -0.41264192222149837,
          0.42718133788587453,
          -0.41264192222149837,
          0.04909911987670496,
          -0.04268083382100641,
          -0.04268083382100641,
          -0.053627673875850775,
          -0.04268083382100641,
          0.41906020827719687,
          -0.04268083382100641,
          0.04909911987670496,
          -0.04268083382100641,
          -0.41264192222149837,
          -0.04268083382100641,
          -0.04268083382100641,
          0.42718133788587453,
          0.41906020827719687,
          0.6474539546680798,
          0.057220249485382624,
          0.04909911987670496,
          -0.04268083382100641,
          0.41906020827719687,
          0.31633341452464114,
          -0.41264192222149837,
          -0.04268083382100641,
          0.42718133788587453,
          -0.41264192222149837,
          -0.41264192222149837,
          0.42718133788587453,
          -0.053627673875850775,
          -0.41264192222149837,
          0.42718133788587453,
          0.41906020827719687,
          0.312763302347634,
          -0.053627673875850775,
          -0.04268083382100641,
          -0.41264192222149837,
          0.057220249485382624,
          -0.41264192222149837,
          -0.04268083382100641,
          -0.053627673875850775,
          0.057220249485382624,
          0.312763302347634,
          0.312763302347634,
          -0.41264192222149837,
          -0.41264192222149837,
          -0.41264192222149837,
          -0.04268083382100641,
          -0.41264192222149837,
          -0.04268083382100641,
          0.057220249485382624,
          -0.04268083382100641,
          -0.053627673875850775,
          -0.41264192222149837,
          -0.04268083382100641,
          -0.04268083382100641,
          -0.41264192222149837,
          -0.04268083382100641,
          -0.04268083382100641,
          0.42718133788587453,
          0.04909911987670496,
          -0.41264192222149837,
          -0.04268083382100641,
          -0.04268083382100641,
          -0.41264192222149837,
          -0.41264192222149837,
          -0.04268083382100641,
          -0.41264192222149837,
          0.312763302347634,
          0.057220249485382624,
          -0.41264192222149837,
          -0.04268083382100641,
          0.31633341452464114,
          -0.04268083382100641,
          -0.053627673875850775,
          -0.04268083382100641,
          -0.41264192222149837
         ],
         "xaxis": "x",
         "y": [
          -0.6950380893673479,
          -0.6950380893673479,
          -0.5425885199920224,
          -0.606347208244371,
          -0.45389763886904555,
          -0.6950380893673479,
          -0.4533890164794352,
          -0.606347208244371,
          -0.15239846797524906,
          -0.6950380893673479,
          -0.15239846797524906,
          -0.5475365048274448,
          -0.6950380893673479,
          -0.606347208244371,
          -0.606347208244371,
          -0.24108934909822613,
          -0.6950380893673479,
          -0.5425885199920224,
          -0.606347208244371,
          -0.5425885199920224,
          -0.6950380893673479,
          -0.45389763886904555,
          -0.45389763886904555,
          -0.606347208244371,
          -0.15239846797524906,
          -0.7254268894630089,
          -0.6950380893673479,
          -0.606347208244371,
          -0.606347208244371,
          -0.45389763886904555,
          -0.24108934909822613,
          -0.6950380893673479,
          -0.5110548496468814,
          -0.6950380893673479,
          -0.606347208244371,
          -0.5997457307698584,
          -0.6950380893673479,
          -0.606347208244371,
          -0.606347208244371,
          -0.7254268894630089,
          -0.606347208244371,
          -0.6950380893673479,
          -0.606347208244371,
          -0.6950380893673479,
          -0.606347208244371,
          -0.6950380893673479,
          -0.606347208244371,
          -0.606347208244371,
          -0.606347208244371,
          -0.6950380893673479,
          -0.6950380893673479,
          -0.606347208244371,
          -0.45389763886904555,
          -0.5110548496468814,
          -0.15239846797524906,
          -0.24108934909822613,
          -0.636736008340032,
          -0.6950380893673479,
          -0.606347208244371,
          -0.606347208244371,
          -0.606347208244371,
          -0.636736008340032,
          -0.606347208244371,
          -0.24108934909822613,
          -0.636736008340032,
          -0.6950380893673479,
          -0.636736008340032,
          -0.6950380893673479,
          -0.5425885199920224,
          -0.606347208244371,
          -0.606347208244371,
          -0.24108934909822613,
          -0.606347208244371,
          -0.45389763886904555,
          -0.606347208244371,
          -0.5425885199920224,
          -0.606347208244371,
          -0.6950380893673479,
          -0.606347208244371,
          -0.606347208244371,
          -0.636736008340032,
          -0.45389763886904555,
          -0.5475365048274448,
          -0.7254268894630089,
          -0.5425885199920224,
          -0.606347208244371,
          -0.45389763886904555,
          -0.15239846797524906,
          -0.6950380893673479,
          -0.606347208244371,
          -0.636736008340032,
          -0.6950380893673479,
          -0.6950380893673479,
          -0.636736008340032,
          -0.24108934909822613,
          -0.6950380893673479,
          -0.636736008340032,
          -0.45389763886904555,
          -0.5110548496468814,
          -0.24108934909822613,
          -0.606347208244371,
          -0.6950380893673479,
          -0.7254268894630089,
          -0.6950380893673479,
          -0.606347208244371,
          -0.24108934909822613,
          -0.7254268894630089,
          -0.5110548496468814,
          -0.5110548496468814,
          -0.6950380893673479,
          -0.6950380893673479,
          -0.6950380893673479,
          -0.606347208244371,
          -0.6950380893673479,
          -0.606347208244371,
          -0.7254268894630089,
          -0.606347208244371,
          -0.24108934909822613,
          -0.6950380893673479,
          -0.606347208244371,
          -0.606347208244371,
          -0.6950380893673479,
          -0.606347208244371,
          -0.606347208244371,
          -0.636736008340032,
          -0.5425885199920224,
          -0.6950380893673479,
          -0.606347208244371,
          -0.606347208244371,
          -0.6950380893673479,
          -0.6950380893673479,
          -0.606347208244371,
          -0.6950380893673479,
          -0.5110548496468814,
          -0.7254268894630089,
          -0.6950380893673479,
          -0.606347208244371,
          -0.15239846797524906,
          -0.606347208244371,
          -0.24108934909822613,
          -0.606347208244371,
          -0.6950380893673479
         ],
         "yaxis": "y"
        }
       ],
       "layout": {
        "legend": {
         "title": {
          "text": "color"
         },
         "tracegroupgap": 0
        },
        "template": {
         "data": {
          "bar": [
           {
            "error_x": {
             "color": "#2a3f5f"
            },
            "error_y": {
             "color": "#2a3f5f"
            },
            "marker": {
             "line": {
              "color": "#E5ECF6",
              "width": 0.5
             },
             "pattern": {
              "fillmode": "overlay",
              "size": 10,
              "solidity": 0.2
             }
            },
            "type": "bar"
           }
          ],
          "barpolar": [
           {
            "marker": {
             "line": {
              "color": "#E5ECF6",
              "width": 0.5
             },
             "pattern": {
              "fillmode": "overlay",
              "size": 10,
              "solidity": 0.2
             }
            },
            "type": "barpolar"
           }
          ],
          "carpet": [
           {
            "aaxis": {
             "endlinecolor": "#2a3f5f",
             "gridcolor": "white",
             "linecolor": "white",
             "minorgridcolor": "white",
             "startlinecolor": "#2a3f5f"
            },
            "baxis": {
             "endlinecolor": "#2a3f5f",
             "gridcolor": "white",
             "linecolor": "white",
             "minorgridcolor": "white",
             "startlinecolor": "#2a3f5f"
            },
            "type": "carpet"
           }
          ],
          "choropleth": [
           {
            "colorbar": {
             "outlinewidth": 0,
             "ticks": ""
            },
            "type": "choropleth"
           }
          ],
          "contour": [
           {
            "colorbar": {
             "outlinewidth": 0,
             "ticks": ""
            },
            "colorscale": [
             [
              0,
              "#0d0887"
             ],
             [
              0.1111111111111111,
              "#46039f"
             ],
             [
              0.2222222222222222,
              "#7201a8"
             ],
             [
              0.3333333333333333,
              "#9c179e"
             ],
             [
              0.4444444444444444,
              "#bd3786"
             ],
             [
              0.5555555555555556,
              "#d8576b"
             ],
             [
              0.6666666666666666,
              "#ed7953"
             ],
             [
              0.7777777777777778,
              "#fb9f3a"
             ],
             [
              0.8888888888888888,
              "#fdca26"
             ],
             [
              1,
              "#f0f921"
             ]
            ],
            "type": "contour"
           }
          ],
          "contourcarpet": [
           {
            "colorbar": {
             "outlinewidth": 0,
             "ticks": ""
            },
            "type": "contourcarpet"
           }
          ],
          "heatmap": [
           {
            "colorbar": {
             "outlinewidth": 0,
             "ticks": ""
            },
            "colorscale": [
             [
              0,
              "#0d0887"
             ],
             [
              0.1111111111111111,
              "#46039f"
             ],
             [
              0.2222222222222222,
              "#7201a8"
             ],
             [
              0.3333333333333333,
              "#9c179e"
             ],
             [
              0.4444444444444444,
              "#bd3786"
             ],
             [
              0.5555555555555556,
              "#d8576b"
             ],
             [
              0.6666666666666666,
              "#ed7953"
             ],
             [
              0.7777777777777778,
              "#fb9f3a"
             ],
             [
              0.8888888888888888,
              "#fdca26"
             ],
             [
              1,
              "#f0f921"
             ]
            ],
            "type": "heatmap"
           }
          ],
          "heatmapgl": [
           {
            "colorbar": {
             "outlinewidth": 0,
             "ticks": ""
            },
            "colorscale": [
             [
              0,
              "#0d0887"
             ],
             [
              0.1111111111111111,
              "#46039f"
             ],
             [
              0.2222222222222222,
              "#7201a8"
             ],
             [
              0.3333333333333333,
              "#9c179e"
             ],
             [
              0.4444444444444444,
              "#bd3786"
             ],
             [
              0.5555555555555556,
              "#d8576b"
             ],
             [
              0.6666666666666666,
              "#ed7953"
             ],
             [
              0.7777777777777778,
              "#fb9f3a"
             ],
             [
              0.8888888888888888,
              "#fdca26"
             ],
             [
              1,
              "#f0f921"
             ]
            ],
            "type": "heatmapgl"
           }
          ],
          "histogram": [
           {
            "marker": {
             "pattern": {
              "fillmode": "overlay",
              "size": 10,
              "solidity": 0.2
             }
            },
            "type": "histogram"
           }
          ],
          "histogram2d": [
           {
            "colorbar": {
             "outlinewidth": 0,
             "ticks": ""
            },
            "colorscale": [
             [
              0,
              "#0d0887"
             ],
             [
              0.1111111111111111,
              "#46039f"
             ],
             [
              0.2222222222222222,
              "#7201a8"
             ],
             [
              0.3333333333333333,
              "#9c179e"
             ],
             [
              0.4444444444444444,
              "#bd3786"
             ],
             [
              0.5555555555555556,
              "#d8576b"
             ],
             [
              0.6666666666666666,
              "#ed7953"
             ],
             [
              0.7777777777777778,
              "#fb9f3a"
             ],
             [
              0.8888888888888888,
              "#fdca26"
             ],
             [
              1,
              "#f0f921"
             ]
            ],
            "type": "histogram2d"
           }
          ],
          "histogram2dcontour": [
           {
            "colorbar": {
             "outlinewidth": 0,
             "ticks": ""
            },
            "colorscale": [
             [
              0,
              "#0d0887"
             ],
             [
              0.1111111111111111,
              "#46039f"
             ],
             [
              0.2222222222222222,
              "#7201a8"
             ],
             [
              0.3333333333333333,
              "#9c179e"
             ],
             [
              0.4444444444444444,
              "#bd3786"
             ],
             [
              0.5555555555555556,
              "#d8576b"
             ],
             [
              0.6666666666666666,
              "#ed7953"
             ],
             [
              0.7777777777777778,
              "#fb9f3a"
             ],
             [
              0.8888888888888888,
              "#fdca26"
             ],
             [
              1,
              "#f0f921"
             ]
            ],
            "type": "histogram2dcontour"
           }
          ],
          "mesh3d": [
           {
            "colorbar": {
             "outlinewidth": 0,
             "ticks": ""
            },
            "type": "mesh3d"
           }
          ],
          "parcoords": [
           {
            "line": {
             "colorbar": {
              "outlinewidth": 0,
              "ticks": ""
             }
            },
            "type": "parcoords"
           }
          ],
          "pie": [
           {
            "automargin": true,
            "type": "pie"
           }
          ],
          "scatter": [
           {
            "fillpattern": {
             "fillmode": "overlay",
             "size": 10,
             "solidity": 0.2
            },
            "type": "scatter"
           }
          ],
          "scatter3d": [
           {
            "line": {
             "colorbar": {
              "outlinewidth": 0,
              "ticks": ""
             }
            },
            "marker": {
             "colorbar": {
              "outlinewidth": 0,
              "ticks": ""
             }
            },
            "type": "scatter3d"
           }
          ],
          "scattercarpet": [
           {
            "marker": {
             "colorbar": {
              "outlinewidth": 0,
              "ticks": ""
             }
            },
            "type": "scattercarpet"
           }
          ],
          "scattergeo": [
           {
            "marker": {
             "colorbar": {
              "outlinewidth": 0,
              "ticks": ""
             }
            },
            "type": "scattergeo"
           }
          ],
          "scattergl": [
           {
            "marker": {
             "colorbar": {
              "outlinewidth": 0,
              "ticks": ""
             }
            },
            "type": "scattergl"
           }
          ],
          "scattermapbox": [
           {
            "marker": {
             "colorbar": {
              "outlinewidth": 0,
              "ticks": ""
             }
            },
            "type": "scattermapbox"
           }
          ],
          "scatterpolar": [
           {
            "marker": {
             "colorbar": {
              "outlinewidth": 0,
              "ticks": ""
             }
            },
            "type": "scatterpolar"
           }
          ],
          "scatterpolargl": [
           {
            "marker": {
             "colorbar": {
              "outlinewidth": 0,
              "ticks": ""
             }
            },
            "type": "scatterpolargl"
           }
          ],
          "scatterternary": [
           {
            "marker": {
             "colorbar": {
              "outlinewidth": 0,
              "ticks": ""
             }
            },
            "type": "scatterternary"
           }
          ],
          "surface": [
           {
            "colorbar": {
             "outlinewidth": 0,
             "ticks": ""
            },
            "colorscale": [
             [
              0,
              "#0d0887"
             ],
             [
              0.1111111111111111,
              "#46039f"
             ],
             [
              0.2222222222222222,
              "#7201a8"
             ],
             [
              0.3333333333333333,
              "#9c179e"
             ],
             [
              0.4444444444444444,
              "#bd3786"
             ],
             [
              0.5555555555555556,
              "#d8576b"
             ],
             [
              0.6666666666666666,
              "#ed7953"
             ],
             [
              0.7777777777777778,
              "#fb9f3a"
             ],
             [
              0.8888888888888888,
              "#fdca26"
             ],
             [
              1,
              "#f0f921"
             ]
            ],
            "type": "surface"
           }
          ],
          "table": [
           {
            "cells": {
             "fill": {
              "color": "#EBF0F8"
             },
             "line": {
              "color": "white"
             }
            },
            "header": {
             "fill": {
              "color": "#C8D4E3"
             },
             "line": {
              "color": "white"
             }
            },
            "type": "table"
           }
          ]
         },
         "layout": {
          "annotationdefaults": {
           "arrowcolor": "#2a3f5f",
           "arrowhead": 0,
           "arrowwidth": 1
          },
          "autotypenumbers": "strict",
          "coloraxis": {
           "colorbar": {
            "outlinewidth": 0,
            "ticks": ""
           }
          },
          "colorscale": {
           "diverging": [
            [
             0,
             "#8e0152"
            ],
            [
             0.1,
             "#c51b7d"
            ],
            [
             0.2,
             "#de77ae"
            ],
            [
             0.3,
             "#f1b6da"
            ],
            [
             0.4,
             "#fde0ef"
            ],
            [
             0.5,
             "#f7f7f7"
            ],
            [
             0.6,
             "#e6f5d0"
            ],
            [
             0.7,
             "#b8e186"
            ],
            [
             0.8,
             "#7fbc41"
            ],
            [
             0.9,
             "#4d9221"
            ],
            [
             1,
             "#276419"
            ]
           ],
           "sequential": [
            [
             0,
             "#0d0887"
            ],
            [
             0.1111111111111111,
             "#46039f"
            ],
            [
             0.2222222222222222,
             "#7201a8"
            ],
            [
             0.3333333333333333,
             "#9c179e"
            ],
            [
             0.4444444444444444,
             "#bd3786"
            ],
            [
             0.5555555555555556,
             "#d8576b"
            ],
            [
             0.6666666666666666,
             "#ed7953"
            ],
            [
             0.7777777777777778,
             "#fb9f3a"
            ],
            [
             0.8888888888888888,
             "#fdca26"
            ],
            [
             1,
             "#f0f921"
            ]
           ],
           "sequentialminus": [
            [
             0,
             "#0d0887"
            ],
            [
             0.1111111111111111,
             "#46039f"
            ],
            [
             0.2222222222222222,
             "#7201a8"
            ],
            [
             0.3333333333333333,
             "#9c179e"
            ],
            [
             0.4444444444444444,
             "#bd3786"
            ],
            [
             0.5555555555555556,
             "#d8576b"
            ],
            [
             0.6666666666666666,
             "#ed7953"
            ],
            [
             0.7777777777777778,
             "#fb9f3a"
            ],
            [
             0.8888888888888888,
             "#fdca26"
            ],
            [
             1,
             "#f0f921"
            ]
           ]
          },
          "colorway": [
           "#636efa",
           "#EF553B",
           "#00cc96",
           "#ab63fa",
           "#FFA15A",
           "#19d3f3",
           "#FF6692",
           "#B6E880",
           "#FF97FF",
           "#FECB52"
          ],
          "font": {
           "color": "#2a3f5f"
          },
          "geo": {
           "bgcolor": "white",
           "lakecolor": "white",
           "landcolor": "#E5ECF6",
           "showlakes": true,
           "showland": true,
           "subunitcolor": "white"
          },
          "hoverlabel": {
           "align": "left"
          },
          "hovermode": "closest",
          "mapbox": {
           "style": "light"
          },
          "paper_bgcolor": "white",
          "plot_bgcolor": "#E5ECF6",
          "polar": {
           "angularaxis": {
            "gridcolor": "white",
            "linecolor": "white",
            "ticks": ""
           },
           "bgcolor": "#E5ECF6",
           "radialaxis": {
            "gridcolor": "white",
            "linecolor": "white",
            "ticks": ""
           }
          },
          "scene": {
           "xaxis": {
            "backgroundcolor": "#E5ECF6",
            "gridcolor": "white",
            "gridwidth": 2,
            "linecolor": "white",
            "showbackground": true,
            "ticks": "",
            "zerolinecolor": "white"
           },
           "yaxis": {
            "backgroundcolor": "#E5ECF6",
            "gridcolor": "white",
            "gridwidth": 2,
            "linecolor": "white",
            "showbackground": true,
            "ticks": "",
            "zerolinecolor": "white"
           },
           "zaxis": {
            "backgroundcolor": "#E5ECF6",
            "gridcolor": "white",
            "gridwidth": 2,
            "linecolor": "white",
            "showbackground": true,
            "ticks": "",
            "zerolinecolor": "white"
           }
          },
          "shapedefaults": {
           "line": {
            "color": "#2a3f5f"
           }
          },
          "ternary": {
           "aaxis": {
            "gridcolor": "white",
            "linecolor": "white",
            "ticks": ""
           },
           "baxis": {
            "gridcolor": "white",
            "linecolor": "white",
            "ticks": ""
           },
           "bgcolor": "#E5ECF6",
           "caxis": {
            "gridcolor": "white",
            "linecolor": "white",
            "ticks": ""
           }
          },
          "title": {
           "x": 0.05
          },
          "xaxis": {
           "automargin": true,
           "gridcolor": "white",
           "linecolor": "white",
           "ticks": "",
           "title": {
            "standoff": 15
           },
           "zerolinecolor": "white",
           "zerolinewidth": 2
          },
          "yaxis": {
           "automargin": true,
           "gridcolor": "white",
           "linecolor": "white",
           "ticks": "",
           "title": {
            "standoff": 15
           },
           "zerolinecolor": "white",
           "zerolinewidth": 2
          }
         }
        },
        "title": {
         "text": "Coordonnées des individus"
        },
        "xaxis": {
         "anchor": "y",
         "domain": [
          0,
          1
         ],
         "title": {
          "text": "PC1"
         }
        },
        "yaxis": {
         "anchor": "x",
         "domain": [
          0,
          1
         ],
         "title": {
          "text": "PC2"
         }
        }
       }
      }
     },
     "metadata": {},
     "output_type": "display_data"
    },
    {
     "name": "stdout",
     "output_type": "stream",
     "text": [
      "La variance expliquée par le premier axe est de :  26.51137119033107 %  et celle par le second axe est de :  19.693530326518697 % \n",
      "La variance totale est de :  46.20490151684976 %\n"
     ]
    }
   ],
   "source": [
    "pca_ressources = PCA(n_components=2)\n",
    "\n",
    "components = pca_ressources.fit_transform(df_ressources.drop(columns=['cluster']))\n",
    "\n",
    "##x_components = []\n",
    "##y_components = []\n",
    "##z_components = []\n",
    "##\n",
    "##for component in components:\n",
    "##    x_components.append(component[0])\n",
    "##    y_components.append(component[1])\n",
    "##    z_components.append(component[2])\n",
    "##\n",
    "##print(pca_ressources.explained_variance_ratio_)\n",
    "\n",
    "\n",
    "# plot 3D\n",
    "##fig = plt.figure()\n",
    "##ax = fig.add_subplot(111, projection='3d')\n",
    "##ax.scatter(xs=x_components, ys=y_components, zs=z_components, c=df_ressources['cluster'], s=30, )\n",
    "##ax.view_init(30, 185)\n",
    "##plt.show()\n",
    "\n",
    "######\n",
    "\n",
    "fig = px.scatter(components, x=0, y=1, color=df_ressources[\"cluster\"], title=\"Coordonnées des individus\", labels={\"0\": \"PC1\", \"1\": \"PC2\"})\n",
    "fig.show()\n",
    "\n",
    "print(\"La variance expliquée par le premier axe est de : \", pca_ressources.explained_variance_ratio_[0]*100, \"%\",\" et celle par le second axe est de : \", pca_ressources.explained_variance_ratio_[1]*100, \"% \")\n",
    "print(\"La variance totale est de : \", pca_ressources.explained_variance_ratio_.sum()*100, \"%\")"
   ]
  },
  {
   "attachments": {},
   "cell_type": "markdown",
   "metadata": {},
   "source": [
    "On voit que les clusters ici sont mélangés. Ceci peut être expliqué par la variance totale expliquée par ces deux dimensions. On a seulement 46.6 % de l'information. Il faut donc manipuler avec des pincettes ce graphique pour juger le découpage en clusters."
   ]
  },
  {
   "cell_type": "code",
   "execution_count": 12,
   "metadata": {},
   "outputs": [],
   "source": [
    "pca_ressources = pc.PCA(\n",
    "    n_components=2,\n",
    "    random_state=0,\n",
    "    n_iter=100,\n",
    "    rescale_with_mean=True,\n",
    "    rescale_with_std=True,\n",
    "    copy=True,\n",
    "    engine='auto',\n",
    "    check_input=True\n",
    ")\n",
    "\n",
    "pca_ressources = pca_ressources.fit(df_ressources.drop(columns=['cluster']))"
   ]
  },
  {
   "cell_type": "code",
   "execution_count": 13,
   "metadata": {},
   "outputs": [
    {
     "data": {
      "image/png": "[encoded data removed]",
      "text/plain": [
       "<Figure size 1000x1000 with 1 Axes>"
      ]
     },
     "metadata": {},
     "output_type": "display_data"
    }
   ],
   "source": [
    "ax_ressources = pca_ressources.plot_row_coordinates(\n",
    "    df_ressources.drop(columns=['cluster']),\n",
    "    ax=None,\n",
    "    figsize=(10, 10),\n",
    "    x_component=0,\n",
    "    y_component=1,\n",
    "    labels=None,\n",
    "    color_labels=df_ressources['cluster']\n",
    ")"
   ]
  },
  {
   "attachments": {},
   "cell_type": "markdown",
   "metadata": {},
   "source": [
    "-------------------------------"
   ]
  },
  {
   "cell_type": "code",
   "execution_count": 14,
   "metadata": {},
   "outputs": [
    {
     "data": {
      "application/vnd.plotly.v1+json": {
       "config": {
        "plotlyServerURL": "https://plot.ly"
       },
       "data": [
        {
         "hovertemplate": "color=3<br>PC 1 (26.5%)=%{x}<br>PC 2 (19.7%)=%{y}<br>PC 3 (18.4%)=%{z}<extra></extra>",
         "legendgroup": "3",
         "marker": {
          "color": "#636efa",
          "symbol": "circle"
         },
         "mode": "markers",
         "name": "3",
         "scene": "scene",
         "showlegend": true,
         "type": "scatter3d",
         "x": [
          -0.39658352832231414,
          -0.03756927997667173,
          -0.39658352832231547,
          -0.03756927997666693,
          -0.04113939215367404,
          -0.04113939215367404,
          0.42060164994452937,
          0.4322928917302141,
          -0.39658352832231447,
          -0.39658352832231447,
          0.06515751377588885,
          -0.39658352832231447,
          -0.39658352832231447,
          -0.39658352832231447,
          -0.39658352832231447,
          -0.39658352832231447,
          0.06515751377588885,
          -0.39658352832231447,
          0.29355126016677174,
          -0.03756927997666693,
          -0.39658352832231447,
          -0.39658352832231447,
          -0.03756927997666693,
          -0.03756927997666693,
          -0.03756927997666693,
          0.644444378903742,
          -0.39658352832231447,
          -0.39658352832231447,
          -0.39658352832231447,
          -0.39658352832231447,
          -0.03756927997666693,
          -0.03756927997666693,
          0.07327864338456645,
          -0.39658352832231447,
          -0.39658352832231447,
          0.06515751377588885,
          -0.39658352832231447,
          0.4241717621215365,
          -0.39658352832231447,
          0.4241717621215365,
          0.06515751377588885,
          -0.39658352832231447,
          -0.39658352832231447,
          -0.39658352832231447,
          -0.39658352832231447,
          -0.03756927997666693,
          0.42872277955320687,
          -0.39658352832231447,
          -0.39658352832231447,
          0.06515751377588885,
          0.29355126016677174,
          -0.39658352832231447,
          -0.39658352832231447,
          0.06515751377588885,
          0.06515751377588885,
          0.4241717621215365,
          0.4241717621215365,
          -0.39658352832231447,
          -0.39658352832231447,
          -0.39658352832231447,
          -0.39658352832231447,
          -0.39658352832231447,
          0.4241717621215365,
          -0.39658352832231447,
          -0.39658352832231447,
          -0.39658352832231447,
          -0.39658352832231447,
          -0.39658352832231447,
          -0.04113939215367404,
          0.06515751377588885,
          0.4322928917302141,
          0.4322928917302141,
          0.06515751377588885,
          0.3178748561919736,
          -0.39658352832231447,
          -0.39658352832231447,
          -0.39658352832231447,
          -0.03756927997666693,
          -0.39658352832231447,
          -0.03756927997666693,
          -0.39658352832231447,
          -0.39658352832231447,
          0.18270333680553835,
          -0.03756927997666693,
          -0.39658352832231447,
          -0.04113939215367404,
          -0.39658352832231447,
          -0.39658352832231447,
          -0.39658352832231447,
          -0.04113939215367404,
          -0.39658352832231447,
          0.4241717621215365,
          -0.03756927997666693,
          -0.39658352832231447,
          0.3178748561919736,
          0.4241717621215365,
          -0.39658352832231447,
          0.4241717621215365,
          -0.39658352832231447,
          -0.03756927997666693,
          -0.04113939215367404,
          -0.39658352832231447,
          0.07327864338456645,
          -0.39658352832231447,
          -0.03756927997666693,
          -0.03756927997666693,
          0.18270333680553835,
          0.06515751377588885,
          0.4241717621215366
         ],
         "y": [
          0.2567060470722965,
          0.7106547873414201,
          0.2567060470722972,
          0.7106547873414205,
          0.35199840566978813,
          0.35199840566978813,
          0.5044479750451136,
          0.6802659872457595,
          0.25670604707229866,
          0.25670604707229866,
          0.40915561644762416,
          0.25670604707229866,
          0.25670604707229866,
          0.25670604707229866,
          0.25670604707229866,
          0.25670604707229866,
          0.40915561644762416,
          0.25670604707229866,
          0.31551675048922495,
          0.7106547873414205,
          0.25670604707229866,
          0.25670604707229866,
          0.7106547873414205,
          0.7106547873414205,
          0.7106547873414205,
          0.9523038602293336,
          0.25670604707229866,
          0.25670604707229866,
          0.25670604707229866,
          0.25670604707229866,
          0.7106547873414205,
          0.7106547873414205,
          0.22631724697663771,
          0.25670604707229866,
          0.25670604707229866,
          0.40915561644762416,
          0.25670604707229866,
          0.863104356716746,
          0.25670604707229866,
          0.863104356716746,
          0.40915561644762416,
          0.25670604707229866,
          0.25670604707229866,
          0.25670604707229866,
          0.25670604707229866,
          0.7106547873414205,
          0.3216096055741271,
          0.25670604707229866,
          0.25670604707229866,
          0.40915561644762416,
          0.31551675048922495,
          0.25670604707229866,
          0.25670604707229866,
          0.40915561644762416,
          0.40915561644762416,
          0.863104356716746,
          0.863104356716746,
          0.25670604707229866,
          0.25670604707229866,
          0.25670604707229866,
          0.25670604707229866,
          0.25670604707229866,
          0.863104356716746,
          0.25670604707229866,
          0.25670604707229866,
          0.25670604707229866,
          0.25670604707229866,
          0.25670604707229866,
          0.35199840566978813,
          0.40915561644762416,
          0.6802659872457595,
          0.6802659872457595,
          0.40915561644762416,
          0.8059471459389099,
          0.25670604707229866,
          0.25670604707229866,
          0.25670604707229866,
          0.7106547873414205,
          0.25670604707229866,
          0.7106547873414205,
          0.25670604707229866,
          0.25670604707229866,
          0.7998542908540079,
          0.7106547873414205,
          0.25670604707229866,
          0.35199840566978813,
          0.25670604707229866,
          0.25670604707229866,
          0.25670604707229866,
          0.35199840566978813,
          0.25670604707229866,
          0.863104356716746,
          0.7106547873414205,
          0.25670604707229866,
          0.8059471459389099,
          0.863104356716746,
          0.25670604707229866,
          0.863104356716746,
          0.25670604707229866,
          0.7106547873414205,
          0.35199840566978813,
          0.25670604707229866,
          0.22631724697663771,
          0.25670604707229866,
          0.7106547873414205,
          0.7106547873414205,
          0.7998542908540079,
          0.40915561644762416,
          0.863104356716746
         ],
         "z": [
          -0.6279200643360088,
          -0.40599105911232963,
          -0.6279200643360098,
          -0.40599105911232836,
          -0.5624429585543542,
          -0.5624429585543542,
          -0.29557390484862855,
          -0.2690561269447356,
          -0.627920064336009,
          -0.627920064336009,
          -0.3610510106302835,
          -0.627920064336009,
          -0.627920064336009,
          -0.627920064336009,
          -0.627920064336009,
          -0.627920064336009,
          -0.3610510106302835,
          -0.627920064336009,
          -0.40001008463974946,
          -0.40599105911232836,
          -0.627920064336009,
          -0.627920064336009,
          -0.40599105911232836,
          -0.40599105911232836,
          -0.40599105911232836,
          -0.04814695787793625,
          -0.627920064336009,
          -0.627920064336009,
          -0.627920064336009,
          -0.627920064336009,
          -0.40599105911232836,
          -0.40599105911232836,
          -0.4909851321684161,
          -0.627920064336009,
          -0.627920064336009,
          -0.3610510106302835,
          -0.627920064336009,
          -0.1391220054066027,
          -0.627920064336009,
          -0.1391220054066027,
          -0.3610510106302835,
          -0.627920064336009,
          -0.627920064336009,
          -0.627920064336009,
          -0.627920064336009,
          -0.40599105911232836,
          -0.4255080263867612,
          -0.627920064336009,
          -0.627920064336009,
          -0.3610510106302835,
          -0.40001008463974946,
          -0.627920064336009,
          -0.627920064336009,
          -0.3610510106302835,
          -0.3610510106302835,
          -0.1391220054066027,
          -0.1391220054066027,
          -0.627920064336009,
          -0.627920064336009,
          -0.627920064336009,
          -0.627920064336009,
          -0.627920064336009,
          -0.1391220054066027,
          -0.627920064336009,
          -0.627920064336009,
          -0.627920064336009,
          -0.627920064336009,
          -0.627920064336009,
          -0.5624429585543542,
          -0.3610510106302835,
          -0.2690561269447356,
          -0.2690561269447356,
          -0.3610510106302835,
          -0.34051395333067364,
          -0.627920064336009,
          -0.627920064336009,
          -0.627920064336009,
          -0.40599105911232836,
          -0.627920064336009,
          -0.40599105911232836,
          -0.627920064336009,
          -0.627920064336009,
          -0.31501601158366177,
          -0.40599105911232836,
          -0.627920064336009,
          -0.5624429585543542,
          -0.627920064336009,
          -0.627920064336009,
          -0.627920064336009,
          -0.5624429585543542,
          -0.627920064336009,
          -0.1391220054066027,
          -0.40599105911232836,
          -0.627920064336009,
          -0.34051395333067364,
          -0.1391220054066027,
          -0.627920064336009,
          -0.1391220054066027,
          -0.627920064336009,
          -0.40599105911232836,
          -0.5624429585543542,
          -0.627920064336009,
          -0.4909851321684161,
          -0.627920064336009,
          -0.40599105911232836,
          -0.40599105911232836,
          -0.31501601158366177,
          -0.3610510106302835,
          -0.13912200540660283
         ]
        },
        {
         "hovertemplate": "color=2<br>PC 1 (26.5%)=%{x}<br>PC 2 (19.7%)=%{y}<br>PC 3 (18.4%)=%{z}<extra></extra>",
         "legendgroup": "2",
         "marker": {
          "color": "#EF553B",
          "symbol": "circle"
         },
         "mode": "markers",
         "name": "2",
         "scene": "scene",
         "showlegend": true,
         "type": "scatter3d",
         "x": [
          -0.2966824450159263,
          -0.7665446167228062,
          -0.7665446167228064,
          -0.3048035746246031,
          -0.7665446167228064,
          -0.7665446167228064,
          -0.7665446167228064,
          -0.40753036837715895,
          -0.7665446167228064,
          -0.2966824450159255,
          -0.7665446167228064,
          -0.41110048055416604,
          -0.7665446167228064,
          -0.7665446167228064,
          -0.7665446167228064,
          -0.40753036837715895,
          -0.7665446167228064,
          0.050640561544037344,
          -0.3048035746246031,
          -0.7665446167228064,
          -0.7665446167228064,
          -0.7665446167228064,
          -0.7665446167228064,
          -0.7665446167228064,
          -0.40753036837715895,
          -0.40753036837715895,
          -0.7665446167228064,
          -0.7665446167228064,
          -0.40753036837715895,
          -0.7665446167228064,
          -0.3048035746246031,
          -0.7665446167228064,
          -0.7665446167228064,
          -0.7665446167228064,
          -0.7665446167228064,
          -0.3048035746246031,
          -0.7665446167228064,
          -0.7665446167228064,
          -0.7665446167228064,
          -0.7665446167228064,
          -0.7665446167228064,
          0.05876169115271503,
          -0.3048035746246031,
          -0.40753036837715895,
          -0.7665446167228064,
          -0.7665446167228064,
          -0.7665446167228064,
          -0.40753036837715895,
          -0.40753036837715895,
          -0.7665446167228064,
          -0.05208623220851834,
          -0.7665446167228064,
          -0.2966824450159255,
          0.050640561544037344,
          -0.7665446167228064,
          -0.7665446167228064,
          -0.40753036837715895,
          -0.7665446167228064,
          -0.7665446167228064,
          -0.40753036837715895,
          -0.7665446167228064,
          -0.7665446167228064,
          -0.7665446167228064,
          -0.7665446167228064,
          -0.7665446167228064,
          -0.7665446167228064,
          0.16505859708227788,
          -0.7665446167228064,
          -0.7665446167228064,
          -0.7665446167228064,
          -0.7665446167228064,
          0.27448329050324993,
          -0.7665446167228064,
          -0.40753036837715895,
          -0.7665446167228064,
          -0.3048035746246031,
          -0.40753036837715895,
          -0.7665446167228064,
          -0.7665446167228064,
          -0.41110048055416604,
          -0.7665446167228064,
          -0.40753036837715895,
          -0.7665446167228064,
          0.050640561544037344,
          -0.40753036837715895,
          -0.7665446167228064,
          -0.7665446167228064,
          -0.2966824450159255,
          -0.3048035746246031,
          -0.7665446167228064,
          -0.40753036837715895,
          -0.08453095784239771,
          -0.40753036837715895,
          -0.7665446167228064,
          -0.7665446167228064,
          -0.7665446167228064,
          -0.40753036837715895,
          -0.7665446167228064,
          -0.40753036837715895,
          -0.40753036837715895,
          -0.7665446167228064,
          -0.41110048055416604,
          -0.7665446167228064
         ],
         "y": [
          0.1376263658536618,
          0.16801516594932164,
          0.16801516594932173,
          0.3204647353246473,
          0.16801516594932173,
          0.16801516594932173,
          0.16801516594932173,
          0.6219639062184437,
          0.16801516594932173,
          0.13762636585366086,
          0.16801516594932173,
          0.2633075245468112,
          0.16801516594932173,
          0.16801516594932173,
          0.16801516594932173,
          0.6219639062184437,
          0.16801516594932173,
          0.4157570939221367,
          0.3204647353246473,
          0.16801516594932173,
          0.16801516594932173,
          0.16801516594932173,
          0.16801516594932173,
          0.16801516594932173,
          0.6219639062184437,
          0.6219639062184437,
          0.16801516594932173,
          0.16801516594932173,
          0.6219639062184437,
          0.16801516594932173,
          0.3204647353246473,
          0.16801516594932173,
          0.16801516594932173,
          0.16801516594932173,
          0.16801516594932173,
          0.3204647353246473,
          0.16801516594932173,
          0.16801516594932173,
          0.16801516594932173,
          0.16801516594932173,
          0.16801516594932173,
          0.23291872445115003,
          0.3204647353246473,
          0.6219639062184437,
          0.16801516594932173,
          0.16801516594932173,
          0.16801516594932173,
          0.6219639062184437,
          0.6219639062184437,
          0.16801516594932173,
          0.7172562648159331,
          0.16801516594932173,
          0.13762636585366086,
          0.4157570939221367,
          0.16801516594932173,
          0.16801516594932173,
          0.6219639062184437,
          0.16801516594932173,
          0.16801516594932173,
          0.6219639062184437,
          0.16801516594932173,
          0.16801516594932173,
          0.16801516594932173,
          0.16801516594932173,
          0.16801516594932173,
          0.16801516594932173,
          0.2900759352289863,
          0.16801516594932173,
          0.16801516594932173,
          0.16801516594932173,
          0.16801516594932173,
          0.8636129791063566,
          0.16801516594932173,
          0.6219639062184437,
          0.16801516594932173,
          0.3204647353246473,
          0.6219639062184437,
          0.16801516594932173,
          0.16801516594932173,
          0.2633075245468112,
          0.16801516594932173,
          0.6219639062184437,
          0.16801516594932173,
          0.4157570939221367,
          0.6219639062184437,
          0.16801516594932173,
          0.16801516594932173,
          0.13762636585366086,
          0.3204647353246473,
          0.16801516594932173,
          0.6219639062184437,
          0.4096642388372345,
          0.6219639062184437,
          0.16801516594932173,
          0.16801516594932173,
          0.16801516594932173,
          0.6219639062184437,
          0.16801516594932173,
          0.6219639062184437,
          0.6219639062184437,
          0.16801516594932173,
          0.2633075245468112,
          0.16801516594932173
         ],
         "z": [
          0.42639179321894877,
          0.2894568610513547,
          0.28945686105135515,
          0.5563259147570806,
          0.28945686105135515,
          0.28945686105135515,
          0.28945686105135515,
          0.5113858662750357,
          0.28945686105135515,
          0.4263917932189478,
          0.28945686105135515,
          0.3549339668330101,
          0.28945686105135515,
          0.28945686105135515,
          0.28945686105135515,
          0.5113858662750357,
          0.28945686105135515,
          0.6218030205387356,
          0.5563259147570806,
          0.28945686105135515,
          0.28945686105135515,
          0.28945686105135515,
          0.28945686105135515,
          0.28945686105135515,
          0.5113858662750357,
          0.5113858662750357,
          0.28945686105135515,
          0.28945686105135515,
          0.5113858662750357,
          0.28945686105135515,
          0.5563259147570806,
          0.28945686105135515,
          0.28945686105135515,
          0.28945686105135515,
          0.28945686105135515,
          0.5563259147570806,
          0.28945686105135515,
          0.28945686105135515,
          0.28945686105135515,
          0.28945686105135515,
          0.28945686105135515,
          0.49186889900060277,
          0.5563259147570806,
          0.5113858662750357,
          0.28945686105135515,
          0.28945686105135515,
          0.28945686105135515,
          0.5113858662750357,
          0.5113858662750357,
          0.28945686105135515,
          0.5768629720566905,
          0.28945686105135515,
          0.4263917932189478,
          0.6218030205387356,
          0.28945686105135515,
          0.28945686105135515,
          0.5113858662750357,
          0.28945686105135515,
          0.28945686105135515,
          0.5113858662750357,
          0.28945686105135515,
          0.28945686105135515,
          0.28945686105135515,
          0.28945686105135515,
          0.28945686105135515,
          0.28945686105135515,
          0.6932608469246734,
          0.28945686105135515,
          0.28945686105135515,
          0.28945686105135515,
          0.28945686105135515,
          0.8692299675094279,
          0.28945686105135515,
          0.5113858662750357,
          0.28945686105135515,
          0.5563259147570806,
          0.5113858662750357,
          0.28945686105135515,
          0.28945686105135515,
          0.3549339668330101,
          0.28945686105135515,
          0.5113858662750357,
          0.28945686105135515,
          0.6218030205387356,
          0.5113858662750357,
          0.28945686105135515,
          0.28945686105135515,
          0.4263917932189478,
          0.5563259147570806,
          0.28945686105135515,
          0.5113858662750357,
          0.6473009622857474,
          0.5113858662750357,
          0.28945686105135515,
          0.28945686105135515,
          0.28945686105135515,
          0.5113858662750357,
          0.28945686105135515,
          0.5113858662750357,
          0.5113858662750357,
          0.28945686105135515,
          0.3549339668330101,
          0.28945686105135515
         ]
        },
        {
         "hovertemplate": "color=0<br>PC 1 (26.5%)=%{x}<br>PC 2 (19.7%)=%{y}<br>PC 3 (18.4%)=%{z}<extra></extra>",
         "legendgroup": "0",
         "marker": {
          "color": "#00cc96",
          "symbol": "circle"
         },
         "mode": "markers",
         "name": "0",
         "scene": "scene",
         "showlegend": true,
         "type": "scatter3d",
         "x": [
          0.8744054277522277,
          1.6033807644983664,
          1.1091949967662829,
          0.7861955862315222,
          1.2494780699970578,
          1.1143065506106227,
          0.3018164622927897,
          1.0982481567114388,
          0.7861955862315222,
          1.4536922928800793,
          0.409654809889685,
          0.7745043444458375,
          1.1107364384336156,
          0.628385985004558,
          0.6717775506932816,
          0.7745043444458375,
          0.8940339338284174,
          0.4081133682223527,
          0.6717775506932816,
          0.4081133682223527,
          0.7745043444458375,
          0.518961291583586,
          1.4682092451119308,
          0.8779755399292337,
          1.4697506867792631,
          1.133518592791485,
          0.7861955862315222,
          1.0982481567114388,
          1.1143065506106227,
          0.7780744566228445,
          0.8940339338284174,
          0.518961291583586,
          1.099789598378771,
          0.3018164622927897,
          1.0080096446810598,
          0.412664385654023,
          0.7780744566228445,
          0.518961291583586,
          0.7861955862315222,
          1.4646391329349235,
          0.518961291583586,
          1.4697506867792631,
          0.7716786339996706,
          0.6717775506932816,
          0.7861955862315222,
          1.0028980908367202,
          0.40454325604534547,
          0.409654809889685,
          0.7877370278988544,
          0.6489953963354123,
          1.3619123391823678,
          1.0982481567114388,
          1.2494780699970578,
          1.1416397224001624,
          0.7745043444458375,
          0.6717775506932816,
          1.0028980908367202,
          0.8779755399292337,
          1.2443665161527182,
          0.8889223799840777,
          1.6033807644983658,
          0.7861955862315222,
          0.8779755399292337,
          0.744345462210131,
          1.6033807644983658,
          1.6033807644983658,
          1.8360886287350526,
          1.133518592791485,
          0.8889223799840777,
          1.6033807644983658,
          1.4646391329349235,
          0.8889223799840777,
          1.1107364384336156,
          0.8889223799840777,
          0.3018164622927897,
          1.2494780699970578,
          0.7826254740545149,
          0.40454325604534547,
          1.094678044534432,
          0.779615898290177,
          1.099789598378771,
          0.409654809889685,
          1.2443665161527182
         ],
         "y": [
          -0.47768496149019407,
          0.06495465990190338,
          -0.3950869354521192,
          -0.1827872680709103,
          0.9280079152185744,
          0.9219150601336722,
          -0.14579699050073666,
          -0.029829076305974304,
          -0.1827872680709103,
          0.06546328229151518,
          0.8697058341912586,
          -0.3586052802715561,
          0.5632586784620399,
          0.0005597237896867524,
          -0.057106109377759715,
          -0.3586052802715561,
          0.8327155566210849,
          -0.08863977972290076,
          -0.057106109377759715,
          -0.08863977972290076,
          -0.3586052802715561,
          -0.5729773200876835,
          0.058861804817002636,
          -0.1190285798185618,
          1.0172074187311617,
          0.0953434599975658,
          -0.1827872680709103,
          -0.029829076305974304,
          0.9219150601336722,
          0.000051101400076307245,
          0.8327155566210849,
          -0.5729773200876835,
          0.9285165376081849,
          -0.14579699050073666,
          0.8647578493558364,
          -0.6301345308655195,
          0.000051101400076307245,
          -0.5729773200876835,
          -0.1827872680709103,
          -0.2997945768546298,
          -0.5729773200876835,
          1.0172074187311617,
          -0.17618579059639772,
          -0.057106109377759715,
          -0.1827872680709103,
          -0.4522441462299552,
          -0.447296161394533,
          0.8697058341912586,
          0.7755583458432491,
          0.4108091090867145,
          0.0017045940391666274,
          -0.029829076305974304,
          0.9280079152185744,
          -0.08749490947342077,
          -0.3586052802715561,
          -0.057106109377759715,
          -0.4522441462299552,
          -0.1190285798185618,
          -0.3889940803672171,
          -0.48428643896470663,
          0.06495465990190469,
          -0.1827872680709103,
          -0.1190285798185618,
          0.8332241790106953,
          0.06495465990190469,
          0.06495465990190469,
          0.15557257557814003,
          0.0953434599975658,
          -0.48428643896470663,
          0.06495465990190469,
          -0.2997945768546298,
          -0.48428643896470663,
          0.5632586784620399,
          -0.48428643896470663,
          -0.14579699050073666,
          0.9280079152185744,
          -0.5414436497425427,
          -0.447296161394533,
          -0.3884854579776067,
          0.9583967153142355,
          0.9285165376081849,
          0.8697058341912586,
          -0.38899408036721717
         ],
         "z": [
          0.8401488016379366,
          0.14470088147425522,
          -0.05173018200241366,
          -0.1876452780131253,
          0.06329003254264486,
          0.08878797428965668,
          0.6582738209883007,
          1.0875757486086308,
          -0.1876452780131253,
          1.1530528543902858,
          0.8437320257624159,
          -0.21416305591701829,
          -0.06766392515236906,
          0.9506408164410382,
          -0.25910310439906337,
          -0.21416305591701829,
          -0.0021870732390099927,
          0.8596657689123716,
          -0.25910310439906337,
          0.8596657689123716,
          -0.21416305591701829,
          0.7746716958562836,
          0.1701988232212669,
          0.9966007010799642,
          0.15426508007131148,
          0.0077659493066622445,
          -0.1876452780131253,
          1.0875757486086308,
          0.08878797428965668,
          -0.05771115647499248,
          -0.0021870732390099927,
          0.7746716958562836,
          1.0716420054586755,
          0.6582738209883007,
          -0.11260397363441414,
          0.573279747932213,
          -0.05771115647499248,
          0.7746716958562836,
          -0.1876452780131253,
          0.013746923779241176,
          0.7746716958562836,
          0.15426508007131148,
          0.7952087531558935,
          -0.25910310439906337,
          -0.1876452780131253,
          -0.2531221299264845,
          0.7032138694703458,
          0.8437320257624159,
          -0.20357902116308066,
          -0.33453297885809474,
          -0.031193124702803884,
          1.0875757486086308,
          0.06329003254264486,
          -0.12216817223147042,
          -0.21416305591701829,
          -0.25910310439906337,
          -0.2531221299264845,
          0.9966007010799642,
          -0.07722812374942535,
          -0.14270522953108022,
          0.1447008814742551,
          -0.1876452780131253,
          0.9966007010799642,
          1.0061648996770207,
          0.1447008814742551,
          0.1447008814742551,
          0.2379973414113468,
          0.0077659493066622445,
          -0.14270522953108022,
          0.1447008814742551,
          0.013746923779241176,
          -0.14270522953108022,
          -0.06766392515236906,
          -0.14270522953108022,
          0.6582738209883007,
          0.06329003254264486,
          -0.344097177455151,
          0.7032138694703458,
          0.931123849166605,
          -0.073644899624948,
          1.0716420054586755,
          0.8437320257624159,
          -0.07722812374942532
         ]
        },
        {
         "hovertemplate": "color=1<br>PC 1 (26.5%)=%{x}<br>PC 2 (19.7%)=%{y}<br>PC 3 (18.4%)=%{z}<extra></extra>",
         "legendgroup": "1",
         "marker": {
          "color": "#ab63fa",
          "symbol": "circle"
         },
         "mode": "markers",
         "name": "1",
         "scene": "scene",
         "showlegend": true,
         "type": "scatter3d",
         "x": [
          -0.41264192222149837,
          -0.41264192222149837,
          0.04909911987670496,
          -0.04268083382100641,
          0.41906020827719687,
          -0.41264192222149837,
          0.2693717366589104,
          -0.04268083382100641,
          0.31633341452464114,
          -0.41264192222149837,
          0.31633341452464114,
          0.6474539546680798,
          -0.41264192222149837,
          -0.04268083382100641,
          -0.04268083382100641,
          -0.053627673875850775,
          -0.41264192222149837,
          0.04909911987670496,
          -0.04268083382100641,
          0.04909911987670496,
          -0.41264192222149837,
          0.41906020827719687,
          0.41906020827719687,
          -0.04268083382100641,
          0.31633341452464114,
          0.057220249485382624,
          -0.41264192222149837,
          -0.04268083382100641,
          -0.04268083382100641,
          0.41906020827719687,
          -0.053627673875850775,
          -0.41264192222149837,
          0.312763302347634,
          -0.41264192222149837,
          -0.04268083382100641,
          -0.05719778605285809,
          -0.41264192222149837,
          -0.04268083382100641,
          -0.04268083382100641,
          0.057220249485382624,
          -0.04268083382100641,
          -0.41264192222149837,
          -0.04268083382100641,
          -0.41264192222149837,
          -0.04268083382100641,
          -0.41264192222149837,
          -0.04268083382100641,
          -0.04268083382100641,
          -0.04268083382100641,
          -0.41264192222149837,
          -0.41264192222149837,
          -0.04268083382100641,
          0.41906020827719687,
          0.312763302347634,
          0.31633341452464114,
          -0.053627673875850775,
          0.42718133788587453,
          -0.41264192222149837,
          -0.04268083382100641,
          -0.04268083382100641,
          -0.04268083382100641,
          0.42718133788587453,
          -0.04268083382100641,
          -0.053627673875850775,
          0.42718133788587453,
          -0.41264192222149837,
          0.42718133788587453,
          -0.41264192222149837,
          0.04909911987670496,
          -0.04268083382100641,
          -0.04268083382100641,
          -0.053627673875850775,
          -0.04268083382100641,
          0.41906020827719687,
          -0.04268083382100641,
          0.04909911987670496,
          -0.04268083382100641,
          -0.41264192222149837,
          -0.04268083382100641,
          -0.04268083382100641,
          0.42718133788587453,
          0.41906020827719687,
          0.6474539546680798,
          0.057220249485382624,
          0.04909911987670496,
          -0.04268083382100641,
          0.41906020827719687,
          0.31633341452464114,
          -0.41264192222149837,
          -0.04268083382100641,
          0.42718133788587453,
          -0.41264192222149837,
          -0.41264192222149837,
          0.42718133788587453,
          -0.053627673875850775,
          -0.41264192222149837,
          0.42718133788587453,
          0.41906020827719687,
          0.312763302347634,
          -0.053627673875850775,
          -0.04268083382100641,
          -0.41264192222149837,
          0.057220249485382624,
          -0.41264192222149837,
          -0.04268083382100641,
          -0.053627673875850775,
          0.057220249485382624,
          0.312763302347634,
          0.312763302347634,
          -0.41264192222149837,
          -0.41264192222149837,
          -0.41264192222149837,
          -0.04268083382100641,
          -0.41264192222149837,
          -0.04268083382100641,
          0.057220249485382624,
          -0.04268083382100641,
          -0.053627673875850775,
          -0.41264192222149837,
          -0.04268083382100641,
          -0.04268083382100641,
          -0.41264192222149837,
          -0.04268083382100641,
          -0.04268083382100641,
          0.42718133788587453,
          0.04909911987670496,
          -0.41264192222149837,
          -0.04268083382100641,
          -0.04268083382100641,
          -0.41264192222149837,
          -0.41264192222149837,
          -0.04268083382100641,
          -0.41264192222149837,
          0.312763302347634,
          0.057220249485382624,
          -0.41264192222149837,
          -0.04268083382100641,
          0.31633341452464114,
          -0.04268083382100641,
          -0.053627673875850775,
          -0.04268083382100641,
          -0.41264192222149837
         ],
         "y": [
          -0.6950380893673479,
          -0.6950380893673479,
          -0.5425885199920224,
          -0.606347208244371,
          -0.45389763886904555,
          -0.6950380893673479,
          -0.4533890164794352,
          -0.606347208244371,
          -0.15239846797524906,
          -0.6950380893673479,
          -0.15239846797524906,
          -0.5475365048274448,
          -0.6950380893673479,
          -0.606347208244371,
          -0.606347208244371,
          -0.24108934909822613,
          -0.6950380893673479,
          -0.5425885199920224,
          -0.606347208244371,
          -0.5425885199920224,
          -0.6950380893673479,
          -0.45389763886904555,
          -0.45389763886904555,
          -0.606347208244371,
          -0.15239846797524906,
          -0.7254268894630089,
          -0.6950380893673479,
          -0.606347208244371,
          -0.606347208244371,
          -0.45389763886904555,
          -0.24108934909822613,
          -0.6950380893673479,
          -0.5110548496468814,
          -0.6950380893673479,
          -0.606347208244371,
          -0.5997457307698584,
          -0.6950380893673479,
          -0.606347208244371,
          -0.606347208244371,
          -0.7254268894630089,
          -0.606347208244371,
          -0.6950380893673479,
          -0.606347208244371,
          -0.6950380893673479,
          -0.606347208244371,
          -0.6950380893673479,
          -0.606347208244371,
          -0.606347208244371,
          -0.606347208244371,
          -0.6950380893673479,
          -0.6950380893673479,
          -0.606347208244371,
          -0.45389763886904555,
          -0.5110548496468814,
          -0.15239846797524906,
          -0.24108934909822613,
          -0.636736008340032,
          -0.6950380893673479,
          -0.606347208244371,
          -0.606347208244371,
          -0.606347208244371,
          -0.636736008340032,
          -0.606347208244371,
          -0.24108934909822613,
          -0.636736008340032,
          -0.6950380893673479,
          -0.636736008340032,
          -0.6950380893673479,
          -0.5425885199920224,
          -0.606347208244371,
          -0.606347208244371,
          -0.24108934909822613,
          -0.606347208244371,
          -0.45389763886904555,
          -0.606347208244371,
          -0.5425885199920224,
          -0.606347208244371,
          -0.6950380893673479,
          -0.606347208244371,
          -0.606347208244371,
          -0.636736008340032,
          -0.45389763886904555,
          -0.5475365048274448,
          -0.7254268894630089,
          -0.5425885199920224,
          -0.606347208244371,
          -0.45389763886904555,
          -0.15239846797524906,
          -0.6950380893673479,
          -0.606347208244371,
          -0.636736008340032,
          -0.6950380893673479,
          -0.6950380893673479,
          -0.636736008340032,
          -0.24108934909822613,
          -0.6950380893673479,
          -0.636736008340032,
          -0.45389763886904555,
          -0.5110548496468814,
          -0.24108934909822613,
          -0.606347208244371,
          -0.6950380893673479,
          -0.7254268894630089,
          -0.6950380893673479,
          -0.606347208244371,
          -0.24108934909822613,
          -0.7254268894630089,
          -0.5110548496468814,
          -0.5110548496468814,
          -0.6950380893673479,
          -0.6950380893673479,
          -0.6950380893673479,
          -0.606347208244371,
          -0.6950380893673479,
          -0.606347208244371,
          -0.7254268894630089,
          -0.606347208244371,
          -0.24108934909822613,
          -0.6950380893673479,
          -0.606347208244371,
          -0.606347208244371,
          -0.6950380893673479,
          -0.606347208244371,
          -0.606347208244371,
          -0.636736008340032,
          -0.5425885199920224,
          -0.6950380893673479,
          -0.606347208244371,
          -0.606347208244371,
          -0.6950380893673479,
          -0.6950380893673479,
          -0.606347208244371,
          -0.6950380893673479,
          -0.5110548496468814,
          -0.7254268894630089,
          -0.6950380893673479,
          -0.606347208244371,
          -0.15239846797524906,
          -0.606347208244371,
          -0.24108934909822613,
          -0.606347208244371,
          -0.6950380893673479
         ],
         "z": [
          0.3708677099829654,
          0.3708677099829654,
          0.6377367636886909,
          -0.5465092154043988,
          -0.2796401616986733,
          0.3708677099829654,
          0.7287118112173576,
          -0.5465092154043988,
          -0.32458021018071814,
          0.3708677099829654,
          -0.32458021018071814,
          -0.31859923570813925,
          0.3708677099829654,
          -0.5465092154043988,
          -0.5465092154043988,
          0.592796715206646,
          0.3708677099829654,
          0.6377367636886909,
          -0.5465092154043988,
          0.6377367636886909,
          0.3708677099829654,
          -0.2796401616986733,
          -0.2796401616986733,
          -0.5465092154043988,
          -0.32458021018071814,
          0.507802642150558,
          0.3708677099829654,
          -0.5465092154043988,
          -0.5465092154043988,
          -0.2796401616986733,
          0.592796715206646,
          0.3708677099829654,
          -0.481032109622744,
          0.3708677099829654,
          -0.5465092154043988,
          0.4363448157646204,
          0.3708677099829654,
          -0.5465092154043988,
          -0.5465092154043988,
          0.507802642150558,
          -0.5465092154043988,
          0.3708677099829654,
          -0.5465092154043988,
          0.3708677099829654,
          -0.5465092154043988,
          0.3708677099829654,
          -0.5465092154043988,
          -0.5465092154043988,
          -0.5465092154043988,
          0.3708677099829654,
          0.3708677099829654,
          -0.5465092154043988,
          -0.2796401616986733,
          -0.481032109622744,
          -0.32458021018071814,
          0.592796715206646,
          -0.40957428323680584,
          0.3708677099829654,
          -0.5465092154043988,
          -0.5465092154043988,
          -0.5465092154043988,
          -0.40957428323680584,
          -0.5465092154043988,
          0.592796715206646,
          -0.40957428323680584,
          0.3708677099829654,
          -0.40957428323680584,
          0.3708677099829654,
          0.6377367636886909,
          -0.5465092154043988,
          -0.5465092154043988,
          0.592796715206646,
          -0.5465092154043988,
          -0.2796401616986733,
          -0.5465092154043988,
          0.6377367636886909,
          -0.5465092154043988,
          0.3708677099829654,
          -0.5465092154043988,
          -0.5465092154043988,
          -0.40957428323680584,
          -0.2796401616986733,
          -0.31859923570813925,
          0.507802642150558,
          0.6377367636886909,
          -0.5465092154043988,
          -0.2796401616986733,
          -0.32458021018071814,
          0.3708677099829654,
          -0.5465092154043988,
          -0.40957428323680584,
          0.3708677099829654,
          0.3708677099829654,
          -0.40957428323680584,
          0.592796715206646,
          0.3708677099829654,
          -0.40957428323680584,
          -0.2796401616986733,
          -0.481032109622744,
          0.592796715206646,
          -0.5465092154043988,
          0.3708677099829654,
          0.507802642150558,
          0.3708677099829654,
          -0.5465092154043988,
          0.592796715206646,
          0.507802642150558,
          -0.481032109622744,
          -0.481032109622744,
          0.3708677099829654,
          0.3708677099829654,
          0.3708677099829654,
          -0.5465092154043988,
          0.3708677099829654,
          -0.5465092154043988,
          0.507802642150558,
          -0.5465092154043988,
          0.592796715206646,
          0.3708677099829654,
          -0.5465092154043988,
          -0.5465092154043988,
          0.3708677099829654,
          -0.5465092154043988,
          -0.5465092154043988,
          -0.40957428323680584,
          0.6377367636886909,
          0.3708677099829654,
          -0.5465092154043988,
          -0.5465092154043988,
          0.3708677099829654,
          0.3708677099829654,
          -0.5465092154043988,
          0.3708677099829654,
          -0.481032109622744,
          0.507802642150558,
          0.3708677099829654,
          -0.5465092154043988,
          -0.32458021018071814,
          -0.5465092154043988,
          0.592796715206646,
          -0.5465092154043988,
          0.3708677099829654
         ]
        }
       ],
       "layout": {
        "legend": {
         "title": {
          "text": "color"
         },
         "tracegroupgap": 0
        },
        "scene": {
         "domain": {
          "x": [
           0,
           1
          ],
          "y": [
           0,
           1
          ]
         },
         "xaxis": {
          "title": {
           "text": "PC 1 (26.5%)"
          }
         },
         "yaxis": {
          "title": {
           "text": "PC 2 (19.7%)"
          }
         },
         "zaxis": {
          "title": {
           "text": "PC 3 (18.4%)"
          }
         }
        },
        "template": {
         "data": {
          "bar": [
           {
            "error_x": {
             "color": "#2a3f5f"
            },
            "error_y": {
             "color": "#2a3f5f"
            },
            "marker": {
             "line": {
              "color": "#E5ECF6",
              "width": 0.5
             },
             "pattern": {
              "fillmode": "overlay",
              "size": 10,
              "solidity": 0.2
             }
            },
            "type": "bar"
           }
          ],
          "barpolar": [
           {
            "marker": {
             "line": {
              "color": "#E5ECF6",
              "width": 0.5
             },
             "pattern": {
              "fillmode": "overlay",
              "size": 10,
              "solidity": 0.2
             }
            },
            "type": "barpolar"
           }
          ],
          "carpet": [
           {
            "aaxis": {
             "endlinecolor": "#2a3f5f",
             "gridcolor": "white",
             "linecolor": "white",
             "minorgridcolor": "white",
             "startlinecolor": "#2a3f5f"
            },
            "baxis": {
             "endlinecolor": "#2a3f5f",
             "gridcolor": "white",
             "linecolor": "white",
             "minorgridcolor": "white",
             "startlinecolor": "#2a3f5f"
            },
            "type": "carpet"
           }
          ],
          "choropleth": [
           {
            "colorbar": {
             "outlinewidth": 0,
             "ticks": ""
            },
            "type": "choropleth"
           }
          ],
          "contour": [
           {
            "colorbar": {
             "outlinewidth": 0,
             "ticks": ""
            },
            "colorscale": [
             [
              0,
              "#0d0887"
             ],
             [
              0.1111111111111111,
              "#46039f"
             ],
             [
              0.2222222222222222,
              "#7201a8"
             ],
             [
              0.3333333333333333,
              "#9c179e"
             ],
             [
              0.4444444444444444,
              "#bd3786"
             ],
             [
              0.5555555555555556,
              "#d8576b"
             ],
             [
              0.6666666666666666,
              "#ed7953"
             ],
             [
              0.7777777777777778,
              "#fb9f3a"
             ],
             [
              0.8888888888888888,
              "#fdca26"
             ],
             [
              1,
              "#f0f921"
             ]
            ],
            "type": "contour"
           }
          ],
          "contourcarpet": [
           {
            "colorbar": {
             "outlinewidth": 0,
             "ticks": ""
            },
            "type": "contourcarpet"
           }
          ],
          "heatmap": [
           {
            "colorbar": {
             "outlinewidth": 0,
             "ticks": ""
            },
            "colorscale": [
             [
              0,
              "#0d0887"
             ],
             [
              0.1111111111111111,
              "#46039f"
             ],
             [
              0.2222222222222222,
              "#7201a8"
             ],
             [
              0.3333333333333333,
              "#9c179e"
             ],
             [
              0.4444444444444444,
              "#bd3786"
             ],
             [
              0.5555555555555556,
              "#d8576b"
             ],
             [
              0.6666666666666666,
              "#ed7953"
             ],
             [
              0.7777777777777778,
              "#fb9f3a"
             ],
             [
              0.8888888888888888,
              "#fdca26"
             ],
             [
              1,
              "#f0f921"
             ]
            ],
            "type": "heatmap"
           }
          ],
          "heatmapgl": [
           {
            "colorbar": {
             "outlinewidth": 0,
             "ticks": ""
            },
            "colorscale": [
             [
              0,
              "#0d0887"
             ],
             [
              0.1111111111111111,
              "#46039f"
             ],
             [
              0.2222222222222222,
              "#7201a8"
             ],
             [
              0.3333333333333333,
              "#9c179e"
             ],
             [
              0.4444444444444444,
              "#bd3786"
             ],
             [
              0.5555555555555556,
              "#d8576b"
             ],
             [
              0.6666666666666666,
              "#ed7953"
             ],
             [
              0.7777777777777778,
              "#fb9f3a"
             ],
             [
              0.8888888888888888,
              "#fdca26"
             ],
             [
              1,
              "#f0f921"
             ]
            ],
            "type": "heatmapgl"
           }
          ],
          "histogram": [
           {
            "marker": {
             "pattern": {
              "fillmode": "overlay",
              "size": 10,
              "solidity": 0.2
             }
            },
            "type": "histogram"
           }
          ],
          "histogram2d": [
           {
            "colorbar": {
             "outlinewidth": 0,
             "ticks": ""
            },
            "colorscale": [
             [
              0,
              "#0d0887"
             ],
             [
              0.1111111111111111,
              "#46039f"
             ],
             [
              0.2222222222222222,
              "#7201a8"
             ],
             [
              0.3333333333333333,
              "#9c179e"
             ],
             [
              0.4444444444444444,
              "#bd3786"
             ],
             [
              0.5555555555555556,
              "#d8576b"
             ],
             [
              0.6666666666666666,
              "#ed7953"
             ],
             [
              0.7777777777777778,
              "#fb9f3a"
             ],
             [
              0.8888888888888888,
              "#fdca26"
             ],
             [
              1,
              "#f0f921"
             ]
            ],
            "type": "histogram2d"
           }
          ],
          "histogram2dcontour": [
           {
            "colorbar": {
             "outlinewidth": 0,
             "ticks": ""
            },
            "colorscale": [
             [
              0,
              "#0d0887"
             ],
             [
              0.1111111111111111,
              "#46039f"
             ],
             [
              0.2222222222222222,
              "#7201a8"
             ],
             [
              0.3333333333333333,
              "#9c179e"
             ],
             [
              0.4444444444444444,
              "#bd3786"
             ],
             [
              0.5555555555555556,
              "#d8576b"
             ],
             [
              0.6666666666666666,
              "#ed7953"
             ],
             [
              0.7777777777777778,
              "#fb9f3a"
             ],
             [
              0.8888888888888888,
              "#fdca26"
             ],
             [
              1,
              "#f0f921"
             ]
            ],
            "type": "histogram2dcontour"
           }
          ],
          "mesh3d": [
           {
            "colorbar": {
             "outlinewidth": 0,
             "ticks": ""
            },
            "type": "mesh3d"
           }
          ],
          "parcoords": [
           {
            "line": {
             "colorbar": {
              "outlinewidth": 0,
              "ticks": ""
             }
            },
            "type": "parcoords"
           }
          ],
          "pie": [
           {
            "automargin": true,
            "type": "pie"
           }
          ],
          "scatter": [
           {
            "fillpattern": {
             "fillmode": "overlay",
             "size": 10,
             "solidity": 0.2
            },
            "type": "scatter"
           }
          ],
          "scatter3d": [
           {
            "line": {
             "colorbar": {
              "outlinewidth": 0,
              "ticks": ""
             }
            },
            "marker": {
             "colorbar": {
              "outlinewidth": 0,
              "ticks": ""
             }
            },
            "type": "scatter3d"
           }
          ],
          "scattercarpet": [
           {
            "marker": {
             "colorbar": {
              "outlinewidth": 0,
              "ticks": ""
             }
            },
            "type": "scattercarpet"
           }
          ],
          "scattergeo": [
           {
            "marker": {
             "colorbar": {
              "outlinewidth": 0,
              "ticks": ""
             }
            },
            "type": "scattergeo"
           }
          ],
          "scattergl": [
           {
            "marker": {
             "colorbar": {
              "outlinewidth": 0,
              "ticks": ""
             }
            },
            "type": "scattergl"
           }
          ],
          "scattermapbox": [
           {
            "marker": {
             "colorbar": {
              "outlinewidth": 0,
              "ticks": ""
             }
            },
            "type": "scattermapbox"
           }
          ],
          "scatterpolar": [
           {
            "marker": {
             "colorbar": {
              "outlinewidth": 0,
              "ticks": ""
             }
            },
            "type": "scatterpolar"
           }
          ],
          "scatterpolargl": [
           {
            "marker": {
             "colorbar": {
              "outlinewidth": 0,
              "ticks": ""
             }
            },
            "type": "scatterpolargl"
           }
          ],
          "scatterternary": [
           {
            "marker": {
             "colorbar": {
              "outlinewidth": 0,
              "ticks": ""
             }
            },
            "type": "scatterternary"
           }
          ],
          "surface": [
           {
            "colorbar": {
             "outlinewidth": 0,
             "ticks": ""
            },
            "colorscale": [
             [
              0,
              "#0d0887"
             ],
             [
              0.1111111111111111,
              "#46039f"
             ],
             [
              0.2222222222222222,
              "#7201a8"
             ],
             [
              0.3333333333333333,
              "#9c179e"
             ],
             [
              0.4444444444444444,
              "#bd3786"
             ],
             [
              0.5555555555555556,
              "#d8576b"
             ],
             [
              0.6666666666666666,
              "#ed7953"
             ],
             [
              0.7777777777777778,
              "#fb9f3a"
             ],
             [
              0.8888888888888888,
              "#fdca26"
             ],
             [
              1,
              "#f0f921"
             ]
            ],
            "type": "surface"
           }
          ],
          "table": [
           {
            "cells": {
             "fill": {
              "color": "#EBF0F8"
             },
             "line": {
              "color": "white"
             }
            },
            "header": {
             "fill": {
              "color": "#C8D4E3"
             },
             "line": {
              "color": "white"
             }
            },
            "type": "table"
           }
          ]
         },
         "layout": {
          "annotationdefaults": {
           "arrowcolor": "#2a3f5f",
           "arrowhead": 0,
           "arrowwidth": 1
          },
          "autotypenumbers": "strict",
          "coloraxis": {
           "colorbar": {
            "outlinewidth": 0,
            "ticks": ""
           }
          },
          "colorscale": {
           "diverging": [
            [
             0,
             "#8e0152"
            ],
            [
             0.1,
             "#c51b7d"
            ],
            [
             0.2,
             "#de77ae"
            ],
            [
             0.3,
             "#f1b6da"
            ],
            [
             0.4,
             "#fde0ef"
            ],
            [
             0.5,
             "#f7f7f7"
            ],
            [
             0.6,
             "#e6f5d0"
            ],
            [
             0.7,
             "#b8e186"
            ],
            [
             0.8,
             "#7fbc41"
            ],
            [
             0.9,
             "#4d9221"
            ],
            [
             1,
             "#276419"
            ]
           ],
           "sequential": [
            [
             0,
             "#0d0887"
            ],
            [
             0.1111111111111111,
             "#46039f"
            ],
            [
             0.2222222222222222,
             "#7201a8"
            ],
            [
             0.3333333333333333,
             "#9c179e"
            ],
            [
             0.4444444444444444,
             "#bd3786"
            ],
            [
             0.5555555555555556,
             "#d8576b"
            ],
            [
             0.6666666666666666,
             "#ed7953"
            ],
            [
             0.7777777777777778,
             "#fb9f3a"
            ],
            [
             0.8888888888888888,
             "#fdca26"
            ],
            [
             1,
             "#f0f921"
            ]
           ],
           "sequentialminus": [
            [
             0,
             "#0d0887"
            ],
            [
             0.1111111111111111,
             "#46039f"
            ],
            [
             0.2222222222222222,
             "#7201a8"
            ],
            [
             0.3333333333333333,
             "#9c179e"
            ],
            [
             0.4444444444444444,
             "#bd3786"
            ],
            [
             0.5555555555555556,
             "#d8576b"
            ],
            [
             0.6666666666666666,
             "#ed7953"
            ],
            [
             0.7777777777777778,
             "#fb9f3a"
            ],
            [
             0.8888888888888888,
             "#fdca26"
            ],
            [
             1,
             "#f0f921"
            ]
           ]
          },
          "colorway": [
           "#636efa",
           "#EF553B",
           "#00cc96",
           "#ab63fa",
           "#FFA15A",
           "#19d3f3",
           "#FF6692",
           "#B6E880",
           "#FF97FF",
           "#FECB52"
          ],
          "font": {
           "color": "#2a3f5f"
          },
          "geo": {
           "bgcolor": "white",
           "lakecolor": "white",
           "landcolor": "#E5ECF6",
           "showlakes": true,
           "showland": true,
           "subunitcolor": "white"
          },
          "hoverlabel": {
           "align": "left"
          },
          "hovermode": "closest",
          "mapbox": {
           "style": "light"
          },
          "paper_bgcolor": "white",
          "plot_bgcolor": "#E5ECF6",
          "polar": {
           "angularaxis": {
            "gridcolor": "white",
            "linecolor": "white",
            "ticks": ""
           },
           "bgcolor": "#E5ECF6",
           "radialaxis": {
            "gridcolor": "white",
            "linecolor": "white",
            "ticks": ""
           }
          },
          "scene": {
           "xaxis": {
            "backgroundcolor": "#E5ECF6",
            "gridcolor": "white",
            "gridwidth": 2,
            "linecolor": "white",
            "showbackground": true,
            "ticks": "",
            "zerolinecolor": "white"
           },
           "yaxis": {
            "backgroundcolor": "#E5ECF6",
            "gridcolor": "white",
            "gridwidth": 2,
            "linecolor": "white",
            "showbackground": true,
            "ticks": "",
            "zerolinecolor": "white"
           },
           "zaxis": {
            "backgroundcolor": "#E5ECF6",
            "gridcolor": "white",
            "gridwidth": 2,
            "linecolor": "white",
            "showbackground": true,
            "ticks": "",
            "zerolinecolor": "white"
           }
          },
          "shapedefaults": {
           "line": {
            "color": "#2a3f5f"
           }
          },
          "ternary": {
           "aaxis": {
            "gridcolor": "white",
            "linecolor": "white",
            "ticks": ""
           },
           "baxis": {
            "gridcolor": "white",
            "linecolor": "white",
            "ticks": ""
           },
           "bgcolor": "#E5ECF6",
           "caxis": {
            "gridcolor": "white",
            "linecolor": "white",
            "ticks": ""
           }
          },
          "title": {
           "x": 0.05
          },
          "xaxis": {
           "automargin": true,
           "gridcolor": "white",
           "linecolor": "white",
           "ticks": "",
           "title": {
            "standoff": 15
           },
           "zerolinecolor": "white",
           "zerolinewidth": 2
          },
          "yaxis": {
           "automargin": true,
           "gridcolor": "white",
           "linecolor": "white",
           "ticks": "",
           "title": {
            "standoff": 15
           },
           "zerolinecolor": "white",
           "zerolinewidth": 2
          }
         }
        },
        "title": {
         "text": "Total Explained Variance: 64.61%"
        }
       }
      }
     },
     "metadata": {},
     "output_type": "display_data"
    }
   ],
   "source": [
    "pca = PCA(n_components=3)\n",
    "\n",
    "components = pca.fit_transform(df_ressources.drop(columns=['cluster']))\n",
    "\n",
    "total_var = pca.explained_variance_ratio_.sum() * 100\n",
    "\n",
    "labels = {\n",
    "    str(i): f\"PC {i+1} ({var:.1f}%)\"\n",
    "    for i, var in enumerate(pca.explained_variance_ratio_ * 100)\n",
    "}\n",
    "\n",
    "fig = px.scatter_3d(components, x=0, y=1, z=2, color=df_ressources[\"cluster\"], title=f'Total Explained Variance: {total_var:.2f}%', labels=labels)\n",
    "fig.show()"
   ]
  },
  {
   "attachments": {},
   "cell_type": "markdown",
   "metadata": {},
   "source": [
    "En passant à une visualisation 3D qui est souvent dure à interpréter, nous passons à une variance totale expliquée de 64.52%. On voit que la séparation des clusters est meilleure qu'en 2 dimensions. On a recouru à un graphique en 3 dimensions pour nous assurer que les clusters ont bien été faits et avoir une représentation graphique "
   ]
  },
  {
   "attachments": {},
   "cell_type": "markdown",
   "metadata": {},
   "source": [
    "### Création de la colonne `Accés aux ressources`\n",
    "\n",
    "Nous allons maintenant procéder à la création de cette colonne pour ensuite l'enregistrer dans un csv qui pourra être utilisé dans l'analyse générale"
   ]
  },
  {
   "cell_type": "code",
   "execution_count": 15,
   "metadata": {},
   "outputs": [
    {
     "data": {
      "text/html": [
       "<div>\n",
       "<style scoped>\n",
       "    .dataframe tbody tr th:only-of-type {\n",
       "        vertical-align: middle;\n",
       "    }\n",
       "\n",
       "    .dataframe tbody tr th {\n",
       "        vertical-align: top;\n",
       "    }\n",
       "\n",
       "    .dataframe thead th {\n",
       "        text-align: right;\n",
       "    }\n",
       "</style>\n",
       "<table border=\"1\" class=\"dataframe\">\n",
       "  <thead>\n",
       "    <tr style=\"text-align: right;\">\n",
       "      <th></th>\n",
       "      <th>acces_ressources</th>\n",
       "    </tr>\n",
       "    <tr>\n",
       "      <th>Code_UAI</th>\n",
       "      <th></th>\n",
       "    </tr>\n",
       "  </thead>\n",
       "  <tbody>\n",
       "    <tr>\n",
       "      <th>0810016C</th>\n",
       "      <td>Bien</td>\n",
       "    </tr>\n",
       "    <tr>\n",
       "      <th>0810026N</th>\n",
       "      <td>Bien</td>\n",
       "    </tr>\n",
       "    <tr>\n",
       "      <th>0810041E</th>\n",
       "      <td>Mauvais</td>\n",
       "    </tr>\n",
       "    <tr>\n",
       "      <th>0810124V</th>\n",
       "      <td>Bien</td>\n",
       "    </tr>\n",
       "    <tr>\n",
       "      <th>0810125W</th>\n",
       "      <td>Assez bien</td>\n",
       "    </tr>\n",
       "  </tbody>\n",
       "</table>\n",
       "</div>"
      ],
      "text/plain": [
       "         acces_ressources\n",
       "Code_UAI                 \n",
       "0810016C             Bien\n",
       "0810026N             Bien\n",
       "0810041E          Mauvais\n",
       "0810124V             Bien\n",
       "0810125W       Assez bien"
      ]
     },
     "execution_count": 15,
     "metadata": {},
     "output_type": "execute_result"
    }
   ],
   "source": [
    "df_ressources_final = pd.DataFrame(df_ressources.cluster.astype(str).replace({\"0\":\"Assez bien\", \"1\": \"Très bien\", \"3\": \"Bien\", \"2\": \"Mauvais\"}))\n",
    "df_ressources_final.rename(columns={\"cluster\": \"acces_ressources\"}, inplace=True)\n",
    "\n",
    "df_ressources_final.head()"
   ]
  },
  {
   "attachments": {},
   "cell_type": "markdown",
   "metadata": {},
   "source": [
    "On va stocker cela dans un fichier csv"
   ]
  },
  {
   "cell_type": "code",
   "execution_count": 16,
   "metadata": {},
   "outputs": [],
   "source": [
    "df_ressources_final.to_csv(\"../data/analyses/acces_ressources.csv\", index=True, sep=';')"
   ]
  }
 ],
 "metadata": {
  "kernelspec": {
   "display_name": "Python 3",
   "language": "python",
   "name": "python3"
  },
  "language_info": {
   "codemirror_mode": {
    "name": "ipython",
    "version": 3
   },
   "file_extension": ".py",
   "mimetype": "text/x-python",
   "name": "python",
   "nbconvert_exporter": "python",
   "pygments_lexer": "ipython3",
   "version": "3.10.9"
  },
  "orig_nbformat": 4,
  "vscode": {
   "interpreter": {
    "hash": "2349f8cba88a5b2d1d390f83a8a5748abc4e6656a2f4a0a7bc22dd7876009b29"
   }
  }
 },
 "nbformat": 4,
 "nbformat_minor": 2
}
