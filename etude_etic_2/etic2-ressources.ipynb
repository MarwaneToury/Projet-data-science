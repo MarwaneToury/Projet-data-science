{
 "cells": [
  {
   "attachments": {},
   "cell_type": "markdown",
   "metadata": {},
   "source": [
    "# **Clustering Type de ressources**\n",
    "\n",
    "\n",
    ">Nous allons procéder ici aussi à un clustering des établissements sur les colonnes suivantes : \n",
    ">- TpRess_ManuelNum : *`est-ce que le manuel scolaire est disponible sous forme numérique`*\n",
    ">- TpRess_AnimScienLogiSimu : *`Les animations scientifiques et/ou logiciels de simulation sont l'un des types de ressources mises à la disposition des élèves`*\n",
    ">- TpRess_Bdd : *`Les banques de documents multimédias (vidéos, podcasts, textes, cartes, animations, etc.) sont l'un des types de ressources mises à la disposition des élèves.`*\n",
    ">- TpRess_LogiOutils : *`Les logiciels outils (géométrie, indexage, lexicographie, cartographie, etc.) sont l'un des types de ressources mises à la disposition des élèves`*\n",
    ">- TpRess_OuvRef : *`Les ouvrages de référence interactifs (atlas, dictionnaire, encyclopédie...) sont l'un des types de ressources mises à la disposition des élèves`*\n",
    ">- TpRess_ResEntrainement : *`Les ressources pour s'entraîner sont l'un des types de ressources mises à la disposition des élèves`*\n",
    ">- TpRess_Autres : *`D'autres types de ressources sont mis à la disposition des élèves`*\n",
    "\n",
    "\n",
    ">Le but va être de réduire ces 7 colonnes en une seule avec plusieurs modalités, pour faciliter l'analyse globale. Nous allons procèder comme nous avons pu le faire précedemment. Nous allons utiliser l'algorithme de ``KMeans`` pour procéder à une classification non supervisée pour voir si des groupes se dégagent \n",
    "\n",
    "\n",
    "\n",
    "### *Import des bibliothèques*"
   ]
  },
  {
   "cell_type": "code",
   "execution_count": 1,
   "metadata": {},
   "outputs": [],
   "source": [
    "import pandas as pd\n",
    "import plotly.graph_objects as go\n",
    "from sklearn.cluster import KMeans\n",
    "from sklearn.decomposition import PCA\n",
    "import plotly.express as px\n",
    "import prince as pc"
   ]
  },
  {
   "attachments": {},
   "cell_type": "markdown",
   "metadata": {},
   "source": [
    "### *Import du fichier*"
   ]
  },
  {
   "cell_type": "code",
   "execution_count": 2,
   "metadata": {},
   "outputs": [
    {
     "data": {
      "text/plain": [
       "Index(['Code_UAI', 'Millesime', 'Code_nature', 'nature_uai', 'typ_etab',\n",
       "       'Academie', 'Departement', 'NbEleve', 'NbEnseignant',\n",
       "       'SiEtabCentreRessource', 'SiProjetNumEcole', 'SiEntDisponible',\n",
       "       'SiProjEtabIntegreENT', 'Maint_PersCollect', 'Maint_PrestaExt',\n",
       "       'Maint_PersonnelEducNatHsEtab', 'Maint_PersonnelEtab',\n",
       "       'Maint_AutreNeSaitPas', 'Maint_Personne', 'NbRessourceEdit',\n",
       "       'TpRess_ManuelNum', 'TpRess_AnimScienLogiSimu', 'TpRess_Bdd',\n",
       "       'TpRess_LogiOutils', 'TpRess_OuvRef', 'TpRess_ResEntrainement',\n",
       "       'TpRess_Autres', 'TpRess_aucune', 'ServInt_NoteElev', 'ServInt_AbsElev',\n",
       "       'ServInt_EdtElevCls', 'ServInt_CahierTxt', 'ServInt_DocRessPeda',\n",
       "       'ServInt_AgdActuEtab', 'ServInt_PlatApp', 'ServInt_Autres',\n",
       "       'ServInt_aucun', 'NbTerminaux', 'NbTablette', 'NbTablettePC',\n",
       "       'NbMicroMoins5', 'NbMicroPortable', 'NbPortAffEl', 'NbPortAffEns',\n",
       "       'NbEleveEqASH', 'NbPosteEqASH', 'NbTBI', 'propClassesAvecTBI',\n",
       "       'NbVideoProj', 'NbClassMobile', 'NbLecteurMpx', 'NbImpr3D',\n",
       "       'AccWeb_RTC', 'AccWeb_CableFibreOptique', 'AccWeb_ADSL',\n",
       "       'AccWeb_AutresHautDebit', 'AccWeb_NeSaitPas', 'AccWeb_Aucun',\n",
       "       'DebitWeb', 'SiWifi', 'SalleInternet', 'PostesInfoElvHorsCours',\n",
       "       'SiPareFeuEtab', 'SiOuifiltrageWeb', 'ControlePosteriori',\n",
       "       'SiCharteUsageWeb', 'Diffch_AnnexeeRI',\n",
       "       'Diffch_DossierRentreeEnseignants', 'Diffch_CRConseilAdmin',\n",
       "       'Diffch_DiffusionParents', 'Diffch_Autres', 'AccesParentCharte',\n",
       "       'ElvAuthentif', 'SiVisioConferenc', 'SiEntUtilise',\n",
       "       'TypeMatHandi_Tablette', 'TypeMatHandi_OrdiPort', 'TypeMatHandi_LogApp',\n",
       "       'TypeMatHandi_Autre', 'Code_region', 'Libelle_region'],\n",
       "      dtype='object')"
      ]
     },
     "execution_count": 2,
     "metadata": {},
     "output_type": "execute_result"
    }
   ],
   "source": [
    "df = pd.read_csv('../data/lycee-college/fr-en-etic_2d.csv', sep=';')\n",
    "\n",
    "#On consulte les colonnes existantes\n",
    "df.columns"
   ]
  },
  {
   "attachments": {},
   "cell_type": "markdown",
   "metadata": {},
   "source": [
    "### *Traitement du fichier*"
   ]
  },
  {
   "attachments": {},
   "cell_type": "markdown",
   "metadata": {},
   "source": [
    "On va fixer l'index et ensuite supprimer toutes les colonnes qui seront inutiles pour cette analyse. On supprime également les établissement pour lesquels il y a des `NaN` car cela va poser problème lors de la classification."
   ]
  },
  {
   "cell_type": "code",
   "execution_count": 3,
   "metadata": {},
   "outputs": [],
   "source": [
    "df_ressources = df.set_index('Code_UAI')\n",
    "\n",
    "#On supprime les colonnes inutiles\n",
    "df_ressources.drop(columns=['Millesime', 'Code_nature', 'nature_uai', 'typ_etab',\n",
    "       'Academie', 'Departement', 'NbEleve', 'NbEnseignant',\n",
    "       'SiEtabCentreRessource', 'SiProjetNumEcole', 'SiEntDisponible',\n",
    "       'SiProjEtabIntegreENT', 'Maint_PersCollect', 'Maint_PrestaExt',\n",
    "       'Maint_PersonnelEducNatHsEtab', 'Maint_PersonnelEtab',\n",
    "       'Maint_AutreNeSaitPas', 'Maint_Personne', 'NbRessourceEdit',\n",
    "       'ServInt_NoteElev', 'ServInt_AbsElev',\n",
    "       'ServInt_EdtElevCls', 'ServInt_CahierTxt', 'ServInt_DocRessPeda',\n",
    "       'ServInt_AgdActuEtab', 'ServInt_PlatApp', 'ServInt_Autres',\n",
    "       'ServInt_aucun', 'NbTerminaux', 'NbTablette', 'NbTablettePC',\n",
    "       'NbMicroMoins5', 'NbMicroPortable', 'NbPortAffEl', 'NbPortAffEns',\n",
    "       'NbEleveEqASH', 'NbPosteEqASH', 'NbTBI', 'propClassesAvecTBI',\n",
    "       'NbVideoProj', 'NbClassMobile', 'NbLecteurMpx', 'NbImpr3D',\n",
    "       'AccWeb_RTC', 'AccWeb_CableFibreOptique', 'AccWeb_ADSL',\n",
    "       'AccWeb_AutresHautDebit', 'AccWeb_NeSaitPas', 'AccWeb_Aucun',\n",
    "       'DebitWeb', 'SiWifi', 'SalleInternet', 'PostesInfoElvHorsCours',\n",
    "       'SiPareFeuEtab', 'SiOuifiltrageWeb', 'ControlePosteriori',\n",
    "       'SiCharteUsageWeb', 'Diffch_AnnexeeRI',\n",
    "       'Diffch_DossierRentreeEnseignants', 'Diffch_CRConseilAdmin',\n",
    "       'Diffch_DiffusionParents', 'Diffch_Autres', 'AccesParentCharte',\n",
    "       'ElvAuthentif', 'SiVisioConferenc', 'SiEntUtilise',\n",
    "       'TypeMatHandi_Tablette', 'TypeMatHandi_OrdiPort', 'TypeMatHandi_LogApp',\n",
    "       'TypeMatHandi_Autre', 'Code_region', 'Libelle_region'], inplace=True)\n",
    "\n",
    "\n",
    "#On supprime les lignes avec des valeurs manquantes\n",
    "df_ressources.dropna(inplace=True)"
   ]
  },
  {
   "attachments": {},
   "cell_type": "markdown",
   "metadata": {},
   "source": [
    "On vérifie que tout s'est bien supprimé"
   ]
  },
  {
   "cell_type": "code",
   "execution_count": 4,
   "metadata": {},
   "outputs": [
    {
     "data": {
      "text/html": [
       "<div>\n",
       "<style scoped>\n",
       "    .dataframe tbody tr th:only-of-type {\n",
       "        vertical-align: middle;\n",
       "    }\n",
       "\n",
       "    .dataframe tbody tr th {\n",
       "        vertical-align: top;\n",
       "    }\n",
       "\n",
       "    .dataframe thead th {\n",
       "        text-align: right;\n",
       "    }\n",
       "</style>\n",
       "<table border=\"1\" class=\"dataframe\">\n",
       "  <thead>\n",
       "    <tr style=\"text-align: right;\">\n",
       "      <th></th>\n",
       "      <th>TpRess_ManuelNum</th>\n",
       "      <th>TpRess_AnimScienLogiSimu</th>\n",
       "      <th>TpRess_Bdd</th>\n",
       "      <th>TpRess_LogiOutils</th>\n",
       "      <th>TpRess_OuvRef</th>\n",
       "      <th>TpRess_ResEntrainement</th>\n",
       "      <th>TpRess_Autres</th>\n",
       "      <th>TpRess_aucune</th>\n",
       "    </tr>\n",
       "    <tr>\n",
       "      <th>Code_UAI</th>\n",
       "      <th></th>\n",
       "      <th></th>\n",
       "      <th></th>\n",
       "      <th></th>\n",
       "      <th></th>\n",
       "      <th></th>\n",
       "      <th></th>\n",
       "      <th></th>\n",
       "    </tr>\n",
       "  </thead>\n",
       "  <tbody>\n",
       "    <tr>\n",
       "      <th>0810016C</th>\n",
       "      <td>oui</td>\n",
       "      <td>oui</td>\n",
       "      <td>oui</td>\n",
       "      <td>oui</td>\n",
       "      <td>oui</td>\n",
       "      <td>non</td>\n",
       "      <td>oui</td>\n",
       "      <td>non</td>\n",
       "    </tr>\n",
       "    <tr>\n",
       "      <th>0810026N</th>\n",
       "      <td>non</td>\n",
       "      <td>oui</td>\n",
       "      <td>oui</td>\n",
       "      <td>oui</td>\n",
       "      <td>oui</td>\n",
       "      <td>non</td>\n",
       "      <td>oui</td>\n",
       "      <td>non</td>\n",
       "    </tr>\n",
       "    <tr>\n",
       "      <th>0810041E</th>\n",
       "      <td>oui</td>\n",
       "      <td>non</td>\n",
       "      <td>oui</td>\n",
       "      <td>oui</td>\n",
       "      <td>oui</td>\n",
       "      <td>oui</td>\n",
       "      <td>oui</td>\n",
       "      <td>non</td>\n",
       "    </tr>\n",
       "    <tr>\n",
       "      <th>0810124V</th>\n",
       "      <td>oui</td>\n",
       "      <td>oui</td>\n",
       "      <td>oui</td>\n",
       "      <td>oui</td>\n",
       "      <td>oui</td>\n",
       "      <td>non</td>\n",
       "      <td>oui</td>\n",
       "      <td>non</td>\n",
       "    </tr>\n",
       "    <tr>\n",
       "      <th>0810125W</th>\n",
       "      <td>oui</td>\n",
       "      <td>non</td>\n",
       "      <td>non</td>\n",
       "      <td>oui</td>\n",
       "      <td>non</td>\n",
       "      <td>oui</td>\n",
       "      <td>non</td>\n",
       "      <td>non</td>\n",
       "    </tr>\n",
       "  </tbody>\n",
       "</table>\n",
       "</div>"
      ],
      "text/plain": [
       "         TpRess_ManuelNum TpRess_AnimScienLogiSimu TpRess_Bdd  \\\n",
       "Code_UAI                                                        \n",
       "0810016C              oui                      oui        oui   \n",
       "0810026N              non                      oui        oui   \n",
       "0810041E              oui                      non        oui   \n",
       "0810124V              oui                      oui        oui   \n",
       "0810125W              oui                      non        non   \n",
       "\n",
       "         TpRess_LogiOutils TpRess_OuvRef TpRess_ResEntrainement TpRess_Autres  \\\n",
       "Code_UAI                                                                        \n",
       "0810016C               oui           oui                    non           oui   \n",
       "0810026N               oui           oui                    non           oui   \n",
       "0810041E               oui           oui                    oui           oui   \n",
       "0810124V               oui           oui                    non           oui   \n",
       "0810125W               oui           non                    oui           non   \n",
       "\n",
       "         TpRess_aucune  \n",
       "Code_UAI                \n",
       "0810016C           non  \n",
       "0810026N           non  \n",
       "0810041E           non  \n",
       "0810124V           non  \n",
       "0810125W           non  "
      ]
     },
     "execution_count": 4,
     "metadata": {},
     "output_type": "execute_result"
    }
   ],
   "source": [
    "df_ressources.head()"
   ]
  },
  {
   "attachments": {},
   "cell_type": "markdown",
   "metadata": {},
   "source": [
    "On va procéder ensuite au renommage des colonnes"
   ]
  },
  {
   "cell_type": "code",
   "execution_count": 5,
   "metadata": {},
   "outputs": [
    {
     "data": {
      "text/plain": [
       "Index(['manuelnum', 'animscienlogisimu', 'bdd', 'logioutils', 'ouvref',\n",
       "       'resentrainement', 'autres', 'aucune'],\n",
       "      dtype='object')"
      ]
     },
     "execution_count": 5,
     "metadata": {},
     "output_type": "execute_result"
    }
   ],
   "source": [
    "old_columns = df_ressources.columns\n",
    "\n",
    "for column in old_columns:\n",
    "    df_ressources.rename(columns={column: column.replace('TpRess_', '').lower()}, inplace=True)\n",
    "\n",
    "df_ressources.columns"
   ]
  },
  {
   "attachments": {},
   "cell_type": "markdown",
   "metadata": {},
   "source": [
    "On va procèder maintenant à la transformation des modalités en valeurs numériques (1 pour \"oui\" et 0 pour \"non\"). Cette transformation est nécessaire pour pouvoir faire du clustering et faire une ACP à la fin pour avoir une représentation."
   ]
  },
  {
   "cell_type": "code",
   "execution_count": 6,
   "metadata": {},
   "outputs": [
    {
     "data": {
      "text/html": [
       "<div>\n",
       "<style scoped>\n",
       "    .dataframe tbody tr th:only-of-type {\n",
       "        vertical-align: middle;\n",
       "    }\n",
       "\n",
       "    .dataframe tbody tr th {\n",
       "        vertical-align: top;\n",
       "    }\n",
       "\n",
       "    .dataframe thead th {\n",
       "        text-align: right;\n",
       "    }\n",
       "</style>\n",
       "<table border=\"1\" class=\"dataframe\">\n",
       "  <thead>\n",
       "    <tr style=\"text-align: right;\">\n",
       "      <th></th>\n",
       "      <th>manuelnum</th>\n",
       "      <th>animscienlogisimu</th>\n",
       "      <th>bdd</th>\n",
       "      <th>logioutils</th>\n",
       "      <th>ouvref</th>\n",
       "      <th>resentrainement</th>\n",
       "      <th>autres</th>\n",
       "      <th>aucune</th>\n",
       "    </tr>\n",
       "    <tr>\n",
       "      <th>Code_UAI</th>\n",
       "      <th></th>\n",
       "      <th></th>\n",
       "      <th></th>\n",
       "      <th></th>\n",
       "      <th></th>\n",
       "      <th></th>\n",
       "      <th></th>\n",
       "      <th></th>\n",
       "    </tr>\n",
       "  </thead>\n",
       "  <tbody>\n",
       "    <tr>\n",
       "      <th>0810016C</th>\n",
       "      <td>1.0</td>\n",
       "      <td>1.0</td>\n",
       "      <td>1.0</td>\n",
       "      <td>1.0</td>\n",
       "      <td>1.0</td>\n",
       "      <td>0.0</td>\n",
       "      <td>1.0</td>\n",
       "      <td>0.0</td>\n",
       "    </tr>\n",
       "    <tr>\n",
       "      <th>0810026N</th>\n",
       "      <td>0.0</td>\n",
       "      <td>1.0</td>\n",
       "      <td>1.0</td>\n",
       "      <td>1.0</td>\n",
       "      <td>1.0</td>\n",
       "      <td>0.0</td>\n",
       "      <td>1.0</td>\n",
       "      <td>0.0</td>\n",
       "    </tr>\n",
       "    <tr>\n",
       "      <th>0810041E</th>\n",
       "      <td>1.0</td>\n",
       "      <td>0.0</td>\n",
       "      <td>1.0</td>\n",
       "      <td>1.0</td>\n",
       "      <td>1.0</td>\n",
       "      <td>1.0</td>\n",
       "      <td>1.0</td>\n",
       "      <td>0.0</td>\n",
       "    </tr>\n",
       "    <tr>\n",
       "      <th>0810124V</th>\n",
       "      <td>1.0</td>\n",
       "      <td>1.0</td>\n",
       "      <td>1.0</td>\n",
       "      <td>1.0</td>\n",
       "      <td>1.0</td>\n",
       "      <td>0.0</td>\n",
       "      <td>1.0</td>\n",
       "      <td>0.0</td>\n",
       "    </tr>\n",
       "    <tr>\n",
       "      <th>0810125W</th>\n",
       "      <td>1.0</td>\n",
       "      <td>0.0</td>\n",
       "      <td>0.0</td>\n",
       "      <td>1.0</td>\n",
       "      <td>0.0</td>\n",
       "      <td>1.0</td>\n",
       "      <td>0.0</td>\n",
       "      <td>0.0</td>\n",
       "    </tr>\n",
       "  </tbody>\n",
       "</table>\n",
       "</div>"
      ],
      "text/plain": [
       "          manuelnum  animscienlogisimu  bdd  logioutils  ouvref  \\\n",
       "Code_UAI                                                          \n",
       "0810016C        1.0                1.0  1.0         1.0     1.0   \n",
       "0810026N        0.0                1.0  1.0         1.0     1.0   \n",
       "0810041E        1.0                0.0  1.0         1.0     1.0   \n",
       "0810124V        1.0                1.0  1.0         1.0     1.0   \n",
       "0810125W        1.0                0.0  0.0         1.0     0.0   \n",
       "\n",
       "          resentrainement  autres  aucune  \n",
       "Code_UAI                                   \n",
       "0810016C              0.0     1.0     0.0  \n",
       "0810026N              0.0     1.0     0.0  \n",
       "0810041E              1.0     1.0     0.0  \n",
       "0810124V              0.0     1.0     0.0  \n",
       "0810125W              1.0     0.0     0.0  "
      ]
     },
     "execution_count": 6,
     "metadata": {},
     "output_type": "execute_result"
    }
   ],
   "source": [
    "for column in df_ressources.columns:\n",
    "    df_ressources[column] = df_ressources[column].replace({'oui': 1, 'non': 0})\n",
    "    df_ressources[column] = df_ressources[column].astype('float64')\n",
    "\n",
    "df_ressources.head()"
   ]
  },
  {
   "attachments": {},
   "cell_type": "markdown",
   "metadata": {},
   "source": [
    "### Corrélation\n",
    "\n",
    "Avant de faire de la classification, nous allons voir si il existe une corrélation entre les différentes variables qu'on a là"
   ]
  },
  {
   "cell_type": "code",
   "execution_count": 7,
   "metadata": {},
   "outputs": [
    {
     "data": {
      "application/vnd.plotly.v1+json": {
       "config": {
        "plotlyServerURL": "https://plot.ly"
       },
       "data": [
        {
         "colorbar": {
          "thickness": 20,
          "ticklen": 3
         },
         "hoverinfo": "text",
         "hovertext": [
          [
           1,
           0.17106573633188005,
           0.17951447796520295,
           0.19908308903608815,
           0.1956150229804979,
           0.08197299554637325,
           -0.07390049592790882,
           -0.07257277420041644
          ],
          [
           0.17106573633188005,
           1,
           0.26410048696463295,
           0.3953688419730889,
           0.2777678897831024,
           0.08968650426425015,
           0.19529667070988002,
           -0.0913083496631685
          ],
          [
           0.17951447796520295,
           0.26410048696463295,
           1,
           0.2124623434335116,
           0.26706878351036456,
           0.12807831873181108,
           0.07159154156928306,
           -0.10118030423857696
          ],
          [
           0.19908308903608815,
           0.3953688419730889,
           0.2124623434335116,
           1,
           0.29323386776271515,
           0.06771504155942908,
           -0.00683956152756282,
           -0.15888827616009737
          ],
          [
           0.1956150229804979,
           0.2777678897831024,
           0.26706878351036456,
           0.29323386776271515,
           1,
           0.0655087696213836,
           0.053657112911923995,
           -0.07880078344411463
          ],
          [
           0.08197299554637325,
           0.08968650426425015,
           0.12807831873181108,
           0.06771504155942908,
           0.0655087696213836,
           1,
           0.03519201779153238,
           -0.040708187437088914
          ],
          [
           -0.07390049592790882,
           0.19529667070988002,
           0.07159154156928306,
           -0.00683956152756282,
           0.053657112911923995,
           0.03519201779153238,
           1,
           -0.05059694228804863
          ],
          [
           -0.07257277420041644,
           -0.0913083496631685,
           -0.10118030423857696,
           -0.15888827616009737,
           -0.07880078344411463,
           -0.040708187437088914,
           -0.05059694228804863,
           1
          ]
         ],
         "type": "heatmap",
         "x": [
          "manuelnum",
          "animscienlogisimu",
          "bdd",
          "logioutils",
          "ouvref",
          "resentrainement",
          "autres",
          "aucune"
         ],
         "xgap": 1,
         "y": [
          "manuelnum",
          "animscienlogisimu",
          "bdd",
          "logioutils",
          "ouvref",
          "resentrainement",
          "autres",
          "aucune"
         ],
         "ygap": 1,
         "z": [
          [
           1,
           0.17106573633188005,
           0.17951447796520295,
           0.19908308903608815,
           0.1956150229804979,
           0.08197299554637325,
           -0.07390049592790882,
           -0.07257277420041644
          ],
          [
           0.17106573633188005,
           1,
           0.26410048696463295,
           0.3953688419730889,
           0.2777678897831024,
           0.08968650426425015,
           0.19529667070988002,
           -0.0913083496631685
          ],
          [
           0.17951447796520295,
           0.26410048696463295,
           1,
           0.2124623434335116,
           0.26706878351036456,
           0.12807831873181108,
           0.07159154156928306,
           -0.10118030423857696
          ],
          [
           0.19908308903608815,
           0.3953688419730889,
           0.2124623434335116,
           1,
           0.29323386776271515,
           0.06771504155942908,
           -0.00683956152756282,
           -0.15888827616009737
          ],
          [
           0.1956150229804979,
           0.2777678897831024,
           0.26706878351036456,
           0.29323386776271515,
           1,
           0.0655087696213836,
           0.053657112911923995,
           -0.07880078344411463
          ],
          [
           0.08197299554637325,
           0.08968650426425015,
           0.12807831873181108,
           0.06771504155942908,
           0.0655087696213836,
           1,
           0.03519201779153238,
           -0.040708187437088914
          ],
          [
           -0.07390049592790882,
           0.19529667070988002,
           0.07159154156928306,
           -0.00683956152756282,
           0.053657112911923995,
           0.03519201779153238,
           1,
           -0.05059694228804863
          ],
          [
           -0.07257277420041644,
           -0.0913083496631685,
           -0.10118030423857696,
           -0.15888827616009737,
           -0.07880078344411463,
           -0.040708187437088914,
           -0.05059694228804863,
           1
          ]
         ]
        }
       ],
       "layout": {
        "height": 600,
        "template": {
         "data": {
          "bar": [
           {
            "error_x": {
             "color": "#2a3f5f"
            },
            "error_y": {
             "color": "#2a3f5f"
            },
            "marker": {
             "line": {
              "color": "#E5ECF6",
              "width": 0.5
             },
             "pattern": {
              "fillmode": "overlay",
              "size": 10,
              "solidity": 0.2
             }
            },
            "type": "bar"
           }
          ],
          "barpolar": [
           {
            "marker": {
             "line": {
              "color": "#E5ECF6",
              "width": 0.5
             },
             "pattern": {
              "fillmode": "overlay",
              "size": 10,
              "solidity": 0.2
             }
            },
            "type": "barpolar"
           }
          ],
          "carpet": [
           {
            "aaxis": {
             "endlinecolor": "#2a3f5f",
             "gridcolor": "white",
             "linecolor": "white",
             "minorgridcolor": "white",
             "startlinecolor": "#2a3f5f"
            },
            "baxis": {
             "endlinecolor": "#2a3f5f",
             "gridcolor": "white",
             "linecolor": "white",
             "minorgridcolor": "white",
             "startlinecolor": "#2a3f5f"
            },
            "type": "carpet"
           }
          ],
          "choropleth": [
           {
            "colorbar": {
             "outlinewidth": 0,
             "ticks": ""
            },
            "type": "choropleth"
           }
          ],
          "contour": [
           {
            "colorbar": {
             "outlinewidth": 0,
             "ticks": ""
            },
            "colorscale": [
             [
              0,
              "#0d0887"
             ],
             [
              0.1111111111111111,
              "#46039f"
             ],
             [
              0.2222222222222222,
              "#7201a8"
             ],
             [
              0.3333333333333333,
              "#9c179e"
             ],
             [
              0.4444444444444444,
              "#bd3786"
             ],
             [
              0.5555555555555556,
              "#d8576b"
             ],
             [
              0.6666666666666666,
              "#ed7953"
             ],
             [
              0.7777777777777778,
              "#fb9f3a"
             ],
             [
              0.8888888888888888,
              "#fdca26"
             ],
             [
              1,
              "#f0f921"
             ]
            ],
            "type": "contour"
           }
          ],
          "contourcarpet": [
           {
            "colorbar": {
             "outlinewidth": 0,
             "ticks": ""
            },
            "type": "contourcarpet"
           }
          ],
          "heatmap": [
           {
            "colorbar": {
             "outlinewidth": 0,
             "ticks": ""
            },
            "colorscale": [
             [
              0,
              "#0d0887"
             ],
             [
              0.1111111111111111,
              "#46039f"
             ],
             [
              0.2222222222222222,
              "#7201a8"
             ],
             [
              0.3333333333333333,
              "#9c179e"
             ],
             [
              0.4444444444444444,
              "#bd3786"
             ],
             [
              0.5555555555555556,
              "#d8576b"
             ],
             [
              0.6666666666666666,
              "#ed7953"
             ],
             [
              0.7777777777777778,
              "#fb9f3a"
             ],
             [
              0.8888888888888888,
              "#fdca26"
             ],
             [
              1,
              "#f0f921"
             ]
            ],
            "type": "heatmap"
           }
          ],
          "heatmapgl": [
           {
            "colorbar": {
             "outlinewidth": 0,
             "ticks": ""
            },
            "colorscale": [
             [
              0,
              "#0d0887"
             ],
             [
              0.1111111111111111,
              "#46039f"
             ],
             [
              0.2222222222222222,
              "#7201a8"
             ],
             [
              0.3333333333333333,
              "#9c179e"
             ],
             [
              0.4444444444444444,
              "#bd3786"
             ],
             [
              0.5555555555555556,
              "#d8576b"
             ],
             [
              0.6666666666666666,
              "#ed7953"
             ],
             [
              0.7777777777777778,
              "#fb9f3a"
             ],
             [
              0.8888888888888888,
              "#fdca26"
             ],
             [
              1,
              "#f0f921"
             ]
            ],
            "type": "heatmapgl"
           }
          ],
          "histogram": [
           {
            "marker": {
             "pattern": {
              "fillmode": "overlay",
              "size": 10,
              "solidity": 0.2
             }
            },
            "type": "histogram"
           }
          ],
          "histogram2d": [
           {
            "colorbar": {
             "outlinewidth": 0,
             "ticks": ""
            },
            "colorscale": [
             [
              0,
              "#0d0887"
             ],
             [
              0.1111111111111111,
              "#46039f"
             ],
             [
              0.2222222222222222,
              "#7201a8"
             ],
             [
              0.3333333333333333,
              "#9c179e"
             ],
             [
              0.4444444444444444,
              "#bd3786"
             ],
             [
              0.5555555555555556,
              "#d8576b"
             ],
             [
              0.6666666666666666,
              "#ed7953"
             ],
             [
              0.7777777777777778,
              "#fb9f3a"
             ],
             [
              0.8888888888888888,
              "#fdca26"
             ],
             [
              1,
              "#f0f921"
             ]
            ],
            "type": "histogram2d"
           }
          ],
          "histogram2dcontour": [
           {
            "colorbar": {
             "outlinewidth": 0,
             "ticks": ""
            },
            "colorscale": [
             [
              0,
              "#0d0887"
             ],
             [
              0.1111111111111111,
              "#46039f"
             ],
             [
              0.2222222222222222,
              "#7201a8"
             ],
             [
              0.3333333333333333,
              "#9c179e"
             ],
             [
              0.4444444444444444,
              "#bd3786"
             ],
             [
              0.5555555555555556,
              "#d8576b"
             ],
             [
              0.6666666666666666,
              "#ed7953"
             ],
             [
              0.7777777777777778,
              "#fb9f3a"
             ],
             [
              0.8888888888888888,
              "#fdca26"
             ],
             [
              1,
              "#f0f921"
             ]
            ],
            "type": "histogram2dcontour"
           }
          ],
          "mesh3d": [
           {
            "colorbar": {
             "outlinewidth": 0,
             "ticks": ""
            },
            "type": "mesh3d"
           }
          ],
          "parcoords": [
           {
            "line": {
             "colorbar": {
              "outlinewidth": 0,
              "ticks": ""
             }
            },
            "type": "parcoords"
           }
          ],
          "pie": [
           {
            "automargin": true,
            "type": "pie"
           }
          ],
          "scatter": [
           {
            "fillpattern": {
             "fillmode": "overlay",
             "size": 10,
             "solidity": 0.2
            },
            "type": "scatter"
           }
          ],
          "scatter3d": [
           {
            "line": {
             "colorbar": {
              "outlinewidth": 0,
              "ticks": ""
             }
            },
            "marker": {
             "colorbar": {
              "outlinewidth": 0,
              "ticks": ""
             }
            },
            "type": "scatter3d"
           }
          ],
          "scattercarpet": [
           {
            "marker": {
             "colorbar": {
              "outlinewidth": 0,
              "ticks": ""
             }
            },
            "type": "scattercarpet"
           }
          ],
          "scattergeo": [
           {
            "marker": {
             "colorbar": {
              "outlinewidth": 0,
              "ticks": ""
             }
            },
            "type": "scattergeo"
           }
          ],
          "scattergl": [
           {
            "marker": {
             "colorbar": {
              "outlinewidth": 0,
              "ticks": ""
             }
            },
            "type": "scattergl"
           }
          ],
          "scattermapbox": [
           {
            "marker": {
             "colorbar": {
              "outlinewidth": 0,
              "ticks": ""
             }
            },
            "type": "scattermapbox"
           }
          ],
          "scatterpolar": [
           {
            "marker": {
             "colorbar": {
              "outlinewidth": 0,
              "ticks": ""
             }
            },
            "type": "scatterpolar"
           }
          ],
          "scatterpolargl": [
           {
            "marker": {
             "colorbar": {
              "outlinewidth": 0,
              "ticks": ""
             }
            },
            "type": "scatterpolargl"
           }
          ],
          "scatterternary": [
           {
            "marker": {
             "colorbar": {
              "outlinewidth": 0,
              "ticks": ""
             }
            },
            "type": "scatterternary"
           }
          ],
          "surface": [
           {
            "colorbar": {
             "outlinewidth": 0,
             "ticks": ""
            },
            "colorscale": [
             [
              0,
              "#0d0887"
             ],
             [
              0.1111111111111111,
              "#46039f"
             ],
             [
              0.2222222222222222,
              "#7201a8"
             ],
             [
              0.3333333333333333,
              "#9c179e"
             ],
             [
              0.4444444444444444,
              "#bd3786"
             ],
             [
              0.5555555555555556,
              "#d8576b"
             ],
             [
              0.6666666666666666,
              "#ed7953"
             ],
             [
              0.7777777777777778,
              "#fb9f3a"
             ],
             [
              0.8888888888888888,
              "#fdca26"
             ],
             [
              1,
              "#f0f921"
             ]
            ],
            "type": "surface"
           }
          ],
          "table": [
           {
            "cells": {
             "fill": {
              "color": "#EBF0F8"
             },
             "line": {
              "color": "white"
             }
            },
            "header": {
             "fill": {
              "color": "#C8D4E3"
             },
             "line": {
              "color": "white"
             }
            },
            "type": "table"
           }
          ]
         },
         "layout": {
          "annotationdefaults": {
           "arrowcolor": "#2a3f5f",
           "arrowhead": 0,
           "arrowwidth": 1
          },
          "autotypenumbers": "strict",
          "coloraxis": {
           "colorbar": {
            "outlinewidth": 0,
            "ticks": ""
           }
          },
          "colorscale": {
           "diverging": [
            [
             0,
             "#8e0152"
            ],
            [
             0.1,
             "#c51b7d"
            ],
            [
             0.2,
             "#de77ae"
            ],
            [
             0.3,
             "#f1b6da"
            ],
            [
             0.4,
             "#fde0ef"
            ],
            [
             0.5,
             "#f7f7f7"
            ],
            [
             0.6,
             "#e6f5d0"
            ],
            [
             0.7,
             "#b8e186"
            ],
            [
             0.8,
             "#7fbc41"
            ],
            [
             0.9,
             "#4d9221"
            ],
            [
             1,
             "#276419"
            ]
           ],
           "sequential": [
            [
             0,
             "#0d0887"
            ],
            [
             0.1111111111111111,
             "#46039f"
            ],
            [
             0.2222222222222222,
             "#7201a8"
            ],
            [
             0.3333333333333333,
             "#9c179e"
            ],
            [
             0.4444444444444444,
             "#bd3786"
            ],
            [
             0.5555555555555556,
             "#d8576b"
            ],
            [
             0.6666666666666666,
             "#ed7953"
            ],
            [
             0.7777777777777778,
             "#fb9f3a"
            ],
            [
             0.8888888888888888,
             "#fdca26"
            ],
            [
             1,
             "#f0f921"
            ]
           ],
           "sequentialminus": [
            [
             0,
             "#0d0887"
            ],
            [
             0.1111111111111111,
             "#46039f"
            ],
            [
             0.2222222222222222,
             "#7201a8"
            ],
            [
             0.3333333333333333,
             "#9c179e"
            ],
            [
             0.4444444444444444,
             "#bd3786"
            ],
            [
             0.5555555555555556,
             "#d8576b"
            ],
            [
             0.6666666666666666,
             "#ed7953"
            ],
            [
             0.7777777777777778,
             "#fb9f3a"
            ],
            [
             0.8888888888888888,
             "#fdca26"
            ],
            [
             1,
             "#f0f921"
            ]
           ]
          },
          "colorway": [
           "#636efa",
           "#EF553B",
           "#00cc96",
           "#ab63fa",
           "#FFA15A",
           "#19d3f3",
           "#FF6692",
           "#B6E880",
           "#FF97FF",
           "#FECB52"
          ],
          "font": {
           "color": "#2a3f5f"
          },
          "geo": {
           "bgcolor": "white",
           "lakecolor": "white",
           "landcolor": "#E5ECF6",
           "showlakes": true,
           "showland": true,
           "subunitcolor": "white"
          },
          "hoverlabel": {
           "align": "left"
          },
          "hovermode": "closest",
          "mapbox": {
           "style": "light"
          },
          "paper_bgcolor": "white",
          "plot_bgcolor": "#E5ECF6",
          "polar": {
           "angularaxis": {
            "gridcolor": "white",
            "linecolor": "white",
            "ticks": ""
           },
           "bgcolor": "#E5ECF6",
           "radialaxis": {
            "gridcolor": "white",
            "linecolor": "white",
            "ticks": ""
           }
          },
          "scene": {
           "xaxis": {
            "backgroundcolor": "#E5ECF6",
            "gridcolor": "white",
            "gridwidth": 2,
            "linecolor": "white",
            "showbackground": true,
            "ticks": "",
            "zerolinecolor": "white"
           },
           "yaxis": {
            "backgroundcolor": "#E5ECF6",
            "gridcolor": "white",
            "gridwidth": 2,
            "linecolor": "white",
            "showbackground": true,
            "ticks": "",
            "zerolinecolor": "white"
           },
           "zaxis": {
            "backgroundcolor": "#E5ECF6",
            "gridcolor": "white",
            "gridwidth": 2,
            "linecolor": "white",
            "showbackground": true,
            "ticks": "",
            "zerolinecolor": "white"
           }
          },
          "shapedefaults": {
           "line": {
            "color": "#2a3f5f"
           }
          },
          "ternary": {
           "aaxis": {
            "gridcolor": "white",
            "linecolor": "white",
            "ticks": ""
           },
           "baxis": {
            "gridcolor": "white",
            "linecolor": "white",
            "ticks": ""
           },
           "bgcolor": "#E5ECF6",
           "caxis": {
            "gridcolor": "white",
            "linecolor": "white",
            "ticks": ""
           }
          },
          "title": {
           "x": 0.05
          },
          "xaxis": {
           "automargin": true,
           "gridcolor": "white",
           "linecolor": "white",
           "ticks": "",
           "title": {
            "standoff": 15
           },
           "zerolinecolor": "white",
           "zerolinewidth": 2
          },
          "yaxis": {
           "automargin": true,
           "gridcolor": "white",
           "linecolor": "white",
           "ticks": "",
           "title": {
            "standoff": 15
           },
           "zerolinecolor": "white",
           "zerolinewidth": 2
          }
         }
        },
        "title": {
         "text": "Correlation Matrix",
         "x": 0.5
        },
        "width": 600,
        "xaxis": {
         "showgrid": false
        },
        "yaxis": {
         "autorange": "reversed",
         "showgrid": false
        }
       }
      }
     },
     "metadata": {},
     "output_type": "display_data"
    }
   ],
   "source": [
    "columns_names = df_ressources.columns\n",
    "\n",
    "heat = go.Heatmap(\n",
    "    z = df_ressources.corr(),\n",
    "    x = columns_names,\n",
    "    y = columns_names,\n",
    "    xgap = 1, ygap = 1,\n",
    "    colorbar_thickness=20,\n",
    "    colorbar_ticklen=3,\n",
    "    hovertext = df_ressources.corr(),\n",
    "    hoverinfo='text'\n",
    ")\n",
    "\n",
    "layout = go.Layout(\n",
    "    title_text= \"Correlation Matrix\",\n",
    "    title_x = 0.5,\n",
    "    width=600, height=600,\n",
    "    xaxis_showgrid=False,\n",
    "    yaxis_showgrid=False,\n",
    "    yaxis_autorange='reversed'\n",
    ")\n",
    "\n",
    "fig = go.Figure(data=[heat], layout=layout)\n",
    "fig.show()"
   ]
  },
  {
   "attachments": {},
   "cell_type": "markdown",
   "metadata": {},
   "source": [
    "On voit qu'il n'y a pas tellement de corrélation entre les variables qu'on a prises ici."
   ]
  },
  {
   "attachments": {},
   "cell_type": "markdown",
   "metadata": {},
   "source": [
    "### Clustering\n",
    "\n",
    "On peut maintenant passer au Clustering avec l'algorithme de ``KMeans``."
   ]
  },
  {
   "cell_type": "code",
   "execution_count": 8,
   "metadata": {},
   "outputs": [
    {
     "data": {
      "text/html": [
       "<div>\n",
       "<style scoped>\n",
       "    .dataframe tbody tr th:only-of-type {\n",
       "        vertical-align: middle;\n",
       "    }\n",
       "\n",
       "    .dataframe tbody tr th {\n",
       "        vertical-align: top;\n",
       "    }\n",
       "\n",
       "    .dataframe thead th {\n",
       "        text-align: right;\n",
       "    }\n",
       "</style>\n",
       "<table border=\"1\" class=\"dataframe\">\n",
       "  <thead>\n",
       "    <tr style=\"text-align: right;\">\n",
       "      <th></th>\n",
       "      <th>manuelnum</th>\n",
       "      <th>animscienlogisimu</th>\n",
       "      <th>bdd</th>\n",
       "      <th>logioutils</th>\n",
       "      <th>ouvref</th>\n",
       "      <th>resentrainement</th>\n",
       "      <th>autres</th>\n",
       "      <th>aucune</th>\n",
       "    </tr>\n",
       "  </thead>\n",
       "  <tbody>\n",
       "    <tr>\n",
       "      <th>0</th>\n",
       "      <td>0.804233</td>\n",
       "      <td>0.798942</td>\n",
       "      <td>0.878307</td>\n",
       "      <td>0.973545</td>\n",
       "      <td>0.888889</td>\n",
       "      <td>-4.996004e-16</td>\n",
       "      <td>2.220446e-16</td>\n",
       "      <td>1.301043e-18</td>\n",
       "    </tr>\n",
       "    <tr>\n",
       "      <th>1</th>\n",
       "      <td>0.811146</td>\n",
       "      <td>0.922601</td>\n",
       "      <td>0.950464</td>\n",
       "      <td>0.993808</td>\n",
       "      <td>0.913313</td>\n",
       "      <td>1.000000e+00</td>\n",
       "      <td>5.944272e-01</td>\n",
       "      <td>-2.602085e-18</td>\n",
       "    </tr>\n",
       "    <tr>\n",
       "      <th>2</th>\n",
       "      <td>0.418182</td>\n",
       "      <td>0.309091</td>\n",
       "      <td>0.400000</td>\n",
       "      <td>0.654545</td>\n",
       "      <td>0.115152</td>\n",
       "      <td>3.939394e-01</td>\n",
       "      <td>3.939394e-01</td>\n",
       "      <td>1.212121e-02</td>\n",
       "    </tr>\n",
       "    <tr>\n",
       "      <th>3</th>\n",
       "      <td>0.676856</td>\n",
       "      <td>0.943231</td>\n",
       "      <td>0.899563</td>\n",
       "      <td>0.960699</td>\n",
       "      <td>0.812227</td>\n",
       "      <td>-4.996004e-16</td>\n",
       "      <td>1.000000e+00</td>\n",
       "      <td>0.000000e+00</td>\n",
       "    </tr>\n",
       "  </tbody>\n",
       "</table>\n",
       "</div>"
      ],
      "text/plain": [
       "   manuelnum  animscienlogisimu       bdd  logioutils    ouvref  \\\n",
       "0   0.804233           0.798942  0.878307    0.973545  0.888889   \n",
       "1   0.811146           0.922601  0.950464    0.993808  0.913313   \n",
       "2   0.418182           0.309091  0.400000    0.654545  0.115152   \n",
       "3   0.676856           0.943231  0.899563    0.960699  0.812227   \n",
       "\n",
       "   resentrainement        autres        aucune  \n",
       "0    -4.996004e-16  2.220446e-16  1.301043e-18  \n",
       "1     1.000000e+00  5.944272e-01 -2.602085e-18  \n",
       "2     3.939394e-01  3.939394e-01  1.212121e-02  \n",
       "3    -4.996004e-16  1.000000e+00  0.000000e+00  "
      ]
     },
     "execution_count": 8,
     "metadata": {},
     "output_type": "execute_result"
    }
   ],
   "source": [
    "km_ressources = KMeans(\n",
    "    n_clusters=4, \n",
    "    random_state=42,\n",
    "    init='k-means++',\n",
    "    max_iter=3600,\n",
    "    n_init=20\n",
    ")\n",
    "\n",
    "y_km_ressources = km_ressources.fit_predict(df_ressources)\n",
    "\n",
    "resultat = pd.DataFrame(km_ressources.cluster_centers_, columns=km_ressources.feature_names_in_)\n",
    "\n",
    "resultat"
   ]
  },
  {
   "attachments": {},
   "cell_type": "markdown",
   "metadata": {},
   "source": [
    "On va convertir ces valeurs numériques en \"oui\" et \"non\" pour pouvoir comprendre le comportement moyen qui se dégage d'un cluster. Cela sera plus facile à comprendre et interprèter"
   ]
  },
  {
   "cell_type": "code",
   "execution_count": 9,
   "metadata": {},
   "outputs": [
    {
     "data": {
      "text/html": [
       "<div>\n",
       "<style scoped>\n",
       "    .dataframe tbody tr th:only-of-type {\n",
       "        vertical-align: middle;\n",
       "    }\n",
       "\n",
       "    .dataframe tbody tr th {\n",
       "        vertical-align: top;\n",
       "    }\n",
       "\n",
       "    .dataframe thead th {\n",
       "        text-align: right;\n",
       "    }\n",
       "</style>\n",
       "<table border=\"1\" class=\"dataframe\">\n",
       "  <thead>\n",
       "    <tr style=\"text-align: right;\">\n",
       "      <th></th>\n",
       "      <th>manuelnum</th>\n",
       "      <th>animscienlogisimu</th>\n",
       "      <th>bdd</th>\n",
       "      <th>logioutils</th>\n",
       "      <th>ouvref</th>\n",
       "      <th>resentrainement</th>\n",
       "      <th>autres</th>\n",
       "      <th>aucune</th>\n",
       "    </tr>\n",
       "  </thead>\n",
       "  <tbody>\n",
       "    <tr>\n",
       "      <th>0</th>\n",
       "      <td>oui</td>\n",
       "      <td>oui</td>\n",
       "      <td>oui</td>\n",
       "      <td>oui</td>\n",
       "      <td>oui</td>\n",
       "      <td>non</td>\n",
       "      <td>non</td>\n",
       "      <td>non</td>\n",
       "    </tr>\n",
       "    <tr>\n",
       "      <th>1</th>\n",
       "      <td>oui</td>\n",
       "      <td>oui</td>\n",
       "      <td>oui</td>\n",
       "      <td>oui</td>\n",
       "      <td>oui</td>\n",
       "      <td>oui</td>\n",
       "      <td>oui</td>\n",
       "      <td>non</td>\n",
       "    </tr>\n",
       "    <tr>\n",
       "      <th>2</th>\n",
       "      <td>non</td>\n",
       "      <td>non</td>\n",
       "      <td>non</td>\n",
       "      <td>oui</td>\n",
       "      <td>non</td>\n",
       "      <td>non</td>\n",
       "      <td>non</td>\n",
       "      <td>non</td>\n",
       "    </tr>\n",
       "    <tr>\n",
       "      <th>3</th>\n",
       "      <td>oui</td>\n",
       "      <td>oui</td>\n",
       "      <td>oui</td>\n",
       "      <td>oui</td>\n",
       "      <td>oui</td>\n",
       "      <td>non</td>\n",
       "      <td>oui</td>\n",
       "      <td>non</td>\n",
       "    </tr>\n",
       "  </tbody>\n",
       "</table>\n",
       "</div>"
      ],
      "text/plain": [
       "  manuelnum animscienlogisimu  bdd logioutils ouvref resentrainement autres  \\\n",
       "0       oui               oui  oui        oui    oui             non    non   \n",
       "1       oui               oui  oui        oui    oui             oui    oui   \n",
       "2       non               non  non        oui    non             non    non   \n",
       "3       oui               oui  oui        oui    oui             non    oui   \n",
       "\n",
       "  aucune  \n",
       "0    non  \n",
       "1    non  \n",
       "2    non  \n",
       "3    non  "
      ]
     },
     "execution_count": 9,
     "metadata": {},
     "output_type": "execute_result"
    }
   ],
   "source": [
    "def change_value(row):\n",
    "    if(row > 0.5):\n",
    "        return 1\n",
    "    else:\n",
    "        return 0\n",
    "\n",
    "\n",
    "for column in resultat.columns:\n",
    "    resultat[column] = resultat[column].apply(change_value)\n",
    "    resultat[column] = resultat[column].replace({1: 'oui', 0: 'non'})\n",
    "    resultat[column] = resultat[column].astype(str)\n",
    "\n",
    "\n",
    "resultat"
   ]
  },
  {
   "attachments": {},
   "cell_type": "markdown",
   "metadata": {},
   "source": [
    "Après plusieurs essais, avec plusieurs valeurs pour le nombre de clusters à trouver, nous avons pu voir que les meilleurs paramètres mis au dessus dans la fonction du KMeans est celui mis actuellement. Il permet de discrétiser en 4 modalités ces 8 colonnes. Si on augmente le nombre de clusters, on a des classes qui se ressemblent, et si on le diminue les classes ne sont pas précises. \n",
    "Nous avons donc ici 4 modalités pour la nouvelle classe \"ressources mises en place\" :\n",
    "- \"*`Très bien`*\" : la classe 1\n",
    "- \"*`Bien`*\" : la classe 3\n",
    "- \"*`Assez bien`*\" : la classe 0\n",
    "- \"*`Mauvais`*\" : la classe 2\n",
    "\n",
    "\n",
    "On va ensuite procéder à une ACP pour voir si on a une bonne découpe des clusters et avoir une représentation physique qui va plus nous parler.\n",
    "\n",
    "On ajoute à chaque individu sa classe."
   ]
  },
  {
   "cell_type": "code",
   "execution_count": 10,
   "metadata": {},
   "outputs": [
    {
     "data": {
      "text/html": [
       "<div>\n",
       "<style scoped>\n",
       "    .dataframe tbody tr th:only-of-type {\n",
       "        vertical-align: middle;\n",
       "    }\n",
       "\n",
       "    .dataframe tbody tr th {\n",
       "        vertical-align: top;\n",
       "    }\n",
       "\n",
       "    .dataframe thead th {\n",
       "        text-align: right;\n",
       "    }\n",
       "</style>\n",
       "<table border=\"1\" class=\"dataframe\">\n",
       "  <thead>\n",
       "    <tr style=\"text-align: right;\">\n",
       "      <th></th>\n",
       "      <th>manuelnum</th>\n",
       "      <th>animscienlogisimu</th>\n",
       "      <th>bdd</th>\n",
       "      <th>logioutils</th>\n",
       "      <th>ouvref</th>\n",
       "      <th>resentrainement</th>\n",
       "      <th>autres</th>\n",
       "      <th>aucune</th>\n",
       "      <th>cluster</th>\n",
       "    </tr>\n",
       "    <tr>\n",
       "      <th>Code_UAI</th>\n",
       "      <th></th>\n",
       "      <th></th>\n",
       "      <th></th>\n",
       "      <th></th>\n",
       "      <th></th>\n",
       "      <th></th>\n",
       "      <th></th>\n",
       "      <th></th>\n",
       "      <th></th>\n",
       "    </tr>\n",
       "  </thead>\n",
       "  <tbody>\n",
       "    <tr>\n",
       "      <th>0810016C</th>\n",
       "      <td>1.0</td>\n",
       "      <td>1.0</td>\n",
       "      <td>1.0</td>\n",
       "      <td>1.0</td>\n",
       "      <td>1.0</td>\n",
       "      <td>0.0</td>\n",
       "      <td>1.0</td>\n",
       "      <td>0.0</td>\n",
       "      <td>3</td>\n",
       "    </tr>\n",
       "    <tr>\n",
       "      <th>0810026N</th>\n",
       "      <td>0.0</td>\n",
       "      <td>1.0</td>\n",
       "      <td>1.0</td>\n",
       "      <td>1.0</td>\n",
       "      <td>1.0</td>\n",
       "      <td>0.0</td>\n",
       "      <td>1.0</td>\n",
       "      <td>0.0</td>\n",
       "      <td>3</td>\n",
       "    </tr>\n",
       "    <tr>\n",
       "      <th>0810041E</th>\n",
       "      <td>1.0</td>\n",
       "      <td>0.0</td>\n",
       "      <td>1.0</td>\n",
       "      <td>1.0</td>\n",
       "      <td>1.0</td>\n",
       "      <td>1.0</td>\n",
       "      <td>1.0</td>\n",
       "      <td>0.0</td>\n",
       "      <td>1</td>\n",
       "    </tr>\n",
       "    <tr>\n",
       "      <th>0810124V</th>\n",
       "      <td>1.0</td>\n",
       "      <td>1.0</td>\n",
       "      <td>1.0</td>\n",
       "      <td>1.0</td>\n",
       "      <td>1.0</td>\n",
       "      <td>0.0</td>\n",
       "      <td>1.0</td>\n",
       "      <td>0.0</td>\n",
       "      <td>3</td>\n",
       "    </tr>\n",
       "    <tr>\n",
       "      <th>0810125W</th>\n",
       "      <td>1.0</td>\n",
       "      <td>0.0</td>\n",
       "      <td>0.0</td>\n",
       "      <td>1.0</td>\n",
       "      <td>0.0</td>\n",
       "      <td>1.0</td>\n",
       "      <td>0.0</td>\n",
       "      <td>0.0</td>\n",
       "      <td>2</td>\n",
       "    </tr>\n",
       "  </tbody>\n",
       "</table>\n",
       "</div>"
      ],
      "text/plain": [
       "          manuelnum  animscienlogisimu  bdd  logioutils  ouvref  \\\n",
       "Code_UAI                                                          \n",
       "0810016C        1.0                1.0  1.0         1.0     1.0   \n",
       "0810026N        0.0                1.0  1.0         1.0     1.0   \n",
       "0810041E        1.0                0.0  1.0         1.0     1.0   \n",
       "0810124V        1.0                1.0  1.0         1.0     1.0   \n",
       "0810125W        1.0                0.0  0.0         1.0     0.0   \n",
       "\n",
       "          resentrainement  autres  aucune cluster  \n",
       "Code_UAI                                           \n",
       "0810016C              0.0     1.0     0.0       3  \n",
       "0810026N              0.0     1.0     0.0       3  \n",
       "0810041E              1.0     1.0     0.0       1  \n",
       "0810124V              0.0     1.0     0.0       3  \n",
       "0810125W              1.0     0.0     0.0       2  "
      ]
     },
     "execution_count": 10,
     "metadata": {},
     "output_type": "execute_result"
    }
   ],
   "source": [
    "df_ressources['cluster'] = y_km_ressources\n",
    "df_ressources['cluster'] = df_ressources['cluster'].astype(str)\n",
    "df_ressources.head()"
   ]
  },
  {
   "attachments": {},
   "cell_type": "markdown",
   "metadata": {},
   "source": [
    "Après avoir bien mis en forme nos données, on peut passer à une ACP. Nous allons d'abord faire une ACP à l'aide de la classe ``PCA`` fournie par ```sklearn```"
   ]
  },
  {
   "cell_type": "code",
   "execution_count": 11,
   "metadata": {},
   "outputs": [
    {
     "data": {
      "application/vnd.plotly.v1+json": {
       "config": {
        "plotlyServerURL": "https://plot.ly"
       },
       "data": [
        {
         "hovertemplate": "color=3<br>PC1=%{x}<br>PC2=%{y}<extra></extra>",
         "legendgroup": "3",
         "marker": {
          "color": "#636efa",
          "symbol": "circle"
         },
         "mode": "markers",
         "name": "3",
         "orientation": "v",
         "showlegend": true,
         "type": "scatter",
         "x": [
          -0.38982663121051103,
          0.010501565311764842,
          -0.38982663121051014,
          0.010501565311764714,
          -0.38982663121051025,
          -0.02497081889870645,
          -0.38982663121051025,
          -0.38982663121051025,
          -0.38982663121051025,
          -0.38982663121051025,
          -0.38982663121051025,
          -0.38982663121051025,
          -0.38982663121051025,
          0.46474325335762207,
          -0.38982663121051025,
          0.09565239069359337,
          0.37535737762356847,
          -0.38982663121051025,
          -0.38982663121051025,
          -0.38982663121051025,
          0.5939302649460798,
          0.49598058721586824,
          -0.38982663121051025,
          -0.38982663121051025,
          -0.38982663121051025,
          0.010501565311764714,
          0.010501565311764714,
          -0.38982663121051025,
          0.49598058721586824,
          -0.38982663121051025,
          -0.38982663121051025,
          0.22907445263427603,
          -0.38982663121051025,
          -0.02497081889870645,
          0.49598058721586824,
          -0.38982663121051025,
          -0.38982663121051025,
          0.010501565311764714,
          -0.02497081889870645,
          -0.02497081889870645,
          0.460508203005397,
          0.46474325335762207,
          -0.38982663121051025,
          -0.38982663121051025,
          0.09565239069359337,
          -0.38982663121051025,
          -0.38982663121051025,
          -0.38982663121051025,
          -0.38982663121051025,
          -0.38982663121051025,
          0.09565239069359337,
          -0.38982663121051025,
          0.28298794415785844,
          0.010501565311764714,
          -0.38982663121051025,
          -0.38982663121051025,
          0.010501565311764714,
          0.010501565311764714,
          -0.38982663121051025,
          -0.38982663121051025,
          0.010501565311764714,
          -0.38982663121051025,
          -0.38982663121051025,
          -0.38982663121051025,
          0.49598058721586824,
          0.010501565311764714,
          0.09565239069359337,
          0.010501565311764714,
          -0.38982663121051025,
          -0.38982663121051025,
          -0.38982663121051025,
          0.49598058721586824,
          0.22907445263427603,
          -0.38982663121051025,
          0.49598058721586824,
          0.010501565311764714,
          -0.38982663121051025,
          0.010501565311764714,
          0.010501565311764714,
          0.010501565311764714,
          -0.38982663121051025,
          -0.38982663121051025,
          -0.38982663121051025,
          -0.38982663121051025,
          0.010501565311764714,
          0.010501565311764714,
          0.06441505683534715,
          -0.38982663121051025,
          -0.38982663121051025,
          0.09565239069359337,
          -0.38982663121051025,
          0.49598058721586824,
          -0.38982663121051025,
          0.49598058721586824,
          -0.02497081889870645,
          -0.38982663121051025,
          0.46474325335762207,
          0.37535737762356847,
          0.010501565311764714,
          0.4292708691471508,
          0.49598058721586824,
          0.37535737762356847,
          0.49598058721586824,
          0.010501565311764714,
          0.010501565311764714,
          0.010501565311764714,
          0.09565239069359337,
          -0.38982663121051025,
          0.22907445263427603,
          -0.02497081889870645,
          -0.38982663121051025,
          0.06441505683534715,
          -0.38982663121051025,
          -0.38982663121051025,
          0.09565239069359337,
          -0.38982663121051025,
          -0.38982663121051025,
          -0.38982663121051025,
          -0.38982663121051025,
          0.010501565311764714,
          0.4292708691471508,
          -0.38982663121051025,
          -0.38982663121051025,
          0.09565239069359337,
          0.28298794415785844,
          -0.38982663121051025,
          -0.38982663121051025,
          0.09565239069359337,
          0.09565239069359337,
          0.49598058721586824,
          0.49598058721586824,
          -0.38982663121051025,
          -0.38982663121051025,
          -0.38982663121051025,
          -0.38982663121051025,
          -0.38982663121051025,
          0.49598058721586824,
          -0.38982663121051025,
          -0.38982663121051025,
          0.010501565311764714,
          0.460508203005397,
          0.09565239069359337,
          0.49598058721586824,
          -0.02497081889870645,
          0.09565239069359337,
          0.460508203005397,
          0.09565239069359337,
          0.010501565311764714,
          -0.38982663121051025,
          -0.38982663121051025,
          -0.38982663121051025,
          -0.38982663121051025,
          -0.38982663121051025,
          -0.38982663121051025,
          0.010501565311764714,
          -0.38982663121051025,
          0.09565239069359337,
          -0.02497081889870645,
          -0.38982663121051025,
          -0.38982663121051025,
          -0.38982663121051025,
          0.49598058721586824,
          0.010501565311764714,
          0.09565239069359337,
          -0.38982663121051025,
          -0.38982663121051025,
          -0.38982663121051025,
          -0.38982663121051025,
          -0.38982663121051025,
          -0.02497081889870645,
          0.09565239069359337,
          0.46474325335762207,
          0.46474325335762207,
          0.09565239069359337,
          0.37535737762356847,
          -0.38982663121051025,
          -0.38982663121051025,
          -0.38982663121051025,
          0.010501565311764714,
          -0.38982663121051025,
          0.010501565311764714,
          -0.38982663121051025,
          -0.38982663121051025,
          0.22907445263427603,
          0.010501565311764714,
          -0.38982663121051025,
          -0.02497081889870645,
          -0.38982663121051025,
          -0.38982663121051025,
          0.010501565311764714,
          -0.38982663121051025,
          0.010501565311764714,
          -0.38982663121051025,
          -0.38982663121051025,
          -0.38982663121051025,
          0.28298794415785844,
          0.010501565311764714,
          0.09565239069359337,
          -0.38982663121051025,
          -0.38982663121051025,
          0.010501565311764714,
          -0.38982663121051025,
          -0.38982663121051025,
          -0.38982663121051025,
          -0.38982663121051025,
          -0.38982663121051025,
          0.49598058721586824,
          0.49598058721586824,
          -0.38982663121051025,
          -0.02497081889870645,
          -0.38982663121051025,
          0.49598058721586824,
          0.010501565311764714,
          -0.38982663121051025,
          0.37535737762356847,
          0.49598058721586824,
          -0.38982663121051025,
          0.49598058721586824,
          -0.38982663121051025,
          0.010501565311764714,
          -0.02497081889870645,
          -0.38982663121051025,
          0.06441505683534715,
          -0.38982663121051025,
          0.010501565311764714,
          0.010501565311764714,
          0.22907445263427603,
          0.09565239069359337,
          0.49598058721586824
         ],
         "xaxis": "x",
         "y": [
          0.3133483061192305,
          0.7311525269478003,
          0.31334830611923464,
          0.731152526947802,
          0.3133483061192347,
          0.3620578404216733,
          0.3133483061192347,
          0.3133483061192347,
          0.3133483061192347,
          0.3133483061192347,
          0.3133483061192347,
          0.3133483061192347,
          0.3133483061192347,
          0.6257205504889793,
          0.3133483061192347,
          0.4186669955345468,
          0.7798620612502405,
          0.3133483061192347,
          0.3133483061192347,
          0.3133483061192347,
          0.8465988702672224,
          0.8364712163631143,
          0.3133483061192347,
          0.3133483061192347,
          0.3133483061192347,
          0.731152526947802,
          0.731152526947802,
          0.3133483061192347,
          0.8364712163631143,
          0.3133483061192347,
          0.3133483061192347,
          0.7978893359647841,
          0.3133483061192347,
          0.3620578404216733,
          0.8364712163631143,
          0.3133483061192347,
          0.3133483061192347,
          0.731152526947802,
          0.3620578404216733,
          0.3620578404216733,
          0.46737652983698535,
          0.6257205504889793,
          0.3133483061192347,
          0.3133483061192347,
          0.4186669955345468,
          0.3133483061192347,
          0.3133483061192347,
          0.3133483061192347,
          0.3133483061192347,
          0.3133483061192347,
          0.4186669955345468,
          0.3133483061192347,
          0.2746531386773939,
          0.731152526947802,
          0.3133483061192347,
          0.3133483061192347,
          0.731152526947802,
          0.731152526947802,
          0.3133483061192347,
          0.3133483061192347,
          0.731152526947802,
          0.3133483061192347,
          0.3133483061192347,
          0.3133483061192347,
          0.8364712163631143,
          0.731152526947802,
          0.4186669955345468,
          0.731152526947802,
          0.3133483061192347,
          0.3133483061192347,
          0.3133483061192347,
          0.8364712163631143,
          0.7978893359647841,
          0.3133483061192347,
          0.8364712163631143,
          0.731152526947802,
          0.3133483061192347,
          0.731152526947802,
          0.731152526947802,
          0.731152526947802,
          0.3133483061192347,
          0.3133483061192347,
          0.3133483061192347,
          0.3133483061192347,
          0.731152526947802,
          0.731152526947802,
          0.20791632966041193,
          0.3133483061192347,
          0.3133483061192347,
          0.4186669955345468,
          0.3133483061192347,
          0.8364712163631143,
          0.3133483061192347,
          0.8364712163631143,
          0.3620578404216733,
          0.3133483061192347,
          0.6257205504889793,
          0.7798620612502405,
          0.731152526947802,
          0.25662586396285053,
          0.8364712163631143,
          0.7798620612502405,
          0.8364712163631143,
          0.731152526947802,
          0.731152526947802,
          0.731152526947802,
          0.4186669955345468,
          0.3133483061192347,
          0.7978893359647841,
          0.3620578404216733,
          0.3133483061192347,
          0.20791632966041193,
          0.3133483061192347,
          0.3133483061192347,
          0.4186669955345468,
          0.3133483061192347,
          0.3133483061192347,
          0.3133483061192347,
          0.3133483061192347,
          0.731152526947802,
          0.25662586396285053,
          0.3133483061192347,
          0.3133483061192347,
          0.4186669955345468,
          0.2746531386773939,
          0.3133483061192347,
          0.3133483061192347,
          0.4186669955345468,
          0.4186669955345468,
          0.8364712163631143,
          0.8364712163631143,
          0.3133483061192347,
          0.3133483061192347,
          0.3133483061192347,
          0.3133483061192347,
          0.3133483061192347,
          0.8364712163631143,
          0.3133483061192347,
          0.3133483061192347,
          0.731152526947802,
          0.46737652983698535,
          0.4186669955345468,
          0.8364712163631143,
          0.3620578404216733,
          0.4186669955345468,
          0.46737652983698535,
          0.4186669955345468,
          0.731152526947802,
          0.3133483061192347,
          0.3133483061192347,
          0.3133483061192347,
          0.3133483061192347,
          0.3133483061192347,
          0.3133483061192347,
          0.731152526947802,
          0.3133483061192347,
          0.4186669955345468,
          0.3620578404216733,
          0.3133483061192347,
          0.3133483061192347,
          0.3133483061192347,
          0.8364712163631143,
          0.731152526947802,
          0.4186669955345468,
          0.3133483061192347,
          0.3133483061192347,
          0.3133483061192347,
          0.3133483061192347,
          0.3133483061192347,
          0.3620578404216733,
          0.4186669955345468,
          0.6257205504889793,
          0.6257205504889793,
          0.4186669955345468,
          0.7798620612502405,
          0.3133483061192347,
          0.3133483061192347,
          0.3133483061192347,
          0.731152526947802,
          0.3133483061192347,
          0.731152526947802,
          0.3133483061192347,
          0.3133483061192347,
          0.7978893359647841,
          0.731152526947802,
          0.3133483061192347,
          0.3620578404216733,
          0.3133483061192347,
          0.3133483061192347,
          0.731152526947802,
          0.3133483061192347,
          0.731152526947802,
          0.3133483061192347,
          0.3133483061192347,
          0.3133483061192347,
          0.2746531386773939,
          0.731152526947802,
          0.4186669955345468,
          0.3133483061192347,
          0.3133483061192347,
          0.731152526947802,
          0.3133483061192347,
          0.3133483061192347,
          0.3133483061192347,
          0.3133483061192347,
          0.3133483061192347,
          0.8364712163631143,
          0.8364712163631143,
          0.3133483061192347,
          0.3620578404216733,
          0.3133483061192347,
          0.8364712163631143,
          0.731152526947802,
          0.3133483061192347,
          0.7798620612502405,
          0.8364712163631143,
          0.3133483061192347,
          0.8364712163631143,
          0.3133483061192347,
          0.731152526947802,
          0.3620578404216733,
          0.3133483061192347,
          0.20791632966041193,
          0.3133483061192347,
          0.731152526947802,
          0.731152526947802,
          0.7978893359647841,
          0.4186669955345468,
          0.8364712163631142
         ],
         "yaxis": "y"
        },
        {
         "hovertemplate": "color=1<br>PC1=%{x}<br>PC2=%{y}<extra></extra>",
         "legendgroup": "1",
         "marker": {
          "color": "#EF553B",
          "symbol": "circle"
         },
         "mode": "markers",
         "name": "1",
         "orientation": "v",
         "showlegend": true,
         "type": "scatter",
         "x": [
          -0.31162813508081605,
          -0.7658698231266732,
          -0.7658698231266732,
          -0.2803908012225698,
          -0.3655416266043984,
          -0.4915161030111525,
          -0.3655416266043984,
          -0.4915161030111525,
          -0.3655416266043984,
          -0.4915161030111525,
          0.2736679058229261,
          -0.3655416266043984,
          -0.7658698231266732,
          -0.7658698231266732,
          -0.4915161030111525,
          -0.3655416266043984,
          -0.03727441496529522,
          -0.7658698231266732,
          -0.31162813508081605,
          -0.4915161030111525,
          -0.2803908012225698,
          -0.4915161030111525,
          -0.3655416266043984,
          -0.4915161030111525,
          -0.3655416266043984,
          -0.03727441496529522,
          -0.4915161030111525,
          -0.7658698231266732,
          -0.4915161030111525,
          -0.7658698231266732,
          -0.3655416266043984,
          -0.03727441496529522,
          -0.7658698231266732,
          -0.7658698231266732,
          -0.7658698231266732,
          -0.4915161030111525,
          -0.2803908012225698,
          -0.4915161030111525,
          -0.7658698231266732,
          -0.006037081107048992,
          -0.7658698231266732,
          -0.7658698231266732,
          -0.3655416266043984,
          -0.7658698231266732,
          0.2736679058229261,
          -0.4915161030111525,
          -0.31162813508081605,
          -0.7658698231266732,
          -0.4010140108148697,
          -0.7658698231266732,
          -0.7658698231266732,
          -0.4915161030111525,
          -0.7658698231266732,
          -0.3655416266043984,
          -0.4915161030111525,
          -0.7658698231266732,
          -0.0911879064888776,
          -0.4915161030111525,
          -0.2803908012225698,
          -0.006037081107048992,
          -0.006037081107048992,
          -0.7658698231266732,
          -0.4915161030111525,
          -0.7658698231266732,
          -0.7658698231266732,
          -0.03727441496529522,
          -0.7658698231266732,
          -0.4915161030111525,
          -0.7658698231266732,
          0.053227677230987626,
          -0.7658698231266732,
          -0.03727441496529522,
          -0.3655416266043984,
          -0.7658698231266732,
          -0.4915161030111525,
          -0.4915161030111525,
          -0.4915161030111525,
          -0.006037081107048992,
          -0.4915161030111525,
          -0.4915161030111525,
          -0.3655416266043984,
          0.2736679058229261,
          -0.12666029069934884,
          -0.4915161030111525,
          -0.0911879064888776,
          -0.7658698231266732,
          -0.4915161030111525,
          -0.2803908012225698,
          -0.03727441496529522,
          -0.006037081107048992,
          -0.4915161030111525,
          -0.31162813508081605,
          -0.7658698231266732,
          -0.2803908012225698,
          -0.3655416266043984,
          -0.4915161030111525,
          -0.0911879064888776,
          -0.4915161030111525,
          -0.4915161030111525,
          -0.2803908012225698,
          -0.7658698231266732,
          -0.4915161030111525,
          -0.0911879064888776,
          -0.3655416266043984,
          -0.3655416266043984,
          -0.7658698231266732,
          -0.4915161030111525,
          -0.7658698231266732,
          -0.3655416266043984,
          -0.7658698231266732,
          -0.2803908012225698,
          -0.4915161030111525,
          -0.7658698231266732,
          -0.7658698231266732,
          -0.12666029069934884,
          -0.4915161030111525,
          -0.7658698231266732,
          -0.7658698231266732,
          -0.03727441496529522,
          -0.2803908012225698,
          -0.7658698231266732,
          -0.7658698231266732,
          -0.4915161030111525,
          -0.4915161030111525,
          -0.7658698231266732,
          -0.4915161030111525,
          -0.7658698231266732,
          -0.7658698231266732,
          -0.4010140108148697,
          -0.4915161030111525,
          -0.7658698231266732,
          -0.7658698231266732,
          -0.4915161030111525,
          -0.7658698231266732,
          -0.4915161030111525,
          -0.4915161030111525,
          -0.4915161030111525,
          -0.7658698231266732,
          -0.7658698231266732,
          0.2736679058229261,
          -0.4915161030111525,
          -0.7658698231266732,
          -0.4915161030111525,
          -0.7658698231266732,
          -0.7658698231266732,
          -0.4915161030111525,
          -0.061817913900058495,
          -0.0911879064888776,
          -0.7658698231266732,
          -0.7658698231266732,
          -0.4915161030111525,
          -0.31162813508081605,
          -0.7658698231266732,
          -0.7658698231266732,
          -0.4915161030111525,
          0.053227677230987626,
          -0.2803908012225698,
          -0.3655416266043984,
          -0.7658698231266732,
          -0.7658698231266732,
          -0.4915161030111525,
          0.2736679058229261,
          -0.4915161030111525,
          -0.7658698231266732,
          -0.3655416266043984,
          -0.0911879064888776,
          -0.3655416266043984,
          -0.4915161030111525,
          -0.7658698231266732,
          -0.0006858142925946587,
          -0.7658698231266732,
          -0.0911879064888776,
          -0.31162813508081605,
          -0.4915161030111525,
          -0.4915161030111525,
          -0.006037081107048992,
          -0.7658698231266732,
          -0.7658698231266732,
          -0.0911879064888776,
          -0.3655416266043984,
          -0.006037081107048992,
          -0.7658698231266732,
          -0.7658698231266732,
          -0.3655416266043984,
          -0.4915161030111525,
          -0.7658698231266732,
          -0.7658698231266732,
          -0.7658698231266732,
          -0.7658698231266732,
          0.0887000614414588,
          -0.7658698231266732,
          -0.7658698231266732,
          -0.4915161030111525,
          -0.7658698231266732,
          -0.7658698231266732,
          -0.7658698231266732,
          -0.006037081107048992,
          -0.03727441496529522,
          -0.2803908012225698,
          -0.7658698231266732,
          -0.7658698231266732,
          -0.7658698231266732,
          -0.7658698231266732,
          -0.7658698231266732,
          -0.03727441496529522,
          -0.7658698231266732,
          -0.4915161030111525,
          -0.3655416266043984,
          -0.7658698231266732,
          -0.0911879064888776,
          -0.7658698231266732,
          -0.006037081107048992,
          -0.7658698231266732,
          -0.7658698231266732,
          -0.7658698231266732,
          -0.7658698231266732,
          -0.03727441496529522,
          -0.006037081107048992,
          -0.4915161030111525,
          -0.7658698231266732,
          -0.4915161030111525,
          -0.7658698231266732,
          -0.4915161030111525,
          -0.0911879064888776,
          -0.4915161030111525,
          -0.0911879064888776,
          -0.4915161030111525,
          -0.03727441496529522,
          -0.4915161030111525,
          -0.7658698231266732,
          -0.0911879064888776,
          -0.3655416266043984,
          -0.03727441496529522,
          -0.7658698231266732,
          -0.2803908012225698,
          -0.7658698231266732,
          -0.4915161030111525,
          -0.7658698231266732,
          -0.4915161030111525,
          -0.4915161030111525,
          -0.7658698231266732,
          -0.006037081107048992,
          -0.7658698231266732,
          -0.7658698231266732,
          -0.7658698231266732,
          -0.2803908012225698,
          -0.4915161030111525,
          -0.7658698231266732,
          -0.31162813508081605,
          -0.7658698231266732,
          -0.3655416266043984,
          -0.7658698231266732,
          -0.4915161030111525,
          -0.4010140108148697,
          -0.7658698231266732,
          -0.7658698231266732,
          -0.4915161030111525,
          -0.7658698231266732,
          -0.0911879064888776,
          -0.3655416266043984,
          -0.4915161030111525,
          -0.4915161030111525,
          -0.7658698231266732,
          -0.4915161030111525,
          -0.7658698231266732,
          -0.3655416266043984,
          -0.7658698231266732,
          -0.7658698231266732,
          -0.7658698231266732,
          -0.3655416266043984,
          -0.7658698231266732,
          -0.3655416266043984,
          -0.0911879064888776,
          -0.7658698231266732,
          -0.3655416266043984,
          -0.4915161030111525,
          -0.7658698231266732,
          -0.7658698231266732,
          -0.7658698231266732,
          -0.3655416266043984,
          -0.7658698231266732,
          -0.7658698231266732,
          -0.4010140108148697,
          -0.4915161030111525,
          -0.7658698231266732,
          -0.3655416266043984,
          -0.4915161030111525,
          -0.4915161030111525,
          -0.7658698231266732,
          -0.4915161030111525,
          -0.03727441496529522,
          -0.0911879064888776,
          -0.4915161030111525,
          -0.3655416266043984,
          -0.7658698231266732,
          -0.4915161030111525,
          -0.7658698231266732,
          -0.31162813508081605,
          -0.006037081107048992,
          -0.4915161030111525,
          -0.4915161030111525,
          0.2736679058229261,
          -0.2803908012225698,
          -0.7658698231266732,
          -0.3655416266043984,
          -0.4915161030111525,
          -0.061817913900058495,
          -0.3655416266043984,
          -0.7658698231266732,
          -0.7658698231266732,
          -0.7658698231266732,
          -0.3655416266043984,
          -0.7658698231266732,
          -0.3655416266043984,
          -0.4915161030111525,
          -0.3655416266043984,
          -0.7658698231266732,
          -0.03727441496529522,
          -0.4915161030111525,
          -0.4010140108148697,
          -0.0911879064888776,
          -0.7658698231266732,
          -0.4915161030111525
         ],
         "xaxis": "x",
         "y": [
          0.10095887236217091,
          0.2063908488209937,
          0.20639084882099376,
          0.31170953823630587,
          0.6241950696495611,
          -0.6795918095679603,
          0.6241950696495611,
          -0.6795918095679603,
          0.6241950696495611,
          -0.6795918095679603,
          -0.21307805443695427,
          0.6241950696495611,
          0.20639084882099376,
          0.20639084882099376,
          -0.6795918095679603,
          0.6241950696495611,
          -0.7850237860267831,
          0.20639084882099376,
          0.10095887236217105,
          -0.6795918095679603,
          0.31170953823630587,
          -0.6795918095679603,
          0.6241950696495611,
          -0.6795918095679603,
          0.6241950696495611,
          -0.7850237860267831,
          -0.6795918095679603,
          0.20639084882099376,
          -0.6795918095679603,
          0.20639084882099376,
          0.6241950696495611,
          -0.7850237860267831,
          0.20639084882099376,
          0.20639084882099376,
          0.20639084882099376,
          -0.6795918095679603,
          0.31170953823630587,
          -0.6795918095679603,
          0.20639084882099376,
          -0.5742731201526484,
          0.20639084882099376,
          0.20639084882099376,
          0.6241950696495611,
          0.20639084882099376,
          -0.21307805443695427,
          -0.6795918095679603,
          0.10095887236217105,
          0.20639084882099376,
          0.25510038312343253,
          0.20639084882099376,
          0.20639084882099376,
          -0.6795918095679603,
          0.20639084882099376,
          0.6241950696495611,
          -0.6795918095679603,
          0.20639084882099376,
          -0.2617875887393929,
          -0.6795918095679603,
          0.31170953823630587,
          -0.5742731201526484,
          -0.5742731201526484,
          0.20639084882099376,
          -0.6795918095679603,
          0.20639084882099376,
          0.20639084882099376,
          -0.7850237860267831,
          0.20639084882099376,
          -0.6795918095679603,
          0.20639084882099376,
          0.14966840666460968,
          0.20639084882099376,
          -0.7850237860267831,
          0.6241950696495611,
          0.20639084882099376,
          -0.6795918095679603,
          -0.6795918095679603,
          -0.6795918095679603,
          -0.5742731201526484,
          -0.6795918095679603,
          -0.6795918095679603,
          0.6241950696495611,
          -0.21307805443695427,
          -0.6308822752655215,
          -0.6795918095679603,
          -0.2617875887393929,
          0.20639084882099376,
          -0.6795918095679603,
          0.31170953823630587,
          -0.7850237860267831,
          -0.5742731201526484,
          -0.6795918095679603,
          0.10095887236217105,
          0.20639084882099376,
          0.31170953823630587,
          0.6241950696495611,
          -0.6795918095679603,
          -0.2617875887393929,
          -0.6795918095679603,
          -0.6795918095679603,
          0.31170953823630587,
          0.20639084882099376,
          -0.6795918095679603,
          -0.2617875887393929,
          0.6241950696495611,
          0.6241950696495611,
          0.20639084882099376,
          -0.6795918095679603,
          0.20639084882099376,
          0.6241950696495611,
          0.20639084882099376,
          0.31170953823630587,
          -0.6795918095679603,
          0.20639084882099376,
          0.20639084882099376,
          -0.6308822752655215,
          -0.6795918095679603,
          0.20639084882099376,
          0.20639084882099376,
          -0.7850237860267831,
          0.31170953823630587,
          0.20639084882099376,
          0.20639084882099376,
          -0.6795918095679603,
          -0.6795918095679603,
          0.20639084882099376,
          -0.6795918095679603,
          0.20639084882099376,
          0.20639084882099376,
          0.25510038312343253,
          -0.6795918095679603,
          0.20639084882099376,
          0.20639084882099376,
          -0.6795918095679603,
          0.20639084882099376,
          -0.6795918095679603,
          -0.6795918095679603,
          -0.6795918095679603,
          0.20639084882099376,
          0.20639084882099376,
          -0.21307805443695427,
          -0.6795918095679603,
          0.20639084882099376,
          -0.6795918095679603,
          0.20639084882099376,
          0.20639084882099376,
          -0.6795918095679603,
          0.37844634725328763,
          -0.2617875887393929,
          0.20639084882099376,
          0.20639084882099376,
          -0.6795918095679603,
          0.10095887236217105,
          0.20639084882099376,
          0.20639084882099376,
          -0.6795918095679603,
          0.14966840666460968,
          0.31170953823630587,
          0.6241950696495611,
          0.20639084882099376,
          0.20639084882099376,
          -0.6795918095679603,
          -0.21307805443695427,
          -0.6795918095679603,
          0.20639084882099376,
          0.6241950696495611,
          -0.2617875887393929,
          0.6241950696495611,
          -0.6795918095679603,
          0.20639084882099376,
          0.6729046039519998,
          0.20639084882099376,
          -0.2617875887393929,
          0.10095887236217105,
          -0.6795918095679603,
          -0.6795918095679603,
          -0.5742731201526484,
          0.20639084882099376,
          0.20639084882099376,
          -0.2617875887393929,
          0.6241950696495611,
          -0.5742731201526484,
          0.20639084882099376,
          0.20639084882099376,
          0.6241950696495611,
          -0.6795918095679603,
          0.20639084882099376,
          0.20639084882099376,
          0.20639084882099376,
          0.20639084882099376,
          0.5187630931907385,
          0.20639084882099376,
          0.20639084882099376,
          -0.6795918095679603,
          0.20639084882099376,
          0.20639084882099376,
          0.20639084882099376,
          -0.5742731201526484,
          -0.7850237860267831,
          0.31170953823630587,
          0.20639084882099376,
          0.20639084882099376,
          0.20639084882099376,
          0.20639084882099376,
          0.20639084882099376,
          -0.7850237860267831,
          0.20639084882099376,
          -0.6795918095679603,
          0.6241950696495611,
          0.20639084882099376,
          -0.2617875887393929,
          0.20639084882099376,
          -0.5742731201526484,
          0.20639084882099376,
          0.20639084882099376,
          0.20639084882099376,
          0.20639084882099376,
          -0.7850237860267831,
          -0.5742731201526484,
          -0.6795918095679603,
          0.20639084882099376,
          -0.6795918095679603,
          0.20639084882099376,
          -0.6795918095679603,
          -0.2617875887393929,
          -0.6795918095679603,
          -0.2617875887393929,
          -0.6795918095679603,
          -0.7850237860267831,
          -0.6795918095679603,
          0.20639084882099376,
          -0.2617875887393929,
          0.6241950696495611,
          -0.7850237860267831,
          0.20639084882099376,
          0.31170953823630587,
          0.20639084882099376,
          -0.6795918095679603,
          0.20639084882099376,
          -0.6795918095679603,
          -0.6795918095679603,
          0.20639084882099376,
          -0.5742731201526484,
          0.20639084882099376,
          0.20639084882099376,
          0.20639084882099376,
          0.31170953823630587,
          -0.6795918095679603,
          0.20639084882099376,
          0.10095887236217105,
          0.20639084882099376,
          0.6241950696495611,
          0.20639084882099376,
          -0.6795918095679603,
          0.25510038312343253,
          0.20639084882099376,
          0.20639084882099376,
          -0.6795918095679603,
          0.20639084882099376,
          -0.2617875887393929,
          0.6241950696495611,
          -0.6795918095679603,
          -0.6795918095679603,
          0.20639084882099376,
          -0.6795918095679603,
          0.20639084882099376,
          0.6241950696495611,
          0.20639084882099376,
          0.20639084882099376,
          0.20639084882099376,
          0.6241950696495611,
          0.20639084882099376,
          0.6241950696495611,
          -0.2617875887393929,
          0.20639084882099376,
          0.6241950696495611,
          -0.6795918095679603,
          0.20639084882099376,
          0.20639084882099376,
          0.20639084882099376,
          0.6241950696495611,
          0.20639084882099376,
          0.20639084882099376,
          0.25510038312343253,
          -0.6795918095679603,
          0.20639084882099376,
          0.6241950696495611,
          -0.6795918095679603,
          -0.6795918095679603,
          0.20639084882099376,
          -0.6795918095679603,
          -0.7850237860267831,
          -0.2617875887393929,
          -0.6795918095679603,
          0.6241950696495611,
          0.20639084882099376,
          -0.6795918095679603,
          0.20639084882099376,
          0.10095887236217105,
          -0.5742731201526484,
          -0.6795918095679603,
          -0.6795918095679603,
          -0.21307805443695427,
          0.31170953823630587,
          0.20639084882099376,
          0.6241950696495611,
          -0.6795918095679603,
          0.37844634725328763,
          0.6241950696495611,
          0.20639084882099376,
          0.20639084882099376,
          0.20639084882099376,
          0.6241950696495611,
          0.20639084882099376,
          0.6241950696495611,
          -0.6795918095679603,
          0.6241950696495611,
          0.20639084882099376,
          -0.7850237860267831,
          -0.6795918095679603,
          0.25510038312343253,
          -0.2617875887393929,
          0.20639084882099376,
          -0.6795918095679603
         ],
         "yaxis": "y"
        },
        {
         "hovertemplate": "color=2<br>PC1=%{x}<br>PC2=%{y}<extra></extra>",
         "legendgroup": "2",
         "marker": {
          "color": "#00cc96",
          "symbol": "circle"
         },
         "mode": "markers",
         "name": "2",
         "orientation": "v",
         "showlegend": true,
         "type": "scatter",
         "x": [
          0.8130604192506117,
          1.5894318076890503,
          0.5498940787394507,
          0.8485328034610831,
          0.3275813973465085,
          0.1738508868232875,
          1.0671056907835945,
          0.7591469277270296,
          1.315078087573529,
          1.4076764984892864,
          0.8242477988549715,
          0.0844650110892339,
          1.1333227783737652,
          1.0316333065731234,
          1.533650974896041,
          1.213388615772887,
          1.5894318076890503,
          0.0844650110892339,
          0.9221974765851833,
          1.042820686177483,
          1.315078087573529,
          1.168795162584237,
          1.0671056907835945,
          0.2125358062154623,
          1.4319615030953983,
          0.48479320761150896,
          0.0844650110892339,
          0.7348619231209177,
          1.1333227783737652,
          0.6128640027377372,
          0.7348619231209177,
          0.9502222752617253,
          0.3942911154152259,
          0.3942911154152259,
          0.7348619231209177,
          0.9502222752617253,
          1.1576077829798777,
          0.3942911154152259,
          0.7145534745383798,
          0.44820460693880826,
          1.0794092868501837,
          1.443148882699758,
          0.7684669660619619,
          1.8198210575475018,
          1.533650974896041,
          1.135190119643193,
          0.8242477988549715,
          0.3942911154152259,
          0.7348619231209177,
          0.9889071946539003,
          0.8608363995276719,
          1.5894318076890503,
          1.168795162584237,
          1.1039527857849463,
          0.9502222752617253,
          0.7145534745383798,
          0.44820460693880826,
          1.443148882699758,
          0.8485328034610831,
          1.533650974896041,
          1.135190119643193,
          1.0671056907835945,
          1.168795162584237,
          0.7703343073313892,
          0.8608363995276719,
          0.8295990656694257,
          0.1738508868232875,
          1.168795162584237,
          0.7348619231209177,
          1.135190119643193,
          1.5894318076890503,
          1.4319615030953983,
          0.9221974765851833,
          1.1891036111667752,
          0.8242477988549715,
          0.914749891051254,
          0.3385102826222165,
          1.0671056907835945,
          0.44820460693880826,
          0.813060419250612,
          0.6478437564696623,
          0.7348619231209177,
          0.48479320761150896,
          0.8242477988549715,
          0.9502222752617253,
          0.44820460693880826,
          1.1576077829798777,
          1.0481719529919373,
          0.3275813973465085,
          0.7703343073313892,
          0.44820460693880826,
          1.4076764984892864,
          0.44820460693880826,
          1.533650974896041,
          0.7279095938687833,
          0.0844650110892339,
          0.9221974765851833,
          0.35881873120475466,
          0.44820460693880826,
          1.224575995377246,
          1.0481719529919373,
          0.7703343073313892,
          1.1039527857849463,
          1.1891036111667752,
          1.533650974896041,
          0.5498940787394507,
          0.7279095938687833,
          0.8485328034610831,
          0.7927519706680736,
          0.48479320761150896,
          0.8295990656694257,
          0.6478437564696623,
          0.1738508868232875,
          1.3225256731074584,
          1.0671056907835945,
          1.315078087573529,
          1.1039527857849463,
          0.7348619231209177,
          0.3385102826222165,
          0.9221974765851833,
          0.8485328034610831,
          1.1891036111667752,
          0.8242477988549715,
          1.5894318076890503,
          0.8485328034610831,
          0.7927519706680736,
          1.5894318076890503,
          1.5894318076890503,
          1.042820686177483,
          1.315078087573529,
          0.8608363995276719,
          0.0844650110892339,
          1.0671056907835945,
          0.44820460693880826,
          0.0844650110892339,
          0.3385102826222165,
          0.48479320761150896,
          1.4076764984892864,
          0.8295990656694257,
          0.8608363995276719,
          0.7348619231209177,
          1.1576077829798777,
          0.9502222752617253,
          0.7348619231209177,
          0.7703343073313892,
          1.5894318076890503,
          1.1891036111667752,
          0.3942911154152259,
          0.813060419250612,
          1.8198210575475018,
          0.0844650110892339,
          1.135190119643193,
          0.8242477988549715,
          1.5894318076890503,
          1.4076764984892864,
          0.8242477988549715,
          1.1333227783737652,
          0.8242477988549715,
          1.315078087573529,
          0.35881873120475466,
          1.0316333065731234,
          0.8608363995276719,
          1.1576077829798777,
          0.48479320761150896,
          1.1891036111667752
         ],
         "xaxis": "x",
         "y": [
          -0.6309955623090314,
          -0.1062338841822242,
          0.313235019075724,
          -0.2619008757829037,
          -0.7363142517243445,
          0.2062775617774831,
          -0.19516406676592177,
          -0.10775936502164223,
          0.7797487742067299,
          -0.45730129599380964,
          -0.5727476393132301,
          0.3604190725387444,
          0.4286813623951445,
          -0.5642587532920507,
          0.8464855832237118,
          -0.21319134148046504,
          -0.1062338841822242,
          0.3604190725387444,
          -0.5626199854091216,
          -0.5060108302962484,
          0.7797487742067299,
          0.7977760489212732,
          -0.19516406676592177,
          -0.5075363111356666,
          -0.14645453246348314,
          0.7782232933673119,
          0.3604190725387444,
          -0.4186061285519688,
          0.4286813623951445,
          -0.089732090307099,
          -0.4186061285519688,
          0.7310392399042912,
          -0.15646889932408087,
          -0.15646889932408087,
          -0.4186061285519688,
          0.7310392399042912,
          0.7395281259254708,
          -0.15646889932408087,
          0.903208025380096,
          -0.679705096611471,
          0.9519175596825346,
          -0.08820660946768091,
          0.37997182809270585,
          -0.039837677967559125,
          0.8464855832237118,
          -0.0008019077234013187,
          -0.5727476393132301,
          -0.15646889932408087,
          -0.4186061285519688,
          0.017225366991141914,
          0.8851807506655527,
          -0.1062338841822242,
          0.7977760489212732,
          -0.21155257359753618,
          0.7310392399042912,
          0.903208025380096,
          -0.679705096611471,
          -0.08820660946768091,
          -0.2619008757829037,
          0.8464855832237118,
          -0.0008019077234013187,
          -0.19516406676592177,
          0.7977760489212732,
          -0.04951144202583998,
          0.8851807506655527,
          0.674430084791418,
          0.2062775617774831,
          0.7977760489212732,
          -0.4186061285519688,
          -0.0008019077234013187,
          -0.1062338841822242,
          -0.14645453246348314,
          -0.5626199854091216,
          -0.5240381050107915,
          -0.5727476393132301,
          0.36194455337816267,
          0.7962505680818551,
          -0.19516406676592177,
          -0.679705096611471,
          -0.6309955623090323,
          0.32336267297983246,
          -0.4186061285519688,
          0.7782232933673119,
          -0.5727476393132301,
          0.7310392399042912,
          -0.679705096611471,
          0.7395281259254708,
          0.7411668938083997,
          -0.7363142517243445,
          -0.04951144202583998,
          -0.679705096611471,
          -0.45730129599380964,
          -0.679705096611471,
          0.8464855832237118,
          -0.31851003089577706,
          0.3604190725387444,
          -0.5626199854091216,
          -0.5255635858502097,
          -0.679705096611471,
          -0.15494341848466286,
          0.7411668938083997,
          -0.04951144202583998,
          -0.21155257359753618,
          -0.5240381050107915,
          0.8464855832237118,
          0.313235019075724,
          -0.31851003089577706,
          -0.2619008757829037,
          0.6908185916230325,
          0.7782232933673119,
          0.674430084791418,
          0.32336267297983246,
          0.2062775617774831,
          -0.14481576458055437,
          -0.19516406676592177,
          0.7797487742067299,
          -0.21155257359753618,
          -0.4186061285519688,
          0.7962505680818551,
          -0.5626199854091216,
          -0.2619008757829037,
          -0.5240381050107915,
          -0.5727476393132301,
          -0.1062338841822242,
          -0.2619008757829037,
          0.6908185916230325,
          -0.1062338841822242,
          -0.1062338841822242,
          -0.5060108302962484,
          0.7797487742067299,
          0.8851807506655527,
          0.3604190725387444,
          -0.19516406676592177,
          -0.679705096611471,
          0.3604190725387444,
          0.7962505680818551,
          0.7782232933673119,
          -0.45730129599380964,
          0.674430084791418,
          0.8851807506655527,
          -0.4186061285519688,
          0.7395281259254708,
          0.7310392399042912,
          -0.4186061285519688,
          -0.04951144202583998,
          -0.1062338841822242,
          -0.5240381050107915,
          -0.15646889932408087,
          -0.6309955623090323,
          -0.039837677967559125,
          0.3604190725387444,
          -0.0008019077234013187,
          -0.5727476393132301,
          -0.1062338841822242,
          -0.45730129599380964,
          -0.5727476393132301,
          0.4286813623951445,
          -0.5727476393132301,
          0.7797487742067299,
          -0.5255635858502097,
          -0.5642587532920507,
          0.8851807506655527,
          0.7395281259254708,
          0.7782232933673119,
          -0.5240381050107915
         ],
         "yaxis": "y"
        },
        {
         "hovertemplate": "color=0<br>PC1=%{x}<br>PC2=%{y}<extra></extra>",
         "legendgroup": "0",
         "marker": {
          "color": "#ab63fa",
          "symbol": "circle"
         },
         "mode": "markers",
         "name": "0",
         "orientation": "v",
         "showlegend": true,
         "type": "scatter",
         "x": [
          -0.11547291109498935,
          -0.11547291109498935,
          0.7390969734731427,
          0.33876877695086793,
          -0.11547291109498935,
          -0.11547291109498935,
          -0.11547291109498935,
          0.2848552854272855,
          -0.11547291109498935,
          0.7390969734731427,
          -0.11547291109498935,
          -0.11547291109498935,
          -0.11547291109498935,
          0.37000611080911416,
          0.37000611080911416,
          -0.11547291109498935,
          -0.11547291109498935,
          0.7390969734731427,
          -0.11547291109498935,
          0.37000611080911416,
          -0.11547291109498935,
          0.7390969734731427,
          0.2848552854272855,
          0.2848552854272855,
          0.5573416642733792,
          -0.11547291109498935,
          -0.11547291109498935,
          0.6497110977390893,
          -0.11547291109498935,
          0.37000611080911416,
          0.6497110977390893,
          0.37000611080911416,
          -0.11547291109498935,
          0.2848552854272855,
          -0.11547291109498935,
          0.37000611080911416,
          0.37000611080911416,
          -0.11547291109498935,
          0.37000611080911416,
          -0.11547291109498935,
          0.37000611080911416,
          -0.11547291109498935,
          0.5573416642733792,
          0.7390969734731427,
          0.37000611080911416,
          0.2848552854272855,
          -0.11547291109498935,
          0.6497110977390893,
          0.5573416642733792,
          0.33876877695086793,
          -0.11547291109498935,
          0.7390969734731427,
          -0.11547291109498935,
          0.33876877695086793,
          0.6497110977390893,
          0.24938290121681436,
          -0.11547291109498935,
          0.24938290121681436,
          -0.11547291109498935,
          0.37000611080911416,
          0.24938290121681436,
          -0.11547291109498935,
          0.7390969734731427,
          -0.11547291109498935,
          -0.11547291109498935,
          -0.11547291109498935,
          -0.11547291109498935,
          -0.11547291109498935,
          -0.11547291109498935,
          0.33876877695086793,
          0.37000611080911416,
          0.2848552854272855,
          -0.11547291109498935,
          -0.11547291109498935,
          -0.11547291109498935,
          -0.11547291109498935,
          0.33876877695086793,
          0.33876877695086793,
          -0.11547291109498935,
          0.7390969734731427,
          -0.11547291109498935,
          -0.11547291109498935,
          -0.11547291109498935,
          -0.11547291109498935,
          -0.11547291109498935,
          -0.11547291109498935,
          -0.11547291109498935,
          -0.11547291109498935,
          0.37000611080911416,
          0.24938290121681436,
          0.2848552854272855,
          0.33876877695086793,
          -0.11547291109498935,
          -0.11547291109498935,
          -0.11547291109498935,
          0.7390969734731427,
          0.33876877695086793,
          -0.11547291109498935,
          0.33876877695086793,
          0.33876877695086793,
          0.6497110977390893,
          -0.11547291109498935,
          -0.11547291109498935,
          -0.11547291109498935,
          0.37000611080911416,
          0.7390969734731427,
          -0.11547291109498935,
          -0.11547291109498935,
          -0.11547291109498935,
          -0.11547291109498935,
          0.7390969734731427,
          -0.11547291109498935,
          0.2848552854272855,
          -0.11547291109498935,
          0.24938290121681436,
          0.33876877695086793,
          0.24938290121681436,
          0.5885789981316255,
          -0.11547291109498935,
          0.7390969734731427,
          0.2848552854272855,
          -0.11547291109498935,
          0.2848552854272855,
          -0.11547291109498935,
          0.24938290121681436,
          -0.11547291109498935,
          0.37000611080911416,
          -0.11547291109498935,
          0.6497110977390893,
          -0.11547291109498935,
          0.37000611080911416,
          -0.11547291109498935,
          0.37000611080911416,
          0.2848552854272855,
          -0.11547291109498935,
          -0.11547291109498935,
          0.7390969734731427,
          -0.11547291109498935,
          -0.11547291109498935,
          0.33876877695086793,
          0.37000611080911416,
          0.5573416642733792,
          -0.11547291109498935,
          0.37000611080911416,
          0.2848552854272855,
          -0.11547291109498935,
          0.33876877695086793,
          0.6497110977390893,
          0.33876877695086793,
          0.33876877695086793,
          0.37000611080911416,
          0.24938290121681436,
          -0.11547291109498935,
          0.7390969734731427,
          -0.11547291109498935,
          0.24938290121681436,
          0.24938290121681436,
          -0.11547291109498935,
          -0.11547291109498935,
          0.7036245892626717,
          0.33876877695086793,
          -0.11547291109498935,
          0.7390969734731427,
          -0.11547291109498935,
          0.6497110977390893,
          -0.11547291109498935,
          0.2848552854272855,
          0.24938290121681436,
          -0.11547291109498935,
          -0.11547291109498935,
          -0.11547291109498935,
          0.24938290121681436,
          -0.11547291109498935,
          -0.11547291109498935,
          -0.11547291109498935,
          -0.11547291109498935,
          -0.11547291109498935,
          -0.11547291109498935,
          -0.11547291109498935,
          0.33876877695086793,
          -0.11547291109498935,
          -0.11547291109498935,
          0.7036245892626717,
          -0.11547291109498935,
          0.24938290121681436,
          -0.11547291109498933,
          0.2848552854272855,
          -0.11547291109498933,
          -0.11547291109498933
         ],
         "xaxis": "x",
         "y": [
          -0.5726343522697195,
          -0.5726343522697195,
          -0.26026210789997495,
          -0.6780663287285421,
          -0.5726343522697195,
          -0.5726343522697195,
          -0.5726343522697195,
          -0.15483013144115204,
          -0.5726343522697195,
          -0.26026210789997495,
          -0.5726343522697195,
          -0.5726343522697195,
          -0.5726343522697195,
          -0.4673156628544075,
          -0.4673156628544075,
          -0.5726343522697195,
          -0.5726343522697195,
          -0.26026210789997495,
          -0.5726343522697195,
          -0.4673156628544075,
          -0.5726343522697195,
          -0.26026210789997495,
          -0.15483013144115204,
          -0.15483013144115204,
          -0.6113295197115604,
          -0.5726343522697195,
          -0.5726343522697195,
          -0.10612059713871347,
          -0.5726343522697195,
          -0.4673156628544075,
          -0.10612059713871347,
          -0.4673156628544075,
          -0.5726343522697195,
          -0.15483013144115204,
          -0.5726343522697195,
          -0.4673156628544075,
          -0.4673156628544075,
          -0.5726343522697195,
          -0.4673156628544075,
          -0.5726343522697195,
          -0.4673156628544075,
          -0.5726343522697195,
          -0.6113295197115604,
          -0.26026210789997495,
          -0.4673156628544075,
          -0.15483013144115204,
          -0.5726343522697195,
          -0.10612059713871347,
          -0.6113295197115604,
          -0.6780663287285421,
          -0.5726343522697195,
          -0.26026210789997495,
          -0.5726343522697195,
          -0.6780663287285421,
          -0.10612059713871347,
          -0.523924817967281,
          -0.5726343522697195,
          -0.523924817967281,
          -0.5726343522697195,
          -0.4673156628544075,
          -0.523924817967281,
          -0.5726343522697195,
          -0.26026210789997495,
          -0.5726343522697195,
          -0.5726343522697195,
          -0.5726343522697195,
          -0.5726343522697195,
          -0.5726343522697195,
          -0.5726343522697195,
          -0.6780663287285421,
          -0.4673156628544075,
          -0.15483013144115204,
          -0.5726343522697195,
          -0.5726343522697195,
          -0.5726343522697195,
          -0.5726343522697195,
          -0.6780663287285421,
          -0.6780663287285421,
          -0.5726343522697195,
          -0.26026210789997495,
          -0.5726343522697195,
          -0.5726343522697195,
          -0.5726343522697195,
          -0.5726343522697195,
          -0.5726343522697195,
          -0.5726343522697195,
          -0.5726343522697195,
          -0.5726343522697195,
          -0.4673156628544075,
          -0.523924817967281,
          -0.15483013144115204,
          -0.6780663287285421,
          -0.5726343522697195,
          -0.5726343522697195,
          -0.5726343522697195,
          -0.26026210789997495,
          -0.6780663287285421,
          -0.5726343522697195,
          -0.6780663287285421,
          -0.6780663287285421,
          -0.10612059713871347,
          -0.5726343522697195,
          -0.5726343522697195,
          -0.5726343522697195,
          -0.4673156628544075,
          -0.26026210789997495,
          -0.5726343522697195,
          -0.5726343522697195,
          -0.5726343522697195,
          -0.5726343522697195,
          -0.26026210789997495,
          -0.5726343522697195,
          -0.15483013144115204,
          -0.5726343522697195,
          -0.523924817967281,
          -0.6780663287285421,
          -0.523924817967281,
          -0.4005788538374256,
          -0.5726343522697195,
          -0.26026210789997495,
          -0.15483013144115204,
          -0.5726343522697195,
          -0.15483013144115204,
          -0.5726343522697195,
          -0.523924817967281,
          -0.5726343522697195,
          -0.4673156628544075,
          -0.5726343522697195,
          -0.10612059713871347,
          -0.5726343522697195,
          -0.4673156628544075,
          -0.5726343522697195,
          -0.4673156628544075,
          -0.15483013144115204,
          -0.5726343522697195,
          -0.5726343522697195,
          -0.26026210789997495,
          -0.5726343522697195,
          -0.5726343522697195,
          -0.6780663287285421,
          -0.4673156628544075,
          -0.6113295197115604,
          -0.5726343522697195,
          -0.4673156628544075,
          -0.15483013144115204,
          -0.5726343522697195,
          -0.6780663287285421,
          -0.10612059713871347,
          -0.6780663287285421,
          -0.6780663287285421,
          -0.4673156628544075,
          -0.523924817967281,
          -0.5726343522697195,
          -0.26026210789997495,
          -0.5726343522697195,
          -0.523924817967281,
          -0.523924817967281,
          -0.5726343522697195,
          -0.5726343522697195,
          -0.6293567944261036,
          -0.6780663287285421,
          -0.5726343522697195,
          -0.26026210789997495,
          -0.5726343522697195,
          -0.10612059713871347,
          -0.5726343522697195,
          -0.15483013144115204,
          -0.523924817967281,
          -0.5726343522697195,
          -0.5726343522697195,
          -0.5726343522697195,
          -0.523924817967281,
          -0.5726343522697195,
          -0.5726343522697195,
          -0.5726343522697195,
          -0.5726343522697195,
          -0.5726343522697195,
          -0.5726343522697195,
          -0.5726343522697195,
          -0.6780663287285421,
          -0.5726343522697195,
          -0.5726343522697195,
          -0.6293567944261036,
          -0.5726343522697195,
          -0.523924817967281,
          -0.5726343522697194,
          -0.15483013144115204,
          -0.5726343522697195,
          -0.5726343522697195
         ],
         "yaxis": "y"
        }
       ],
       "layout": {
        "legend": {
         "title": {
          "text": "color"
         },
         "tracegroupgap": 0
        },
        "template": {
         "data": {
          "bar": [
           {
            "error_x": {
             "color": "#2a3f5f"
            },
            "error_y": {
             "color": "#2a3f5f"
            },
            "marker": {
             "line": {
              "color": "#E5ECF6",
              "width": 0.5
             },
             "pattern": {
              "fillmode": "overlay",
              "size": 10,
              "solidity": 0.2
             }
            },
            "type": "bar"
           }
          ],
          "barpolar": [
           {
            "marker": {
             "line": {
              "color": "#E5ECF6",
              "width": 0.5
             },
             "pattern": {
              "fillmode": "overlay",
              "size": 10,
              "solidity": 0.2
             }
            },
            "type": "barpolar"
           }
          ],
          "carpet": [
           {
            "aaxis": {
             "endlinecolor": "#2a3f5f",
             "gridcolor": "white",
             "linecolor": "white",
             "minorgridcolor": "white",
             "startlinecolor": "#2a3f5f"
            },
            "baxis": {
             "endlinecolor": "#2a3f5f",
             "gridcolor": "white",
             "linecolor": "white",
             "minorgridcolor": "white",
             "startlinecolor": "#2a3f5f"
            },
            "type": "carpet"
           }
          ],
          "choropleth": [
           {
            "colorbar": {
             "outlinewidth": 0,
             "ticks": ""
            },
            "type": "choropleth"
           }
          ],
          "contour": [
           {
            "colorbar": {
             "outlinewidth": 0,
             "ticks": ""
            },
            "colorscale": [
             [
              0,
              "#0d0887"
             ],
             [
              0.1111111111111111,
              "#46039f"
             ],
             [
              0.2222222222222222,
              "#7201a8"
             ],
             [
              0.3333333333333333,
              "#9c179e"
             ],
             [
              0.4444444444444444,
              "#bd3786"
             ],
             [
              0.5555555555555556,
              "#d8576b"
             ],
             [
              0.6666666666666666,
              "#ed7953"
             ],
             [
              0.7777777777777778,
              "#fb9f3a"
             ],
             [
              0.8888888888888888,
              "#fdca26"
             ],
             [
              1,
              "#f0f921"
             ]
            ],
            "type": "contour"
           }
          ],
          "contourcarpet": [
           {
            "colorbar": {
             "outlinewidth": 0,
             "ticks": ""
            },
            "type": "contourcarpet"
           }
          ],
          "heatmap": [
           {
            "colorbar": {
             "outlinewidth": 0,
             "ticks": ""
            },
            "colorscale": [
             [
              0,
              "#0d0887"
             ],
             [
              0.1111111111111111,
              "#46039f"
             ],
             [
              0.2222222222222222,
              "#7201a8"
             ],
             [
              0.3333333333333333,
              "#9c179e"
             ],
             [
              0.4444444444444444,
              "#bd3786"
             ],
             [
              0.5555555555555556,
              "#d8576b"
             ],
             [
              0.6666666666666666,
              "#ed7953"
             ],
             [
              0.7777777777777778,
              "#fb9f3a"
             ],
             [
              0.8888888888888888,
              "#fdca26"
             ],
             [
              1,
              "#f0f921"
             ]
            ],
            "type": "heatmap"
           }
          ],
          "heatmapgl": [
           {
            "colorbar": {
             "outlinewidth": 0,
             "ticks": ""
            },
            "colorscale": [
             [
              0,
              "#0d0887"
             ],
             [
              0.1111111111111111,
              "#46039f"
             ],
             [
              0.2222222222222222,
              "#7201a8"
             ],
             [
              0.3333333333333333,
              "#9c179e"
             ],
             [
              0.4444444444444444,
              "#bd3786"
             ],
             [
              0.5555555555555556,
              "#d8576b"
             ],
             [
              0.6666666666666666,
              "#ed7953"
             ],
             [
              0.7777777777777778,
              "#fb9f3a"
             ],
             [
              0.8888888888888888,
              "#fdca26"
             ],
             [
              1,
              "#f0f921"
             ]
            ],
            "type": "heatmapgl"
           }
          ],
          "histogram": [
           {
            "marker": {
             "pattern": {
              "fillmode": "overlay",
              "size": 10,
              "solidity": 0.2
             }
            },
            "type": "histogram"
           }
          ],
          "histogram2d": [
           {
            "colorbar": {
             "outlinewidth": 0,
             "ticks": ""
            },
            "colorscale": [
             [
              0,
              "#0d0887"
             ],
             [
              0.1111111111111111,
              "#46039f"
             ],
             [
              0.2222222222222222,
              "#7201a8"
             ],
             [
              0.3333333333333333,
              "#9c179e"
             ],
             [
              0.4444444444444444,
              "#bd3786"
             ],
             [
              0.5555555555555556,
              "#d8576b"
             ],
             [
              0.6666666666666666,
              "#ed7953"
             ],
             [
              0.7777777777777778,
              "#fb9f3a"
             ],
             [
              0.8888888888888888,
              "#fdca26"
             ],
             [
              1,
              "#f0f921"
             ]
            ],
            "type": "histogram2d"
           }
          ],
          "histogram2dcontour": [
           {
            "colorbar": {
             "outlinewidth": 0,
             "ticks": ""
            },
            "colorscale": [
             [
              0,
              "#0d0887"
             ],
             [
              0.1111111111111111,
              "#46039f"
             ],
             [
              0.2222222222222222,
              "#7201a8"
             ],
             [
              0.3333333333333333,
              "#9c179e"
             ],
             [
              0.4444444444444444,
              "#bd3786"
             ],
             [
              0.5555555555555556,
              "#d8576b"
             ],
             [
              0.6666666666666666,
              "#ed7953"
             ],
             [
              0.7777777777777778,
              "#fb9f3a"
             ],
             [
              0.8888888888888888,
              "#fdca26"
             ],
             [
              1,
              "#f0f921"
             ]
            ],
            "type": "histogram2dcontour"
           }
          ],
          "mesh3d": [
           {
            "colorbar": {
             "outlinewidth": 0,
             "ticks": ""
            },
            "type": "mesh3d"
           }
          ],
          "parcoords": [
           {
            "line": {
             "colorbar": {
              "outlinewidth": 0,
              "ticks": ""
             }
            },
            "type": "parcoords"
           }
          ],
          "pie": [
           {
            "automargin": true,
            "type": "pie"
           }
          ],
          "scatter": [
           {
            "fillpattern": {
             "fillmode": "overlay",
             "size": 10,
             "solidity": 0.2
            },
            "type": "scatter"
           }
          ],
          "scatter3d": [
           {
            "line": {
             "colorbar": {
              "outlinewidth": 0,
              "ticks": ""
             }
            },
            "marker": {
             "colorbar": {
              "outlinewidth": 0,
              "ticks": ""
             }
            },
            "type": "scatter3d"
           }
          ],
          "scattercarpet": [
           {
            "marker": {
             "colorbar": {
              "outlinewidth": 0,
              "ticks": ""
             }
            },
            "type": "scattercarpet"
           }
          ],
          "scattergeo": [
           {
            "marker": {
             "colorbar": {
              "outlinewidth": 0,
              "ticks": ""
             }
            },
            "type": "scattergeo"
           }
          ],
          "scattergl": [
           {
            "marker": {
             "colorbar": {
              "outlinewidth": 0,
              "ticks": ""
             }
            },
            "type": "scattergl"
           }
          ],
          "scattermapbox": [
           {
            "marker": {
             "colorbar": {
              "outlinewidth": 0,
              "ticks": ""
             }
            },
            "type": "scattermapbox"
           }
          ],
          "scatterpolar": [
           {
            "marker": {
             "colorbar": {
              "outlinewidth": 0,
              "ticks": ""
             }
            },
            "type": "scatterpolar"
           }
          ],
          "scatterpolargl": [
           {
            "marker": {
             "colorbar": {
              "outlinewidth": 0,
              "ticks": ""
             }
            },
            "type": "scatterpolargl"
           }
          ],
          "scatterternary": [
           {
            "marker": {
             "colorbar": {
              "outlinewidth": 0,
              "ticks": ""
             }
            },
            "type": "scatterternary"
           }
          ],
          "surface": [
           {
            "colorbar": {
             "outlinewidth": 0,
             "ticks": ""
            },
            "colorscale": [
             [
              0,
              "#0d0887"
             ],
             [
              0.1111111111111111,
              "#46039f"
             ],
             [
              0.2222222222222222,
              "#7201a8"
             ],
             [
              0.3333333333333333,
              "#9c179e"
             ],
             [
              0.4444444444444444,
              "#bd3786"
             ],
             [
              0.5555555555555556,
              "#d8576b"
             ],
             [
              0.6666666666666666,
              "#ed7953"
             ],
             [
              0.7777777777777778,
              "#fb9f3a"
             ],
             [
              0.8888888888888888,
              "#fdca26"
             ],
             [
              1,
              "#f0f921"
             ]
            ],
            "type": "surface"
           }
          ],
          "table": [
           {
            "cells": {
             "fill": {
              "color": "#EBF0F8"
             },
             "line": {
              "color": "white"
             }
            },
            "header": {
             "fill": {
              "color": "#C8D4E3"
             },
             "line": {
              "color": "white"
             }
            },
            "type": "table"
           }
          ]
         },
         "layout": {
          "annotationdefaults": {
           "arrowcolor": "#2a3f5f",
           "arrowhead": 0,
           "arrowwidth": 1
          },
          "autotypenumbers": "strict",
          "coloraxis": {
           "colorbar": {
            "outlinewidth": 0,
            "ticks": ""
           }
          },
          "colorscale": {
           "diverging": [
            [
             0,
             "#8e0152"
            ],
            [
             0.1,
             "#c51b7d"
            ],
            [
             0.2,
             "#de77ae"
            ],
            [
             0.3,
             "#f1b6da"
            ],
            [
             0.4,
             "#fde0ef"
            ],
            [
             0.5,
             "#f7f7f7"
            ],
            [
             0.6,
             "#e6f5d0"
            ],
            [
             0.7,
             "#b8e186"
            ],
            [
             0.8,
             "#7fbc41"
            ],
            [
             0.9,
             "#4d9221"
            ],
            [
             1,
             "#276419"
            ]
           ],
           "sequential": [
            [
             0,
             "#0d0887"
            ],
            [
             0.1111111111111111,
             "#46039f"
            ],
            [
             0.2222222222222222,
             "#7201a8"
            ],
            [
             0.3333333333333333,
             "#9c179e"
            ],
            [
             0.4444444444444444,
             "#bd3786"
            ],
            [
             0.5555555555555556,
             "#d8576b"
            ],
            [
             0.6666666666666666,
             "#ed7953"
            ],
            [
             0.7777777777777778,
             "#fb9f3a"
            ],
            [
             0.8888888888888888,
             "#fdca26"
            ],
            [
             1,
             "#f0f921"
            ]
           ],
           "sequentialminus": [
            [
             0,
             "#0d0887"
            ],
            [
             0.1111111111111111,
             "#46039f"
            ],
            [
             0.2222222222222222,
             "#7201a8"
            ],
            [
             0.3333333333333333,
             "#9c179e"
            ],
            [
             0.4444444444444444,
             "#bd3786"
            ],
            [
             0.5555555555555556,
             "#d8576b"
            ],
            [
             0.6666666666666666,
             "#ed7953"
            ],
            [
             0.7777777777777778,
             "#fb9f3a"
            ],
            [
             0.8888888888888888,
             "#fdca26"
            ],
            [
             1,
             "#f0f921"
            ]
           ]
          },
          "colorway": [
           "#636efa",
           "#EF553B",
           "#00cc96",
           "#ab63fa",
           "#FFA15A",
           "#19d3f3",
           "#FF6692",
           "#B6E880",
           "#FF97FF",
           "#FECB52"
          ],
          "font": {
           "color": "#2a3f5f"
          },
          "geo": {
           "bgcolor": "white",
           "lakecolor": "white",
           "landcolor": "#E5ECF6",
           "showlakes": true,
           "showland": true,
           "subunitcolor": "white"
          },
          "hoverlabel": {
           "align": "left"
          },
          "hovermode": "closest",
          "mapbox": {
           "style": "light"
          },
          "paper_bgcolor": "white",
          "plot_bgcolor": "#E5ECF6",
          "polar": {
           "angularaxis": {
            "gridcolor": "white",
            "linecolor": "white",
            "ticks": ""
           },
           "bgcolor": "#E5ECF6",
           "radialaxis": {
            "gridcolor": "white",
            "linecolor": "white",
            "ticks": ""
           }
          },
          "scene": {
           "xaxis": {
            "backgroundcolor": "#E5ECF6",
            "gridcolor": "white",
            "gridwidth": 2,
            "linecolor": "white",
            "showbackground": true,
            "ticks": "",
            "zerolinecolor": "white"
           },
           "yaxis": {
            "backgroundcolor": "#E5ECF6",
            "gridcolor": "white",
            "gridwidth": 2,
            "linecolor": "white",
            "showbackground": true,
            "ticks": "",
            "zerolinecolor": "white"
           },
           "zaxis": {
            "backgroundcolor": "#E5ECF6",
            "gridcolor": "white",
            "gridwidth": 2,
            "linecolor": "white",
            "showbackground": true,
            "ticks": "",
            "zerolinecolor": "white"
           }
          },
          "shapedefaults": {
           "line": {
            "color": "#2a3f5f"
           }
          },
          "ternary": {
           "aaxis": {
            "gridcolor": "white",
            "linecolor": "white",
            "ticks": ""
           },
           "baxis": {
            "gridcolor": "white",
            "linecolor": "white",
            "ticks": ""
           },
           "bgcolor": "#E5ECF6",
           "caxis": {
            "gridcolor": "white",
            "linecolor": "white",
            "ticks": ""
           }
          },
          "title": {
           "x": 0.05
          },
          "xaxis": {
           "automargin": true,
           "gridcolor": "white",
           "linecolor": "white",
           "ticks": "",
           "title": {
            "standoff": 15
           },
           "zerolinecolor": "white",
           "zerolinewidth": 2
          },
          "yaxis": {
           "automargin": true,
           "gridcolor": "white",
           "linecolor": "white",
           "ticks": "",
           "title": {
            "standoff": 15
           },
           "zerolinecolor": "white",
           "zerolinewidth": 2
          }
         }
        },
        "title": {
         "text": "Coordonnées des individus"
        },
        "xaxis": {
         "anchor": "y",
         "domain": [
          0,
          1
         ],
         "title": {
          "text": "PC1"
         }
        },
        "yaxis": {
         "anchor": "x",
         "domain": [
          0,
          1
         ],
         "title": {
          "text": "PC2"
         }
        }
       }
      }
     },
     "metadata": {},
     "output_type": "display_data"
    },
    {
     "name": "stdout",
     "output_type": "stream",
     "text": [
      "La variance expliquée par le premier axe est de :  26.48480676438928 %  et celle par le second axe est de :  20.113966822214643 % \n",
      "La variance totale est de :  46.598773586603926 %\n"
     ]
    }
   ],
   "source": [
    "pca_ressources = PCA(n_components=2)\n",
    "\n",
    "components = pca_ressources.fit_transform(df_ressources.drop(columns=['cluster']))\n",
    "\n",
    "##x_components = []\n",
    "##y_components = []\n",
    "##z_components = []\n",
    "##\n",
    "##for component in components:\n",
    "##    x_components.append(component[0])\n",
    "##    y_components.append(component[1])\n",
    "##    z_components.append(component[2])\n",
    "##\n",
    "##print(pca_ressources.explained_variance_ratio_)\n",
    "\n",
    "\n",
    "# plot 3D\n",
    "##fig = plt.figure()\n",
    "##ax = fig.add_subplot(111, projection='3d')\n",
    "##ax.scatter(xs=x_components, ys=y_components, zs=z_components, c=df_ressources['cluster'], s=30, )\n",
    "##ax.view_init(30, 185)\n",
    "##plt.show()\n",
    "\n",
    "######\n",
    "\n",
    "fig = px.scatter(components, x=0, y=1, color=df_ressources[\"cluster\"], title=\"Coordonnées des individus\", labels={\"0\": \"PC1\", \"1\": \"PC2\"})\n",
    "fig.show()\n",
    "\n",
    "print(\"La variance expliquée par le premier axe est de : \", pca_ressources.explained_variance_ratio_[0]*100, \"%\",\" et celle par le second axe est de : \", pca_ressources.explained_variance_ratio_[1]*100, \"% \")\n",
    "print(\"La variance totale est de : \", pca_ressources.explained_variance_ratio_.sum()*100, \"%\")"
   ]
  },
  {
   "attachments": {},
   "cell_type": "markdown",
   "metadata": {},
   "source": [
    "On voit que les clusters ici sont mélangés. Ceci peut être expliqué par la variance totale expliquée par ces deux dimensions. On a seulement 46.6 % de l'information. Il faut donc manipuler avec des pincettes ce graphique pour juger le découpage en clusters."
   ]
  },
  {
   "cell_type": "code",
   "execution_count": 12,
   "metadata": {},
   "outputs": [],
   "source": [
    "pca_ressources = pc.PCA(\n",
    "    n_components=2,\n",
    "    random_state=0,\n",
    "    n_iter=100,\n",
    "    rescale_with_mean=True,\n",
    "    rescale_with_std=True,\n",
    "    copy=True,\n",
    "    engine='auto',\n",
    "    check_input=True\n",
    ")\n",
    "\n",
    "pca_ressources = pca_ressources.fit(df_ressources.drop(columns=['cluster']))"
   ]
  },
  {
   "cell_type": "code",
   "execution_count": 13,
   "metadata": {},
   "outputs": [
    {
     "data": {
      "image/png": "[encoded data removed]",
      "text/plain": [
       "<Figure size 1000x1000 with 1 Axes>"
      ]
     },
     "metadata": {},
     "output_type": "display_data"
    }
   ],
   "source": [
    "ax_ressources = pca_ressources.plot_row_coordinates(\n",
    "    df_ressources.drop(columns=['cluster']),\n",
    "    ax=None,\n",
    "    figsize=(10, 10),\n",
    "    x_component=0,\n",
    "    y_component=1,\n",
    "    labels=None,\n",
    "    color_labels=df_ressources['cluster']\n",
    ")"
   ]
  },
  {
   "attachments": {},
   "cell_type": "markdown",
   "metadata": {},
   "source": [
    "-------------------------------"
   ]
  },
  {
   "cell_type": "code",
   "execution_count": 14,
   "metadata": {},
   "outputs": [
    {
     "data": {
      "application/vnd.plotly.v1+json": {
       "config": {
        "plotlyServerURL": "https://plot.ly"
       },
       "data": [
        {
         "hovertemplate": "color=3<br>PC 1 (26.5%)=%{x}<br>PC 2 (20.1%)=%{y}<br>PC 3 (17.9%)=%{z}<extra></extra>",
         "legendgroup": "3",
         "marker": {
          "color": "#636efa",
          "symbol": "circle"
         },
         "mode": "markers",
         "name": "3",
         "scene": "scene",
         "showlegend": true,
         "type": "scatter3d",
         "x": [
          -0.38982663121051125,
          0.010501565311767682,
          -0.38982663121051014,
          0.010501565311766036,
          -0.38982663121051014,
          -0.024970818898706552,
          -0.38982663121051014,
          -0.38982663121051014,
          -0.38982663121051014,
          -0.38982663121051014,
          -0.38982663121051014,
          -0.38982663121051014,
          -0.38982663121051014,
          0.4647432533576238,
          -0.38982663121051014,
          0.09565239069359271,
          0.3753573776235695,
          -0.38982663121051014,
          -0.38982663121051014,
          -0.38982663121051014,
          0.5939302649460809,
          0.49598058721586896,
          -0.38982663121051014,
          -0.38982663121051014,
          -0.38982663121051014,
          0.010501565311766036,
          0.010501565311766036,
          -0.38982663121051014,
          0.49598058721586896,
          -0.38982663121051014,
          -0.38982663121051014,
          0.2290744526342774,
          -0.38982663121051014,
          -0.024970818898706552,
          0.49598058721586896,
          -0.38982663121051014,
          -0.38982663121051014,
          0.010501565311766036,
          -0.024970818898706552,
          -0.024970818898706552,
          0.4605082030053963,
          0.4647432533576238,
          -0.38982663121051014,
          -0.38982663121051014,
          0.09565239069359271,
          -0.38982663121051014,
          -0.38982663121051014,
          -0.38982663121051014,
          -0.38982663121051014,
          -0.38982663121051014,
          0.09565239069359271,
          -0.38982663121051014,
          0.28298794415785894,
          0.010501565311766036,
          -0.38982663121051014,
          -0.38982663121051014,
          0.010501565311766036,
          0.010501565311766036,
          -0.38982663121051014,
          -0.38982663121051014,
          0.010501565311766036,
          -0.38982663121051014,
          -0.38982663121051014,
          -0.38982663121051014,
          0.49598058721586896,
          0.010501565311766036,
          0.09565239069359271,
          0.010501565311766036,
          -0.38982663121051014,
          -0.38982663121051014,
          -0.38982663121051014,
          0.49598058721586896,
          0.2290744526342774,
          -0.38982663121051014,
          0.49598058721586896,
          0.010501565311766036,
          -0.38982663121051014,
          0.010501565311766036,
          0.010501565311766036,
          0.010501565311766036,
          -0.38982663121051014,
          -0.38982663121051014,
          -0.38982663121051014,
          -0.38982663121051014,
          0.010501565311766036,
          0.010501565311766036,
          0.06441505683534769,
          -0.38982663121051014,
          -0.38982663121051014,
          0.09565239069359271,
          -0.38982663121051014,
          0.49598058721586896,
          -0.38982663121051014,
          0.49598058721586896,
          -0.024970818898706552,
          -0.38982663121051014,
          0.4647432533576238,
          0.3753573776235695,
          0.010501565311766036,
          0.4292708691471512,
          0.49598058721586896,
          0.3753573776235695,
          0.49598058721586896,
          0.010501565311766036,
          0.010501565311766036,
          0.010501565311766036,
          0.09565239069359271,
          -0.38982663121051014,
          0.2290744526342774,
          -0.024970818898706552,
          -0.38982663121051014,
          0.06441505683534769,
          -0.38982663121051014,
          -0.38982663121051014,
          0.09565239069359271,
          -0.38982663121051014,
          -0.38982663121051014,
          -0.38982663121051014,
          -0.38982663121051014,
          0.010501565311766036,
          0.4292708691471512,
          -0.38982663121051014,
          -0.38982663121051014,
          0.09565239069359271,
          0.28298794415785894,
          -0.38982663121051014,
          -0.38982663121051014,
          0.09565239069359271,
          0.09565239069359271,
          0.49598058721586896,
          0.49598058721586896,
          -0.38982663121051014,
          -0.38982663121051014,
          -0.38982663121051014,
          -0.38982663121051014,
          -0.38982663121051014,
          0.49598058721586896,
          -0.38982663121051014,
          -0.38982663121051014,
          0.010501565311766036,
          0.4605082030053963,
          0.09565239069359271,
          0.49598058721586896,
          -0.024970818898706552,
          0.09565239069359271,
          0.4605082030053963,
          0.09565239069359271,
          0.010501565311766036,
          -0.38982663121051014,
          -0.38982663121051014,
          -0.38982663121051014,
          -0.38982663121051014,
          -0.38982663121051014,
          -0.38982663121051014,
          0.010501565311766036,
          -0.38982663121051014,
          0.09565239069359271,
          -0.024970818898706552,
          -0.38982663121051014,
          -0.38982663121051014,
          -0.38982663121051014,
          0.49598058721586896,
          0.010501565311766036,
          0.09565239069359271,
          -0.38982663121051014,
          -0.38982663121051014,
          -0.38982663121051014,
          -0.38982663121051014,
          -0.38982663121051014,
          -0.024970818898706552,
          0.09565239069359271,
          0.4647432533576238,
          0.4647432533576238,
          0.09565239069359271,
          0.3753573776235695,
          -0.38982663121051014,
          -0.38982663121051014,
          -0.38982663121051014,
          0.010501565311766036,
          -0.38982663121051014,
          0.010501565311766036,
          -0.38982663121051014,
          -0.38982663121051014,
          0.2290744526342774,
          0.010501565311766036,
          -0.38982663121051014,
          -0.024970818898706552,
          -0.38982663121051014,
          -0.38982663121051014,
          0.010501565311766036,
          -0.38982663121051014,
          0.010501565311766036,
          -0.38982663121051014,
          -0.38982663121051014,
          -0.38982663121051014,
          0.28298794415785894,
          0.010501565311766036,
          0.09565239069359271,
          -0.38982663121051014,
          -0.38982663121051014,
          0.010501565311766036,
          -0.38982663121051014,
          -0.38982663121051014,
          -0.38982663121051014,
          -0.38982663121051014,
          -0.38982663121051014,
          0.49598058721586896,
          0.49598058721586896,
          -0.38982663121051014,
          -0.024970818898706552,
          -0.38982663121051014,
          0.49598058721586896,
          0.010501565311766036,
          -0.38982663121051014,
          0.3753573776235695,
          0.49598058721586896,
          -0.38982663121051014,
          0.49598058721586896,
          -0.38982663121051014,
          0.010501565311766036,
          -0.024970818898706552,
          -0.38982663121051014,
          0.06441505683534769,
          -0.38982663121051014,
          0.010501565311766036,
          0.010501565311766036,
          0.2290744526342774,
          0.09565239069359271,
          0.49598058721586896
         ],
         "y": [
          0.3133483061192345,
          0.731152526947797,
          0.3133483061192396,
          0.731152526947805,
          0.31334830611923953,
          0.36205784042167777,
          0.31334830611923953,
          0.31334830611923953,
          0.31334830611923953,
          0.31334830611923953,
          0.31334830611923953,
          0.31334830611923953,
          0.31334830611923953,
          0.6257205504889797,
          0.31334830611923953,
          0.41866699553454906,
          0.7798620612502429,
          0.31334830611923953,
          0.31334830611923953,
          0.31334830611923953,
          0.8465988702672246,
          0.8364712163631144,
          0.31334830611923953,
          0.31334830611923953,
          0.31334830611923953,
          0.731152526947805,
          0.731152526947805,
          0.31334830611923953,
          0.8364712163631144,
          0.31334830611923953,
          0.31334830611923953,
          0.7978893359647862,
          0.31334830611923953,
          0.36205784042167777,
          0.8364712163631144,
          0.31334830611923953,
          0.31334830611923953,
          0.731152526947805,
          0.36205784042167777,
          0.36205784042167777,
          0.46737652983698735,
          0.6257205504889797,
          0.31334830611923953,
          0.31334830611923953,
          0.41866699553454906,
          0.31334830611923953,
          0.31334830611923953,
          0.31334830611923953,
          0.31334830611923953,
          0.31334830611923953,
          0.41866699553454906,
          0.31334830611923953,
          0.2746531386773957,
          0.731152526947805,
          0.31334830611923953,
          0.31334830611923953,
          0.731152526947805,
          0.731152526947805,
          0.31334830611923953,
          0.31334830611923953,
          0.731152526947805,
          0.31334830611923953,
          0.31334830611923953,
          0.31334830611923953,
          0.8364712163631144,
          0.731152526947805,
          0.41866699553454906,
          0.731152526947805,
          0.31334830611923953,
          0.31334830611923953,
          0.31334830611923953,
          0.8364712163631144,
          0.7978893359647862,
          0.31334830611923953,
          0.8364712163631144,
          0.731152526947805,
          0.31334830611923953,
          0.731152526947805,
          0.731152526947805,
          0.731152526947805,
          0.31334830611923953,
          0.31334830611923953,
          0.31334830611923953,
          0.31334830611923953,
          0.731152526947805,
          0.731152526947805,
          0.2079163296604142,
          0.31334830611923953,
          0.31334830611923953,
          0.41866699553454906,
          0.31334830611923953,
          0.8364712163631144,
          0.31334830611923953,
          0.8364712163631144,
          0.36205784042167777,
          0.31334830611923953,
          0.6257205504889797,
          0.7798620612502429,
          0.731152526947805,
          0.2566258639628525,
          0.8364712163631144,
          0.7798620612502429,
          0.8364712163631144,
          0.731152526947805,
          0.731152526947805,
          0.731152526947805,
          0.41866699553454906,
          0.31334830611923953,
          0.7978893359647862,
          0.36205784042167777,
          0.31334830611923953,
          0.2079163296604142,
          0.31334830611923953,
          0.31334830611923953,
          0.41866699553454906,
          0.31334830611923953,
          0.31334830611923953,
          0.31334830611923953,
          0.31334830611923953,
          0.731152526947805,
          0.2566258639628525,
          0.31334830611923953,
          0.31334830611923953,
          0.41866699553454906,
          0.2746531386773957,
          0.31334830611923953,
          0.31334830611923953,
          0.41866699553454906,
          0.41866699553454906,
          0.8364712163631144,
          0.8364712163631144,
          0.31334830611923953,
          0.31334830611923953,
          0.31334830611923953,
          0.31334830611923953,
          0.31334830611923953,
          0.8364712163631144,
          0.31334830611923953,
          0.31334830611923953,
          0.731152526947805,
          0.46737652983698735,
          0.41866699553454906,
          0.8364712163631144,
          0.36205784042167777,
          0.41866699553454906,
          0.46737652983698735,
          0.41866699553454906,
          0.731152526947805,
          0.31334830611923953,
          0.31334830611923953,
          0.31334830611923953,
          0.31334830611923953,
          0.31334830611923953,
          0.31334830611923953,
          0.731152526947805,
          0.31334830611923953,
          0.41866699553454906,
          0.36205784042167777,
          0.31334830611923953,
          0.31334830611923953,
          0.31334830611923953,
          0.8364712163631144,
          0.731152526947805,
          0.41866699553454906,
          0.31334830611923953,
          0.31334830611923953,
          0.31334830611923953,
          0.31334830611923953,
          0.31334830611923953,
          0.36205784042167777,
          0.41866699553454906,
          0.6257205504889797,
          0.6257205504889797,
          0.41866699553454906,
          0.7798620612502429,
          0.31334830611923953,
          0.31334830611923953,
          0.31334830611923953,
          0.731152526947805,
          0.31334830611923953,
          0.731152526947805,
          0.31334830611923953,
          0.31334830611923953,
          0.7978893359647862,
          0.731152526947805,
          0.31334830611923953,
          0.36205784042167777,
          0.31334830611923953,
          0.31334830611923953,
          0.731152526947805,
          0.31334830611923953,
          0.731152526947805,
          0.31334830611923953,
          0.31334830611923953,
          0.31334830611923953,
          0.2746531386773957,
          0.731152526947805,
          0.41866699553454906,
          0.31334830611923953,
          0.31334830611923953,
          0.731152526947805,
          0.31334830611923953,
          0.31334830611923953,
          0.31334830611923953,
          0.31334830611923953,
          0.31334830611923953,
          0.8364712163631144,
          0.8364712163631144,
          0.31334830611923953,
          0.36205784042167777,
          0.31334830611923953,
          0.8364712163631144,
          0.731152526947805,
          0.31334830611923953,
          0.7798620612502429,
          0.8364712163631144,
          0.31334830611923953,
          0.8364712163631144,
          0.31334830611923953,
          0.731152526947805,
          0.36205784042167777,
          0.31334830611923953,
          0.2079163296604142,
          0.31334830611923953,
          0.731152526947805,
          0.731152526947805,
          0.7978893359647862,
          0.41866699553454906,
          0.8364712163631144
         ],
         "z": [
          -0.5839201604164379,
          -0.3876654668220849,
          -0.5839201604164361,
          -0.3876654668220819,
          -0.5839201604164361,
          -0.511682377918565,
          -0.5839201604164361,
          -0.5839201604164361,
          -0.5839201604164361,
          -0.5839201604164361,
          -0.5839201604164361,
          -0.5839201604164361,
          -0.5839201604164361,
          -0.21272821692530217,
          -0.5839201604164361,
          -0.303633475518537,
          -0.31542768432421087,
          -0.5839201604164361,
          -0.5839201604164361,
          -0.5839201604164361,
          -0.21533612959820003,
          -0.10737878192418286,
          -0.5839201604164361,
          -0.5839201604164361,
          -0.5839201604164361,
          -0.3876654668220819,
          -0.3876654668220819,
          -0.5839201604164361,
          -0.10737878192418286,
          -0.5839201604164361,
          -0.5839201604164361,
          -0.28757391209607125,
          -0.5839201604164361,
          -0.511682377918565,
          -0.10737878192418286,
          -0.5839201604164361,
          -0.5839201604164361,
          -0.3876654668220819,
          -0.511682377918565,
          -0.511682377918565,
          -0.23139569302066582,
          -0.21272821692530217,
          -0.5839201604164361,
          -0.5839201604164361,
          -0.303633475518537,
          -0.5839201604164361,
          -0.5839201604164361,
          -0.5839201604164361,
          -0.5839201604164361,
          -0.5839201604164361,
          -0.303633475518537,
          -0.5839201604164361,
          -0.30889135579364535,
          -0.3876654668220819,
          -0.5839201604164361,
          -0.5839201604164361,
          -0.3876654668220819,
          -0.3876654668220819,
          -0.5839201604164361,
          -0.5839201604164361,
          -0.3876654668220819,
          -0.5839201604164361,
          -0.5839201604164361,
          -0.5839201604164361,
          -0.10737878192418286,
          -0.3876654668220819,
          -0.303633475518537,
          -0.3876654668220819,
          -0.5839201604164361,
          -0.5839201604164361,
          -0.5839201604164361,
          -0.10737878192418286,
          -0.28757391209607125,
          -0.5839201604164361,
          -0.10737878192418286,
          -0.3876654668220819,
          -0.5839201604164361,
          -0.3876654668220819,
          -0.3876654668220819,
          -0.3876654668220819,
          -0.5839201604164361,
          -0.5839201604164361,
          -0.5839201604164361,
          -0.5839201604164361,
          -0.3876654668220819,
          -0.3876654668220819,
          -0.4089829105196563,
          -0.5839201604164361,
          -0.5839201604164361,
          -0.303633475518537,
          -0.5839201604164361,
          -0.10737878192418286,
          -0.5839201604164361,
          -0.10737878192418286,
          -0.511682377918565,
          -0.5839201604164361,
          -0.21272821692530217,
          -0.31542768432421087,
          -0.3876654668220819,
          -0.336745128021785,
          -0.10737878192418286,
          -0.31542768432421087,
          -0.10737878192418286,
          -0.3876654668220819,
          -0.3876654668220819,
          -0.3876654668220819,
          -0.303633475518537,
          -0.5839201604164361,
          -0.28757391209607125,
          -0.511682377918565,
          -0.5839201604164361,
          -0.4089829105196563,
          -0.5839201604164361,
          -0.5839201604164361,
          -0.303633475518537,
          -0.5839201604164361,
          -0.5839201604164361,
          -0.5839201604164361,
          -0.5839201604164361,
          -0.3876654668220819,
          -0.336745128021785,
          -0.5839201604164361,
          -0.5839201604164361,
          -0.303633475518537,
          -0.30889135579364535,
          -0.5839201604164361,
          -0.5839201604164361,
          -0.303633475518537,
          -0.303633475518537,
          -0.10737878192418286,
          -0.10737878192418286,
          -0.5839201604164361,
          -0.5839201604164361,
          -0.5839201604164361,
          -0.5839201604164361,
          -0.5839201604164361,
          -0.10737878192418286,
          -0.5839201604164361,
          -0.5839201604164361,
          -0.3876654668220819,
          -0.23139569302066582,
          -0.303633475518537,
          -0.10737878192418286,
          -0.511682377918565,
          -0.303633475518537,
          -0.23139569302066582,
          -0.303633475518537,
          -0.3876654668220819,
          -0.5839201604164361,
          -0.5839201604164361,
          -0.5839201604164361,
          -0.5839201604164361,
          -0.5839201604164361,
          -0.5839201604164361,
          -0.3876654668220819,
          -0.5839201604164361,
          -0.303633475518537,
          -0.511682377918565,
          -0.5839201604164361,
          -0.5839201604164361,
          -0.5839201604164361,
          -0.10737878192418286,
          -0.3876654668220819,
          -0.303633475518537,
          -0.5839201604164361,
          -0.5839201604164361,
          -0.5839201604164361,
          -0.5839201604164361,
          -0.5839201604164361,
          -0.511682377918565,
          -0.303633475518537,
          -0.21272821692530217,
          -0.21272821692530217,
          -0.303633475518537,
          -0.31542768432421087,
          -0.5839201604164361,
          -0.5839201604164361,
          -0.5839201604164361,
          -0.3876654668220819,
          -0.5839201604164361,
          -0.3876654668220819,
          -0.5839201604164361,
          -0.5839201604164361,
          -0.28757391209607125,
          -0.3876654668220819,
          -0.5839201604164361,
          -0.511682377918565,
          -0.5839201604164361,
          -0.5839201604164361,
          -0.3876654668220819,
          -0.5839201604164361,
          -0.3876654668220819,
          -0.5839201604164361,
          -0.5839201604164361,
          -0.5839201604164361,
          -0.30889135579364535,
          -0.3876654668220819,
          -0.303633475518537,
          -0.5839201604164361,
          -0.5839201604164361,
          -0.3876654668220819,
          -0.5839201604164361,
          -0.5839201604164361,
          -0.5839201604164361,
          -0.5839201604164361,
          -0.5839201604164361,
          -0.10737878192418286,
          -0.10737878192418286,
          -0.5839201604164361,
          -0.511682377918565,
          -0.5839201604164361,
          -0.10737878192418286,
          -0.3876654668220819,
          -0.5839201604164361,
          -0.31542768432421087,
          -0.10737878192418286,
          -0.5839201604164361,
          -0.10737878192418286,
          -0.5839201604164361,
          -0.3876654668220819,
          -0.511682377918565,
          -0.5839201604164361,
          -0.4089829105196563,
          -0.5839201604164361,
          -0.3876654668220819,
          -0.3876654668220819,
          -0.28757391209607125,
          -0.303633475518537,
          -0.10737878192418292
         ]
        },
        {
         "hovertemplate": "color=1<br>PC 1 (26.5%)=%{x}<br>PC 2 (20.1%)=%{y}<br>PC 3 (17.9%)=%{z}<extra></extra>",
         "legendgroup": "1",
         "marker": {
          "color": "#EF553B",
          "symbol": "circle"
         },
         "mode": "markers",
         "name": "1",
         "scene": "scene",
         "showlegend": true,
         "type": "scatter3d",
         "x": [
          -0.31162813508081555,
          -0.7658698231266735,
          -0.7658698231266735,
          -0.2803908012225707,
          -0.3655416266043973,
          -0.4915161030111533,
          -0.3655416266043973,
          -0.4915161030111533,
          -0.3655416266043973,
          -0.4915161030111533,
          0.2736679058229266,
          -0.3655416266043973,
          -0.7658698231266735,
          -0.7658698231266735,
          -0.4915161030111533,
          -0.3655416266043973,
          -0.037274414965295426,
          -0.7658698231266735,
          -0.3116281350808157,
          -0.4915161030111533,
          -0.2803908012225707,
          -0.4915161030111533,
          -0.3655416266043973,
          -0.4915161030111533,
          -0.3655416266043973,
          -0.037274414965295426,
          -0.4915161030111533,
          -0.7658698231266735,
          -0.4915161030111533,
          -0.7658698231266735,
          -0.3655416266043973,
          -0.037274414965295426,
          -0.7658698231266735,
          -0.7658698231266735,
          -0.7658698231266735,
          -0.4915161030111533,
          -0.2803908012225707,
          -0.4915161030111533,
          -0.7658698231266735,
          -0.0060370811070503605,
          -0.7658698231266735,
          -0.7658698231266735,
          -0.3655416266043973,
          -0.7658698231266735,
          0.2736679058229266,
          -0.4915161030111533,
          -0.3116281350808157,
          -0.7658698231266735,
          -0.4010140108148699,
          -0.7658698231266735,
          -0.7658698231266735,
          -0.4915161030111533,
          -0.7658698231266735,
          -0.3655416266043973,
          -0.4915161030111533,
          -0.7658698231266735,
          -0.09118790648887701,
          -0.4915161030111533,
          -0.2803908012225707,
          -0.0060370811070503605,
          -0.0060370811070503605,
          -0.7658698231266735,
          -0.4915161030111533,
          -0.7658698231266735,
          -0.7658698231266735,
          -0.037274414965295426,
          -0.7658698231266735,
          -0.4915161030111533,
          -0.7658698231266735,
          0.053227677230987834,
          -0.7658698231266735,
          -0.037274414965295426,
          -0.3655416266043973,
          -0.7658698231266735,
          -0.4915161030111533,
          -0.4915161030111533,
          -0.4915161030111533,
          -0.0060370811070503605,
          -0.4915161030111533,
          -0.4915161030111533,
          -0.3655416266043973,
          0.2736679058229266,
          -0.12666029069934964,
          -0.4915161030111533,
          -0.09118790648887701,
          -0.7658698231266735,
          -0.4915161030111533,
          -0.2803908012225707,
          -0.037274414965295426,
          -0.0060370811070503605,
          -0.4915161030111533,
          -0.3116281350808157,
          -0.7658698231266735,
          -0.2803908012225707,
          -0.3655416266043973,
          -0.4915161030111533,
          -0.09118790648887701,
          -0.4915161030111533,
          -0.4915161030111533,
          -0.2803908012225707,
          -0.7658698231266735,
          -0.4915161030111533,
          -0.09118790648887701,
          -0.3655416266043973,
          -0.3655416266043973,
          -0.7658698231266735,
          -0.4915161030111533,
          -0.7658698231266735,
          -0.3655416266043973,
          -0.7658698231266735,
          -0.2803908012225707,
          -0.4915161030111533,
          -0.7658698231266735,
          -0.7658698231266735,
          -0.12666029069934964,
          -0.4915161030111533,
          -0.7658698231266735,
          -0.7658698231266735,
          -0.037274414965295426,
          -0.2803908012225707,
          -0.7658698231266735,
          -0.7658698231266735,
          -0.4915161030111533,
          -0.4915161030111533,
          -0.7658698231266735,
          -0.4915161030111533,
          -0.7658698231266735,
          -0.7658698231266735,
          -0.4010140108148699,
          -0.4915161030111533,
          -0.7658698231266735,
          -0.7658698231266735,
          -0.4915161030111533,
          -0.7658698231266735,
          -0.4915161030111533,
          -0.4915161030111533,
          -0.4915161030111533,
          -0.7658698231266735,
          -0.7658698231266735,
          0.2736679058229266,
          -0.4915161030111533,
          -0.7658698231266735,
          -0.4915161030111533,
          -0.7658698231266735,
          -0.7658698231266735,
          -0.4915161030111533,
          -0.06181791390005934,
          -0.09118790648887701,
          -0.7658698231266735,
          -0.7658698231266735,
          -0.4915161030111533,
          -0.3116281350808157,
          -0.7658698231266735,
          -0.7658698231266735,
          -0.4915161030111533,
          0.053227677230987834,
          -0.2803908012225707,
          -0.3655416266043973,
          -0.7658698231266735,
          -0.7658698231266735,
          -0.4915161030111533,
          0.2736679058229266,
          -0.4915161030111533,
          -0.7658698231266735,
          -0.3655416266043973,
          -0.09118790648887701,
          -0.3655416266043973,
          -0.4915161030111533,
          -0.7658698231266735,
          -0.000685814292593736,
          -0.7658698231266735,
          -0.09118790648887701,
          -0.3116281350808157,
          -0.4915161030111533,
          -0.4915161030111533,
          -0.0060370811070503605,
          -0.7658698231266735,
          -0.7658698231266735,
          -0.09118790648887701,
          -0.3655416266043973,
          -0.0060370811070503605,
          -0.7658698231266735,
          -0.7658698231266735,
          -0.3655416266043973,
          -0.4915161030111533,
          -0.7658698231266735,
          -0.7658698231266735,
          -0.7658698231266735,
          -0.7658698231266735,
          0.08870006144146036,
          -0.7658698231266735,
          -0.7658698231266735,
          -0.4915161030111533,
          -0.7658698231266735,
          -0.7658698231266735,
          -0.7658698231266735,
          -0.0060370811070503605,
          -0.037274414965295426,
          -0.2803908012225707,
          -0.7658698231266735,
          -0.7658698231266735,
          -0.7658698231266735,
          -0.7658698231266735,
          -0.7658698231266735,
          -0.037274414965295426,
          -0.7658698231266735,
          -0.4915161030111533,
          -0.3655416266043973,
          -0.7658698231266735,
          -0.09118790648887701,
          -0.7658698231266735,
          -0.0060370811070503605,
          -0.7658698231266735,
          -0.7658698231266735,
          -0.7658698231266735,
          -0.7658698231266735,
          -0.037274414965295426,
          -0.0060370811070503605,
          -0.4915161030111533,
          -0.7658698231266735,
          -0.4915161030111533,
          -0.7658698231266735,
          -0.4915161030111533,
          -0.09118790648887701,
          -0.4915161030111533,
          -0.09118790648887701,
          -0.4915161030111533,
          -0.037274414965295426,
          -0.4915161030111533,
          -0.7658698231266735,
          -0.09118790648887701,
          -0.3655416266043973,
          -0.037274414965295426,
          -0.7658698231266735,
          -0.2803908012225707,
          -0.7658698231266735,
          -0.4915161030111533,
          -0.7658698231266735,
          -0.4915161030111533,
          -0.4915161030111533,
          -0.7658698231266735,
          -0.0060370811070503605,
          -0.7658698231266735,
          -0.7658698231266735,
          -0.7658698231266735,
          -0.2803908012225707,
          -0.4915161030111533,
          -0.7658698231266735,
          -0.3116281350808157,
          -0.7658698231266735,
          -0.3655416266043973,
          -0.7658698231266735,
          -0.4915161030111533,
          -0.4010140108148699,
          -0.7658698231266735,
          -0.7658698231266735,
          -0.4915161030111533,
          -0.7658698231266735,
          -0.09118790648887701,
          -0.3655416266043973,
          -0.4915161030111533,
          -0.4915161030111533,
          -0.7658698231266735,
          -0.4915161030111533,
          -0.7658698231266735,
          -0.3655416266043973,
          -0.7658698231266735,
          -0.7658698231266735,
          -0.7658698231266735,
          -0.3655416266043973,
          -0.7658698231266735,
          -0.3655416266043973,
          -0.09118790648887701,
          -0.7658698231266735,
          -0.3655416266043973,
          -0.4915161030111533,
          -0.7658698231266735,
          -0.7658698231266735,
          -0.7658698231266735,
          -0.3655416266043973,
          -0.7658698231266735,
          -0.7658698231266735,
          -0.4010140108148699,
          -0.4915161030111533,
          -0.7658698231266735,
          -0.3655416266043973,
          -0.4915161030111533,
          -0.4915161030111533,
          -0.7658698231266735,
          -0.4915161030111533,
          -0.037274414965295426,
          -0.09118790648887701,
          -0.4915161030111533,
          -0.3655416266043973,
          -0.7658698231266735,
          -0.4915161030111533,
          -0.7658698231266735,
          -0.3116281350808157,
          -0.0060370811070503605,
          -0.4915161030111533,
          -0.4915161030111533,
          0.2736679058229266,
          -0.2803908012225707,
          -0.7658698231266735,
          -0.3655416266043973,
          -0.4915161030111533,
          -0.06181791390005934,
          -0.3655416266043973,
          -0.7658698231266735,
          -0.7658698231266735,
          -0.7658698231266735,
          -0.3655416266043973,
          -0.7658698231266735,
          -0.3655416266043973,
          -0.4915161030111533,
          -0.3655416266043973,
          -0.7658698231266735,
          -0.037274414965295426,
          -0.4915161030111533,
          -0.4010140108148699,
          -0.09118790648887701,
          -0.7658698231266734,
          -0.4915161030111532
         ],
         "y": [
          0.10095887236216694,
          0.20639084882099223,
          0.20639084882099223,
          0.311709538236302,
          0.6241950696495573,
          -0.6795918095679623,
          0.6241950696495573,
          -0.6795918095679623,
          0.6241950696495573,
          -0.6795918095679623,
          -0.21307805443695893,
          0.6241950696495573,
          0.20639084882099223,
          0.20639084882099223,
          -0.6795918095679623,
          0.6241950696495573,
          -0.7850237860267877,
          0.20639084882099223,
          0.10095887236216688,
          -0.6795918095679623,
          0.311709538236302,
          -0.6795918095679623,
          0.6241950696495573,
          -0.6795918095679623,
          0.6241950696495573,
          -0.7850237860267877,
          -0.6795918095679623,
          0.20639084882099223,
          -0.6795918095679623,
          0.20639084882099223,
          0.6241950696495573,
          -0.7850237860267877,
          0.20639084882099223,
          0.20639084882099223,
          0.20639084882099223,
          -0.6795918095679623,
          0.311709538236302,
          -0.6795918095679623,
          0.20639084882099223,
          -0.5742731201526527,
          0.20639084882099223,
          0.20639084882099223,
          0.6241950696495573,
          0.20639084882099223,
          -0.21307805443695893,
          -0.6795918095679623,
          0.10095887236216688,
          0.20639084882099223,
          0.2551003831234305,
          0.20639084882099223,
          0.20639084882099223,
          -0.6795918095679623,
          0.20639084882099223,
          0.6241950696495573,
          -0.6795918095679623,
          0.20639084882099223,
          -0.26178758873939717,
          -0.6795918095679623,
          0.311709538236302,
          -0.5742731201526527,
          -0.5742731201526527,
          0.20639084882099223,
          -0.6795918095679623,
          0.20639084882099223,
          0.20639084882099223,
          -0.7850237860267877,
          0.20639084882099223,
          -0.6795918095679623,
          0.20639084882099223,
          0.14966840666460524,
          0.20639084882099223,
          -0.7850237860267877,
          0.6241950696495573,
          0.20639084882099223,
          -0.6795918095679623,
          -0.6795918095679623,
          -0.6795918095679623,
          -0.5742731201526527,
          -0.6795918095679623,
          -0.6795918095679623,
          0.6241950696495573,
          -0.21307805443695893,
          -0.6308822752655243,
          -0.6795918095679623,
          -0.26178758873939717,
          0.20639084882099223,
          -0.6795918095679623,
          0.311709538236302,
          -0.7850237860267877,
          -0.5742731201526527,
          -0.6795918095679623,
          0.10095887236216688,
          0.20639084882099223,
          0.311709538236302,
          0.6241950696495573,
          -0.6795918095679623,
          -0.26178758873939717,
          -0.6795918095679623,
          -0.6795918095679623,
          0.311709538236302,
          0.20639084882099223,
          -0.6795918095679623,
          -0.26178758873939717,
          0.6241950696495573,
          0.6241950696495573,
          0.20639084882099223,
          -0.6795918095679623,
          0.20639084882099223,
          0.6241950696495573,
          0.20639084882099223,
          0.311709538236302,
          -0.6795918095679623,
          0.20639084882099223,
          0.20639084882099223,
          -0.6308822752655243,
          -0.6795918095679623,
          0.20639084882099223,
          0.20639084882099223,
          -0.7850237860267877,
          0.311709538236302,
          0.20639084882099223,
          0.20639084882099223,
          -0.6795918095679623,
          -0.6795918095679623,
          0.20639084882099223,
          -0.6795918095679623,
          0.20639084882099223,
          0.20639084882099223,
          0.2551003831234305,
          -0.6795918095679623,
          0.20639084882099223,
          0.20639084882099223,
          -0.6795918095679623,
          0.20639084882099223,
          -0.6795918095679623,
          -0.6795918095679623,
          -0.6795918095679623,
          0.20639084882099223,
          0.20639084882099223,
          -0.21307805443695893,
          -0.6795918095679623,
          0.20639084882099223,
          -0.6795918095679623,
          0.20639084882099223,
          0.20639084882099223,
          -0.6795918095679623,
          0.37844634725328313,
          -0.26178758873939717,
          0.20639084882099223,
          0.20639084882099223,
          -0.6795918095679623,
          0.10095887236216688,
          0.20639084882099223,
          0.20639084882099223,
          -0.6795918095679623,
          0.14966840666460524,
          0.311709538236302,
          0.6241950696495573,
          0.20639084882099223,
          0.20639084882099223,
          -0.6795918095679623,
          -0.21307805443695893,
          -0.6795918095679623,
          0.20639084882099223,
          0.6241950696495573,
          -0.26178758873939717,
          0.6241950696495573,
          -0.6795918095679623,
          0.20639084882099223,
          0.6729046039519957,
          0.20639084882099223,
          -0.26178758873939717,
          0.10095887236216688,
          -0.6795918095679623,
          -0.6795918095679623,
          -0.5742731201526527,
          0.20639084882099223,
          0.20639084882099223,
          -0.26178758873939717,
          0.6241950696495573,
          -0.5742731201526527,
          0.20639084882099223,
          0.20639084882099223,
          0.6241950696495573,
          -0.6795918095679623,
          0.20639084882099223,
          0.20639084882099223,
          0.20639084882099223,
          0.20639084882099223,
          0.5187630931907323,
          0.20639084882099223,
          0.20639084882099223,
          -0.6795918095679623,
          0.20639084882099223,
          0.20639084882099223,
          0.20639084882099223,
          -0.5742731201526527,
          -0.7850237860267877,
          0.311709538236302,
          0.20639084882099223,
          0.20639084882099223,
          0.20639084882099223,
          0.20639084882099223,
          0.20639084882099223,
          -0.7850237860267877,
          0.20639084882099223,
          -0.6795918095679623,
          0.6241950696495573,
          0.20639084882099223,
          -0.26178758873939717,
          0.20639084882099223,
          -0.5742731201526527,
          0.20639084882099223,
          0.20639084882099223,
          0.20639084882099223,
          0.20639084882099223,
          -0.7850237860267877,
          -0.5742731201526527,
          -0.6795918095679623,
          0.20639084882099223,
          -0.6795918095679623,
          0.20639084882099223,
          -0.6795918095679623,
          -0.26178758873939717,
          -0.6795918095679623,
          -0.26178758873939717,
          -0.6795918095679623,
          -0.7850237860267877,
          -0.6795918095679623,
          0.20639084882099223,
          -0.26178758873939717,
          0.6241950696495573,
          -0.7850237860267877,
          0.20639084882099223,
          0.311709538236302,
          0.20639084882099223,
          -0.6795918095679623,
          0.20639084882099223,
          -0.6795918095679623,
          -0.6795918095679623,
          0.20639084882099223,
          -0.5742731201526527,
          0.20639084882099223,
          0.20639084882099223,
          0.20639084882099223,
          0.311709538236302,
          -0.6795918095679623,
          0.20639084882099223,
          0.10095887236216688,
          0.20639084882099223,
          0.6241950696495573,
          0.20639084882099223,
          -0.6795918095679623,
          0.2551003831234305,
          0.20639084882099223,
          0.20639084882099223,
          -0.6795918095679623,
          0.20639084882099223,
          -0.26178758873939717,
          0.6241950696495573,
          -0.6795918095679623,
          -0.6795918095679623,
          0.20639084882099223,
          -0.6795918095679623,
          0.20639084882099223,
          0.6241950696495573,
          0.20639084882099223,
          0.20639084882099223,
          0.20639084882099223,
          0.6241950696495573,
          0.20639084882099223,
          0.6241950696495573,
          -0.26178758873939717,
          0.20639084882099223,
          0.6241950696495573,
          -0.6795918095679623,
          0.20639084882099223,
          0.20639084882099223,
          0.20639084882099223,
          0.6241950696495573,
          0.20639084882099223,
          0.20639084882099223,
          0.2551003831234305,
          -0.6795918095679623,
          0.20639084882099223,
          0.6241950696495573,
          -0.6795918095679623,
          -0.6795918095679623,
          0.20639084882099223,
          -0.6795918095679623,
          -0.7850237860267877,
          -0.26178758873939717,
          -0.6795918095679623,
          0.6241950696495573,
          0.20639084882099223,
          -0.6795918095679623,
          0.20639084882099223,
          0.10095887236216688,
          -0.5742731201526527,
          -0.6795918095679623,
          -0.6795918095679623,
          -0.21307805443695893,
          0.311709538236302,
          0.20639084882099223,
          0.6241950696495573,
          -0.6795918095679623,
          0.37844634725328313,
          0.6241950696495573,
          0.20639084882099223,
          0.20639084882099223,
          0.20639084882099223,
          0.6241950696495573,
          0.20639084882099223,
          0.6241950696495573,
          -0.6795918095679623,
          0.6241950696495573,
          0.20639084882099223,
          -0.7850237860267877,
          -0.6795918095679623,
          0.2551003831234305,
          -0.26178758873939717,
          0.20639084882099215,
          -0.6795918095679624
         ],
         "z": [
          0.505916424954992,
          0.33097917505821206,
          0.33097917505821206,
          0.6112658599561113,
          0.527233868652566,
          0.33708970897299945,
          0.527233868652566,
          0.33708970897299945,
          0.527233868652566,
          0.33708970897299945,
          0.6055821850652245,
          0.527233868652566,
          0.33097917505821206,
          0.33097917505821206,
          0.33708970897299945,
          0.527233868652566,
          0.5120269588697793,
          0.33097917505821206,
          0.5059164249549919,
          0.33708970897299945,
          0.6112658599561113,
          0.33708970897299945,
          0.527233868652566,
          0.33708970897299945,
          0.527233868652566,
          0.5120269588697793,
          0.33708970897299945,
          0.33097917505821206,
          0.33708970897299945,
          0.33097917505821206,
          0.527233868652566,
          0.5120269588697793,
          0.33097917505821206,
          0.33097917505821206,
          0.33097917505821206,
          0.33708970897299945,
          0.6112658599561113,
          0.33708970897299945,
          0.33097917505821206,
          0.6173763938708986,
          0.33097917505821206,
          0.33097917505821206,
          0.527233868652566,
          0.33097917505821206,
          0.6055821850652245,
          0.33708970897299945,
          0.5059164249549919,
          0.33097917505821206,
          0.4032169575560833,
          0.33097917505821206,
          0.33097917505821206,
          0.33708970897299945,
          0.33097917505821206,
          0.527233868652566,
          0.33708970897299945,
          0.33097917505821206,
          0.5333444025673535,
          0.33708970897299945,
          0.6112658599561113,
          0.6173763938708986,
          0.6173763938708986,
          0.33097917505821206,
          0.33708970897299945,
          0.33097917505821206,
          0.33097917505821206,
          0.5120269588697793,
          0.33097917505821206,
          0.33708970897299945,
          0.33097917505821206,
          0.578154207452863,
          0.33097917505821206,
          0.5120269588697793,
          0.527233868652566,
          0.33097917505821206,
          0.33708970897299945,
          0.33708970897299945,
          0.33708970897299945,
          0.6173763938708986,
          0.33708970897299945,
          0.33708970897299945,
          0.527233868652566,
          0.6055821850652245,
          0.4093274914708707,
          0.33708970897299945,
          0.5333444025673535,
          0.33097917505821206,
          0.33708970897299945,
          0.6112658599561113,
          0.5120269588697793,
          0.6173763938708986,
          0.33708970897299945,
          0.5059164249549919,
          0.33097917505821206,
          0.6112658599561113,
          0.527233868652566,
          0.33708970897299945,
          0.5333444025673535,
          0.33708970897299945,
          0.33708970897299945,
          0.6112658599561113,
          0.33097917505821206,
          0.33708970897299945,
          0.5333444025673535,
          0.527233868652566,
          0.527233868652566,
          0.33097917505821206,
          0.33708970897299945,
          0.33097917505821206,
          0.527233868652566,
          0.33097917505821206,
          0.6112658599561113,
          0.33708970897299945,
          0.33097917505821206,
          0.33097917505821206,
          0.4093274914708707,
          0.33708970897299945,
          0.33097917505821206,
          0.33097917505821206,
          0.5120269588697793,
          0.6112658599561113,
          0.33097917505821206,
          0.33097917505821206,
          0.33708970897299945,
          0.33708970897299945,
          0.33097917505821206,
          0.33708970897299945,
          0.33097917505821206,
          0.33097917505821206,
          0.4032169575560833,
          0.33708970897299945,
          0.33097917505821206,
          0.33097917505821206,
          0.33708970897299945,
          0.33097917505821206,
          0.33708970897299945,
          0.33708970897299945,
          0.33708970897299945,
          0.33097917505821206,
          0.33097917505821206,
          0.6055821850652245,
          0.33708970897299945,
          0.33097917505821206,
          0.33708970897299945,
          0.33097917505821206,
          0.33097917505821206,
          0.33708970897299945,
          0.7113574146821223,
          0.5333444025673535,
          0.33097917505821206,
          0.33097917505821206,
          0.33708970897299945,
          0.5059164249549919,
          0.33097917505821206,
          0.33097917505821206,
          0.33708970897299945,
          0.578154207452863,
          0.6112658599561113,
          0.527233868652566,
          0.33097917505821206,
          0.33097917505821206,
          0.33708970897299945,
          0.6055821850652245,
          0.33708970897299945,
          0.33097917505821206,
          0.527233868652566,
          0.5333444025673535,
          0.527233868652566,
          0.33708970897299945,
          0.33097917505821206,
          0.5994716511504374,
          0.33097917505821206,
          0.5333444025673535,
          0.5059164249549919,
          0.33708970897299945,
          0.33708970897299945,
          0.6173763938708986,
          0.33097917505821206,
          0.33097917505821206,
          0.5333444025673535,
          0.527233868652566,
          0.6173763938708986,
          0.33097917505821206,
          0.33097917505821206,
          0.527233868652566,
          0.33708970897299945,
          0.33097917505821206,
          0.33097917505821206,
          0.33097917505821206,
          0.33097917505821206,
          0.7021711185493461,
          0.33097917505821206,
          0.33097917505821206,
          0.33708970897299945,
          0.33097917505821206,
          0.33097917505821206,
          0.33097917505821206,
          0.6173763938708986,
          0.5120269588697793,
          0.6112658599561113,
          0.33097917505821206,
          0.33097917505821206,
          0.33097917505821206,
          0.33097917505821206,
          0.33097917505821206,
          0.5120269588697793,
          0.33097917505821206,
          0.33708970897299945,
          0.527233868652566,
          0.33097917505821206,
          0.5333444025673535,
          0.33097917505821206,
          0.6173763938708986,
          0.33097917505821206,
          0.33097917505821206,
          0.33097917505821206,
          0.33097917505821206,
          0.5120269588697793,
          0.6173763938708986,
          0.33708970897299945,
          0.33097917505821206,
          0.33708970897299945,
          0.33097917505821206,
          0.33708970897299945,
          0.5333444025673535,
          0.33708970897299945,
          0.5333444025673535,
          0.33708970897299945,
          0.5120269588697793,
          0.33708970897299945,
          0.33097917505821206,
          0.5333444025673535,
          0.527233868652566,
          0.5120269588697793,
          0.33097917505821206,
          0.6112658599561113,
          0.33097917505821206,
          0.33708970897299945,
          0.33097917505821206,
          0.33708970897299945,
          0.33708970897299945,
          0.33097917505821206,
          0.6173763938708986,
          0.33097917505821206,
          0.33097917505821206,
          0.33097917505821206,
          0.6112658599561113,
          0.33708970897299945,
          0.33097917505821206,
          0.5059164249549919,
          0.33097917505821206,
          0.527233868652566,
          0.33097917505821206,
          0.33708970897299945,
          0.4032169575560833,
          0.33097917505821206,
          0.33097917505821206,
          0.33708970897299945,
          0.33097917505821206,
          0.5333444025673535,
          0.527233868652566,
          0.33708970897299945,
          0.33708970897299945,
          0.33097917505821206,
          0.33708970897299945,
          0.33097917505821206,
          0.527233868652566,
          0.33097917505821206,
          0.33097917505821206,
          0.33097917505821206,
          0.527233868652566,
          0.33097917505821206,
          0.527233868652566,
          0.5333444025673535,
          0.33097917505821206,
          0.527233868652566,
          0.33708970897299945,
          0.33097917505821206,
          0.33097917505821206,
          0.33097917505821206,
          0.527233868652566,
          0.33097917505821206,
          0.33097917505821206,
          0.4032169575560833,
          0.33708970897299945,
          0.33097917505821206,
          0.527233868652566,
          0.33708970897299945,
          0.33708970897299945,
          0.33097917505821206,
          0.33708970897299945,
          0.5120269588697793,
          0.5333444025673535,
          0.33708970897299945,
          0.527233868652566,
          0.33097917505821206,
          0.33708970897299945,
          0.33097917505821206,
          0.5059164249549919,
          0.6173763938708986,
          0.33708970897299945,
          0.33708970897299945,
          0.6055821850652245,
          0.6112658599561113,
          0.33097917505821206,
          0.527233868652566,
          0.33708970897299945,
          0.7113574146821223,
          0.527233868652566,
          0.33097917505821206,
          0.33097917505821206,
          0.33097917505821206,
          0.527233868652566,
          0.33097917505821206,
          0.527233868652566,
          0.33708970897299945,
          0.527233868652566,
          0.33097917505821206,
          0.5120269588697793,
          0.33708970897299945,
          0.4032169575560832,
          0.5333444025673535,
          0.33097917505821206,
          0.33708970897299945
         ]
        },
        {
         "hovertemplate": "color=2<br>PC 1 (26.5%)=%{x}<br>PC 2 (20.1%)=%{y}<br>PC 3 (17.9%)=%{z}<extra></extra>",
         "legendgroup": "2",
         "marker": {
          "color": "#00cc96",
          "symbol": "circle"
         },
         "mode": "markers",
         "name": "2",
         "scene": "scene",
         "showlegend": true,
         "type": "scatter3d",
         "x": [
          0.8130604192506111,
          1.5894318076890506,
          0.5498940787394505,
          0.8485328034610836,
          0.3275813973465081,
          0.17385088682328714,
          1.0671056907835952,
          0.7591469277270295,
          1.3150780875735304,
          1.407676498489285,
          0.8242477988549706,
          0.08446501108923288,
          1.1333227783737654,
          1.0316333065731225,
          1.5336509748960414,
          1.2133886157728868,
          1.5894318076890506,
          0.08446501108923288,
          0.9221974765851828,
          1.0428206861774822,
          1.3150780875735304,
          1.1687951625842379,
          1.0671056907835952,
          0.21253580621546095,
          1.431961503095398,
          0.4847932076115091,
          0.08446501108923288,
          0.7348619231209166,
          1.1333227783737654,
          0.6128640027377372,
          0.7348619231209166,
          0.9502222752617266,
          0.39429111541522593,
          0.39429111541522593,
          0.7348619231209166,
          0.9502222752617266,
          1.1576077829798779,
          0.39429111541522593,
          0.7145534745383803,
          0.4482046069388076,
          1.079409286850184,
          1.4431488826997583,
          0.7684669660619621,
          1.8198210575475005,
          1.5336509748960414,
          1.1351901196431928,
          0.8242477988549706,
          0.39429111541522593,
          0.7348619231209166,
          0.9889071946539006,
          0.8608363995276727,
          1.5894318076890506,
          1.1687951625842379,
          1.1039527857849478,
          0.9502222752617266,
          0.7145534745383803,
          0.4482046069388076,
          1.4431488826997583,
          0.8485328034610836,
          1.5336509748960414,
          1.1351901196431928,
          1.0671056907835952,
          1.1687951625842379,
          0.7703343073313892,
          0.8608363995276727,
          0.8295990656694275,
          0.17385088682328714,
          1.1687951625842379,
          0.7348619231209166,
          1.1351901196431928,
          1.5894318076890506,
          1.431961503095398,
          0.9221974765851828,
          1.189103611166774,
          0.8242477988549706,
          0.914749891051254,
          0.33851028262221683,
          1.0671056907835952,
          0.4482046069388076,
          0.8130604192506111,
          0.6478437564696627,
          0.7348619231209166,
          0.4847932076115091,
          0.8242477988549706,
          0.9502222752617266,
          0.4482046069388076,
          1.1576077829798779,
          1.0481719529919389,
          0.3275813973465081,
          0.7703343073313892,
          0.4482046069388076,
          1.407676498489285,
          0.4482046069388076,
          1.5336509748960414,
          0.7279095938687844,
          0.08446501108923288,
          0.9221974765851828,
          0.3588187312047533,
          0.4482046069388076,
          1.2245759953772468,
          1.0481719529919389,
          0.7703343073313892,
          1.1039527857849478,
          1.189103611166774,
          1.5336509748960414,
          0.5498940787394505,
          0.7279095938687844,
          0.8485328034610836,
          0.7927519706680746,
          0.4847932076115091,
          0.8295990656694275,
          0.6478437564696627,
          0.17385088682328714,
          1.322525673107459,
          1.0671056907835952,
          1.3150780875735304,
          1.1039527857849478,
          0.7348619231209166,
          0.33851028262221683,
          0.9221974765851828,
          0.8485328034610836,
          1.189103611166774,
          0.8242477988549706,
          1.5894318076890506,
          0.8485328034610836,
          0.7927519706680746,
          1.5894318076890506,
          1.5894318076890506,
          1.0428206861774822,
          1.3150780875735304,
          0.8608363995276727,
          0.08446501108923288,
          1.0671056907835952,
          0.4482046069388076,
          0.08446501108923288,
          0.33851028262221683,
          0.4847932076115091,
          1.407676498489285,
          0.8295990656694275,
          0.8608363995276727,
          0.7348619231209166,
          1.1576077829798779,
          0.9502222752617266,
          0.7348619231209166,
          0.7703343073313892,
          1.5894318076890506,
          1.189103611166774,
          0.39429111541522593,
          0.8130604192506111,
          1.8198210575475005,
          0.08446501108923288,
          1.1351901196431928,
          0.8242477988549706,
          1.5894318076890506,
          1.407676498489285,
          0.8242477988549706,
          1.1333227783737654,
          0.8242477988549706,
          1.3150780875735304,
          0.3588187312047533,
          1.0316333065731225,
          0.8608363995276727,
          1.1576077829798779,
          0.4847932076115091,
          1.189103611166774
         ],
         "y": [
          -0.6309955623090396,
          -0.10623388418222739,
          0.31323501907572376,
          -0.2619008757829127,
          -0.7363142517243493,
          0.2062775617774765,
          -0.19516406676593123,
          -0.10775936502164928,
          0.7797487742067274,
          -0.45730129599381125,
          -0.5727476393132307,
          0.36041907253874006,
          0.4286813623951435,
          -0.5642587532920583,
          0.8464855832237087,
          -0.2131913414804746,
          -0.10623388418222739,
          0.36041907253874006,
          -0.5626199854091207,
          -0.5060108302962493,
          0.7797487742067274,
          0.7977760489212703,
          -0.19516406676593123,
          -0.5075363111356714,
          -0.14645453246349313,
          0.7782232933673052,
          0.36041907253874006,
          -0.4186061285519672,
          0.4286813623951435,
          -0.089732090307106,
          -0.4186061285519672,
          0.731039239904289,
          -0.15646889932408747,
          -0.15646889932408747,
          -0.4186061285519672,
          0.731039239904289,
          0.7395281259254616,
          -0.15646889932408747,
          0.9032080253800959,
          -0.6797050966114779,
          0.9519175596825341,
          -0.08820660946768406,
          0.37997182809270535,
          -0.03983767796756205,
          0.8464855832237087,
          -0.000801907723402032,
          -0.5727476393132307,
          -0.15646889932408747,
          -0.4186061285519672,
          0.0172253669911413,
          0.8851807506655524,
          -0.10623388418222739,
          0.7977760489212703,
          -0.21155257359753699,
          0.731039239904289,
          0.9032080253800959,
          -0.6797050966114779,
          -0.08820660946768406,
          -0.2619008757829127,
          0.8464855832237087,
          -0.000801907723402032,
          -0.19516406676593123,
          0.7977760489212703,
          -0.049511442025840256,
          0.8851807506655524,
          0.6744300847914177,
          0.2062775617774765,
          0.7977760489212703,
          -0.4186061285519672,
          -0.000801907723402032,
          -0.10623388418222739,
          -0.14645453246349313,
          -0.5626199854091207,
          -0.5240381050107925,
          -0.5727476393132307,
          0.36194455337816195,
          0.7962505680818487,
          -0.19516406676593123,
          -0.6797050966114779,
          -0.6309955623090399,
          0.32336267297983395,
          -0.4186061285519672,
          0.7782232933673052,
          -0.5727476393132307,
          0.731039239904289,
          -0.6797050966114779,
          0.7395281259254616,
          0.7411668938083993,
          -0.7363142517243493,
          -0.049511442025840256,
          -0.6797050966114779,
          -0.45730129599381125,
          -0.6797050966114779,
          0.8464855832237087,
          -0.31851003089578417,
          0.36041907253874006,
          -0.5626199854091207,
          -0.5255635858502145,
          -0.6797050966114779,
          -0.15494341848466556,
          0.7411668938083993,
          -0.049511442025840256,
          -0.21155257359753699,
          -0.5240381050107925,
          0.8464855832237087,
          0.31323501907572376,
          -0.31851003089578417,
          -0.2619008757829127,
          0.6908185916230236,
          0.7782232933673052,
          0.6744300847914177,
          0.32336267297983395,
          0.2062775617774765,
          -0.14481576458055537,
          -0.19516406676593123,
          0.7797487742067274,
          -0.21155257359753699,
          -0.4186061285519672,
          0.7962505680818487,
          -0.5626199854091207,
          -0.2619008757829127,
          -0.5240381050107925,
          -0.5727476393132307,
          -0.10623388418222739,
          -0.2619008757829127,
          0.6908185916230236,
          -0.10623388418222739,
          -0.10623388418222739,
          -0.5060108302962493,
          0.7797487742067274,
          0.8851807506655524,
          0.36041907253874006,
          -0.19516406676593123,
          -0.6797050966114779,
          0.36041907253874006,
          0.7962505680818487,
          0.7782232933673052,
          -0.45730129599381125,
          0.6744300847914177,
          0.8851807506655524,
          -0.4186061285519672,
          0.7395281259254616,
          0.731039239904289,
          -0.4186061285519672,
          -0.049511442025840256,
          -0.10623388418222739,
          -0.5240381050107925,
          -0.15646889932408747,
          -0.6309955623090399,
          -0.03983767796756205,
          0.36041907253874006,
          -0.000801907723402032,
          -0.5727476393132307,
          -0.10623388418222739,
          -0.45730129599381125,
          -0.5727476393132307,
          0.4286813623951435,
          -0.5727476393132307,
          0.7797487742067274,
          -0.5255635858502145,
          -0.5642587532920583,
          0.8851807506655524,
          0.7395281259254616,
          0.7782232933673052,
          -0.5240381050107925
         ],
         "z": [
          0.8645514262655495,
          0.1459067843852552,
          -0.12869622562175706,
          0.9885683373620326,
          0.5842647413676503,
          0.786203109852891,
          1.0886598920880435,
          0.8858688699631236,
          0.1397962504704681,
          0.04974364551691205,
          -0.12258569170696978,
          0.6835036424539825,
          0.04363311160212492,
          0.9646429809915603,
          0.239887805196479,
          1.0608061198599033,
          0.1459067843852552,
          0.6835036424539825,
          -0.230543039380987,
          -0.02249413698095884,
          0.1397962504704681,
          0.16765002269860776,
          1.0886598920880435,
          0.7174679485969094,
          1.1608976745859143,
          0.8797583360483365,
          0.6835036424539825,
          -0.22528515910587857,
          0.04363311160212492,
          0.9137226421912635,
          -0.22528515910587857,
          0.06755846797259701,
          0.8136310874652526,
          0.8136310874652526,
          -0.22528515910587857,
          0.06755846797259701,
          1.1547871406711272,
          0.8136310874652526,
          -0.007287227198172032,
          0.7923136437676782,
          0.06495055529969919,
          0.173760556613395,
          -0.02860467089574612,
          0.24838138030419932,
          0.239887805196479,
          -0.02903046551152441,
          -0.12258569170696978,
          0.8136310874652526,
          -0.22528515910587857,
          -0.0011766932833846937,
          -0.03514099942631166,
          0.1459067843852552,
          0.16765002269860776,
          -0.13437990051264384,
          0.06755846797259701,
          -0.007287227198172032,
          0.7923136437676782,
          0.173760556613395,
          0.9885683373620326,
          0.239887805196479,
          -0.02903046551152441,
          1.0886598920880435,
          0.16765002269860776,
          -0.10126824800939563,
          -0.03514099942631166,
          -0.1404904344274311,
          0.786203109852891,
          0.16765002269860776,
          -0.22528515910587857,
          -0.02903046551152441,
          0.1459067843852552,
          1.1608976745859143,
          -0.230543039380987,
          -0.05034790920909872,
          -0.12258569170696978,
          -0.056458443123885885,
          0.9076121082764762,
          1.0886598920880435,
          0.7923136437676782,
          0.8645514262655495,
          -0.23665357329577402,
          -0.22528515910587857,
          0.8797583360483365,
          -0.12258569170696978,
          0.06755846797259701,
          0.7923136437676782,
          1.1547871406711272,
          -0.04039887970142005,
          0.5842647413676503,
          -0.10126824800939563,
          0.7923136437676782,
          0.04974364551691205,
          0.7923136437676782,
          0.239887805196479,
          0.7805194349620044,
          0.6835036424539825,
          -0.230543039380987,
          0.6896141763687696,
          0.7923136437676782,
          0.0736690018873842,
          -0.04039887970142005,
          -0.10126824800939563,
          -0.13437990051264384,
          -0.05034790920909872,
          0.239887805196479,
          -0.12869622562175706,
          0.7805194349620044,
          0.9885683373620326,
          1.0825493581732561,
          0.8797583360483365,
          -0.1404904344274311,
          -0.23665357329577402,
          0.786203109852891,
          -0.034288345786632896,
          1.0886598920880435,
          0.1397962504704681,
          -0.13437990051264384,
          -0.22528515910587857,
          0.9076121082764762,
          -0.230543039380987,
          0.9885683373620326,
          -0.05034790920909872,
          -0.12258569170696978,
          0.1459067843852552,
          0.9885683373620326,
          1.0825493581732561,
          0.1459067843852552,
          0.1459067843852552,
          -0.02249413698095884,
          0.1397962504704681,
          -0.03514099942631166,
          0.6835036424539825,
          1.0886598920880435,
          0.7923136437676782,
          0.6835036424539825,
          0.9076121082764762,
          0.8797583360483365,
          0.04974364551691205,
          -0.1404904344274311,
          -0.03514099942631166,
          -0.22528515910587857,
          1.1547871406711272,
          0.06755846797259701,
          -0.22528515910587857,
          -0.10126824800939563,
          0.1459067843852552,
          -0.05034790920909872,
          0.8136310874652526,
          0.8645514262655495,
          0.24838138030419932,
          0.6835036424539825,
          -0.02903046551152441,
          -0.12258569170696978,
          0.1459067843852552,
          0.04974364551691205,
          -0.12258569170696978,
          0.04363311160212492,
          -0.12258569170696978,
          0.1397962504704681,
          0.6896141763687696,
          0.9646429809915603,
          -0.03514099942631166,
          1.1547871406711272,
          0.8797583360483365,
          -0.05034790920909871
         ]
        },
        {
         "hovertemplate": "color=0<br>PC 1 (26.5%)=%{x}<br>PC 2 (20.1%)=%{y}<br>PC 3 (17.9%)=%{z}<extra></extra>",
         "legendgroup": "0",
         "marker": {
          "color": "#ab63fa",
          "symbol": "circle"
         },
         "mode": "markers",
         "name": "0",
         "scene": "scene",
         "showlegend": true,
         "type": "scatter3d",
         "x": [
          -0.11547291109498985,
          -0.11547291109498985,
          0.7390969734731443,
          0.3387687769508681,
          -0.11547291109498985,
          -0.11547291109498985,
          -0.11547291109498985,
          0.2848552854272864,
          -0.11547291109498985,
          0.7390969734731443,
          -0.11547291109498985,
          -0.11547291109498985,
          -0.11547291109498985,
          0.3700061108091132,
          0.3700061108091132,
          -0.11547291109498985,
          -0.11547291109498985,
          0.7390969734731443,
          -0.11547291109498985,
          0.3700061108091132,
          -0.11547291109498985,
          0.7390969734731443,
          0.2848552854272864,
          0.2848552854272864,
          0.5573416642733793,
          -0.11547291109498985,
          -0.11547291109498985,
          0.6497110977390901,
          -0.11547291109498985,
          0.3700061108091132,
          0.6497110977390901,
          0.3700061108091132,
          -0.11547291109498985,
          0.2848552854272864,
          -0.11547291109498985,
          0.3700061108091132,
          0.3700061108091132,
          -0.11547291109498985,
          0.3700061108091132,
          -0.11547291109498985,
          0.3700061108091132,
          -0.11547291109498985,
          0.5573416642733793,
          0.7390969734731443,
          0.3700061108091132,
          0.2848552854272864,
          -0.11547291109498985,
          0.6497110977390901,
          0.5573416642733793,
          0.3387687769508681,
          -0.11547291109498985,
          0.7390969734731443,
          -0.11547291109498985,
          0.3387687769508681,
          0.6497110977390901,
          0.24938290121681375,
          -0.11547291109498985,
          0.24938290121681375,
          -0.11547291109498985,
          0.3700061108091132,
          0.24938290121681375,
          -0.11547291109498985,
          0.7390969734731443,
          -0.11547291109498985,
          -0.11547291109498985,
          -0.11547291109498985,
          -0.11547291109498985,
          -0.11547291109498985,
          -0.11547291109498985,
          0.3387687769508681,
          0.3700061108091132,
          0.2848552854272864,
          -0.11547291109498985,
          -0.11547291109498985,
          -0.11547291109498985,
          -0.11547291109498985,
          0.3387687769508681,
          0.3387687769508681,
          -0.11547291109498985,
          0.7390969734731443,
          -0.11547291109498985,
          -0.11547291109498985,
          -0.11547291109498985,
          -0.11547291109498985,
          -0.11547291109498985,
          -0.11547291109498985,
          -0.11547291109498985,
          -0.11547291109498985,
          0.3700061108091132,
          0.24938290121681375,
          0.2848552854272864,
          0.3387687769508681,
          -0.11547291109498985,
          -0.11547291109498985,
          -0.11547291109498985,
          0.7390969734731443,
          0.3387687769508681,
          -0.11547291109498985,
          0.3387687769508681,
          0.3387687769508681,
          0.6497110977390901,
          -0.11547291109498985,
          -0.11547291109498985,
          -0.11547291109498985,
          0.3700061108091132,
          0.7390969734731443,
          -0.11547291109498985,
          -0.11547291109498985,
          -0.11547291109498985,
          -0.11547291109498985,
          0.7390969734731443,
          -0.11547291109498985,
          0.2848552854272864,
          -0.11547291109498985,
          0.24938290121681375,
          0.3387687769508681,
          0.24938290121681375,
          0.5885789981316245,
          -0.11547291109498985,
          0.7390969734731443,
          0.2848552854272864,
          -0.11547291109498985,
          0.2848552854272864,
          -0.11547291109498985,
          0.24938290121681375,
          -0.11547291109498985,
          0.3700061108091132,
          -0.11547291109498985,
          0.6497110977390901,
          -0.11547291109498985,
          0.3700061108091132,
          -0.11547291109498985,
          0.3700061108091132,
          0.2848552854272864,
          -0.11547291109498985,
          -0.11547291109498985,
          0.7390969734731443,
          -0.11547291109498985,
          -0.11547291109498985,
          0.3387687769508681,
          0.3700061108091132,
          0.5573416642733793,
          -0.11547291109498985,
          0.3700061108091132,
          0.2848552854272864,
          -0.11547291109498985,
          0.3387687769508681,
          0.6497110977390901,
          0.3387687769508681,
          0.3387687769508681,
          0.3700061108091132,
          0.24938290121681375,
          -0.11547291109498985,
          0.7390969734731443,
          -0.11547291109498985,
          0.24938290121681375,
          0.24938290121681375,
          -0.11547291109498985,
          -0.11547291109498985,
          0.7036245892626718,
          0.3387687769508681,
          -0.11547291109498985,
          0.7390969734731443,
          -0.11547291109498985,
          0.6497110977390901,
          -0.11547291109498985,
          0.2848552854272864,
          0.24938290121681375,
          -0.11547291109498985,
          -0.11547291109498985,
          -0.11547291109498985,
          0.24938290121681375,
          -0.11547291109498985,
          -0.11547291109498985,
          -0.11547291109498985,
          -0.11547291109498985,
          -0.11547291109498985,
          -0.11547291109498985,
          -0.11547291109498985,
          0.3387687769508681,
          -0.11547291109498985,
          -0.11547291109498985,
          0.7036245892626718,
          -0.11547291109498985,
          0.24938290121681375,
          -0.1154729110949898,
          0.2848552854272864,
          -0.1154729110949898,
          -0.1154729110949898
         ],
         "y": [
          -0.572634352269715,
          -0.572634352269715,
          -0.2602621078999751,
          -0.6780663287285403,
          -0.572634352269715,
          -0.572634352269715,
          -0.572634352269715,
          -0.15483013144114985,
          -0.572634352269715,
          -0.2602621078999751,
          -0.572634352269715,
          -0.572634352269715,
          -0.572634352269715,
          -0.46731566285440557,
          -0.46731566285440557,
          -0.572634352269715,
          -0.572634352269715,
          -0.2602621078999751,
          -0.572634352269715,
          -0.46731566285440557,
          -0.572634352269715,
          -0.2602621078999751,
          -0.15483013144114985,
          -0.15483013144114985,
          -0.6113295197115589,
          -0.572634352269715,
          -0.572634352269715,
          -0.1061205971387116,
          -0.572634352269715,
          -0.46731566285440557,
          -0.1061205971387116,
          -0.46731566285440557,
          -0.572634352269715,
          -0.15483013144114985,
          -0.572634352269715,
          -0.46731566285440557,
          -0.46731566285440557,
          -0.572634352269715,
          -0.46731566285440557,
          -0.572634352269715,
          -0.46731566285440557,
          -0.572634352269715,
          -0.6113295197115589,
          -0.2602621078999751,
          -0.46731566285440557,
          -0.15483013144114985,
          -0.572634352269715,
          -0.1061205971387116,
          -0.6113295197115589,
          -0.6780663287285403,
          -0.572634352269715,
          -0.2602621078999751,
          -0.572634352269715,
          -0.6780663287285403,
          -0.1061205971387116,
          -0.5239248179672767,
          -0.572634352269715,
          -0.5239248179672767,
          -0.572634352269715,
          -0.46731566285440557,
          -0.5239248179672767,
          -0.572634352269715,
          -0.2602621078999751,
          -0.572634352269715,
          -0.572634352269715,
          -0.572634352269715,
          -0.572634352269715,
          -0.572634352269715,
          -0.572634352269715,
          -0.6780663287285403,
          -0.46731566285440557,
          -0.15483013144114985,
          -0.572634352269715,
          -0.572634352269715,
          -0.572634352269715,
          -0.572634352269715,
          -0.6780663287285403,
          -0.6780663287285403,
          -0.572634352269715,
          -0.2602621078999751,
          -0.572634352269715,
          -0.572634352269715,
          -0.572634352269715,
          -0.572634352269715,
          -0.572634352269715,
          -0.572634352269715,
          -0.572634352269715,
          -0.572634352269715,
          -0.46731566285440557,
          -0.5239248179672767,
          -0.15483013144114985,
          -0.6780663287285403,
          -0.572634352269715,
          -0.572634352269715,
          -0.572634352269715,
          -0.2602621078999751,
          -0.6780663287285403,
          -0.572634352269715,
          -0.6780663287285403,
          -0.6780663287285403,
          -0.1061205971387116,
          -0.572634352269715,
          -0.572634352269715,
          -0.572634352269715,
          -0.46731566285440557,
          -0.2602621078999751,
          -0.572634352269715,
          -0.572634352269715,
          -0.572634352269715,
          -0.572634352269715,
          -0.2602621078999751,
          -0.572634352269715,
          -0.15483013144114985,
          -0.572634352269715,
          -0.5239248179672767,
          -0.6780663287285403,
          -0.5239248179672767,
          -0.40057885383742403,
          -0.572634352269715,
          -0.2602621078999751,
          -0.15483013144114985,
          -0.572634352269715,
          -0.15483013144114985,
          -0.572634352269715,
          -0.5239248179672767,
          -0.572634352269715,
          -0.46731566285440557,
          -0.572634352269715,
          -0.1061205971387116,
          -0.572634352269715,
          -0.46731566285440557,
          -0.572634352269715,
          -0.46731566285440557,
          -0.15483013144114985,
          -0.572634352269715,
          -0.572634352269715,
          -0.2602621078999751,
          -0.572634352269715,
          -0.572634352269715,
          -0.6780663287285403,
          -0.46731566285440557,
          -0.6113295197115589,
          -0.572634352269715,
          -0.46731566285440557,
          -0.15483013144114985,
          -0.572634352269715,
          -0.6780663287285403,
          -0.1061205971387116,
          -0.6780663287285403,
          -0.6780663287285403,
          -0.46731566285440557,
          -0.5239248179672767,
          -0.572634352269715,
          -0.2602621078999751,
          -0.572634352269715,
          -0.5239248179672767,
          -0.5239248179672767,
          -0.572634352269715,
          -0.572634352269715,
          -0.629356794426102,
          -0.6780663287285403,
          -0.572634352269715,
          -0.2602621078999751,
          -0.572634352269715,
          -0.1061205971387116,
          -0.572634352269715,
          -0.15483013144114985,
          -0.5239248179672767,
          -0.572634352269715,
          -0.572634352269715,
          -0.572634352269715,
          -0.5239248179672767,
          -0.572634352269715,
          -0.572634352269715,
          -0.572634352269715,
          -0.572634352269715,
          -0.572634352269715,
          -0.572634352269715,
          -0.572634352269715,
          -0.6780663287285403,
          -0.572634352269715,
          -0.572634352269715,
          -0.629356794426102,
          -0.572634352269715,
          -0.5239248179672767,
          -0.5726343522697152,
          -0.15483013144114985,
          -0.5726343522697152,
          -0.5726343522697152
         ],
         "z": [
          -0.5778096265016488,
          -0.5778096265016488,
          -0.20661768301051486,
          -0.40287237660486896,
          -0.5778096265016488,
          -0.5778096265016488,
          -0.5778096265016488,
          -0.38155493290729486,
          -0.5778096265016488,
          -0.20661768301051486,
          -0.5778096265016488,
          -0.5778096265016488,
          -0.5778096265016488,
          -0.2975229416037497,
          -0.2975229416037497,
          -0.5778096265016488,
          -0.5778096265016488,
          -0.20661768301051486,
          -0.5778096265016488,
          -0.2975229416037497,
          -0.5778096265016488,
          -0.20661768301051486,
          -0.38155493290729486,
          -0.38155493290729486,
          -0.3027808218788579,
          -0.5778096265016488,
          -0.5778096265016488,
          -0.3093171504094236,
          -0.5778096265016488,
          -0.2975229416037497,
          -0.3093171504094236,
          -0.2975229416037497,
          -0.5778096265016488,
          -0.38155493290729486,
          -0.5778096265016488,
          -0.2975229416037497,
          -0.2975229416037497,
          -0.5778096265016488,
          -0.2975229416037497,
          -0.5778096265016488,
          -0.2975229416037497,
          -0.5778096265016488,
          -0.3027808218788579,
          -0.20661768301051486,
          -0.2975229416037497,
          -0.38155493290729486,
          -0.5778096265016488,
          -0.3093171504094236,
          -0.3027808218788579,
          -0.40287237660486896,
          -0.5778096265016488,
          -0.20661768301051486,
          -0.5778096265016488,
          -0.40287237660486896,
          -0.3093171504094236,
          -0.5055718440037777,
          -0.5778096265016488,
          -0.5055718440037777,
          -0.5778096265016488,
          -0.2975229416037497,
          -0.5055718440037777,
          -0.5778096265016488,
          -0.20661768301051486,
          -0.5778096265016488,
          -0.5778096265016488,
          -0.5778096265016488,
          -0.5778096265016488,
          -0.5778096265016488,
          -0.5778096265016488,
          -0.40287237660486896,
          -0.2975229416037497,
          -0.38155493290729486,
          -0.5778096265016488,
          -0.5778096265016488,
          -0.5778096265016488,
          -0.5778096265016488,
          -0.40287237660486896,
          -0.40287237660486896,
          -0.5778096265016488,
          -0.20661768301051486,
          -0.5778096265016488,
          -0.5778096265016488,
          -0.5778096265016488,
          -0.5778096265016488,
          -0.5778096265016488,
          -0.5778096265016488,
          -0.5778096265016488,
          -0.5778096265016488,
          -0.2975229416037497,
          -0.5055718440037777,
          -0.38155493290729486,
          -0.40287237660486896,
          -0.5778096265016488,
          -0.5778096265016488,
          -0.5778096265016488,
          -0.20661768301051486,
          -0.40287237660486896,
          -0.5778096265016488,
          -0.40287237660486896,
          -0.40287237660486896,
          -0.3093171504094236,
          -0.5778096265016488,
          -0.5778096265016488,
          -0.5778096265016488,
          -0.2975229416037497,
          -0.20661768301051486,
          -0.5778096265016488,
          -0.5778096265016488,
          -0.5778096265016488,
          -0.5778096265016488,
          -0.20661768301051486,
          -0.5778096265016488,
          -0.38155493290729486,
          -0.5778096265016488,
          -0.5055718440037777,
          -0.40287237660486896,
          -0.5055718440037777,
          -0.1974313868777387,
          -0.5778096265016488,
          -0.20661768301051486,
          -0.38155493290729486,
          -0.5778096265016488,
          -0.38155493290729486,
          -0.5778096265016488,
          -0.5055718440037777,
          -0.5778096265016488,
          -0.2975229416037497,
          -0.5778096265016488,
          -0.3093171504094236,
          -0.5778096265016488,
          -0.2975229416037497,
          -0.5778096265016488,
          -0.2975229416037497,
          -0.38155493290729486,
          -0.5778096265016488,
          -0.5778096265016488,
          -0.20661768301051486,
          -0.5778096265016488,
          -0.5778096265016488,
          -0.40287237660486896,
          -0.2975229416037497,
          -0.3027808218788579,
          -0.5778096265016488,
          -0.2975229416037497,
          -0.38155493290729486,
          -0.5778096265016488,
          -0.40287237660486896,
          -0.3093171504094236,
          -0.40287237660486896,
          -0.40287237660486896,
          -0.2975229416037497,
          -0.5055718440037777,
          -0.5778096265016488,
          -0.20661768301051486,
          -0.5778096265016488,
          -0.5055718440037777,
          -0.5055718440037777,
          -0.5778096265016488,
          -0.5778096265016488,
          -0.33063459410699775,
          -0.40287237660486896,
          -0.5778096265016488,
          -0.20661768301051486,
          -0.5778096265016488,
          -0.3093171504094236,
          -0.5778096265016488,
          -0.38155493290729486,
          -0.5055718440037777,
          -0.5778096265016488,
          -0.5778096265016488,
          -0.5778096265016488,
          -0.5055718440037777,
          -0.5778096265016488,
          -0.5778096265016488,
          -0.5778096265016488,
          -0.5778096265016488,
          -0.5778096265016488,
          -0.5778096265016488,
          -0.5778096265016488,
          -0.40287237660486896,
          -0.5778096265016488,
          -0.5778096265016488,
          -0.33063459410699775,
          -0.5778096265016488,
          -0.5055718440037777,
          -0.5778096265016488,
          -0.38155493290729486,
          -0.5778096265016488,
          -0.5778096265016488
         ]
        }
       ],
       "layout": {
        "legend": {
         "title": {
          "text": "color"
         },
         "tracegroupgap": 0
        },
        "scene": {
         "domain": {
          "x": [
           0,
           1
          ],
          "y": [
           0,
           1
          ]
         },
         "xaxis": {
          "title": {
           "text": "PC 1 (26.5%)"
          }
         },
         "yaxis": {
          "title": {
           "text": "PC 2 (20.1%)"
          }
         },
         "zaxis": {
          "title": {
           "text": "PC 3 (17.9%)"
          }
         }
        },
        "template": {
         "data": {
          "bar": [
           {
            "error_x": {
             "color": "#2a3f5f"
            },
            "error_y": {
             "color": "#2a3f5f"
            },
            "marker": {
             "line": {
              "color": "#E5ECF6",
              "width": 0.5
             },
             "pattern": {
              "fillmode": "overlay",
              "size": 10,
              "solidity": 0.2
             }
            },
            "type": "bar"
           }
          ],
          "barpolar": [
           {
            "marker": {
             "line": {
              "color": "#E5ECF6",
              "width": 0.5
             },
             "pattern": {
              "fillmode": "overlay",
              "size": 10,
              "solidity": 0.2
             }
            },
            "type": "barpolar"
           }
          ],
          "carpet": [
           {
            "aaxis": {
             "endlinecolor": "#2a3f5f",
             "gridcolor": "white",
             "linecolor": "white",
             "minorgridcolor": "white",
             "startlinecolor": "#2a3f5f"
            },
            "baxis": {
             "endlinecolor": "#2a3f5f",
             "gridcolor": "white",
             "linecolor": "white",
             "minorgridcolor": "white",
             "startlinecolor": "#2a3f5f"
            },
            "type": "carpet"
           }
          ],
          "choropleth": [
           {
            "colorbar": {
             "outlinewidth": 0,
             "ticks": ""
            },
            "type": "choropleth"
           }
          ],
          "contour": [
           {
            "colorbar": {
             "outlinewidth": 0,
             "ticks": ""
            },
            "colorscale": [
             [
              0,
              "#0d0887"
             ],
             [
              0.1111111111111111,
              "#46039f"
             ],
             [
              0.2222222222222222,
              "#7201a8"
             ],
             [
              0.3333333333333333,
              "#9c179e"
             ],
             [
              0.4444444444444444,
              "#bd3786"
             ],
             [
              0.5555555555555556,
              "#d8576b"
             ],
             [
              0.6666666666666666,
              "#ed7953"
             ],
             [
              0.7777777777777778,
              "#fb9f3a"
             ],
             [
              0.8888888888888888,
              "#fdca26"
             ],
             [
              1,
              "#f0f921"
             ]
            ],
            "type": "contour"
           }
          ],
          "contourcarpet": [
           {
            "colorbar": {
             "outlinewidth": 0,
             "ticks": ""
            },
            "type": "contourcarpet"
           }
          ],
          "heatmap": [
           {
            "colorbar": {
             "outlinewidth": 0,
             "ticks": ""
            },
            "colorscale": [
             [
              0,
              "#0d0887"
             ],
             [
              0.1111111111111111,
              "#46039f"
             ],
             [
              0.2222222222222222,
              "#7201a8"
             ],
             [
              0.3333333333333333,
              "#9c179e"
             ],
             [
              0.4444444444444444,
              "#bd3786"
             ],
             [
              0.5555555555555556,
              "#d8576b"
             ],
             [
              0.6666666666666666,
              "#ed7953"
             ],
             [
              0.7777777777777778,
              "#fb9f3a"
             ],
             [
              0.8888888888888888,
              "#fdca26"
             ],
             [
              1,
              "#f0f921"
             ]
            ],
            "type": "heatmap"
           }
          ],
          "heatmapgl": [
           {
            "colorbar": {
             "outlinewidth": 0,
             "ticks": ""
            },
            "colorscale": [
             [
              0,
              "#0d0887"
             ],
             [
              0.1111111111111111,
              "#46039f"
             ],
             [
              0.2222222222222222,
              "#7201a8"
             ],
             [
              0.3333333333333333,
              "#9c179e"
             ],
             [
              0.4444444444444444,
              "#bd3786"
             ],
             [
              0.5555555555555556,
              "#d8576b"
             ],
             [
              0.6666666666666666,
              "#ed7953"
             ],
             [
              0.7777777777777778,
              "#fb9f3a"
             ],
             [
              0.8888888888888888,
              "#fdca26"
             ],
             [
              1,
              "#f0f921"
             ]
            ],
            "type": "heatmapgl"
           }
          ],
          "histogram": [
           {
            "marker": {
             "pattern": {
              "fillmode": "overlay",
              "size": 10,
              "solidity": 0.2
             }
            },
            "type": "histogram"
           }
          ],
          "histogram2d": [
           {
            "colorbar": {
             "outlinewidth": 0,
             "ticks": ""
            },
            "colorscale": [
             [
              0,
              "#0d0887"
             ],
             [
              0.1111111111111111,
              "#46039f"
             ],
             [
              0.2222222222222222,
              "#7201a8"
             ],
             [
              0.3333333333333333,
              "#9c179e"
             ],
             [
              0.4444444444444444,
              "#bd3786"
             ],
             [
              0.5555555555555556,
              "#d8576b"
             ],
             [
              0.6666666666666666,
              "#ed7953"
             ],
             [
              0.7777777777777778,
              "#fb9f3a"
             ],
             [
              0.8888888888888888,
              "#fdca26"
             ],
             [
              1,
              "#f0f921"
             ]
            ],
            "type": "histogram2d"
           }
          ],
          "histogram2dcontour": [
           {
            "colorbar": {
             "outlinewidth": 0,
             "ticks": ""
            },
            "colorscale": [
             [
              0,
              "#0d0887"
             ],
             [
              0.1111111111111111,
              "#46039f"
             ],
             [
              0.2222222222222222,
              "#7201a8"
             ],
             [
              0.3333333333333333,
              "#9c179e"
             ],
             [
              0.4444444444444444,
              "#bd3786"
             ],
             [
              0.5555555555555556,
              "#d8576b"
             ],
             [
              0.6666666666666666,
              "#ed7953"
             ],
             [
              0.7777777777777778,
              "#fb9f3a"
             ],
             [
              0.8888888888888888,
              "#fdca26"
             ],
             [
              1,
              "#f0f921"
             ]
            ],
            "type": "histogram2dcontour"
           }
          ],
          "mesh3d": [
           {
            "colorbar": {
             "outlinewidth": 0,
             "ticks": ""
            },
            "type": "mesh3d"
           }
          ],
          "parcoords": [
           {
            "line": {
             "colorbar": {
              "outlinewidth": 0,
              "ticks": ""
             }
            },
            "type": "parcoords"
           }
          ],
          "pie": [
           {
            "automargin": true,
            "type": "pie"
           }
          ],
          "scatter": [
           {
            "fillpattern": {
             "fillmode": "overlay",
             "size": 10,
             "solidity": 0.2
            },
            "type": "scatter"
           }
          ],
          "scatter3d": [
           {
            "line": {
             "colorbar": {
              "outlinewidth": 0,
              "ticks": ""
             }
            },
            "marker": {
             "colorbar": {
              "outlinewidth": 0,
              "ticks": ""
             }
            },
            "type": "scatter3d"
           }
          ],
          "scattercarpet": [
           {
            "marker": {
             "colorbar": {
              "outlinewidth": 0,
              "ticks": ""
             }
            },
            "type": "scattercarpet"
           }
          ],
          "scattergeo": [
           {
            "marker": {
             "colorbar": {
              "outlinewidth": 0,
              "ticks": ""
             }
            },
            "type": "scattergeo"
           }
          ],
          "scattergl": [
           {
            "marker": {
             "colorbar": {
              "outlinewidth": 0,
              "ticks": ""
             }
            },
            "type": "scattergl"
           }
          ],
          "scattermapbox": [
           {
            "marker": {
             "colorbar": {
              "outlinewidth": 0,
              "ticks": ""
             }
            },
            "type": "scattermapbox"
           }
          ],
          "scatterpolar": [
           {
            "marker": {
             "colorbar": {
              "outlinewidth": 0,
              "ticks": ""
             }
            },
            "type": "scatterpolar"
           }
          ],
          "scatterpolargl": [
           {
            "marker": {
             "colorbar": {
              "outlinewidth": 0,
              "ticks": ""
             }
            },
            "type": "scatterpolargl"
           }
          ],
          "scatterternary": [
           {
            "marker": {
             "colorbar": {
              "outlinewidth": 0,
              "ticks": ""
             }
            },
            "type": "scatterternary"
           }
          ],
          "surface": [
           {
            "colorbar": {
             "outlinewidth": 0,
             "ticks": ""
            },
            "colorscale": [
             [
              0,
              "#0d0887"
             ],
             [
              0.1111111111111111,
              "#46039f"
             ],
             [
              0.2222222222222222,
              "#7201a8"
             ],
             [
              0.3333333333333333,
              "#9c179e"
             ],
             [
              0.4444444444444444,
              "#bd3786"
             ],
             [
              0.5555555555555556,
              "#d8576b"
             ],
             [
              0.6666666666666666,
              "#ed7953"
             ],
             [
              0.7777777777777778,
              "#fb9f3a"
             ],
             [
              0.8888888888888888,
              "#fdca26"
             ],
             [
              1,
              "#f0f921"
             ]
            ],
            "type": "surface"
           }
          ],
          "table": [
           {
            "cells": {
             "fill": {
              "color": "#EBF0F8"
             },
             "line": {
              "color": "white"
             }
            },
            "header": {
             "fill": {
              "color": "#C8D4E3"
             },
             "line": {
              "color": "white"
             }
            },
            "type": "table"
           }
          ]
         },
         "layout": {
          "annotationdefaults": {
           "arrowcolor": "#2a3f5f",
           "arrowhead": 0,
           "arrowwidth": 1
          },
          "autotypenumbers": "strict",
          "coloraxis": {
           "colorbar": {
            "outlinewidth": 0,
            "ticks": ""
           }
          },
          "colorscale": {
           "diverging": [
            [
             0,
             "#8e0152"
            ],
            [
             0.1,
             "#c51b7d"
            ],
            [
             0.2,
             "#de77ae"
            ],
            [
             0.3,
             "#f1b6da"
            ],
            [
             0.4,
             "#fde0ef"
            ],
            [
             0.5,
             "#f7f7f7"
            ],
            [
             0.6,
             "#e6f5d0"
            ],
            [
             0.7,
             "#b8e186"
            ],
            [
             0.8,
             "#7fbc41"
            ],
            [
             0.9,
             "#4d9221"
            ],
            [
             1,
             "#276419"
            ]
           ],
           "sequential": [
            [
             0,
             "#0d0887"
            ],
            [
             0.1111111111111111,
             "#46039f"
            ],
            [
             0.2222222222222222,
             "#7201a8"
            ],
            [
             0.3333333333333333,
             "#9c179e"
            ],
            [
             0.4444444444444444,
             "#bd3786"
            ],
            [
             0.5555555555555556,
             "#d8576b"
            ],
            [
             0.6666666666666666,
             "#ed7953"
            ],
            [
             0.7777777777777778,
             "#fb9f3a"
            ],
            [
             0.8888888888888888,
             "#fdca26"
            ],
            [
             1,
             "#f0f921"
            ]
           ],
           "sequentialminus": [
            [
             0,
             "#0d0887"
            ],
            [
             0.1111111111111111,
             "#46039f"
            ],
            [
             0.2222222222222222,
             "#7201a8"
            ],
            [
             0.3333333333333333,
             "#9c179e"
            ],
            [
             0.4444444444444444,
             "#bd3786"
            ],
            [
             0.5555555555555556,
             "#d8576b"
            ],
            [
             0.6666666666666666,
             "#ed7953"
            ],
            [
             0.7777777777777778,
             "#fb9f3a"
            ],
            [
             0.8888888888888888,
             "#fdca26"
            ],
            [
             1,
             "#f0f921"
            ]
           ]
          },
          "colorway": [
           "#636efa",
           "#EF553B",
           "#00cc96",
           "#ab63fa",
           "#FFA15A",
           "#19d3f3",
           "#FF6692",
           "#B6E880",
           "#FF97FF",
           "#FECB52"
          ],
          "font": {
           "color": "#2a3f5f"
          },
          "geo": {
           "bgcolor": "white",
           "lakecolor": "white",
           "landcolor": "#E5ECF6",
           "showlakes": true,
           "showland": true,
           "subunitcolor": "white"
          },
          "hoverlabel": {
           "align": "left"
          },
          "hovermode": "closest",
          "mapbox": {
           "style": "light"
          },
          "paper_bgcolor": "white",
          "plot_bgcolor": "#E5ECF6",
          "polar": {
           "angularaxis": {
            "gridcolor": "white",
            "linecolor": "white",
            "ticks": ""
           },
           "bgcolor": "#E5ECF6",
           "radialaxis": {
            "gridcolor": "white",
            "linecolor": "white",
            "ticks": ""
           }
          },
          "scene": {
           "xaxis": {
            "backgroundcolor": "#E5ECF6",
            "gridcolor": "white",
            "gridwidth": 2,
            "linecolor": "white",
            "showbackground": true,
            "ticks": "",
            "zerolinecolor": "white"
           },
           "yaxis": {
            "backgroundcolor": "#E5ECF6",
            "gridcolor": "white",
            "gridwidth": 2,
            "linecolor": "white",
            "showbackground": true,
            "ticks": "",
            "zerolinecolor": "white"
           },
           "zaxis": {
            "backgroundcolor": "#E5ECF6",
            "gridcolor": "white",
            "gridwidth": 2,
            "linecolor": "white",
            "showbackground": true,
            "ticks": "",
            "zerolinecolor": "white"
           }
          },
          "shapedefaults": {
           "line": {
            "color": "#2a3f5f"
           }
          },
          "ternary": {
           "aaxis": {
            "gridcolor": "white",
            "linecolor": "white",
            "ticks": ""
           },
           "baxis": {
            "gridcolor": "white",
            "linecolor": "white",
            "ticks": ""
           },
           "bgcolor": "#E5ECF6",
           "caxis": {
            "gridcolor": "white",
            "linecolor": "white",
            "ticks": ""
           }
          },
          "title": {
           "x": 0.05
          },
          "xaxis": {
           "automargin": true,
           "gridcolor": "white",
           "linecolor": "white",
           "ticks": "",
           "title": {
            "standoff": 15
           },
           "zerolinecolor": "white",
           "zerolinewidth": 2
          },
          "yaxis": {
           "automargin": true,
           "gridcolor": "white",
           "linecolor": "white",
           "ticks": "",
           "title": {
            "standoff": 15
           },
           "zerolinecolor": "white",
           "zerolinewidth": 2
          }
         }
        },
        "title": {
         "text": "Total Explained Variance: 64.52%"
        }
       }
      }
     },
     "metadata": {},
     "output_type": "display_data"
    }
   ],
   "source": [
    "pca = PCA(n_components=3)\n",
    "\n",
    "components = pca.fit_transform(df_ressources.drop(columns=['cluster']))\n",
    "\n",
    "total_var = pca.explained_variance_ratio_.sum() * 100\n",
    "\n",
    "labels = {\n",
    "    str(i): f\"PC {i+1} ({var:.1f}%)\"\n",
    "    for i, var in enumerate(pca.explained_variance_ratio_ * 100)\n",
    "}\n",
    "\n",
    "fig = px.scatter_3d(components, x=0, y=1, z=2, color=df_ressources[\"cluster\"], title=f'Total Explained Variance: {total_var:.2f}%', labels=labels)\n",
    "fig.show()"
   ]
  },
  {
   "attachments": {},
   "cell_type": "markdown",
   "metadata": {},
   "source": [
    "En passant à une visualisation 3D qui est souvent dure à interpréter, nous passons à une variance totale expliquée de 64.52%. On voit que la séparation des clusters est meilleure qu'en 2 dimensions. On a recouru à un graphique en 3 dimensions pour nous assurer que les clusters ont bien été faits et avoir une représentation graphique "
   ]
  },
  {
   "attachments": {},
   "cell_type": "markdown",
   "metadata": {},
   "source": [
    "### Création de la colonne `Accés aux ressources`\n",
    "\n",
    "Nous allons maintenant procéder à la création de cette colonne pour ensuite l'enregistrer dans un csv qui pourra être utilisé dans l'analyse générale"
   ]
  },
  {
   "cell_type": "code",
   "execution_count": 15,
   "metadata": {},
   "outputs": [
    {
     "data": {
      "text/html": [
       "<div>\n",
       "<style scoped>\n",
       "    .dataframe tbody tr th:only-of-type {\n",
       "        vertical-align: middle;\n",
       "    }\n",
       "\n",
       "    .dataframe tbody tr th {\n",
       "        vertical-align: top;\n",
       "    }\n",
       "\n",
       "    .dataframe thead th {\n",
       "        text-align: right;\n",
       "    }\n",
       "</style>\n",
       "<table border=\"1\" class=\"dataframe\">\n",
       "  <thead>\n",
       "    <tr style=\"text-align: right;\">\n",
       "      <th></th>\n",
       "      <th>acces_ressources</th>\n",
       "    </tr>\n",
       "    <tr>\n",
       "      <th>Code_UAI</th>\n",
       "      <th></th>\n",
       "    </tr>\n",
       "  </thead>\n",
       "  <tbody>\n",
       "    <tr>\n",
       "      <th>0810016C</th>\n",
       "      <td>Bien</td>\n",
       "    </tr>\n",
       "    <tr>\n",
       "      <th>0810026N</th>\n",
       "      <td>Bien</td>\n",
       "    </tr>\n",
       "    <tr>\n",
       "      <th>0810041E</th>\n",
       "      <td>Très bien</td>\n",
       "    </tr>\n",
       "    <tr>\n",
       "      <th>0810124V</th>\n",
       "      <td>Bien</td>\n",
       "    </tr>\n",
       "    <tr>\n",
       "      <th>0810125W</th>\n",
       "      <td>Mauvais</td>\n",
       "    </tr>\n",
       "  </tbody>\n",
       "</table>\n",
       "</div>"
      ],
      "text/plain": [
       "         acces_ressources\n",
       "Code_UAI                 \n",
       "0810016C             Bien\n",
       "0810026N             Bien\n",
       "0810041E        Très bien\n",
       "0810124V             Bien\n",
       "0810125W          Mauvais"
      ]
     },
     "execution_count": 15,
     "metadata": {},
     "output_type": "execute_result"
    }
   ],
   "source": [
    "df_ressources_final = pd.DataFrame(df_ressources.cluster.astype(str).replace({\"0\":\"Assez bien\", \"1\": \"Très bien\", \"3\": \"Bien\", \"2\": \"Mauvais\"}))\n",
    "df_ressources_final.rename(columns={\"cluster\": \"acces_ressources\"}, inplace=True)\n",
    "\n",
    "df_ressources_final.head()"
   ]
  },
  {
   "attachments": {},
   "cell_type": "markdown",
   "metadata": {},
   "source": [
    "On va stocker cela dans un fichier csv"
   ]
  },
  {
   "cell_type": "code",
   "execution_count": 16,
   "metadata": {},
   "outputs": [],
   "source": [
    "df_ressources_final.to_csv(\"../data/analyses/acces_ressources.csv\", index=True, sep=';')"
   ]
  }
 ],
 "metadata": {
  "kernelspec": {
   "display_name": "Python 3",
   "language": "python",
   "name": "python3"
  },
  "language_info": {
   "codemirror_mode": {
    "name": "ipython",
    "version": 3
   },
   "file_extension": ".py",
   "mimetype": "text/x-python",
   "name": "python",
   "nbconvert_exporter": "python",
   "pygments_lexer": "ipython3",
   "version": "3.10.9"
  },
  "orig_nbformat": 4,
  "vscode": {
   "interpreter": {
    "hash": "2349f8cba88a5b2d1d390f83a8a5748abc4e6656a2f4a0a7bc22dd7876009b29"
   }
  }
 },
 "nbformat": 4,
 "nbformat_minor": 2
}
