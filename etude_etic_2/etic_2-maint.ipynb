{
 "cells": [
  {
   "attachments": {},
   "cell_type": "markdown",
   "metadata": {},
   "source": [
    "# **Etude des différents types de maintenance**\n",
    "\n",
    "Le but ici est d'étudier toutes les colonnes traitant de la maintenance pour pouvoir réduire cela en une seule colonne qui va nous servir pour la formule finale du score ETIC. Au début, nous pensions qu'une ACM pouvait nous permettre de catégoriser et savoir quelles colonnes avaient le plus de poids pour accorder un score pour la maintenance. Quand nous avons essayé de faire cela, nous n'avons pu aboutir à aucun résultat car même en ayant le résultat de l'ACM nous n'avons pas pu avancer et cela ne nous a pas aidé. Ensuite, nous avons eu l'idée de faire de la classification non supervisée pour pouvoir accorder à chaque établissement une valeur sans connaître à l'avance les caractéristiques d'une classe.\n",
    "\n",
    "Ici, nous allons étudier toutes les colonnes qui ont un lien avec la maintenance du matériel informatique, donc les colonnes suivantes : \n",
    "- *``'Maint_PersCollect'``* : la maintenance est faire par du personnel de la collectivité\n",
    "- *``'Maint_PrestaExt'``* : la maintenance est faite par des prestataires extérieures\n",
    "- *``'Maint_PersonnelEducNatHsEtab'``* : la maintenance est faite par du personnel de l'éducation nationale hors établissement\n",
    "- *``'Maint_PersonnelEtab'``* : la maintenance est faite par le personnel de l'établissement\n",
    "- *``'Maint_AutreNeSaitPas'``* : soit la maintenance est faite par quelqu'un d'autre ou l'établissement ne sait pas\n",
    "- *``'Maint_Personne'``* : personne ne fait la maintenance\n",
    "\n",
    "\n",
    "\n",
    "### *Import des bibliothèques*"
   ]
  },
  {
   "cell_type": "code",
   "execution_count": 48,
   "metadata": {},
   "outputs": [],
   "source": [
    "import pandas as pd\n",
    "from sklearn.cluster import KMeans\n",
    "from sklearn.decomposition import PCA\n",
    "from sklearn.preprocessing import StandardScaler\n",
    "import plotly_express as px\n",
    "import plotly.graph_objects as go"
   ]
  },
  {
   "attachments": {},
   "cell_type": "markdown",
   "metadata": {},
   "source": [
    "### *Import du fichier*"
   ]
  },
  {
   "cell_type": "code",
   "execution_count": 49,
   "metadata": {},
   "outputs": [
    {
     "data": {
      "text/plain": [
       "Index(['Millesime', 'Code_nature', 'nature_uai', 'typ_etab', 'Academie',\n",
       "       'Departement', 'NbEleve', 'NbEnseignant', 'SiEtabCentreRessource',\n",
       "       'SiProjetNumEcole', 'SiEntDisponible', 'SiProjEtabIntegreENT',\n",
       "       'Maint_PersCollect', 'Maint_PrestaExt', 'Maint_PersonnelEducNatHsEtab',\n",
       "       'Maint_PersonnelEtab', 'Maint_AutreNeSaitPas', 'Maint_Personne',\n",
       "       'NbRessourceEdit', 'TpRess_ManuelNum', 'TpRess_AnimScienLogiSimu',\n",
       "       'TpRess_Bdd', 'TpRess_LogiOutils', 'TpRess_OuvRef',\n",
       "       'TpRess_ResEntrainement', 'TpRess_Autres', 'TpRess_aucune',\n",
       "       'ServInt_NoteElev', 'ServInt_AbsElev', 'ServInt_EdtElevCls',\n",
       "       'ServInt_CahierTxt', 'ServInt_DocRessPeda', 'ServInt_AgdActuEtab',\n",
       "       'ServInt_PlatApp', 'ServInt_Autres', 'ServInt_aucun', 'NbTerminaux',\n",
       "       'NbTablette', 'NbTablettePC', 'NbMicroMoins5', 'NbMicroPortable',\n",
       "       'NbPortAffEl', 'NbPortAffEns', 'NbEleveEqASH', 'NbPosteEqASH', 'NbTBI',\n",
       "       'propClassesAvecTBI', 'NbVideoProj', 'NbClassMobile', 'NbLecteurMpx',\n",
       "       'NbImpr3D', 'AccWeb_RTC', 'AccWeb_CableFibreOptique', 'AccWeb_ADSL',\n",
       "       'AccWeb_AutresHautDebit', 'AccWeb_NeSaitPas', 'AccWeb_Aucun',\n",
       "       'DebitWeb', 'SiWifi', 'SalleInternet', 'PostesInfoElvHorsCours',\n",
       "       'SiPareFeuEtab', 'SiOuifiltrageWeb', 'ControlePosteriori',\n",
       "       'SiCharteUsageWeb', 'Diffch_AnnexeeRI',\n",
       "       'Diffch_DossierRentreeEnseignants', 'Diffch_CRConseilAdmin',\n",
       "       'Diffch_DiffusionParents', 'Diffch_Autres', 'AccesParentCharte',\n",
       "       'ElvAuthentif', 'SiVisioConferenc', 'SiEntUtilise',\n",
       "       'TypeMatHandi_Tablette', 'TypeMatHandi_OrdiPort', 'TypeMatHandi_LogApp',\n",
       "       'TypeMatHandi_Autre', 'Code_region', 'Libelle_region'],\n",
       "      dtype='object')"
      ]
     },
     "execution_count": 49,
     "metadata": {},
     "output_type": "execute_result"
    }
   ],
   "source": [
    "df = pd.read_csv('../data/lycee-college/fr-en-etic_2d.csv', sep=';')\n",
    "\n",
    "#On fixe l'index\n",
    "df.set_index('Code_UAI', inplace=True)\n",
    "\n",
    "#On consulte les colonnes existantes\n",
    "df.columns"
   ]
  },
  {
   "attachments": {},
   "cell_type": "markdown",
   "metadata": {},
   "source": [
    "On va maintenant récupérer les colonnes qui nous intéressent et supprimer celles qui ne nous intéressent pas. Nous allons ensuite supprimer les lignes qui contiennent des `NaN` pour pouvoir procéder à nos analyses.\n"
   ]
  },
  {
   "cell_type": "code",
   "execution_count": 50,
   "metadata": {},
   "outputs": [],
   "source": [
    "#Suppression des colonnes inutiles\n",
    "df_maintenance = df.drop(columns=[ 'Millesime', 'Code_nature', 'nature_uai', 'typ_etab',\n",
    "       'Academie', 'Departement', 'NbEleve', 'NbEnseignant',\n",
    "       'SiEtabCentreRessource', 'SiProjetNumEcole', 'SiEntDisponible',\n",
    "       'SiProjEtabIntegreENT', 'NbRessourceEdit',\n",
    "       'TpRess_ManuelNum', 'TpRess_AnimScienLogiSimu', 'TpRess_Bdd',\n",
    "       'TpRess_LogiOutils', 'TpRess_OuvRef', 'TpRess_ResEntrainement',\n",
    "       'TpRess_Autres', 'TpRess_aucune', 'ServInt_NoteElev', 'ServInt_AbsElev',\n",
    "       'ServInt_EdtElevCls', 'ServInt_CahierTxt', 'ServInt_DocRessPeda',\n",
    "       'ServInt_AgdActuEtab', 'ServInt_PlatApp', 'ServInt_Autres',\n",
    "       'ServInt_aucun', 'NbTerminaux', 'NbTablette', 'NbTablettePC',\n",
    "       'NbMicroMoins5', 'NbMicroPortable', 'NbPortAffEl', 'NbPortAffEns',\n",
    "       'NbEleveEqASH', 'NbPosteEqASH', 'NbTBI', 'propClassesAvecTBI',\n",
    "       'NbVideoProj', 'NbClassMobile', 'NbLecteurMpx', 'NbImpr3D',\n",
    "       'AccWeb_RTC', 'AccWeb_CableFibreOptique', 'AccWeb_ADSL',\n",
    "       'AccWeb_AutresHautDebit', 'AccWeb_NeSaitPas', 'AccWeb_Aucun',\n",
    "       'DebitWeb', 'SiWifi', 'SalleInternet', 'PostesInfoElvHorsCours',\n",
    "       'SiPareFeuEtab', 'SiOuifiltrageWeb', 'ControlePosteriori',\n",
    "       'SiCharteUsageWeb', 'Diffch_AnnexeeRI',\n",
    "       'Diffch_DossierRentreeEnseignants', 'Diffch_CRConseilAdmin',\n",
    "       'Diffch_DiffusionParents', 'Diffch_Autres', 'AccesParentCharte',\n",
    "       'ElvAuthentif', 'SiVisioConferenc', 'SiEntUtilise',\n",
    "       'TypeMatHandi_Tablette', 'TypeMatHandi_OrdiPort', 'TypeMatHandi_LogApp',\n",
    "       'TypeMatHandi_Autre', 'Code_region', 'Libelle_region'], inplace=False)\n",
    "\n",
    "\n",
    "df_maintenance.dropna(inplace=True, axis=0)"
   ]
  },
  {
   "cell_type": "code",
   "execution_count": 51,
   "metadata": {},
   "outputs": [
    {
     "data": {
      "text/plain": [
       "Index(['Maint_PersCollect', 'Maint_PrestaExt', 'Maint_PersonnelEducNatHsEtab',\n",
       "       'Maint_PersonnelEtab', 'Maint_AutreNeSaitPas', 'Maint_Personne'],\n",
       "      dtype='object')"
      ]
     },
     "execution_count": 51,
     "metadata": {},
     "output_type": "execute_result"
    }
   ],
   "source": [
    "#on vérifie que les colonnes ont bien été supprimées\n",
    "df_maintenance.columns"
   ]
  },
  {
   "attachments": {},
   "cell_type": "markdown",
   "metadata": {},
   "source": [
    "On va ensuite procéder au renommage des colonnes pour pouvoir manipuler les données plus facilement et éviter d'avoir des noms de colonnes trop longs."
   ]
  },
  {
   "cell_type": "code",
   "execution_count": 52,
   "metadata": {},
   "outputs": [
    {
     "data": {
      "text/plain": [
       "Index(['perscollect', 'prestaext', 'personneleducnathsetab', 'personneletab',\n",
       "       'autrenesaitpas', 'personne'],\n",
       "      dtype='object')"
      ]
     },
     "execution_count": 52,
     "metadata": {},
     "output_type": "execute_result"
    }
   ],
   "source": [
    "for col in df_maintenance.columns:\n",
    "    df_maintenance.rename(columns={col: col.replace('Maint_', '').lower()}, inplace=True)\n",
    "\n",
    "df_maintenance.columns"
   ]
  },
  {
   "attachments": {},
   "cell_type": "markdown",
   "metadata": {},
   "source": [
    "### *Corrélation entre les variables*\n",
    "\n",
    "Nous allons voir si il existe des corrélations entre nos différentes variables, pour cela nous devons transformer les valeurs de nos colonnes en valeurs binaires. On va remplacer \"oui\" par 1 et \"non\" par 0."
   ]
  },
  {
   "cell_type": "code",
   "execution_count": 53,
   "metadata": {},
   "outputs": [
    {
     "data": {
      "text/html": [
       "<div>\n",
       "<style scoped>\n",
       "    .dataframe tbody tr th:only-of-type {\n",
       "        vertical-align: middle;\n",
       "    }\n",
       "\n",
       "    .dataframe tbody tr th {\n",
       "        vertical-align: top;\n",
       "    }\n",
       "\n",
       "    .dataframe thead th {\n",
       "        text-align: right;\n",
       "    }\n",
       "</style>\n",
       "<table border=\"1\" class=\"dataframe\">\n",
       "  <thead>\n",
       "    <tr style=\"text-align: right;\">\n",
       "      <th></th>\n",
       "      <th>perscollect</th>\n",
       "      <th>prestaext</th>\n",
       "      <th>personneleducnathsetab</th>\n",
       "      <th>personneletab</th>\n",
       "      <th>autrenesaitpas</th>\n",
       "      <th>personne</th>\n",
       "    </tr>\n",
       "    <tr>\n",
       "      <th>Code_UAI</th>\n",
       "      <th></th>\n",
       "      <th></th>\n",
       "      <th></th>\n",
       "      <th></th>\n",
       "      <th></th>\n",
       "      <th></th>\n",
       "    </tr>\n",
       "  </thead>\n",
       "  <tbody>\n",
       "    <tr>\n",
       "      <th>0810016C</th>\n",
       "      <td>1.0</td>\n",
       "      <td>0.0</td>\n",
       "      <td>0.0</td>\n",
       "      <td>1.0</td>\n",
       "      <td>0.0</td>\n",
       "      <td>0.0</td>\n",
       "    </tr>\n",
       "    <tr>\n",
       "      <th>0810026N</th>\n",
       "      <td>1.0</td>\n",
       "      <td>0.0</td>\n",
       "      <td>0.0</td>\n",
       "      <td>1.0</td>\n",
       "      <td>0.0</td>\n",
       "      <td>0.0</td>\n",
       "    </tr>\n",
       "    <tr>\n",
       "      <th>0810041E</th>\n",
       "      <td>0.0</td>\n",
       "      <td>0.0</td>\n",
       "      <td>0.0</td>\n",
       "      <td>1.0</td>\n",
       "      <td>0.0</td>\n",
       "      <td>0.0</td>\n",
       "    </tr>\n",
       "    <tr>\n",
       "      <th>0810125W</th>\n",
       "      <td>1.0</td>\n",
       "      <td>0.0</td>\n",
       "      <td>0.0</td>\n",
       "      <td>1.0</td>\n",
       "      <td>0.0</td>\n",
       "      <td>0.0</td>\n",
       "    </tr>\n",
       "    <tr>\n",
       "      <th>0811144D</th>\n",
       "      <td>1.0</td>\n",
       "      <td>0.0</td>\n",
       "      <td>0.0</td>\n",
       "      <td>1.0</td>\n",
       "      <td>0.0</td>\n",
       "      <td>0.0</td>\n",
       "    </tr>\n",
       "  </tbody>\n",
       "</table>\n",
       "</div>"
      ],
      "text/plain": [
       "          perscollect  prestaext  personneleducnathsetab  personneletab  \\\n",
       "Code_UAI                                                                  \n",
       "0810016C          1.0        0.0                     0.0            1.0   \n",
       "0810026N          1.0        0.0                     0.0            1.0   \n",
       "0810041E          0.0        0.0                     0.0            1.0   \n",
       "0810125W          1.0        0.0                     0.0            1.0   \n",
       "0811144D          1.0        0.0                     0.0            1.0   \n",
       "\n",
       "          autrenesaitpas  personne  \n",
       "Code_UAI                            \n",
       "0810016C             0.0       0.0  \n",
       "0810026N             0.0       0.0  \n",
       "0810041E             0.0       0.0  \n",
       "0810125W             0.0       0.0  \n",
       "0811144D             0.0       0.0  "
      ]
     },
     "execution_count": 53,
     "metadata": {},
     "output_type": "execute_result"
    }
   ],
   "source": [
    "for col in df_maintenance.columns:\n",
    "    df_maintenance.replace({\"oui\": \"1\", \"non\": \"0\"}, inplace=True)\n",
    "    df_maintenance[col] = df_maintenance[col].astype('float64')\n",
    "\n",
    "df_maintenance.head()"
   ]
  },
  {
   "attachments": {},
   "cell_type": "markdown",
   "metadata": {},
   "source": [
    "On va maintenant créer la matrice de corrélation pour chercher les liens."
   ]
  },
  {
   "cell_type": "code",
   "execution_count": 54,
   "metadata": {},
   "outputs": [
    {
     "data": {
      "application/vnd.plotly.v1+json": {
       "config": {
        "plotlyServerURL": "https://plot.ly"
       },
       "data": [
        {
         "colorbar": {
          "thickness": 20,
          "ticklen": 3
         },
         "hoverinfo": "text",
         "hovertext": [
          [
           1,
           -0.11963357323276215,
           0.08453253707516216,
           -0.16983125343155192,
           -0.09015940545910589,
           -0.12187809347379909
          ],
          [
           -0.11963357323276215,
           1,
           -0.025359252728553015,
           -0.031795045890532794,
           -0.03662437848919144,
           -0.04238785756362721
          ],
          [
           0.08453253707516216,
           -0.025359252728553015,
           1,
           -0.023021919522166725,
           -0.011915843593908324,
           -0.04921339144689101
          ],
          [
           -0.16983125343155192,
           -0.031795045890532794,
           -0.023021919522166725,
           1,
           0.032114113983536016,
           -0.28018318100628353
          ],
          [
           -0.09015940545910589,
           -0.03662437848919144,
           -0.011915843593908324,
           0.032114113983536016,
           1,
           -0.015982056895144217
          ],
          [
           -0.12187809347379909,
           -0.04238785756362721,
           -0.04921339144689101,
           -0.28018318100628353,
           -0.015982056895144217,
           1
          ]
         ],
         "type": "heatmap",
         "x": [
          "perscollect",
          "prestaext",
          "personneleducnathsetab",
          "personneletab",
          "autrenesaitpas",
          "personne"
         ],
         "xgap": 1,
         "y": [
          "perscollect",
          "prestaext",
          "personneleducnathsetab",
          "personneletab",
          "autrenesaitpas",
          "personne"
         ],
         "ygap": 1,
         "z": [
          [
           1,
           -0.11963357323276215,
           0.08453253707516216,
           -0.16983125343155192,
           -0.09015940545910589,
           -0.12187809347379909
          ],
          [
           -0.11963357323276215,
           1,
           -0.025359252728553015,
           -0.031795045890532794,
           -0.03662437848919144,
           -0.04238785756362721
          ],
          [
           0.08453253707516216,
           -0.025359252728553015,
           1,
           -0.023021919522166725,
           -0.011915843593908324,
           -0.04921339144689101
          ],
          [
           -0.16983125343155192,
           -0.031795045890532794,
           -0.023021919522166725,
           1,
           0.032114113983536016,
           -0.28018318100628353
          ],
          [
           -0.09015940545910589,
           -0.03662437848919144,
           -0.011915843593908324,
           0.032114113983536016,
           1,
           -0.015982056895144217
          ],
          [
           -0.12187809347379909,
           -0.04238785756362721,
           -0.04921339144689101,
           -0.28018318100628353,
           -0.015982056895144217,
           1
          ]
         ]
        }
       ],
       "layout": {
        "height": 600,
        "template": {
         "data": {
          "bar": [
           {
            "error_x": {
             "color": "#2a3f5f"
            },
            "error_y": {
             "color": "#2a3f5f"
            },
            "marker": {
             "line": {
              "color": "#E5ECF6",
              "width": 0.5
             },
             "pattern": {
              "fillmode": "overlay",
              "size": 10,
              "solidity": 0.2
             }
            },
            "type": "bar"
           }
          ],
          "barpolar": [
           {
            "marker": {
             "line": {
              "color": "#E5ECF6",
              "width": 0.5
             },
             "pattern": {
              "fillmode": "overlay",
              "size": 10,
              "solidity": 0.2
             }
            },
            "type": "barpolar"
           }
          ],
          "carpet": [
           {
            "aaxis": {
             "endlinecolor": "#2a3f5f",
             "gridcolor": "white",
             "linecolor": "white",
             "minorgridcolor": "white",
             "startlinecolor": "#2a3f5f"
            },
            "baxis": {
             "endlinecolor": "#2a3f5f",
             "gridcolor": "white",
             "linecolor": "white",
             "minorgridcolor": "white",
             "startlinecolor": "#2a3f5f"
            },
            "type": "carpet"
           }
          ],
          "choropleth": [
           {
            "colorbar": {
             "outlinewidth": 0,
             "ticks": ""
            },
            "type": "choropleth"
           }
          ],
          "contour": [
           {
            "colorbar": {
             "outlinewidth": 0,
             "ticks": ""
            },
            "colorscale": [
             [
              0,
              "#0d0887"
             ],
             [
              0.1111111111111111,
              "#46039f"
             ],
             [
              0.2222222222222222,
              "#7201a8"
             ],
             [
              0.3333333333333333,
              "#9c179e"
             ],
             [
              0.4444444444444444,
              "#bd3786"
             ],
             [
              0.5555555555555556,
              "#d8576b"
             ],
             [
              0.6666666666666666,
              "#ed7953"
             ],
             [
              0.7777777777777778,
              "#fb9f3a"
             ],
             [
              0.8888888888888888,
              "#fdca26"
             ],
             [
              1,
              "#f0f921"
             ]
            ],
            "type": "contour"
           }
          ],
          "contourcarpet": [
           {
            "colorbar": {
             "outlinewidth": 0,
             "ticks": ""
            },
            "type": "contourcarpet"
           }
          ],
          "heatmap": [
           {
            "colorbar": {
             "outlinewidth": 0,
             "ticks": ""
            },
            "colorscale": [
             [
              0,
              "#0d0887"
             ],
             [
              0.1111111111111111,
              "#46039f"
             ],
             [
              0.2222222222222222,
              "#7201a8"
             ],
             [
              0.3333333333333333,
              "#9c179e"
             ],
             [
              0.4444444444444444,
              "#bd3786"
             ],
             [
              0.5555555555555556,
              "#d8576b"
             ],
             [
              0.6666666666666666,
              "#ed7953"
             ],
             [
              0.7777777777777778,
              "#fb9f3a"
             ],
             [
              0.8888888888888888,
              "#fdca26"
             ],
             [
              1,
              "#f0f921"
             ]
            ],
            "type": "heatmap"
           }
          ],
          "heatmapgl": [
           {
            "colorbar": {
             "outlinewidth": 0,
             "ticks": ""
            },
            "colorscale": [
             [
              0,
              "#0d0887"
             ],
             [
              0.1111111111111111,
              "#46039f"
             ],
             [
              0.2222222222222222,
              "#7201a8"
             ],
             [
              0.3333333333333333,
              "#9c179e"
             ],
             [
              0.4444444444444444,
              "#bd3786"
             ],
             [
              0.5555555555555556,
              "#d8576b"
             ],
             [
              0.6666666666666666,
              "#ed7953"
             ],
             [
              0.7777777777777778,
              "#fb9f3a"
             ],
             [
              0.8888888888888888,
              "#fdca26"
             ],
             [
              1,
              "#f0f921"
             ]
            ],
            "type": "heatmapgl"
           }
          ],
          "histogram": [
           {
            "marker": {
             "pattern": {
              "fillmode": "overlay",
              "size": 10,
              "solidity": 0.2
             }
            },
            "type": "histogram"
           }
          ],
          "histogram2d": [
           {
            "colorbar": {
             "outlinewidth": 0,
             "ticks": ""
            },
            "colorscale": [
             [
              0,
              "#0d0887"
             ],
             [
              0.1111111111111111,
              "#46039f"
             ],
             [
              0.2222222222222222,
              "#7201a8"
             ],
             [
              0.3333333333333333,
              "#9c179e"
             ],
             [
              0.4444444444444444,
              "#bd3786"
             ],
             [
              0.5555555555555556,
              "#d8576b"
             ],
             [
              0.6666666666666666,
              "#ed7953"
             ],
             [
              0.7777777777777778,
              "#fb9f3a"
             ],
             [
              0.8888888888888888,
              "#fdca26"
             ],
             [
              1,
              "#f0f921"
             ]
            ],
            "type": "histogram2d"
           }
          ],
          "histogram2dcontour": [
           {
            "colorbar": {
             "outlinewidth": 0,
             "ticks": ""
            },
            "colorscale": [
             [
              0,
              "#0d0887"
             ],
             [
              0.1111111111111111,
              "#46039f"
             ],
             [
              0.2222222222222222,
              "#7201a8"
             ],
             [
              0.3333333333333333,
              "#9c179e"
             ],
             [
              0.4444444444444444,
              "#bd3786"
             ],
             [
              0.5555555555555556,
              "#d8576b"
             ],
             [
              0.6666666666666666,
              "#ed7953"
             ],
             [
              0.7777777777777778,
              "#fb9f3a"
             ],
             [
              0.8888888888888888,
              "#fdca26"
             ],
             [
              1,
              "#f0f921"
             ]
            ],
            "type": "histogram2dcontour"
           }
          ],
          "mesh3d": [
           {
            "colorbar": {
             "outlinewidth": 0,
             "ticks": ""
            },
            "type": "mesh3d"
           }
          ],
          "parcoords": [
           {
            "line": {
             "colorbar": {
              "outlinewidth": 0,
              "ticks": ""
             }
            },
            "type": "parcoords"
           }
          ],
          "pie": [
           {
            "automargin": true,
            "type": "pie"
           }
          ],
          "scatter": [
           {
            "fillpattern": {
             "fillmode": "overlay",
             "size": 10,
             "solidity": 0.2
            },
            "type": "scatter"
           }
          ],
          "scatter3d": [
           {
            "line": {
             "colorbar": {
              "outlinewidth": 0,
              "ticks": ""
             }
            },
            "marker": {
             "colorbar": {
              "outlinewidth": 0,
              "ticks": ""
             }
            },
            "type": "scatter3d"
           }
          ],
          "scattercarpet": [
           {
            "marker": {
             "colorbar": {
              "outlinewidth": 0,
              "ticks": ""
             }
            },
            "type": "scattercarpet"
           }
          ],
          "scattergeo": [
           {
            "marker": {
             "colorbar": {
              "outlinewidth": 0,
              "ticks": ""
             }
            },
            "type": "scattergeo"
           }
          ],
          "scattergl": [
           {
            "marker": {
             "colorbar": {
              "outlinewidth": 0,
              "ticks": ""
             }
            },
            "type": "scattergl"
           }
          ],
          "scattermapbox": [
           {
            "marker": {
             "colorbar": {
              "outlinewidth": 0,
              "ticks": ""
             }
            },
            "type": "scattermapbox"
           }
          ],
          "scatterpolar": [
           {
            "marker": {
             "colorbar": {
              "outlinewidth": 0,
              "ticks": ""
             }
            },
            "type": "scatterpolar"
           }
          ],
          "scatterpolargl": [
           {
            "marker": {
             "colorbar": {
              "outlinewidth": 0,
              "ticks": ""
             }
            },
            "type": "scatterpolargl"
           }
          ],
          "scatterternary": [
           {
            "marker": {
             "colorbar": {
              "outlinewidth": 0,
              "ticks": ""
             }
            },
            "type": "scatterternary"
           }
          ],
          "surface": [
           {
            "colorbar": {
             "outlinewidth": 0,
             "ticks": ""
            },
            "colorscale": [
             [
              0,
              "#0d0887"
             ],
             [
              0.1111111111111111,
              "#46039f"
             ],
             [
              0.2222222222222222,
              "#7201a8"
             ],
             [
              0.3333333333333333,
              "#9c179e"
             ],
             [
              0.4444444444444444,
              "#bd3786"
             ],
             [
              0.5555555555555556,
              "#d8576b"
             ],
             [
              0.6666666666666666,
              "#ed7953"
             ],
             [
              0.7777777777777778,
              "#fb9f3a"
             ],
             [
              0.8888888888888888,
              "#fdca26"
             ],
             [
              1,
              "#f0f921"
             ]
            ],
            "type": "surface"
           }
          ],
          "table": [
           {
            "cells": {
             "fill": {
              "color": "#EBF0F8"
             },
             "line": {
              "color": "white"
             }
            },
            "header": {
             "fill": {
              "color": "#C8D4E3"
             },
             "line": {
              "color": "white"
             }
            },
            "type": "table"
           }
          ]
         },
         "layout": {
          "annotationdefaults": {
           "arrowcolor": "#2a3f5f",
           "arrowhead": 0,
           "arrowwidth": 1
          },
          "autotypenumbers": "strict",
          "coloraxis": {
           "colorbar": {
            "outlinewidth": 0,
            "ticks": ""
           }
          },
          "colorscale": {
           "diverging": [
            [
             0,
             "#8e0152"
            ],
            [
             0.1,
             "#c51b7d"
            ],
            [
             0.2,
             "#de77ae"
            ],
            [
             0.3,
             "#f1b6da"
            ],
            [
             0.4,
             "#fde0ef"
            ],
            [
             0.5,
             "#f7f7f7"
            ],
            [
             0.6,
             "#e6f5d0"
            ],
            [
             0.7,
             "#b8e186"
            ],
            [
             0.8,
             "#7fbc41"
            ],
            [
             0.9,
             "#4d9221"
            ],
            [
             1,
             "#276419"
            ]
           ],
           "sequential": [
            [
             0,
             "#0d0887"
            ],
            [
             0.1111111111111111,
             "#46039f"
            ],
            [
             0.2222222222222222,
             "#7201a8"
            ],
            [
             0.3333333333333333,
             "#9c179e"
            ],
            [
             0.4444444444444444,
             "#bd3786"
            ],
            [
             0.5555555555555556,
             "#d8576b"
            ],
            [
             0.6666666666666666,
             "#ed7953"
            ],
            [
             0.7777777777777778,
             "#fb9f3a"
            ],
            [
             0.8888888888888888,
             "#fdca26"
            ],
            [
             1,
             "#f0f921"
            ]
           ],
           "sequentialminus": [
            [
             0,
             "#0d0887"
            ],
            [
             0.1111111111111111,
             "#46039f"
            ],
            [
             0.2222222222222222,
             "#7201a8"
            ],
            [
             0.3333333333333333,
             "#9c179e"
            ],
            [
             0.4444444444444444,
             "#bd3786"
            ],
            [
             0.5555555555555556,
             "#d8576b"
            ],
            [
             0.6666666666666666,
             "#ed7953"
            ],
            [
             0.7777777777777778,
             "#fb9f3a"
            ],
            [
             0.8888888888888888,
             "#fdca26"
            ],
            [
             1,
             "#f0f921"
            ]
           ]
          },
          "colorway": [
           "#636efa",
           "#EF553B",
           "#00cc96",
           "#ab63fa",
           "#FFA15A",
           "#19d3f3",
           "#FF6692",
           "#B6E880",
           "#FF97FF",
           "#FECB52"
          ],
          "font": {
           "color": "#2a3f5f"
          },
          "geo": {
           "bgcolor": "white",
           "lakecolor": "white",
           "landcolor": "#E5ECF6",
           "showlakes": true,
           "showland": true,
           "subunitcolor": "white"
          },
          "hoverlabel": {
           "align": "left"
          },
          "hovermode": "closest",
          "mapbox": {
           "style": "light"
          },
          "paper_bgcolor": "white",
          "plot_bgcolor": "#E5ECF6",
          "polar": {
           "angularaxis": {
            "gridcolor": "white",
            "linecolor": "white",
            "ticks": ""
           },
           "bgcolor": "#E5ECF6",
           "radialaxis": {
            "gridcolor": "white",
            "linecolor": "white",
            "ticks": ""
           }
          },
          "scene": {
           "xaxis": {
            "backgroundcolor": "#E5ECF6",
            "gridcolor": "white",
            "gridwidth": 2,
            "linecolor": "white",
            "showbackground": true,
            "ticks": "",
            "zerolinecolor": "white"
           },
           "yaxis": {
            "backgroundcolor": "#E5ECF6",
            "gridcolor": "white",
            "gridwidth": 2,
            "linecolor": "white",
            "showbackground": true,
            "ticks": "",
            "zerolinecolor": "white"
           },
           "zaxis": {
            "backgroundcolor": "#E5ECF6",
            "gridcolor": "white",
            "gridwidth": 2,
            "linecolor": "white",
            "showbackground": true,
            "ticks": "",
            "zerolinecolor": "white"
           }
          },
          "shapedefaults": {
           "line": {
            "color": "#2a3f5f"
           }
          },
          "ternary": {
           "aaxis": {
            "gridcolor": "white",
            "linecolor": "white",
            "ticks": ""
           },
           "baxis": {
            "gridcolor": "white",
            "linecolor": "white",
            "ticks": ""
           },
           "bgcolor": "#E5ECF6",
           "caxis": {
            "gridcolor": "white",
            "linecolor": "white",
            "ticks": ""
           }
          },
          "title": {
           "x": 0.05
          },
          "xaxis": {
           "automargin": true,
           "gridcolor": "white",
           "linecolor": "white",
           "ticks": "",
           "title": {
            "standoff": 15
           },
           "zerolinecolor": "white",
           "zerolinewidth": 2
          },
          "yaxis": {
           "automargin": true,
           "gridcolor": "white",
           "linecolor": "white",
           "ticks": "",
           "title": {
            "standoff": 15
           },
           "zerolinecolor": "white",
           "zerolinewidth": 2
          }
         }
        },
        "title": {
         "text": "Matrice de corrélation"
        },
        "width": 600,
        "xaxis": {
         "showgrid": false
        },
        "yaxis": {
         "autorange": "reversed",
         "showgrid": false
        }
       }
      }
     },
     "metadata": {},
     "output_type": "display_data"
    }
   ],
   "source": [
    "column_names = df_maintenance.columns\n",
    "\n",
    "heat = go.Heatmap(\n",
    "    z=df_maintenance.corr(),\n",
    "    x=column_names,\n",
    "    y=column_names,\n",
    "    xgap=1,\n",
    "    ygap=1,\n",
    "    colorbar_thickness=20,\n",
    "    colorbar_ticklen=3,\n",
    "    hovertext=df_maintenance.corr(),\n",
    "    hoverinfo='text'\n",
    ")\n",
    "\n",
    "layout = go.Layout(\n",
    "    title='Matrice de corrélation',\n",
    "    width=600,\n",
    "    height=600,\n",
    "    xaxis_showgrid=False,\n",
    "    yaxis_showgrid=False,\n",
    "    yaxis_autorange='reversed'\n",
    ")\n",
    "\n",
    "fig = go.Figure(data=[heat], layout=layout)\n",
    "fig.show()"
   ]
  },
  {
   "attachments": {},
   "cell_type": "markdown",
   "metadata": {},
   "source": [
    "On voit qu'il n'existe pas réellement de corrélation entre les différentes variables. On s'y attend car en général il y a une seule personne qui s'occupe de l'entretien.\n",
    "\n",
    "### *Classification non supervisé*\n",
    "\n",
    "On va pouvoir maintenant faire du clustering à l'aide de l'algorithme de `KMeans`."
   ]
  },
  {
   "cell_type": "code",
   "execution_count": 55,
   "metadata": {},
   "outputs": [
    {
     "data": {
      "text/html": [
       "<div>\n",
       "<style scoped>\n",
       "    .dataframe tbody tr th:only-of-type {\n",
       "        vertical-align: middle;\n",
       "    }\n",
       "\n",
       "    .dataframe tbody tr th {\n",
       "        vertical-align: top;\n",
       "    }\n",
       "\n",
       "    .dataframe thead th {\n",
       "        text-align: right;\n",
       "    }\n",
       "</style>\n",
       "<table border=\"1\" class=\"dataframe\">\n",
       "  <thead>\n",
       "    <tr style=\"text-align: right;\">\n",
       "      <th></th>\n",
       "      <th>perscollect</th>\n",
       "      <th>prestaext</th>\n",
       "      <th>personneleducnathsetab</th>\n",
       "      <th>personneletab</th>\n",
       "      <th>autrenesaitpas</th>\n",
       "      <th>personne</th>\n",
       "    </tr>\n",
       "  </thead>\n",
       "  <tbody>\n",
       "    <tr>\n",
       "      <th>0</th>\n",
       "      <td>7.352941e-01</td>\n",
       "      <td>0.068627</td>\n",
       "      <td>1.000000e+00</td>\n",
       "      <td>7.843137e-01</td>\n",
       "      <td>0.009804</td>\n",
       "      <td>0.000000</td>\n",
       "    </tr>\n",
       "    <tr>\n",
       "      <th>1</th>\n",
       "      <td>1.000000e+00</td>\n",
       "      <td>0.067416</td>\n",
       "      <td>-1.387779e-16</td>\n",
       "      <td>1.000000e+00</td>\n",
       "      <td>0.005618</td>\n",
       "      <td>0.000000</td>\n",
       "    </tr>\n",
       "    <tr>\n",
       "      <th>2</th>\n",
       "      <td>-5.551115e-16</td>\n",
       "      <td>0.150685</td>\n",
       "      <td>-1.110223e-16</td>\n",
       "      <td>9.486301e-01</td>\n",
       "      <td>0.027397</td>\n",
       "      <td>0.000000</td>\n",
       "    </tr>\n",
       "    <tr>\n",
       "      <th>3</th>\n",
       "      <td>8.931298e-01</td>\n",
       "      <td>0.022901</td>\n",
       "      <td>-5.551115e-17</td>\n",
       "      <td>3.330669e-16</td>\n",
       "      <td>0.007634</td>\n",
       "      <td>0.122137</td>\n",
       "    </tr>\n",
       "  </tbody>\n",
       "</table>\n",
       "</div>"
      ],
      "text/plain": [
       "    perscollect  prestaext  personneleducnathsetab  personneletab  \\\n",
       "0  7.352941e-01   0.068627            1.000000e+00   7.843137e-01   \n",
       "1  1.000000e+00   0.067416           -1.387779e-16   1.000000e+00   \n",
       "2 -5.551115e-16   0.150685           -1.110223e-16   9.486301e-01   \n",
       "3  8.931298e-01   0.022901           -5.551115e-17   3.330669e-16   \n",
       "\n",
       "   autrenesaitpas  personne  \n",
       "0        0.009804  0.000000  \n",
       "1        0.005618  0.000000  \n",
       "2        0.027397  0.000000  \n",
       "3        0.007634  0.122137  "
      ]
     },
     "execution_count": 55,
     "metadata": {},
     "output_type": "execute_result"
    }
   ],
   "source": [
    "km_maintenance = KMeans(\n",
    "    n_clusters=4, \n",
    "    random_state=0,\n",
    "    init='k-means++',\n",
    "    n_init=20,\n",
    "    max_iter=300\n",
    ")\n",
    "\n",
    "y_km_maintenance = km_maintenance.fit_predict(df_maintenance)\n",
    "\n",
    "resultat = pd.DataFrame(km_maintenance.cluster_centers_, columns=km_maintenance.feature_names_in_)\n",
    "\n",
    "resultat"
   ]
  },
  {
   "attachments": {},
   "cell_type": "markdown",
   "metadata": {},
   "source": [
    "On va convertir cela en \"oui\" et \"non\" pour que nous puissions juger simplement les moyennes des centres et choisir le nombre de clusters souhaités."
   ]
  },
  {
   "cell_type": "code",
   "execution_count": 56,
   "metadata": {},
   "outputs": [
    {
     "data": {
      "text/html": [
       "<div>\n",
       "<style scoped>\n",
       "    .dataframe tbody tr th:only-of-type {\n",
       "        vertical-align: middle;\n",
       "    }\n",
       "\n",
       "    .dataframe tbody tr th {\n",
       "        vertical-align: top;\n",
       "    }\n",
       "\n",
       "    .dataframe thead th {\n",
       "        text-align: right;\n",
       "    }\n",
       "</style>\n",
       "<table border=\"1\" class=\"dataframe\">\n",
       "  <thead>\n",
       "    <tr style=\"text-align: right;\">\n",
       "      <th></th>\n",
       "      <th>perscollect</th>\n",
       "      <th>prestaext</th>\n",
       "      <th>personneleducnathsetab</th>\n",
       "      <th>personneletab</th>\n",
       "      <th>autrenesaitpas</th>\n",
       "      <th>personne</th>\n",
       "    </tr>\n",
       "  </thead>\n",
       "  <tbody>\n",
       "    <tr>\n",
       "      <th>0</th>\n",
       "      <td>oui</td>\n",
       "      <td>non</td>\n",
       "      <td>oui</td>\n",
       "      <td>oui</td>\n",
       "      <td>non</td>\n",
       "      <td>non</td>\n",
       "    </tr>\n",
       "    <tr>\n",
       "      <th>1</th>\n",
       "      <td>oui</td>\n",
       "      <td>non</td>\n",
       "      <td>non</td>\n",
       "      <td>oui</td>\n",
       "      <td>non</td>\n",
       "      <td>non</td>\n",
       "    </tr>\n",
       "    <tr>\n",
       "      <th>2</th>\n",
       "      <td>non</td>\n",
       "      <td>non</td>\n",
       "      <td>non</td>\n",
       "      <td>oui</td>\n",
       "      <td>non</td>\n",
       "      <td>non</td>\n",
       "    </tr>\n",
       "    <tr>\n",
       "      <th>3</th>\n",
       "      <td>oui</td>\n",
       "      <td>non</td>\n",
       "      <td>non</td>\n",
       "      <td>non</td>\n",
       "      <td>non</td>\n",
       "      <td>non</td>\n",
       "    </tr>\n",
       "  </tbody>\n",
       "</table>\n",
       "</div>"
      ],
      "text/plain": [
       "  perscollect prestaext personneleducnathsetab personneletab autrenesaitpas  \\\n",
       "0         oui       non                    oui           oui            non   \n",
       "1         oui       non                    non           oui            non   \n",
       "2         non       non                    non           oui            non   \n",
       "3         oui       non                    non           non            non   \n",
       "\n",
       "  personne  \n",
       "0      non  \n",
       "1      non  \n",
       "2      non  \n",
       "3      non  "
      ]
     },
     "execution_count": 56,
     "metadata": {},
     "output_type": "execute_result"
    }
   ],
   "source": [
    "def change_value(row):\n",
    "    if(row > 0.5):\n",
    "        return 1        \n",
    "    else:\n",
    "        return 0\n",
    "\n",
    "\n",
    "for col in resultat.columns:\n",
    "    resultat[col] = resultat[col].apply(change_value)\n",
    "    resultat[col] = resultat[col].astype(str)\n",
    "    resultat.replace({\"1\": \"oui\", \"0\" : \"non\"}, inplace=True)\n",
    "\n",
    "resultat"
   ]
  },
  {
   "attachments": {},
   "cell_type": "markdown",
   "metadata": {},
   "source": [
    "Nous pouvons donc voir qu'il existera 4 modalités, une chaque pour classe. Nous allons donc créer une colonne avec les 4 modalités suivantes pour une colonne maintenance :\n",
    "- \"Trés bien\" : classe 0 (c'est la classe avec le plus de \"oui\" en moyenne, il y a donc une trés bonne maintenance de l'équipement numérique)\n",
    "- \"Bien\" : classe 1  (cette classe a pour moyenne en maintenance 2 \"oui\", il y a donc deux moyens de maintenance diversifiés qui peut garantir une bonne qualité de maintenance)\n",
    "- \"Assez bien\" : classe 2  (pour cette classe, on a en moyenne seulement du personnel de l'établissement qui effectue des maintenances. Comme ce personnel est attaché directement à l'établissement, il peut agir plus rapidement et efficacement sur le terrain. L'établissement peut rapidement le solliciter pour une intervention rapide)\n",
    "- \"Moyen\" : classe 3  (cette classe n'a qu'un seul \"oui\" en moyenne, la maintenance est faite par du personnel de la collectivité. Ce personnel peut réagir moins rapidement mais il peut être géré simplement par la collectivité compétente)"
   ]
  },
  {
   "cell_type": "code",
   "execution_count": 57,
   "metadata": {},
   "outputs": [
    {
     "data": {
      "text/html": [
       "<div>\n",
       "<style scoped>\n",
       "    .dataframe tbody tr th:only-of-type {\n",
       "        vertical-align: middle;\n",
       "    }\n",
       "\n",
       "    .dataframe tbody tr th {\n",
       "        vertical-align: top;\n",
       "    }\n",
       "\n",
       "    .dataframe thead th {\n",
       "        text-align: right;\n",
       "    }\n",
       "</style>\n",
       "<table border=\"1\" class=\"dataframe\">\n",
       "  <thead>\n",
       "    <tr style=\"text-align: right;\">\n",
       "      <th></th>\n",
       "      <th>perscollect</th>\n",
       "      <th>prestaext</th>\n",
       "      <th>personneleducnathsetab</th>\n",
       "      <th>personneletab</th>\n",
       "      <th>autrenesaitpas</th>\n",
       "      <th>personne</th>\n",
       "      <th>cluster</th>\n",
       "    </tr>\n",
       "    <tr>\n",
       "      <th>Code_UAI</th>\n",
       "      <th></th>\n",
       "      <th></th>\n",
       "      <th></th>\n",
       "      <th></th>\n",
       "      <th></th>\n",
       "      <th></th>\n",
       "      <th></th>\n",
       "    </tr>\n",
       "  </thead>\n",
       "  <tbody>\n",
       "    <tr>\n",
       "      <th>0810016C</th>\n",
       "      <td>1.0</td>\n",
       "      <td>0.0</td>\n",
       "      <td>0.0</td>\n",
       "      <td>1.0</td>\n",
       "      <td>0.0</td>\n",
       "      <td>0.0</td>\n",
       "      <td>Bien</td>\n",
       "    </tr>\n",
       "    <tr>\n",
       "      <th>0810026N</th>\n",
       "      <td>1.0</td>\n",
       "      <td>0.0</td>\n",
       "      <td>0.0</td>\n",
       "      <td>1.0</td>\n",
       "      <td>0.0</td>\n",
       "      <td>0.0</td>\n",
       "      <td>Bien</td>\n",
       "    </tr>\n",
       "    <tr>\n",
       "      <th>0810041E</th>\n",
       "      <td>0.0</td>\n",
       "      <td>0.0</td>\n",
       "      <td>0.0</td>\n",
       "      <td>1.0</td>\n",
       "      <td>0.0</td>\n",
       "      <td>0.0</td>\n",
       "      <td>Assez bien</td>\n",
       "    </tr>\n",
       "    <tr>\n",
       "      <th>0810125W</th>\n",
       "      <td>1.0</td>\n",
       "      <td>0.0</td>\n",
       "      <td>0.0</td>\n",
       "      <td>1.0</td>\n",
       "      <td>0.0</td>\n",
       "      <td>0.0</td>\n",
       "      <td>Bien</td>\n",
       "    </tr>\n",
       "    <tr>\n",
       "      <th>0811144D</th>\n",
       "      <td>1.0</td>\n",
       "      <td>0.0</td>\n",
       "      <td>0.0</td>\n",
       "      <td>1.0</td>\n",
       "      <td>0.0</td>\n",
       "      <td>0.0</td>\n",
       "      <td>Bien</td>\n",
       "    </tr>\n",
       "  </tbody>\n",
       "</table>\n",
       "</div>"
      ],
      "text/plain": [
       "          perscollect  prestaext  personneleducnathsetab  personneletab  \\\n",
       "Code_UAI                                                                  \n",
       "0810016C          1.0        0.0                     0.0            1.0   \n",
       "0810026N          1.0        0.0                     0.0            1.0   \n",
       "0810041E          0.0        0.0                     0.0            1.0   \n",
       "0810125W          1.0        0.0                     0.0            1.0   \n",
       "0811144D          1.0        0.0                     0.0            1.0   \n",
       "\n",
       "          autrenesaitpas  personne     cluster  \n",
       "Code_UAI                                        \n",
       "0810016C             0.0       0.0        Bien  \n",
       "0810026N             0.0       0.0        Bien  \n",
       "0810041E             0.0       0.0  Assez bien  \n",
       "0810125W             0.0       0.0        Bien  \n",
       "0811144D             0.0       0.0        Bien  "
      ]
     },
     "execution_count": 57,
     "metadata": {},
     "output_type": "execute_result"
    }
   ],
   "source": [
    "df_maintenance['cluster'] = y_km_maintenance\n",
    "df_maintenance['cluster'] = df_maintenance['cluster'].astype(str)\n",
    "\n",
    "df_maintenance.replace({\"0\": \"Trés bien\", \"1\" : \"Bien\", \"2\" : \"Assez bien\", \"3\" : \"Moyen\"}, inplace=True)\n",
    "\n",
    "df_maintenance.head()"
   ]
  },
  {
   "attachments": {},
   "cell_type": "markdown",
   "metadata": {},
   "source": [
    "### *ACP* \n",
    "\n",
    "Nous pouvons maintenant passer à l'ACP pour voir les groupes d'individus (établissements) existants et voir si l'affectation est bien faite ou pas."
   ]
  },
  {
   "cell_type": "code",
   "execution_count": 58,
   "metadata": {},
   "outputs": [
    {
     "data": {
      "application/vnd.plotly.v1+json": {
       "config": {
        "plotlyServerURL": "https://plot.ly"
       },
       "data": [
        {
         "hovertemplate": "color=Bien<br>PC 1 (41.3%)=%{x}<br>PC 2 (24.2%)=%{y}<extra></extra>",
         "legendgroup": "Bien",
         "marker": {
          "color": "#636efa",
          "symbol": "circle"
         },
         "mode": "markers",
         "name": "Bien",
         "orientation": "v",
         "showlegend": true,
         "type": "scatter",
         "x": [
          -0.2917322118478591,
          -0.29173221184786,
          -0.29173221184786013,
          -0.29173221184786013,
          -0.29173221184786013,
          -0.29173221184786013,
          -0.29173221184786013,
          -0.29173221184786013,
          -0.29173221184786013,
          -0.29173221184786013,
          -0.29173221184786013,
          -0.29173221184786013,
          -0.29173221184786013,
          -0.29173221184786013,
          -0.29173221184786013,
          -0.29173221184786013,
          -0.29173221184786013,
          -0.29173221184786013,
          -0.20556315291430394,
          -0.29173221184786013,
          -0.29173221184786013,
          -0.29173221184786013,
          -0.29173221184786013,
          -0.29173221184786013,
          -0.29173221184786013,
          -0.29173221184786013,
          -0.29173221184786013,
          -0.29173221184786013,
          -0.29173221184786013,
          -0.29173221184786013,
          -0.29173221184786013,
          -0.29173221184786013,
          -0.29173221184786013,
          -0.29173221184786013,
          -0.29173221184786013,
          -0.29173221184786013,
          -0.29173221184786013,
          -0.20556315291430394,
          -0.29173221184786013,
          -0.29173221184786013,
          -0.29173221184786013,
          -0.29173221184786013,
          -0.29173221184786013,
          -0.29173221184786013,
          -0.29173221184786013,
          -0.29173221184786013,
          -0.29173221184786013,
          -0.29173221184786013,
          -0.29173221184786013,
          -0.29173221184786013,
          -0.29173221184786013,
          -0.29173221184786013,
          -0.29173221184786013,
          -0.20556315291430394,
          -0.29173221184786013,
          -0.29173221184786013,
          -0.29173221184786013,
          -0.29173221184786013,
          -0.29173221184786013,
          -0.29173221184786013,
          -0.29173221184786013,
          -0.29173221184786013,
          -0.29173221184786013,
          -0.29173221184786013,
          -0.29173221184786013,
          -0.29173221184786013,
          -0.29173221184786013,
          -0.29173221184786013,
          -0.29173221184786013,
          -0.29173221184786013,
          -0.29173221184786013,
          -0.29173221184786013,
          -0.29173221184786013,
          -0.29173221184786013,
          -0.29173221184786013,
          -0.29173221184786013,
          -0.29173221184786013,
          -0.29173221184786013,
          -0.29173221184786013,
          -0.29173221184786013,
          -0.29173221184786013,
          -0.29173221184786013,
          -0.29173221184786013,
          -0.29173221184786013,
          -0.26984296304238653,
          -0.29173221184786013,
          -0.20556315291430394,
          -0.29173221184786013,
          -0.29173221184786013,
          -0.29173221184786013,
          -0.29173221184786013,
          -0.29173221184786013,
          -0.29173221184786013,
          -0.29173221184786013,
          -0.29173221184786013,
          -0.29173221184786013,
          -0.29173221184786013,
          -0.20556315291430394,
          -0.20556315291430394,
          -0.29173221184786013,
          -0.29173221184786013,
          -0.29173221184786013,
          -0.29173221184786013,
          -0.20556315291430394,
          -0.29173221184786013,
          -0.29173221184786013,
          -0.29173221184786013,
          -0.29173221184786013,
          -0.29173221184786013,
          -0.29173221184786013,
          -0.29173221184786013,
          -0.29173221184786013,
          -0.29173221184786013,
          -0.29173221184786013,
          -0.29173221184786013,
          -0.29173221184786013,
          -0.29173221184786013,
          -0.29173221184786013,
          -0.29173221184786013,
          -0.29173221184786013,
          -0.29173221184786013,
          -0.29173221184786013,
          -0.29173221184786013,
          -0.20556315291430394,
          -0.29173221184786013,
          -0.29173221184786013,
          -0.29173221184786013,
          -0.29173221184786013,
          -0.29173221184786013,
          -0.29173221184786013,
          -0.29173221184786013,
          -0.29173221184786013,
          -0.29173221184786013,
          -0.29173221184786013,
          -0.29173221184786013,
          -0.20556315291430394,
          -0.29173221184786013,
          -0.29173221184786013,
          -0.29173221184786013,
          -0.29173221184786013,
          -0.29173221184786013,
          -0.20556315291430394,
          -0.29173221184786013,
          -0.29173221184786013,
          -0.29173221184786013,
          -0.29173221184786013,
          -0.29173221184786013,
          -0.29173221184786013,
          -0.29173221184786013,
          -0.29173221184786013,
          -0.20556315291430394,
          -0.29173221184786013,
          -0.29173221184786013,
          -0.29173221184786013,
          -0.20556315291430394,
          -0.29173221184786013,
          -0.29173221184786013,
          -0.29173221184786013,
          -0.29173221184786013,
          -0.29173221184786013,
          -0.20556315291430394,
          -0.29173221184786013,
          -0.29173221184786013,
          -0.29173221184786013,
          -0.29173221184786013,
          -0.29173221184786013,
          -0.29173221184786013,
          -0.29173221184786013,
          -0.29173221184786013,
          -0.29173221184786013,
          -0.29173221184786013,
          -0.29173221184786013,
          -0.29173221184786013,
          -0.29173221184786013,
          -0.29173221184786013,
          -0.29173221184786013,
          -0.29173221184786013,
          -0.29173221184786013,
          -0.29173221184786013,
          -0.29173221184786013,
          -0.29173221184786013,
          -0.29173221184786013,
          -0.29173221184786013,
          -0.29173221184786013,
          -0.29173221184786013,
          -0.29173221184786013,
          -0.29173221184786013,
          -0.29173221184786013,
          -0.29173221184786013,
          -0.29173221184786013,
          -0.29173221184786013,
          -0.29173221184786013,
          -0.29173221184786013,
          -0.29173221184786013,
          -0.29173221184786013,
          -0.29173221184786013,
          -0.20556315291430394,
          -0.29173221184786013,
          -0.29173221184786013,
          -0.29173221184786013,
          -0.29173221184786013,
          -0.29173221184786013,
          -0.20556315291430394,
          -0.29173221184786013,
          -0.29173221184786013,
          -0.29173221184786013,
          -0.29173221184786013,
          -0.29173221184786013,
          -0.29173221184786013,
          -0.29173221184786013,
          -0.29173221184786013,
          -0.29173221184786013,
          -0.29173221184786013,
          -0.29173221184786013,
          -0.29173221184786013,
          -0.29173221184786013,
          -0.29173221184786013,
          -0.29173221184786013,
          -0.29173221184786013,
          -0.29173221184786013,
          -0.29173221184786013,
          -0.29173221184786013,
          -0.29173221184786013,
          -0.29173221184786013,
          -0.29173221184786013,
          -0.29173221184786013,
          -0.29173221184786013,
          -0.29173221184786013,
          -0.29173221184786013,
          -0.29173221184786013,
          -0.29173221184786013,
          -0.29173221184786013,
          -0.29173221184786013,
          -0.29173221184786013,
          -0.29173221184786013,
          -0.29173221184786013,
          -0.29173221184786013,
          -0.29173221184786013,
          -0.29173221184786013,
          -0.29173221184786013,
          -0.29173221184786013,
          -0.29173221184786013,
          -0.29173221184786013,
          -0.20556315291430394,
          -0.29173221184786013,
          -0.29173221184786013,
          -0.29173221184786013,
          -0.29173221184786013,
          -0.29173221184786013,
          -0.29173221184786013,
          -0.29173221184786013,
          -0.29173221184786013,
          -0.29173221184786013,
          -0.29173221184786013,
          -0.29173221184786013,
          -0.29173221184786013,
          -0.29173221184786013,
          -0.29173221184786013,
          -0.29173221184786013,
          -0.29173221184786013,
          -0.29173221184786013,
          -0.29173221184786013,
          -0.29173221184786013,
          -0.29173221184786013,
          -0.29173221184786013,
          -0.20556315291430394,
          -0.29173221184786013,
          -0.29173221184786013,
          -0.20556315291430394,
          -0.29173221184786013,
          -0.29173221184786013,
          -0.29173221184786013,
          -0.29173221184786013,
          -0.29173221184786013,
          -0.29173221184786013,
          -0.29173221184786013,
          -0.29173221184786013,
          -0.29173221184786013,
          -0.29173221184786013,
          -0.29173221184786013,
          -0.29173221184786013,
          -0.29173221184786013,
          -0.29173221184786013,
          -0.29173221184786013,
          -0.29173221184786013,
          -0.29173221184786013,
          -0.29173221184786013,
          -0.29173221184786013,
          -0.29173221184786013,
          -0.29173221184786013,
          -0.29173221184786013,
          -0.29173221184786013,
          -0.29173221184786013,
          -0.29173221184786013,
          -0.29173221184786013,
          -0.29173221184786013,
          -0.29173221184786013,
          -0.29173221184786013,
          -0.29173221184786013,
          -0.29173221184786013,
          -0.29173221184786013,
          -0.29173221184786013,
          -0.29173221184786013,
          -0.29173221184786013,
          -0.29173221184786013,
          -0.29173221184786013,
          -0.29173221184786013,
          -0.29173221184786013,
          -0.29173221184786013,
          -0.29173221184786013,
          -0.29173221184786013,
          -0.29173221184786013,
          -0.29173221184786013,
          -0.29173221184786013,
          -0.29173221184786013,
          -0.29173221184786013,
          -0.29173221184786013,
          -0.20556315291430394,
          -0.29173221184786013,
          -0.20556315291430394,
          -0.29173221184786013,
          -0.29173221184786013,
          -0.29173221184786013,
          -0.29173221184786013,
          -0.29173221184786013,
          -0.29173221184786013,
          -0.29173221184786013,
          -0.26984296304238653,
          -0.29173221184786013,
          -0.29173221184786013,
          -0.29173221184786013,
          -0.29173221184786013,
          -0.20556315291430394,
          -0.29173221184786013,
          -0.29173221184786013,
          -0.29173221184786013,
          -0.20556315291430394,
          -0.29173221184786013,
          -0.29173221184786013,
          -0.20556315291430394,
          -0.29173221184786013,
          -0.29173221184786013,
          -0.29173221184786013,
          -0.29173221184786013,
          -0.29173221184786013,
          -0.29173221184786013,
          -0.29173221184786013,
          -0.29173221184786013,
          -0.29173221184786013,
          -0.29173221184786013,
          -0.29173221184786013,
          -0.29173221184786013,
          -0.29173221184786013,
          -0.29173221184786013,
          -0.20556315291430394,
          -0.29173221184786013
         ],
         "xaxis": "x",
         "y": [
          -0.3008129409136668,
          -0.30081294091366273,
          -0.30081294091366334,
          -0.30081294091366345,
          -0.30081294091366345,
          -0.30081294091366345,
          -0.30081294091366345,
          -0.30081294091366345,
          -0.30081294091366345,
          -0.30081294091366345,
          -0.30081294091366345,
          -0.30081294091366345,
          -0.30081294091366345,
          -0.30081294091366345,
          -0.30081294091366345,
          -0.30081294091366345,
          -0.30081294091366345,
          -0.30081294091366345,
          -0.17616206365606524,
          -0.30081294091366345,
          -0.30081294091366345,
          -0.30081294091366345,
          -0.30081294091366345,
          -0.30081294091366345,
          -0.30081294091366345,
          -0.30081294091366345,
          -0.30081294091366345,
          -0.30081294091366345,
          -0.30081294091366345,
          -0.30081294091366345,
          -0.30081294091366345,
          -0.30081294091366345,
          -0.30081294091366345,
          -0.30081294091366345,
          -0.30081294091366345,
          -0.30081294091366345,
          -0.30081294091366345,
          -0.17616206365606524,
          -0.30081294091366345,
          -0.30081294091366345,
          -0.30081294091366345,
          -0.30081294091366345,
          -0.30081294091366345,
          -0.30081294091366345,
          -0.30081294091366345,
          -0.30081294091366345,
          -0.30081294091366345,
          -0.30081294091366345,
          -0.30081294091366345,
          -0.30081294091366345,
          -0.30081294091366345,
          -0.30081294091366345,
          -0.30081294091366345,
          -0.17616206365606524,
          -0.30081294091366345,
          -0.30081294091366345,
          -0.30081294091366345,
          -0.30081294091366345,
          -0.30081294091366345,
          -0.30081294091366345,
          -0.30081294091366345,
          -0.30081294091366345,
          -0.30081294091366345,
          -0.30081294091366345,
          -0.30081294091366345,
          -0.30081294091366345,
          -0.30081294091366345,
          -0.30081294091366345,
          -0.30081294091366345,
          -0.30081294091366345,
          -0.30081294091366345,
          -0.30081294091366345,
          -0.30081294091366345,
          -0.30081294091366345,
          -0.30081294091366345,
          -0.30081294091366345,
          -0.30081294091366345,
          -0.30081294091366345,
          -0.30081294091366345,
          -0.30081294091366345,
          -0.30081294091366345,
          -0.30081294091366345,
          -0.30081294091366345,
          -0.30081294091366345,
          -0.3008795443365003,
          -0.30081294091366345,
          -0.17616206365606524,
          -0.30081294091366345,
          -0.30081294091366345,
          -0.30081294091366345,
          -0.30081294091366345,
          -0.30081294091366345,
          -0.30081294091366345,
          -0.30081294091366345,
          -0.30081294091366345,
          -0.30081294091366345,
          -0.30081294091366345,
          -0.17616206365606524,
          -0.17616206365606524,
          -0.30081294091366345,
          -0.30081294091366345,
          -0.30081294091366345,
          -0.30081294091366345,
          -0.17616206365606524,
          -0.30081294091366345,
          -0.30081294091366345,
          -0.30081294091366345,
          -0.30081294091366345,
          -0.30081294091366345,
          -0.30081294091366345,
          -0.30081294091366345,
          -0.30081294091366345,
          -0.30081294091366345,
          -0.30081294091366345,
          -0.30081294091366345,
          -0.30081294091366345,
          -0.30081294091366345,
          -0.30081294091366345,
          -0.30081294091366345,
          -0.30081294091366345,
          -0.30081294091366345,
          -0.30081294091366345,
          -0.30081294091366345,
          -0.17616206365606524,
          -0.30081294091366345,
          -0.30081294091366345,
          -0.30081294091366345,
          -0.30081294091366345,
          -0.30081294091366345,
          -0.30081294091366345,
          -0.30081294091366345,
          -0.30081294091366345,
          -0.30081294091366345,
          -0.30081294091366345,
          -0.30081294091366345,
          -0.17616206365606524,
          -0.30081294091366345,
          -0.30081294091366345,
          -0.30081294091366345,
          -0.30081294091366345,
          -0.30081294091366345,
          -0.17616206365606524,
          -0.30081294091366345,
          -0.30081294091366345,
          -0.30081294091366345,
          -0.30081294091366345,
          -0.30081294091366345,
          -0.30081294091366345,
          -0.30081294091366345,
          -0.30081294091366345,
          -0.17616206365606524,
          -0.30081294091366345,
          -0.30081294091366345,
          -0.30081294091366345,
          -0.17616206365606524,
          -0.30081294091366345,
          -0.30081294091366345,
          -0.30081294091366345,
          -0.30081294091366345,
          -0.30081294091366345,
          -0.17616206365606524,
          -0.30081294091366345,
          -0.30081294091366345,
          -0.30081294091366345,
          -0.30081294091366345,
          -0.30081294091366345,
          -0.30081294091366345,
          -0.30081294091366345,
          -0.30081294091366345,
          -0.30081294091366345,
          -0.30081294091366345,
          -0.30081294091366345,
          -0.30081294091366345,
          -0.30081294091366345,
          -0.30081294091366345,
          -0.30081294091366345,
          -0.30081294091366345,
          -0.30081294091366345,
          -0.30081294091366345,
          -0.30081294091366345,
          -0.30081294091366345,
          -0.30081294091366345,
          -0.30081294091366345,
          -0.30081294091366345,
          -0.30081294091366345,
          -0.30081294091366345,
          -0.30081294091366345,
          -0.30081294091366345,
          -0.30081294091366345,
          -0.30081294091366345,
          -0.30081294091366345,
          -0.30081294091366345,
          -0.30081294091366345,
          -0.30081294091366345,
          -0.30081294091366345,
          -0.30081294091366345,
          -0.17616206365606524,
          -0.30081294091366345,
          -0.30081294091366345,
          -0.30081294091366345,
          -0.30081294091366345,
          -0.30081294091366345,
          -0.17616206365606524,
          -0.30081294091366345,
          -0.30081294091366345,
          -0.30081294091366345,
          -0.30081294091366345,
          -0.30081294091366345,
          -0.30081294091366345,
          -0.30081294091366345,
          -0.30081294091366345,
          -0.30081294091366345,
          -0.30081294091366345,
          -0.30081294091366345,
          -0.30081294091366345,
          -0.30081294091366345,
          -0.30081294091366345,
          -0.30081294091366345,
          -0.30081294091366345,
          -0.30081294091366345,
          -0.30081294091366345,
          -0.30081294091366345,
          -0.30081294091366345,
          -0.30081294091366345,
          -0.30081294091366345,
          -0.30081294091366345,
          -0.30081294091366345,
          -0.30081294091366345,
          -0.30081294091366345,
          -0.30081294091366345,
          -0.30081294091366345,
          -0.30081294091366345,
          -0.30081294091366345,
          -0.30081294091366345,
          -0.30081294091366345,
          -0.30081294091366345,
          -0.30081294091366345,
          -0.30081294091366345,
          -0.30081294091366345,
          -0.30081294091366345,
          -0.30081294091366345,
          -0.30081294091366345,
          -0.30081294091366345,
          -0.17616206365606524,
          -0.30081294091366345,
          -0.30081294091366345,
          -0.30081294091366345,
          -0.30081294091366345,
          -0.30081294091366345,
          -0.30081294091366345,
          -0.30081294091366345,
          -0.30081294091366345,
          -0.30081294091366345,
          -0.30081294091366345,
          -0.30081294091366345,
          -0.30081294091366345,
          -0.30081294091366345,
          -0.30081294091366345,
          -0.30081294091366345,
          -0.30081294091366345,
          -0.30081294091366345,
          -0.30081294091366345,
          -0.30081294091366345,
          -0.30081294091366345,
          -0.30081294091366345,
          -0.17616206365606524,
          -0.30081294091366345,
          -0.30081294091366345,
          -0.17616206365606524,
          -0.30081294091366345,
          -0.30081294091366345,
          -0.30081294091366345,
          -0.30081294091366345,
          -0.30081294091366345,
          -0.30081294091366345,
          -0.30081294091366345,
          -0.30081294091366345,
          -0.30081294091366345,
          -0.30081294091366345,
          -0.30081294091366345,
          -0.30081294091366345,
          -0.30081294091366345,
          -0.30081294091366345,
          -0.30081294091366345,
          -0.30081294091366345,
          -0.30081294091366345,
          -0.30081294091366345,
          -0.30081294091366345,
          -0.30081294091366345,
          -0.30081294091366345,
          -0.30081294091366345,
          -0.30081294091366345,
          -0.30081294091366345,
          -0.30081294091366345,
          -0.30081294091366345,
          -0.30081294091366345,
          -0.30081294091366345,
          -0.30081294091366345,
          -0.30081294091366345,
          -0.30081294091366345,
          -0.30081294091366345,
          -0.30081294091366345,
          -0.30081294091366345,
          -0.30081294091366345,
          -0.30081294091366345,
          -0.30081294091366345,
          -0.30081294091366345,
          -0.30081294091366345,
          -0.30081294091366345,
          -0.30081294091366345,
          -0.30081294091366345,
          -0.30081294091366345,
          -0.30081294091366345,
          -0.30081294091366345,
          -0.30081294091366345,
          -0.30081294091366345,
          -0.30081294091366345,
          -0.17616206365606524,
          -0.30081294091366345,
          -0.17616206365606524,
          -0.30081294091366345,
          -0.30081294091366345,
          -0.30081294091366345,
          -0.30081294091366345,
          -0.30081294091366345,
          -0.30081294091366345,
          -0.30081294091366345,
          -0.3008795443365003,
          -0.30081294091366345,
          -0.30081294091366345,
          -0.30081294091366345,
          -0.30081294091366345,
          -0.17616206365606524,
          -0.30081294091366345,
          -0.30081294091366345,
          -0.30081294091366345,
          -0.17616206365606524,
          -0.30081294091366345,
          -0.30081294091366345,
          -0.17616206365606524,
          -0.30081294091366345,
          -0.30081294091366345,
          -0.30081294091366345,
          -0.30081294091366345,
          -0.30081294091366345,
          -0.30081294091366345,
          -0.30081294091366345,
          -0.30081294091366345,
          -0.30081294091366345,
          -0.30081294091366345,
          -0.30081294091366345,
          -0.30081294091366345,
          -0.30081294091366345,
          -0.30081294091366345,
          -0.17616206365606524,
          -0.30081294091366345
         ],
         "yaxis": "y"
        },
        {
         "hovertemplate": "color=Assez bien<br>PC 1 (41.3%)=%{x}<br>PC 2 (24.2%)=%{y}<extra></extra>",
         "legendgroup": "Assez bien",
         "marker": {
          "color": "#EF553B",
          "symbol": "circle"
         },
         "mode": "markers",
         "name": "Assez bien",
         "orientation": "v",
         "showlegend": true,
         "type": "scatter",
         "x": [
          0.6474136737428141,
          0.6474136737428141,
          0.7335827326763705,
          0.6474136737428141,
          0.6474136737428141,
          0.6474136737428141,
          0.6474136737428141,
          0.6474136737428141,
          0.7335827326763705,
          0.6474136737428141,
          0.6474136737428141,
          0.6474136737428141,
          0.6693029225482878,
          0.4149510129026313,
          0.6474136737428141,
          0.6474136737428141,
          0.6474136737428141,
          0.7335827326763705,
          0.6474136737428141,
          0.6474136737428141,
          0.6474136737428141,
          0.6474136737428141,
          0.6474136737428141,
          0.6474136737428141,
          0.6474136737428141,
          0.4149510129026313,
          0.6474136737428141,
          0.6474136737428141,
          0.6474136737428141,
          0.6474136737428141,
          0.6474136737428141,
          0.6474136737428141,
          0.6474136737428141,
          0.6474136737428141,
          0.4149510129026313,
          0.6693029225482878,
          0.6474136737428141,
          0.6474136737428141,
          0.6474136737428141,
          0.7335827326763705,
          0.6474136737428141,
          0.6474136737428141,
          0.6474136737428141,
          0.6474136737428141,
          0.6693029225482878,
          0.6474136737428141,
          0.6474136737428141,
          0.6474136737428141,
          0.6474136737428141,
          0.6474136737428141,
          0.6474136737428141,
          0.6474136737428141,
          0.6474136737428141,
          0.6474136737428141,
          0.6474136737428141,
          0.6474136737428141,
          0.6474136737428141,
          0.6474136737428141,
          0.6474136737428141,
          0.6474136737428141,
          0.6474136737428141,
          0.7335827326763705,
          0.6474136737428141,
          0.6474136737428141,
          0.6474136737428141,
          0.6474136737428141,
          0.6474136737428141,
          0.6474136737428141,
          0.6474136737428141,
          0.6474136737428141,
          0.6474136737428141,
          0.4149510129026313,
          0.6474136737428141,
          0.7335827326763705,
          0.6474136737428141,
          0.6474136737428141,
          0.6474136737428141,
          0.6474136737428141,
          0.6474136737428141,
          0.6474136737428141,
          0.4149510129026313,
          0.6474136737428141,
          0.6474136737428141,
          0.6474136737428141,
          0.6474136737428141,
          0.6474136737428141,
          0.7335827326763705,
          0.7335827326763705,
          0.6474136737428141,
          0.6474136737428141,
          0.6474136737428141,
          0.6474136737428141,
          0.6474136737428141,
          0.6474136737428141,
          0.6474136737428141,
          0.7335827326763705,
          0.6474136737428141,
          0.6474136737428141,
          0.6474136737428141,
          0.6474136737428141,
          0.7335827326763705,
          0.4149510129026313,
          0.6474136737428141,
          0.6474136737428141,
          0.6474136737428141,
          0.6474136737428141,
          0.6474136737428141,
          0.6474136737428141,
          0.6474136737428141,
          0.6474136737428141,
          0.7335827326763705,
          0.6474136737428141,
          0.7335827326763705,
          0.6474136737428141,
          0.6474136737428141,
          0.6474136737428141,
          0.6474136737428141,
          0.6474136737428141,
          0.6474136737428141,
          0.6474136737428141,
          0.6474136737428141,
          0.6474136737428141,
          0.6474136737428141,
          0.6474136737428141,
          0.6474136737428141,
          0.6474136737428141,
          0.6474136737428141,
          0.7335827326763705,
          0.6474136737428141,
          0.6474136737428141,
          0.6474136737428141,
          0.4149510129026313,
          0.6474136737428141,
          0.7335827326763705,
          0.6474136737428141,
          0.6474136737428141,
          0.6474136737428141,
          0.6474136737428141,
          0.6474136737428141,
          0.6474136737428141,
          0.6474136737428141,
          0.4149510129026313,
          0.6474136737428141,
          0.6474136737428141,
          0.6474136737428141,
          0.6474136737428141,
          0.6474136737428141,
          0.6474136737428141,
          0.6474136737428141,
          0.6474136737428141,
          0.7335827326763705,
          0.6474136737428141,
          0.6474136737428141,
          0.6693029225482878,
          0.6474136737428141,
          0.6474136737428141,
          0.6474136737428141,
          0.7335827326763705,
          0.6474136737428141,
          0.6474136737428141,
          0.6474136737428141,
          0.7335827326763705,
          0.6474136737428141,
          0.6474136737428141,
          0.6474136737428141,
          0.6474136737428141,
          0.6474136737428141,
          0.6474136737428141,
          0.6474136737428141,
          0.6474136737428141,
          0.6474136737428141,
          0.6474136737428141,
          0.6474136737428141,
          0.6474136737428141,
          0.6474136737428141,
          0.6474136737428141,
          0.6474136737428141,
          0.6474136737428141,
          0.6474136737428141,
          0.6474136737428141,
          0.6474136737428141,
          0.4149510129026313,
          0.6474136737428141,
          0.6474136737428141,
          0.6474136737428141,
          0.6474136737428141,
          0.6693029225482878,
          0.6474136737428141,
          0.6474136737428141,
          0.6474136737428141,
          0.6474136737428141,
          0.6474136737428141,
          0.6693029225482878,
          0.6474136737428141,
          0.4149510129026313,
          0.6474136737428141,
          0.6474136737428141,
          0.6474136737428141,
          0.6474136737428141,
          0.7335827326763705,
          0.6474136737428141,
          0.6474136737428141,
          0.6474136737428141,
          0.6474136737428141,
          0.6474136737428141,
          0.6474136737428141,
          0.6474136737428141,
          0.4149510129026313,
          0.6474136737428141,
          0.4149510129026313,
          0.6474136737428141,
          0.6474136737428141,
          0.6474136737428141,
          0.6474136737428141,
          0.7335827326763705,
          0.7335827326763705,
          0.6474136737428141,
          0.6474136737428141,
          0.4149510129026313,
          0.7335827326763705,
          0.6474136737428141,
          0.6474136737428141,
          0.7335827326763705,
          0.6693029225482878,
          0.6474136737428141,
          0.6474136737428141,
          0.6474136737428141,
          0.6474136737428141,
          0.6474136737428141,
          0.4149510129026313,
          0.6693029225482878,
          0.6474136737428141,
          0.6474136737428141,
          0.6474136737428141,
          0.6474136737428141,
          0.6474136737428141,
          0.6474136737428141,
          0.6474136737428141,
          0.7335827326763705,
          0.6474136737428141,
          0.6474136737428141,
          0.6474136737428141,
          0.6474136737428141,
          0.6474136737428141,
          0.6474136737428141,
          0.6474136737428141,
          0.6474136737428141,
          0.6474136737428141,
          0.7335827326763705,
          0.7335827326763705,
          0.6474136737428141,
          0.6474136737428141,
          0.6474136737428141,
          0.6474136737428141,
          0.7335827326763705,
          0.6474136737428141,
          0.6474136737428141,
          0.6474136737428141,
          0.6474136737428141,
          0.6474136737428141,
          0.6474136737428141,
          0.6474136737428141,
          0.6474136737428141,
          0.6474136737428141,
          0.6474136737428141,
          0.6474136737428141,
          0.6474136737428141,
          0.6474136737428141,
          0.6474136737428141,
          0.6474136737428141,
          0.6474136737428141,
          0.7335827326763705,
          0.6474136737428141,
          0.6474136737428141,
          0.6474136737428141,
          0.6474136737428141,
          0.7335827326763705,
          0.7335827326763705,
          0.6474136737428141,
          0.6474136737428141,
          0.6474136737428141,
          0.6474136737428141,
          0.6474136737428141,
          0.4149510129026313,
          0.6474136737428141,
          0.6474136737428141,
          0.6474136737428141,
          0.6474136737428141,
          0.6474136737428141,
          0.6474136737428141,
          0.6474136737428141,
          0.6474136737428141
         ],
         "xaxis": "x",
         "y": [
          -0.00012058694215409208,
          -0.00012058694215411755,
          0.12453029031544406,
          -0.00012058694215411757,
          -0.00012058694215411757,
          -0.00012058694215411757,
          -0.00012058694215411757,
          -0.00012058694215411757,
          0.12453029031544406,
          -0.00012058694215411757,
          -0.00012058694215411757,
          -0.00012058694215411757,
          -0.0001871903649910098,
          1.0609216401616575,
          -0.00012058694215411757,
          -0.00012058694215411757,
          -0.00012058694215411757,
          0.12453029031544406,
          -0.00012058694215411757,
          -0.00012058694215411757,
          -0.00012058694215411757,
          -0.00012058694215411757,
          -0.00012058694215411757,
          -0.00012058694215411757,
          -0.00012058694215411757,
          1.0609216401616575,
          -0.00012058694215411757,
          -0.00012058694215411757,
          -0.00012058694215411757,
          -0.00012058694215411757,
          -0.00012058694215411757,
          -0.00012058694215411757,
          -0.00012058694215411757,
          -0.00012058694215411757,
          1.0609216401616575,
          -0.0001871903649910098,
          -0.00012058694215411757,
          -0.00012058694215411757,
          -0.00012058694215411757,
          0.12453029031544406,
          -0.00012058694215411757,
          -0.00012058694215411757,
          -0.00012058694215411757,
          -0.00012058694215411757,
          -0.0001871903649910098,
          -0.00012058694215411757,
          -0.00012058694215411757,
          -0.00012058694215411757,
          -0.00012058694215411757,
          -0.00012058694215411757,
          -0.00012058694215411757,
          -0.00012058694215411757,
          -0.00012058694215411757,
          -0.00012058694215411757,
          -0.00012058694215411757,
          -0.00012058694215411757,
          -0.00012058694215411757,
          -0.00012058694215411757,
          -0.00012058694215411757,
          -0.00012058694215411757,
          -0.00012058694215411757,
          0.12453029031544406,
          -0.00012058694215411757,
          -0.00012058694215411757,
          -0.00012058694215411757,
          -0.00012058694215411757,
          -0.00012058694215411757,
          -0.00012058694215411757,
          -0.00012058694215411757,
          -0.00012058694215411757,
          -0.00012058694215411757,
          1.0609216401616575,
          -0.00012058694215411757,
          0.12453029031544406,
          -0.00012058694215411757,
          -0.00012058694215411757,
          -0.00012058694215411757,
          -0.00012058694215411757,
          -0.00012058694215411757,
          -0.00012058694215411757,
          1.0609216401616575,
          -0.00012058694215411757,
          -0.00012058694215411757,
          -0.00012058694215411757,
          -0.00012058694215411757,
          -0.00012058694215411757,
          0.12453029031544406,
          0.12453029031544406,
          -0.00012058694215411757,
          -0.00012058694215411757,
          -0.00012058694215411757,
          -0.00012058694215411757,
          -0.00012058694215411757,
          -0.00012058694215411757,
          -0.00012058694215411757,
          0.12453029031544406,
          -0.00012058694215411757,
          -0.00012058694215411757,
          -0.00012058694215411757,
          -0.00012058694215411757,
          0.12453029031544406,
          1.0609216401616575,
          -0.00012058694215411757,
          -0.00012058694215411757,
          -0.00012058694215411757,
          -0.00012058694215411757,
          -0.00012058694215411757,
          -0.00012058694215411757,
          -0.00012058694215411757,
          -0.00012058694215411757,
          0.12453029031544406,
          -0.00012058694215411757,
          0.12453029031544406,
          -0.00012058694215411757,
          -0.00012058694215411757,
          -0.00012058694215411757,
          -0.00012058694215411757,
          -0.00012058694215411757,
          -0.00012058694215411757,
          -0.00012058694215411757,
          -0.00012058694215411757,
          -0.00012058694215411757,
          -0.00012058694215411757,
          -0.00012058694215411757,
          -0.00012058694215411757,
          -0.00012058694215411757,
          -0.00012058694215411757,
          0.12453029031544406,
          -0.00012058694215411757,
          -0.00012058694215411757,
          -0.00012058694215411757,
          1.0609216401616575,
          -0.00012058694215411757,
          0.12453029031544406,
          -0.00012058694215411757,
          -0.00012058694215411757,
          -0.00012058694215411757,
          -0.00012058694215411757,
          -0.00012058694215411757,
          -0.00012058694215411757,
          -0.00012058694215411757,
          1.0609216401616575,
          -0.00012058694215411757,
          -0.00012058694215411757,
          -0.00012058694215411757,
          -0.00012058694215411757,
          -0.00012058694215411757,
          -0.00012058694215411757,
          -0.00012058694215411757,
          -0.00012058694215411757,
          0.12453029031544406,
          -0.00012058694215411757,
          -0.00012058694215411757,
          -0.0001871903649910098,
          -0.00012058694215411757,
          -0.00012058694215411757,
          -0.00012058694215411757,
          0.12453029031544406,
          -0.00012058694215411757,
          -0.00012058694215411757,
          -0.00012058694215411757,
          0.12453029031544406,
          -0.00012058694215411757,
          -0.00012058694215411757,
          -0.00012058694215411757,
          -0.00012058694215411757,
          -0.00012058694215411757,
          -0.00012058694215411757,
          -0.00012058694215411757,
          -0.00012058694215411757,
          -0.00012058694215411757,
          -0.00012058694215411757,
          -0.00012058694215411757,
          -0.00012058694215411757,
          -0.00012058694215411757,
          -0.00012058694215411757,
          -0.00012058694215411757,
          -0.00012058694215411757,
          -0.00012058694215411757,
          -0.00012058694215411757,
          -0.00012058694215411757,
          1.0609216401616575,
          -0.00012058694215411757,
          -0.00012058694215411757,
          -0.00012058694215411757,
          -0.00012058694215411757,
          -0.0001871903649910098,
          -0.00012058694215411757,
          -0.00012058694215411757,
          -0.00012058694215411757,
          -0.00012058694215411757,
          -0.00012058694215411757,
          -0.0001871903649910098,
          -0.00012058694215411757,
          1.0609216401616575,
          -0.00012058694215411757,
          -0.00012058694215411757,
          -0.00012058694215411757,
          -0.00012058694215411757,
          0.12453029031544406,
          -0.00012058694215411757,
          -0.00012058694215411757,
          -0.00012058694215411757,
          -0.00012058694215411757,
          -0.00012058694215411757,
          -0.00012058694215411757,
          -0.00012058694215411757,
          1.0609216401616575,
          -0.00012058694215411757,
          1.0609216401616575,
          -0.00012058694215411757,
          -0.00012058694215411757,
          -0.00012058694215411757,
          -0.00012058694215411757,
          0.12453029031544406,
          0.12453029031544406,
          -0.00012058694215411757,
          -0.00012058694215411757,
          1.0609216401616575,
          0.12453029031544406,
          -0.00012058694215411757,
          -0.00012058694215411757,
          0.12453029031544406,
          -0.0001871903649910098,
          -0.00012058694215411757,
          -0.00012058694215411757,
          -0.00012058694215411757,
          -0.00012058694215411757,
          -0.00012058694215411757,
          1.0609216401616575,
          -0.0001871903649910098,
          -0.00012058694215411757,
          -0.00012058694215411757,
          -0.00012058694215411757,
          -0.00012058694215411757,
          -0.00012058694215411757,
          -0.00012058694215411757,
          -0.00012058694215411757,
          0.12453029031544406,
          -0.00012058694215411757,
          -0.00012058694215411757,
          -0.00012058694215411757,
          -0.00012058694215411757,
          -0.00012058694215411757,
          -0.00012058694215411757,
          -0.00012058694215411757,
          -0.00012058694215411757,
          -0.00012058694215411757,
          0.12453029031544406,
          0.12453029031544406,
          -0.00012058694215411757,
          -0.00012058694215411757,
          -0.00012058694215411757,
          -0.00012058694215411757,
          0.12453029031544406,
          -0.00012058694215411757,
          -0.00012058694215411757,
          -0.00012058694215411757,
          -0.00012058694215411757,
          -0.00012058694215411757,
          -0.00012058694215411757,
          -0.00012058694215411757,
          -0.00012058694215411757,
          -0.00012058694215411757,
          -0.00012058694215411757,
          -0.00012058694215411757,
          -0.00012058694215411757,
          -0.00012058694215411757,
          -0.00012058694215411757,
          -0.00012058694215411757,
          -0.00012058694215411757,
          0.12453029031544406,
          -0.00012058694215411757,
          -0.00012058694215411757,
          -0.00012058694215411757,
          -0.00012058694215411757,
          0.12453029031544406,
          0.12453029031544406,
          -0.00012058694215411757,
          -0.00012058694215411757,
          -0.00012058694215411757,
          -0.00012058694215411757,
          -0.00012058694215411757,
          1.0609216401616575,
          -0.00012058694215411757,
          -0.00012058694215411757,
          -0.00012058694215411757,
          -0.00012058694215411757,
          -0.00012058694215411757,
          -0.00012058694215411757,
          -0.00012058694215411757,
          -0.00012058694215411757
         ],
         "yaxis": "y"
        },
        {
         "hovertemplate": "color=Trés bien<br>PC 1 (41.3%)=%{x}<br>PC 2 (24.2%)=%{y}<extra></extra>",
         "legendgroup": "Trés bien",
         "marker": {
          "color": "#00cc96",
          "symbol": "circle"
         },
         "mode": "markers",
         "name": "Trés bien",
         "orientation": "v",
         "showlegend": true,
         "type": "scatter",
         "x": [
          -0.38354941722702884,
          -0.38354941722702884,
          0.23696474858990618,
          0.5555964683636454,
          -0.702181137000768,
          -0.702181137000768,
          -0.38354941722702884,
          -0.38354941722702884,
          -0.2973803582934726,
          -0.702181137000768,
          0.23696474858990618,
          0.5555964683636454,
          -0.2973803582934726,
          -0.38354941722702884,
          -0.38354941722702884,
          -0.36166016842155524,
          -0.702181137000768,
          0.23696474858990618,
          -0.702181137000768,
          -0.38354941722702884,
          -0.38354941722702884,
          -0.38354941722702884,
          0.23696474858990618,
          -0.702181137000768,
          -0.38354941722702884,
          0.5555964683636454,
          -0.38354941722702884,
          -0.38354941722702884,
          -0.38354941722702884,
          -0.702181137000768,
          -0.702181137000768,
          -0.702181137000768,
          -0.38354941722702884,
          0.5555964683636454,
          -0.38354941722702884,
          0.5555964683636454,
          -0.702181137000768,
          -0.38354941722702884,
          -0.38354941722702884,
          0.5555964683636454,
          -0.38354941722702884,
          -0.38354941722702884,
          0.5555964683636454,
          -0.702181137000768,
          -0.38354941722702884,
          0.5555964683636454,
          -0.38354941722702884,
          -0.38354941722702884,
          -0.702181137000768,
          0.5555964683636454,
          0.5555964683636454,
          -0.702181137000768,
          -0.38354941722702884,
          -0.38354941722702884,
          -0.38354941722702884,
          0.5555964683636454,
          -0.2973803582934726,
          -0.38354941722702884,
          0.5555964683636454,
          -0.2973803582934726,
          -0.702181137000768,
          -0.38354941722702884,
          -0.38354941722702884,
          0.5555964683636454,
          -0.38354941722702884,
          0.5555964683636454,
          -0.38354941722702884,
          -0.38354941722702884,
          -0.38354941722702884,
          -0.702181137000768,
          -0.2973803582934726,
          -0.38354941722702884,
          -0.38354941722702884,
          -0.38354941722702884,
          -0.38354941722702884,
          0.23696474858990618,
          0.5555964683636454,
          -0.38354941722702884,
          -0.38354941722702884,
          0.23696474858990618,
          0.5555964683636454,
          0.5555964683636454,
          0.5555964683636454,
          -0.38354941722702884,
          0.5555964683636454,
          -0.38354941722702884,
          -0.38354941722702884,
          -0.38354941722702884,
          -0.2973803582934726,
          -0.38354941722702884,
          -0.702181137000768,
          -0.38354941722702884,
          -0.38354941722702884,
          -0.38354941722702884,
          0.5555964683636454,
          -0.38354941722702884,
          0.5555964683636454,
          -0.38354941722702884,
          -0.38354941722702884,
          -0.38354941722702884,
          -0.38354941722702884,
          -0.2973803582934726
         ],
         "xaxis": "x",
         "y": [
          -0.3414622910578819,
          -0.3414622910578819,
          0.8956214127598413,
          -0.04076993708637251,
          0.5949290587883318,
          0.5949290587883318,
          -0.3414622910578819,
          -0.3414622910578819,
          -0.21681141380028376,
          0.5949290587883318,
          0.8956214127598413,
          -0.04076993708637251,
          -0.21681141380028376,
          -0.3414622910578819,
          -0.3414622910578819,
          -0.3415288944807188,
          0.5949290587883318,
          0.8956214127598413,
          0.5949290587883318,
          -0.3414622910578819,
          -0.3414622910578819,
          -0.3414622910578819,
          0.8956214127598413,
          0.5949290587883318,
          -0.3414622910578819,
          -0.04076993708637251,
          -0.3414622910578819,
          -0.3414622910578819,
          -0.3414622910578819,
          0.5949290587883318,
          0.5949290587883318,
          0.5949290587883318,
          -0.3414622910578819,
          -0.04076993708637251,
          -0.3414622910578819,
          -0.04076993708637251,
          0.5949290587883318,
          -0.3414622910578819,
          -0.3414622910578819,
          -0.04076993708637251,
          -0.3414622910578819,
          -0.3414622910578819,
          -0.04076993708637251,
          0.5949290587883318,
          -0.3414622910578819,
          -0.04076993708637251,
          -0.3414622910578819,
          -0.3414622910578819,
          0.5949290587883318,
          -0.04076993708637251,
          -0.04076993708637251,
          0.5949290587883318,
          -0.3414622910578819,
          -0.3414622910578819,
          -0.3414622910578819,
          -0.04076993708637251,
          -0.21681141380028376,
          -0.3414622910578819,
          -0.04076993708637251,
          -0.21681141380028376,
          0.5949290587883318,
          -0.3414622910578819,
          -0.3414622910578819,
          -0.04076993708637251,
          -0.3414622910578819,
          -0.04076993708637251,
          -0.3414622910578819,
          -0.3414622910578819,
          -0.3414622910578819,
          0.5949290587883318,
          -0.21681141380028376,
          -0.3414622910578819,
          -0.3414622910578819,
          -0.3414622910578819,
          -0.3414622910578819,
          0.8956214127598413,
          -0.04076993708637251,
          -0.3414622910578819,
          -0.3414622910578819,
          0.8956214127598413,
          -0.04076993708637251,
          -0.04076993708637251,
          -0.04076993708637251,
          -0.3414622910578819,
          -0.04076993708637251,
          -0.3414622910578819,
          -0.3414622910578819,
          -0.3414622910578819,
          -0.21681141380028376,
          -0.3414622910578819,
          0.5949290587883318,
          -0.3414622910578819,
          -0.3414622910578819,
          -0.3414622910578819,
          -0.04076993708637251,
          -0.3414622910578819,
          -0.04076993708637251,
          -0.3414622910578819,
          -0.3414622910578819,
          -0.3414622910578819,
          -0.3414622910578819,
          -0.21681141380028376
         ],
         "yaxis": "y"
        },
        {
         "hovertemplate": "color=Moyen<br>PC 1 (41.3%)=%{x}<br>PC 2 (24.2%)=%{y}<extra></extra>",
         "legendgroup": "Moyen",
         "marker": {
          "color": "#ab63fa",
          "symbol": "circle"
         },
         "mode": "markers",
         "name": "Moyen",
         "orientation": "v",
         "showlegend": true,
         "type": "scatter",
         "x": [
          -0.5983561175934391,
          0.34078976799723526,
          -0.6103639316215993,
          -0.6103639316215993,
          0.34078976799723526,
          -0.6103639316215993,
          -0.6103639316215993,
          -0.6103639316215993,
          -0.6103639316215993,
          -0.6103639316215993,
          -0.6103639316215993,
          -0.6103639316215993,
          -0.6103639316215993,
          -0.6103639316215993,
          0.34078976799723526,
          -0.6103639316215993,
          -0.6103639316215993,
          0.34078976799723526,
          -0.6103639316215993,
          -0.6103639316215993,
          -0.6103639316215993,
          -0.6103639316215993,
          0.34078976799723526,
          -0.6103639316215993,
          -0.6103639316215993,
          0.34078976799723526,
          -0.6103639316215993,
          -0.6103639316215993,
          -0.6103639316215993,
          -0.6103639316215993,
          -0.6103639316215993,
          -0.6103639316215993,
          -0.6103639316215993,
          -0.5241948726880431,
          -0.6103639316215993,
          -0.6103639316215993,
          -0.6103639316215993,
          -0.6103639316215993,
          -0.6103639316215993,
          -0.6103639316215993,
          -0.6103639316215993,
          -0.6103639316215993,
          -0.5241948726880431,
          -0.6103639316215993,
          -0.6103639316215993,
          -0.6103639316215993,
          -0.6103639316215993,
          -0.6103639316215993,
          -0.6103639316215993,
          -0.6103639316215993,
          -0.6103639316215993,
          -0.6103639316215993,
          -0.6103639316215993,
          -0.6103639316215993,
          -0.6103639316215993,
          0.34078976799723526,
          -0.6103639316215993,
          -0.6103639316215993,
          -0.5983561175934391,
          -0.6103639316215993,
          -0.6103639316215993,
          -0.6103639316215993,
          -0.6103639316215993,
          -0.6103639316215993,
          -0.6103639316215993,
          -0.6103639316215993,
          -0.6103639316215993,
          -0.6103639316215993,
          -0.6103639316215993,
          -0.6103639316215993,
          -0.6103639316215993,
          -0.6103639316215993,
          -0.6103639316215993,
          -0.6103639316215993,
          -0.6103639316215993,
          -0.6103639316215993,
          -0.6103639316215993,
          -0.6103639316215993,
          -0.6103639316215993,
          -0.6103639316215993,
          -0.6103639316215993,
          -0.6103639316215993,
          0.34078976799723526,
          -0.6103639316215993,
          -0.5983561175934391,
          0.34078976799723526,
          -0.6103639316215993,
          -0.6103639316215993,
          -0.6103639316215993,
          -0.6103639316215993,
          -0.6103639316215993,
          -0.6103639316215993,
          -0.6103639316215993,
          -0.6103639316215993,
          0.34078976799723526,
          -0.6103639316215993,
          -0.6103639316215993,
          -0.5241948726880431,
          -0.6103639316215993,
          -0.6103639316215993,
          0.34078976799723526,
          -0.6103639316215993,
          -0.6103639316215993,
          -0.6103639316215993,
          0.34078976799723526,
          -0.6103639316215993,
          -0.6103639316215993,
          -0.6103639316215993,
          -0.6103639316215993,
          -0.6103639316215993,
          -0.6103639316215993,
          0.3506712027745487,
          0.34078976799723526,
          -0.6103639316215993,
          -0.6103639316215993,
          -0.6103639316215993,
          -0.6103639316215993,
          -0.6103639316215993,
          -0.6103639316215993,
          -0.6103639316215993,
          -0.6103639316215993,
          -0.6103639316215993,
          -0.6103639316215993,
          -0.6103639316215993,
          -0.6103639316215993,
          -0.6103639316215993,
          -0.6103639316215993,
          -0.6103639316215993,
          -0.6103639316215993,
          -0.6103639316215993,
          -0.6103639316215993
         ],
         "xaxis": "x",
         "y": [
          0.7603387106795929,
          1.0610310646511023,
          0.63557840893255,
          0.63557840893255,
          1.0610310646511023,
          0.63557840893255,
          0.63557840893255,
          0.63557840893255,
          0.63557840893255,
          0.63557840893255,
          0.63557840893255,
          0.63557840893255,
          0.63557840893255,
          0.63557840893255,
          1.0610310646511023,
          0.63557840893255,
          0.63557840893255,
          1.0610310646511023,
          0.63557840893255,
          0.63557840893255,
          0.63557840893255,
          0.63557840893255,
          1.0610310646511023,
          0.63557840893255,
          0.63557840893255,
          1.0610310646511023,
          0.63557840893255,
          0.63557840893255,
          0.63557840893255,
          0.63557840893255,
          0.63557840893255,
          0.63557840893255,
          0.63557840893255,
          0.7602292861901483,
          0.63557840893255,
          0.63557840893255,
          0.63557840893255,
          0.63557840893255,
          0.63557840893255,
          0.63557840893255,
          0.63557840893255,
          0.63557840893255,
          0.7602292861901483,
          0.63557840893255,
          0.63557840893255,
          0.63557840893255,
          0.63557840893255,
          0.63557840893255,
          0.63557840893255,
          0.63557840893255,
          0.63557840893255,
          0.63557840893255,
          0.63557840893255,
          0.63557840893255,
          0.63557840893255,
          1.0610310646511023,
          0.63557840893255,
          0.63557840893255,
          0.7603387106795929,
          0.63557840893255,
          0.63557840893255,
          0.63557840893255,
          0.63557840893255,
          0.63557840893255,
          0.63557840893255,
          0.63557840893255,
          0.63557840893255,
          0.63557840893255,
          0.63557840893255,
          0.63557840893255,
          0.63557840893255,
          0.63557840893255,
          0.63557840893255,
          0.63557840893255,
          0.63557840893255,
          0.63557840893255,
          0.63557840893255,
          0.63557840893255,
          0.63557840893255,
          0.63557840893255,
          0.63557840893255,
          0.63557840893255,
          1.0610310646511023,
          0.63557840893255,
          0.7603387106795929,
          1.0610310646511023,
          0.63557840893255,
          0.63557840893255,
          0.63557840893255,
          0.63557840893255,
          0.63557840893255,
          0.63557840893255,
          0.63557840893255,
          0.63557840893255,
          1.0610310646511023,
          0.63557840893255,
          0.63557840893255,
          0.7602292861901483,
          0.63557840893255,
          0.63557840893255,
          1.0610310646511023,
          0.63557840893255,
          0.63557840893255,
          0.63557840893255,
          1.0610310646511023,
          0.63557840893255,
          0.63557840893255,
          0.63557840893255,
          0.63557840893255,
          0.63557840893255,
          0.63557840893255,
          0.9362041594812225,
          1.0610310646511023,
          0.63557840893255,
          0.63557840893255,
          0.63557840893255,
          0.63557840893255,
          0.63557840893255,
          0.63557840893255,
          0.63557840893255,
          0.63557840893255,
          0.63557840893255,
          0.63557840893255,
          0.63557840893255,
          0.63557840893255,
          0.63557840893255,
          0.63557840893255,
          0.63557840893255,
          0.63557840893255,
          0.63557840893255,
          0.63557840893255
         ],
         "yaxis": "y"
        }
       ],
       "layout": {
        "legend": {
         "title": {
          "text": "color"
         },
         "tracegroupgap": 0
        },
        "margin": {
         "t": 60
        },
        "template": {
         "data": {
          "bar": [
           {
            "error_x": {
             "color": "#2a3f5f"
            },
            "error_y": {
             "color": "#2a3f5f"
            },
            "marker": {
             "line": {
              "color": "#E5ECF6",
              "width": 0.5
             },
             "pattern": {
              "fillmode": "overlay",
              "size": 10,
              "solidity": 0.2
             }
            },
            "type": "bar"
           }
          ],
          "barpolar": [
           {
            "marker": {
             "line": {
              "color": "#E5ECF6",
              "width": 0.5
             },
             "pattern": {
              "fillmode": "overlay",
              "size": 10,
              "solidity": 0.2
             }
            },
            "type": "barpolar"
           }
          ],
          "carpet": [
           {
            "aaxis": {
             "endlinecolor": "#2a3f5f",
             "gridcolor": "white",
             "linecolor": "white",
             "minorgridcolor": "white",
             "startlinecolor": "#2a3f5f"
            },
            "baxis": {
             "endlinecolor": "#2a3f5f",
             "gridcolor": "white",
             "linecolor": "white",
             "minorgridcolor": "white",
             "startlinecolor": "#2a3f5f"
            },
            "type": "carpet"
           }
          ],
          "choropleth": [
           {
            "colorbar": {
             "outlinewidth": 0,
             "ticks": ""
            },
            "type": "choropleth"
           }
          ],
          "contour": [
           {
            "colorbar": {
             "outlinewidth": 0,
             "ticks": ""
            },
            "colorscale": [
             [
              0,
              "#0d0887"
             ],
             [
              0.1111111111111111,
              "#46039f"
             ],
             [
              0.2222222222222222,
              "#7201a8"
             ],
             [
              0.3333333333333333,
              "#9c179e"
             ],
             [
              0.4444444444444444,
              "#bd3786"
             ],
             [
              0.5555555555555556,
              "#d8576b"
             ],
             [
              0.6666666666666666,
              "#ed7953"
             ],
             [
              0.7777777777777778,
              "#fb9f3a"
             ],
             [
              0.8888888888888888,
              "#fdca26"
             ],
             [
              1,
              "#f0f921"
             ]
            ],
            "type": "contour"
           }
          ],
          "contourcarpet": [
           {
            "colorbar": {
             "outlinewidth": 0,
             "ticks": ""
            },
            "type": "contourcarpet"
           }
          ],
          "heatmap": [
           {
            "colorbar": {
             "outlinewidth": 0,
             "ticks": ""
            },
            "colorscale": [
             [
              0,
              "#0d0887"
             ],
             [
              0.1111111111111111,
              "#46039f"
             ],
             [
              0.2222222222222222,
              "#7201a8"
             ],
             [
              0.3333333333333333,
              "#9c179e"
             ],
             [
              0.4444444444444444,
              "#bd3786"
             ],
             [
              0.5555555555555556,
              "#d8576b"
             ],
             [
              0.6666666666666666,
              "#ed7953"
             ],
             [
              0.7777777777777778,
              "#fb9f3a"
             ],
             [
              0.8888888888888888,
              "#fdca26"
             ],
             [
              1,
              "#f0f921"
             ]
            ],
            "type": "heatmap"
           }
          ],
          "heatmapgl": [
           {
            "colorbar": {
             "outlinewidth": 0,
             "ticks": ""
            },
            "colorscale": [
             [
              0,
              "#0d0887"
             ],
             [
              0.1111111111111111,
              "#46039f"
             ],
             [
              0.2222222222222222,
              "#7201a8"
             ],
             [
              0.3333333333333333,
              "#9c179e"
             ],
             [
              0.4444444444444444,
              "#bd3786"
             ],
             [
              0.5555555555555556,
              "#d8576b"
             ],
             [
              0.6666666666666666,
              "#ed7953"
             ],
             [
              0.7777777777777778,
              "#fb9f3a"
             ],
             [
              0.8888888888888888,
              "#fdca26"
             ],
             [
              1,
              "#f0f921"
             ]
            ],
            "type": "heatmapgl"
           }
          ],
          "histogram": [
           {
            "marker": {
             "pattern": {
              "fillmode": "overlay",
              "size": 10,
              "solidity": 0.2
             }
            },
            "type": "histogram"
           }
          ],
          "histogram2d": [
           {
            "colorbar": {
             "outlinewidth": 0,
             "ticks": ""
            },
            "colorscale": [
             [
              0,
              "#0d0887"
             ],
             [
              0.1111111111111111,
              "#46039f"
             ],
             [
              0.2222222222222222,
              "#7201a8"
             ],
             [
              0.3333333333333333,
              "#9c179e"
             ],
             [
              0.4444444444444444,
              "#bd3786"
             ],
             [
              0.5555555555555556,
              "#d8576b"
             ],
             [
              0.6666666666666666,
              "#ed7953"
             ],
             [
              0.7777777777777778,
              "#fb9f3a"
             ],
             [
              0.8888888888888888,
              "#fdca26"
             ],
             [
              1,
              "#f0f921"
             ]
            ],
            "type": "histogram2d"
           }
          ],
          "histogram2dcontour": [
           {
            "colorbar": {
             "outlinewidth": 0,
             "ticks": ""
            },
            "colorscale": [
             [
              0,
              "#0d0887"
             ],
             [
              0.1111111111111111,
              "#46039f"
             ],
             [
              0.2222222222222222,
              "#7201a8"
             ],
             [
              0.3333333333333333,
              "#9c179e"
             ],
             [
              0.4444444444444444,
              "#bd3786"
             ],
             [
              0.5555555555555556,
              "#d8576b"
             ],
             [
              0.6666666666666666,
              "#ed7953"
             ],
             [
              0.7777777777777778,
              "#fb9f3a"
             ],
             [
              0.8888888888888888,
              "#fdca26"
             ],
             [
              1,
              "#f0f921"
             ]
            ],
            "type": "histogram2dcontour"
           }
          ],
          "mesh3d": [
           {
            "colorbar": {
             "outlinewidth": 0,
             "ticks": ""
            },
            "type": "mesh3d"
           }
          ],
          "parcoords": [
           {
            "line": {
             "colorbar": {
              "outlinewidth": 0,
              "ticks": ""
             }
            },
            "type": "parcoords"
           }
          ],
          "pie": [
           {
            "automargin": true,
            "type": "pie"
           }
          ],
          "scatter": [
           {
            "fillpattern": {
             "fillmode": "overlay",
             "size": 10,
             "solidity": 0.2
            },
            "type": "scatter"
           }
          ],
          "scatter3d": [
           {
            "line": {
             "colorbar": {
              "outlinewidth": 0,
              "ticks": ""
             }
            },
            "marker": {
             "colorbar": {
              "outlinewidth": 0,
              "ticks": ""
             }
            },
            "type": "scatter3d"
           }
          ],
          "scattercarpet": [
           {
            "marker": {
             "colorbar": {
              "outlinewidth": 0,
              "ticks": ""
             }
            },
            "type": "scattercarpet"
           }
          ],
          "scattergeo": [
           {
            "marker": {
             "colorbar": {
              "outlinewidth": 0,
              "ticks": ""
             }
            },
            "type": "scattergeo"
           }
          ],
          "scattergl": [
           {
            "marker": {
             "colorbar": {
              "outlinewidth": 0,
              "ticks": ""
             }
            },
            "type": "scattergl"
           }
          ],
          "scattermapbox": [
           {
            "marker": {
             "colorbar": {
              "outlinewidth": 0,
              "ticks": ""
             }
            },
            "type": "scattermapbox"
           }
          ],
          "scatterpolar": [
           {
            "marker": {
             "colorbar": {
              "outlinewidth": 0,
              "ticks": ""
             }
            },
            "type": "scatterpolar"
           }
          ],
          "scatterpolargl": [
           {
            "marker": {
             "colorbar": {
              "outlinewidth": 0,
              "ticks": ""
             }
            },
            "type": "scatterpolargl"
           }
          ],
          "scatterternary": [
           {
            "marker": {
             "colorbar": {
              "outlinewidth": 0,
              "ticks": ""
             }
            },
            "type": "scatterternary"
           }
          ],
          "surface": [
           {
            "colorbar": {
             "outlinewidth": 0,
             "ticks": ""
            },
            "colorscale": [
             [
              0,
              "#0d0887"
             ],
             [
              0.1111111111111111,
              "#46039f"
             ],
             [
              0.2222222222222222,
              "#7201a8"
             ],
             [
              0.3333333333333333,
              "#9c179e"
             ],
             [
              0.4444444444444444,
              "#bd3786"
             ],
             [
              0.5555555555555556,
              "#d8576b"
             ],
             [
              0.6666666666666666,
              "#ed7953"
             ],
             [
              0.7777777777777778,
              "#fb9f3a"
             ],
             [
              0.8888888888888888,
              "#fdca26"
             ],
             [
              1,
              "#f0f921"
             ]
            ],
            "type": "surface"
           }
          ],
          "table": [
           {
            "cells": {
             "fill": {
              "color": "#EBF0F8"
             },
             "line": {
              "color": "white"
             }
            },
            "header": {
             "fill": {
              "color": "#C8D4E3"
             },
             "line": {
              "color": "white"
             }
            },
            "type": "table"
           }
          ]
         },
         "layout": {
          "annotationdefaults": {
           "arrowcolor": "#2a3f5f",
           "arrowhead": 0,
           "arrowwidth": 1
          },
          "autotypenumbers": "strict",
          "coloraxis": {
           "colorbar": {
            "outlinewidth": 0,
            "ticks": ""
           }
          },
          "colorscale": {
           "diverging": [
            [
             0,
             "#8e0152"
            ],
            [
             0.1,
             "#c51b7d"
            ],
            [
             0.2,
             "#de77ae"
            ],
            [
             0.3,
             "#f1b6da"
            ],
            [
             0.4,
             "#fde0ef"
            ],
            [
             0.5,
             "#f7f7f7"
            ],
            [
             0.6,
             "#e6f5d0"
            ],
            [
             0.7,
             "#b8e186"
            ],
            [
             0.8,
             "#7fbc41"
            ],
            [
             0.9,
             "#4d9221"
            ],
            [
             1,
             "#276419"
            ]
           ],
           "sequential": [
            [
             0,
             "#0d0887"
            ],
            [
             0.1111111111111111,
             "#46039f"
            ],
            [
             0.2222222222222222,
             "#7201a8"
            ],
            [
             0.3333333333333333,
             "#9c179e"
            ],
            [
             0.4444444444444444,
             "#bd3786"
            ],
            [
             0.5555555555555556,
             "#d8576b"
            ],
            [
             0.6666666666666666,
             "#ed7953"
            ],
            [
             0.7777777777777778,
             "#fb9f3a"
            ],
            [
             0.8888888888888888,
             "#fdca26"
            ],
            [
             1,
             "#f0f921"
            ]
           ],
           "sequentialminus": [
            [
             0,
             "#0d0887"
            ],
            [
             0.1111111111111111,
             "#46039f"
            ],
            [
             0.2222222222222222,
             "#7201a8"
            ],
            [
             0.3333333333333333,
             "#9c179e"
            ],
            [
             0.4444444444444444,
             "#bd3786"
            ],
            [
             0.5555555555555556,
             "#d8576b"
            ],
            [
             0.6666666666666666,
             "#ed7953"
            ],
            [
             0.7777777777777778,
             "#fb9f3a"
            ],
            [
             0.8888888888888888,
             "#fdca26"
            ],
            [
             1,
             "#f0f921"
            ]
           ]
          },
          "colorway": [
           "#636efa",
           "#EF553B",
           "#00cc96",
           "#ab63fa",
           "#FFA15A",
           "#19d3f3",
           "#FF6692",
           "#B6E880",
           "#FF97FF",
           "#FECB52"
          ],
          "font": {
           "color": "#2a3f5f"
          },
          "geo": {
           "bgcolor": "white",
           "lakecolor": "white",
           "landcolor": "#E5ECF6",
           "showlakes": true,
           "showland": true,
           "subunitcolor": "white"
          },
          "hoverlabel": {
           "align": "left"
          },
          "hovermode": "closest",
          "mapbox": {
           "style": "light"
          },
          "paper_bgcolor": "white",
          "plot_bgcolor": "#E5ECF6",
          "polar": {
           "angularaxis": {
            "gridcolor": "white",
            "linecolor": "white",
            "ticks": ""
           },
           "bgcolor": "#E5ECF6",
           "radialaxis": {
            "gridcolor": "white",
            "linecolor": "white",
            "ticks": ""
           }
          },
          "scene": {
           "xaxis": {
            "backgroundcolor": "#E5ECF6",
            "gridcolor": "white",
            "gridwidth": 2,
            "linecolor": "white",
            "showbackground": true,
            "ticks": "",
            "zerolinecolor": "white"
           },
           "yaxis": {
            "backgroundcolor": "#E5ECF6",
            "gridcolor": "white",
            "gridwidth": 2,
            "linecolor": "white",
            "showbackground": true,
            "ticks": "",
            "zerolinecolor": "white"
           },
           "zaxis": {
            "backgroundcolor": "#E5ECF6",
            "gridcolor": "white",
            "gridwidth": 2,
            "linecolor": "white",
            "showbackground": true,
            "ticks": "",
            "zerolinecolor": "white"
           }
          },
          "shapedefaults": {
           "line": {
            "color": "#2a3f5f"
           }
          },
          "ternary": {
           "aaxis": {
            "gridcolor": "white",
            "linecolor": "white",
            "ticks": ""
           },
           "baxis": {
            "gridcolor": "white",
            "linecolor": "white",
            "ticks": ""
           },
           "bgcolor": "#E5ECF6",
           "caxis": {
            "gridcolor": "white",
            "linecolor": "white",
            "ticks": ""
           }
          },
          "title": {
           "x": 0.05
          },
          "xaxis": {
           "automargin": true,
           "gridcolor": "white",
           "linecolor": "white",
           "ticks": "",
           "title": {
            "standoff": 15
           },
           "zerolinecolor": "white",
           "zerolinewidth": 2
          },
          "yaxis": {
           "automargin": true,
           "gridcolor": "white",
           "linecolor": "white",
           "ticks": "",
           "title": {
            "standoff": 15
           },
           "zerolinecolor": "white",
           "zerolinewidth": 2
          }
         }
        },
        "xaxis": {
         "anchor": "y",
         "domain": [
          0,
          1
         ],
         "title": {
          "text": "PC 1 (41.3%)"
         }
        },
        "yaxis": {
         "anchor": "x",
         "domain": [
          0,
          1
         ],
         "title": {
          "text": "PC 2 (24.2%)"
         }
        }
       }
      }
     },
     "metadata": {},
     "output_type": "display_data"
    }
   ],
   "source": [
    "pca_maint = PCA(n_components=2)\n",
    "\n",
    "components_maint = pca_maint.fit_transform(df_maintenance.drop(columns=['cluster']))\n",
    "\n",
    "labels = {\n",
    "    str(i): f\"PC {i+1} ({var:.1f}%)\"\n",
    "    for i, var in enumerate(pca_maint.explained_variance_ratio_ * 100)\n",
    "}\n",
    "\n",
    "fig = px.scatter(components_maint, x=0, y=1, color=df_maintenance['cluster'], labels=labels)\n",
    "fig.show()"
   ]
  },
  {
   "attachments": {},
   "cell_type": "markdown",
   "metadata": {},
   "source": [
    "On remarque que la variance totale expliquée ici est de 65.5 %. On voit qu'il existe 4 groupes d'individus. Le seul moyen de bien partager les individus est de passer à 2 clusters. Seul soucis c'est que cela ne nous aide pas pour mettre en place différentes appréciations pour la maintenance en général car les classes ont quasiment les mêmes centres. On va donc rester sur 4 clusters ici.\n",
    "\n",
    "\n",
    "### *Enregistrement du résultat*\n",
    "\n",
    "On peut maintenant donc passer à l'enregistrement du résultat dans un fichier \".csv\"."
   ]
  },
  {
   "cell_type": "code",
   "execution_count": 60,
   "metadata": {},
   "outputs": [],
   "source": [
    "df_maintenance_final = pd.DataFrame(df_maintenance.cluster)\n",
    "df_maintenance_final.rename(columns={'cluster': 'maintenance'}, inplace=True)\n",
    "\n",
    "df_maintenance_final.to_csv('../data/analyses/maintenance.csv', sep=';', index=True)"
   ]
  }
 ],
 "metadata": {
  "kernelspec": {
   "display_name": "Python 3",
   "language": "python",
   "name": "python3"
  },
  "language_info": {
   "codemirror_mode": {
    "name": "ipython",
    "version": 3
   },
   "file_extension": ".py",
   "mimetype": "text/x-python",
   "name": "python",
   "nbconvert_exporter": "python",
   "pygments_lexer": "ipython3",
   "version": "3.10.9 (tags/v3.10.9:1dd9be6, Dec  6 2022, 20:01:21) [MSC v.1934 64 bit (AMD64)]"
  },
  "orig_nbformat": 4,
  "vscode": {
   "interpreter": {
    "hash": "2349f8cba88a5b2d1d390f83a8a5748abc4e6656a2f4a0a7bc22dd7876009b29"
   }
  }
 },
 "nbformat": 4,
 "nbformat_minor": 2
}
