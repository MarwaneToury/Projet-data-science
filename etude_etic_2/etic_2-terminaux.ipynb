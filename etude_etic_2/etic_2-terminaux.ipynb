{
 "cells": [
  {
   "attachments": {},
   "cell_type": "markdown",
   "metadata": {},
   "source": [
    "# **Etude des différents terminaux**\n",
    "\n",
    "Nous allons procéder à l'étude des différents terminaux en posssession de l'établissement ici.\n",
    "Nous avons un ensemble de variables qualitatives (colonnes) qui nous permettent de connaître le nombre de terminaux qu'un établissement a en sa possession. Cela peut être intéressant car normalement plus l'établissement met à disposition des moyens physiques numériques et plus les élèves pourront accéder aux ressources en ligne et en faire usage pour leurs études. Cela peut aider également les étudiants défavorisés numériquement et réduire les écarts entre différentes catégories sociales.\n",
    "\n",
    "Nous avons dans l'enquête 15 colonnes qui nous informent sur le nombre de terminaux. Nous allons les utiliser ici dans notre analyse pour déterminer un lien entre les différentes colonnes. \n",
    "Voici les colonnes que nous utiliserons ici :\n",
    "- 'NbTerminaux'\n",
    "- 'NbTablette'\n",
    "- 'NbTablettePC'\n",
    "- 'NbMicroMoins5'\n",
    "- 'NbMicroPortable'\n",
    "- 'NbPortAffEl'\n",
    "- 'NbPortAffEns'\n",
    "- 'NbEleveEqASH'\n",
    "- 'NbPosteEqASH'\n",
    "- 'NbTBI'\n",
    "- 'propClassesAvecTBI'\n",
    "- 'NbVideoProj'\n",
    "- 'NbClassMobile'\n",
    "- 'NbLecteurMpx'\n",
    "- 'NbImpr3D'\n",
    "\n",
    "\n",
    "Nous essaierons de faire du clustering par la suite.\n",
    "\n",
    "### *Import des bibliothèques*"
   ]
  },
  {
   "cell_type": "code",
   "execution_count": 67,
   "metadata": {},
   "outputs": [],
   "source": [
    "import pandas as pd\n",
    "from sklearn.decomposition import PCA\n",
    "import plotly_express as px\n",
    "import plotly.graph_objects as go\n",
    "import prince as pc\n",
    "import numpy as np\n",
    "from sklearn.cluster import KMeans\n",
    "from sklearn.preprocessing import StandardScaler"
   ]
  },
  {
   "attachments": {},
   "cell_type": "markdown",
   "metadata": {},
   "source": [
    "### *Import du fichier*"
   ]
  },
  {
   "cell_type": "code",
   "execution_count": 68,
   "metadata": {},
   "outputs": [
    {
     "data": {
      "text/plain": [
       "Index(['Millesime', 'Code_nature', 'nature_uai', 'typ_etab', 'Academie',\n",
       "       'Departement', 'NbEleve', 'NbEnseignant', 'SiEtabCentreRessource',\n",
       "       'SiProjetNumEcole', 'SiEntDisponible', 'SiProjEtabIntegreENT',\n",
       "       'Maint_PersCollect', 'Maint_PrestaExt', 'Maint_PersonnelEducNatHsEtab',\n",
       "       'Maint_PersonnelEtab', 'Maint_AutreNeSaitPas', 'Maint_Personne',\n",
       "       'NbRessourceEdit', 'TpRess_ManuelNum', 'TpRess_AnimScienLogiSimu',\n",
       "       'TpRess_Bdd', 'TpRess_LogiOutils', 'TpRess_OuvRef',\n",
       "       'TpRess_ResEntrainement', 'TpRess_Autres', 'TpRess_aucune',\n",
       "       'ServInt_NoteElev', 'ServInt_AbsElev', 'ServInt_EdtElevCls',\n",
       "       'ServInt_CahierTxt', 'ServInt_DocRessPeda', 'ServInt_AgdActuEtab',\n",
       "       'ServInt_PlatApp', 'ServInt_Autres', 'ServInt_aucun', 'NbTerminaux',\n",
       "       'NbTablette', 'NbTablettePC', 'NbMicroMoins5', 'NbMicroPortable',\n",
       "       'NbPortAffEl', 'NbPortAffEns', 'NbEleveEqASH', 'NbPosteEqASH', 'NbTBI',\n",
       "       'propClassesAvecTBI', 'NbVideoProj', 'NbClassMobile', 'NbLecteurMpx',\n",
       "       'NbImpr3D', 'AccWeb_RTC', 'AccWeb_CableFibreOptique', 'AccWeb_ADSL',\n",
       "       'AccWeb_AutresHautDebit', 'AccWeb_NeSaitPas', 'AccWeb_Aucun',\n",
       "       'DebitWeb', 'SiWifi', 'SalleInternet', 'PostesInfoElvHorsCours',\n",
       "       'SiPareFeuEtab', 'SiOuifiltrageWeb', 'ControlePosteriori',\n",
       "       'SiCharteUsageWeb', 'Diffch_AnnexeeRI',\n",
       "       'Diffch_DossierRentreeEnseignants', 'Diffch_CRConseilAdmin',\n",
       "       'Diffch_DiffusionParents', 'Diffch_Autres', 'AccesParentCharte',\n",
       "       'ElvAuthentif', 'SiVisioConferenc', 'SiEntUtilise',\n",
       "       'TypeMatHandi_Tablette', 'TypeMatHandi_OrdiPort', 'TypeMatHandi_LogApp',\n",
       "       'TypeMatHandi_Autre', 'Code_region', 'Libelle_region'],\n",
       "      dtype='object')"
      ]
     },
     "execution_count": 68,
     "metadata": {},
     "output_type": "execute_result"
    }
   ],
   "source": [
    "df = pd.read_csv('../data/lycee-college/fr-en-etic_2d.csv', sep=';', index_col=0)\n",
    "\n",
    "\n",
    "df = df.loc[df[\"Millesime\"] == 2018]\n",
    "\n",
    "df.columns"
   ]
  },
  {
   "attachments": {},
   "cell_type": "markdown",
   "metadata": {},
   "source": [
    "### *Traitement du fichier*\n",
    "\n",
    "On va mettre `Code_UAI` en index pour pouvoir identifier de façon plus simple les individus. On va supprimer les colonnes inutiles et supprimer les lignes qui contiennent des `NaN` pour pouvoir faire une ACP et peut-être du Clustering non supervisé par la suite."
   ]
  },
  {
   "cell_type": "code",
   "execution_count": 69,
   "metadata": {},
   "outputs": [
    {
     "data": {
      "text/plain": [
       "(233, 15)"
      ]
     },
     "execution_count": 69,
     "metadata": {},
     "output_type": "execute_result"
    }
   ],
   "source": [
    "df_termin = df\n",
    "\n",
    "df_termin.drop(columns=['Millesime', 'Code_nature', 'nature_uai', 'typ_etab',\n",
    "       'Academie', 'Departement', 'NbEleve', 'NbEnseignant',\n",
    "       'SiEtabCentreRessource', 'SiProjetNumEcole', 'SiEntDisponible',\n",
    "       'SiProjEtabIntegreENT', 'Maint_PersCollect', 'Maint_PrestaExt',\n",
    "       'Maint_PersonnelEducNatHsEtab', 'Maint_PersonnelEtab',\n",
    "       'Maint_AutreNeSaitPas', 'Maint_Personne', 'NbRessourceEdit',\n",
    "       'TpRess_ManuelNum', 'TpRess_AnimScienLogiSimu', 'TpRess_Bdd',\n",
    "       'TpRess_LogiOutils', 'TpRess_OuvRef', 'TpRess_ResEntrainement',\n",
    "       'TpRess_Autres', 'TpRess_aucune', 'ServInt_NoteElev', 'ServInt_AbsElev',\n",
    "       'ServInt_EdtElevCls', 'ServInt_CahierTxt', 'ServInt_DocRessPeda',\n",
    "       'ServInt_AgdActuEtab', 'ServInt_PlatApp', 'ServInt_Autres',\n",
    "       'ServInt_aucun', 'AccWeb_RTC', 'AccWeb_CableFibreOptique', 'AccWeb_ADSL',\n",
    "       'AccWeb_AutresHautDebit', 'AccWeb_NeSaitPas', 'AccWeb_Aucun',\n",
    "       'DebitWeb', 'SiWifi', 'SalleInternet', 'PostesInfoElvHorsCours',\n",
    "       'SiPareFeuEtab', 'SiOuifiltrageWeb', 'ControlePosteriori',\n",
    "       'SiCharteUsageWeb', 'Diffch_AnnexeeRI', 'Diffch_DossierRentreeEnseignants', \n",
    "       'Diffch_CRConseilAdmin','Diffch_DiffusionParents', 'Diffch_Autres', \n",
    "       'AccesParentCharte','ElvAuthentif', 'SiVisioConferenc', 'SiEntUtilise',\n",
    "       'TypeMatHandi_Tablette', 'TypeMatHandi_OrdiPort', 'TypeMatHandi_LogApp',\n",
    "       'TypeMatHandi_Autre', 'Code_region', 'Libelle_region'], inplace=True)\n",
    "\n",
    "df_termin.dropna(inplace=True)\n",
    "\n",
    "df_termin.shape"
   ]
  },
  {
   "attachments": {},
   "cell_type": "markdown",
   "metadata": {},
   "source": [
    "On vérifie que nos modifications ont bien été appliquées"
   ]
  },
  {
   "cell_type": "code",
   "execution_count": 70,
   "metadata": {},
   "outputs": [
    {
     "data": {
      "text/html": [
       "<div>\n",
       "<style scoped>\n",
       "    .dataframe tbody tr th:only-of-type {\n",
       "        vertical-align: middle;\n",
       "    }\n",
       "\n",
       "    .dataframe tbody tr th {\n",
       "        vertical-align: top;\n",
       "    }\n",
       "\n",
       "    .dataframe thead th {\n",
       "        text-align: right;\n",
       "    }\n",
       "</style>\n",
       "<table border=\"1\" class=\"dataframe\">\n",
       "  <thead>\n",
       "    <tr style=\"text-align: right;\">\n",
       "      <th></th>\n",
       "      <th>NbTerminaux</th>\n",
       "      <th>NbTablette</th>\n",
       "      <th>NbTablettePC</th>\n",
       "      <th>NbMicroMoins5</th>\n",
       "      <th>NbMicroPortable</th>\n",
       "      <th>NbPortAffEl</th>\n",
       "      <th>NbPortAffEns</th>\n",
       "      <th>NbEleveEqASH</th>\n",
       "      <th>NbPosteEqASH</th>\n",
       "      <th>NbTBI</th>\n",
       "      <th>propClassesAvecTBI</th>\n",
       "      <th>NbVideoProj</th>\n",
       "      <th>NbClassMobile</th>\n",
       "      <th>NbLecteurMpx</th>\n",
       "      <th>NbImpr3D</th>\n",
       "    </tr>\n",
       "    <tr>\n",
       "      <th>Code_UAI</th>\n",
       "      <th></th>\n",
       "      <th></th>\n",
       "      <th></th>\n",
       "      <th></th>\n",
       "      <th></th>\n",
       "      <th></th>\n",
       "      <th></th>\n",
       "      <th></th>\n",
       "      <th></th>\n",
       "      <th></th>\n",
       "      <th></th>\n",
       "      <th></th>\n",
       "      <th></th>\n",
       "      <th></th>\n",
       "      <th></th>\n",
       "    </tr>\n",
       "  </thead>\n",
       "  <tbody>\n",
       "    <tr>\n",
       "      <th>0090007J</th>\n",
       "      <td>182.0</td>\n",
       "      <td>0.0</td>\n",
       "      <td>0.0</td>\n",
       "      <td>41.0</td>\n",
       "      <td>3.0</td>\n",
       "      <td>0.0</td>\n",
       "      <td>0.0</td>\n",
       "      <td>0.0</td>\n",
       "      <td>0.0</td>\n",
       "      <td>10.0</td>\n",
       "      <td>20pcta50pct</td>\n",
       "      <td>12.0</td>\n",
       "      <td>0.0</td>\n",
       "      <td>0.0</td>\n",
       "      <td>1.0</td>\n",
       "    </tr>\n",
       "    <tr>\n",
       "      <th>0090009L</th>\n",
       "      <td>124.0</td>\n",
       "      <td>0.0</td>\n",
       "      <td>0.0</td>\n",
       "      <td>56.0</td>\n",
       "      <td>1.0</td>\n",
       "      <td>0.0</td>\n",
       "      <td>0.0</td>\n",
       "      <td>3.0</td>\n",
       "      <td>3.0</td>\n",
       "      <td>2.0</td>\n",
       "      <td>Mois20pct</td>\n",
       "      <td>15.0</td>\n",
       "      <td>0.0</td>\n",
       "      <td>0.0</td>\n",
       "      <td>0.0</td>\n",
       "    </tr>\n",
       "    <tr>\n",
       "      <th>0120037A</th>\n",
       "      <td>450.0</td>\n",
       "      <td>5.0</td>\n",
       "      <td>0.0</td>\n",
       "      <td>300.0</td>\n",
       "      <td>5.0</td>\n",
       "      <td>0.0</td>\n",
       "      <td>5.0</td>\n",
       "      <td>0.0</td>\n",
       "      <td>0.0</td>\n",
       "      <td>10.0</td>\n",
       "      <td>20pcta50pct</td>\n",
       "      <td>30.0</td>\n",
       "      <td>0.0</td>\n",
       "      <td>0.0</td>\n",
       "      <td>2.0</td>\n",
       "    </tr>\n",
       "    <tr>\n",
       "      <th>0300039E</th>\n",
       "      <td>110.0</td>\n",
       "      <td>110.0</td>\n",
       "      <td>0.0</td>\n",
       "      <td>110.0</td>\n",
       "      <td>110.0</td>\n",
       "      <td>0.0</td>\n",
       "      <td>9.0</td>\n",
       "      <td>0.0</td>\n",
       "      <td>0.0</td>\n",
       "      <td>5.0</td>\n",
       "      <td>Mois20pct</td>\n",
       "      <td>14.0</td>\n",
       "      <td>0.0</td>\n",
       "      <td>0.0</td>\n",
       "      <td>1.0</td>\n",
       "    </tr>\n",
       "    <tr>\n",
       "      <th>0300059B</th>\n",
       "      <td>216.0</td>\n",
       "      <td>125.0</td>\n",
       "      <td>0.0</td>\n",
       "      <td>155.0</td>\n",
       "      <td>128.0</td>\n",
       "      <td>1.0</td>\n",
       "      <td>25.0</td>\n",
       "      <td>1.0</td>\n",
       "      <td>1.0</td>\n",
       "      <td>4.0</td>\n",
       "      <td>Mois20pct</td>\n",
       "      <td>16.0</td>\n",
       "      <td>4.0</td>\n",
       "      <td>1.0</td>\n",
       "      <td>0.0</td>\n",
       "    </tr>\n",
       "  </tbody>\n",
       "</table>\n",
       "</div>"
      ],
      "text/plain": [
       "          NbTerminaux  NbTablette  NbTablettePC  NbMicroMoins5  \\\n",
       "Code_UAI                                                         \n",
       "0090007J        182.0         0.0           0.0           41.0   \n",
       "0090009L        124.0         0.0           0.0           56.0   \n",
       "0120037A        450.0         5.0           0.0          300.0   \n",
       "0300039E        110.0       110.0           0.0          110.0   \n",
       "0300059B        216.0       125.0           0.0          155.0   \n",
       "\n",
       "          NbMicroPortable  NbPortAffEl  NbPortAffEns  NbEleveEqASH  \\\n",
       "Code_UAI                                                             \n",
       "0090007J              3.0          0.0           0.0           0.0   \n",
       "0090009L              1.0          0.0           0.0           3.0   \n",
       "0120037A              5.0          0.0           5.0           0.0   \n",
       "0300039E            110.0          0.0           9.0           0.0   \n",
       "0300059B            128.0          1.0          25.0           1.0   \n",
       "\n",
       "          NbPosteEqASH  NbTBI propClassesAvecTBI  NbVideoProj  NbClassMobile  \\\n",
       "Code_UAI                                                                       \n",
       "0090007J           0.0   10.0        20pcta50pct         12.0            0.0   \n",
       "0090009L           3.0    2.0          Mois20pct         15.0            0.0   \n",
       "0120037A           0.0   10.0        20pcta50pct         30.0            0.0   \n",
       "0300039E           0.0    5.0          Mois20pct         14.0            0.0   \n",
       "0300059B           1.0    4.0          Mois20pct         16.0            4.0   \n",
       "\n",
       "          NbLecteurMpx  NbImpr3D  \n",
       "Code_UAI                          \n",
       "0090007J           0.0       1.0  \n",
       "0090009L           0.0       0.0  \n",
       "0120037A           0.0       2.0  \n",
       "0300039E           0.0       1.0  \n",
       "0300059B           1.0       0.0  "
      ]
     },
     "execution_count": 70,
     "metadata": {},
     "output_type": "execute_result"
    }
   ],
   "source": [
    "df_termin.head()"
   ]
  },
  {
   "attachments": {},
   "cell_type": "markdown",
   "metadata": {},
   "source": [
    "On va ensuite procéder au renommage des colonnes"
   ]
  },
  {
   "cell_type": "code",
   "execution_count": 71,
   "metadata": {},
   "outputs": [
    {
     "data": {
      "text/plain": [
       "Index(['terminaux', 'tablette', 'tablettepc', 'micromoins5', 'microportable',\n",
       "       'portaffel', 'portaffens', 'eleveeqash', 'posteeqash', 'tbi',\n",
       "       'propclassesavectbi', 'videoproj', 'classmobile', 'lecteurmpx',\n",
       "       'impr3d'],\n",
       "      dtype='object')"
      ]
     },
     "execution_count": 71,
     "metadata": {},
     "output_type": "execute_result"
    }
   ],
   "source": [
    "old_columns = df_termin.columns\n",
    "\n",
    "for column in old_columns:\n",
    "    df_termin.rename(columns={column: column.replace('Nb', '').lower()}, inplace=True)\n",
    "\n",
    "\n",
    "df_termin.columns"
   ]
  },
  {
   "attachments": {},
   "cell_type": "markdown",
   "metadata": {},
   "source": [
    "### *Analyse des dépendances*\n",
    "\n",
    "Avant de faire une ACP, nous allons voir à l'aide de la matrice de corrélation s'il existe un lien entre les différentes variables qu'on a ici. Cela va nous aider à mieux comprendre l'ACP et mieux interpréter les résultats."
   ]
  },
  {
   "cell_type": "code",
   "execution_count": 72,
   "metadata": {},
   "outputs": [
    {
     "data": {
      "application/vnd.plotly.v1+json": {
       "config": {
        "plotlyServerURL": "https://plot.ly"
       },
       "data": [
        {
         "colorbar": {
          "thickness": 20
         },
         "hovertext": [
          [
           1,
           0.16,
           0.39,
           0.92,
           0.82,
           0.81,
           0.16,
           0.04,
           -0.05,
           0.32,
           0.66,
           0.1,
           0.06,
           0.25
          ],
          [
           0.16,
           1,
           0.19,
           0.13,
           0.26,
           0.18,
           0.53,
           0.08,
           0.08,
           0.06,
           -0.07,
           0.15,
           0.08,
           0.07
          ],
          [
           0.39,
           0.19,
           1,
           0.43,
           0.55,
           0.5,
           0.19,
           0.02,
           0.05,
           0.08,
           0.12,
           -0.01,
           -0.05,
           -0.06
          ],
          [
           0.92,
           0.13,
           0.43,
           1,
           0.88,
           0.9,
           0.2,
           0.07,
           -0.04,
           0.22,
           0.49,
           0.03,
           -0.02,
           0.12
          ],
          [
           0.82,
           0.26,
           0.55,
           0.88,
           1,
           0.98,
           0.28,
           0.1,
           0.01,
           0.14,
           0.27,
           0.12,
           -0.05,
           -0.02
          ],
          [
           0.81,
           0.18,
           0.5,
           0.9,
           0.98,
           1,
           0.23,
           0.1,
           -0.01,
           0.13,
           0.25,
           0.01,
           -0.06,
           -0.03
          ],
          [
           0.16,
           0.53,
           0.19,
           0.2,
           0.28,
           0.23,
           1,
           0.35,
           0.34,
           0.07,
           0,
           0.11,
           -0.01,
           0.12
          ],
          [
           0.04,
           0.08,
           0.02,
           0.07,
           0.1,
           0.1,
           0.35,
           1,
           0.85,
           -0.05,
           -0.05,
           0.08,
           0.01,
           0.11
          ],
          [
           -0.05,
           0.08,
           0.05,
           -0.04,
           0.01,
           -0.01,
           0.34,
           0.85,
           1,
           0,
           -0.07,
           0.11,
           0.01,
           0.08
          ],
          [
           0.32,
           0.06,
           0.08,
           0.22,
           0.14,
           0.13,
           0.07,
           -0.05,
           0,
           1,
           0.18,
           0.03,
           0.03,
           0.3
          ],
          [
           0.66,
           -0.07,
           0.12,
           0.49,
           0.27,
           0.25,
           0,
           -0.05,
           -0.07,
           0.18,
           1,
           0.09,
           0.17,
           0.28
          ],
          [
           0.1,
           0.15,
           -0.01,
           0.03,
           0.12,
           0.01,
           0.11,
           0.08,
           0.11,
           0.03,
           0.09,
           1,
           0.03,
           -0.01
          ],
          [
           0.06,
           0.08,
           -0.05,
           -0.02,
           -0.05,
           -0.06,
           -0.01,
           0.01,
           0.01,
           0.03,
           0.17,
           0.03,
           1,
           0.03
          ],
          [
           0.25,
           0.07,
           -0.06,
           0.12,
           -0.02,
           -0.03,
           0.12,
           0.11,
           0.08,
           0.3,
           0.28,
           -0.01,
           0.03,
           1
          ]
         ],
         "type": "heatmap",
         "x": [
          "terminaux",
          "tablette",
          "tablettepc",
          "micromoins5",
          "microportable",
          "portaffel",
          "portaffens",
          "eleveeqash",
          "posteeqash",
          "tbi",
          "videoproj",
          "classmobile",
          "lecteurmpx",
          "impr3d"
         ],
         "xgap": 1,
         "y": [
          "terminaux",
          "tablette",
          "tablettepc",
          "micromoins5",
          "microportable",
          "portaffel",
          "portaffens",
          "eleveeqash",
          "posteeqash",
          "tbi",
          "videoproj",
          "classmobile",
          "lecteurmpx",
          "impr3d"
         ],
         "ygap": 1,
         "z": [
          [
           1,
           0.161601037235032,
           0.39152585764685927,
           0.9211938623344939,
           0.8199423901958853,
           0.8086442334401275,
           0.16193420506113168,
           0.03908694784017963,
           -0.05255176843170344,
           0.31559293510906017,
           0.656928484463373,
           0.09802007515719342,
           0.06084584234732746,
           0.254798288760498
          ],
          [
           0.161601037235032,
           1,
           0.18815741863213747,
           0.12843929353727374,
           0.2623913690625766,
           0.18077050360452424,
           0.5306348546586409,
           0.08260904864595417,
           0.07850072455482693,
           0.06368511594514495,
           -0.0650744198952187,
           0.15430698731386802,
           0.08167504695165047,
           0.07146664082954109
          ],
          [
           0.39152585764685927,
           0.18815741863213747,
           1,
           0.4291114901382175,
           0.5477542801256825,
           0.4978263208718623,
           0.18744954044215126,
           0.018829132972906167,
           0.045520565290201674,
           0.07831652665349452,
           0.12400427682610125,
           -0.00793768479583338,
           -0.049469191077261596,
           -0.06259238855711952
          ],
          [
           0.9211938623344939,
           0.12843929353727374,
           0.4291114901382175,
           1,
           0.8849697757709934,
           0.902895214620163,
           0.1986894989916784,
           0.07017528003914694,
           -0.038460050208451446,
           0.2225296365784742,
           0.4881803183979735,
           0.03293547663110565,
           -0.020062311146888195,
           0.11797174810614214
          ],
          [
           0.8199423901958853,
           0.2623913690625766,
           0.5477542801256825,
           0.8849697757709934,
           1,
           0.975130725689106,
           0.2818113292881262,
           0.10134799337011394,
           0.007683840006551906,
           0.14134102266013843,
           0.2681445648500005,
           0.12359031422211669,
           -0.046315912663969915,
           -0.019908254294574983
          ],
          [
           0.8086442334401275,
           0.18077050360452424,
           0.4978263208718623,
           0.902895214620163,
           0.975130725689106,
           1,
           0.2312048371064603,
           0.10088432426287262,
           -0.00540353435633777,
           0.13420263059026488,
           0.25407448239705044,
           0.013660646446370616,
           -0.06069122517506542,
           -0.025796573706227566
          ],
          [
           0.16193420506113168,
           0.5306348546586409,
           0.18744954044215126,
           0.1986894989916784,
           0.2818113292881262,
           0.2312048371064603,
           1,
           0.34862044176118695,
           0.3447154743831294,
           0.0706374485937864,
           0.004004917402635532,
           0.1106312306589752,
           -0.011907386142036736,
           0.11864834888818526
          ],
          [
           0.03908694784017963,
           0.08260904864595417,
           0.018829132972906167,
           0.07017528003914694,
           0.10134799337011394,
           0.10088432426287262,
           0.34862044176118695,
           1,
           0.8531310253682002,
           -0.051191237981271995,
           -0.05447073278389243,
           0.07867399904831184,
           0.011068187298988058,
           0.11081744298132895
          ],
          [
           -0.05255176843170344,
           0.07850072455482693,
           0.045520565290201674,
           -0.038460050208451446,
           0.007683840006551906,
           -0.00540353435633777,
           0.3447154743831294,
           0.8531310253682002,
           1,
           0.00022154389851719808,
           -0.07310827190406165,
           0.1094421713221474,
           0.009579641541700254,
           0.08398869843642831
          ],
          [
           0.31559293510906017,
           0.06368511594514495,
           0.07831652665349452,
           0.2225296365784742,
           0.14134102266013843,
           0.13420263059026488,
           0.0706374485937864,
           -0.051191237981271995,
           0.00022154389851719808,
           1,
           0.1842132773543034,
           0.031217806084968144,
           0.034704200100848376,
           0.30001351199362786
          ],
          [
           0.656928484463373,
           -0.0650744198952187,
           0.12400427682610125,
           0.4881803183979735,
           0.2681445648500005,
           0.25407448239705044,
           0.004004917402635532,
           -0.05447073278389243,
           -0.07310827190406165,
           0.1842132773543034,
           1,
           0.08789351426651776,
           0.17215920463261222,
           0.2849780561038914
          ],
          [
           0.09802007515719342,
           0.15430698731386802,
           -0.00793768479583338,
           0.03293547663110565,
           0.12359031422211669,
           0.013660646446370616,
           0.1106312306589752,
           0.07867399904831184,
           0.1094421713221474,
           0.031217806084968144,
           0.08789351426651776,
           1,
           0.034803028753661924,
           -0.0061008919390860205
          ],
          [
           0.06084584234732746,
           0.08167504695165047,
           -0.049469191077261596,
           -0.020062311146888195,
           -0.046315912663969915,
           -0.06069122517506542,
           -0.011907386142036736,
           0.011068187298988058,
           0.009579641541700254,
           0.034704200100848376,
           0.17215920463261222,
           0.034803028753661924,
           1,
           0.025675819116902504
          ],
          [
           0.254798288760498,
           0.07146664082954109,
           -0.06259238855711952,
           0.11797174810614214,
           -0.019908254294574983,
           -0.025796573706227566,
           0.11864834888818526,
           0.11081744298132895,
           0.08398869843642831,
           0.30001351199362786,
           0.2849780561038914,
           -0.0061008919390860205,
           0.025675819116902504,
           1
          ]
         ]
        }
       ],
       "layout": {
        "height": 600,
        "template": {
         "data": {
          "bar": [
           {
            "error_x": {
             "color": "#2a3f5f"
            },
            "error_y": {
             "color": "#2a3f5f"
            },
            "marker": {
             "line": {
              "color": "#E5ECF6",
              "width": 0.5
             },
             "pattern": {
              "fillmode": "overlay",
              "size": 10,
              "solidity": 0.2
             }
            },
            "type": "bar"
           }
          ],
          "barpolar": [
           {
            "marker": {
             "line": {
              "color": "#E5ECF6",
              "width": 0.5
             },
             "pattern": {
              "fillmode": "overlay",
              "size": 10,
              "solidity": 0.2
             }
            },
            "type": "barpolar"
           }
          ],
          "carpet": [
           {
            "aaxis": {
             "endlinecolor": "#2a3f5f",
             "gridcolor": "white",
             "linecolor": "white",
             "minorgridcolor": "white",
             "startlinecolor": "#2a3f5f"
            },
            "baxis": {
             "endlinecolor": "#2a3f5f",
             "gridcolor": "white",
             "linecolor": "white",
             "minorgridcolor": "white",
             "startlinecolor": "#2a3f5f"
            },
            "type": "carpet"
           }
          ],
          "choropleth": [
           {
            "colorbar": {
             "outlinewidth": 0,
             "ticks": ""
            },
            "type": "choropleth"
           }
          ],
          "contour": [
           {
            "colorbar": {
             "outlinewidth": 0,
             "ticks": ""
            },
            "colorscale": [
             [
              0,
              "#0d0887"
             ],
             [
              0.1111111111111111,
              "#46039f"
             ],
             [
              0.2222222222222222,
              "#7201a8"
             ],
             [
              0.3333333333333333,
              "#9c179e"
             ],
             [
              0.4444444444444444,
              "#bd3786"
             ],
             [
              0.5555555555555556,
              "#d8576b"
             ],
             [
              0.6666666666666666,
              "#ed7953"
             ],
             [
              0.7777777777777778,
              "#fb9f3a"
             ],
             [
              0.8888888888888888,
              "#fdca26"
             ],
             [
              1,
              "#f0f921"
             ]
            ],
            "type": "contour"
           }
          ],
          "contourcarpet": [
           {
            "colorbar": {
             "outlinewidth": 0,
             "ticks": ""
            },
            "type": "contourcarpet"
           }
          ],
          "heatmap": [
           {
            "colorbar": {
             "outlinewidth": 0,
             "ticks": ""
            },
            "colorscale": [
             [
              0,
              "#0d0887"
             ],
             [
              0.1111111111111111,
              "#46039f"
             ],
             [
              0.2222222222222222,
              "#7201a8"
             ],
             [
              0.3333333333333333,
              "#9c179e"
             ],
             [
              0.4444444444444444,
              "#bd3786"
             ],
             [
              0.5555555555555556,
              "#d8576b"
             ],
             [
              0.6666666666666666,
              "#ed7953"
             ],
             [
              0.7777777777777778,
              "#fb9f3a"
             ],
             [
              0.8888888888888888,
              "#fdca26"
             ],
             [
              1,
              "#f0f921"
             ]
            ],
            "type": "heatmap"
           }
          ],
          "heatmapgl": [
           {
            "colorbar": {
             "outlinewidth": 0,
             "ticks": ""
            },
            "colorscale": [
             [
              0,
              "#0d0887"
             ],
             [
              0.1111111111111111,
              "#46039f"
             ],
             [
              0.2222222222222222,
              "#7201a8"
             ],
             [
              0.3333333333333333,
              "#9c179e"
             ],
             [
              0.4444444444444444,
              "#bd3786"
             ],
             [
              0.5555555555555556,
              "#d8576b"
             ],
             [
              0.6666666666666666,
              "#ed7953"
             ],
             [
              0.7777777777777778,
              "#fb9f3a"
             ],
             [
              0.8888888888888888,
              "#fdca26"
             ],
             [
              1,
              "#f0f921"
             ]
            ],
            "type": "heatmapgl"
           }
          ],
          "histogram": [
           {
            "marker": {
             "pattern": {
              "fillmode": "overlay",
              "size": 10,
              "solidity": 0.2
             }
            },
            "type": "histogram"
           }
          ],
          "histogram2d": [
           {
            "colorbar": {
             "outlinewidth": 0,
             "ticks": ""
            },
            "colorscale": [
             [
              0,
              "#0d0887"
             ],
             [
              0.1111111111111111,
              "#46039f"
             ],
             [
              0.2222222222222222,
              "#7201a8"
             ],
             [
              0.3333333333333333,
              "#9c179e"
             ],
             [
              0.4444444444444444,
              "#bd3786"
             ],
             [
              0.5555555555555556,
              "#d8576b"
             ],
             [
              0.6666666666666666,
              "#ed7953"
             ],
             [
              0.7777777777777778,
              "#fb9f3a"
             ],
             [
              0.8888888888888888,
              "#fdca26"
             ],
             [
              1,
              "#f0f921"
             ]
            ],
            "type": "histogram2d"
           }
          ],
          "histogram2dcontour": [
           {
            "colorbar": {
             "outlinewidth": 0,
             "ticks": ""
            },
            "colorscale": [
             [
              0,
              "#0d0887"
             ],
             [
              0.1111111111111111,
              "#46039f"
             ],
             [
              0.2222222222222222,
              "#7201a8"
             ],
             [
              0.3333333333333333,
              "#9c179e"
             ],
             [
              0.4444444444444444,
              "#bd3786"
             ],
             [
              0.5555555555555556,
              "#d8576b"
             ],
             [
              0.6666666666666666,
              "#ed7953"
             ],
             [
              0.7777777777777778,
              "#fb9f3a"
             ],
             [
              0.8888888888888888,
              "#fdca26"
             ],
             [
              1,
              "#f0f921"
             ]
            ],
            "type": "histogram2dcontour"
           }
          ],
          "mesh3d": [
           {
            "colorbar": {
             "outlinewidth": 0,
             "ticks": ""
            },
            "type": "mesh3d"
           }
          ],
          "parcoords": [
           {
            "line": {
             "colorbar": {
              "outlinewidth": 0,
              "ticks": ""
             }
            },
            "type": "parcoords"
           }
          ],
          "pie": [
           {
            "automargin": true,
            "type": "pie"
           }
          ],
          "scatter": [
           {
            "fillpattern": {
             "fillmode": "overlay",
             "size": 10,
             "solidity": 0.2
            },
            "type": "scatter"
           }
          ],
          "scatter3d": [
           {
            "line": {
             "colorbar": {
              "outlinewidth": 0,
              "ticks": ""
             }
            },
            "marker": {
             "colorbar": {
              "outlinewidth": 0,
              "ticks": ""
             }
            },
            "type": "scatter3d"
           }
          ],
          "scattercarpet": [
           {
            "marker": {
             "colorbar": {
              "outlinewidth": 0,
              "ticks": ""
             }
            },
            "type": "scattercarpet"
           }
          ],
          "scattergeo": [
           {
            "marker": {
             "colorbar": {
              "outlinewidth": 0,
              "ticks": ""
             }
            },
            "type": "scattergeo"
           }
          ],
          "scattergl": [
           {
            "marker": {
             "colorbar": {
              "outlinewidth": 0,
              "ticks": ""
             }
            },
            "type": "scattergl"
           }
          ],
          "scattermapbox": [
           {
            "marker": {
             "colorbar": {
              "outlinewidth": 0,
              "ticks": ""
             }
            },
            "type": "scattermapbox"
           }
          ],
          "scatterpolar": [
           {
            "marker": {
             "colorbar": {
              "outlinewidth": 0,
              "ticks": ""
             }
            },
            "type": "scatterpolar"
           }
          ],
          "scatterpolargl": [
           {
            "marker": {
             "colorbar": {
              "outlinewidth": 0,
              "ticks": ""
             }
            },
            "type": "scatterpolargl"
           }
          ],
          "scatterternary": [
           {
            "marker": {
             "colorbar": {
              "outlinewidth": 0,
              "ticks": ""
             }
            },
            "type": "scatterternary"
           }
          ],
          "surface": [
           {
            "colorbar": {
             "outlinewidth": 0,
             "ticks": ""
            },
            "colorscale": [
             [
              0,
              "#0d0887"
             ],
             [
              0.1111111111111111,
              "#46039f"
             ],
             [
              0.2222222222222222,
              "#7201a8"
             ],
             [
              0.3333333333333333,
              "#9c179e"
             ],
             [
              0.4444444444444444,
              "#bd3786"
             ],
             [
              0.5555555555555556,
              "#d8576b"
             ],
             [
              0.6666666666666666,
              "#ed7953"
             ],
             [
              0.7777777777777778,
              "#fb9f3a"
             ],
             [
              0.8888888888888888,
              "#fdca26"
             ],
             [
              1,
              "#f0f921"
             ]
            ],
            "type": "surface"
           }
          ],
          "table": [
           {
            "cells": {
             "fill": {
              "color": "#EBF0F8"
             },
             "line": {
              "color": "white"
             }
            },
            "header": {
             "fill": {
              "color": "#C8D4E3"
             },
             "line": {
              "color": "white"
             }
            },
            "type": "table"
           }
          ]
         },
         "layout": {
          "annotationdefaults": {
           "arrowcolor": "#2a3f5f",
           "arrowhead": 0,
           "arrowwidth": 1
          },
          "autotypenumbers": "strict",
          "coloraxis": {
           "colorbar": {
            "outlinewidth": 0,
            "ticks": ""
           }
          },
          "colorscale": {
           "diverging": [
            [
             0,
             "#8e0152"
            ],
            [
             0.1,
             "#c51b7d"
            ],
            [
             0.2,
             "#de77ae"
            ],
            [
             0.3,
             "#f1b6da"
            ],
            [
             0.4,
             "#fde0ef"
            ],
            [
             0.5,
             "#f7f7f7"
            ],
            [
             0.6,
             "#e6f5d0"
            ],
            [
             0.7,
             "#b8e186"
            ],
            [
             0.8,
             "#7fbc41"
            ],
            [
             0.9,
             "#4d9221"
            ],
            [
             1,
             "#276419"
            ]
           ],
           "sequential": [
            [
             0,
             "#0d0887"
            ],
            [
             0.1111111111111111,
             "#46039f"
            ],
            [
             0.2222222222222222,
             "#7201a8"
            ],
            [
             0.3333333333333333,
             "#9c179e"
            ],
            [
             0.4444444444444444,
             "#bd3786"
            ],
            [
             0.5555555555555556,
             "#d8576b"
            ],
            [
             0.6666666666666666,
             "#ed7953"
            ],
            [
             0.7777777777777778,
             "#fb9f3a"
            ],
            [
             0.8888888888888888,
             "#fdca26"
            ],
            [
             1,
             "#f0f921"
            ]
           ],
           "sequentialminus": [
            [
             0,
             "#0d0887"
            ],
            [
             0.1111111111111111,
             "#46039f"
            ],
            [
             0.2222222222222222,
             "#7201a8"
            ],
            [
             0.3333333333333333,
             "#9c179e"
            ],
            [
             0.4444444444444444,
             "#bd3786"
            ],
            [
             0.5555555555555556,
             "#d8576b"
            ],
            [
             0.6666666666666666,
             "#ed7953"
            ],
            [
             0.7777777777777778,
             "#fb9f3a"
            ],
            [
             0.8888888888888888,
             "#fdca26"
            ],
            [
             1,
             "#f0f921"
            ]
           ]
          },
          "colorway": [
           "#636efa",
           "#EF553B",
           "#00cc96",
           "#ab63fa",
           "#FFA15A",
           "#19d3f3",
           "#FF6692",
           "#B6E880",
           "#FF97FF",
           "#FECB52"
          ],
          "font": {
           "color": "#2a3f5f"
          },
          "geo": {
           "bgcolor": "white",
           "lakecolor": "white",
           "landcolor": "#E5ECF6",
           "showlakes": true,
           "showland": true,
           "subunitcolor": "white"
          },
          "hoverlabel": {
           "align": "left"
          },
          "hovermode": "closest",
          "mapbox": {
           "style": "light"
          },
          "paper_bgcolor": "white",
          "plot_bgcolor": "#E5ECF6",
          "polar": {
           "angularaxis": {
            "gridcolor": "white",
            "linecolor": "white",
            "ticks": ""
           },
           "bgcolor": "#E5ECF6",
           "radialaxis": {
            "gridcolor": "white",
            "linecolor": "white",
            "ticks": ""
           }
          },
          "scene": {
           "xaxis": {
            "backgroundcolor": "#E5ECF6",
            "gridcolor": "white",
            "gridwidth": 2,
            "linecolor": "white",
            "showbackground": true,
            "ticks": "",
            "zerolinecolor": "white"
           },
           "yaxis": {
            "backgroundcolor": "#E5ECF6",
            "gridcolor": "white",
            "gridwidth": 2,
            "linecolor": "white",
            "showbackground": true,
            "ticks": "",
            "zerolinecolor": "white"
           },
           "zaxis": {
            "backgroundcolor": "#E5ECF6",
            "gridcolor": "white",
            "gridwidth": 2,
            "linecolor": "white",
            "showbackground": true,
            "ticks": "",
            "zerolinecolor": "white"
           }
          },
          "shapedefaults": {
           "line": {
            "color": "#2a3f5f"
           }
          },
          "ternary": {
           "aaxis": {
            "gridcolor": "white",
            "linecolor": "white",
            "ticks": ""
           },
           "baxis": {
            "gridcolor": "white",
            "linecolor": "white",
            "ticks": ""
           },
           "bgcolor": "#E5ECF6",
           "caxis": {
            "gridcolor": "white",
            "linecolor": "white",
            "ticks": ""
           }
          },
          "title": {
           "x": 0.05
          },
          "xaxis": {
           "automargin": true,
           "gridcolor": "white",
           "linecolor": "white",
           "ticks": "",
           "title": {
            "standoff": 15
           },
           "zerolinecolor": "white",
           "zerolinewidth": 2
          },
          "yaxis": {
           "automargin": true,
           "gridcolor": "white",
           "linecolor": "white",
           "ticks": "",
           "title": {
            "standoff": 15
           },
           "zerolinecolor": "white",
           "zerolinewidth": 2
          }
         }
        },
        "title": {
         "text": "Matrice de corrélation"
        },
        "width": 600,
        "xaxis": {
         "showgrid": false
        },
        "yaxis": {
         "autorange": "reversed",
         "showgrid": false
        }
       }
      }
     },
     "metadata": {},
     "output_type": "display_data"
    }
   ],
   "source": [
    "columns_names = df_termin.drop(columns=['propclassesavectbi']).columns\n",
    "\n",
    "heat = go.Heatmap(\n",
    "    z = df_termin.corr(),\n",
    "    x = columns_names,\n",
    "    y = columns_names,\n",
    "    xgap = 1,\n",
    "    ygap = 1,\n",
    "    colorbar_thickness = 20,\n",
    "    hovertext=df_termin.corr().round(2).values,\n",
    ")\n",
    "\n",
    "layout = go.Layout(\n",
    "    title = 'Matrice de corrélation',\n",
    "    width=600,  height=600,\n",
    "    xaxis_showgrid=False, yaxis_showgrid=False,\n",
    "    yaxis_autorange='reversed'\n",
    ")\n",
    "\n",
    "fig = go.Figure(data=[heat], layout=layout)\n",
    "fig.show()"
   ]
  },
  {
   "attachments": {},
   "cell_type": "markdown",
   "metadata": {},
   "source": [
    "La matrice de corrélation nous met à l'évidence l'existence d'une corrélation entre plusieurs variables.\n",
    "Par exemple, il existe une corrélation positive entre le nombre de terminaux et et le nombre de vidéo projecteurs.\n",
    "Il existe aussi une forte corrélation entre le nombre de terminaux et `portaffel` (nombre de terminaux mobiles affectés à titre individuel à des élèves).\n",
    "- entre nombre de terminaux et `microportable` (nombre de terminaux mobiles total)\n",
    "- entre nombre de terminaux et `micromoins5` (nombre de terminaux de moins de 5 ans) : il doit y avoir de grandes proportions de terminaux de moins de 5 ans dans les différents établissements\n",
    "- `micromoins5` a une forte corrélation avec `microportable` et `portaffel` : ce qui veut dire que la plupart des terminaux qui ont moins de 5 ans sont des terminaux mobiles prêtés aux élèves. Ceci peut être visible car on sait que la région distribue des ordinateurs à chaque étudiant qui entre au lycée.\n",
    "- entre `microportable` et `portaffel` (très forte corrélation) : la plupart des terminaux mobiles sont affectées aux étudiants ce qui est normal\n",
    "- entre `eleveeqash` et `posteeqash` : ce qui est logique, le nombre de terminaux pour les élèves équipés au titre de l'ASH (Adaptation, Scolarisation, Handicap) doit convenir au nombre d'élèves équipés au titre de l'ASH\n",
    "\n",
    "Ce sont les corrélations les plus importantes que nous avons pu constater dans cette matrice. Nous allons maintenant passer à l'ACP"
   ]
  },
  {
   "attachments": {},
   "cell_type": "markdown",
   "metadata": {},
   "source": [
    "### *ACP*\n",
    "\n",
    "On va commencer par faire une ACP sans la colonnes `PropClassesAvecTBI` qui veut dire la proportion de classes avec un tableau blanc interactif. Cette colonne est sous forme de seuil."
   ]
  },
  {
   "cell_type": "code",
   "execution_count": 73,
   "metadata": {},
   "outputs": [
    {
     "name": "stdout",
     "output_type": "stream",
     "text": [
      "(233, 15)\n"
     ]
    },
    {
     "data": {
      "application/vnd.plotly.v1+json": {
       "config": {
        "plotlyServerURL": "https://plot.ly"
       },
       "data": [
        {
         "hovertemplate": "PC 1 (31.5%)=%{x}<br>PC 2 (15.6%)=%{y}<extra></extra>",
         "legendgroup": "",
         "marker": {
          "color": "#636efa",
          "symbol": "circle"
         },
         "mode": "markers",
         "name": "",
         "orientation": "v",
         "showlegend": false,
         "type": "scatter",
         "x": [
          -0.9777442188098867,
          -1.1340622924298651,
          0.2268651173774334,
          -0.5305137224936048,
          0.07727073634125815,
          -0.864540746045001,
          -0.6464003887640721,
          -0.9997754289598438,
          0.8537735616756016,
          -1.1732288930196135,
          -0.912941027070903,
          -1.023456235302952,
          0.9459870182630468,
          -0.9021384235073523,
          -0.6862375907495525,
          -0.4395701414319453,
          -0.9894160959941835,
          -0.9428096763907552,
          -0.8350077955748809,
          -0.8625230347098588,
          -0.7481702773724608,
          1.2903939374353128,
          1.1012925803428435,
          -1.5064550035869955,
          -1.2341835163872588,
          -0.18990949553849437,
          -0.44662385603493654,
          0.1012049928316732,
          1.0583119777902212,
          -0.5983277663703112,
          -1.4829622669494822,
          -0.6739467727415756,
          -1.1242209790250877,
          -0.3163748344017965,
          -0.2582736347881606,
          -0.7394191944751761,
          0.03469314689169909,
          -1.2624363968171557,
          -0.93442149624287,
          -0.5531546088663832,
          1.8867957811565106,
          0.0032455317601240664,
          -1.1464865155661228,
          -0.7996104151511515,
          0.16247566015133924,
          -0.5475031013488336,
          -1.3850271286103017,
          -0.7651479761661767,
          -0.20627218472688305,
          -0.44437649824647524,
          0.5551620859500428,
          0.43675306712534256,
          -1.1595692940861084,
          -1.122369706062192,
          0.12324700149916316,
          -0.5056263131773422,
          9.970708287309494,
          -0.8443320382933331,
          -0.9725938301957469,
          1.5604467829107342,
          -0.1760311423117609,
          -1.023746427074831,
          -1.0419228467752852,
          -1.021872824321968,
          -0.21446345109073361,
          -0.3318837031042068,
          -0.41634469991708695,
          -1.025401004872955,
          -0.9264615938996084,
          0.8462938251120294,
          -0.7010191284721651,
          -1.3845253903101833,
          0.2775746465881054,
          -0.8406022819579777,
          -0.45008235629678744,
          0.19854806155329166,
          9.601473180960758,
          3.306439061502323,
          -0.8317220537160507,
          0.15152786730851966,
          0.8818834021796503,
          -0.8279826736048315,
          -0.705003335710738,
          4.719238719924616,
          -1.0748169829211556,
          -0.7087459678474518,
          -1.6430972004728004,
          1.7030329758651233,
          -0.023723329533595433,
          -0.4479806389755334,
          0.04230262717989156,
          -0.9708477133633935,
          -0.7221150074522205,
          5.074470550438087,
          15.84030774751865,
          -1.0067370582385387,
          -0.5280061852905846,
          0.5098949231970288,
          -1.2235145951908941,
          -1.0592182102837202,
          0.5580219905884837,
          -0.902894951184616,
          -0.6527647667876674,
          -0.7965051566914866,
          -0.8259653040952588,
          -1.1238400154396395,
          0.7082538614730453,
          -0.5183193143474998,
          0.5796681071522339,
          -0.6401286470103065,
          -0.8762586670566385,
          -0.27331791931794613,
          -0.5296518404164849,
          -0.570917657763122,
          -0.7648491310398404,
          4.824287757846356,
          -0.6833661094456168,
          15.539521583410165,
          -0.1369626208351194,
          -1.04726342045813,
          -0.6053494864982507,
          -0.6714387205907114,
          -1.115319402634646,
          -1.4267958991271956,
          -1.15745370052482,
          2.7959978171372186,
          3.3817459707986517,
          -0.08857458163670491,
          -1.3162432231522432,
          0.5020924580654114,
          -0.34108437616611614,
          -1.274738173572307,
          0.09291016595656827,
          1.8808196067482428,
          -0.7472904870683115,
          1.4933148945072818,
          -1.0953956214304312,
          -1.179940918316615,
          -1.4202265521238517,
          -1.3017646462062915,
          1.581275989169416,
          -0.8759922865498242,
          -0.2838266604450592,
          -0.6626153562945444,
          -1.2096439509445123,
          -0.7148683180537637,
          -0.5973118303887507,
          -0.9265865314651488,
          0.2393571564017512,
          -1.3402306509453517,
          -0.821845502889776,
          -0.676314395156097,
          2.8362417241587683,
          -0.8125026881395523,
          -0.37601381365771,
          0.9327241376238755,
          -0.6800536630134475,
          -0.4506397382289891,
          -0.5032152711138553,
          -0.16507765497475455,
          -0.8410777919253264,
          1.3638896936718996,
          -1.145850684873869,
          -0.6600413677358455,
          -0.2870796696333761,
          0.12825625620346034,
          -0.6369215462576724,
          -0.7006913827140105,
          -1.4858549623232724,
          -1.3299958889414971,
          -0.21785659840233332,
          -1.047270220529416,
          -0.35723100606521496,
          -0.7706960328262881,
          -1.0303205972091545,
          0.09712662381232008,
          -1.1116810159744726,
          0.7856652975042228,
          0.9206444615226091,
          -0.3025462795485598,
          -1.1407426567184882,
          0.2849383896644827,
          0.490051126018767,
          -0.8533204823654897,
          2.8590384505120743,
          -0.7536221963679969,
          0.8467440823191981,
          0.2309400138983262,
          2.4383224164418484,
          -0.1904991114066095,
          -0.3856849531665174,
          -1.0919773022250392,
          1.6597571482813807,
          0.44308605419398195,
          -0.6705478190428019,
          -0.7818902503183098,
          -0.3169750007961836,
          -0.9306095389800821,
          -1.056790383376202,
          -1.2921356660022172,
          -1.095478371691822,
          0.5349908597817368,
          -0.5391197262569776,
          -0.538082423036986,
          0.25517953325258036,
          -0.8543489622266207,
          -0.6797535350432111,
          1.5177657178505355,
          -0.8837986352915603,
          -0.28425751631516527,
          -0.3762628618539694,
          1.9751560949903504,
          -1.4198942173795988,
          -1.3115405567982803,
          -1.4174114778792084,
          0.3504099823046221,
          -0.9665472384201839,
          -0.28270147801834383,
          0.891991990074336,
          1.0397052002848595,
          -0.6243281725190112,
          3.29679184110876,
          4.826623477688297,
          -0.5385308595633596,
          -1.20655641037007,
          -0.6219206053350029,
          0.07307046339546405,
          -0.8870292019884252,
          -1.041648362881272,
          -1.1109736684138534,
          3.715617003055931,
          -0.8982190698602174,
          -1.1479082594508945
         ],
         "xaxis": "x",
         "y": [
          -0.8998265658990017,
          0.29438760038767514,
          -1.061103671351129,
          -0.2666215572029328,
          0.9387354487703087,
          -0.7084764278505332,
          1.8807061121401742,
          -0.11827378002201198,
          -0.4238274672748211,
          -0.36089874461099686,
          -0.4205704330812996,
          -0.5047565349101724,
          1.6851139038043588,
          -0.5397082587854408,
          -1.1492672335776073,
          -0.9283703188082998,
          -0.9098705498929243,
          -0.7803117991345164,
          -0.8963490580217068,
          -1.066943176733342,
          -0.13951109228121983,
          -0.44279294243622314,
          -0.40460499862829336,
          -0.7830896353794631,
          -0.3826633450781266,
          3.5687886932171593,
          1.2837082511681046,
          -1.4229099288983245,
          -1.243063756729826,
          -1.3153251032361994,
          -0.6929874442630188,
          -1.0415383986327453,
          -0.5116013278880142,
          -0.7167148073825559,
          4.588795757459629,
          0.6533648627921295,
          -1.0029556670159938,
          0.07052629186941205,
          -0.896455830989367,
          -0.7954046292010042,
          0.7634882617687794,
          0.4267023388339649,
          0.09853428654872838,
          0.3006558371781654,
          -0.3557994809845645,
          -0.16578374561966092,
          -0.46211373974090453,
          -0.5426762041498218,
          -0.19373138931596742,
          -0.43499098016991317,
          2.0866227769747367,
          0.6595835629541984,
          -0.5769865916702183,
          -0.6311062622062412,
          0.040178569013900614,
          -0.003656756973617763,
          -2.738794156743326,
          0.4067604379012515,
          -0.05284938933613338,
          -1.5750142922865573,
          -1.1411600479431232,
          -0.8993912726811573,
          -0.8926937516941249,
          -1.0426566465455567,
          -0.923333361849877,
          -0.11853858314250161,
          0.17029699452398894,
          -0.9066604185651238,
          0.031915202384995775,
          -1.4291817531492554,
          -0.18708195724263654,
          -0.33396475354609834,
          -1.6348481896524951,
          5.421108492989339,
          3.37631930764697,
          -0.1769496173116478,
          -2.6933294100502,
          -1.6751879033521464,
          2.4271995934851334,
          0.7314655321998754,
          4.798073930972877,
          3.2734037875928816,
          -0.420810545748791,
          4.041988034766687,
          -0.2610191711800052,
          -0.785568038693593,
          -0.6743636346218241,
          2.1348305729814343,
          0.031330757354783134,
          -0.7655616105926932,
          1.100050588003516,
          0.01678500411650645,
          -0.3449030553762669,
          1.0958169213057682,
          -3.0558854506804574,
          2.3740613794092784,
          0.006214723410879339,
          -1.0018095720279205,
          -0.3768780564911742,
          -0.8935356703580687,
          2.0395789743942694,
          -0.4772090470268385,
          0.16780891060772996,
          -0.8921165341488774,
          -0.5156148144584215,
          -0.9539229746105738,
          -1.5531743339472162,
          -0.8179632684548512,
          -1.261694774152185,
          -0.7347257153506798,
          -0.8990723200283526,
          -1.3208247533351616,
          -0.6582728381016933,
          0.6939600079904601,
          -0.03845172467098449,
          5.790267572550928,
          1.5884322508538355,
          -1.1897807535745624,
          3.333413230249935,
          -0.9831701607293285,
          0.9358491741788003,
          -0.8985215994048139,
          -0.47870789649148315,
          -0.8136251826015005,
          0.7121486297082976,
          2.7586524645045807,
          2.32628460041784,
          -0.42032820071069354,
          -0.04554455549115023,
          -1.5323422672670355,
          0.13319240383664974,
          -0.5891452179682652,
          -0.9683610045490822,
          -1.1808830135093187,
          -0.9341495760120867,
          1.9537907111425667,
          0.5023899689057132,
          -0.6537578304802935,
          -0.6680717953239641,
          -0.10898172360352487,
          -1.518115160989766,
          -0.36512110185139973,
          0.33227327759485853,
          -0.20709895997148203,
          -0.9058999153870719,
          -0.05626932229527622,
          0.9094913218496941,
          -0.8734057628623226,
          -0.9439470744431664,
          -0.7479048503570888,
          -0.9849183194252106,
          -0.9639353439818046,
          1.8983911816015187,
          -1.0317920728882275,
          0.894354363938571,
          0.9292630369694191,
          -0.49313468156526413,
          -0.5742134625197994,
          -0.3142814485432733,
          -1.1139742352877764,
          -0.9295582691437669,
          -0.9602736702167748,
          -0.8582535980758451,
          -0.07676269446439962,
          0.7980967967250232,
          3.37642762816122,
          1.93663990989927,
          0.021338897939313217,
          -0.7006097526044405,
          -0.7619734287103894,
          -0.25044868540456117,
          0.09231430049038225,
          0.860397418767627,
          0.3445656508244577,
          -0.07336000072043174,
          3.434222903024006,
          -0.9175386038000666,
          -0.9433128035318898,
          2.5059011893581515,
          0.22424171785381866,
          -0.5425325966401954,
          -0.4473034808417603,
          -1.163694415261321,
          -0.5824790850752176,
          -0.9895485695689421,
          -0.1843641649666001,
          0.017420626317796783,
          -1.5201701438560131,
          -2.269403855816295,
          -1.4185027182185148,
          -1.340534610666656,
          -0.677879067539127,
          -1.4783110784036182,
          -1.0646151228907375,
          -0.8740610125531555,
          -0.7705832114920876,
          2.0703890461793413,
          -0.2752141238893779,
          -0.9961566086351614,
          -0.303118813506932,
          0.3353351912455449,
          0.9350638560998437,
          -1.1379606060120426,
          2.6431823042276728,
          7.56388429058028,
          0.6284365098648279,
          -0.46488839444010976,
          0.3792059816161637,
          0.8553220348823566,
          -1.1368860500336293,
          1.1426796597241382,
          -0.25942579177721165,
          -0.42215343453446774,
          -0.6920506463406982,
          -0.383671500357021,
          -0.5521451305366982,
          -0.7741318407534874,
          0.004419587195107761,
          -0.8496560008370568,
          -1.2850652320345597,
          -0.911266057414859,
          3.0644360020730996,
          3.046107180075644,
          -0.6251265405456954,
          -0.746174834057509,
          2.311598782724077,
          1.303400709452994,
          -1.0997237105369948,
          -0.2990945383518575,
          -0.5141972381643747,
          1.4444094627821256,
          2.2607131800424156,
          -0.8749894468647624
         ],
         "yaxis": "y"
        }
       ],
       "layout": {
        "legend": {
         "tracegroupgap": 0
        },
        "template": {
         "data": {
          "bar": [
           {
            "error_x": {
             "color": "#2a3f5f"
            },
            "error_y": {
             "color": "#2a3f5f"
            },
            "marker": {
             "line": {
              "color": "#E5ECF6",
              "width": 0.5
             },
             "pattern": {
              "fillmode": "overlay",
              "size": 10,
              "solidity": 0.2
             }
            },
            "type": "bar"
           }
          ],
          "barpolar": [
           {
            "marker": {
             "line": {
              "color": "#E5ECF6",
              "width": 0.5
             },
             "pattern": {
              "fillmode": "overlay",
              "size": 10,
              "solidity": 0.2
             }
            },
            "type": "barpolar"
           }
          ],
          "carpet": [
           {
            "aaxis": {
             "endlinecolor": "#2a3f5f",
             "gridcolor": "white",
             "linecolor": "white",
             "minorgridcolor": "white",
             "startlinecolor": "#2a3f5f"
            },
            "baxis": {
             "endlinecolor": "#2a3f5f",
             "gridcolor": "white",
             "linecolor": "white",
             "minorgridcolor": "white",
             "startlinecolor": "#2a3f5f"
            },
            "type": "carpet"
           }
          ],
          "choropleth": [
           {
            "colorbar": {
             "outlinewidth": 0,
             "ticks": ""
            },
            "type": "choropleth"
           }
          ],
          "contour": [
           {
            "colorbar": {
             "outlinewidth": 0,
             "ticks": ""
            },
            "colorscale": [
             [
              0,
              "#0d0887"
             ],
             [
              0.1111111111111111,
              "#46039f"
             ],
             [
              0.2222222222222222,
              "#7201a8"
             ],
             [
              0.3333333333333333,
              "#9c179e"
             ],
             [
              0.4444444444444444,
              "#bd3786"
             ],
             [
              0.5555555555555556,
              "#d8576b"
             ],
             [
              0.6666666666666666,
              "#ed7953"
             ],
             [
              0.7777777777777778,
              "#fb9f3a"
             ],
             [
              0.8888888888888888,
              "#fdca26"
             ],
             [
              1,
              "#f0f921"
             ]
            ],
            "type": "contour"
           }
          ],
          "contourcarpet": [
           {
            "colorbar": {
             "outlinewidth": 0,
             "ticks": ""
            },
            "type": "contourcarpet"
           }
          ],
          "heatmap": [
           {
            "colorbar": {
             "outlinewidth": 0,
             "ticks": ""
            },
            "colorscale": [
             [
              0,
              "#0d0887"
             ],
             [
              0.1111111111111111,
              "#46039f"
             ],
             [
              0.2222222222222222,
              "#7201a8"
             ],
             [
              0.3333333333333333,
              "#9c179e"
             ],
             [
              0.4444444444444444,
              "#bd3786"
             ],
             [
              0.5555555555555556,
              "#d8576b"
             ],
             [
              0.6666666666666666,
              "#ed7953"
             ],
             [
              0.7777777777777778,
              "#fb9f3a"
             ],
             [
              0.8888888888888888,
              "#fdca26"
             ],
             [
              1,
              "#f0f921"
             ]
            ],
            "type": "heatmap"
           }
          ],
          "heatmapgl": [
           {
            "colorbar": {
             "outlinewidth": 0,
             "ticks": ""
            },
            "colorscale": [
             [
              0,
              "#0d0887"
             ],
             [
              0.1111111111111111,
              "#46039f"
             ],
             [
              0.2222222222222222,
              "#7201a8"
             ],
             [
              0.3333333333333333,
              "#9c179e"
             ],
             [
              0.4444444444444444,
              "#bd3786"
             ],
             [
              0.5555555555555556,
              "#d8576b"
             ],
             [
              0.6666666666666666,
              "#ed7953"
             ],
             [
              0.7777777777777778,
              "#fb9f3a"
             ],
             [
              0.8888888888888888,
              "#fdca26"
             ],
             [
              1,
              "#f0f921"
             ]
            ],
            "type": "heatmapgl"
           }
          ],
          "histogram": [
           {
            "marker": {
             "pattern": {
              "fillmode": "overlay",
              "size": 10,
              "solidity": 0.2
             }
            },
            "type": "histogram"
           }
          ],
          "histogram2d": [
           {
            "colorbar": {
             "outlinewidth": 0,
             "ticks": ""
            },
            "colorscale": [
             [
              0,
              "#0d0887"
             ],
             [
              0.1111111111111111,
              "#46039f"
             ],
             [
              0.2222222222222222,
              "#7201a8"
             ],
             [
              0.3333333333333333,
              "#9c179e"
             ],
             [
              0.4444444444444444,
              "#bd3786"
             ],
             [
              0.5555555555555556,
              "#d8576b"
             ],
             [
              0.6666666666666666,
              "#ed7953"
             ],
             [
              0.7777777777777778,
              "#fb9f3a"
             ],
             [
              0.8888888888888888,
              "#fdca26"
             ],
             [
              1,
              "#f0f921"
             ]
            ],
            "type": "histogram2d"
           }
          ],
          "histogram2dcontour": [
           {
            "colorbar": {
             "outlinewidth": 0,
             "ticks": ""
            },
            "colorscale": [
             [
              0,
              "#0d0887"
             ],
             [
              0.1111111111111111,
              "#46039f"
             ],
             [
              0.2222222222222222,
              "#7201a8"
             ],
             [
              0.3333333333333333,
              "#9c179e"
             ],
             [
              0.4444444444444444,
              "#bd3786"
             ],
             [
              0.5555555555555556,
              "#d8576b"
             ],
             [
              0.6666666666666666,
              "#ed7953"
             ],
             [
              0.7777777777777778,
              "#fb9f3a"
             ],
             [
              0.8888888888888888,
              "#fdca26"
             ],
             [
              1,
              "#f0f921"
             ]
            ],
            "type": "histogram2dcontour"
           }
          ],
          "mesh3d": [
           {
            "colorbar": {
             "outlinewidth": 0,
             "ticks": ""
            },
            "type": "mesh3d"
           }
          ],
          "parcoords": [
           {
            "line": {
             "colorbar": {
              "outlinewidth": 0,
              "ticks": ""
             }
            },
            "type": "parcoords"
           }
          ],
          "pie": [
           {
            "automargin": true,
            "type": "pie"
           }
          ],
          "scatter": [
           {
            "fillpattern": {
             "fillmode": "overlay",
             "size": 10,
             "solidity": 0.2
            },
            "type": "scatter"
           }
          ],
          "scatter3d": [
           {
            "line": {
             "colorbar": {
              "outlinewidth": 0,
              "ticks": ""
             }
            },
            "marker": {
             "colorbar": {
              "outlinewidth": 0,
              "ticks": ""
             }
            },
            "type": "scatter3d"
           }
          ],
          "scattercarpet": [
           {
            "marker": {
             "colorbar": {
              "outlinewidth": 0,
              "ticks": ""
             }
            },
            "type": "scattercarpet"
           }
          ],
          "scattergeo": [
           {
            "marker": {
             "colorbar": {
              "outlinewidth": 0,
              "ticks": ""
             }
            },
            "type": "scattergeo"
           }
          ],
          "scattergl": [
           {
            "marker": {
             "colorbar": {
              "outlinewidth": 0,
              "ticks": ""
             }
            },
            "type": "scattergl"
           }
          ],
          "scattermapbox": [
           {
            "marker": {
             "colorbar": {
              "outlinewidth": 0,
              "ticks": ""
             }
            },
            "type": "scattermapbox"
           }
          ],
          "scatterpolar": [
           {
            "marker": {
             "colorbar": {
              "outlinewidth": 0,
              "ticks": ""
             }
            },
            "type": "scatterpolar"
           }
          ],
          "scatterpolargl": [
           {
            "marker": {
             "colorbar": {
              "outlinewidth": 0,
              "ticks": ""
             }
            },
            "type": "scatterpolargl"
           }
          ],
          "scatterternary": [
           {
            "marker": {
             "colorbar": {
              "outlinewidth": 0,
              "ticks": ""
             }
            },
            "type": "scatterternary"
           }
          ],
          "surface": [
           {
            "colorbar": {
             "outlinewidth": 0,
             "ticks": ""
            },
            "colorscale": [
             [
              0,
              "#0d0887"
             ],
             [
              0.1111111111111111,
              "#46039f"
             ],
             [
              0.2222222222222222,
              "#7201a8"
             ],
             [
              0.3333333333333333,
              "#9c179e"
             ],
             [
              0.4444444444444444,
              "#bd3786"
             ],
             [
              0.5555555555555556,
              "#d8576b"
             ],
             [
              0.6666666666666666,
              "#ed7953"
             ],
             [
              0.7777777777777778,
              "#fb9f3a"
             ],
             [
              0.8888888888888888,
              "#fdca26"
             ],
             [
              1,
              "#f0f921"
             ]
            ],
            "type": "surface"
           }
          ],
          "table": [
           {
            "cells": {
             "fill": {
              "color": "#EBF0F8"
             },
             "line": {
              "color": "white"
             }
            },
            "header": {
             "fill": {
              "color": "#C8D4E3"
             },
             "line": {
              "color": "white"
             }
            },
            "type": "table"
           }
          ]
         },
         "layout": {
          "annotationdefaults": {
           "arrowcolor": "#2a3f5f",
           "arrowhead": 0,
           "arrowwidth": 1
          },
          "autotypenumbers": "strict",
          "coloraxis": {
           "colorbar": {
            "outlinewidth": 0,
            "ticks": ""
           }
          },
          "colorscale": {
           "diverging": [
            [
             0,
             "#8e0152"
            ],
            [
             0.1,
             "#c51b7d"
            ],
            [
             0.2,
             "#de77ae"
            ],
            [
             0.3,
             "#f1b6da"
            ],
            [
             0.4,
             "#fde0ef"
            ],
            [
             0.5,
             "#f7f7f7"
            ],
            [
             0.6,
             "#e6f5d0"
            ],
            [
             0.7,
             "#b8e186"
            ],
            [
             0.8,
             "#7fbc41"
            ],
            [
             0.9,
             "#4d9221"
            ],
            [
             1,
             "#276419"
            ]
           ],
           "sequential": [
            [
             0,
             "#0d0887"
            ],
            [
             0.1111111111111111,
             "#46039f"
            ],
            [
             0.2222222222222222,
             "#7201a8"
            ],
            [
             0.3333333333333333,
             "#9c179e"
            ],
            [
             0.4444444444444444,
             "#bd3786"
            ],
            [
             0.5555555555555556,
             "#d8576b"
            ],
            [
             0.6666666666666666,
             "#ed7953"
            ],
            [
             0.7777777777777778,
             "#fb9f3a"
            ],
            [
             0.8888888888888888,
             "#fdca26"
            ],
            [
             1,
             "#f0f921"
            ]
           ],
           "sequentialminus": [
            [
             0,
             "#0d0887"
            ],
            [
             0.1111111111111111,
             "#46039f"
            ],
            [
             0.2222222222222222,
             "#7201a8"
            ],
            [
             0.3333333333333333,
             "#9c179e"
            ],
            [
             0.4444444444444444,
             "#bd3786"
            ],
            [
             0.5555555555555556,
             "#d8576b"
            ],
            [
             0.6666666666666666,
             "#ed7953"
            ],
            [
             0.7777777777777778,
             "#fb9f3a"
            ],
            [
             0.8888888888888888,
             "#fdca26"
            ],
            [
             1,
             "#f0f921"
            ]
           ]
          },
          "colorway": [
           "#636efa",
           "#EF553B",
           "#00cc96",
           "#ab63fa",
           "#FFA15A",
           "#19d3f3",
           "#FF6692",
           "#B6E880",
           "#FF97FF",
           "#FECB52"
          ],
          "font": {
           "color": "#2a3f5f"
          },
          "geo": {
           "bgcolor": "white",
           "lakecolor": "white",
           "landcolor": "#E5ECF6",
           "showlakes": true,
           "showland": true,
           "subunitcolor": "white"
          },
          "hoverlabel": {
           "align": "left"
          },
          "hovermode": "closest",
          "mapbox": {
           "style": "light"
          },
          "paper_bgcolor": "white",
          "plot_bgcolor": "#E5ECF6",
          "polar": {
           "angularaxis": {
            "gridcolor": "white",
            "linecolor": "white",
            "ticks": ""
           },
           "bgcolor": "#E5ECF6",
           "radialaxis": {
            "gridcolor": "white",
            "linecolor": "white",
            "ticks": ""
           }
          },
          "scene": {
           "xaxis": {
            "backgroundcolor": "#E5ECF6",
            "gridcolor": "white",
            "gridwidth": 2,
            "linecolor": "white",
            "showbackground": true,
            "ticks": "",
            "zerolinecolor": "white"
           },
           "yaxis": {
            "backgroundcolor": "#E5ECF6",
            "gridcolor": "white",
            "gridwidth": 2,
            "linecolor": "white",
            "showbackground": true,
            "ticks": "",
            "zerolinecolor": "white"
           },
           "zaxis": {
            "backgroundcolor": "#E5ECF6",
            "gridcolor": "white",
            "gridwidth": 2,
            "linecolor": "white",
            "showbackground": true,
            "ticks": "",
            "zerolinecolor": "white"
           }
          },
          "shapedefaults": {
           "line": {
            "color": "#2a3f5f"
           }
          },
          "ternary": {
           "aaxis": {
            "gridcolor": "white",
            "linecolor": "white",
            "ticks": ""
           },
           "baxis": {
            "gridcolor": "white",
            "linecolor": "white",
            "ticks": ""
           },
           "bgcolor": "#E5ECF6",
           "caxis": {
            "gridcolor": "white",
            "linecolor": "white",
            "ticks": ""
           }
          },
          "title": {
           "x": 0.05
          },
          "xaxis": {
           "automargin": true,
           "gridcolor": "white",
           "linecolor": "white",
           "ticks": "",
           "title": {
            "standoff": 15
           },
           "zerolinecolor": "white",
           "zerolinewidth": 2
          },
          "yaxis": {
           "automargin": true,
           "gridcolor": "white",
           "linecolor": "white",
           "ticks": "",
           "title": {
            "standoff": 15
           },
           "zerolinecolor": "white",
           "zerolinewidth": 2
          }
         }
        },
        "title": {
         "text": "ACP"
        },
        "xaxis": {
         "anchor": "y",
         "domain": [
          0,
          1
         ],
         "title": {
          "text": "PC 1 (31.5%)"
         }
        },
        "yaxis": {
         "anchor": "x",
         "domain": [
          0,
          1
         ],
         "title": {
          "text": "PC 2 (15.6%)"
         }
        }
       }
      }
     },
     "metadata": {},
     "output_type": "display_data"
    }
   ],
   "source": [
    "#On centre les données et on les réduit\n",
    "\n",
    "centralized = StandardScaler().fit_transform(df_termin.drop(columns=['propclassesavectbi']))\n",
    "\n",
    "#On applique l'ACP\n",
    "pca = PCA(n_components=2)\n",
    "components = pca.fit_transform(centralized)\n",
    "\n",
    "#On recupere les noms des colonnes\n",
    "df_ex = df_termin.drop(columns=['propclassesavectbi'])\n",
    "columns_names = df_ex.columns\n",
    "\n",
    "\n",
    "\n",
    "labels = {\n",
    "    str(i): f\"PC {i+1} ({var:.1f}%)\"\n",
    "    for i, var in enumerate(pca.explained_variance_ratio_ * 100)\n",
    "}\n",
    "\n",
    "\n",
    "fig = px.scatter(components, x=0, y=1, title='ACP', labels=labels)\n",
    "fig.show()\n"
   ]
  },
  {
   "attachments": {},
   "cell_type": "markdown",
   "metadata": {},
   "source": [
    "Nous avons une variance totale très satisfaisante. Nous trouvons une variance de 47.1 % approximativement. On a une mauvaise redistribution de l'information. Il faut donc interprêter les résultats avec précaution.\n",
    "Ici, on peut voir que la plupart des individus sont tous ensemble au milieu, ils forment un groupe. Il existe cependant certains établissement atypiques qui se situent seuls à droite. On en sait pas plus, on a besoin de voir les variables pour pouvoir émettre des hypothèses sur leurs caractéristiques."
   ]
  },
  {
   "cell_type": "code",
   "execution_count": 74,
   "metadata": {},
   "outputs": [
    {
     "data": {
      "application/vnd.plotly.v1+json": {
       "config": {
        "plotlyServerURL": "https://plot.ly"
       },
       "data": [
        {
         "hovertemplate": "PC 1 (31.5%)=%{x}<br>PC 2 (15.6%)=%{y}<extra></extra>",
         "legendgroup": "",
         "marker": {
          "color": "#636efa",
          "symbol": "circle"
         },
         "mode": "markers",
         "name": "",
         "orientation": "v",
         "showlegend": false,
         "type": "scatter",
         "x": [
          -0.9777442188098867,
          -1.1340622924298651,
          0.2268651173774334,
          -0.5305137224936048,
          0.07727073634125815,
          -0.864540746045001,
          -0.6464003887640721,
          -0.9997754289598438,
          0.8537735616756016,
          -1.1732288930196135,
          -0.912941027070903,
          -1.023456235302952,
          0.9459870182630468,
          -0.9021384235073523,
          -0.6862375907495525,
          -0.4395701414319453,
          -0.9894160959941835,
          -0.9428096763907552,
          -0.8350077955748809,
          -0.8625230347098588,
          -0.7481702773724608,
          1.2903939374353128,
          1.1012925803428435,
          -1.5064550035869955,
          -1.2341835163872588,
          -0.18990949553849437,
          -0.44662385603493654,
          0.1012049928316732,
          1.0583119777902212,
          -0.5983277663703112,
          -1.4829622669494822,
          -0.6739467727415756,
          -1.1242209790250877,
          -0.3163748344017965,
          -0.2582736347881606,
          -0.7394191944751761,
          0.03469314689169909,
          -1.2624363968171557,
          -0.93442149624287,
          -0.5531546088663832,
          1.8867957811565106,
          0.0032455317601240664,
          -1.1464865155661228,
          -0.7996104151511515,
          0.16247566015133924,
          -0.5475031013488336,
          -1.3850271286103017,
          -0.7651479761661767,
          -0.20627218472688305,
          -0.44437649824647524,
          0.5551620859500428,
          0.43675306712534256,
          -1.1595692940861084,
          -1.122369706062192,
          0.12324700149916316,
          -0.5056263131773422,
          9.970708287309494,
          -0.8443320382933331,
          -0.9725938301957469,
          1.5604467829107342,
          -0.1760311423117609,
          -1.023746427074831,
          -1.0419228467752852,
          -1.021872824321968,
          -0.21446345109073361,
          -0.3318837031042068,
          -0.41634469991708695,
          -1.025401004872955,
          -0.9264615938996084,
          0.8462938251120294,
          -0.7010191284721651,
          -1.3845253903101833,
          0.2775746465881054,
          -0.8406022819579777,
          -0.45008235629678744,
          0.19854806155329166,
          9.601473180960758,
          3.306439061502323,
          -0.8317220537160507,
          0.15152786730851966,
          0.8818834021796503,
          -0.8279826736048315,
          -0.705003335710738,
          4.719238719924616,
          -1.0748169829211556,
          -0.7087459678474518,
          -1.6430972004728004,
          1.7030329758651233,
          -0.023723329533595433,
          -0.4479806389755334,
          0.04230262717989156,
          -0.9708477133633935,
          -0.7221150074522205,
          5.074470550438087,
          15.84030774751865,
          -1.0067370582385387,
          -0.5280061852905846,
          0.5098949231970288,
          -1.2235145951908941,
          -1.0592182102837202,
          0.5580219905884837,
          -0.902894951184616,
          -0.6527647667876674,
          -0.7965051566914866,
          -0.8259653040952588,
          -1.1238400154396395,
          0.7082538614730453,
          -0.5183193143474998,
          0.5796681071522339,
          -0.6401286470103065,
          -0.8762586670566385,
          -0.27331791931794613,
          -0.5296518404164849,
          -0.570917657763122,
          -0.7648491310398404,
          4.824287757846356,
          -0.6833661094456168,
          15.539521583410165,
          -0.1369626208351194,
          -1.04726342045813,
          -0.6053494864982507,
          -0.6714387205907114,
          -1.115319402634646,
          -1.4267958991271956,
          -1.15745370052482,
          2.7959978171372186,
          3.3817459707986517,
          -0.08857458163670491,
          -1.3162432231522432,
          0.5020924580654114,
          -0.34108437616611614,
          -1.274738173572307,
          0.09291016595656827,
          1.8808196067482428,
          -0.7472904870683115,
          1.4933148945072818,
          -1.0953956214304312,
          -1.179940918316615,
          -1.4202265521238517,
          -1.3017646462062915,
          1.581275989169416,
          -0.8759922865498242,
          -0.2838266604450592,
          -0.6626153562945444,
          -1.2096439509445123,
          -0.7148683180537637,
          -0.5973118303887507,
          -0.9265865314651488,
          0.2393571564017512,
          -1.3402306509453517,
          -0.821845502889776,
          -0.676314395156097,
          2.8362417241587683,
          -0.8125026881395523,
          -0.37601381365771,
          0.9327241376238755,
          -0.6800536630134475,
          -0.4506397382289891,
          -0.5032152711138553,
          -0.16507765497475455,
          -0.8410777919253264,
          1.3638896936718996,
          -1.145850684873869,
          -0.6600413677358455,
          -0.2870796696333761,
          0.12825625620346034,
          -0.6369215462576724,
          -0.7006913827140105,
          -1.4858549623232724,
          -1.3299958889414971,
          -0.21785659840233332,
          -1.047270220529416,
          -0.35723100606521496,
          -0.7706960328262881,
          -1.0303205972091545,
          0.09712662381232008,
          -1.1116810159744726,
          0.7856652975042228,
          0.9206444615226091,
          -0.3025462795485598,
          -1.1407426567184882,
          0.2849383896644827,
          0.490051126018767,
          -0.8533204823654897,
          2.8590384505120743,
          -0.7536221963679969,
          0.8467440823191981,
          0.2309400138983262,
          2.4383224164418484,
          -0.1904991114066095,
          -0.3856849531665174,
          -1.0919773022250392,
          1.6597571482813807,
          0.44308605419398195,
          -0.6705478190428019,
          -0.7818902503183098,
          -0.3169750007961836,
          -0.9306095389800821,
          -1.056790383376202,
          -1.2921356660022172,
          -1.095478371691822,
          0.5349908597817368,
          -0.5391197262569776,
          -0.538082423036986,
          0.25517953325258036,
          -0.8543489622266207,
          -0.6797535350432111,
          1.5177657178505355,
          -0.8837986352915603,
          -0.28425751631516527,
          -0.3762628618539694,
          1.9751560949903504,
          -1.4198942173795988,
          -1.3115405567982803,
          -1.4174114778792084,
          0.3504099823046221,
          -0.9665472384201839,
          -0.28270147801834383,
          0.891991990074336,
          1.0397052002848595,
          -0.6243281725190112,
          3.29679184110876,
          4.826623477688297,
          -0.5385308595633596,
          -1.20655641037007,
          -0.6219206053350029,
          0.07307046339546405,
          -0.8870292019884252,
          -1.041648362881272,
          -1.1109736684138534,
          3.715617003055931,
          -0.8982190698602174,
          -1.1479082594508945
         ],
         "xaxis": "x",
         "y": [
          -0.8998265658990017,
          0.29438760038767514,
          -1.061103671351129,
          -0.2666215572029328,
          0.9387354487703087,
          -0.7084764278505332,
          1.8807061121401742,
          -0.11827378002201198,
          -0.4238274672748211,
          -0.36089874461099686,
          -0.4205704330812996,
          -0.5047565349101724,
          1.6851139038043588,
          -0.5397082587854408,
          -1.1492672335776073,
          -0.9283703188082998,
          -0.9098705498929243,
          -0.7803117991345164,
          -0.8963490580217068,
          -1.066943176733342,
          -0.13951109228121983,
          -0.44279294243622314,
          -0.40460499862829336,
          -0.7830896353794631,
          -0.3826633450781266,
          3.5687886932171593,
          1.2837082511681046,
          -1.4229099288983245,
          -1.243063756729826,
          -1.3153251032361994,
          -0.6929874442630188,
          -1.0415383986327453,
          -0.5116013278880142,
          -0.7167148073825559,
          4.588795757459629,
          0.6533648627921295,
          -1.0029556670159938,
          0.07052629186941205,
          -0.896455830989367,
          -0.7954046292010042,
          0.7634882617687794,
          0.4267023388339649,
          0.09853428654872838,
          0.3006558371781654,
          -0.3557994809845645,
          -0.16578374561966092,
          -0.46211373974090453,
          -0.5426762041498218,
          -0.19373138931596742,
          -0.43499098016991317,
          2.0866227769747367,
          0.6595835629541984,
          -0.5769865916702183,
          -0.6311062622062412,
          0.040178569013900614,
          -0.003656756973617763,
          -2.738794156743326,
          0.4067604379012515,
          -0.05284938933613338,
          -1.5750142922865573,
          -1.1411600479431232,
          -0.8993912726811573,
          -0.8926937516941249,
          -1.0426566465455567,
          -0.923333361849877,
          -0.11853858314250161,
          0.17029699452398894,
          -0.9066604185651238,
          0.031915202384995775,
          -1.4291817531492554,
          -0.18708195724263654,
          -0.33396475354609834,
          -1.6348481896524951,
          5.421108492989339,
          3.37631930764697,
          -0.1769496173116478,
          -2.6933294100502,
          -1.6751879033521464,
          2.4271995934851334,
          0.7314655321998754,
          4.798073930972877,
          3.2734037875928816,
          -0.420810545748791,
          4.041988034766687,
          -0.2610191711800052,
          -0.785568038693593,
          -0.6743636346218241,
          2.1348305729814343,
          0.031330757354783134,
          -0.7655616105926932,
          1.100050588003516,
          0.01678500411650645,
          -0.3449030553762669,
          1.0958169213057682,
          -3.0558854506804574,
          2.3740613794092784,
          0.006214723410879339,
          -1.0018095720279205,
          -0.3768780564911742,
          -0.8935356703580687,
          2.0395789743942694,
          -0.4772090470268385,
          0.16780891060772996,
          -0.8921165341488774,
          -0.5156148144584215,
          -0.9539229746105738,
          -1.5531743339472162,
          -0.8179632684548512,
          -1.261694774152185,
          -0.7347257153506798,
          -0.8990723200283526,
          -1.3208247533351616,
          -0.6582728381016933,
          0.6939600079904601,
          -0.03845172467098449,
          5.790267572550928,
          1.5884322508538355,
          -1.1897807535745624,
          3.333413230249935,
          -0.9831701607293285,
          0.9358491741788003,
          -0.8985215994048139,
          -0.47870789649148315,
          -0.8136251826015005,
          0.7121486297082976,
          2.7586524645045807,
          2.32628460041784,
          -0.42032820071069354,
          -0.04554455549115023,
          -1.5323422672670355,
          0.13319240383664974,
          -0.5891452179682652,
          -0.9683610045490822,
          -1.1808830135093187,
          -0.9341495760120867,
          1.9537907111425667,
          0.5023899689057132,
          -0.6537578304802935,
          -0.6680717953239641,
          -0.10898172360352487,
          -1.518115160989766,
          -0.36512110185139973,
          0.33227327759485853,
          -0.20709895997148203,
          -0.9058999153870719,
          -0.05626932229527622,
          0.9094913218496941,
          -0.8734057628623226,
          -0.9439470744431664,
          -0.7479048503570888,
          -0.9849183194252106,
          -0.9639353439818046,
          1.8983911816015187,
          -1.0317920728882275,
          0.894354363938571,
          0.9292630369694191,
          -0.49313468156526413,
          -0.5742134625197994,
          -0.3142814485432733,
          -1.1139742352877764,
          -0.9295582691437669,
          -0.9602736702167748,
          -0.8582535980758451,
          -0.07676269446439962,
          0.7980967967250232,
          3.37642762816122,
          1.93663990989927,
          0.021338897939313217,
          -0.7006097526044405,
          -0.7619734287103894,
          -0.25044868540456117,
          0.09231430049038225,
          0.860397418767627,
          0.3445656508244577,
          -0.07336000072043174,
          3.434222903024006,
          -0.9175386038000666,
          -0.9433128035318898,
          2.5059011893581515,
          0.22424171785381866,
          -0.5425325966401954,
          -0.4473034808417603,
          -1.163694415261321,
          -0.5824790850752176,
          -0.9895485695689421,
          -0.1843641649666001,
          0.017420626317796783,
          -1.5201701438560131,
          -2.269403855816295,
          -1.4185027182185148,
          -1.340534610666656,
          -0.677879067539127,
          -1.4783110784036182,
          -1.0646151228907375,
          -0.8740610125531555,
          -0.7705832114920876,
          2.0703890461793413,
          -0.2752141238893779,
          -0.9961566086351614,
          -0.303118813506932,
          0.3353351912455449,
          0.9350638560998437,
          -1.1379606060120426,
          2.6431823042276728,
          7.56388429058028,
          0.6284365098648279,
          -0.46488839444010976,
          0.3792059816161637,
          0.8553220348823566,
          -1.1368860500336293,
          1.1426796597241382,
          -0.25942579177721165,
          -0.42215343453446774,
          -0.6920506463406982,
          -0.383671500357021,
          -0.5521451305366982,
          -0.7741318407534874,
          0.004419587195107761,
          -0.8496560008370568,
          -1.2850652320345597,
          -0.911266057414859,
          3.0644360020730996,
          3.046107180075644,
          -0.6251265405456954,
          -0.746174834057509,
          2.311598782724077,
          1.303400709452994,
          -1.0997237105369948,
          -0.2990945383518575,
          -0.5141972381643747,
          1.4444094627821256,
          2.2607131800424156,
          -0.8749894468647624
         ],
         "yaxis": "y"
        }
       ],
       "layout": {
        "annotations": [
         {
          "ax": 0,
          "ay": 0,
          "text": "terminaux",
          "x": 0.9358328619795819,
          "xanchor": "center",
          "y": -0.18112892523928292,
          "yanchor": "bottom"
         },
         {
          "ax": 0,
          "ay": 0,
          "text": "tablette",
          "x": 0.29722457441529815,
          "xanchor": "center",
          "y": 0.38255803456909165,
          "yanchor": "bottom"
         },
         {
          "ax": 0,
          "ay": 0,
          "text": "tablettepc",
          "x": 0.5698351149222439,
          "xanchor": "center",
          "y": 0.013337911139770883,
          "yanchor": "bottom"
         },
         {
          "ax": 0,
          "ay": 0,
          "text": "micromoins5",
          "x": 0.9434158443668482,
          "xanchor": "center",
          "y": -0.1485656139760858,
          "yanchor": "bottom"
         },
         {
          "ax": 0,
          "ay": 0,
          "text": "microportable",
          "x": 0.9358720243652983,
          "xanchor": "center",
          "y": -0.025242403532577257,
          "yanchor": "bottom"
         },
         {
          "ax": 0,
          "ay": 0,
          "text": "portaffel",
          "x": 0.9156846169762055,
          "xanchor": "center",
          "y": -0.06868402670911529,
          "yanchor": "bottom"
         },
         {
          "ax": 0,
          "ay": 0,
          "text": "portaffens",
          "x": 0.35383748969661843,
          "xanchor": "center",
          "y": 0.6262205176124951,
          "yanchor": "bottom"
         },
         {
          "ax": 0,
          "ay": 0,
          "text": "eleveeqash",
          "x": 0.14243741254792885,
          "xanchor": "center",
          "y": 0.8480857265324222,
          "yanchor": "bottom"
         },
         {
          "ax": 0,
          "ay": 0,
          "text": "posteeqash",
          "x": 0.05881766440211874,
          "xanchor": "center",
          "y": 0.8693565560523913,
          "yanchor": "bottom"
         },
         {
          "ax": 0,
          "ay": 0,
          "text": "tbi",
          "x": 0.2908076078269712,
          "xanchor": "center",
          "y": -0.07822844984953876,
          "yanchor": "bottom"
         },
         {
          "ax": 0,
          "ay": 0,
          "text": "videoproj",
          "x": 0.503542836423373,
          "xanchor": "center",
          "y": -0.26736704223815966,
          "yanchor": "bottom"
         },
         {
          "ax": 0,
          "ay": 0,
          "text": "classmobile",
          "x": 0.11799931502287472,
          "xanchor": "center",
          "y": 0.19909174844696426,
          "yanchor": "bottom"
         },
         {
          "ax": 0,
          "ay": 0,
          "text": "lecteurmpx",
          "x": 0.011282301283729024,
          "xanchor": "center",
          "y": -0.0011747792435799417,
          "yanchor": "bottom"
         },
         {
          "ax": 0,
          "ay": 0,
          "text": "impr3d",
          "x": 0.1721270625246138,
          "xanchor": "center",
          "y": 0.0886778528641152,
          "yanchor": "bottom"
         }
        ],
        "legend": {
         "tracegroupgap": 0
        },
        "shapes": [
         {
          "type": "line",
          "x0": 0,
          "x1": 0.9358328619795819,
          "y0": 0,
          "y1": -0.18112892523928292
         },
         {
          "type": "line",
          "x0": 0,
          "x1": 0.29722457441529815,
          "y0": 0,
          "y1": 0.38255803456909165
         },
         {
          "type": "line",
          "x0": 0,
          "x1": 0.5698351149222439,
          "y0": 0,
          "y1": 0.013337911139770883
         },
         {
          "type": "line",
          "x0": 0,
          "x1": 0.9434158443668482,
          "y0": 0,
          "y1": -0.1485656139760858
         },
         {
          "type": "line",
          "x0": 0,
          "x1": 0.9358720243652983,
          "y0": 0,
          "y1": -0.025242403532577257
         },
         {
          "type": "line",
          "x0": 0,
          "x1": 0.9156846169762055,
          "y0": 0,
          "y1": -0.06868402670911529
         },
         {
          "type": "line",
          "x0": 0,
          "x1": 0.35383748969661843,
          "y0": 0,
          "y1": 0.6262205176124951
         },
         {
          "type": "line",
          "x0": 0,
          "x1": 0.14243741254792885,
          "y0": 0,
          "y1": 0.8480857265324222
         },
         {
          "type": "line",
          "x0": 0,
          "x1": 0.05881766440211874,
          "y0": 0,
          "y1": 0.8693565560523913
         },
         {
          "type": "line",
          "x0": 0,
          "x1": 0.2908076078269712,
          "y0": 0,
          "y1": -0.07822844984953876
         },
         {
          "type": "line",
          "x0": 0,
          "x1": 0.503542836423373,
          "y0": 0,
          "y1": -0.26736704223815966
         },
         {
          "type": "line",
          "x0": 0,
          "x1": 0.11799931502287472,
          "y0": 0,
          "y1": 0.19909174844696426
         },
         {
          "type": "line",
          "x0": 0,
          "x1": 0.011282301283729024,
          "y0": 0,
          "y1": -0.0011747792435799417
         },
         {
          "type": "line",
          "x0": 0,
          "x1": 0.1721270625246138,
          "y0": 0,
          "y1": 0.0886778528641152
         }
        ],
        "template": {
         "data": {
          "bar": [
           {
            "error_x": {
             "color": "#2a3f5f"
            },
            "error_y": {
             "color": "#2a3f5f"
            },
            "marker": {
             "line": {
              "color": "#E5ECF6",
              "width": 0.5
             },
             "pattern": {
              "fillmode": "overlay",
              "size": 10,
              "solidity": 0.2
             }
            },
            "type": "bar"
           }
          ],
          "barpolar": [
           {
            "marker": {
             "line": {
              "color": "#E5ECF6",
              "width": 0.5
             },
             "pattern": {
              "fillmode": "overlay",
              "size": 10,
              "solidity": 0.2
             }
            },
            "type": "barpolar"
           }
          ],
          "carpet": [
           {
            "aaxis": {
             "endlinecolor": "#2a3f5f",
             "gridcolor": "white",
             "linecolor": "white",
             "minorgridcolor": "white",
             "startlinecolor": "#2a3f5f"
            },
            "baxis": {
             "endlinecolor": "#2a3f5f",
             "gridcolor": "white",
             "linecolor": "white",
             "minorgridcolor": "white",
             "startlinecolor": "#2a3f5f"
            },
            "type": "carpet"
           }
          ],
          "choropleth": [
           {
            "colorbar": {
             "outlinewidth": 0,
             "ticks": ""
            },
            "type": "choropleth"
           }
          ],
          "contour": [
           {
            "colorbar": {
             "outlinewidth": 0,
             "ticks": ""
            },
            "colorscale": [
             [
              0,
              "#0d0887"
             ],
             [
              0.1111111111111111,
              "#46039f"
             ],
             [
              0.2222222222222222,
              "#7201a8"
             ],
             [
              0.3333333333333333,
              "#9c179e"
             ],
             [
              0.4444444444444444,
              "#bd3786"
             ],
             [
              0.5555555555555556,
              "#d8576b"
             ],
             [
              0.6666666666666666,
              "#ed7953"
             ],
             [
              0.7777777777777778,
              "#fb9f3a"
             ],
             [
              0.8888888888888888,
              "#fdca26"
             ],
             [
              1,
              "#f0f921"
             ]
            ],
            "type": "contour"
           }
          ],
          "contourcarpet": [
           {
            "colorbar": {
             "outlinewidth": 0,
             "ticks": ""
            },
            "type": "contourcarpet"
           }
          ],
          "heatmap": [
           {
            "colorbar": {
             "outlinewidth": 0,
             "ticks": ""
            },
            "colorscale": [
             [
              0,
              "#0d0887"
             ],
             [
              0.1111111111111111,
              "#46039f"
             ],
             [
              0.2222222222222222,
              "#7201a8"
             ],
             [
              0.3333333333333333,
              "#9c179e"
             ],
             [
              0.4444444444444444,
              "#bd3786"
             ],
             [
              0.5555555555555556,
              "#d8576b"
             ],
             [
              0.6666666666666666,
              "#ed7953"
             ],
             [
              0.7777777777777778,
              "#fb9f3a"
             ],
             [
              0.8888888888888888,
              "#fdca26"
             ],
             [
              1,
              "#f0f921"
             ]
            ],
            "type": "heatmap"
           }
          ],
          "heatmapgl": [
           {
            "colorbar": {
             "outlinewidth": 0,
             "ticks": ""
            },
            "colorscale": [
             [
              0,
              "#0d0887"
             ],
             [
              0.1111111111111111,
              "#46039f"
             ],
             [
              0.2222222222222222,
              "#7201a8"
             ],
             [
              0.3333333333333333,
              "#9c179e"
             ],
             [
              0.4444444444444444,
              "#bd3786"
             ],
             [
              0.5555555555555556,
              "#d8576b"
             ],
             [
              0.6666666666666666,
              "#ed7953"
             ],
             [
              0.7777777777777778,
              "#fb9f3a"
             ],
             [
              0.8888888888888888,
              "#fdca26"
             ],
             [
              1,
              "#f0f921"
             ]
            ],
            "type": "heatmapgl"
           }
          ],
          "histogram": [
           {
            "marker": {
             "pattern": {
              "fillmode": "overlay",
              "size": 10,
              "solidity": 0.2
             }
            },
            "type": "histogram"
           }
          ],
          "histogram2d": [
           {
            "colorbar": {
             "outlinewidth": 0,
             "ticks": ""
            },
            "colorscale": [
             [
              0,
              "#0d0887"
             ],
             [
              0.1111111111111111,
              "#46039f"
             ],
             [
              0.2222222222222222,
              "#7201a8"
             ],
             [
              0.3333333333333333,
              "#9c179e"
             ],
             [
              0.4444444444444444,
              "#bd3786"
             ],
             [
              0.5555555555555556,
              "#d8576b"
             ],
             [
              0.6666666666666666,
              "#ed7953"
             ],
             [
              0.7777777777777778,
              "#fb9f3a"
             ],
             [
              0.8888888888888888,
              "#fdca26"
             ],
             [
              1,
              "#f0f921"
             ]
            ],
            "type": "histogram2d"
           }
          ],
          "histogram2dcontour": [
           {
            "colorbar": {
             "outlinewidth": 0,
             "ticks": ""
            },
            "colorscale": [
             [
              0,
              "#0d0887"
             ],
             [
              0.1111111111111111,
              "#46039f"
             ],
             [
              0.2222222222222222,
              "#7201a8"
             ],
             [
              0.3333333333333333,
              "#9c179e"
             ],
             [
              0.4444444444444444,
              "#bd3786"
             ],
             [
              0.5555555555555556,
              "#d8576b"
             ],
             [
              0.6666666666666666,
              "#ed7953"
             ],
             [
              0.7777777777777778,
              "#fb9f3a"
             ],
             [
              0.8888888888888888,
              "#fdca26"
             ],
             [
              1,
              "#f0f921"
             ]
            ],
            "type": "histogram2dcontour"
           }
          ],
          "mesh3d": [
           {
            "colorbar": {
             "outlinewidth": 0,
             "ticks": ""
            },
            "type": "mesh3d"
           }
          ],
          "parcoords": [
           {
            "line": {
             "colorbar": {
              "outlinewidth": 0,
              "ticks": ""
             }
            },
            "type": "parcoords"
           }
          ],
          "pie": [
           {
            "automargin": true,
            "type": "pie"
           }
          ],
          "scatter": [
           {
            "fillpattern": {
             "fillmode": "overlay",
             "size": 10,
             "solidity": 0.2
            },
            "type": "scatter"
           }
          ],
          "scatter3d": [
           {
            "line": {
             "colorbar": {
              "outlinewidth": 0,
              "ticks": ""
             }
            },
            "marker": {
             "colorbar": {
              "outlinewidth": 0,
              "ticks": ""
             }
            },
            "type": "scatter3d"
           }
          ],
          "scattercarpet": [
           {
            "marker": {
             "colorbar": {
              "outlinewidth": 0,
              "ticks": ""
             }
            },
            "type": "scattercarpet"
           }
          ],
          "scattergeo": [
           {
            "marker": {
             "colorbar": {
              "outlinewidth": 0,
              "ticks": ""
             }
            },
            "type": "scattergeo"
           }
          ],
          "scattergl": [
           {
            "marker": {
             "colorbar": {
              "outlinewidth": 0,
              "ticks": ""
             }
            },
            "type": "scattergl"
           }
          ],
          "scattermapbox": [
           {
            "marker": {
             "colorbar": {
              "outlinewidth": 0,
              "ticks": ""
             }
            },
            "type": "scattermapbox"
           }
          ],
          "scatterpolar": [
           {
            "marker": {
             "colorbar": {
              "outlinewidth": 0,
              "ticks": ""
             }
            },
            "type": "scatterpolar"
           }
          ],
          "scatterpolargl": [
           {
            "marker": {
             "colorbar": {
              "outlinewidth": 0,
              "ticks": ""
             }
            },
            "type": "scatterpolargl"
           }
          ],
          "scatterternary": [
           {
            "marker": {
             "colorbar": {
              "outlinewidth": 0,
              "ticks": ""
             }
            },
            "type": "scatterternary"
           }
          ],
          "surface": [
           {
            "colorbar": {
             "outlinewidth": 0,
             "ticks": ""
            },
            "colorscale": [
             [
              0,
              "#0d0887"
             ],
             [
              0.1111111111111111,
              "#46039f"
             ],
             [
              0.2222222222222222,
              "#7201a8"
             ],
             [
              0.3333333333333333,
              "#9c179e"
             ],
             [
              0.4444444444444444,
              "#bd3786"
             ],
             [
              0.5555555555555556,
              "#d8576b"
             ],
             [
              0.6666666666666666,
              "#ed7953"
             ],
             [
              0.7777777777777778,
              "#fb9f3a"
             ],
             [
              0.8888888888888888,
              "#fdca26"
             ],
             [
              1,
              "#f0f921"
             ]
            ],
            "type": "surface"
           }
          ],
          "table": [
           {
            "cells": {
             "fill": {
              "color": "#EBF0F8"
             },
             "line": {
              "color": "white"
             }
            },
            "header": {
             "fill": {
              "color": "#C8D4E3"
             },
             "line": {
              "color": "white"
             }
            },
            "type": "table"
           }
          ]
         },
         "layout": {
          "annotationdefaults": {
           "arrowcolor": "#2a3f5f",
           "arrowhead": 0,
           "arrowwidth": 1
          },
          "autotypenumbers": "strict",
          "coloraxis": {
           "colorbar": {
            "outlinewidth": 0,
            "ticks": ""
           }
          },
          "colorscale": {
           "diverging": [
            [
             0,
             "#8e0152"
            ],
            [
             0.1,
             "#c51b7d"
            ],
            [
             0.2,
             "#de77ae"
            ],
            [
             0.3,
             "#f1b6da"
            ],
            [
             0.4,
             "#fde0ef"
            ],
            [
             0.5,
             "#f7f7f7"
            ],
            [
             0.6,
             "#e6f5d0"
            ],
            [
             0.7,
             "#b8e186"
            ],
            [
             0.8,
             "#7fbc41"
            ],
            [
             0.9,
             "#4d9221"
            ],
            [
             1,
             "#276419"
            ]
           ],
           "sequential": [
            [
             0,
             "#0d0887"
            ],
            [
             0.1111111111111111,
             "#46039f"
            ],
            [
             0.2222222222222222,
             "#7201a8"
            ],
            [
             0.3333333333333333,
             "#9c179e"
            ],
            [
             0.4444444444444444,
             "#bd3786"
            ],
            [
             0.5555555555555556,
             "#d8576b"
            ],
            [
             0.6666666666666666,
             "#ed7953"
            ],
            [
             0.7777777777777778,
             "#fb9f3a"
            ],
            [
             0.8888888888888888,
             "#fdca26"
            ],
            [
             1,
             "#f0f921"
            ]
           ],
           "sequentialminus": [
            [
             0,
             "#0d0887"
            ],
            [
             0.1111111111111111,
             "#46039f"
            ],
            [
             0.2222222222222222,
             "#7201a8"
            ],
            [
             0.3333333333333333,
             "#9c179e"
            ],
            [
             0.4444444444444444,
             "#bd3786"
            ],
            [
             0.5555555555555556,
             "#d8576b"
            ],
            [
             0.6666666666666666,
             "#ed7953"
            ],
            [
             0.7777777777777778,
             "#fb9f3a"
            ],
            [
             0.8888888888888888,
             "#fdca26"
            ],
            [
             1,
             "#f0f921"
            ]
           ]
          },
          "colorway": [
           "#636efa",
           "#EF553B",
           "#00cc96",
           "#ab63fa",
           "#FFA15A",
           "#19d3f3",
           "#FF6692",
           "#B6E880",
           "#FF97FF",
           "#FECB52"
          ],
          "font": {
           "color": "#2a3f5f"
          },
          "geo": {
           "bgcolor": "white",
           "lakecolor": "white",
           "landcolor": "#E5ECF6",
           "showlakes": true,
           "showland": true,
           "subunitcolor": "white"
          },
          "hoverlabel": {
           "align": "left"
          },
          "hovermode": "closest",
          "mapbox": {
           "style": "light"
          },
          "paper_bgcolor": "white",
          "plot_bgcolor": "#E5ECF6",
          "polar": {
           "angularaxis": {
            "gridcolor": "white",
            "linecolor": "white",
            "ticks": ""
           },
           "bgcolor": "#E5ECF6",
           "radialaxis": {
            "gridcolor": "white",
            "linecolor": "white",
            "ticks": ""
           }
          },
          "scene": {
           "xaxis": {
            "backgroundcolor": "#E5ECF6",
            "gridcolor": "white",
            "gridwidth": 2,
            "linecolor": "white",
            "showbackground": true,
            "ticks": "",
            "zerolinecolor": "white"
           },
           "yaxis": {
            "backgroundcolor": "#E5ECF6",
            "gridcolor": "white",
            "gridwidth": 2,
            "linecolor": "white",
            "showbackground": true,
            "ticks": "",
            "zerolinecolor": "white"
           },
           "zaxis": {
            "backgroundcolor": "#E5ECF6",
            "gridcolor": "white",
            "gridwidth": 2,
            "linecolor": "white",
            "showbackground": true,
            "ticks": "",
            "zerolinecolor": "white"
           }
          },
          "shapedefaults": {
           "line": {
            "color": "#2a3f5f"
           }
          },
          "ternary": {
           "aaxis": {
            "gridcolor": "white",
            "linecolor": "white",
            "ticks": ""
           },
           "baxis": {
            "gridcolor": "white",
            "linecolor": "white",
            "ticks": ""
           },
           "bgcolor": "#E5ECF6",
           "caxis": {
            "gridcolor": "white",
            "linecolor": "white",
            "ticks": ""
           }
          },
          "title": {
           "x": 0.05
          },
          "xaxis": {
           "automargin": true,
           "gridcolor": "white",
           "linecolor": "white",
           "ticks": "",
           "title": {
            "standoff": 15
           },
           "zerolinecolor": "white",
           "zerolinewidth": 2
          },
          "yaxis": {
           "automargin": true,
           "gridcolor": "white",
           "linecolor": "white",
           "ticks": "",
           "title": {
            "standoff": 15
           },
           "zerolinecolor": "white",
           "zerolinewidth": 2
          }
         }
        },
        "title": {
         "text": "ACP"
        },
        "xaxis": {
         "anchor": "y",
         "domain": [
          0,
          1
         ],
         "title": {
          "text": "PC 1 (31.5%)"
         }
        },
        "yaxis": {
         "anchor": "x",
         "domain": [
          0,
          1
         ],
         "title": {
          "text": "PC 2 (15.6%)"
         }
        }
       }
      }
     },
     "metadata": {},
     "output_type": "display_data"
    }
   ],
   "source": [
    "#Visualisation des variables\n",
    "loadings = pca.components_.T * np.sqrt(pca.explained_variance_)\n",
    "\n",
    "for i, column in enumerate(columns_names):\n",
    "    fig.add_shape(\n",
    "        type='line',\n",
    "        x0=0, y0=0,\n",
    "        x1=loadings[i, 0],\n",
    "        y1=loadings[i, 1]\n",
    "    )\n",
    "    fig.add_annotation(\n",
    "        x=loadings[i, 0],\n",
    "        y=loadings[i, 1],\n",
    "        ax=0, ay=0,\n",
    "        xanchor=\"center\",\n",
    "        yanchor=\"bottom\",\n",
    "        text=column\n",
    "    )\n",
    "\n",
    "fig.show()"
   ]
  },
  {
   "attachments": {},
   "cell_type": "markdown",
   "metadata": {},
   "source": [
    "Il est difficile d'interpréter cette ACP et la corrélation entre les différentes variables car nous en avons beaucoup. Grâce à la matrice de corrélation nous avons pu savoir si il existait une corrélation entre les différentes variables.\n",
    "\n",
    "Ce qu'on peut remarquer c'est que beaucoup d'individus se positionnent à l'opposé de de la croissance des différentes variables, ce qui veut dire que les établissements en général n'ont pas beaucoup de terminaux ou sont mal équipés.\n",
    "\n",
    "Grâce à ce graphique, nous pouvons comprendre que les établissements atypiques à droite sont des établissement très bien équipés en ce qui concerne des terminaux, ce sont des établissements qui ont mis en place des moyens physiques numériques.\n",
    "\n",
    "\n",
    "On peut supprimer les colonnes que l'on ne juge pas intéressantes ici pour pouvoir peut-être avoir une meilleure ACP et aussi une meilleure classification non supervisée."
   ]
  },
  {
   "cell_type": "code",
   "execution_count": 75,
   "metadata": {},
   "outputs": [
    {
     "data": {
      "text/plain": [
       "Index(['terminaux', 'tablette', 'tablettepc', 'micromoins5', 'microportable',\n",
       "       'portaffel', 'tbi', 'propclassesavectbi', 'videoproj'],\n",
       "      dtype='object')"
      ]
     },
     "execution_count": 75,
     "metadata": {},
     "output_type": "execute_result"
    }
   ],
   "source": [
    "df_termin = df_termin.drop(columns=['portaffens', 'eleveeqash', 'posteeqash', 'lecteurmpx',\n",
    "       'impr3d', 'classmobile'])\n",
    "\n",
    "df_termin.columns"
   ]
  },
  {
   "cell_type": "code",
   "execution_count": 76,
   "metadata": {},
   "outputs": [
    {
     "name": "stdout",
     "output_type": "stream",
     "text": [
      "Index(['terminaux', 'tablette', 'tablettepc', 'micromoins5', 'microportable',\n",
      "       'portaffel', 'tbi', 'propclassesavectbi', 'videoproj'],\n",
      "      dtype='object')\n"
     ]
    },
    {
     "data": {
      "application/vnd.plotly.v1+json": {
       "config": {
        "plotlyServerURL": "https://plot.ly"
       },
       "data": [
        {
         "hovertemplate": "PC 1 (53.5%)=%{x}<br>PC 2 (15.3%)=%{y}<extra></extra>",
         "legendgroup": "",
         "marker": {
          "color": "#636efa",
          "symbol": "circle"
         },
         "mode": "markers",
         "name": "",
         "orientation": "v",
         "showlegend": false,
         "type": "scatter",
         "x": [
          -0.8115114035974741,
          -0.9880248644771416,
          0.28675565341382664,
          -0.5020067681010377,
          -0.20880457505016084,
          -0.7052904860444495,
          -0.7496093897681705,
          -0.8949274873840928,
          0.9608831919743263,
          -1.0100429772355488,
          -0.8360659597939629,
          -0.8552604555881292,
          0.3462284125892463,
          -0.7581310263487793,
          -0.4294446823438595,
          -0.3501556377368028,
          -0.792478843477315,
          -0.8276713111548408,
          -0.7379094320254623,
          -0.61302885754025,
          -0.6791192777436015,
          1.1296670374525977,
          0.9531868399520567,
          -1.2695877123052937,
          -1.0822076445950553,
          -0.8063559523438676,
          -0.7932600857433652,
          0.3811529481983419,
          1.1426127938545467,
          -0.33514983595578474,
          -1.3241693417475637,
          -0.450039208352492,
          -0.9885325082471148,
          -0.22847540301844635,
          -0.6278653259728534,
          -0.8210695563249314,
          0.04147781921649068,
          -1.1318529901978147,
          -0.7404555112270046,
          -0.47968725500789255,
          1.5581658531978553,
          -0.15116098678225928,
          -1.0307773554696025,
          -0.8717814142925489,
          0.27346816524444195,
          -0.47902059959633275,
          -1.193069707007453,
          -0.7001527425915887,
          -0.398555342574794,
          -0.4894480862835071,
          0.18547684825030192,
          0.2490606704640578,
          -1.0404331664140083,
          -0.9437739871424267,
          0.07959261960001378,
          -0.48028489380985895,
          10.429909851157097,
          -0.8114774443315661,
          -0.9104717836963421,
          1.7770976224209107,
          0.07029441170176481,
          -0.8594269906036813,
          -0.8728141510341478,
          -0.7794568768860685,
          -0.04884263014225016,
          -0.30148803198564333,
          -0.48869999230390987,
          -0.8786877604133055,
          -0.9034721602246744,
          1.000360950993601,
          -0.5229744116813584,
          -1.255025801800567,
          0.526161221118821,
          -1.1660093796126145,
          -0.7395577111282754,
          0.006313310872291734,
          9.935986653931973,
          3.5521527647072917,
          -0.9598149413786093,
          -0.2570266938457559,
          -0.03614564598564345,
          -1.024102428626627,
          -0.6767131315947832,
          3.9101056488922907,
          -1.013419528898418,
          -0.5475787099542437,
          -1.415887595284348,
          1.1411943481847442,
          0.017082296736966023,
          -0.22188330818965651,
          -0.2000245118320276,
          -0.9038477525888166,
          -0.7383159989145348,
          4.659929699237925,
          16.469525412749288,
          -1.048308798681994,
          -0.5119231333968801,
          0.5227433586175202,
          -1.0950583917401953,
          -0.8207529124155335,
          -0.0053991213106442636,
          -0.796103258761324,
          -0.6770214928451967,
          -0.6685156291885506,
          -0.7676060084638776,
          -0.8798858926302223,
          0.9256472856902758,
          -0.46263606841780996,
          0.7534122082574896,
          -0.4996389056166616,
          -0.667253443305323,
          -0.004834238995175274,
          -0.4640797062135298,
          -0.7262722581522142,
          -0.8840427475503523,
          3.4847367571686454,
          -0.7549432255335804,
          15.645693226378473,
          -0.44352093803747616,
          -0.7998333328042164,
          -0.8640267726782067,
          -0.4713582083093664,
          -0.9872162547919205,
          -1.191281697033083,
          -1.0473678939470366,
          1.9017516487311854,
          2.744066168979251,
          -0.005359492980896718,
          -1.1460111241485182,
          0.7871128182167306,
          -0.3705996521345502,
          -1.095554213840646,
          0.19052430195899836,
          1.5822238223401983,
          -0.5354388622795716,
          1.1084583927674678,
          -1.0727161862873407,
          -1.0683750306825868,
          -1.2178551620092228,
          -1.185455259831731,
          1.5740402700463465,
          -0.772704101460388,
          -0.37139747032269155,
          -0.6276357959659876,
          -0.9694001546368376,
          -0.8219508818868887,
          -0.6595924987356157,
          -0.766505327322038,
          0.19681694942532854,
          -1.1763302760861256,
          -0.6146883960800784,
          -0.5757279719778087,
          2.474886461282879,
          -0.6360527562665441,
          -0.41416972108754546,
          0.9353939678759257,
          -0.5940533144791198,
          -0.3530968551880915,
          -0.5387948603363654,
          0.021175960099139073,
          -0.639290986061555,
          1.3574989969468299,
          -0.9754225960005102,
          -0.7722065143431152,
          -0.6091214942985953,
          -0.581177452972727,
          -0.9421033878236805,
          -0.7909643560455636,
          -1.2780940678135282,
          -1.167363757013325,
          -0.32949256951332484,
          -1.0563803214268892,
          -0.39873349312187695,
          -0.7425444553502271,
          -0.9611363760835638,
          -0.4415231052369281,
          -0.8722226527732492,
          0.8420733370765173,
          0.7287650913772171,
          -0.3222470131127135,
          -0.9404242951790972,
          0.3705455871917363,
          0.5637724829337556,
          -0.7096982854303376,
          2.5893813875775678,
          -0.7632966551506415,
          0.4777314813347948,
          0.4747464760999548,
          2.6166725609104384,
          0.06960097983439929,
          -0.12460394345350098,
          -0.9845412658043732,
          1.7629128470672364,
          0.6556773932379286,
          -0.5269304604341664,
          -0.6845048626653589,
          -0.44493967802090045,
          -0.8714111525487105,
          -0.8080837736979717,
          -1.1766486560903524,
          -1.08077998871073,
          0.42865678224558185,
          -0.31862368247899914,
          -0.959027858669513,
          -0.6718851321711525,
          -0.8030117710896975,
          -0.6225079208987682,
          1.2760788912206924,
          -0.8453371483062566,
          -0.058357899963461086,
          -0.7227119625792423,
          1.4498123586177922,
          -1.2284142428930276,
          -1.1231676158984354,
          -1.2388456846610125,
          0.34232641064259695,
          -0.7930191761616956,
          -0.2951699282183847,
          0.9531797090296777,
          1.1954977061346608,
          -0.524771705770248,
          2.713235433769902,
          4.325069221255595,
          -0.4767462732823857,
          -1.0491023729838398,
          -0.7870037471441462,
          -0.2825711412715635,
          -0.6380162380766609,
          -0.9097792756754436,
          -0.9121070955055527,
          3.2865021440572892,
          -0.9118371751289035,
          -0.9762001393048142
         ],
         "xaxis": "x",
         "y": [
          0.04285547646821299,
          0.38796257215831575,
          -0.7805112509171903,
          1.0675223625054189,
          1.0848692963157445,
          0.3531390181364352,
          0.20943137365615058,
          0.15182288983557085,
          -2.2746558303506643,
          0.44825374919321626,
          0.21024847353700907,
          -0.1271903857058799,
          -0.5147547728960677,
          0.21164401628401605,
          -0.372515238793423,
          -0.5045865657800449,
          -0.029806287205619175,
          0.17363647584858846,
          0.07969459410035865,
          -0.2196183055508642,
          0.22332355043486257,
          -1.4625191235032013,
          -0.9489822536339885,
          0.7825269752924671,
          0.456341829267726,
          0.16846254140032876,
          0.2659597440597967,
          -0.9298665843094175,
          -2.221527746258364,
          -0.9582163357596523,
          0.8293193550143373,
          -0.7363177027527826,
          1.290899149817753,
          -0.12125644524237641,
          0.0482462851104143,
          0.24855162858948418,
          -1.2387762001314198,
          0.5208346502104154,
          -0.12961173679658033,
          -0.3781219180331382,
          1.6792734155485183,
          0.1500567355752542,
          0.6008722887432888,
          0.611759905478382,
          -0.6142258225299827,
          -0.4566591281120675,
          0.49210918096100775,
          -0.007904996588525677,
          -0.044599288280603305,
          -0.05090432119327507,
          1.0567291570167354,
          1.3199144674952097,
          0.46519294798759075,
          0.2668063405721609,
          -1.193523404230054,
          -0.20540458932753775,
          -0.44639539194026023,
          0.25064141394010575,
          0.6642200321346141,
          -2.4593877664302,
          -0.12784614619658552,
          0.266324679745813,
          0.18640709856942136,
          -0.23584829506047061,
          -0.5289783688159122,
          -0.6816541544451743,
          -0.36631842899822514,
          0.13597432590694458,
          0.41898942470944833,
          -1.8512120542378971,
          -0.07896909026520267,
          0.7349108858569469,
          -2.146595354635554,
          0.8872949845320137,
          0.0734720488301006,
          -0.9607392424089042,
          -1.0161738646147775,
          -0.5296453427517017,
          0.38789356320626855,
          -0.1094063912316236,
          -0.5338844666790177,
          0.5033941841060611,
          0.004741873083861197,
          4.602535393622813,
          1.0922557239270725,
          0.23428963860717067,
          1.003324862800341,
          1.4777251841033332,
          -0.8657959734499456,
          -0.396713703689399,
          -0.267001014254015,
          0.2852963544396138,
          0.5955890669887859,
          -1.8308818415449741,
          4.062327084919932,
          0.4432710354765221,
          -0.14747530052308228,
          -0.755997532293123,
          0.46913556693197644,
          0.31049793493156486,
          -0.602248841263351,
          0.055192588901522205,
          -0.04250041623400232,
          -0.3359117139190458,
          0.23137607619183465,
          0.1679047042689328,
          -1.4070602803774845,
          -0.3043910006410496,
          -1.0728679889375217,
          -0.15049581538310358,
          0.15506481526647356,
          -0.7256674369203113,
          -0.4217917432957411,
          0.3789103724183159,
          0.2846586512148077,
          3.419696517028049,
          0.059405786874703735,
          -0.7683013508780658,
          -0.2814249280011594,
          0.14849148513627364,
          0.6393151550460526,
          -0.15703054307903128,
          1.2578226009530395,
          0.574913414058777,
          0.35616424210842246,
          1.3103711048258342,
          1.6180503395044548,
          0.6752024242919229,
          0.3982100341983777,
          -1.3136008477473706,
          0.017058247229294346,
          0.39747209557875934,
          -1.029543748659474,
          -2.687854540348979,
          0.06113579742620833,
          2.8531551010184883,
          0.49319148444342337,
          0.6592860661150671,
          1.0154521032913668,
          1.065859113063673,
          -1.5973778714649405,
          0.043252180623233584,
          0.03830769008236854,
          0.7076003847890509,
          0.30961795228619216,
          0.227067308060027,
          0.28213400274564404,
          0.2325462384862249,
          -1.2219129378139446,
          0.7342116033036145,
          -0.3588177775865451,
          -0.2339324967303258,
          3.325914668107442,
          -0.25637093185250315,
          -0.15964974221636885,
          2.7430726803009815,
          -0.4293651873233471,
          -0.6910336104935297,
          0.43728724158359805,
          -0.6350628820633674,
          -0.2762564359728911,
          -1.778381462535606,
          0.408922144567358,
          0.3013704165468586,
          0.10207810582644397,
          0.20901353841252762,
          0.4396201904682766,
          0.8068617255647759,
          0.7255204178106761,
          0.615161570231766,
          -0.8812936391673549,
          0.3187001969327842,
          0.013229718608358096,
          0.5201372992978656,
          0.42113444218332574,
          -0.029531424898682383,
          0.26882293281245545,
          -0.8793155062799939,
          -1.6018419206304162,
          0.3041094985627939,
          0.3906209819184729,
          -1.3468979585093592,
          -1.6175353504403307,
          0.03347836689830965,
          -3.9003864853742534,
          0.21356887426129842,
          -1.0462964236339931,
          -1.613605737503535,
          -3.8971750607397366,
          -1.1580902231089316,
          -1.1791521594037453,
          0.35660574116464666,
          -1.936687663560522,
          -0.6506064943368334,
          0.20396728056009297,
          0.0428902560259618,
          -0.15940256333299785,
          0.4244423056575029,
          0.13741519614131464,
          0.9336970078818332,
          0.5202056208114534,
          1.9596355440984454,
          -0.6438937782060916,
          0.4036635017026074,
          0.25709755621748354,
          0.33452360809293713,
          -0.15165364934378617,
          -2.8346865171656264,
          0.4172759860078922,
          -0.9691338583950266,
          0.2458092880378191,
          -2.30679407350864,
          0.6732125290257138,
          0.6643448548328961,
          0.6910950739820776,
          -0.20769008448530998,
          -0.03587392299731567,
          -0.5029380713409891,
          -2.2527614443955843,
          -2.602506764351356,
          0.15074769031920884,
          2.2392534673703626,
          0.9007474871523594,
          -0.2222794830738946,
          0.5367356054973845,
          0.3268697182950632,
          0.49606158287805496,
          -0.18778967112032963,
          0.5366744583496058,
          0.20506713655643097,
          3.8349605606464325,
          0.29382918368336586,
          0.3713246786912158
         ],
         "yaxis": "y"
        }
       ],
       "layout": {
        "annotations": [
         {
          "ax": 0,
          "ay": 0,
          "text": "terminaux",
          "x": 0.9452676417306586,
          "xanchor": "center",
          "y": -0.2313852933904555,
          "yanchor": "bottom"
         },
         {
          "ax": 0,
          "ay": 0,
          "text": "tablette",
          "x": 0.23926092533496376,
          "xanchor": "center",
          "y": 0.5956171844590809,
          "yanchor": "bottom"
         },
         {
          "ax": 0,
          "ay": 0,
          "text": "tablettepc",
          "x": 0.5769613712655438,
          "xanchor": "center",
          "y": 0.3866293323980043,
          "yanchor": "bottom"
         },
         {
          "ax": 0,
          "ay": 0,
          "text": "micromoins5",
          "x": 0.9570771912663516,
          "xanchor": "center",
          "y": -0.08011360887150196,
          "yanchor": "bottom"
         },
         {
          "ax": 0,
          "ay": 0,
          "text": "microportable",
          "x": 0.9416695508836185,
          "xanchor": "center",
          "y": 0.22454066572971154,
          "yanchor": "bottom"
         },
         {
          "ax": 0,
          "ay": 0,
          "text": "portaffel",
          "x": 0.9296479759767567,
          "xanchor": "center",
          "y": 0.1789696619523255,
          "yanchor": "bottom"
         },
         {
          "ax": 0,
          "ay": 0,
          "text": "tbi",
          "x": 0.2821233669856085,
          "xanchor": "center",
          "y": -0.39014044190120195,
          "yanchor": "bottom"
         },
         {
          "ax": 0,
          "ay": 0,
          "text": "videoproj",
          "x": 0.5142587647489909,
          "xanchor": "center",
          "y": -0.6571328484059479,
          "yanchor": "bottom"
         }
        ],
        "legend": {
         "tracegroupgap": 0
        },
        "shapes": [
         {
          "type": "line",
          "x0": 0,
          "x1": 0.9452676417306586,
          "y0": 0,
          "y1": -0.2313852933904555
         },
         {
          "type": "line",
          "x0": 0,
          "x1": 0.23926092533496376,
          "y0": 0,
          "y1": 0.5956171844590809
         },
         {
          "type": "line",
          "x0": 0,
          "x1": 0.5769613712655438,
          "y0": 0,
          "y1": 0.3866293323980043
         },
         {
          "type": "line",
          "x0": 0,
          "x1": 0.9570771912663516,
          "y0": 0,
          "y1": -0.08011360887150196
         },
         {
          "type": "line",
          "x0": 0,
          "x1": 0.9416695508836185,
          "y0": 0,
          "y1": 0.22454066572971154
         },
         {
          "type": "line",
          "x0": 0,
          "x1": 0.9296479759767567,
          "y0": 0,
          "y1": 0.1789696619523255
         },
         {
          "type": "line",
          "x0": 0,
          "x1": 0.2821233669856085,
          "y0": 0,
          "y1": -0.39014044190120195
         },
         {
          "type": "line",
          "x0": 0,
          "x1": 0.5142587647489909,
          "y0": 0,
          "y1": -0.6571328484059479
         }
        ],
        "template": {
         "data": {
          "bar": [
           {
            "error_x": {
             "color": "#2a3f5f"
            },
            "error_y": {
             "color": "#2a3f5f"
            },
            "marker": {
             "line": {
              "color": "#E5ECF6",
              "width": 0.5
             },
             "pattern": {
              "fillmode": "overlay",
              "size": 10,
              "solidity": 0.2
             }
            },
            "type": "bar"
           }
          ],
          "barpolar": [
           {
            "marker": {
             "line": {
              "color": "#E5ECF6",
              "width": 0.5
             },
             "pattern": {
              "fillmode": "overlay",
              "size": 10,
              "solidity": 0.2
             }
            },
            "type": "barpolar"
           }
          ],
          "carpet": [
           {
            "aaxis": {
             "endlinecolor": "#2a3f5f",
             "gridcolor": "white",
             "linecolor": "white",
             "minorgridcolor": "white",
             "startlinecolor": "#2a3f5f"
            },
            "baxis": {
             "endlinecolor": "#2a3f5f",
             "gridcolor": "white",
             "linecolor": "white",
             "minorgridcolor": "white",
             "startlinecolor": "#2a3f5f"
            },
            "type": "carpet"
           }
          ],
          "choropleth": [
           {
            "colorbar": {
             "outlinewidth": 0,
             "ticks": ""
            },
            "type": "choropleth"
           }
          ],
          "contour": [
           {
            "colorbar": {
             "outlinewidth": 0,
             "ticks": ""
            },
            "colorscale": [
             [
              0,
              "#0d0887"
             ],
             [
              0.1111111111111111,
              "#46039f"
             ],
             [
              0.2222222222222222,
              "#7201a8"
             ],
             [
              0.3333333333333333,
              "#9c179e"
             ],
             [
              0.4444444444444444,
              "#bd3786"
             ],
             [
              0.5555555555555556,
              "#d8576b"
             ],
             [
              0.6666666666666666,
              "#ed7953"
             ],
             [
              0.7777777777777778,
              "#fb9f3a"
             ],
             [
              0.8888888888888888,
              "#fdca26"
             ],
             [
              1,
              "#f0f921"
             ]
            ],
            "type": "contour"
           }
          ],
          "contourcarpet": [
           {
            "colorbar": {
             "outlinewidth": 0,
             "ticks": ""
            },
            "type": "contourcarpet"
           }
          ],
          "heatmap": [
           {
            "colorbar": {
             "outlinewidth": 0,
             "ticks": ""
            },
            "colorscale": [
             [
              0,
              "#0d0887"
             ],
             [
              0.1111111111111111,
              "#46039f"
             ],
             [
              0.2222222222222222,
              "#7201a8"
             ],
             [
              0.3333333333333333,
              "#9c179e"
             ],
             [
              0.4444444444444444,
              "#bd3786"
             ],
             [
              0.5555555555555556,
              "#d8576b"
             ],
             [
              0.6666666666666666,
              "#ed7953"
             ],
             [
              0.7777777777777778,
              "#fb9f3a"
             ],
             [
              0.8888888888888888,
              "#fdca26"
             ],
             [
              1,
              "#f0f921"
             ]
            ],
            "type": "heatmap"
           }
          ],
          "heatmapgl": [
           {
            "colorbar": {
             "outlinewidth": 0,
             "ticks": ""
            },
            "colorscale": [
             [
              0,
              "#0d0887"
             ],
             [
              0.1111111111111111,
              "#46039f"
             ],
             [
              0.2222222222222222,
              "#7201a8"
             ],
             [
              0.3333333333333333,
              "#9c179e"
             ],
             [
              0.4444444444444444,
              "#bd3786"
             ],
             [
              0.5555555555555556,
              "#d8576b"
             ],
             [
              0.6666666666666666,
              "#ed7953"
             ],
             [
              0.7777777777777778,
              "#fb9f3a"
             ],
             [
              0.8888888888888888,
              "#fdca26"
             ],
             [
              1,
              "#f0f921"
             ]
            ],
            "type": "heatmapgl"
           }
          ],
          "histogram": [
           {
            "marker": {
             "pattern": {
              "fillmode": "overlay",
              "size": 10,
              "solidity": 0.2
             }
            },
            "type": "histogram"
           }
          ],
          "histogram2d": [
           {
            "colorbar": {
             "outlinewidth": 0,
             "ticks": ""
            },
            "colorscale": [
             [
              0,
              "#0d0887"
             ],
             [
              0.1111111111111111,
              "#46039f"
             ],
             [
              0.2222222222222222,
              "#7201a8"
             ],
             [
              0.3333333333333333,
              "#9c179e"
             ],
             [
              0.4444444444444444,
              "#bd3786"
             ],
             [
              0.5555555555555556,
              "#d8576b"
             ],
             [
              0.6666666666666666,
              "#ed7953"
             ],
             [
              0.7777777777777778,
              "#fb9f3a"
             ],
             [
              0.8888888888888888,
              "#fdca26"
             ],
             [
              1,
              "#f0f921"
             ]
            ],
            "type": "histogram2d"
           }
          ],
          "histogram2dcontour": [
           {
            "colorbar": {
             "outlinewidth": 0,
             "ticks": ""
            },
            "colorscale": [
             [
              0,
              "#0d0887"
             ],
             [
              0.1111111111111111,
              "#46039f"
             ],
             [
              0.2222222222222222,
              "#7201a8"
             ],
             [
              0.3333333333333333,
              "#9c179e"
             ],
             [
              0.4444444444444444,
              "#bd3786"
             ],
             [
              0.5555555555555556,
              "#d8576b"
             ],
             [
              0.6666666666666666,
              "#ed7953"
             ],
             [
              0.7777777777777778,
              "#fb9f3a"
             ],
             [
              0.8888888888888888,
              "#fdca26"
             ],
             [
              1,
              "#f0f921"
             ]
            ],
            "type": "histogram2dcontour"
           }
          ],
          "mesh3d": [
           {
            "colorbar": {
             "outlinewidth": 0,
             "ticks": ""
            },
            "type": "mesh3d"
           }
          ],
          "parcoords": [
           {
            "line": {
             "colorbar": {
              "outlinewidth": 0,
              "ticks": ""
             }
            },
            "type": "parcoords"
           }
          ],
          "pie": [
           {
            "automargin": true,
            "type": "pie"
           }
          ],
          "scatter": [
           {
            "fillpattern": {
             "fillmode": "overlay",
             "size": 10,
             "solidity": 0.2
            },
            "type": "scatter"
           }
          ],
          "scatter3d": [
           {
            "line": {
             "colorbar": {
              "outlinewidth": 0,
              "ticks": ""
             }
            },
            "marker": {
             "colorbar": {
              "outlinewidth": 0,
              "ticks": ""
             }
            },
            "type": "scatter3d"
           }
          ],
          "scattercarpet": [
           {
            "marker": {
             "colorbar": {
              "outlinewidth": 0,
              "ticks": ""
             }
            },
            "type": "scattercarpet"
           }
          ],
          "scattergeo": [
           {
            "marker": {
             "colorbar": {
              "outlinewidth": 0,
              "ticks": ""
             }
            },
            "type": "scattergeo"
           }
          ],
          "scattergl": [
           {
            "marker": {
             "colorbar": {
              "outlinewidth": 0,
              "ticks": ""
             }
            },
            "type": "scattergl"
           }
          ],
          "scattermapbox": [
           {
            "marker": {
             "colorbar": {
              "outlinewidth": 0,
              "ticks": ""
             }
            },
            "type": "scattermapbox"
           }
          ],
          "scatterpolar": [
           {
            "marker": {
             "colorbar": {
              "outlinewidth": 0,
              "ticks": ""
             }
            },
            "type": "scatterpolar"
           }
          ],
          "scatterpolargl": [
           {
            "marker": {
             "colorbar": {
              "outlinewidth": 0,
              "ticks": ""
             }
            },
            "type": "scatterpolargl"
           }
          ],
          "scatterternary": [
           {
            "marker": {
             "colorbar": {
              "outlinewidth": 0,
              "ticks": ""
             }
            },
            "type": "scatterternary"
           }
          ],
          "surface": [
           {
            "colorbar": {
             "outlinewidth": 0,
             "ticks": ""
            },
            "colorscale": [
             [
              0,
              "#0d0887"
             ],
             [
              0.1111111111111111,
              "#46039f"
             ],
             [
              0.2222222222222222,
              "#7201a8"
             ],
             [
              0.3333333333333333,
              "#9c179e"
             ],
             [
              0.4444444444444444,
              "#bd3786"
             ],
             [
              0.5555555555555556,
              "#d8576b"
             ],
             [
              0.6666666666666666,
              "#ed7953"
             ],
             [
              0.7777777777777778,
              "#fb9f3a"
             ],
             [
              0.8888888888888888,
              "#fdca26"
             ],
             [
              1,
              "#f0f921"
             ]
            ],
            "type": "surface"
           }
          ],
          "table": [
           {
            "cells": {
             "fill": {
              "color": "#EBF0F8"
             },
             "line": {
              "color": "white"
             }
            },
            "header": {
             "fill": {
              "color": "#C8D4E3"
             },
             "line": {
              "color": "white"
             }
            },
            "type": "table"
           }
          ]
         },
         "layout": {
          "annotationdefaults": {
           "arrowcolor": "#2a3f5f",
           "arrowhead": 0,
           "arrowwidth": 1
          },
          "autotypenumbers": "strict",
          "coloraxis": {
           "colorbar": {
            "outlinewidth": 0,
            "ticks": ""
           }
          },
          "colorscale": {
           "diverging": [
            [
             0,
             "#8e0152"
            ],
            [
             0.1,
             "#c51b7d"
            ],
            [
             0.2,
             "#de77ae"
            ],
            [
             0.3,
             "#f1b6da"
            ],
            [
             0.4,
             "#fde0ef"
            ],
            [
             0.5,
             "#f7f7f7"
            ],
            [
             0.6,
             "#e6f5d0"
            ],
            [
             0.7,
             "#b8e186"
            ],
            [
             0.8,
             "#7fbc41"
            ],
            [
             0.9,
             "#4d9221"
            ],
            [
             1,
             "#276419"
            ]
           ],
           "sequential": [
            [
             0,
             "#0d0887"
            ],
            [
             0.1111111111111111,
             "#46039f"
            ],
            [
             0.2222222222222222,
             "#7201a8"
            ],
            [
             0.3333333333333333,
             "#9c179e"
            ],
            [
             0.4444444444444444,
             "#bd3786"
            ],
            [
             0.5555555555555556,
             "#d8576b"
            ],
            [
             0.6666666666666666,
             "#ed7953"
            ],
            [
             0.7777777777777778,
             "#fb9f3a"
            ],
            [
             0.8888888888888888,
             "#fdca26"
            ],
            [
             1,
             "#f0f921"
            ]
           ],
           "sequentialminus": [
            [
             0,
             "#0d0887"
            ],
            [
             0.1111111111111111,
             "#46039f"
            ],
            [
             0.2222222222222222,
             "#7201a8"
            ],
            [
             0.3333333333333333,
             "#9c179e"
            ],
            [
             0.4444444444444444,
             "#bd3786"
            ],
            [
             0.5555555555555556,
             "#d8576b"
            ],
            [
             0.6666666666666666,
             "#ed7953"
            ],
            [
             0.7777777777777778,
             "#fb9f3a"
            ],
            [
             0.8888888888888888,
             "#fdca26"
            ],
            [
             1,
             "#f0f921"
            ]
           ]
          },
          "colorway": [
           "#636efa",
           "#EF553B",
           "#00cc96",
           "#ab63fa",
           "#FFA15A",
           "#19d3f3",
           "#FF6692",
           "#B6E880",
           "#FF97FF",
           "#FECB52"
          ],
          "font": {
           "color": "#2a3f5f"
          },
          "geo": {
           "bgcolor": "white",
           "lakecolor": "white",
           "landcolor": "#E5ECF6",
           "showlakes": true,
           "showland": true,
           "subunitcolor": "white"
          },
          "hoverlabel": {
           "align": "left"
          },
          "hovermode": "closest",
          "mapbox": {
           "style": "light"
          },
          "paper_bgcolor": "white",
          "plot_bgcolor": "#E5ECF6",
          "polar": {
           "angularaxis": {
            "gridcolor": "white",
            "linecolor": "white",
            "ticks": ""
           },
           "bgcolor": "#E5ECF6",
           "radialaxis": {
            "gridcolor": "white",
            "linecolor": "white",
            "ticks": ""
           }
          },
          "scene": {
           "xaxis": {
            "backgroundcolor": "#E5ECF6",
            "gridcolor": "white",
            "gridwidth": 2,
            "linecolor": "white",
            "showbackground": true,
            "ticks": "",
            "zerolinecolor": "white"
           },
           "yaxis": {
            "backgroundcolor": "#E5ECF6",
            "gridcolor": "white",
            "gridwidth": 2,
            "linecolor": "white",
            "showbackground": true,
            "ticks": "",
            "zerolinecolor": "white"
           },
           "zaxis": {
            "backgroundcolor": "#E5ECF6",
            "gridcolor": "white",
            "gridwidth": 2,
            "linecolor": "white",
            "showbackground": true,
            "ticks": "",
            "zerolinecolor": "white"
           }
          },
          "shapedefaults": {
           "line": {
            "color": "#2a3f5f"
           }
          },
          "ternary": {
           "aaxis": {
            "gridcolor": "white",
            "linecolor": "white",
            "ticks": ""
           },
           "baxis": {
            "gridcolor": "white",
            "linecolor": "white",
            "ticks": ""
           },
           "bgcolor": "#E5ECF6",
           "caxis": {
            "gridcolor": "white",
            "linecolor": "white",
            "ticks": ""
           }
          },
          "title": {
           "x": 0.05
          },
          "xaxis": {
           "automargin": true,
           "gridcolor": "white",
           "linecolor": "white",
           "ticks": "",
           "title": {
            "standoff": 15
           },
           "zerolinecolor": "white",
           "zerolinewidth": 2
          },
          "yaxis": {
           "automargin": true,
           "gridcolor": "white",
           "linecolor": "white",
           "ticks": "",
           "title": {
            "standoff": 15
           },
           "zerolinecolor": "white",
           "zerolinewidth": 2
          }
         }
        },
        "title": {
         "text": "ACP"
        },
        "xaxis": {
         "anchor": "y",
         "domain": [
          0,
          1
         ],
         "title": {
          "text": "PC 1 (53.5%)"
         }
        },
        "yaxis": {
         "anchor": "x",
         "domain": [
          0,
          1
         ],
         "title": {
          "text": "PC 2 (15.3%)"
         }
        }
       }
      }
     },
     "metadata": {},
     "output_type": "display_data"
    }
   ],
   "source": [
    "#On centre les données et on les réduit\n",
    "\n",
    "print(df_termin.columns)\n",
    "centralized = StandardScaler().fit_transform(df_termin.drop(columns=['propclassesavectbi']))\n",
    "\n",
    "#On applique l'ACP\n",
    "pca = PCA(n_components=2)\n",
    "components = pca.fit_transform(centralized)\n",
    "\n",
    "labels = {\n",
    "    str(i): f\"PC {i+1} ({var:.1f}%)\"\n",
    "    for i, var in enumerate(pca.explained_variance_ratio_ * 100)\n",
    "}\n",
    "\n",
    "\n",
    "fig = px.scatter(components, x=0, y=1, title='ACP', labels=labels)\n",
    "\n",
    "columns_names = df_termin.drop(columns=['propclassesavectbi']).columns\n",
    "\n",
    "loadings = pca.components_.T * np.sqrt(pca.explained_variance_)\n",
    "\n",
    "for i, column in enumerate(columns_names):\n",
    "    fig.add_shape(\n",
    "        type='line',\n",
    "        x0=0, y0=0,\n",
    "        x1=loadings[i, 0],\n",
    "        y1=loadings[i, 1]\n",
    "    )\n",
    "    fig.add_annotation(\n",
    "        x=loadings[i, 0],\n",
    "        y=loadings[i, 1],\n",
    "        ax=0, ay=0,\n",
    "        xanchor=\"center\",\n",
    "        yanchor=\"bottom\",\n",
    "        text=column\n",
    "    )\n",
    "\n",
    "fig.show()"
   ]
  },
  {
   "attachments": {},
   "cell_type": "markdown",
   "metadata": {},
   "source": [
    "On a une meilleure variance totale expliquée, qui est passée à 68.8% mais seulement la variance expliquée par la dimension 1 a augmenté, celle expliqué par l'axe 1 a au contraire diminué. On garde environ les mêmes que les interprétations précédentes, on ne peut pas réellement en dire plus."
   ]
  },
  {
   "attachments": {},
   "cell_type": "markdown",
   "metadata": {},
   "source": [
    "### *Clustering*\n",
    "\n",
    "On va maintenant procéder à du clustering pour pouvoir discrétiser toutes ces colonnes qui sont liées en une seule colonne. On va accorder une modalité à chaque classe. Nous allons utiliser l'algorithme de `KMeans`.\n",
    "\n",
    "On va procéder à plusieurs essais avec différents paramètres et nous présenterons seulement les paramètres que nous avons jugés intéressants ci-dessous.\n",
    "\n",
    "On va inclure dans la classification non supervisé la colonne `propclassesavectbi` que nous allons transformer en valeurs numériques pour chaque modalité. On va d'abord voir le nombre de modalités qu'il existe pour ensuite accorder à chaque modalité un chiffre."
   ]
  },
  {
   "cell_type": "code",
   "execution_count": 77,
   "metadata": {},
   "outputs": [
    {
     "data": {
      "text/plain": [
       "Mois20pct      157\n",
       "20pcta50pct     55\n",
       "50pctOuPlus     21\n",
       "Name: propclassesavectbi, dtype: int64"
      ]
     },
     "execution_count": 77,
     "metadata": {},
     "output_type": "execute_result"
    }
   ],
   "source": [
    "df_termin.propclassesavectbi.value_counts()"
   ]
  },
  {
   "attachments": {},
   "cell_type": "markdown",
   "metadata": {},
   "source": [
    "Nous avons ici 3 valeurs, nous allons accorder à chacune :\n",
    "- 'Mois20pct' : 0\n",
    "- '20pcta50pct' : 1\n",
    "- '50pctOuPlus' : 2"
   ]
  },
  {
   "cell_type": "code",
   "execution_count": 78,
   "metadata": {},
   "outputs": [
    {
     "data": {
      "text/plain": [
       "0.0    157\n",
       "1.0     55\n",
       "2.0     21\n",
       "Name: propclassesavectbi, dtype: int64"
      ]
     },
     "execution_count": 78,
     "metadata": {},
     "output_type": "execute_result"
    }
   ],
   "source": [
    "df_termin.propclassesavectbi = df_termin.propclassesavectbi.replace({\"Mois20pct\" : 0, \"20pcta50pct\" : 1, \"50pctOuPlus\" : 2})\n",
    "df_termin.propclassesavectbi = df_termin.propclassesavectbi.astype('float64')\n",
    "\n",
    "df_termin.propclassesavectbi.value_counts()"
   ]
  },
  {
   "cell_type": "code",
   "execution_count": 79,
   "metadata": {},
   "outputs": [
    {
     "data": {
      "text/html": [
       "<div>\n",
       "<style scoped>\n",
       "    .dataframe tbody tr th:only-of-type {\n",
       "        vertical-align: middle;\n",
       "    }\n",
       "\n",
       "    .dataframe tbody tr th {\n",
       "        vertical-align: top;\n",
       "    }\n",
       "\n",
       "    .dataframe thead th {\n",
       "        text-align: right;\n",
       "    }\n",
       "</style>\n",
       "<table border=\"1\" class=\"dataframe\">\n",
       "  <thead>\n",
       "    <tr style=\"text-align: right;\">\n",
       "      <th></th>\n",
       "      <th>terminaux</th>\n",
       "      <th>tablette</th>\n",
       "      <th>tablettepc</th>\n",
       "      <th>micromoins5</th>\n",
       "      <th>microportable</th>\n",
       "      <th>portaffel</th>\n",
       "      <th>tbi</th>\n",
       "      <th>propclassesavectbi</th>\n",
       "      <th>videoproj</th>\n",
       "    </tr>\n",
       "  </thead>\n",
       "  <tbody>\n",
       "    <tr>\n",
       "      <th>0</th>\n",
       "      <td>167.807487</td>\n",
       "      <td>13.962567</td>\n",
       "      <td>1.679144</td>\n",
       "      <td>89.106952</td>\n",
       "      <td>25.010695</td>\n",
       "      <td>3.358289</td>\n",
       "      <td>5.427807</td>\n",
       "      <td>0.433155</td>\n",
       "      <td>20.481283</td>\n",
       "    </tr>\n",
       "    <tr>\n",
       "      <th>1</th>\n",
       "      <td>2145.000000</td>\n",
       "      <td>7.500000</td>\n",
       "      <td>401.250000</td>\n",
       "      <td>1827.250000</td>\n",
       "      <td>1652.500000</td>\n",
       "      <td>1550.000000</td>\n",
       "      <td>8.500000</td>\n",
       "      <td>0.500000</td>\n",
       "      <td>62.750000</td>\n",
       "    </tr>\n",
       "    <tr>\n",
       "      <th>2</th>\n",
       "      <td>632.595238</td>\n",
       "      <td>100.666667</td>\n",
       "      <td>45.023810</td>\n",
       "      <td>358.880952</td>\n",
       "      <td>155.833333</td>\n",
       "      <td>102.952381</td>\n",
       "      <td>11.595238</td>\n",
       "      <td>0.333333</td>\n",
       "      <td>43.761905</td>\n",
       "    </tr>\n",
       "  </tbody>\n",
       "</table>\n",
       "</div>"
      ],
      "text/plain": [
       "     terminaux    tablette  tablettepc  micromoins5  microportable  \\\n",
       "0   167.807487   13.962567    1.679144    89.106952      25.010695   \n",
       "1  2145.000000    7.500000  401.250000  1827.250000    1652.500000   \n",
       "2   632.595238  100.666667   45.023810   358.880952     155.833333   \n",
       "\n",
       "     portaffel        tbi  propclassesavectbi  videoproj  \n",
       "0     3.358289   5.427807            0.433155  20.481283  \n",
       "1  1550.000000   8.500000            0.500000  62.750000  \n",
       "2   102.952381  11.595238            0.333333  43.761905  "
      ]
     },
     "execution_count": 79,
     "metadata": {},
     "output_type": "execute_result"
    }
   ],
   "source": [
    "km_termin = KMeans(\n",
    "    n_clusters=3,\n",
    "    init='k-means++',\n",
    "    n_init=20,\n",
    "    max_iter=1000,\n",
    "    random_state=42\n",
    ")\n",
    "\n",
    "y_km_termin = km_termin.fit_predict(df_termin)\n",
    "\n",
    "resultat = pd.DataFrame(km_termin.cluster_centers_, columns=km_termin.feature_names_in_)\n",
    "\n",
    "resultat"
   ]
  },
  {
   "attachments": {},
   "cell_type": "markdown",
   "metadata": {},
   "source": [
    "Après plusieurs essais avec différents paramètres, ce résultat semble le plus cohérent. Nous avons décidé de créer seulement 3 clusters. Nous avons aussi supprimer les colonnes que nous considérions pas très importantes pour la détermination des classes. Avoir trop de variables complique la tâche de classification.\n",
    "\n",
    "Après avoir observé les moyennes des centres de nos clusters, nous avons choisi le nombre de modalités et leurs valeurs.\n",
    "\n",
    "Nous allons donc avoir 3 modalités pour la variable \"terminaux_numérique\" :\n",
    "- \"Bien\" : classe 1 ici\n",
    "- \"Moyen\" : classe 2\n",
    "- \"Mauvais\" : classe 0\n",
    "\n",
    "Nous allons donc maintenant affecter ces valeurs en créant une nouvelle colonne et voir également ce que ça donne niveau représentation physique à l'aide d'une ACP."
   ]
  },
  {
   "cell_type": "code",
   "execution_count": 80,
   "metadata": {},
   "outputs": [
    {
     "data": {
      "text/html": [
       "<div>\n",
       "<style scoped>\n",
       "    .dataframe tbody tr th:only-of-type {\n",
       "        vertical-align: middle;\n",
       "    }\n",
       "\n",
       "    .dataframe tbody tr th {\n",
       "        vertical-align: top;\n",
       "    }\n",
       "\n",
       "    .dataframe thead th {\n",
       "        text-align: right;\n",
       "    }\n",
       "</style>\n",
       "<table border=\"1\" class=\"dataframe\">\n",
       "  <thead>\n",
       "    <tr style=\"text-align: right;\">\n",
       "      <th></th>\n",
       "      <th>terminaux</th>\n",
       "      <th>tablette</th>\n",
       "      <th>tablettepc</th>\n",
       "      <th>micromoins5</th>\n",
       "      <th>microportable</th>\n",
       "      <th>portaffel</th>\n",
       "      <th>tbi</th>\n",
       "      <th>propclassesavectbi</th>\n",
       "      <th>videoproj</th>\n",
       "      <th>cluster</th>\n",
       "    </tr>\n",
       "    <tr>\n",
       "      <th>Code_UAI</th>\n",
       "      <th></th>\n",
       "      <th></th>\n",
       "      <th></th>\n",
       "      <th></th>\n",
       "      <th></th>\n",
       "      <th></th>\n",
       "      <th></th>\n",
       "      <th></th>\n",
       "      <th></th>\n",
       "      <th></th>\n",
       "    </tr>\n",
       "  </thead>\n",
       "  <tbody>\n",
       "    <tr>\n",
       "      <th>0090007J</th>\n",
       "      <td>182.0</td>\n",
       "      <td>0.0</td>\n",
       "      <td>0.0</td>\n",
       "      <td>41.0</td>\n",
       "      <td>3.0</td>\n",
       "      <td>0.0</td>\n",
       "      <td>10.0</td>\n",
       "      <td>1.0</td>\n",
       "      <td>12.0</td>\n",
       "      <td>0</td>\n",
       "    </tr>\n",
       "    <tr>\n",
       "      <th>0090009L</th>\n",
       "      <td>124.0</td>\n",
       "      <td>0.0</td>\n",
       "      <td>0.0</td>\n",
       "      <td>56.0</td>\n",
       "      <td>1.0</td>\n",
       "      <td>0.0</td>\n",
       "      <td>2.0</td>\n",
       "      <td>0.0</td>\n",
       "      <td>15.0</td>\n",
       "      <td>0</td>\n",
       "    </tr>\n",
       "    <tr>\n",
       "      <th>0120037A</th>\n",
       "      <td>450.0</td>\n",
       "      <td>5.0</td>\n",
       "      <td>0.0</td>\n",
       "      <td>300.0</td>\n",
       "      <td>5.0</td>\n",
       "      <td>0.0</td>\n",
       "      <td>10.0</td>\n",
       "      <td>1.0</td>\n",
       "      <td>30.0</td>\n",
       "      <td>2</td>\n",
       "    </tr>\n",
       "    <tr>\n",
       "      <th>0300039E</th>\n",
       "      <td>110.0</td>\n",
       "      <td>110.0</td>\n",
       "      <td>0.0</td>\n",
       "      <td>110.0</td>\n",
       "      <td>110.0</td>\n",
       "      <td>0.0</td>\n",
       "      <td>5.0</td>\n",
       "      <td>0.0</td>\n",
       "      <td>14.0</td>\n",
       "      <td>0</td>\n",
       "    </tr>\n",
       "    <tr>\n",
       "      <th>0300059B</th>\n",
       "      <td>216.0</td>\n",
       "      <td>125.0</td>\n",
       "      <td>0.0</td>\n",
       "      <td>155.0</td>\n",
       "      <td>128.0</td>\n",
       "      <td>1.0</td>\n",
       "      <td>4.0</td>\n",
       "      <td>0.0</td>\n",
       "      <td>16.0</td>\n",
       "      <td>0</td>\n",
       "    </tr>\n",
       "  </tbody>\n",
       "</table>\n",
       "</div>"
      ],
      "text/plain": [
       "          terminaux  tablette  tablettepc  micromoins5  microportable  \\\n",
       "Code_UAI                                                                \n",
       "0090007J      182.0       0.0         0.0         41.0            3.0   \n",
       "0090009L      124.0       0.0         0.0         56.0            1.0   \n",
       "0120037A      450.0       5.0         0.0        300.0            5.0   \n",
       "0300039E      110.0     110.0         0.0        110.0          110.0   \n",
       "0300059B      216.0     125.0         0.0        155.0          128.0   \n",
       "\n",
       "          portaffel   tbi  propclassesavectbi  videoproj cluster  \n",
       "Code_UAI                                                          \n",
       "0090007J        0.0  10.0                 1.0       12.0       0  \n",
       "0090009L        0.0   2.0                 0.0       15.0       0  \n",
       "0120037A        0.0  10.0                 1.0       30.0       2  \n",
       "0300039E        0.0   5.0                 0.0       14.0       0  \n",
       "0300059B        1.0   4.0                 0.0       16.0       0  "
      ]
     },
     "execution_count": 80,
     "metadata": {},
     "output_type": "execute_result"
    }
   ],
   "source": [
    "df_termin['cluster'] = y_km_termin\n",
    "df_termin['cluster'] = df_termin['cluster'].astype(str)\n",
    "\n",
    "df_termin.head()"
   ]
  },
  {
   "cell_type": "code",
   "execution_count": 81,
   "metadata": {},
   "outputs": [
    {
     "data": {
      "application/vnd.plotly.v1+json": {
       "config": {
        "plotlyServerURL": "https://plot.ly"
       },
       "data": [
        {
         "hovertemplate": "color=0<br>PC 1 (53.5%)=%{x}<br>PC 2 (15.3%)=%{y}<extra></extra>",
         "legendgroup": "0",
         "marker": {
          "color": "#636efa",
          "symbol": "circle"
         },
         "mode": "markers",
         "name": "0",
         "orientation": "v",
         "showlegend": true,
         "type": "scatter",
         "x": [
          -0.8115114035974741,
          -0.9880248644771416,
          -0.5020067681010377,
          -0.20880457505016084,
          -0.7052904860444495,
          -0.7496093897681705,
          -0.8949274873840928,
          -1.0100429772355488,
          -0.8360659597939629,
          -0.8552604555881292,
          -0.7581310263487793,
          -0.4294446823438595,
          -0.3501556377368028,
          -0.792478843477315,
          -0.8276713111548408,
          -0.7379094320254623,
          -0.61302885754025,
          -0.6791192777436015,
          -1.2695877123052937,
          -1.0822076445950553,
          -0.8063559523438676,
          -0.7932600857433652,
          -0.33514983595578474,
          -1.3241693417475637,
          -0.450039208352492,
          -0.9885325082471148,
          -0.22847540301844635,
          -0.6278653259728534,
          -0.8210695563249314,
          0.04147781921649068,
          -1.1318529901978147,
          -0.7404555112270046,
          -0.47968725500789255,
          -0.15116098678225928,
          -1.0307773554696025,
          -0.8717814142925489,
          -0.47902059959633275,
          -1.193069707007453,
          -0.7001527425915887,
          -0.398555342574794,
          -0.4894480862835071,
          0.18547684825030192,
          0.2490606704640578,
          -1.0404331664140083,
          -0.9437739871424267,
          0.07959261960001378,
          -0.48028489380985895,
          -0.8114774443315661,
          -0.9104717836963421,
          0.07029441170176481,
          -0.8594269906036813,
          -0.8728141510341478,
          -0.7794568768860685,
          -0.04884263014225016,
          -0.30148803198564333,
          -0.48869999230390987,
          -0.8786877604133055,
          -0.9034721602246744,
          -0.5229744116813584,
          -1.255025801800567,
          0.526161221118821,
          -1.1660093796126145,
          -0.7395577111282754,
          0.006313310872291734,
          -0.9598149413786093,
          -0.2570266938457559,
          -0.03614564598564345,
          -1.024102428626627,
          -0.6767131315947832,
          -1.013419528898418,
          -0.5475787099542437,
          -1.415887595284348,
          0.017082296736966023,
          -0.22188330818965651,
          -0.2000245118320276,
          -0.9038477525888166,
          -0.7383159989145348,
          -1.048308798681994,
          -0.5119231333968801,
          -1.0950583917401953,
          -0.8207529124155335,
          -0.0053991213106442636,
          -0.796103258761324,
          -0.6770214928451967,
          -0.6685156291885506,
          -0.7676060084638776,
          -0.8798858926302223,
          -0.46263606841780996,
          -0.4996389056166616,
          -0.667253443305323,
          -0.004834238995175274,
          -0.4640797062135298,
          -0.7262722581522142,
          -0.8840427475503523,
          -0.7549432255335804,
          -0.44352093803747616,
          -0.7998333328042164,
          -0.8640267726782067,
          -0.4713582083093664,
          -0.9872162547919205,
          -1.191281697033083,
          -1.0473678939470366,
          -0.005359492980896718,
          -1.1460111241485182,
          -0.3705996521345502,
          -1.095554213840646,
          0.19052430195899836,
          -0.5354388622795716,
          -1.0727161862873407,
          -1.0683750306825868,
          -1.2178551620092228,
          -1.185455259831731,
          -0.772704101460388,
          -0.37139747032269155,
          -0.6276357959659876,
          -0.9694001546368376,
          -0.8219508818868887,
          -0.6595924987356157,
          -0.766505327322038,
          0.19681694942532854,
          -1.1763302760861256,
          -0.6146883960800784,
          -0.5757279719778087,
          -0.6360527562665441,
          -0.41416972108754546,
          -0.5940533144791198,
          -0.3530968551880915,
          -0.5387948603363654,
          0.021175960099139073,
          -0.639290986061555,
          -0.9754225960005102,
          -0.7722065143431152,
          -0.6091214942985953,
          -0.581177452972727,
          -0.9421033878236805,
          -0.7909643560455636,
          -1.2780940678135282,
          -1.167363757013325,
          -0.32949256951332484,
          -1.0563803214268892,
          -0.39873349312187695,
          -0.7425444553502271,
          -0.9611363760835638,
          -0.4415231052369281,
          -0.8722226527732492,
          -0.3222470131127135,
          -0.9404242951790972,
          0.5637724829337556,
          -0.7096982854303376,
          -0.7632966551506415,
          0.4777314813347948,
          0.4747464760999548,
          0.06960097983439929,
          -0.12460394345350098,
          -0.9845412658043732,
          -0.5269304604341664,
          -0.6845048626653589,
          -0.44493967802090045,
          -0.8714111525487105,
          -0.8080837736979717,
          -1.1766486560903524,
          -1.08077998871073,
          0.42865678224558185,
          -0.31862368247899914,
          -0.959027858669513,
          -0.6718851321711525,
          -0.8030117710896975,
          -0.6225079208987682,
          -0.8453371483062566,
          -0.058357899963461086,
          -0.7227119625792423,
          -1.2284142428930276,
          -1.1231676158984354,
          -1.2388456846610125,
          0.34232641064259695,
          -0.7930191761616956,
          -0.2951699282183847,
          -0.524771705770248,
          -0.4767462732823857,
          -1.0491023729838398,
          -0.7870037471441462,
          -0.2825711412715635,
          -0.6380162380766609,
          -0.9097792756754436,
          -0.9121070955055527,
          -0.9118371751289035,
          -0.9762001393048142
         ],
         "xaxis": "x",
         "y": [
          0.04285547646821299,
          0.38796257215831575,
          1.0675223625054189,
          1.0848692963157445,
          0.3531390181364352,
          0.20943137365615058,
          0.15182288983557085,
          0.44825374919321626,
          0.21024847353700907,
          -0.1271903857058799,
          0.21164401628401605,
          -0.372515238793423,
          -0.5045865657800449,
          -0.029806287205619175,
          0.17363647584858846,
          0.07969459410035865,
          -0.2196183055508642,
          0.22332355043486257,
          0.7825269752924671,
          0.456341829267726,
          0.16846254140032876,
          0.2659597440597967,
          -0.9582163357596523,
          0.8293193550143373,
          -0.7363177027527826,
          1.290899149817753,
          -0.12125644524237641,
          0.0482462851104143,
          0.24855162858948418,
          -1.2387762001314198,
          0.5208346502104154,
          -0.12961173679658033,
          -0.3781219180331382,
          0.1500567355752542,
          0.6008722887432888,
          0.611759905478382,
          -0.4566591281120675,
          0.49210918096100775,
          -0.007904996588525677,
          -0.044599288280603305,
          -0.05090432119327507,
          1.0567291570167354,
          1.3199144674952097,
          0.46519294798759075,
          0.2668063405721609,
          -1.193523404230054,
          -0.20540458932753775,
          0.25064141394010575,
          0.6642200321346141,
          -0.12784614619658552,
          0.266324679745813,
          0.18640709856942136,
          -0.23584829506047061,
          -0.5289783688159122,
          -0.6816541544451743,
          -0.36631842899822514,
          0.13597432590694458,
          0.41898942470944833,
          -0.07896909026520267,
          0.7349108858569469,
          -2.146595354635554,
          0.8872949845320137,
          0.0734720488301006,
          -0.9607392424089042,
          0.38789356320626855,
          -0.1094063912316236,
          -0.5338844666790177,
          0.5033941841060611,
          0.004741873083861197,
          1.0922557239270725,
          0.23428963860717067,
          1.003324862800341,
          -0.8657959734499456,
          -0.396713703689399,
          -0.267001014254015,
          0.2852963544396138,
          0.5955890669887859,
          0.4432710354765221,
          -0.14747530052308228,
          0.46913556693197644,
          0.31049793493156486,
          -0.602248841263351,
          0.055192588901522205,
          -0.04250041623400232,
          -0.3359117139190458,
          0.23137607619183465,
          0.1679047042689328,
          -0.3043910006410496,
          -0.15049581538310358,
          0.15506481526647356,
          -0.7256674369203113,
          -0.4217917432957411,
          0.3789103724183159,
          0.2846586512148077,
          0.059405786874703735,
          -0.2814249280011594,
          0.14849148513627364,
          0.6393151550460526,
          -0.15703054307903128,
          1.2578226009530395,
          0.574913414058777,
          0.35616424210842246,
          0.6752024242919229,
          0.3982100341983777,
          0.017058247229294346,
          0.39747209557875934,
          -1.029543748659474,
          0.06113579742620833,
          0.49319148444342337,
          0.6592860661150671,
          1.0154521032913668,
          1.065859113063673,
          0.043252180623233584,
          0.03830769008236854,
          0.7076003847890509,
          0.30961795228619216,
          0.227067308060027,
          0.28213400274564404,
          0.2325462384862249,
          -1.2219129378139446,
          0.7342116033036145,
          -0.3588177775865451,
          -0.2339324967303258,
          -0.25637093185250315,
          -0.15964974221636885,
          -0.4293651873233471,
          -0.6910336104935297,
          0.43728724158359805,
          -0.6350628820633674,
          -0.2762564359728911,
          0.408922144567358,
          0.3013704165468586,
          0.10207810582644397,
          0.20901353841252762,
          0.4396201904682766,
          0.8068617255647759,
          0.7255204178106761,
          0.615161570231766,
          -0.8812936391673549,
          0.3187001969327842,
          0.013229718608358096,
          0.5201372992978656,
          0.42113444218332574,
          -0.029531424898682383,
          0.26882293281245545,
          0.3041094985627939,
          0.3906209819184729,
          -1.6175353504403307,
          0.03347836689830965,
          0.21356887426129842,
          -1.0462964236339931,
          -1.613605737503535,
          -1.1580902231089316,
          -1.1791521594037453,
          0.35660574116464666,
          0.20396728056009297,
          0.0428902560259618,
          -0.15940256333299785,
          0.4244423056575029,
          0.13741519614131464,
          0.9336970078818332,
          0.5202056208114534,
          1.9596355440984454,
          -0.6438937782060916,
          0.4036635017026074,
          0.25709755621748354,
          0.33452360809293713,
          -0.15165364934378617,
          0.4172759860078922,
          -0.9691338583950266,
          0.2458092880378191,
          0.6732125290257138,
          0.6643448548328961,
          0.6910950739820776,
          -0.20769008448530998,
          -0.03587392299731567,
          -0.5029380713409891,
          0.15074769031920884,
          -0.2222794830738946,
          0.5367356054973845,
          0.3268697182950632,
          0.49606158287805496,
          -0.18778967112032963,
          0.5366744583496058,
          0.20506713655643097,
          0.29382918368336586,
          0.3713246786912158
         ],
         "yaxis": "y"
        },
        {
         "hovertemplate": "color=2<br>PC 1 (53.5%)=%{x}<br>PC 2 (15.3%)=%{y}<extra></extra>",
         "legendgroup": "2",
         "marker": {
          "color": "#EF553B",
          "symbol": "circle"
         },
         "mode": "markers",
         "name": "2",
         "orientation": "v",
         "showlegend": true,
         "type": "scatter",
         "x": [
          0.28675565341382664,
          0.9608831919743263,
          0.3462284125892463,
          1.1296670374525977,
          0.9531868399520567,
          0.3811529481983419,
          1.1426127938545467,
          1.5581658531978553,
          0.27346816524444195,
          1.7770976224209107,
          1.000360950993601,
          3.5521527647072917,
          3.9101056488922907,
          1.1411943481847442,
          4.659929699237925,
          0.5227433586175202,
          0.9256472856902758,
          0.7534122082574896,
          3.4847367571686454,
          1.9017516487311854,
          2.744066168979251,
          0.7871128182167306,
          1.5822238223401983,
          1.1084583927674678,
          1.5740402700463465,
          2.474886461282879,
          0.9353939678759257,
          1.3574989969468299,
          0.8420733370765173,
          0.7287650913772171,
          0.3705455871917363,
          2.5893813875775678,
          2.6166725609104384,
          1.7629128470672364,
          0.6556773932379286,
          1.2760788912206924,
          1.4498123586177922,
          0.9531797090296777,
          1.1954977061346608,
          2.713235433769902,
          4.325069221255595,
          3.2865021440572892
         ],
         "xaxis": "x",
         "y": [
          -0.7805112509171903,
          -2.2746558303506643,
          -0.5147547728960677,
          -1.4625191235032013,
          -0.9489822536339885,
          -0.9298665843094175,
          -2.221527746258364,
          1.6792734155485183,
          -0.6142258225299827,
          -2.4593877664302,
          -1.8512120542378971,
          -0.5296453427517017,
          4.602535393622813,
          1.4777251841033332,
          -1.8308818415449741,
          -0.755997532293123,
          -1.4070602803774845,
          -1.0728679889375217,
          3.419696517028049,
          1.3103711048258342,
          1.6180503395044548,
          -1.3136008477473706,
          -2.687854540348979,
          2.8531551010184883,
          -1.5973778714649405,
          3.325914668107442,
          2.7430726803009815,
          -1.778381462535606,
          -0.8793155062799939,
          -1.6018419206304162,
          -1.3468979585093592,
          -3.9003864853742534,
          -3.8971750607397366,
          -1.936687663560522,
          -0.6506064943368334,
          -2.8346865171656264,
          -2.30679407350864,
          -2.2527614443955843,
          -2.602506764351356,
          2.2392534673703626,
          0.9007474871523594,
          3.8349605606464325
         ],
         "yaxis": "y"
        },
        {
         "hovertemplate": "color=1<br>PC 1 (53.5%)=%{x}<br>PC 2 (15.3%)=%{y}<extra></extra>",
         "legendgroup": "1",
         "marker": {
          "color": "#00cc96",
          "symbol": "circle"
         },
         "mode": "markers",
         "name": "1",
         "orientation": "v",
         "showlegend": true,
         "type": "scatter",
         "x": [
          10.429909851157097,
          9.935986653931973,
          16.469525412749288,
          15.645693226378473
         ],
         "xaxis": "x",
         "y": [
          -0.44639539194026023,
          -1.0161738646147775,
          4.062327084919932,
          -0.7683013508780658
         ],
         "yaxis": "y"
        }
       ],
       "layout": {
        "legend": {
         "title": {
          "text": "color"
         },
         "tracegroupgap": 0
        },
        "template": {
         "data": {
          "bar": [
           {
            "error_x": {
             "color": "#2a3f5f"
            },
            "error_y": {
             "color": "#2a3f5f"
            },
            "marker": {
             "line": {
              "color": "#E5ECF6",
              "width": 0.5
             },
             "pattern": {
              "fillmode": "overlay",
              "size": 10,
              "solidity": 0.2
             }
            },
            "type": "bar"
           }
          ],
          "barpolar": [
           {
            "marker": {
             "line": {
              "color": "#E5ECF6",
              "width": 0.5
             },
             "pattern": {
              "fillmode": "overlay",
              "size": 10,
              "solidity": 0.2
             }
            },
            "type": "barpolar"
           }
          ],
          "carpet": [
           {
            "aaxis": {
             "endlinecolor": "#2a3f5f",
             "gridcolor": "white",
             "linecolor": "white",
             "minorgridcolor": "white",
             "startlinecolor": "#2a3f5f"
            },
            "baxis": {
             "endlinecolor": "#2a3f5f",
             "gridcolor": "white",
             "linecolor": "white",
             "minorgridcolor": "white",
             "startlinecolor": "#2a3f5f"
            },
            "type": "carpet"
           }
          ],
          "choropleth": [
           {
            "colorbar": {
             "outlinewidth": 0,
             "ticks": ""
            },
            "type": "choropleth"
           }
          ],
          "contour": [
           {
            "colorbar": {
             "outlinewidth": 0,
             "ticks": ""
            },
            "colorscale": [
             [
              0,
              "#0d0887"
             ],
             [
              0.1111111111111111,
              "#46039f"
             ],
             [
              0.2222222222222222,
              "#7201a8"
             ],
             [
              0.3333333333333333,
              "#9c179e"
             ],
             [
              0.4444444444444444,
              "#bd3786"
             ],
             [
              0.5555555555555556,
              "#d8576b"
             ],
             [
              0.6666666666666666,
              "#ed7953"
             ],
             [
              0.7777777777777778,
              "#fb9f3a"
             ],
             [
              0.8888888888888888,
              "#fdca26"
             ],
             [
              1,
              "#f0f921"
             ]
            ],
            "type": "contour"
           }
          ],
          "contourcarpet": [
           {
            "colorbar": {
             "outlinewidth": 0,
             "ticks": ""
            },
            "type": "contourcarpet"
           }
          ],
          "heatmap": [
           {
            "colorbar": {
             "outlinewidth": 0,
             "ticks": ""
            },
            "colorscale": [
             [
              0,
              "#0d0887"
             ],
             [
              0.1111111111111111,
              "#46039f"
             ],
             [
              0.2222222222222222,
              "#7201a8"
             ],
             [
              0.3333333333333333,
              "#9c179e"
             ],
             [
              0.4444444444444444,
              "#bd3786"
             ],
             [
              0.5555555555555556,
              "#d8576b"
             ],
             [
              0.6666666666666666,
              "#ed7953"
             ],
             [
              0.7777777777777778,
              "#fb9f3a"
             ],
             [
              0.8888888888888888,
              "#fdca26"
             ],
             [
              1,
              "#f0f921"
             ]
            ],
            "type": "heatmap"
           }
          ],
          "heatmapgl": [
           {
            "colorbar": {
             "outlinewidth": 0,
             "ticks": ""
            },
            "colorscale": [
             [
              0,
              "#0d0887"
             ],
             [
              0.1111111111111111,
              "#46039f"
             ],
             [
              0.2222222222222222,
              "#7201a8"
             ],
             [
              0.3333333333333333,
              "#9c179e"
             ],
             [
              0.4444444444444444,
              "#bd3786"
             ],
             [
              0.5555555555555556,
              "#d8576b"
             ],
             [
              0.6666666666666666,
              "#ed7953"
             ],
             [
              0.7777777777777778,
              "#fb9f3a"
             ],
             [
              0.8888888888888888,
              "#fdca26"
             ],
             [
              1,
              "#f0f921"
             ]
            ],
            "type": "heatmapgl"
           }
          ],
          "histogram": [
           {
            "marker": {
             "pattern": {
              "fillmode": "overlay",
              "size": 10,
              "solidity": 0.2
             }
            },
            "type": "histogram"
           }
          ],
          "histogram2d": [
           {
            "colorbar": {
             "outlinewidth": 0,
             "ticks": ""
            },
            "colorscale": [
             [
              0,
              "#0d0887"
             ],
             [
              0.1111111111111111,
              "#46039f"
             ],
             [
              0.2222222222222222,
              "#7201a8"
             ],
             [
              0.3333333333333333,
              "#9c179e"
             ],
             [
              0.4444444444444444,
              "#bd3786"
             ],
             [
              0.5555555555555556,
              "#d8576b"
             ],
             [
              0.6666666666666666,
              "#ed7953"
             ],
             [
              0.7777777777777778,
              "#fb9f3a"
             ],
             [
              0.8888888888888888,
              "#fdca26"
             ],
             [
              1,
              "#f0f921"
             ]
            ],
            "type": "histogram2d"
           }
          ],
          "histogram2dcontour": [
           {
            "colorbar": {
             "outlinewidth": 0,
             "ticks": ""
            },
            "colorscale": [
             [
              0,
              "#0d0887"
             ],
             [
              0.1111111111111111,
              "#46039f"
             ],
             [
              0.2222222222222222,
              "#7201a8"
             ],
             [
              0.3333333333333333,
              "#9c179e"
             ],
             [
              0.4444444444444444,
              "#bd3786"
             ],
             [
              0.5555555555555556,
              "#d8576b"
             ],
             [
              0.6666666666666666,
              "#ed7953"
             ],
             [
              0.7777777777777778,
              "#fb9f3a"
             ],
             [
              0.8888888888888888,
              "#fdca26"
             ],
             [
              1,
              "#f0f921"
             ]
            ],
            "type": "histogram2dcontour"
           }
          ],
          "mesh3d": [
           {
            "colorbar": {
             "outlinewidth": 0,
             "ticks": ""
            },
            "type": "mesh3d"
           }
          ],
          "parcoords": [
           {
            "line": {
             "colorbar": {
              "outlinewidth": 0,
              "ticks": ""
             }
            },
            "type": "parcoords"
           }
          ],
          "pie": [
           {
            "automargin": true,
            "type": "pie"
           }
          ],
          "scatter": [
           {
            "fillpattern": {
             "fillmode": "overlay",
             "size": 10,
             "solidity": 0.2
            },
            "type": "scatter"
           }
          ],
          "scatter3d": [
           {
            "line": {
             "colorbar": {
              "outlinewidth": 0,
              "ticks": ""
             }
            },
            "marker": {
             "colorbar": {
              "outlinewidth": 0,
              "ticks": ""
             }
            },
            "type": "scatter3d"
           }
          ],
          "scattercarpet": [
           {
            "marker": {
             "colorbar": {
              "outlinewidth": 0,
              "ticks": ""
             }
            },
            "type": "scattercarpet"
           }
          ],
          "scattergeo": [
           {
            "marker": {
             "colorbar": {
              "outlinewidth": 0,
              "ticks": ""
             }
            },
            "type": "scattergeo"
           }
          ],
          "scattergl": [
           {
            "marker": {
             "colorbar": {
              "outlinewidth": 0,
              "ticks": ""
             }
            },
            "type": "scattergl"
           }
          ],
          "scattermapbox": [
           {
            "marker": {
             "colorbar": {
              "outlinewidth": 0,
              "ticks": ""
             }
            },
            "type": "scattermapbox"
           }
          ],
          "scatterpolar": [
           {
            "marker": {
             "colorbar": {
              "outlinewidth": 0,
              "ticks": ""
             }
            },
            "type": "scatterpolar"
           }
          ],
          "scatterpolargl": [
           {
            "marker": {
             "colorbar": {
              "outlinewidth": 0,
              "ticks": ""
             }
            },
            "type": "scatterpolargl"
           }
          ],
          "scatterternary": [
           {
            "marker": {
             "colorbar": {
              "outlinewidth": 0,
              "ticks": ""
             }
            },
            "type": "scatterternary"
           }
          ],
          "surface": [
           {
            "colorbar": {
             "outlinewidth": 0,
             "ticks": ""
            },
            "colorscale": [
             [
              0,
              "#0d0887"
             ],
             [
              0.1111111111111111,
              "#46039f"
             ],
             [
              0.2222222222222222,
              "#7201a8"
             ],
             [
              0.3333333333333333,
              "#9c179e"
             ],
             [
              0.4444444444444444,
              "#bd3786"
             ],
             [
              0.5555555555555556,
              "#d8576b"
             ],
             [
              0.6666666666666666,
              "#ed7953"
             ],
             [
              0.7777777777777778,
              "#fb9f3a"
             ],
             [
              0.8888888888888888,
              "#fdca26"
             ],
             [
              1,
              "#f0f921"
             ]
            ],
            "type": "surface"
           }
          ],
          "table": [
           {
            "cells": {
             "fill": {
              "color": "#EBF0F8"
             },
             "line": {
              "color": "white"
             }
            },
            "header": {
             "fill": {
              "color": "#C8D4E3"
             },
             "line": {
              "color": "white"
             }
            },
            "type": "table"
           }
          ]
         },
         "layout": {
          "annotationdefaults": {
           "arrowcolor": "#2a3f5f",
           "arrowhead": 0,
           "arrowwidth": 1
          },
          "autotypenumbers": "strict",
          "coloraxis": {
           "colorbar": {
            "outlinewidth": 0,
            "ticks": ""
           }
          },
          "colorscale": {
           "diverging": [
            [
             0,
             "#8e0152"
            ],
            [
             0.1,
             "#c51b7d"
            ],
            [
             0.2,
             "#de77ae"
            ],
            [
             0.3,
             "#f1b6da"
            ],
            [
             0.4,
             "#fde0ef"
            ],
            [
             0.5,
             "#f7f7f7"
            ],
            [
             0.6,
             "#e6f5d0"
            ],
            [
             0.7,
             "#b8e186"
            ],
            [
             0.8,
             "#7fbc41"
            ],
            [
             0.9,
             "#4d9221"
            ],
            [
             1,
             "#276419"
            ]
           ],
           "sequential": [
            [
             0,
             "#0d0887"
            ],
            [
             0.1111111111111111,
             "#46039f"
            ],
            [
             0.2222222222222222,
             "#7201a8"
            ],
            [
             0.3333333333333333,
             "#9c179e"
            ],
            [
             0.4444444444444444,
             "#bd3786"
            ],
            [
             0.5555555555555556,
             "#d8576b"
            ],
            [
             0.6666666666666666,
             "#ed7953"
            ],
            [
             0.7777777777777778,
             "#fb9f3a"
            ],
            [
             0.8888888888888888,
             "#fdca26"
            ],
            [
             1,
             "#f0f921"
            ]
           ],
           "sequentialminus": [
            [
             0,
             "#0d0887"
            ],
            [
             0.1111111111111111,
             "#46039f"
            ],
            [
             0.2222222222222222,
             "#7201a8"
            ],
            [
             0.3333333333333333,
             "#9c179e"
            ],
            [
             0.4444444444444444,
             "#bd3786"
            ],
            [
             0.5555555555555556,
             "#d8576b"
            ],
            [
             0.6666666666666666,
             "#ed7953"
            ],
            [
             0.7777777777777778,
             "#fb9f3a"
            ],
            [
             0.8888888888888888,
             "#fdca26"
            ],
            [
             1,
             "#f0f921"
            ]
           ]
          },
          "colorway": [
           "#636efa",
           "#EF553B",
           "#00cc96",
           "#ab63fa",
           "#FFA15A",
           "#19d3f3",
           "#FF6692",
           "#B6E880",
           "#FF97FF",
           "#FECB52"
          ],
          "font": {
           "color": "#2a3f5f"
          },
          "geo": {
           "bgcolor": "white",
           "lakecolor": "white",
           "landcolor": "#E5ECF6",
           "showlakes": true,
           "showland": true,
           "subunitcolor": "white"
          },
          "hoverlabel": {
           "align": "left"
          },
          "hovermode": "closest",
          "mapbox": {
           "style": "light"
          },
          "paper_bgcolor": "white",
          "plot_bgcolor": "#E5ECF6",
          "polar": {
           "angularaxis": {
            "gridcolor": "white",
            "linecolor": "white",
            "ticks": ""
           },
           "bgcolor": "#E5ECF6",
           "radialaxis": {
            "gridcolor": "white",
            "linecolor": "white",
            "ticks": ""
           }
          },
          "scene": {
           "xaxis": {
            "backgroundcolor": "#E5ECF6",
            "gridcolor": "white",
            "gridwidth": 2,
            "linecolor": "white",
            "showbackground": true,
            "ticks": "",
            "zerolinecolor": "white"
           },
           "yaxis": {
            "backgroundcolor": "#E5ECF6",
            "gridcolor": "white",
            "gridwidth": 2,
            "linecolor": "white",
            "showbackground": true,
            "ticks": "",
            "zerolinecolor": "white"
           },
           "zaxis": {
            "backgroundcolor": "#E5ECF6",
            "gridcolor": "white",
            "gridwidth": 2,
            "linecolor": "white",
            "showbackground": true,
            "ticks": "",
            "zerolinecolor": "white"
           }
          },
          "shapedefaults": {
           "line": {
            "color": "#2a3f5f"
           }
          },
          "ternary": {
           "aaxis": {
            "gridcolor": "white",
            "linecolor": "white",
            "ticks": ""
           },
           "baxis": {
            "gridcolor": "white",
            "linecolor": "white",
            "ticks": ""
           },
           "bgcolor": "#E5ECF6",
           "caxis": {
            "gridcolor": "white",
            "linecolor": "white",
            "ticks": ""
           }
          },
          "title": {
           "x": 0.05
          },
          "xaxis": {
           "automargin": true,
           "gridcolor": "white",
           "linecolor": "white",
           "ticks": "",
           "title": {
            "standoff": 15
           },
           "zerolinecolor": "white",
           "zerolinewidth": 2
          },
          "yaxis": {
           "automargin": true,
           "gridcolor": "white",
           "linecolor": "white",
           "ticks": "",
           "title": {
            "standoff": 15
           },
           "zerolinecolor": "white",
           "zerolinewidth": 2
          }
         }
        },
        "title": {
         "text": "ACP"
        },
        "xaxis": {
         "anchor": "y",
         "domain": [
          0,
          1
         ],
         "title": {
          "text": "PC 1 (53.5%)"
         }
        },
        "yaxis": {
         "anchor": "x",
         "domain": [
          0,
          1
         ],
         "title": {
          "text": "PC 2 (15.3%)"
         }
        }
       }
      }
     },
     "metadata": {},
     "output_type": "display_data"
    }
   ],
   "source": [
    "df_scale = StandardScaler().fit_transform(df_termin.drop(columns=['propclassesavectbi', 'cluster']))\n",
    "\n",
    "pca = PCA(n_components=2)\n",
    "components = pca.fit_transform(df_scale)\n",
    "\n",
    "labels = {\n",
    "    str(i): f\"PC {i+1} ({var:.1f}%)\"\n",
    "    for i, var in enumerate(pca.explained_variance_ratio_ * 100)\n",
    "}\n",
    "\n",
    "\n",
    "fig = px.scatter(components, x=0, y=1, color=df_termin.cluster, title='ACP', labels=labels)\n",
    "fig.show()"
   ]
  },
  {
   "attachments": {},
   "cell_type": "markdown",
   "metadata": {},
   "source": [
    "On peut voir que les classes sont assez bien coupés, le groupement d'établissement au centre appartient quasiment à la classe 0. Les établissements atypiques appartiennent à la classe 1.\n",
    "\n",
    "\n",
    "### *Enregistrement du résultat dans un fichier csv*\n",
    "\n",
    "On peut transformer nos données et les sauvegarder dans un fichier csv pour pouvoir les analyser dans l'analyse générale."
   ]
  },
  {
   "cell_type": "code",
   "execution_count": 82,
   "metadata": {},
   "outputs": [
    {
     "data": {
      "text/html": [
       "<div>\n",
       "<style scoped>\n",
       "    .dataframe tbody tr th:only-of-type {\n",
       "        vertical-align: middle;\n",
       "    }\n",
       "\n",
       "    .dataframe tbody tr th {\n",
       "        vertical-align: top;\n",
       "    }\n",
       "\n",
       "    .dataframe thead th {\n",
       "        text-align: right;\n",
       "    }\n",
       "</style>\n",
       "<table border=\"1\" class=\"dataframe\">\n",
       "  <thead>\n",
       "    <tr style=\"text-align: right;\">\n",
       "      <th></th>\n",
       "      <th>terminaux_num</th>\n",
       "    </tr>\n",
       "    <tr>\n",
       "      <th>Code_UAI</th>\n",
       "      <th></th>\n",
       "    </tr>\n",
       "  </thead>\n",
       "  <tbody>\n",
       "    <tr>\n",
       "      <th>0090007J</th>\n",
       "      <td>0</td>\n",
       "    </tr>\n",
       "    <tr>\n",
       "      <th>0090009L</th>\n",
       "      <td>0</td>\n",
       "    </tr>\n",
       "    <tr>\n",
       "      <th>0120037A</th>\n",
       "      <td>2</td>\n",
       "    </tr>\n",
       "    <tr>\n",
       "      <th>0300039E</th>\n",
       "      <td>0</td>\n",
       "    </tr>\n",
       "    <tr>\n",
       "      <th>0300059B</th>\n",
       "      <td>0</td>\n",
       "    </tr>\n",
       "  </tbody>\n",
       "</table>\n",
       "</div>"
      ],
      "text/plain": [
       "         terminaux_num\n",
       "Code_UAI              \n",
       "0090007J             0\n",
       "0090009L             0\n",
       "0120037A             2\n",
       "0300039E             0\n",
       "0300059B             0"
      ]
     },
     "execution_count": 82,
     "metadata": {},
     "output_type": "execute_result"
    }
   ],
   "source": [
    "df_termin_final = pd.DataFrame(df_termin.cluster)\n",
    "df_termin_final.rename(columns={'cluster': 'terminaux_num'}, inplace=True)\n",
    "\n",
    "df_termin_final.head()"
   ]
  },
  {
   "cell_type": "code",
   "execution_count": 83,
   "metadata": {},
   "outputs": [],
   "source": [
    "df_termin_final.to_csv('../data/analyses/terminaux_num.csv', index=True, sep=\";\")"
   ]
  }
 ],
 "metadata": {
  "kernelspec": {
   "display_name": "Python 3",
   "language": "python",
   "name": "python3"
  },
  "language_info": {
   "codemirror_mode": {
    "name": "ipython",
    "version": 3
   },
   "file_extension": ".py",
   "mimetype": "text/x-python",
   "name": "python",
   "nbconvert_exporter": "python",
   "pygments_lexer": "ipython3",
   "version": "3.10.9"
  },
  "orig_nbformat": 4,
  "vscode": {
   "interpreter": {
    "hash": "2349f8cba88a5b2d1d390f83a8a5748abc4e6656a2f4a0a7bc22dd7876009b29"
   }
  }
 },
 "nbformat": 4,
 "nbformat_minor": 2
}
