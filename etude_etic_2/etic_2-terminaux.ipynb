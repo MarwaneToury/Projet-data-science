{
 "cells": [
  {
   "attachments": {},
   "cell_type": "markdown",
   "metadata": {},
   "source": [
    "# **Etude des différents terminaux**\n",
    "\n",
    "Nous allons procéder à l'étude des différents terminaux en posssession de l'établissement ici.\n",
    "Nous avons un ensemble de variables qualitatives (colonnes) qui nous permettent de connaître le nombre de terminaux qu'un établissement a en sa possession. Cela peut être intéressant car normalement plus l'établissement met à disposition des moyens physiques numériques et plus les élèves pourront accéder aux ressources en ligne et en faire usage pour leurs études. Cela peut aider également les étudiants défavorisés numériquement et réduire les écarts entre différentes catégories sociales.\n",
    "\n",
    "Nous avons dans l'enquête 15 colonnes qui nous informent sur le nombre de terminaux. Nous allons les utiliser ici dans notre analyse pour déterminer un lien entre les différentes colonnes. \n",
    "Voici les colonnes que nous utiliserons ici :\n",
    "- 'NbTerminaux'\n",
    "- 'NbTablette'\n",
    "- 'NbTablettePC'\n",
    "- 'NbMicroMoins5'\n",
    "- 'NbMicroPortable'\n",
    "- 'NbPortAffEl'\n",
    "- 'NbPortAffEns'\n",
    "- 'NbEleveEqASH'\n",
    "- 'NbPosteEqASH'\n",
    "- 'NbTBI'\n",
    "- 'propClassesAvecTBI'\n",
    "- 'NbVideoProj'\n",
    "- 'NbClassMobile'\n",
    "- 'NbLecteurMpx'\n",
    "- 'NbImpr3D'\n",
    "\n",
    "\n",
    "Nous essaierons de faire du clustering par la suite.\n",
    "\n",
    "### *Import des bibliothèques*"
   ]
  },
  {
   "cell_type": "code",
   "execution_count": 38,
   "metadata": {},
   "outputs": [],
   "source": [
    "import pandas as pd\n",
    "from sklearn.decomposition import PCA\n",
    "import plotly_express as px\n",
    "import plotly.graph_objects as go\n",
    "import prince as pc\n",
    "import numpy as np\n",
    "from sklearn.cluster import KMeans\n",
    "from sklearn.preprocessing import StandardScaler"
   ]
  },
  {
   "attachments": {},
   "cell_type": "markdown",
   "metadata": {},
   "source": [
    "### *Import du fichier*"
   ]
  },
  {
   "cell_type": "code",
   "execution_count": 3,
   "metadata": {},
   "outputs": [
    {
     "data": {
      "text/plain": [
       "Index(['Code_UAI', 'Millesime', 'Code_nature', 'nature_uai', 'typ_etab',\n",
       "       'Academie', 'Departement', 'NbEleve', 'NbEnseignant',\n",
       "       'SiEtabCentreRessource', 'SiProjetNumEcole', 'SiEntDisponible',\n",
       "       'SiProjEtabIntegreENT', 'Maint_PersCollect', 'Maint_PrestaExt',\n",
       "       'Maint_PersonnelEducNatHsEtab', 'Maint_PersonnelEtab',\n",
       "       'Maint_AutreNeSaitPas', 'Maint_Personne', 'NbRessourceEdit',\n",
       "       'TpRess_ManuelNum', 'TpRess_AnimScienLogiSimu', 'TpRess_Bdd',\n",
       "       'TpRess_LogiOutils', 'TpRess_OuvRef', 'TpRess_ResEntrainement',\n",
       "       'TpRess_Autres', 'TpRess_aucune', 'ServInt_NoteElev', 'ServInt_AbsElev',\n",
       "       'ServInt_EdtElevCls', 'ServInt_CahierTxt', 'ServInt_DocRessPeda',\n",
       "       'ServInt_AgdActuEtab', 'ServInt_PlatApp', 'ServInt_Autres',\n",
       "       'ServInt_aucun', 'NbTerminaux', 'NbTablette', 'NbTablettePC',\n",
       "       'NbMicroMoins5', 'NbMicroPortable', 'NbPortAffEl', 'NbPortAffEns',\n",
       "       'NbEleveEqASH', 'NbPosteEqASH', 'NbTBI', 'propClassesAvecTBI',\n",
       "       'NbVideoProj', 'NbClassMobile', 'NbLecteurMpx', 'NbImpr3D',\n",
       "       'AccWeb_RTC', 'AccWeb_CableFibreOptique', 'AccWeb_ADSL',\n",
       "       'AccWeb_AutresHautDebit', 'AccWeb_NeSaitPas', 'AccWeb_Aucun',\n",
       "       'DebitWeb', 'SiWifi', 'SalleInternet', 'PostesInfoElvHorsCours',\n",
       "       'SiPareFeuEtab', 'SiOuifiltrageWeb', 'ControlePosteriori',\n",
       "       'SiCharteUsageWeb', 'Diffch_AnnexeeRI',\n",
       "       'Diffch_DossierRentreeEnseignants', 'Diffch_CRConseilAdmin',\n",
       "       'Diffch_DiffusionParents', 'Diffch_Autres', 'AccesParentCharte',\n",
       "       'ElvAuthentif', 'SiVisioConferenc', 'SiEntUtilise',\n",
       "       'TypeMatHandi_Tablette', 'TypeMatHandi_OrdiPort', 'TypeMatHandi_LogApp',\n",
       "       'TypeMatHandi_Autre', 'Code_region', 'Libelle_region'],\n",
       "      dtype='object')"
      ]
     },
     "execution_count": 3,
     "metadata": {},
     "output_type": "execute_result"
    }
   ],
   "source": [
    "df = pd.read_csv('../data/lycee-college/fr-en-etic_2d.csv', sep=';')\n",
    "\n",
    "df.columns"
   ]
  },
  {
   "attachments": {},
   "cell_type": "markdown",
   "metadata": {},
   "source": [
    "### *Traitement du fichier*\n",
    "\n",
    "On va mettre `Code_UAI` en index pour pouvoir identifier de façon plus simple les individus. On va supprimer les colonnes inutiles et supprimer les lignes qui contiennent des `NaN` pour pouvoir faire une ACP et peut-être du Clustering non supervisé par la suite."
   ]
  },
  {
   "cell_type": "code",
   "execution_count": 4,
   "metadata": {},
   "outputs": [],
   "source": [
    "df_termin = df.set_index('Code_UAI')\n",
    "\n",
    "df_termin.drop(columns=['Millesime', 'Code_nature', 'nature_uai', 'typ_etab',\n",
    "       'Academie', 'Departement', 'NbEleve', 'NbEnseignant',\n",
    "       'SiEtabCentreRessource', 'SiProjetNumEcole', 'SiEntDisponible',\n",
    "       'SiProjEtabIntegreENT', 'Maint_PersCollect', 'Maint_PrestaExt',\n",
    "       'Maint_PersonnelEducNatHsEtab', 'Maint_PersonnelEtab',\n",
    "       'Maint_AutreNeSaitPas', 'Maint_Personne', 'NbRessourceEdit',\n",
    "       'TpRess_ManuelNum', 'TpRess_AnimScienLogiSimu', 'TpRess_Bdd',\n",
    "       'TpRess_LogiOutils', 'TpRess_OuvRef', 'TpRess_ResEntrainement',\n",
    "       'TpRess_Autres', 'TpRess_aucune', 'ServInt_NoteElev', 'ServInt_AbsElev',\n",
    "       'ServInt_EdtElevCls', 'ServInt_CahierTxt', 'ServInt_DocRessPeda',\n",
    "       'ServInt_AgdActuEtab', 'ServInt_PlatApp', 'ServInt_Autres',\n",
    "       'ServInt_aucun', 'AccWeb_RTC', 'AccWeb_CableFibreOptique', 'AccWeb_ADSL',\n",
    "       'AccWeb_AutresHautDebit', 'AccWeb_NeSaitPas', 'AccWeb_Aucun',\n",
    "       'DebitWeb', 'SiWifi', 'SalleInternet', 'PostesInfoElvHorsCours',\n",
    "       'SiPareFeuEtab', 'SiOuifiltrageWeb', 'ControlePosteriori',\n",
    "       'SiCharteUsageWeb', 'Diffch_AnnexeeRI', 'Diffch_DossierRentreeEnseignants', \n",
    "       'Diffch_CRConseilAdmin','Diffch_DiffusionParents', 'Diffch_Autres', \n",
    "       'AccesParentCharte','ElvAuthentif', 'SiVisioConferenc', 'SiEntUtilise',\n",
    "       'TypeMatHandi_Tablette', 'TypeMatHandi_OrdiPort', 'TypeMatHandi_LogApp',\n",
    "       'TypeMatHandi_Autre', 'Code_region', 'Libelle_region'], inplace=True)\n",
    "\n",
    "\n",
    "df_termin.dropna(inplace=True)"
   ]
  },
  {
   "attachments": {},
   "cell_type": "markdown",
   "metadata": {},
   "source": [
    "On vérifie que nos modifications ont bien été appliquées"
   ]
  },
  {
   "cell_type": "code",
   "execution_count": 5,
   "metadata": {},
   "outputs": [
    {
     "data": {
      "text/html": [
       "<div>\n",
       "<style scoped>\n",
       "    .dataframe tbody tr th:only-of-type {\n",
       "        vertical-align: middle;\n",
       "    }\n",
       "\n",
       "    .dataframe tbody tr th {\n",
       "        vertical-align: top;\n",
       "    }\n",
       "\n",
       "    .dataframe thead th {\n",
       "        text-align: right;\n",
       "    }\n",
       "</style>\n",
       "<table border=\"1\" class=\"dataframe\">\n",
       "  <thead>\n",
       "    <tr style=\"text-align: right;\">\n",
       "      <th></th>\n",
       "      <th>NbTerminaux</th>\n",
       "      <th>NbTablette</th>\n",
       "      <th>NbTablettePC</th>\n",
       "      <th>NbMicroMoins5</th>\n",
       "      <th>NbMicroPortable</th>\n",
       "      <th>NbPortAffEl</th>\n",
       "      <th>NbPortAffEns</th>\n",
       "      <th>NbEleveEqASH</th>\n",
       "      <th>NbPosteEqASH</th>\n",
       "      <th>NbTBI</th>\n",
       "      <th>propClassesAvecTBI</th>\n",
       "      <th>NbVideoProj</th>\n",
       "      <th>NbClassMobile</th>\n",
       "      <th>NbLecteurMpx</th>\n",
       "      <th>NbImpr3D</th>\n",
       "    </tr>\n",
       "    <tr>\n",
       "      <th>Code_UAI</th>\n",
       "      <th></th>\n",
       "      <th></th>\n",
       "      <th></th>\n",
       "      <th></th>\n",
       "      <th></th>\n",
       "      <th></th>\n",
       "      <th></th>\n",
       "      <th></th>\n",
       "      <th></th>\n",
       "      <th></th>\n",
       "      <th></th>\n",
       "      <th></th>\n",
       "      <th></th>\n",
       "      <th></th>\n",
       "      <th></th>\n",
       "    </tr>\n",
       "  </thead>\n",
       "  <tbody>\n",
       "    <tr>\n",
       "      <th>0090007J</th>\n",
       "      <td>182.0</td>\n",
       "      <td>0.0</td>\n",
       "      <td>0.0</td>\n",
       "      <td>41.0</td>\n",
       "      <td>3.0</td>\n",
       "      <td>0.0</td>\n",
       "      <td>0.0</td>\n",
       "      <td>0.0</td>\n",
       "      <td>0.0</td>\n",
       "      <td>10.0</td>\n",
       "      <td>20pcta50pct</td>\n",
       "      <td>12.0</td>\n",
       "      <td>0.0</td>\n",
       "      <td>0.0</td>\n",
       "      <td>1.0</td>\n",
       "    </tr>\n",
       "    <tr>\n",
       "      <th>0090009L</th>\n",
       "      <td>124.0</td>\n",
       "      <td>0.0</td>\n",
       "      <td>0.0</td>\n",
       "      <td>56.0</td>\n",
       "      <td>1.0</td>\n",
       "      <td>0.0</td>\n",
       "      <td>0.0</td>\n",
       "      <td>3.0</td>\n",
       "      <td>3.0</td>\n",
       "      <td>2.0</td>\n",
       "      <td>Mois20pct</td>\n",
       "      <td>15.0</td>\n",
       "      <td>0.0</td>\n",
       "      <td>0.0</td>\n",
       "      <td>0.0</td>\n",
       "    </tr>\n",
       "    <tr>\n",
       "      <th>0120037A</th>\n",
       "      <td>450.0</td>\n",
       "      <td>5.0</td>\n",
       "      <td>0.0</td>\n",
       "      <td>300.0</td>\n",
       "      <td>5.0</td>\n",
       "      <td>0.0</td>\n",
       "      <td>5.0</td>\n",
       "      <td>0.0</td>\n",
       "      <td>0.0</td>\n",
       "      <td>10.0</td>\n",
       "      <td>20pcta50pct</td>\n",
       "      <td>30.0</td>\n",
       "      <td>0.0</td>\n",
       "      <td>0.0</td>\n",
       "      <td>2.0</td>\n",
       "    </tr>\n",
       "    <tr>\n",
       "      <th>0300039E</th>\n",
       "      <td>110.0</td>\n",
       "      <td>110.0</td>\n",
       "      <td>0.0</td>\n",
       "      <td>110.0</td>\n",
       "      <td>110.0</td>\n",
       "      <td>0.0</td>\n",
       "      <td>9.0</td>\n",
       "      <td>0.0</td>\n",
       "      <td>0.0</td>\n",
       "      <td>5.0</td>\n",
       "      <td>Mois20pct</td>\n",
       "      <td>14.0</td>\n",
       "      <td>0.0</td>\n",
       "      <td>0.0</td>\n",
       "      <td>1.0</td>\n",
       "    </tr>\n",
       "    <tr>\n",
       "      <th>0300059B</th>\n",
       "      <td>216.0</td>\n",
       "      <td>125.0</td>\n",
       "      <td>0.0</td>\n",
       "      <td>155.0</td>\n",
       "      <td>128.0</td>\n",
       "      <td>1.0</td>\n",
       "      <td>25.0</td>\n",
       "      <td>1.0</td>\n",
       "      <td>1.0</td>\n",
       "      <td>4.0</td>\n",
       "      <td>Mois20pct</td>\n",
       "      <td>16.0</td>\n",
       "      <td>4.0</td>\n",
       "      <td>1.0</td>\n",
       "      <td>0.0</td>\n",
       "    </tr>\n",
       "  </tbody>\n",
       "</table>\n",
       "</div>"
      ],
      "text/plain": [
       "          NbTerminaux  NbTablette  NbTablettePC  NbMicroMoins5  \\\n",
       "Code_UAI                                                         \n",
       "0090007J        182.0         0.0           0.0           41.0   \n",
       "0090009L        124.0         0.0           0.0           56.0   \n",
       "0120037A        450.0         5.0           0.0          300.0   \n",
       "0300039E        110.0       110.0           0.0          110.0   \n",
       "0300059B        216.0       125.0           0.0          155.0   \n",
       "\n",
       "          NbMicroPortable  NbPortAffEl  NbPortAffEns  NbEleveEqASH  \\\n",
       "Code_UAI                                                             \n",
       "0090007J              3.0          0.0           0.0           0.0   \n",
       "0090009L              1.0          0.0           0.0           3.0   \n",
       "0120037A              5.0          0.0           5.0           0.0   \n",
       "0300039E            110.0          0.0           9.0           0.0   \n",
       "0300059B            128.0          1.0          25.0           1.0   \n",
       "\n",
       "          NbPosteEqASH  NbTBI propClassesAvecTBI  NbVideoProj  NbClassMobile  \\\n",
       "Code_UAI                                                                       \n",
       "0090007J           0.0   10.0        20pcta50pct         12.0            0.0   \n",
       "0090009L           3.0    2.0          Mois20pct         15.0            0.0   \n",
       "0120037A           0.0   10.0        20pcta50pct         30.0            0.0   \n",
       "0300039E           0.0    5.0          Mois20pct         14.0            0.0   \n",
       "0300059B           1.0    4.0          Mois20pct         16.0            4.0   \n",
       "\n",
       "          NbLecteurMpx  NbImpr3D  \n",
       "Code_UAI                          \n",
       "0090007J           0.0       1.0  \n",
       "0090009L           0.0       0.0  \n",
       "0120037A           0.0       2.0  \n",
       "0300039E           0.0       1.0  \n",
       "0300059B           1.0       0.0  "
      ]
     },
     "execution_count": 5,
     "metadata": {},
     "output_type": "execute_result"
    }
   ],
   "source": [
    "df_termin.head()"
   ]
  },
  {
   "attachments": {},
   "cell_type": "markdown",
   "metadata": {},
   "source": [
    "On va ensuite procéder au renommage des colonnes"
   ]
  },
  {
   "cell_type": "code",
   "execution_count": 6,
   "metadata": {},
   "outputs": [
    {
     "data": {
      "text/plain": [
       "Index(['terminaux', 'tablette', 'tablettepc', 'micromoins5', 'microportable',\n",
       "       'portaffel', 'portaffens', 'eleveeqash', 'posteeqash', 'tbi',\n",
       "       'propclassesavectbi', 'videoproj', 'classmobile', 'lecteurmpx',\n",
       "       'impr3d'],\n",
       "      dtype='object')"
      ]
     },
     "execution_count": 6,
     "metadata": {},
     "output_type": "execute_result"
    }
   ],
   "source": [
    "old_columns = df_termin.columns\n",
    "\n",
    "for column in old_columns:\n",
    "    df_termin.rename(columns={column: column.replace('Nb', '').lower()}, inplace=True)\n",
    "\n",
    "\n",
    "df_termin.columns"
   ]
  },
  {
   "attachments": {},
   "cell_type": "markdown",
   "metadata": {},
   "source": [
    "### *Analyse des dépendances*\n",
    "\n",
    "Avant de faire une ACP, nous allons voir à l'aide de la matrice de corrélation s'il existe un lien entre les différentes variables qu'on a ici. Cela va nous aider à mieux comprendre l'ACP et mieux interpréter les résultats."
   ]
  },
  {
   "cell_type": "code",
   "execution_count": 13,
   "metadata": {},
   "outputs": [
    {
     "data": {
      "application/vnd.plotly.v1+json": {
       "config": {
        "plotlyServerURL": "https://plot.ly"
       },
       "data": [
        {
         "colorbar": {
          "thickness": 20
         },
         "hovertext": [
          [
           1,
           0.16,
           0.39,
           0.92,
           0.82,
           0.81,
           0.16,
           0.04,
           -0.05,
           0.32,
           0.66,
           0.1,
           0.06,
           0.25
          ],
          [
           0.16,
           1,
           0.19,
           0.13,
           0.26,
           0.18,
           0.53,
           0.08,
           0.08,
           0.06,
           -0.07,
           0.15,
           0.08,
           0.07
          ],
          [
           0.39,
           0.19,
           1,
           0.43,
           0.55,
           0.5,
           0.19,
           0.02,
           0.05,
           0.08,
           0.12,
           -0.01,
           -0.05,
           -0.06
          ],
          [
           0.92,
           0.13,
           0.43,
           1,
           0.88,
           0.9,
           0.2,
           0.07,
           -0.04,
           0.22,
           0.49,
           0.03,
           -0.02,
           0.12
          ],
          [
           0.82,
           0.26,
           0.55,
           0.88,
           1,
           0.98,
           0.28,
           0.1,
           0.01,
           0.14,
           0.27,
           0.12,
           -0.05,
           -0.02
          ],
          [
           0.81,
           0.18,
           0.5,
           0.9,
           0.98,
           1,
           0.23,
           0.1,
           -0.01,
           0.13,
           0.25,
           0.01,
           -0.06,
           -0.03
          ],
          [
           0.16,
           0.53,
           0.19,
           0.2,
           0.28,
           0.23,
           1,
           0.35,
           0.34,
           0.07,
           0,
           0.11,
           -0.01,
           0.12
          ],
          [
           0.04,
           0.08,
           0.02,
           0.07,
           0.1,
           0.1,
           0.35,
           1,
           0.85,
           -0.05,
           -0.05,
           0.08,
           0.01,
           0.11
          ],
          [
           -0.05,
           0.08,
           0.05,
           -0.04,
           0.01,
           -0.01,
           0.34,
           0.85,
           1,
           0,
           -0.07,
           0.11,
           0.01,
           0.08
          ],
          [
           0.32,
           0.06,
           0.08,
           0.22,
           0.14,
           0.13,
           0.07,
           -0.05,
           0,
           1,
           0.18,
           0.03,
           0.03,
           0.3
          ],
          [
           0.66,
           -0.07,
           0.12,
           0.49,
           0.27,
           0.25,
           0,
           -0.05,
           -0.07,
           0.18,
           1,
           0.09,
           0.17,
           0.28
          ],
          [
           0.1,
           0.15,
           -0.01,
           0.03,
           0.12,
           0.01,
           0.11,
           0.08,
           0.11,
           0.03,
           0.09,
           1,
           0.03,
           -0.01
          ],
          [
           0.06,
           0.08,
           -0.05,
           -0.02,
           -0.05,
           -0.06,
           -0.01,
           0.01,
           0.01,
           0.03,
           0.17,
           0.03,
           1,
           0.03
          ],
          [
           0.25,
           0.07,
           -0.06,
           0.12,
           -0.02,
           -0.03,
           0.12,
           0.11,
           0.08,
           0.3,
           0.28,
           -0.01,
           0.03,
           1
          ]
         ],
         "type": "heatmap",
         "x": [
          "terminaux",
          "tablette",
          "tablettepc",
          "micromoins5",
          "microportable",
          "portaffel",
          "portaffens",
          "eleveeqash",
          "posteeqash",
          "tbi",
          "videoproj",
          "classmobile",
          "lecteurmpx",
          "impr3d"
         ],
         "xgap": 1,
         "y": [
          "terminaux",
          "tablette",
          "tablettepc",
          "micromoins5",
          "microportable",
          "portaffel",
          "portaffens",
          "eleveeqash",
          "posteeqash",
          "tbi",
          "videoproj",
          "classmobile",
          "lecteurmpx",
          "impr3d"
         ],
         "ygap": 1,
         "z": [
          [
           1,
           0.161601037235032,
           0.39152585764685927,
           0.9211938623344939,
           0.8199423901958853,
           0.8086442334401275,
           0.16193420506113168,
           0.03908694784017963,
           -0.05255176843170344,
           0.31559293510906017,
           0.656928484463373,
           0.09802007515719342,
           0.06084584234732746,
           0.254798288760498
          ],
          [
           0.161601037235032,
           1,
           0.18815741863213747,
           0.12843929353727374,
           0.2623913690625766,
           0.18077050360452424,
           0.5306348546586409,
           0.08260904864595417,
           0.07850072455482693,
           0.06368511594514495,
           -0.0650744198952187,
           0.15430698731386802,
           0.08167504695165047,
           0.07146664082954109
          ],
          [
           0.39152585764685927,
           0.18815741863213747,
           1,
           0.4291114901382175,
           0.5477542801256825,
           0.4978263208718623,
           0.18744954044215126,
           0.018829132972906167,
           0.045520565290201674,
           0.07831652665349452,
           0.12400427682610125,
           -0.00793768479583338,
           -0.049469191077261596,
           -0.06259238855711952
          ],
          [
           0.9211938623344939,
           0.12843929353727374,
           0.4291114901382175,
           1,
           0.8849697757709934,
           0.902895214620163,
           0.1986894989916784,
           0.07017528003914694,
           -0.038460050208451446,
           0.2225296365784742,
           0.4881803183979735,
           0.03293547663110565,
           -0.020062311146888195,
           0.11797174810614214
          ],
          [
           0.8199423901958853,
           0.2623913690625766,
           0.5477542801256825,
           0.8849697757709934,
           1,
           0.975130725689106,
           0.2818113292881262,
           0.10134799337011394,
           0.007683840006551906,
           0.14134102266013843,
           0.2681445648500005,
           0.12359031422211669,
           -0.046315912663969915,
           -0.019908254294574983
          ],
          [
           0.8086442334401275,
           0.18077050360452424,
           0.4978263208718623,
           0.902895214620163,
           0.975130725689106,
           1,
           0.2312048371064603,
           0.10088432426287262,
           -0.00540353435633777,
           0.13420263059026488,
           0.25407448239705044,
           0.013660646446370616,
           -0.06069122517506542,
           -0.025796573706227566
          ],
          [
           0.16193420506113168,
           0.5306348546586409,
           0.18744954044215126,
           0.1986894989916784,
           0.2818113292881262,
           0.2312048371064603,
           1,
           0.34862044176118695,
           0.3447154743831294,
           0.0706374485937864,
           0.004004917402635532,
           0.1106312306589752,
           -0.011907386142036736,
           0.11864834888818526
          ],
          [
           0.03908694784017963,
           0.08260904864595417,
           0.018829132972906167,
           0.07017528003914694,
           0.10134799337011394,
           0.10088432426287262,
           0.34862044176118695,
           1,
           0.8531310253682002,
           -0.051191237981271995,
           -0.05447073278389243,
           0.07867399904831184,
           0.011068187298988058,
           0.11081744298132895
          ],
          [
           -0.05255176843170344,
           0.07850072455482693,
           0.045520565290201674,
           -0.038460050208451446,
           0.007683840006551906,
           -0.00540353435633777,
           0.3447154743831294,
           0.8531310253682002,
           1,
           0.00022154389851719808,
           -0.07310827190406165,
           0.1094421713221474,
           0.009579641541700254,
           0.08398869843642831
          ],
          [
           0.31559293510906017,
           0.06368511594514495,
           0.07831652665349452,
           0.2225296365784742,
           0.14134102266013843,
           0.13420263059026488,
           0.0706374485937864,
           -0.051191237981271995,
           0.00022154389851719808,
           1,
           0.1842132773543034,
           0.031217806084968144,
           0.034704200100848376,
           0.30001351199362786
          ],
          [
           0.656928484463373,
           -0.0650744198952187,
           0.12400427682610125,
           0.4881803183979735,
           0.2681445648500005,
           0.25407448239705044,
           0.004004917402635532,
           -0.05447073278389243,
           -0.07310827190406165,
           0.1842132773543034,
           1,
           0.08789351426651776,
           0.17215920463261222,
           0.2849780561038914
          ],
          [
           0.09802007515719342,
           0.15430698731386802,
           -0.00793768479583338,
           0.03293547663110565,
           0.12359031422211669,
           0.013660646446370616,
           0.1106312306589752,
           0.07867399904831184,
           0.1094421713221474,
           0.031217806084968144,
           0.08789351426651776,
           1,
           0.034803028753661924,
           -0.0061008919390860205
          ],
          [
           0.06084584234732746,
           0.08167504695165047,
           -0.049469191077261596,
           -0.020062311146888195,
           -0.046315912663969915,
           -0.06069122517506542,
           -0.011907386142036736,
           0.011068187298988058,
           0.009579641541700254,
           0.034704200100848376,
           0.17215920463261222,
           0.034803028753661924,
           1,
           0.025675819116902504
          ],
          [
           0.254798288760498,
           0.07146664082954109,
           -0.06259238855711952,
           0.11797174810614214,
           -0.019908254294574983,
           -0.025796573706227566,
           0.11864834888818526,
           0.11081744298132895,
           0.08398869843642831,
           0.30001351199362786,
           0.2849780561038914,
           -0.0061008919390860205,
           0.025675819116902504,
           1
          ]
         ]
        }
       ],
       "layout": {
        "height": 600,
        "template": {
         "data": {
          "bar": [
           {
            "error_x": {
             "color": "#2a3f5f"
            },
            "error_y": {
             "color": "#2a3f5f"
            },
            "marker": {
             "line": {
              "color": "#E5ECF6",
              "width": 0.5
             },
             "pattern": {
              "fillmode": "overlay",
              "size": 10,
              "solidity": 0.2
             }
            },
            "type": "bar"
           }
          ],
          "barpolar": [
           {
            "marker": {
             "line": {
              "color": "#E5ECF6",
              "width": 0.5
             },
             "pattern": {
              "fillmode": "overlay",
              "size": 10,
              "solidity": 0.2
             }
            },
            "type": "barpolar"
           }
          ],
          "carpet": [
           {
            "aaxis": {
             "endlinecolor": "#2a3f5f",
             "gridcolor": "white",
             "linecolor": "white",
             "minorgridcolor": "white",
             "startlinecolor": "#2a3f5f"
            },
            "baxis": {
             "endlinecolor": "#2a3f5f",
             "gridcolor": "white",
             "linecolor": "white",
             "minorgridcolor": "white",
             "startlinecolor": "#2a3f5f"
            },
            "type": "carpet"
           }
          ],
          "choropleth": [
           {
            "colorbar": {
             "outlinewidth": 0,
             "ticks": ""
            },
            "type": "choropleth"
           }
          ],
          "contour": [
           {
            "colorbar": {
             "outlinewidth": 0,
             "ticks": ""
            },
            "colorscale": [
             [
              0,
              "#0d0887"
             ],
             [
              0.1111111111111111,
              "#46039f"
             ],
             [
              0.2222222222222222,
              "#7201a8"
             ],
             [
              0.3333333333333333,
              "#9c179e"
             ],
             [
              0.4444444444444444,
              "#bd3786"
             ],
             [
              0.5555555555555556,
              "#d8576b"
             ],
             [
              0.6666666666666666,
              "#ed7953"
             ],
             [
              0.7777777777777778,
              "#fb9f3a"
             ],
             [
              0.8888888888888888,
              "#fdca26"
             ],
             [
              1,
              "#f0f921"
             ]
            ],
            "type": "contour"
           }
          ],
          "contourcarpet": [
           {
            "colorbar": {
             "outlinewidth": 0,
             "ticks": ""
            },
            "type": "contourcarpet"
           }
          ],
          "heatmap": [
           {
            "colorbar": {
             "outlinewidth": 0,
             "ticks": ""
            },
            "colorscale": [
             [
              0,
              "#0d0887"
             ],
             [
              0.1111111111111111,
              "#46039f"
             ],
             [
              0.2222222222222222,
              "#7201a8"
             ],
             [
              0.3333333333333333,
              "#9c179e"
             ],
             [
              0.4444444444444444,
              "#bd3786"
             ],
             [
              0.5555555555555556,
              "#d8576b"
             ],
             [
              0.6666666666666666,
              "#ed7953"
             ],
             [
              0.7777777777777778,
              "#fb9f3a"
             ],
             [
              0.8888888888888888,
              "#fdca26"
             ],
             [
              1,
              "#f0f921"
             ]
            ],
            "type": "heatmap"
           }
          ],
          "heatmapgl": [
           {
            "colorbar": {
             "outlinewidth": 0,
             "ticks": ""
            },
            "colorscale": [
             [
              0,
              "#0d0887"
             ],
             [
              0.1111111111111111,
              "#46039f"
             ],
             [
              0.2222222222222222,
              "#7201a8"
             ],
             [
              0.3333333333333333,
              "#9c179e"
             ],
             [
              0.4444444444444444,
              "#bd3786"
             ],
             [
              0.5555555555555556,
              "#d8576b"
             ],
             [
              0.6666666666666666,
              "#ed7953"
             ],
             [
              0.7777777777777778,
              "#fb9f3a"
             ],
             [
              0.8888888888888888,
              "#fdca26"
             ],
             [
              1,
              "#f0f921"
             ]
            ],
            "type": "heatmapgl"
           }
          ],
          "histogram": [
           {
            "marker": {
             "pattern": {
              "fillmode": "overlay",
              "size": 10,
              "solidity": 0.2
             }
            },
            "type": "histogram"
           }
          ],
          "histogram2d": [
           {
            "colorbar": {
             "outlinewidth": 0,
             "ticks": ""
            },
            "colorscale": [
             [
              0,
              "#0d0887"
             ],
             [
              0.1111111111111111,
              "#46039f"
             ],
             [
              0.2222222222222222,
              "#7201a8"
             ],
             [
              0.3333333333333333,
              "#9c179e"
             ],
             [
              0.4444444444444444,
              "#bd3786"
             ],
             [
              0.5555555555555556,
              "#d8576b"
             ],
             [
              0.6666666666666666,
              "#ed7953"
             ],
             [
              0.7777777777777778,
              "#fb9f3a"
             ],
             [
              0.8888888888888888,
              "#fdca26"
             ],
             [
              1,
              "#f0f921"
             ]
            ],
            "type": "histogram2d"
           }
          ],
          "histogram2dcontour": [
           {
            "colorbar": {
             "outlinewidth": 0,
             "ticks": ""
            },
            "colorscale": [
             [
              0,
              "#0d0887"
             ],
             [
              0.1111111111111111,
              "#46039f"
             ],
             [
              0.2222222222222222,
              "#7201a8"
             ],
             [
              0.3333333333333333,
              "#9c179e"
             ],
             [
              0.4444444444444444,
              "#bd3786"
             ],
             [
              0.5555555555555556,
              "#d8576b"
             ],
             [
              0.6666666666666666,
              "#ed7953"
             ],
             [
              0.7777777777777778,
              "#fb9f3a"
             ],
             [
              0.8888888888888888,
              "#fdca26"
             ],
             [
              1,
              "#f0f921"
             ]
            ],
            "type": "histogram2dcontour"
           }
          ],
          "mesh3d": [
           {
            "colorbar": {
             "outlinewidth": 0,
             "ticks": ""
            },
            "type": "mesh3d"
           }
          ],
          "parcoords": [
           {
            "line": {
             "colorbar": {
              "outlinewidth": 0,
              "ticks": ""
             }
            },
            "type": "parcoords"
           }
          ],
          "pie": [
           {
            "automargin": true,
            "type": "pie"
           }
          ],
          "scatter": [
           {
            "fillpattern": {
             "fillmode": "overlay",
             "size": 10,
             "solidity": 0.2
            },
            "type": "scatter"
           }
          ],
          "scatter3d": [
           {
            "line": {
             "colorbar": {
              "outlinewidth": 0,
              "ticks": ""
             }
            },
            "marker": {
             "colorbar": {
              "outlinewidth": 0,
              "ticks": ""
             }
            },
            "type": "scatter3d"
           }
          ],
          "scattercarpet": [
           {
            "marker": {
             "colorbar": {
              "outlinewidth": 0,
              "ticks": ""
             }
            },
            "type": "scattercarpet"
           }
          ],
          "scattergeo": [
           {
            "marker": {
             "colorbar": {
              "outlinewidth": 0,
              "ticks": ""
             }
            },
            "type": "scattergeo"
           }
          ],
          "scattergl": [
           {
            "marker": {
             "colorbar": {
              "outlinewidth": 0,
              "ticks": ""
             }
            },
            "type": "scattergl"
           }
          ],
          "scattermapbox": [
           {
            "marker": {
             "colorbar": {
              "outlinewidth": 0,
              "ticks": ""
             }
            },
            "type": "scattermapbox"
           }
          ],
          "scatterpolar": [
           {
            "marker": {
             "colorbar": {
              "outlinewidth": 0,
              "ticks": ""
             }
            },
            "type": "scatterpolar"
           }
          ],
          "scatterpolargl": [
           {
            "marker": {
             "colorbar": {
              "outlinewidth": 0,
              "ticks": ""
             }
            },
            "type": "scatterpolargl"
           }
          ],
          "scatterternary": [
           {
            "marker": {
             "colorbar": {
              "outlinewidth": 0,
              "ticks": ""
             }
            },
            "type": "scatterternary"
           }
          ],
          "surface": [
           {
            "colorbar": {
             "outlinewidth": 0,
             "ticks": ""
            },
            "colorscale": [
             [
              0,
              "#0d0887"
             ],
             [
              0.1111111111111111,
              "#46039f"
             ],
             [
              0.2222222222222222,
              "#7201a8"
             ],
             [
              0.3333333333333333,
              "#9c179e"
             ],
             [
              0.4444444444444444,
              "#bd3786"
             ],
             [
              0.5555555555555556,
              "#d8576b"
             ],
             [
              0.6666666666666666,
              "#ed7953"
             ],
             [
              0.7777777777777778,
              "#fb9f3a"
             ],
             [
              0.8888888888888888,
              "#fdca26"
             ],
             [
              1,
              "#f0f921"
             ]
            ],
            "type": "surface"
           }
          ],
          "table": [
           {
            "cells": {
             "fill": {
              "color": "#EBF0F8"
             },
             "line": {
              "color": "white"
             }
            },
            "header": {
             "fill": {
              "color": "#C8D4E3"
             },
             "line": {
              "color": "white"
             }
            },
            "type": "table"
           }
          ]
         },
         "layout": {
          "annotationdefaults": {
           "arrowcolor": "#2a3f5f",
           "arrowhead": 0,
           "arrowwidth": 1
          },
          "autotypenumbers": "strict",
          "coloraxis": {
           "colorbar": {
            "outlinewidth": 0,
            "ticks": ""
           }
          },
          "colorscale": {
           "diverging": [
            [
             0,
             "#8e0152"
            ],
            [
             0.1,
             "#c51b7d"
            ],
            [
             0.2,
             "#de77ae"
            ],
            [
             0.3,
             "#f1b6da"
            ],
            [
             0.4,
             "#fde0ef"
            ],
            [
             0.5,
             "#f7f7f7"
            ],
            [
             0.6,
             "#e6f5d0"
            ],
            [
             0.7,
             "#b8e186"
            ],
            [
             0.8,
             "#7fbc41"
            ],
            [
             0.9,
             "#4d9221"
            ],
            [
             1,
             "#276419"
            ]
           ],
           "sequential": [
            [
             0,
             "#0d0887"
            ],
            [
             0.1111111111111111,
             "#46039f"
            ],
            [
             0.2222222222222222,
             "#7201a8"
            ],
            [
             0.3333333333333333,
             "#9c179e"
            ],
            [
             0.4444444444444444,
             "#bd3786"
            ],
            [
             0.5555555555555556,
             "#d8576b"
            ],
            [
             0.6666666666666666,
             "#ed7953"
            ],
            [
             0.7777777777777778,
             "#fb9f3a"
            ],
            [
             0.8888888888888888,
             "#fdca26"
            ],
            [
             1,
             "#f0f921"
            ]
           ],
           "sequentialminus": [
            [
             0,
             "#0d0887"
            ],
            [
             0.1111111111111111,
             "#46039f"
            ],
            [
             0.2222222222222222,
             "#7201a8"
            ],
            [
             0.3333333333333333,
             "#9c179e"
            ],
            [
             0.4444444444444444,
             "#bd3786"
            ],
            [
             0.5555555555555556,
             "#d8576b"
            ],
            [
             0.6666666666666666,
             "#ed7953"
            ],
            [
             0.7777777777777778,
             "#fb9f3a"
            ],
            [
             0.8888888888888888,
             "#fdca26"
            ],
            [
             1,
             "#f0f921"
            ]
           ]
          },
          "colorway": [
           "#636efa",
           "#EF553B",
           "#00cc96",
           "#ab63fa",
           "#FFA15A",
           "#19d3f3",
           "#FF6692",
           "#B6E880",
           "#FF97FF",
           "#FECB52"
          ],
          "font": {
           "color": "#2a3f5f"
          },
          "geo": {
           "bgcolor": "white",
           "lakecolor": "white",
           "landcolor": "#E5ECF6",
           "showlakes": true,
           "showland": true,
           "subunitcolor": "white"
          },
          "hoverlabel": {
           "align": "left"
          },
          "hovermode": "closest",
          "mapbox": {
           "style": "light"
          },
          "paper_bgcolor": "white",
          "plot_bgcolor": "#E5ECF6",
          "polar": {
           "angularaxis": {
            "gridcolor": "white",
            "linecolor": "white",
            "ticks": ""
           },
           "bgcolor": "#E5ECF6",
           "radialaxis": {
            "gridcolor": "white",
            "linecolor": "white",
            "ticks": ""
           }
          },
          "scene": {
           "xaxis": {
            "backgroundcolor": "#E5ECF6",
            "gridcolor": "white",
            "gridwidth": 2,
            "linecolor": "white",
            "showbackground": true,
            "ticks": "",
            "zerolinecolor": "white"
           },
           "yaxis": {
            "backgroundcolor": "#E5ECF6",
            "gridcolor": "white",
            "gridwidth": 2,
            "linecolor": "white",
            "showbackground": true,
            "ticks": "",
            "zerolinecolor": "white"
           },
           "zaxis": {
            "backgroundcolor": "#E5ECF6",
            "gridcolor": "white",
            "gridwidth": 2,
            "linecolor": "white",
            "showbackground": true,
            "ticks": "",
            "zerolinecolor": "white"
           }
          },
          "shapedefaults": {
           "line": {
            "color": "#2a3f5f"
           }
          },
          "ternary": {
           "aaxis": {
            "gridcolor": "white",
            "linecolor": "white",
            "ticks": ""
           },
           "baxis": {
            "gridcolor": "white",
            "linecolor": "white",
            "ticks": ""
           },
           "bgcolor": "#E5ECF6",
           "caxis": {
            "gridcolor": "white",
            "linecolor": "white",
            "ticks": ""
           }
          },
          "title": {
           "x": 0.05
          },
          "xaxis": {
           "automargin": true,
           "gridcolor": "white",
           "linecolor": "white",
           "ticks": "",
           "title": {
            "standoff": 15
           },
           "zerolinecolor": "white",
           "zerolinewidth": 2
          },
          "yaxis": {
           "automargin": true,
           "gridcolor": "white",
           "linecolor": "white",
           "ticks": "",
           "title": {
            "standoff": 15
           },
           "zerolinecolor": "white",
           "zerolinewidth": 2
          }
         }
        },
        "title": {
         "text": "Matrice de corrélation"
        },
        "width": 600,
        "xaxis": {
         "showgrid": false
        },
        "yaxis": {
         "autorange": "reversed",
         "showgrid": false
        }
       }
      }
     },
     "metadata": {},
     "output_type": "display_data"
    }
   ],
   "source": [
    "columns_names = df_termin.drop(columns=['propclassesavectbi']).columns\n",
    "\n",
    "heat = go.Heatmap(\n",
    "    z = df_termin.corr(),\n",
    "    x = columns_names,\n",
    "    y = columns_names,\n",
    "    xgap = 1,\n",
    "    ygap = 1,\n",
    "    colorbar_thickness = 20,\n",
    "    hovertext=df_termin.corr().round(2).values,\n",
    ")\n",
    "\n",
    "layout = go.Layout(\n",
    "    title = 'Matrice de corrélation',\n",
    "    width=600,  height=600,\n",
    "    xaxis_showgrid=False, yaxis_showgrid=False,\n",
    "    yaxis_autorange='reversed'\n",
    ")\n",
    "\n",
    "fig = go.Figure(data=[heat], layout=layout)\n",
    "fig.show()"
   ]
  },
  {
   "attachments": {},
   "cell_type": "markdown",
   "metadata": {},
   "source": [
    "La matrice de corrélation nous met à l'évidence l'existence d'une corrélation entre plusieurs variables.\n",
    "Par exemple, il existe une corrélation positive entre le nombre de terminaux et et le nombre de vidéo projecteurs.\n",
    "Il existe aussi une forte corrélation entre le nombre de terminaux et `portaffel` (nombre de terminaux mobiles affectés à titre individuel à des élèves).\n",
    "- entre nombre de terminaux et `microportable` (nombre de terminaux mobiles total)\n",
    "- entre nombre de terminaux et `micromoins5` (nombre de terminaux de moins de 5 ans) : il doit y avoir de grandes proportions de terminaux de moins de 5 ans dans les différents établissements\n",
    "- `micromoins5` a une forte corrélation avec `microportable` et `portaffel` : ce qui veut dire que la plupart des terminaux qui ont moins de 5 ans sont des terminaux mobiles prêtés aux élèves. Ceci peut être visible car on sait que la région distribue des ordinateurs à chaque étudiant qui entre au lycée.\n",
    "- entre `microportable` et `portaffel` (très forte corrélation) : la plupart des terminaux mobiles sont affectées aux étudiants ce qui est normal\n",
    "- entre `eleveeqash` et `posteeqash` : ce qui est logique, le nombre de terminaux pour les élèves équipés au titre de l'ASH (Adaptation, Scolarisation, Handicap) doit convenir au nombre d'élèves équipés au titre de l'ASH\n",
    "\n",
    "Ce sont les corrélations les plus importantes que nous avons pu constater dans cette matrice. Nous allons maintenant passer à l'ACP"
   ]
  },
  {
   "attachments": {},
   "cell_type": "markdown",
   "metadata": {},
   "source": [
    "### *ACP*\n",
    "\n",
    "On va commencer par faire une ACP sans la colonnes `PropClassesAvecTBI` qui veut dire la proportion de classes avec un tableau blanc interactif. Cette colonne est sous forme de seuil."
   ]
  },
  {
   "cell_type": "code",
   "execution_count": 36,
   "metadata": {},
   "outputs": [
    {
     "data": {
      "application/vnd.plotly.v1+json": {
       "config": {
        "plotlyServerURL": "https://plot.ly"
       },
       "data": [
        {
         "hovertemplate": "PC 1 (85.8%)=%{x}<br>PC 2 (6.9%)=%{y}<extra></extra>",
         "legendgroup": "",
         "marker": {
          "color": "#636efa",
          "symbol": "circle"
         },
         "mode": "markers",
         "name": "",
         "orientation": "v",
         "showlegend": false,
         "type": "scatter",
         "x": [
          -181.90614572024705,
          -210.94342900928172,
          114.88254055202783,
          -141.29927135778044,
          -44.48859595725075,
          -164.8718323444922,
          -160.1030425078329,
          -207.71239277466634,
          173.34411648903517,
          -219.89613289178317,
          -189.36271952357137,
          -227.72885402149055,
          158.82817987553145,
          -143.54252431211842,
          -116.2982370790943,
          -91.26093299045858,
          -216.86884496429423,
          -192.3024424330131,
          -159.14617318836434,
          -170.11061981056963,
          -122.9852323594821,
          354.15603134659915,
          369.7236635881613,
          -266.93432229926333,
          -253.6609274099583,
          -195.87847660802404,
          -186.64335247914903,
          107.63976500095487,
          214.69981887140264,
          -163.10485160460894,
          -281.5600438444969,
          -156.80726638809833,
          -200.7310723554058,
          -6.6954735033505335,
          -184.69579547102302,
          -207.59549608909302,
          -30.233516071886587,
          -251.3278383802017,
          -211.51434974248778,
          -144.68431827119355,
          370.8104450916702,
          33.83285966792917,
          -193.74844899858454,
          -211.59143876107595,
          109.2905845971085,
          -163.18000206128062,
          -276.13218710339805,
          -145.54295241333935,
          -75.72262942127907,
          -100.00144143272283,
          36.2197286189017,
          77.20220227801349,
          -226.15917156509036,
          -219.66934215585167,
          -115.12925699249672,
          -147.78650138908682,
          2818.719186824698,
          -179.55264959686136,
          -232.34609764076558,
          441.8415351837582,
          83.44292383451517,
          -175.41871359011213,
          -205.13719117147454,
          -238.54258789779215,
          -69.56974937775877,
          -125.83176695207419,
          -151.45220644803277,
          -209.4693794634265,
          -179.11124681067105,
          212.37318154621244,
          -103.42282881738569,
          -269.41474268514395,
          -18.61170479633234,
          -210.10154115556819,
          -181.26487635709643,
          -45.219708272552275,
          2614.071823583712,
          935.2016751187595,
          -218.68202338516997,
          -81.71328505465179,
          -54.069842664908236,
          -222.06514159809458,
          -162.37242183092656,
          697.9803637514314,
          -202.6042715212371,
          -81.16203069472317,
          -301.1203370261083,
          176.17620897407446,
          -17.10256600914469,
          -27.28103319441019,
          -20.60851730614308,
          -200.61683929850176,
          -165.01294954204383,
          1148.7301289764096,
          3535.187961836402,
          -237.11397626257954,
          -162.66117298509266,
          187.52676127368886,
          -245.28951931697188,
          -188.35874860103158,
          23.640628241800197,
          -194.10022367993378,
          -170.69997455256365,
          -205.56452594372107,
          -172.2166759446765,
          -205.85807876202347,
          262.9162452311105,
          -109.00619435750858,
          212.43332043636303,
          -103.47766784936663,
          -142.4735880758219,
          -11.099311294445172,
          -142.58963854415316,
          -133.0436562122497,
          -199.50600421134914,
          781.141437102538,
          -185.60313504201113,
          4303.303922969239,
          -121.81054900945453,
          -175.8766664540108,
          -195.97726401122978,
          -126.12307927615919,
          -206.9158602557655,
          -267.2650226710796,
          -247.5667938529737,
          388.0298218406991,
          594.7787226240158,
          -53.83515053272639,
          -270.3809412940717,
          193.111521723047,
          -33.6604672877684,
          -257.8897925643215,
          18.612036556758714,
          374.1863702574646,
          -99.87577038071377,
          176.09544150369263,
          -249.97175033215737,
          -206.06912940740082,
          -253.70903821272597,
          -249.41811288351653,
          528.1928449803711,
          -185.06019610397533,
          -142.50635523246427,
          -149.20398234197222,
          -232.90499921228908,
          -197.94975912575745,
          -192.83244035192993,
          -157.2704442138725,
          4.4266884758897,
          -233.2464470435263,
          -193.50958027132893,
          -160.9980149592512,
          567.853835826975,
          -176.55268332980867,
          -149.68901941667448,
          210.725098532317,
          -198.2318393453566,
          -147.42069747922628,
          -126.37215060719565,
          4.267877710512744,
          -179.0328632876746,
          306.9850472507857,
          -209.26388343500847,
          -160.23589560230005,
          -138.32702668519588,
          -143.4776963130478,
          -207.35898080523324,
          -136.14040385225806,
          -276.13058877989664,
          -252.60054738650098,
          -177.88493250553748,
          -247.7658355124748,
          -105.17296320460855,
          -187.44765674260557,
          -223.71866918717708,
          -77.57496724831346,
          -206.3140303969434,
          287.4523542434667,
          150.6083400201645,
          -81.87215402694622,
          -218.9893411809336,
          86.11966934222858,
          60.62417262521488,
          -156.43878192965127,
          583.5059707654289,
          -166.04940093997973,
          31.801512904835004,
          29.503165758326368,
          571.2602540852579,
          -28.524720967368566,
          -108.92774484970028,
          -278.0561616213573,
          506.6510157038712,
          160.66343148058962,
          -68.5001053785458,
          -156.22369656258238,
          -100.72361786036761,
          -175.99138997392748,
          -185.9395670305763,
          -240.5769171441695,
          -239.18951627592625,
          73.33190719967922,
          -115.32121159231411,
          -229.18487083257295,
          -138.48353111282253,
          -161.13696529325912,
          -167.69920404963491,
          289.8040824284917,
          -167.70775968613495,
          -41.7413268187988,
          -154.17929190805617,
          338.5526060537279,
          -264.06146677238434,
          -229.72011413465992,
          -271.8852433326448,
          91.00306978620475,
          -195.79294214791835,
          -100.13151027977045,
          138.2615797872761,
          225.24025641595892,
          -122.93648971256111,
          456.9134075444693,
          879.9115531711382,
          -88.12177522262078,
          -244.16904643678842,
          -183.29910621974372,
          -85.51368702744988,
          -148.54935261739487,
          -226.37920323135455,
          -201.62665463899566,
          611.7874245892493,
          -207.53591318283836,
          -220.75936379907648
         ],
         "xaxis": "x",
         "y": [
          11.644001612025807,
          45.88562720445923,
          -181.93929114467682,
          116.52436868978646,
          56.41652094254441,
          36.74371641004723,
          35.19500909095897,
          30.80396403447469,
          -272.297386301219,
          71.3463259844794,
          46.38050373779192,
          37.90297955460301,
          -161.36964200973316,
          -5.2748104080160845,
          -9.119812037595672,
          -26.501853958216085,
          70.55765524366723,
          32.24846827849427,
          0.061951282112567445,
          36.21658783838589,
          4.411573794969034,
          -363.4221406190969,
          -359.53474838684576,
          93.58666053451792,
          98.12799503477477,
          68.18540789758957,
          81.22328275448257,
          -147.40607510135854,
          -241.06067322221665,
          -1.7710359301569532,
          105.96001445556342,
          -4.58278108202446,
          117.5550029274314,
          -56.89732624348329,
          58.93279327833959,
          40.44865575368983,
          -126.98490550888428,
          83.17341968496133,
          73.21383696546107,
          26.400871839487195,
          87.27539547936814,
          -126.07274589563504,
          36.64461708270014,
          76.41472649137604,
          -148.9988555981246,
          24.463089624680254,
          89.31441000452531,
          -18.85251669588226,
          -11.805977573746727,
          4.728762009714412,
          -61.44602340729001,
          84.20350634782285,
          66.03093394335382,
          59.04667323676358,
          -26.12299207398013,
          0.34532840209067467,
          131.9009347064801,
          45.71732304487498,
          121.45832742706224,
          -402.1645786428393,
          -83.10846451989012,
          1.3952825610200206,
          53.587216392403406,
          77.84821237725895,
          2.8915099338735164,
          6.3450799704197856,
          34.40454831465257,
          39.806782383126425,
          30.21575724771618,
          -218.62292612549663,
          -8.328805532855693,
          96.74316710491166,
          -92.22507624513021,
          61.978132613927556,
          43.87589392427024,
          -51.63110919697009,
          86.06946512366625,
          48.14916997430724,
          77.45304869366143,
          24.388358436762033,
          17.709268805579097,
          76.07960574885017,
          35.239275732045726,
          340.2645038771708,
          97.35444285946683,
          -3.8925125252390966,
          116.03358496659348,
          102.29712360785236,
          -65.67626970475546,
          -76.77412846749804,
          -61.85728556302838,
          42.95820655298834,
          58.25240216609018,
          -17.08720914598411,
          813.2336689605996,
          78.7599421848304,
          23.079488324054402,
          -217.98700540434174,
          80.29188009930934,
          35.704867112934515,
          -104.78394336053657,
          40.07065631631534,
          36.17106514962798,
          55.94183039934097,
          22.04592976146614,
          42.783308711542844,
          -304.7923869339032,
          -30.577791329379764,
          -181.19117156046653,
          -8.36419846204819,
          25.42581470305742,
          -70.73085657934774,
          9.566003551925162,
          36.71701881549178,
          60.66099258067822,
          206.46564611230724,
          37.33848621575877,
          -57.17046380555332,
          21.00107317852132,
          20.091164291232126,
          88.38029261277076,
          12.749705514520173,
          43.766736459359045,
          93.13704667727484,
          80.54321626371824,
          67.3730347385101,
          58.59515690243849,
          -25.261016213231766,
          84.67065905719122,
          -201.84105801767305,
          -50.34996093078336,
          86.02328360183554,
          -80.67025963834473,
          -410.1518023972841,
          -10.165001381247011,
          220.28279708858716,
          71.48482180932074,
          52.50176330428837,
          87.30297368448588,
          89.10459075321953,
          -493.0391568692898,
          37.707540658072,
          48.483122855545346,
          19.635810821539167,
          56.69634604431817,
          83.59662566904221,
          53.02877706115961,
          27.732676865824335,
          -111.14338573870418,
          66.6317151416532,
          53.27597003790791,
          24.562225280545213,
          221.75335145340176,
          25.142522807105408,
          46.32641231448129,
          -250.9140940385029,
          59.881018106138896,
          28.88486117424833,
          50.2843280186575,
          -63.0380786103859,
          33.13156646304825,
          -299.627128656094,
          53.75182215787519,
          18.82258077961111,
          48.00280068286133,
          60.823526946019776,
          77.16510445623616,
          43.34085410657808,
          98.72711455180027,
          85.18050621541245,
          48.39130969869592,
          66.31609400594522,
          19.677980187217813,
          46.29092744615667,
          69.31630893469976,
          -14.58155039854445,
          42.956387089522394,
          -242.79179372441837,
          -178.43283164291114,
          26.844596217550283,
          71.51694976159095,
          -189.59113585706524,
          -128.0690656201276,
          6.866262217394103,
          -581.913779602375,
          41.32685190311662,
          -73.38685907575464,
          -90.54427122120269,
          -551.8410122940336,
          -111.17342229378518,
          -38.28860236722989,
          108.20683352860344,
          -506.71911565322154,
          -142.02389291388837,
          -26.77020011805738,
          28.264785178862187,
          -10.548473330159348,
          51.43997092817973,
          27.126796337553408,
          98.43532024708787,
          83.17051599315977,
          136.13319908318235,
          -15.002429080768595,
          104.76574963410559,
          48.86301065603935,
          37.21038480232295,
          38.430483987798006,
          -454.38299922608144,
          44.94127867502046,
          -107.45702985646521,
          39.698054014678654,
          -326.08114464839576,
          86.8033536414518,
          70.02698102611458,
          99.35586402999513,
          43.90055453866289,
          39.074311090685974,
          0.18175223090620463,
          -191.96563072587833,
          -320.74821430160324,
          28.653133731611405,
          179.23072597148268,
          228.6597003060972,
          -59.5161254785884,
          85.83025492803537,
          69.45867112569779,
          44.233778903926485,
          -32.45085489573344,
          93.9191225631887,
          28.185834046970662,
          206.00841196976896,
          60.22987294327138,
          67.10142194480635
         ],
         "yaxis": "y"
        }
       ],
       "layout": {
        "legend": {
         "tracegroupgap": 0
        },
        "template": {
         "data": {
          "bar": [
           {
            "error_x": {
             "color": "#2a3f5f"
            },
            "error_y": {
             "color": "#2a3f5f"
            },
            "marker": {
             "line": {
              "color": "#E5ECF6",
              "width": 0.5
             },
             "pattern": {
              "fillmode": "overlay",
              "size": 10,
              "solidity": 0.2
             }
            },
            "type": "bar"
           }
          ],
          "barpolar": [
           {
            "marker": {
             "line": {
              "color": "#E5ECF6",
              "width": 0.5
             },
             "pattern": {
              "fillmode": "overlay",
              "size": 10,
              "solidity": 0.2
             }
            },
            "type": "barpolar"
           }
          ],
          "carpet": [
           {
            "aaxis": {
             "endlinecolor": "#2a3f5f",
             "gridcolor": "white",
             "linecolor": "white",
             "minorgridcolor": "white",
             "startlinecolor": "#2a3f5f"
            },
            "baxis": {
             "endlinecolor": "#2a3f5f",
             "gridcolor": "white",
             "linecolor": "white",
             "minorgridcolor": "white",
             "startlinecolor": "#2a3f5f"
            },
            "type": "carpet"
           }
          ],
          "choropleth": [
           {
            "colorbar": {
             "outlinewidth": 0,
             "ticks": ""
            },
            "type": "choropleth"
           }
          ],
          "contour": [
           {
            "colorbar": {
             "outlinewidth": 0,
             "ticks": ""
            },
            "colorscale": [
             [
              0,
              "#0d0887"
             ],
             [
              0.1111111111111111,
              "#46039f"
             ],
             [
              0.2222222222222222,
              "#7201a8"
             ],
             [
              0.3333333333333333,
              "#9c179e"
             ],
             [
              0.4444444444444444,
              "#bd3786"
             ],
             [
              0.5555555555555556,
              "#d8576b"
             ],
             [
              0.6666666666666666,
              "#ed7953"
             ],
             [
              0.7777777777777778,
              "#fb9f3a"
             ],
             [
              0.8888888888888888,
              "#fdca26"
             ],
             [
              1,
              "#f0f921"
             ]
            ],
            "type": "contour"
           }
          ],
          "contourcarpet": [
           {
            "colorbar": {
             "outlinewidth": 0,
             "ticks": ""
            },
            "type": "contourcarpet"
           }
          ],
          "heatmap": [
           {
            "colorbar": {
             "outlinewidth": 0,
             "ticks": ""
            },
            "colorscale": [
             [
              0,
              "#0d0887"
             ],
             [
              0.1111111111111111,
              "#46039f"
             ],
             [
              0.2222222222222222,
              "#7201a8"
             ],
             [
              0.3333333333333333,
              "#9c179e"
             ],
             [
              0.4444444444444444,
              "#bd3786"
             ],
             [
              0.5555555555555556,
              "#d8576b"
             ],
             [
              0.6666666666666666,
              "#ed7953"
             ],
             [
              0.7777777777777778,
              "#fb9f3a"
             ],
             [
              0.8888888888888888,
              "#fdca26"
             ],
             [
              1,
              "#f0f921"
             ]
            ],
            "type": "heatmap"
           }
          ],
          "heatmapgl": [
           {
            "colorbar": {
             "outlinewidth": 0,
             "ticks": ""
            },
            "colorscale": [
             [
              0,
              "#0d0887"
             ],
             [
              0.1111111111111111,
              "#46039f"
             ],
             [
              0.2222222222222222,
              "#7201a8"
             ],
             [
              0.3333333333333333,
              "#9c179e"
             ],
             [
              0.4444444444444444,
              "#bd3786"
             ],
             [
              0.5555555555555556,
              "#d8576b"
             ],
             [
              0.6666666666666666,
              "#ed7953"
             ],
             [
              0.7777777777777778,
              "#fb9f3a"
             ],
             [
              0.8888888888888888,
              "#fdca26"
             ],
             [
              1,
              "#f0f921"
             ]
            ],
            "type": "heatmapgl"
           }
          ],
          "histogram": [
           {
            "marker": {
             "pattern": {
              "fillmode": "overlay",
              "size": 10,
              "solidity": 0.2
             }
            },
            "type": "histogram"
           }
          ],
          "histogram2d": [
           {
            "colorbar": {
             "outlinewidth": 0,
             "ticks": ""
            },
            "colorscale": [
             [
              0,
              "#0d0887"
             ],
             [
              0.1111111111111111,
              "#46039f"
             ],
             [
              0.2222222222222222,
              "#7201a8"
             ],
             [
              0.3333333333333333,
              "#9c179e"
             ],
             [
              0.4444444444444444,
              "#bd3786"
             ],
             [
              0.5555555555555556,
              "#d8576b"
             ],
             [
              0.6666666666666666,
              "#ed7953"
             ],
             [
              0.7777777777777778,
              "#fb9f3a"
             ],
             [
              0.8888888888888888,
              "#fdca26"
             ],
             [
              1,
              "#f0f921"
             ]
            ],
            "type": "histogram2d"
           }
          ],
          "histogram2dcontour": [
           {
            "colorbar": {
             "outlinewidth": 0,
             "ticks": ""
            },
            "colorscale": [
             [
              0,
              "#0d0887"
             ],
             [
              0.1111111111111111,
              "#46039f"
             ],
             [
              0.2222222222222222,
              "#7201a8"
             ],
             [
              0.3333333333333333,
              "#9c179e"
             ],
             [
              0.4444444444444444,
              "#bd3786"
             ],
             [
              0.5555555555555556,
              "#d8576b"
             ],
             [
              0.6666666666666666,
              "#ed7953"
             ],
             [
              0.7777777777777778,
              "#fb9f3a"
             ],
             [
              0.8888888888888888,
              "#fdca26"
             ],
             [
              1,
              "#f0f921"
             ]
            ],
            "type": "histogram2dcontour"
           }
          ],
          "mesh3d": [
           {
            "colorbar": {
             "outlinewidth": 0,
             "ticks": ""
            },
            "type": "mesh3d"
           }
          ],
          "parcoords": [
           {
            "line": {
             "colorbar": {
              "outlinewidth": 0,
              "ticks": ""
             }
            },
            "type": "parcoords"
           }
          ],
          "pie": [
           {
            "automargin": true,
            "type": "pie"
           }
          ],
          "scatter": [
           {
            "fillpattern": {
             "fillmode": "overlay",
             "size": 10,
             "solidity": 0.2
            },
            "type": "scatter"
           }
          ],
          "scatter3d": [
           {
            "line": {
             "colorbar": {
              "outlinewidth": 0,
              "ticks": ""
             }
            },
            "marker": {
             "colorbar": {
              "outlinewidth": 0,
              "ticks": ""
             }
            },
            "type": "scatter3d"
           }
          ],
          "scattercarpet": [
           {
            "marker": {
             "colorbar": {
              "outlinewidth": 0,
              "ticks": ""
             }
            },
            "type": "scattercarpet"
           }
          ],
          "scattergeo": [
           {
            "marker": {
             "colorbar": {
              "outlinewidth": 0,
              "ticks": ""
             }
            },
            "type": "scattergeo"
           }
          ],
          "scattergl": [
           {
            "marker": {
             "colorbar": {
              "outlinewidth": 0,
              "ticks": ""
             }
            },
            "type": "scattergl"
           }
          ],
          "scattermapbox": [
           {
            "marker": {
             "colorbar": {
              "outlinewidth": 0,
              "ticks": ""
             }
            },
            "type": "scattermapbox"
           }
          ],
          "scatterpolar": [
           {
            "marker": {
             "colorbar": {
              "outlinewidth": 0,
              "ticks": ""
             }
            },
            "type": "scatterpolar"
           }
          ],
          "scatterpolargl": [
           {
            "marker": {
             "colorbar": {
              "outlinewidth": 0,
              "ticks": ""
             }
            },
            "type": "scatterpolargl"
           }
          ],
          "scatterternary": [
           {
            "marker": {
             "colorbar": {
              "outlinewidth": 0,
              "ticks": ""
             }
            },
            "type": "scatterternary"
           }
          ],
          "surface": [
           {
            "colorbar": {
             "outlinewidth": 0,
             "ticks": ""
            },
            "colorscale": [
             [
              0,
              "#0d0887"
             ],
             [
              0.1111111111111111,
              "#46039f"
             ],
             [
              0.2222222222222222,
              "#7201a8"
             ],
             [
              0.3333333333333333,
              "#9c179e"
             ],
             [
              0.4444444444444444,
              "#bd3786"
             ],
             [
              0.5555555555555556,
              "#d8576b"
             ],
             [
              0.6666666666666666,
              "#ed7953"
             ],
             [
              0.7777777777777778,
              "#fb9f3a"
             ],
             [
              0.8888888888888888,
              "#fdca26"
             ],
             [
              1,
              "#f0f921"
             ]
            ],
            "type": "surface"
           }
          ],
          "table": [
           {
            "cells": {
             "fill": {
              "color": "#EBF0F8"
             },
             "line": {
              "color": "white"
             }
            },
            "header": {
             "fill": {
              "color": "#C8D4E3"
             },
             "line": {
              "color": "white"
             }
            },
            "type": "table"
           }
          ]
         },
         "layout": {
          "annotationdefaults": {
           "arrowcolor": "#2a3f5f",
           "arrowhead": 0,
           "arrowwidth": 1
          },
          "autotypenumbers": "strict",
          "coloraxis": {
           "colorbar": {
            "outlinewidth": 0,
            "ticks": ""
           }
          },
          "colorscale": {
           "diverging": [
            [
             0,
             "#8e0152"
            ],
            [
             0.1,
             "#c51b7d"
            ],
            [
             0.2,
             "#de77ae"
            ],
            [
             0.3,
             "#f1b6da"
            ],
            [
             0.4,
             "#fde0ef"
            ],
            [
             0.5,
             "#f7f7f7"
            ],
            [
             0.6,
             "#e6f5d0"
            ],
            [
             0.7,
             "#b8e186"
            ],
            [
             0.8,
             "#7fbc41"
            ],
            [
             0.9,
             "#4d9221"
            ],
            [
             1,
             "#276419"
            ]
           ],
           "sequential": [
            [
             0,
             "#0d0887"
            ],
            [
             0.1111111111111111,
             "#46039f"
            ],
            [
             0.2222222222222222,
             "#7201a8"
            ],
            [
             0.3333333333333333,
             "#9c179e"
            ],
            [
             0.4444444444444444,
             "#bd3786"
            ],
            [
             0.5555555555555556,
             "#d8576b"
            ],
            [
             0.6666666666666666,
             "#ed7953"
            ],
            [
             0.7777777777777778,
             "#fb9f3a"
            ],
            [
             0.8888888888888888,
             "#fdca26"
            ],
            [
             1,
             "#f0f921"
            ]
           ],
           "sequentialminus": [
            [
             0,
             "#0d0887"
            ],
            [
             0.1111111111111111,
             "#46039f"
            ],
            [
             0.2222222222222222,
             "#7201a8"
            ],
            [
             0.3333333333333333,
             "#9c179e"
            ],
            [
             0.4444444444444444,
             "#bd3786"
            ],
            [
             0.5555555555555556,
             "#d8576b"
            ],
            [
             0.6666666666666666,
             "#ed7953"
            ],
            [
             0.7777777777777778,
             "#fb9f3a"
            ],
            [
             0.8888888888888888,
             "#fdca26"
            ],
            [
             1,
             "#f0f921"
            ]
           ]
          },
          "colorway": [
           "#636efa",
           "#EF553B",
           "#00cc96",
           "#ab63fa",
           "#FFA15A",
           "#19d3f3",
           "#FF6692",
           "#B6E880",
           "#FF97FF",
           "#FECB52"
          ],
          "font": {
           "color": "#2a3f5f"
          },
          "geo": {
           "bgcolor": "white",
           "lakecolor": "white",
           "landcolor": "#E5ECF6",
           "showlakes": true,
           "showland": true,
           "subunitcolor": "white"
          },
          "hoverlabel": {
           "align": "left"
          },
          "hovermode": "closest",
          "mapbox": {
           "style": "light"
          },
          "paper_bgcolor": "white",
          "plot_bgcolor": "#E5ECF6",
          "polar": {
           "angularaxis": {
            "gridcolor": "white",
            "linecolor": "white",
            "ticks": ""
           },
           "bgcolor": "#E5ECF6",
           "radialaxis": {
            "gridcolor": "white",
            "linecolor": "white",
            "ticks": ""
           }
          },
          "scene": {
           "xaxis": {
            "backgroundcolor": "#E5ECF6",
            "gridcolor": "white",
            "gridwidth": 2,
            "linecolor": "white",
            "showbackground": true,
            "ticks": "",
            "zerolinecolor": "white"
           },
           "yaxis": {
            "backgroundcolor": "#E5ECF6",
            "gridcolor": "white",
            "gridwidth": 2,
            "linecolor": "white",
            "showbackground": true,
            "ticks": "",
            "zerolinecolor": "white"
           },
           "zaxis": {
            "backgroundcolor": "#E5ECF6",
            "gridcolor": "white",
            "gridwidth": 2,
            "linecolor": "white",
            "showbackground": true,
            "ticks": "",
            "zerolinecolor": "white"
           }
          },
          "shapedefaults": {
           "line": {
            "color": "#2a3f5f"
           }
          },
          "ternary": {
           "aaxis": {
            "gridcolor": "white",
            "linecolor": "white",
            "ticks": ""
           },
           "baxis": {
            "gridcolor": "white",
            "linecolor": "white",
            "ticks": ""
           },
           "bgcolor": "#E5ECF6",
           "caxis": {
            "gridcolor": "white",
            "linecolor": "white",
            "ticks": ""
           }
          },
          "title": {
           "x": 0.05
          },
          "xaxis": {
           "automargin": true,
           "gridcolor": "white",
           "linecolor": "white",
           "ticks": "",
           "title": {
            "standoff": 15
           },
           "zerolinecolor": "white",
           "zerolinewidth": 2
          },
          "yaxis": {
           "automargin": true,
           "gridcolor": "white",
           "linecolor": "white",
           "ticks": "",
           "title": {
            "standoff": 15
           },
           "zerolinecolor": "white",
           "zerolinewidth": 2
          }
         }
        },
        "title": {
         "text": "ACP"
        },
        "xaxis": {
         "anchor": "y",
         "domain": [
          0,
          1
         ],
         "title": {
          "text": "PC 1 (85.8%)"
         }
        },
        "yaxis": {
         "anchor": "x",
         "domain": [
          0,
          1
         ],
         "title": {
          "text": "PC 2 (6.9%)"
         }
        }
       }
      }
     },
     "metadata": {},
     "output_type": "display_data"
    }
   ],
   "source": [
    "pca = PCA(n_components=2)\n",
    "\n",
    "components = pca.fit_transform(df_termin.drop(columns=['propclassesavectbi']))\n",
    "\n",
    "df_ex = df_termin.drop(columns=['propclassesavectbi'])\n",
    "columns_names = df_ex.columns\n",
    "\n",
    "\n",
    "labels = {\n",
    "    str(i): f\"PC {i+1} ({var:.1f}%)\"\n",
    "    for i, var in enumerate(pca.explained_variance_ratio_ * 100)\n",
    "}\n",
    "\n",
    "fig = px.scatter(components, x=0, y=1, title='ACP', labels=labels)\n",
    "fig.show()\n"
   ]
  },
  {
   "attachments": {},
   "cell_type": "markdown",
   "metadata": {},
   "source": [
    "Nous avons une variance totale très satisfaisante. Nous trouvons une variance de 92.7 % approximativement. On a une très bonne redistribution de l'information. On peut interpréter sans se méfier des résultats. \n",
    "Ici, on peut voir que la plupart des individus sont tous ensemble au milieu, ils forment un groupe. Il existe cependant certains établissement atypiques qui se situent seuls à droite. On en sait pas plus, on a besoin de voir les variables pour pouvoir émettre des hypothèses sur leurs caractéristiques."
   ]
  },
  {
   "cell_type": "code",
   "execution_count": 37,
   "metadata": {},
   "outputs": [
    {
     "data": {
      "application/vnd.plotly.v1+json": {
       "config": {
        "plotlyServerURL": "https://plot.ly"
       },
       "data": [
        {
         "hovertemplate": "PC 1 (85.8%)=%{x}<br>PC 2 (6.9%)=%{y}<extra></extra>",
         "legendgroup": "",
         "marker": {
          "color": "#636efa",
          "symbol": "circle"
         },
         "mode": "markers",
         "name": "",
         "orientation": "v",
         "showlegend": false,
         "type": "scatter",
         "x": [
          -181.90614572024705,
          -210.94342900928172,
          114.88254055202783,
          -141.29927135778044,
          -44.48859595725075,
          -164.8718323444922,
          -160.1030425078329,
          -207.71239277466634,
          173.34411648903517,
          -219.89613289178317,
          -189.36271952357137,
          -227.72885402149055,
          158.82817987553145,
          -143.54252431211842,
          -116.2982370790943,
          -91.26093299045858,
          -216.86884496429423,
          -192.3024424330131,
          -159.14617318836434,
          -170.11061981056963,
          -122.9852323594821,
          354.15603134659915,
          369.7236635881613,
          -266.93432229926333,
          -253.6609274099583,
          -195.87847660802404,
          -186.64335247914903,
          107.63976500095487,
          214.69981887140264,
          -163.10485160460894,
          -281.5600438444969,
          -156.80726638809833,
          -200.7310723554058,
          -6.6954735033505335,
          -184.69579547102302,
          -207.59549608909302,
          -30.233516071886587,
          -251.3278383802017,
          -211.51434974248778,
          -144.68431827119355,
          370.8104450916702,
          33.83285966792917,
          -193.74844899858454,
          -211.59143876107595,
          109.2905845971085,
          -163.18000206128062,
          -276.13218710339805,
          -145.54295241333935,
          -75.72262942127907,
          -100.00144143272283,
          36.2197286189017,
          77.20220227801349,
          -226.15917156509036,
          -219.66934215585167,
          -115.12925699249672,
          -147.78650138908682,
          2818.719186824698,
          -179.55264959686136,
          -232.34609764076558,
          441.8415351837582,
          83.44292383451517,
          -175.41871359011213,
          -205.13719117147454,
          -238.54258789779215,
          -69.56974937775877,
          -125.83176695207419,
          -151.45220644803277,
          -209.4693794634265,
          -179.11124681067105,
          212.37318154621244,
          -103.42282881738569,
          -269.41474268514395,
          -18.61170479633234,
          -210.10154115556819,
          -181.26487635709643,
          -45.219708272552275,
          2614.071823583712,
          935.2016751187595,
          -218.68202338516997,
          -81.71328505465179,
          -54.069842664908236,
          -222.06514159809458,
          -162.37242183092656,
          697.9803637514314,
          -202.6042715212371,
          -81.16203069472317,
          -301.1203370261083,
          176.17620897407446,
          -17.10256600914469,
          -27.28103319441019,
          -20.60851730614308,
          -200.61683929850176,
          -165.01294954204383,
          1148.7301289764096,
          3535.187961836402,
          -237.11397626257954,
          -162.66117298509266,
          187.52676127368886,
          -245.28951931697188,
          -188.35874860103158,
          23.640628241800197,
          -194.10022367993378,
          -170.69997455256365,
          -205.56452594372107,
          -172.2166759446765,
          -205.85807876202347,
          262.9162452311105,
          -109.00619435750858,
          212.43332043636303,
          -103.47766784936663,
          -142.4735880758219,
          -11.099311294445172,
          -142.58963854415316,
          -133.0436562122497,
          -199.50600421134914,
          781.141437102538,
          -185.60313504201113,
          4303.303922969239,
          -121.81054900945453,
          -175.8766664540108,
          -195.97726401122978,
          -126.12307927615919,
          -206.9158602557655,
          -267.2650226710796,
          -247.5667938529737,
          388.0298218406991,
          594.7787226240158,
          -53.83515053272639,
          -270.3809412940717,
          193.111521723047,
          -33.6604672877684,
          -257.8897925643215,
          18.612036556758714,
          374.1863702574646,
          -99.87577038071377,
          176.09544150369263,
          -249.97175033215737,
          -206.06912940740082,
          -253.70903821272597,
          -249.41811288351653,
          528.1928449803711,
          -185.06019610397533,
          -142.50635523246427,
          -149.20398234197222,
          -232.90499921228908,
          -197.94975912575745,
          -192.83244035192993,
          -157.2704442138725,
          4.4266884758897,
          -233.2464470435263,
          -193.50958027132893,
          -160.9980149592512,
          567.853835826975,
          -176.55268332980867,
          -149.68901941667448,
          210.725098532317,
          -198.2318393453566,
          -147.42069747922628,
          -126.37215060719565,
          4.267877710512744,
          -179.0328632876746,
          306.9850472507857,
          -209.26388343500847,
          -160.23589560230005,
          -138.32702668519588,
          -143.4776963130478,
          -207.35898080523324,
          -136.14040385225806,
          -276.13058877989664,
          -252.60054738650098,
          -177.88493250553748,
          -247.7658355124748,
          -105.17296320460855,
          -187.44765674260557,
          -223.71866918717708,
          -77.57496724831346,
          -206.3140303969434,
          287.4523542434667,
          150.6083400201645,
          -81.87215402694622,
          -218.9893411809336,
          86.11966934222858,
          60.62417262521488,
          -156.43878192965127,
          583.5059707654289,
          -166.04940093997973,
          31.801512904835004,
          29.503165758326368,
          571.2602540852579,
          -28.524720967368566,
          -108.92774484970028,
          -278.0561616213573,
          506.6510157038712,
          160.66343148058962,
          -68.5001053785458,
          -156.22369656258238,
          -100.72361786036761,
          -175.99138997392748,
          -185.9395670305763,
          -240.5769171441695,
          -239.18951627592625,
          73.33190719967922,
          -115.32121159231411,
          -229.18487083257295,
          -138.48353111282253,
          -161.13696529325912,
          -167.69920404963491,
          289.8040824284917,
          -167.70775968613495,
          -41.7413268187988,
          -154.17929190805617,
          338.5526060537279,
          -264.06146677238434,
          -229.72011413465992,
          -271.8852433326448,
          91.00306978620475,
          -195.79294214791835,
          -100.13151027977045,
          138.2615797872761,
          225.24025641595892,
          -122.93648971256111,
          456.9134075444693,
          879.9115531711382,
          -88.12177522262078,
          -244.16904643678842,
          -183.29910621974372,
          -85.51368702744988,
          -148.54935261739487,
          -226.37920323135455,
          -201.62665463899566,
          611.7874245892493,
          -207.53591318283836,
          -220.75936379907648
         ],
         "xaxis": "x",
         "y": [
          11.644001612025807,
          45.88562720445923,
          -181.93929114467682,
          116.52436868978646,
          56.41652094254441,
          36.74371641004723,
          35.19500909095897,
          30.80396403447469,
          -272.297386301219,
          71.3463259844794,
          46.38050373779192,
          37.90297955460301,
          -161.36964200973316,
          -5.2748104080160845,
          -9.119812037595672,
          -26.501853958216085,
          70.55765524366723,
          32.24846827849427,
          0.061951282112567445,
          36.21658783838589,
          4.411573794969034,
          -363.4221406190969,
          -359.53474838684576,
          93.58666053451792,
          98.12799503477477,
          68.18540789758957,
          81.22328275448257,
          -147.40607510135854,
          -241.06067322221665,
          -1.7710359301569532,
          105.96001445556342,
          -4.58278108202446,
          117.5550029274314,
          -56.89732624348329,
          58.93279327833959,
          40.44865575368983,
          -126.98490550888428,
          83.17341968496133,
          73.21383696546107,
          26.400871839487195,
          87.27539547936814,
          -126.07274589563504,
          36.64461708270014,
          76.41472649137604,
          -148.9988555981246,
          24.463089624680254,
          89.31441000452531,
          -18.85251669588226,
          -11.805977573746727,
          4.728762009714412,
          -61.44602340729001,
          84.20350634782285,
          66.03093394335382,
          59.04667323676358,
          -26.12299207398013,
          0.34532840209067467,
          131.9009347064801,
          45.71732304487498,
          121.45832742706224,
          -402.1645786428393,
          -83.10846451989012,
          1.3952825610200206,
          53.587216392403406,
          77.84821237725895,
          2.8915099338735164,
          6.3450799704197856,
          34.40454831465257,
          39.806782383126425,
          30.21575724771618,
          -218.62292612549663,
          -8.328805532855693,
          96.74316710491166,
          -92.22507624513021,
          61.978132613927556,
          43.87589392427024,
          -51.63110919697009,
          86.06946512366625,
          48.14916997430724,
          77.45304869366143,
          24.388358436762033,
          17.709268805579097,
          76.07960574885017,
          35.239275732045726,
          340.2645038771708,
          97.35444285946683,
          -3.8925125252390966,
          116.03358496659348,
          102.29712360785236,
          -65.67626970475546,
          -76.77412846749804,
          -61.85728556302838,
          42.95820655298834,
          58.25240216609018,
          -17.08720914598411,
          813.2336689605996,
          78.7599421848304,
          23.079488324054402,
          -217.98700540434174,
          80.29188009930934,
          35.704867112934515,
          -104.78394336053657,
          40.07065631631534,
          36.17106514962798,
          55.94183039934097,
          22.04592976146614,
          42.783308711542844,
          -304.7923869339032,
          -30.577791329379764,
          -181.19117156046653,
          -8.36419846204819,
          25.42581470305742,
          -70.73085657934774,
          9.566003551925162,
          36.71701881549178,
          60.66099258067822,
          206.46564611230724,
          37.33848621575877,
          -57.17046380555332,
          21.00107317852132,
          20.091164291232126,
          88.38029261277076,
          12.749705514520173,
          43.766736459359045,
          93.13704667727484,
          80.54321626371824,
          67.3730347385101,
          58.59515690243849,
          -25.261016213231766,
          84.67065905719122,
          -201.84105801767305,
          -50.34996093078336,
          86.02328360183554,
          -80.67025963834473,
          -410.1518023972841,
          -10.165001381247011,
          220.28279708858716,
          71.48482180932074,
          52.50176330428837,
          87.30297368448588,
          89.10459075321953,
          -493.0391568692898,
          37.707540658072,
          48.483122855545346,
          19.635810821539167,
          56.69634604431817,
          83.59662566904221,
          53.02877706115961,
          27.732676865824335,
          -111.14338573870418,
          66.6317151416532,
          53.27597003790791,
          24.562225280545213,
          221.75335145340176,
          25.142522807105408,
          46.32641231448129,
          -250.9140940385029,
          59.881018106138896,
          28.88486117424833,
          50.2843280186575,
          -63.0380786103859,
          33.13156646304825,
          -299.627128656094,
          53.75182215787519,
          18.82258077961111,
          48.00280068286133,
          60.823526946019776,
          77.16510445623616,
          43.34085410657808,
          98.72711455180027,
          85.18050621541245,
          48.39130969869592,
          66.31609400594522,
          19.677980187217813,
          46.29092744615667,
          69.31630893469976,
          -14.58155039854445,
          42.956387089522394,
          -242.79179372441837,
          -178.43283164291114,
          26.844596217550283,
          71.51694976159095,
          -189.59113585706524,
          -128.0690656201276,
          6.866262217394103,
          -581.913779602375,
          41.32685190311662,
          -73.38685907575464,
          -90.54427122120269,
          -551.8410122940336,
          -111.17342229378518,
          -38.28860236722989,
          108.20683352860344,
          -506.71911565322154,
          -142.02389291388837,
          -26.77020011805738,
          28.264785178862187,
          -10.548473330159348,
          51.43997092817973,
          27.126796337553408,
          98.43532024708787,
          83.17051599315977,
          136.13319908318235,
          -15.002429080768595,
          104.76574963410559,
          48.86301065603935,
          37.21038480232295,
          38.430483987798006,
          -454.38299922608144,
          44.94127867502046,
          -107.45702985646521,
          39.698054014678654,
          -326.08114464839576,
          86.8033536414518,
          70.02698102611458,
          99.35586402999513,
          43.90055453866289,
          39.074311090685974,
          0.18175223090620463,
          -191.96563072587833,
          -320.74821430160324,
          28.653133731611405,
          179.23072597148268,
          228.6597003060972,
          -59.5161254785884,
          85.83025492803537,
          69.45867112569779,
          44.233778903926485,
          -32.45085489573344,
          93.9191225631887,
          28.185834046970662,
          206.00841196976896,
          60.22987294327138,
          67.10142194480635
         ],
         "yaxis": "y"
        }
       ],
       "layout": {
        "annotations": [
         {
          "ax": 0,
          "ay": 0,
          "text": "terminaux",
          "x": 313.20167317399586,
          "xanchor": "center",
          "y": -91.19056185030391,
          "yanchor": "bottom"
         },
         {
          "ax": 0,
          "ay": 0,
          "text": "tablette",
          "x": 15.928068188693391,
          "xanchor": "center",
          "y": 16.663563014339694,
          "yanchor": "bottom"
         },
         {
          "ax": 0,
          "ay": 0,
          "text": "tablettepc",
          "x": 57.649531916891064,
          "xanchor": "center",
          "y": 52.02522143762453,
          "yanchor": "bottom"
         },
         {
          "ax": 0,
          "ay": 0,
          "text": "micromoins5",
          "x": 255.74512930940267,
          "xanchor": "center",
          "y": -13.416031353591114,
          "yanchor": "bottom"
         },
         {
          "ax": 0,
          "ay": 0,
          "text": "microportable",
          "x": 222.03593206114542,
          "xanchor": "center",
          "y": 71.15294212477845,
          "yanchor": "bottom"
         },
         {
          "ax": 0,
          "ay": 0,
          "text": "portaffel",
          "x": 204.79796485924004,
          "xanchor": "center",
          "y": 63.55139984641943,
          "yanchor": "bottom"
         },
         {
          "ax": 0,
          "ay": 0,
          "text": "portaffens",
          "x": 3.010673897848202,
          "xanchor": "center",
          "y": 2.8232161142342616,
          "yanchor": "bottom"
         },
         {
          "ax": 0,
          "ay": 0,
          "text": "eleveeqash",
          "x": 0.22055300203277908,
          "xanchor": "center",
          "y": 0.28284876761705924,
          "yanchor": "bottom"
         },
         {
          "ax": 0,
          "ay": 0,
          "text": "posteeqash",
          "x": -0.07960387024839186,
          "xanchor": "center",
          "y": 0.2915064586458574,
          "yanchor": "bottom"
         },
         {
          "ax": 0,
          "ay": 0,
          "text": "tbi",
          "x": 1.608684325181152,
          "xanchor": "center",
          "y": -1.7911556183224904,
          "yanchor": "bottom"
         },
         {
          "ax": 0,
          "ay": 0,
          "text": "videoproj",
          "x": 8.504156041164027,
          "xanchor": "center",
          "y": -10.814557785824055,
          "yanchor": "bottom"
         },
         {
          "ax": 0,
          "ay": 0,
          "text": "classmobile",
          "x": 0.10502311675727907,
          "xanchor": "center",
          "y": -0.04294857314658932,
          "yanchor": "bottom"
         },
         {
          "ax": 0,
          "ay": 0,
          "text": "lecteurmpx",
          "x": -0.03683081565872645,
          "xanchor": "center",
          "y": -3.984083466312939,
          "yanchor": "bottom"
         },
         {
          "ax": 0,
          "ay": 0,
          "text": "impr3d",
          "x": 0.13495289616092832,
          "xanchor": "center",
          "y": -0.4822569220910399,
          "yanchor": "bottom"
         }
        ],
        "legend": {
         "tracegroupgap": 0
        },
        "shapes": [
         {
          "type": "line",
          "x0": 0,
          "x1": 313.20167317399586,
          "y0": 0,
          "y1": -91.19056185030391
         },
         {
          "type": "line",
          "x0": 0,
          "x1": 15.928068188693391,
          "y0": 0,
          "y1": 16.663563014339694
         },
         {
          "type": "line",
          "x0": 0,
          "x1": 57.649531916891064,
          "y0": 0,
          "y1": 52.02522143762453
         },
         {
          "type": "line",
          "x0": 0,
          "x1": 255.74512930940267,
          "y0": 0,
          "y1": -13.416031353591114
         },
         {
          "type": "line",
          "x0": 0,
          "x1": 222.03593206114542,
          "y0": 0,
          "y1": 71.15294212477845
         },
         {
          "type": "line",
          "x0": 0,
          "x1": 204.79796485924004,
          "y0": 0,
          "y1": 63.55139984641943
         },
         {
          "type": "line",
          "x0": 0,
          "x1": 3.010673897848202,
          "y0": 0,
          "y1": 2.8232161142342616
         },
         {
          "type": "line",
          "x0": 0,
          "x1": 0.22055300203277908,
          "y0": 0,
          "y1": 0.28284876761705924
         },
         {
          "type": "line",
          "x0": 0,
          "x1": -0.07960387024839186,
          "y0": 0,
          "y1": 0.2915064586458574
         },
         {
          "type": "line",
          "x0": 0,
          "x1": 1.608684325181152,
          "y0": 0,
          "y1": -1.7911556183224904
         },
         {
          "type": "line",
          "x0": 0,
          "x1": 8.504156041164027,
          "y0": 0,
          "y1": -10.814557785824055
         },
         {
          "type": "line",
          "x0": 0,
          "x1": 0.10502311675727907,
          "y0": 0,
          "y1": -0.04294857314658932
         },
         {
          "type": "line",
          "x0": 0,
          "x1": -0.03683081565872645,
          "y0": 0,
          "y1": -3.984083466312939
         },
         {
          "type": "line",
          "x0": 0,
          "x1": 0.13495289616092832,
          "y0": 0,
          "y1": -0.4822569220910399
         }
        ],
        "template": {
         "data": {
          "bar": [
           {
            "error_x": {
             "color": "#2a3f5f"
            },
            "error_y": {
             "color": "#2a3f5f"
            },
            "marker": {
             "line": {
              "color": "#E5ECF6",
              "width": 0.5
             },
             "pattern": {
              "fillmode": "overlay",
              "size": 10,
              "solidity": 0.2
             }
            },
            "type": "bar"
           }
          ],
          "barpolar": [
           {
            "marker": {
             "line": {
              "color": "#E5ECF6",
              "width": 0.5
             },
             "pattern": {
              "fillmode": "overlay",
              "size": 10,
              "solidity": 0.2
             }
            },
            "type": "barpolar"
           }
          ],
          "carpet": [
           {
            "aaxis": {
             "endlinecolor": "#2a3f5f",
             "gridcolor": "white",
             "linecolor": "white",
             "minorgridcolor": "white",
             "startlinecolor": "#2a3f5f"
            },
            "baxis": {
             "endlinecolor": "#2a3f5f",
             "gridcolor": "white",
             "linecolor": "white",
             "minorgridcolor": "white",
             "startlinecolor": "#2a3f5f"
            },
            "type": "carpet"
           }
          ],
          "choropleth": [
           {
            "colorbar": {
             "outlinewidth": 0,
             "ticks": ""
            },
            "type": "choropleth"
           }
          ],
          "contour": [
           {
            "colorbar": {
             "outlinewidth": 0,
             "ticks": ""
            },
            "colorscale": [
             [
              0,
              "#0d0887"
             ],
             [
              0.1111111111111111,
              "#46039f"
             ],
             [
              0.2222222222222222,
              "#7201a8"
             ],
             [
              0.3333333333333333,
              "#9c179e"
             ],
             [
              0.4444444444444444,
              "#bd3786"
             ],
             [
              0.5555555555555556,
              "#d8576b"
             ],
             [
              0.6666666666666666,
              "#ed7953"
             ],
             [
              0.7777777777777778,
              "#fb9f3a"
             ],
             [
              0.8888888888888888,
              "#fdca26"
             ],
             [
              1,
              "#f0f921"
             ]
            ],
            "type": "contour"
           }
          ],
          "contourcarpet": [
           {
            "colorbar": {
             "outlinewidth": 0,
             "ticks": ""
            },
            "type": "contourcarpet"
           }
          ],
          "heatmap": [
           {
            "colorbar": {
             "outlinewidth": 0,
             "ticks": ""
            },
            "colorscale": [
             [
              0,
              "#0d0887"
             ],
             [
              0.1111111111111111,
              "#46039f"
             ],
             [
              0.2222222222222222,
              "#7201a8"
             ],
             [
              0.3333333333333333,
              "#9c179e"
             ],
             [
              0.4444444444444444,
              "#bd3786"
             ],
             [
              0.5555555555555556,
              "#d8576b"
             ],
             [
              0.6666666666666666,
              "#ed7953"
             ],
             [
              0.7777777777777778,
              "#fb9f3a"
             ],
             [
              0.8888888888888888,
              "#fdca26"
             ],
             [
              1,
              "#f0f921"
             ]
            ],
            "type": "heatmap"
           }
          ],
          "heatmapgl": [
           {
            "colorbar": {
             "outlinewidth": 0,
             "ticks": ""
            },
            "colorscale": [
             [
              0,
              "#0d0887"
             ],
             [
              0.1111111111111111,
              "#46039f"
             ],
             [
              0.2222222222222222,
              "#7201a8"
             ],
             [
              0.3333333333333333,
              "#9c179e"
             ],
             [
              0.4444444444444444,
              "#bd3786"
             ],
             [
              0.5555555555555556,
              "#d8576b"
             ],
             [
              0.6666666666666666,
              "#ed7953"
             ],
             [
              0.7777777777777778,
              "#fb9f3a"
             ],
             [
              0.8888888888888888,
              "#fdca26"
             ],
             [
              1,
              "#f0f921"
             ]
            ],
            "type": "heatmapgl"
           }
          ],
          "histogram": [
           {
            "marker": {
             "pattern": {
              "fillmode": "overlay",
              "size": 10,
              "solidity": 0.2
             }
            },
            "type": "histogram"
           }
          ],
          "histogram2d": [
           {
            "colorbar": {
             "outlinewidth": 0,
             "ticks": ""
            },
            "colorscale": [
             [
              0,
              "#0d0887"
             ],
             [
              0.1111111111111111,
              "#46039f"
             ],
             [
              0.2222222222222222,
              "#7201a8"
             ],
             [
              0.3333333333333333,
              "#9c179e"
             ],
             [
              0.4444444444444444,
              "#bd3786"
             ],
             [
              0.5555555555555556,
              "#d8576b"
             ],
             [
              0.6666666666666666,
              "#ed7953"
             ],
             [
              0.7777777777777778,
              "#fb9f3a"
             ],
             [
              0.8888888888888888,
              "#fdca26"
             ],
             [
              1,
              "#f0f921"
             ]
            ],
            "type": "histogram2d"
           }
          ],
          "histogram2dcontour": [
           {
            "colorbar": {
             "outlinewidth": 0,
             "ticks": ""
            },
            "colorscale": [
             [
              0,
              "#0d0887"
             ],
             [
              0.1111111111111111,
              "#46039f"
             ],
             [
              0.2222222222222222,
              "#7201a8"
             ],
             [
              0.3333333333333333,
              "#9c179e"
             ],
             [
              0.4444444444444444,
              "#bd3786"
             ],
             [
              0.5555555555555556,
              "#d8576b"
             ],
             [
              0.6666666666666666,
              "#ed7953"
             ],
             [
              0.7777777777777778,
              "#fb9f3a"
             ],
             [
              0.8888888888888888,
              "#fdca26"
             ],
             [
              1,
              "#f0f921"
             ]
            ],
            "type": "histogram2dcontour"
           }
          ],
          "mesh3d": [
           {
            "colorbar": {
             "outlinewidth": 0,
             "ticks": ""
            },
            "type": "mesh3d"
           }
          ],
          "parcoords": [
           {
            "line": {
             "colorbar": {
              "outlinewidth": 0,
              "ticks": ""
             }
            },
            "type": "parcoords"
           }
          ],
          "pie": [
           {
            "automargin": true,
            "type": "pie"
           }
          ],
          "scatter": [
           {
            "fillpattern": {
             "fillmode": "overlay",
             "size": 10,
             "solidity": 0.2
            },
            "type": "scatter"
           }
          ],
          "scatter3d": [
           {
            "line": {
             "colorbar": {
              "outlinewidth": 0,
              "ticks": ""
             }
            },
            "marker": {
             "colorbar": {
              "outlinewidth": 0,
              "ticks": ""
             }
            },
            "type": "scatter3d"
           }
          ],
          "scattercarpet": [
           {
            "marker": {
             "colorbar": {
              "outlinewidth": 0,
              "ticks": ""
             }
            },
            "type": "scattercarpet"
           }
          ],
          "scattergeo": [
           {
            "marker": {
             "colorbar": {
              "outlinewidth": 0,
              "ticks": ""
             }
            },
            "type": "scattergeo"
           }
          ],
          "scattergl": [
           {
            "marker": {
             "colorbar": {
              "outlinewidth": 0,
              "ticks": ""
             }
            },
            "type": "scattergl"
           }
          ],
          "scattermapbox": [
           {
            "marker": {
             "colorbar": {
              "outlinewidth": 0,
              "ticks": ""
             }
            },
            "type": "scattermapbox"
           }
          ],
          "scatterpolar": [
           {
            "marker": {
             "colorbar": {
              "outlinewidth": 0,
              "ticks": ""
             }
            },
            "type": "scatterpolar"
           }
          ],
          "scatterpolargl": [
           {
            "marker": {
             "colorbar": {
              "outlinewidth": 0,
              "ticks": ""
             }
            },
            "type": "scatterpolargl"
           }
          ],
          "scatterternary": [
           {
            "marker": {
             "colorbar": {
              "outlinewidth": 0,
              "ticks": ""
             }
            },
            "type": "scatterternary"
           }
          ],
          "surface": [
           {
            "colorbar": {
             "outlinewidth": 0,
             "ticks": ""
            },
            "colorscale": [
             [
              0,
              "#0d0887"
             ],
             [
              0.1111111111111111,
              "#46039f"
             ],
             [
              0.2222222222222222,
              "#7201a8"
             ],
             [
              0.3333333333333333,
              "#9c179e"
             ],
             [
              0.4444444444444444,
              "#bd3786"
             ],
             [
              0.5555555555555556,
              "#d8576b"
             ],
             [
              0.6666666666666666,
              "#ed7953"
             ],
             [
              0.7777777777777778,
              "#fb9f3a"
             ],
             [
              0.8888888888888888,
              "#fdca26"
             ],
             [
              1,
              "#f0f921"
             ]
            ],
            "type": "surface"
           }
          ],
          "table": [
           {
            "cells": {
             "fill": {
              "color": "#EBF0F8"
             },
             "line": {
              "color": "white"
             }
            },
            "header": {
             "fill": {
              "color": "#C8D4E3"
             },
             "line": {
              "color": "white"
             }
            },
            "type": "table"
           }
          ]
         },
         "layout": {
          "annotationdefaults": {
           "arrowcolor": "#2a3f5f",
           "arrowhead": 0,
           "arrowwidth": 1
          },
          "autotypenumbers": "strict",
          "coloraxis": {
           "colorbar": {
            "outlinewidth": 0,
            "ticks": ""
           }
          },
          "colorscale": {
           "diverging": [
            [
             0,
             "#8e0152"
            ],
            [
             0.1,
             "#c51b7d"
            ],
            [
             0.2,
             "#de77ae"
            ],
            [
             0.3,
             "#f1b6da"
            ],
            [
             0.4,
             "#fde0ef"
            ],
            [
             0.5,
             "#f7f7f7"
            ],
            [
             0.6,
             "#e6f5d0"
            ],
            [
             0.7,
             "#b8e186"
            ],
            [
             0.8,
             "#7fbc41"
            ],
            [
             0.9,
             "#4d9221"
            ],
            [
             1,
             "#276419"
            ]
           ],
           "sequential": [
            [
             0,
             "#0d0887"
            ],
            [
             0.1111111111111111,
             "#46039f"
            ],
            [
             0.2222222222222222,
             "#7201a8"
            ],
            [
             0.3333333333333333,
             "#9c179e"
            ],
            [
             0.4444444444444444,
             "#bd3786"
            ],
            [
             0.5555555555555556,
             "#d8576b"
            ],
            [
             0.6666666666666666,
             "#ed7953"
            ],
            [
             0.7777777777777778,
             "#fb9f3a"
            ],
            [
             0.8888888888888888,
             "#fdca26"
            ],
            [
             1,
             "#f0f921"
            ]
           ],
           "sequentialminus": [
            [
             0,
             "#0d0887"
            ],
            [
             0.1111111111111111,
             "#46039f"
            ],
            [
             0.2222222222222222,
             "#7201a8"
            ],
            [
             0.3333333333333333,
             "#9c179e"
            ],
            [
             0.4444444444444444,
             "#bd3786"
            ],
            [
             0.5555555555555556,
             "#d8576b"
            ],
            [
             0.6666666666666666,
             "#ed7953"
            ],
            [
             0.7777777777777778,
             "#fb9f3a"
            ],
            [
             0.8888888888888888,
             "#fdca26"
            ],
            [
             1,
             "#f0f921"
            ]
           ]
          },
          "colorway": [
           "#636efa",
           "#EF553B",
           "#00cc96",
           "#ab63fa",
           "#FFA15A",
           "#19d3f3",
           "#FF6692",
           "#B6E880",
           "#FF97FF",
           "#FECB52"
          ],
          "font": {
           "color": "#2a3f5f"
          },
          "geo": {
           "bgcolor": "white",
           "lakecolor": "white",
           "landcolor": "#E5ECF6",
           "showlakes": true,
           "showland": true,
           "subunitcolor": "white"
          },
          "hoverlabel": {
           "align": "left"
          },
          "hovermode": "closest",
          "mapbox": {
           "style": "light"
          },
          "paper_bgcolor": "white",
          "plot_bgcolor": "#E5ECF6",
          "polar": {
           "angularaxis": {
            "gridcolor": "white",
            "linecolor": "white",
            "ticks": ""
           },
           "bgcolor": "#E5ECF6",
           "radialaxis": {
            "gridcolor": "white",
            "linecolor": "white",
            "ticks": ""
           }
          },
          "scene": {
           "xaxis": {
            "backgroundcolor": "#E5ECF6",
            "gridcolor": "white",
            "gridwidth": 2,
            "linecolor": "white",
            "showbackground": true,
            "ticks": "",
            "zerolinecolor": "white"
           },
           "yaxis": {
            "backgroundcolor": "#E5ECF6",
            "gridcolor": "white",
            "gridwidth": 2,
            "linecolor": "white",
            "showbackground": true,
            "ticks": "",
            "zerolinecolor": "white"
           },
           "zaxis": {
            "backgroundcolor": "#E5ECF6",
            "gridcolor": "white",
            "gridwidth": 2,
            "linecolor": "white",
            "showbackground": true,
            "ticks": "",
            "zerolinecolor": "white"
           }
          },
          "shapedefaults": {
           "line": {
            "color": "#2a3f5f"
           }
          },
          "ternary": {
           "aaxis": {
            "gridcolor": "white",
            "linecolor": "white",
            "ticks": ""
           },
           "baxis": {
            "gridcolor": "white",
            "linecolor": "white",
            "ticks": ""
           },
           "bgcolor": "#E5ECF6",
           "caxis": {
            "gridcolor": "white",
            "linecolor": "white",
            "ticks": ""
           }
          },
          "title": {
           "x": 0.05
          },
          "xaxis": {
           "automargin": true,
           "gridcolor": "white",
           "linecolor": "white",
           "ticks": "",
           "title": {
            "standoff": 15
           },
           "zerolinecolor": "white",
           "zerolinewidth": 2
          },
          "yaxis": {
           "automargin": true,
           "gridcolor": "white",
           "linecolor": "white",
           "ticks": "",
           "title": {
            "standoff": 15
           },
           "zerolinecolor": "white",
           "zerolinewidth": 2
          }
         }
        },
        "title": {
         "text": "ACP"
        },
        "xaxis": {
         "anchor": "y",
         "domain": [
          0,
          1
         ],
         "title": {
          "text": "PC 1 (85.8%)"
         }
        },
        "yaxis": {
         "anchor": "x",
         "domain": [
          0,
          1
         ],
         "title": {
          "text": "PC 2 (6.9%)"
         }
        }
       }
      }
     },
     "metadata": {},
     "output_type": "display_data"
    }
   ],
   "source": [
    "#Visualisation des variables\n",
    "loadings = pca.components_.T * np.sqrt(pca.explained_variance_)\n",
    "\n",
    "for i, column in enumerate(columns_names):\n",
    "    fig.add_shape(\n",
    "        type='line',\n",
    "        x0=0, y0=0,\n",
    "        x1=loadings[i, 0],\n",
    "        y1=loadings[i, 1]\n",
    "    )\n",
    "    fig.add_annotation(\n",
    "        x=loadings[i, 0],\n",
    "        y=loadings[i, 1],\n",
    "        ax=0, ay=0,\n",
    "        xanchor=\"center\",\n",
    "        yanchor=\"bottom\",\n",
    "        text=column\n",
    "    )\n",
    "\n",
    "fig.show()"
   ]
  },
  {
   "attachments": {},
   "cell_type": "markdown",
   "metadata": {},
   "source": [
    "Il est difficile d'interpréter cette ACP et la corrélation entre les différentes variables car nous en avons beaucoup. Grâce à la matrice de corrélation nous avons pu savoir si il existait une corrélation entre les différentes variables. Ce qu'on peut remarquer c'est que beaucoup d'individus se positionnent le long de l'axe terminaux, ce qui veut dire que les établissements en général ont beaucoup de terminaux.\n",
    "Grâce à ce graphique, nous pouvons comprendre que les établissements atypiques à droite sont des établissement très bien équipés en ce qui concerne des terminaux, ce sont des établissements qui ont mis en place des moyens physiques numériques."
   ]
  },
  {
   "cell_type": "code",
   "execution_count": 17,
   "metadata": {},
   "outputs": [],
   "source": [
    "pca_2 = pc.PCA(\n",
    "    n_components=2,\n",
    "    random_state=0,\n",
    "    n_iter=100,\n",
    "    rescale_with_mean=True,\n",
    "    rescale_with_std=True,\n",
    "    copy=True,\n",
    "    engine='auto',\n",
    "    check_input=True\n",
    ")\n",
    "\n",
    "pca_2 = pca_2.fit(df_termin.drop(columns=['propclassesavectbi']))"
   ]
  },
  {
   "cell_type": "code",
   "execution_count": 18,
   "metadata": {},
   "outputs": [
    {
     "name": "stderr",
     "output_type": "stream",
     "text": [
      "No artists with labels found to put in legend.  Note that artists whose label start with an underscore are ignored when legend() is called with no argument.\n"
     ]
    },
    {
     "data": {
      "image/png": "[encoded data removed]",
      "text/plain": [
       "<Figure size 1000x1000 with 1 Axes>"
      ]
     },
     "metadata": {},
     "output_type": "display_data"
    }
   ],
   "source": [
    "ax_2 = pca_2.plot_row_coordinates(\n",
    "    df_termin.drop(columns=['propclassesavectbi']),\n",
    "    ax=None,\n",
    "    figsize=(10, 10),\n",
    "    x_component=0,\n",
    "    y_component=1,\n",
    "    labels=None,\n",
    "    color_labels=None\n",
    ")"
   ]
  },
  {
   "attachments": {},
   "cell_type": "markdown",
   "metadata": {},
   "source": [
    "### *Clustering*\n",
    "\n",
    "On va maintenant procéder à du clustering pour pouvoir discrétiser toutes ces colonnes qui sont liées en une seule colonne. On va accorder une modalité à chaque classe. Nous allons utiliser l'algorithme de `KMeans`.\n",
    "\n",
    "On va procéder à plusieurs essais avec différents paramètres et nous présenterons seulement les paramètres que nous avons jugés intéressants ci-dessous.\n",
    "\n",
    "On va inclure dans la classification non supervisé la colonne `propclassesavectbi` que nous allons transformer en valeurs numériques pour chaque modalité. On va d'abord voir le nombre de modalités qu'il existe pour ensuite accorder à chaque modalité un chiffre."
   ]
  },
  {
   "cell_type": "code",
   "execution_count": 47,
   "metadata": {},
   "outputs": [
    {
     "data": {
      "text/plain": [
       "0.0    157\n",
       "1.0     55\n",
       "2.0     21\n",
       "Name: propclassesavectbi, dtype: int64"
      ]
     },
     "execution_count": 47,
     "metadata": {},
     "output_type": "execute_result"
    }
   ],
   "source": [
    "df_termin.propclassesavectbi.value_counts()"
   ]
  },
  {
   "attachments": {},
   "cell_type": "markdown",
   "metadata": {},
   "source": [
    "Nous avons ici 3 valeurs, nous allons accorder à chacune :\n",
    "- 'Mois20pct' : 0\n",
    "- '20pcta50pct' : 1\n",
    "- '50pctOuPlus' : 2"
   ]
  },
  {
   "cell_type": "code",
   "execution_count": 43,
   "metadata": {},
   "outputs": [
    {
     "data": {
      "text/plain": [
       "0.0    157\n",
       "1.0     55\n",
       "2.0     21\n",
       "Name: propclassesavectbi, dtype: int64"
      ]
     },
     "execution_count": 43,
     "metadata": {},
     "output_type": "execute_result"
    }
   ],
   "source": [
    "df_termin.propclassesavectbi = df_termin.propclassesavectbi.replace({\"Mois20pct\" : 0, \"20pcta50pct\" : 1, \"50pctOuPlus\" : 2})\n",
    "df_termin.propclassesavectbi = df_termin.propclassesavectbi.astype('float64')\n",
    "\n",
    "df_termin.propclassesavectbi.value_counts()"
   ]
  },
  {
   "cell_type": "code",
   "execution_count": 48,
   "metadata": {},
   "outputs": [
    {
     "data": {
      "text/html": [
       "<div>\n",
       "<style scoped>\n",
       "    .dataframe tbody tr th:only-of-type {\n",
       "        vertical-align: middle;\n",
       "    }\n",
       "\n",
       "    .dataframe tbody tr th {\n",
       "        vertical-align: top;\n",
       "    }\n",
       "\n",
       "    .dataframe thead th {\n",
       "        text-align: right;\n",
       "    }\n",
       "</style>\n",
       "<table border=\"1\" class=\"dataframe\">\n",
       "  <thead>\n",
       "    <tr style=\"text-align: right;\">\n",
       "      <th></th>\n",
       "      <th>terminaux</th>\n",
       "      <th>tablette</th>\n",
       "      <th>tablettepc</th>\n",
       "      <th>micromoins5</th>\n",
       "      <th>microportable</th>\n",
       "      <th>portaffel</th>\n",
       "      <th>portaffens</th>\n",
       "      <th>eleveeqash</th>\n",
       "      <th>posteeqash</th>\n",
       "      <th>tbi</th>\n",
       "      <th>propclassesavectbi</th>\n",
       "      <th>videoproj</th>\n",
       "      <th>classmobile</th>\n",
       "      <th>lecteurmpx</th>\n",
       "      <th>impr3d</th>\n",
       "    </tr>\n",
       "  </thead>\n",
       "  <tbody>\n",
       "    <tr>\n",
       "      <th>0</th>\n",
       "      <td>168.691489</td>\n",
       "      <td>16.281915</td>\n",
       "      <td>3.265957</td>\n",
       "      <td>88.840426</td>\n",
       "      <td>27.228723</td>\n",
       "      <td>5.202128</td>\n",
       "      <td>5.728723</td>\n",
       "      <td>2.000000</td>\n",
       "      <td>1.515957</td>\n",
       "      <td>5.367021</td>\n",
       "      <td>0.430851</td>\n",
       "      <td>20.324468</td>\n",
       "      <td>1.042553</td>\n",
       "      <td>7.803191</td>\n",
       "      <td>0.627660</td>\n",
       "    </tr>\n",
       "    <tr>\n",
       "      <th>1</th>\n",
       "      <td>2145.000000</td>\n",
       "      <td>7.500000</td>\n",
       "      <td>401.250000</td>\n",
       "      <td>1827.250000</td>\n",
       "      <td>1652.500000</td>\n",
       "      <td>1550.000000</td>\n",
       "      <td>9.000000</td>\n",
       "      <td>2.500000</td>\n",
       "      <td>0.000000</td>\n",
       "      <td>8.500000</td>\n",
       "      <td>0.500000</td>\n",
       "      <td>62.750000</td>\n",
       "      <td>1.000000</td>\n",
       "      <td>0.000000</td>\n",
       "      <td>0.250000</td>\n",
       "    </tr>\n",
       "    <tr>\n",
       "      <th>2</th>\n",
       "      <td>640.966667</td>\n",
       "      <td>24.766667</td>\n",
       "      <td>1.600000</td>\n",
       "      <td>332.266667</td>\n",
       "      <td>35.300000</td>\n",
       "      <td>2.966667</td>\n",
       "      <td>4.100000</td>\n",
       "      <td>1.300000</td>\n",
       "      <td>1.233333</td>\n",
       "      <td>11.200000</td>\n",
       "      <td>0.166667</td>\n",
       "      <td>52.800000</td>\n",
       "      <td>1.133333</td>\n",
       "      <td>19.266667</td>\n",
       "      <td>1.833333</td>\n",
       "    </tr>\n",
       "    <tr>\n",
       "      <th>3</th>\n",
       "      <td>636.909091</td>\n",
       "      <td>275.909091</td>\n",
       "      <td>140.272727</td>\n",
       "      <td>460.545455</td>\n",
       "      <td>458.545455</td>\n",
       "      <td>353.181818</td>\n",
       "      <td>42.454545</td>\n",
       "      <td>3.727273</td>\n",
       "      <td>3.272727</td>\n",
       "      <td>14.272727</td>\n",
       "      <td>0.818182</td>\n",
       "      <td>23.909091</td>\n",
       "      <td>1.272727</td>\n",
       "      <td>3.454545</td>\n",
       "      <td>1.363636</td>\n",
       "    </tr>\n",
       "  </tbody>\n",
       "</table>\n",
       "</div>"
      ],
      "text/plain": [
       "     terminaux    tablette  tablettepc  micromoins5  microportable  \\\n",
       "0   168.691489   16.281915    3.265957    88.840426      27.228723   \n",
       "1  2145.000000    7.500000  401.250000  1827.250000    1652.500000   \n",
       "2   640.966667   24.766667    1.600000   332.266667      35.300000   \n",
       "3   636.909091  275.909091  140.272727   460.545455     458.545455   \n",
       "\n",
       "     portaffel  portaffens  eleveeqash  posteeqash        tbi  \\\n",
       "0     5.202128    5.728723    2.000000    1.515957   5.367021   \n",
       "1  1550.000000    9.000000    2.500000    0.000000   8.500000   \n",
       "2     2.966667    4.100000    1.300000    1.233333  11.200000   \n",
       "3   353.181818   42.454545    3.727273    3.272727  14.272727   \n",
       "\n",
       "   propclassesavectbi  videoproj  classmobile  lecteurmpx    impr3d  \n",
       "0            0.430851  20.324468     1.042553    7.803191  0.627660  \n",
       "1            0.500000  62.750000     1.000000    0.000000  0.250000  \n",
       "2            0.166667  52.800000     1.133333   19.266667  1.833333  \n",
       "3            0.818182  23.909091     1.272727    3.454545  1.363636  "
      ]
     },
     "execution_count": 48,
     "metadata": {},
     "output_type": "execute_result"
    }
   ],
   "source": [
    "km_termin = KMeans(\n",
    "    n_clusters=4,\n",
    "    init='k-means++',\n",
    "    n_init=20,\n",
    "    max_iter=1000,\n",
    "    random_state=42\n",
    ")\n",
    "\n",
    "y_km_termin = km_termin.fit_predict(df_termin)\n",
    "\n",
    "resultat = pd.DataFrame(km_termin.cluster_centers_, columns=km_termin.feature_names_in_)\n",
    "\n",
    "resultat"
   ]
  }
 ],
 "metadata": {
  "kernelspec": {
   "display_name": "Python 3",
   "language": "python",
   "name": "python3"
  },
  "language_info": {
   "codemirror_mode": {
    "name": "ipython",
    "version": 3
   },
   "file_extension": ".py",
   "mimetype": "text/x-python",
   "name": "python",
   "nbconvert_exporter": "python",
   "pygments_lexer": "ipython3",
   "version": "3.10.9"
  },
  "orig_nbformat": 4,
  "vscode": {
   "interpreter": {
    "hash": "2349f8cba88a5b2d1d390f83a8a5748abc4e6656a2f4a0a7bc22dd7876009b29"
   }
  }
 },
 "nbformat": 4,
 "nbformat_minor": 2
}
