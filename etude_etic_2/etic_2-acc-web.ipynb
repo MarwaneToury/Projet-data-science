{
 "cells": [
  {
   "attachments": {},
   "cell_type": "markdown",
   "metadata": {},
   "source": [
    "# **Clustering Debit internet**\n",
    "\n",
    "Nous allons procèder ici à un clustering pour pouvoir discrétiser en une colonne les colonnes suivantes : \n",
    "- *`AccWeb_rtc`* \n",
    "- *`AccWeb_cablefibreoptique`* \n",
    "- *`AccWeb_adsl`* \n",
    "- *`AccWeb_autreshautdebit`* \n",
    "- *`AccWeb_nesaitpas`*\n",
    "- *`AccWeb_aucun`*\n",
    "- *`DebitWeb`*\n",
    "\n",
    "Nous nous permettons de discrétiser ces colonnes car elles sont toutes liées, elles concernent l'accés au WEB. Comme ce sont des questions, on préférerait avoir une seule colonne qui donne le niveau d'accés Web, par exemple \"Très bon\" ou \"Mauvais\".\n",
    "Pour faire cela, nous allons recourir un algorithme de classification non supervisée qui est **KMeans** qui va permettre de rassembler les établissements qui se ressemblent le plus et dégager des groupes sans connaître à l'avance les classes souhaitées.\n",
    "\n",
    "### *Import des bibliothèques*"
   ]
  },
  {
   "cell_type": "code",
   "execution_count": 1,
   "metadata": {},
   "outputs": [],
   "source": [
    "import pandas as pd\n",
    "import prince as pc\n",
    "from sklearn.cluster import KMeans\n",
    "from sklearn.decomposition import PCA\n",
    "import plotly_express as px\n",
    "import plotly.graph_objects as go\n",
    "from sklearn.preprocessing import StandardScaler\n",
    "\n",
    "# import image module\n",
    "from IPython.display import Image\n",
    "import kaleido\n",
    "import io\n",
    "from PIL import Image as ImagePIL"
   ]
  },
  {
   "attachments": {},
   "cell_type": "markdown",
   "metadata": {},
   "source": [
    "### *Import des données et leur traitement*"
   ]
  },
  {
   "cell_type": "code",
   "execution_count": 2,
   "metadata": {},
   "outputs": [
    {
     "data": {
      "text/plain": [
       "Index(['Code_UAI', 'Millesime', 'Code_nature', 'nature_uai', 'typ_etab',\n",
       "       'Academie', 'Departement', 'NbEleve', 'NbEnseignant',\n",
       "       'SiEtabCentreRessource', 'SiProjetNumEcole', 'SiEntDisponible',\n",
       "       'SiProjEtabIntegreENT', 'Maint_PersCollect', 'Maint_PrestaExt',\n",
       "       'Maint_PersonnelEducNatHsEtab', 'Maint_PersonnelEtab',\n",
       "       'Maint_AutreNeSaitPas', 'Maint_Personne', 'NbRessourceEdit',\n",
       "       'TpRess_ManuelNum', 'TpRess_AnimScienLogiSimu', 'TpRess_Bdd',\n",
       "       'TpRess_LogiOutils', 'TpRess_OuvRef', 'TpRess_ResEntrainement',\n",
       "       'TpRess_Autres', 'TpRess_aucune', 'ServInt_NoteElev', 'ServInt_AbsElev',\n",
       "       'ServInt_EdtElevCls', 'ServInt_CahierTxt', 'ServInt_DocRessPeda',\n",
       "       'ServInt_AgdActuEtab', 'ServInt_PlatApp', 'ServInt_Autres',\n",
       "       'ServInt_aucun', 'NbTerminaux', 'NbTablette', 'NbTablettePC',\n",
       "       'NbMicroMoins5', 'NbMicroPortable', 'NbPortAffEl', 'NbPortAffEns',\n",
       "       'NbEleveEqASH', 'NbPosteEqASH', 'NbTBI', 'propClassesAvecTBI',\n",
       "       'NbVideoProj', 'NbClassMobile', 'NbLecteurMpx', 'NbImpr3D',\n",
       "       'AccWeb_RTC', 'AccWeb_CableFibreOptique', 'AccWeb_ADSL',\n",
       "       'AccWeb_AutresHautDebit', 'AccWeb_NeSaitPas', 'AccWeb_Aucun',\n",
       "       'DebitWeb', 'SiWifi', 'SalleInternet', 'PostesInfoElvHorsCours',\n",
       "       'SiPareFeuEtab', 'SiOuifiltrageWeb', 'ControlePosteriori',\n",
       "       'SiCharteUsageWeb', 'Diffch_AnnexeeRI',\n",
       "       'Diffch_DossierRentreeEnseignants', 'Diffch_CRConseilAdmin',\n",
       "       'Diffch_DiffusionParents', 'Diffch_Autres', 'AccesParentCharte',\n",
       "       'ElvAuthentif', 'SiVisioConferenc', 'SiEntUtilise',\n",
       "       'TypeMatHandi_Tablette', 'TypeMatHandi_OrdiPort', 'TypeMatHandi_LogApp',\n",
       "       'TypeMatHandi_Autre', 'Code_region', 'Libelle_region'],\n",
       "      dtype='object')"
      ]
     },
     "execution_count": 2,
     "metadata": {},
     "output_type": "execute_result"
    }
   ],
   "source": [
    "df = pd.read_csv('../data/lycee-college/fr-en-etic_2d.csv', sep=';')\n",
    "\n",
    "\n",
    "#on garde les données les plus récentes, donc 2019\n",
    "df = df.loc[df[\"Millesime\"] == 2019]\n",
    "\n",
    "#On consulte les colonnes existantes\n",
    "df.columns"
   ]
  },
  {
   "attachments": {},
   "cell_type": "markdown",
   "metadata": {},
   "source": [
    "On supprime toutes les colonnes qui n'ont rien à voir avec notre analyse. On va d'abord fixer l'index à l'UAI pour pouvoir ensuite joindre le résultat aux autres données qui va nous servir. On va également supprimer les lignes qui contiennent des *\"NaN\"* (Not a Number)"
   ]
  },
  {
   "cell_type": "code",
   "execution_count": 3,
   "metadata": {},
   "outputs": [],
   "source": [
    "df_web = df.copy()\n",
    "df_web.set_index('Code_UAI', inplace=True)\n",
    "\n",
    "#Suppression des colonnes inutiles\n",
    "df_web.drop(columns=['Millesime', 'Code_nature', 'nature_uai', 'typ_etab',\n",
    "       'Academie', 'Departement', 'NbEleve', 'NbEnseignant',\n",
    "       'SiEtabCentreRessource', 'SiProjetNumEcole', 'SiEntDisponible',\n",
    "       'SiProjEtabIntegreENT', 'Maint_PersCollect', 'Maint_PrestaExt',\n",
    "       'Maint_PersonnelEducNatHsEtab', 'Maint_PersonnelEtab',\n",
    "       'Maint_AutreNeSaitPas', 'Maint_Personne', 'NbRessourceEdit',\n",
    "       'TpRess_ManuelNum', 'TpRess_AnimScienLogiSimu', 'TpRess_Bdd',\n",
    "       'TpRess_LogiOutils', 'TpRess_OuvRef', 'TpRess_ResEntrainement',\n",
    "       'TpRess_Autres', 'TpRess_aucune', 'ServInt_NoteElev', 'ServInt_AbsElev',\n",
    "       'ServInt_EdtElevCls', 'ServInt_CahierTxt', 'ServInt_DocRessPeda',\n",
    "       'ServInt_AgdActuEtab', 'ServInt_PlatApp', 'ServInt_Autres',\n",
    "       'ServInt_aucun', 'NbTerminaux', 'NbTablette', 'NbTablettePC',\n",
    "       'NbMicroMoins5', 'NbMicroPortable', 'NbPortAffEl', 'NbPortAffEns',\n",
    "       'NbEleveEqASH', 'NbPosteEqASH', 'NbTBI', 'propClassesAvecTBI',\n",
    "       'NbVideoProj', 'NbClassMobile', 'NbLecteurMpx', 'NbImpr3D',\n",
    "       'SiWifi', 'SalleInternet', 'PostesInfoElvHorsCours',\n",
    "       'SiPareFeuEtab', 'SiOuifiltrageWeb', 'ControlePosteriori',\n",
    "       'SiCharteUsageWeb', 'Diffch_AnnexeeRI',\n",
    "       'Diffch_DossierRentreeEnseignants', 'Diffch_CRConseilAdmin',\n",
    "       'Diffch_DiffusionParents', 'Diffch_Autres', 'AccesParentCharte',\n",
    "       'ElvAuthentif', 'SiVisioConferenc', 'SiEntUtilise',\n",
    "       'TypeMatHandi_Tablette', 'TypeMatHandi_OrdiPort', 'TypeMatHandi_LogApp',\n",
    "       'TypeMatHandi_Autre', 'Code_region', 'Libelle_region'], inplace=True)\n",
    "\n",
    "\n",
    "df_web.dropna(inplace=True, axis=0)"
   ]
  },
  {
   "attachments": {},
   "cell_type": "markdown",
   "metadata": {},
   "source": [
    "Ensuite, on renomme les colonnes pour pouvoir les manipuler plus facilement et aussi pour que les colonnes soient plus lisible"
   ]
  },
  {
   "cell_type": "code",
   "execution_count": 4,
   "metadata": {},
   "outputs": [
    {
     "data": {
      "text/plain": [
       "Index(['rtc', 'cablefibreoptique', 'adsl', 'autreshautdebit', 'nesaitpas',\n",
       "       'aucun', 'debitweb'],\n",
       "      dtype='object')"
      ]
     },
     "execution_count": 4,
     "metadata": {},
     "output_type": "execute_result"
    }
   ],
   "source": [
    "old_columns = df_web.columns\n",
    "\n",
    "for column in old_columns:\n",
    "    df_web.rename(columns={column: column.replace('AccWeb_', '').lower()}, inplace=True)\n",
    "\n",
    "df_web.columns"
   ]
  },
  {
   "attachments": {},
   "cell_type": "markdown",
   "metadata": {},
   "source": [
    "On vérifie que les modifications que nous avons appliquées ont bien été effectuées"
   ]
  },
  {
   "cell_type": "code",
   "execution_count": 5,
   "metadata": {},
   "outputs": [
    {
     "name": "stdout",
     "output_type": "stream",
     "text": [
      "<class 'pandas.core.frame.DataFrame'>\n",
      "Index: 432 entries, 0810016C to 0820917B\n",
      "Data columns (total 7 columns):\n",
      " #   Column             Non-Null Count  Dtype \n",
      "---  ------             --------------  ----- \n",
      " 0   rtc                432 non-null    object\n",
      " 1   cablefibreoptique  432 non-null    object\n",
      " 2   adsl               432 non-null    object\n",
      " 3   autreshautdebit    432 non-null    object\n",
      " 4   nesaitpas          432 non-null    object\n",
      " 5   aucun              432 non-null    object\n",
      " 6   debitweb           432 non-null    object\n",
      "dtypes: object(7)\n",
      "memory usage: 27.0+ KB\n"
     ]
    },
    {
     "data": {
      "text/html": [
       "<div>\n",
       "<style scoped>\n",
       "    .dataframe tbody tr th:only-of-type {\n",
       "        vertical-align: middle;\n",
       "    }\n",
       "\n",
       "    .dataframe tbody tr th {\n",
       "        vertical-align: top;\n",
       "    }\n",
       "\n",
       "    .dataframe thead th {\n",
       "        text-align: right;\n",
       "    }\n",
       "</style>\n",
       "<table border=\"1\" class=\"dataframe\">\n",
       "  <thead>\n",
       "    <tr style=\"text-align: right;\">\n",
       "      <th></th>\n",
       "      <th>rtc</th>\n",
       "      <th>cablefibreoptique</th>\n",
       "      <th>adsl</th>\n",
       "      <th>autreshautdebit</th>\n",
       "      <th>nesaitpas</th>\n",
       "      <th>aucun</th>\n",
       "      <th>debitweb</th>\n",
       "    </tr>\n",
       "    <tr>\n",
       "      <th>Code_UAI</th>\n",
       "      <th></th>\n",
       "      <th></th>\n",
       "      <th></th>\n",
       "      <th></th>\n",
       "      <th></th>\n",
       "      <th></th>\n",
       "      <th></th>\n",
       "    </tr>\n",
       "  </thead>\n",
       "  <tbody>\n",
       "    <tr>\n",
       "      <th>0810016C</th>\n",
       "      <td>non</td>\n",
       "      <td>oui</td>\n",
       "      <td>non</td>\n",
       "      <td>non</td>\n",
       "      <td>non</td>\n",
       "      <td>non</td>\n",
       "      <td>De2a10</td>\n",
       "    </tr>\n",
       "    <tr>\n",
       "      <th>0810026N</th>\n",
       "      <td>non</td>\n",
       "      <td>oui</td>\n",
       "      <td>non</td>\n",
       "      <td>non</td>\n",
       "      <td>non</td>\n",
       "      <td>non</td>\n",
       "      <td>10moins50</td>\n",
       "    </tr>\n",
       "    <tr>\n",
       "      <th>0810041E</th>\n",
       "      <td>non</td>\n",
       "      <td>oui</td>\n",
       "      <td>non</td>\n",
       "      <td>non</td>\n",
       "      <td>non</td>\n",
       "      <td>non</td>\n",
       "      <td>De2a10</td>\n",
       "    </tr>\n",
       "    <tr>\n",
       "      <th>0810124V</th>\n",
       "      <td>non</td>\n",
       "      <td>oui</td>\n",
       "      <td>oui</td>\n",
       "      <td>non</td>\n",
       "      <td>non</td>\n",
       "      <td>non</td>\n",
       "      <td>10moins50</td>\n",
       "    </tr>\n",
       "    <tr>\n",
       "      <th>0810125W</th>\n",
       "      <td>non</td>\n",
       "      <td>oui</td>\n",
       "      <td>non</td>\n",
       "      <td>non</td>\n",
       "      <td>non</td>\n",
       "      <td>non</td>\n",
       "      <td>100OuPlus</td>\n",
       "    </tr>\n",
       "  </tbody>\n",
       "</table>\n",
       "</div>"
      ],
      "text/plain": [
       "          rtc cablefibreoptique adsl autreshautdebit nesaitpas aucun  \\\n",
       "Code_UAI                                                               \n",
       "0810016C  non               oui  non             non       non   non   \n",
       "0810026N  non               oui  non             non       non   non   \n",
       "0810041E  non               oui  non             non       non   non   \n",
       "0810124V  non               oui  oui             non       non   non   \n",
       "0810125W  non               oui  non             non       non   non   \n",
       "\n",
       "           debitweb  \n",
       "Code_UAI             \n",
       "0810016C     De2a10  \n",
       "0810026N  10moins50  \n",
       "0810041E     De2a10  \n",
       "0810124V  10moins50  \n",
       "0810125W  100OuPlus  "
      ]
     },
     "execution_count": 5,
     "metadata": {},
     "output_type": "execute_result"
    }
   ],
   "source": [
    "df_web.info()\n",
    "df_web.head()"
   ]
  },
  {
   "attachments": {},
   "cell_type": "markdown",
   "metadata": {},
   "source": [
    "Maintenant, il est important de transformer les modalités \"String\" qu'on a en float, car l'algorithme de **KMeans** marche avec des floats, nous décidons d'affecter la valeur de 1 pour les valeurs \"oui\" et 0 pour les valeurs \"non\". Pour la colonne de Debit Web, elle contient des données selon niveau. Nous allons voir combien de modalités elle contient pour pouvoir accorder un float à chaque modalité"
   ]
  },
  {
   "cell_type": "code",
   "execution_count": 6,
   "metadata": {},
   "outputs": [
    {
     "data": {
      "text/plain": [
       "De2a10        185\n",
       "10moins50     185\n",
       "InfA2          26\n",
       "50Moins100     19\n",
       "100OuPlus      17\n",
       "Name: debitweb, dtype: int64"
      ]
     },
     "execution_count": 6,
     "metadata": {},
     "output_type": "execute_result"
    }
   ],
   "source": [
    "df_web.debitweb.value_counts()"
   ]
  },
  {
   "cell_type": "code",
   "execution_count": 7,
   "metadata": {},
   "outputs": [
    {
     "data": {
      "text/html": [
       "<div>\n",
       "<style scoped>\n",
       "    .dataframe tbody tr th:only-of-type {\n",
       "        vertical-align: middle;\n",
       "    }\n",
       "\n",
       "    .dataframe tbody tr th {\n",
       "        vertical-align: top;\n",
       "    }\n",
       "\n",
       "    .dataframe thead th {\n",
       "        text-align: right;\n",
       "    }\n",
       "</style>\n",
       "<table border=\"1\" class=\"dataframe\">\n",
       "  <thead>\n",
       "    <tr style=\"text-align: right;\">\n",
       "      <th></th>\n",
       "      <th>rtc</th>\n",
       "      <th>cablefibreoptique</th>\n",
       "      <th>adsl</th>\n",
       "      <th>autreshautdebit</th>\n",
       "      <th>nesaitpas</th>\n",
       "      <th>aucun</th>\n",
       "      <th>debitweb</th>\n",
       "    </tr>\n",
       "    <tr>\n",
       "      <th>Code_UAI</th>\n",
       "      <th></th>\n",
       "      <th></th>\n",
       "      <th></th>\n",
       "      <th></th>\n",
       "      <th></th>\n",
       "      <th></th>\n",
       "      <th></th>\n",
       "    </tr>\n",
       "  </thead>\n",
       "  <tbody>\n",
       "    <tr>\n",
       "      <th>0810016C</th>\n",
       "      <td>0.0</td>\n",
       "      <td>1.0</td>\n",
       "      <td>0.0</td>\n",
       "      <td>0.0</td>\n",
       "      <td>0.0</td>\n",
       "      <td>0.0</td>\n",
       "      <td>1.0</td>\n",
       "    </tr>\n",
       "    <tr>\n",
       "      <th>0810026N</th>\n",
       "      <td>0.0</td>\n",
       "      <td>1.0</td>\n",
       "      <td>0.0</td>\n",
       "      <td>0.0</td>\n",
       "      <td>0.0</td>\n",
       "      <td>0.0</td>\n",
       "      <td>2.0</td>\n",
       "    </tr>\n",
       "    <tr>\n",
       "      <th>0810041E</th>\n",
       "      <td>0.0</td>\n",
       "      <td>1.0</td>\n",
       "      <td>0.0</td>\n",
       "      <td>0.0</td>\n",
       "      <td>0.0</td>\n",
       "      <td>0.0</td>\n",
       "      <td>1.0</td>\n",
       "    </tr>\n",
       "  </tbody>\n",
       "</table>\n",
       "</div>"
      ],
      "text/plain": [
       "          rtc  cablefibreoptique  adsl  autreshautdebit  nesaitpas  aucun  \\\n",
       "Code_UAI                                                                    \n",
       "0810016C  0.0                1.0   0.0              0.0        0.0    0.0   \n",
       "0810026N  0.0                1.0   0.0              0.0        0.0    0.0   \n",
       "0810041E  0.0                1.0   0.0              0.0        0.0    0.0   \n",
       "\n",
       "          debitweb  \n",
       "Code_UAI            \n",
       "0810016C       1.0  \n",
       "0810026N       2.0  \n",
       "0810041E       1.0  "
      ]
     },
     "execution_count": 7,
     "metadata": {},
     "output_type": "execute_result"
    }
   ],
   "source": [
    "#Formatter des colonnes\n",
    "columns_names = df_web.columns\n",
    "\n",
    "for column in columns_names:\n",
    "    if(column == \"debitweb\"):\n",
    "        df_web[column] = df_web[column].replace({'InfA2': 0, 'De2a10': 1, '10moins50': 2, '50Moins100': 3, '100OuPlus': 4})\n",
    "        df_web[column] = df_web[column].astype('float64')\n",
    "    else:\n",
    "        df_web[column] = df_web[column].replace({'oui': 1, 'non': 0})\n",
    "        df_web[column] = df_web[column].astype('float64')\n",
    "\n",
    "df_web.head(3)"
   ]
  },
  {
   "attachments": {},
   "cell_type": "markdown",
   "metadata": {},
   "source": [
    "### Corrélation\n",
    "\n",
    "On va vérifier la corrélation entre les diffèrentes variables"
   ]
  },
  {
   "cell_type": "code",
   "execution_count": 20,
   "metadata": {},
   "outputs": [
    {
     "data": {
      "image/png": "[encoded data removed]",
      "text/plain": [
       "<IPython.core.display.Image object>"
      ]
     },
     "execution_count": 20,
     "metadata": {},
     "output_type": "execute_result"
    }
   ],
   "source": [
    "columns_names = df_web.columns\n",
    "\n",
    "heat = go.Heatmap(\n",
    "    z = df_web.corr(),\n",
    "    x = columns_names,\n",
    "    y = columns_names,\n",
    "    xgap = 1, ygap = 1,\n",
    "    colorbar_thickness=20,\n",
    "    colorbar_ticklen=3,\n",
    "    hovertext = df_web.corr(),\n",
    "    hoverinfo='text'\n",
    ")\n",
    "\n",
    "layout = go.Layout(\n",
    "    title_text= \"Correlation Matrix\",\n",
    "    title_x = 0.5,\n",
    "    width=600, height=600,\n",
    "    xaxis_showgrid=False,\n",
    "    yaxis_showgrid=False,\n",
    "    yaxis_autorange='reversed'\n",
    ")\n",
    "\n",
    "fig = go.Figure(data=[heat], layout=layout)\n",
    "Image(fig.to_image(format=\"png\", width=500, height=500, scale=1))\n",
    "#fig.show()"
   ]
  },
  {
   "attachments": {},
   "cell_type": "markdown",
   "metadata": {},
   "source": [
    "On remarque qu'il y a une corrélation positive entre la fibre optique et le débit Web, ce qui est logique. Il existe également une corrélation négative entre l'ADSL et le débit web, si l'établissement a l'ADSL, alors le débit diminue. "
   ]
  },
  {
   "attachments": {},
   "cell_type": "markdown",
   "metadata": {},
   "source": [
    "---------------------------------------------"
   ]
  },
  {
   "attachments": {},
   "cell_type": "markdown",
   "metadata": {},
   "source": [
    "### Clustering : KMeans\n",
    "\n",
    "On peut maintenant utiliser l'algorithme pour créer plusieurs classes. Nous avons d'abord essayé de donner en paramètres pour le nombre de clusters 5, nous avons vu qu'il y avait des classes qui ont des centres qui partagent les mêmes valeurs pour les 6 colonnes ci-dessous. Nous avons donc décidé de créer seulement deux classes, car ce qui change entre les classes sont seulement les valeurs des deux colonnes \"ADSL\" ou \"fibre optique\". Cela influence directement le débit, ce qui est logique. Quand on a la fibre optique, le débit Web est supérieur que l'ADSL. Nous avons donc décidé de créer seulement deux classes et donc deux modalités pour la colonne Acces Web :\n",
    "- Bon\n",
    "- Moyen\n",
    "\n",
    "Voyons le résultat de notre clustering :"
   ]
  },
  {
   "cell_type": "code",
   "execution_count": 9,
   "metadata": {},
   "outputs": [
    {
     "data": {
      "text/html": [
       "<div>\n",
       "<style scoped>\n",
       "    .dataframe tbody tr th:only-of-type {\n",
       "        vertical-align: middle;\n",
       "    }\n",
       "\n",
       "    .dataframe tbody tr th {\n",
       "        vertical-align: top;\n",
       "    }\n",
       "\n",
       "    .dataframe thead tr th {\n",
       "        text-align: left;\n",
       "    }\n",
       "</style>\n",
       "<table border=\"1\" class=\"dataframe\">\n",
       "  <thead>\n",
       "    <tr>\n",
       "      <th></th>\n",
       "      <th>rtc</th>\n",
       "      <th>cablefibreoptique</th>\n",
       "      <th>adsl</th>\n",
       "      <th>autreshautdebit</th>\n",
       "      <th>nesaitpas</th>\n",
       "      <th>aucun</th>\n",
       "      <th>debitweb</th>\n",
       "    </tr>\n",
       "  </thead>\n",
       "  <tbody>\n",
       "    <tr>\n",
       "      <th>0</th>\n",
       "      <td>4.524887e-03</td>\n",
       "      <td>0.828054</td>\n",
       "      <td>0.384615</td>\n",
       "      <td>0.018100</td>\n",
       "      <td>4.524887e-03</td>\n",
       "      <td>0.0</td>\n",
       "      <td>2.239819</td>\n",
       "    </tr>\n",
       "    <tr>\n",
       "      <th>1</th>\n",
       "      <td>-3.903128e-18</td>\n",
       "      <td>0.497630</td>\n",
       "      <td>0.672986</td>\n",
       "      <td>0.004739</td>\n",
       "      <td>-3.903128e-18</td>\n",
       "      <td>0.0</td>\n",
       "      <td>0.876777</td>\n",
       "    </tr>\n",
       "  </tbody>\n",
       "</table>\n",
       "</div>"
      ],
      "text/plain": [
       "            rtc cablefibreoptique      adsl autreshautdebit     nesaitpas  \\\n",
       "0  4.524887e-03          0.828054  0.384615        0.018100  4.524887e-03   \n",
       "1 -3.903128e-18          0.497630  0.672986        0.004739 -3.903128e-18   \n",
       "\n",
       "  aucun  debitweb  \n",
       "0   0.0  2.239819  \n",
       "1   0.0  0.876777  "
      ]
     },
     "execution_count": 9,
     "metadata": {},
     "output_type": "execute_result"
    }
   ],
   "source": [
    "km_web = KMeans(\n",
    "    n_clusters=2, init='random',\n",
    "    n_init=10, max_iter=300,\n",
    "    random_state=0\n",
    ")\n",
    "\n",
    "y_km_web = km_web.fit_predict(df_web)\n",
    "\n",
    "resultat = pd.DataFrame(km_web.cluster_centers_, columns=[km_web.feature_names_in_])\n",
    "\n",
    "resultat"
   ]
  },
  {
   "attachments": {},
   "cell_type": "markdown",
   "metadata": {},
   "source": [
    "> Nous avons affiché au dessus les valeurs des centres des deux classes pour chaque colonne, les moyennes de la classe. \n",
    "> Pour que cela soit plus clair, nous considérons que quand nous avons une valeur supérieur à 0.5 c'est que cela vaut \"oui\". Dans le cas contraire, cela vaudrait \"non\". Pour ce qui est de la colonne débit, nous prenons l'entier le plus proche qui va nous donner la modalité."
   ]
  },
  {
   "cell_type": "code",
   "execution_count": 10,
   "metadata": {},
   "outputs": [
    {
     "data": {
      "text/html": [
       "<div>\n",
       "<style scoped>\n",
       "    .dataframe tbody tr th:only-of-type {\n",
       "        vertical-align: middle;\n",
       "    }\n",
       "\n",
       "    .dataframe tbody tr th {\n",
       "        vertical-align: top;\n",
       "    }\n",
       "\n",
       "    .dataframe thead tr th {\n",
       "        text-align: left;\n",
       "    }\n",
       "</style>\n",
       "<table border=\"1\" class=\"dataframe\">\n",
       "  <thead>\n",
       "    <tr>\n",
       "      <th></th>\n",
       "      <th>rtc</th>\n",
       "      <th>cablefibreoptique</th>\n",
       "      <th>adsl</th>\n",
       "      <th>autreshautdebit</th>\n",
       "      <th>nesaitpas</th>\n",
       "      <th>aucun</th>\n",
       "      <th>debitweb</th>\n",
       "    </tr>\n",
       "  </thead>\n",
       "  <tbody>\n",
       "    <tr>\n",
       "      <th>0</th>\n",
       "      <td>0</td>\n",
       "      <td>1</td>\n",
       "      <td>0</td>\n",
       "      <td>0</td>\n",
       "      <td>0</td>\n",
       "      <td>0</td>\n",
       "      <td>2</td>\n",
       "    </tr>\n",
       "    <tr>\n",
       "      <th>1</th>\n",
       "      <td>0</td>\n",
       "      <td>0</td>\n",
       "      <td>1</td>\n",
       "      <td>0</td>\n",
       "      <td>0</td>\n",
       "      <td>0</td>\n",
       "      <td>1</td>\n",
       "    </tr>\n",
       "  </tbody>\n",
       "</table>\n",
       "</div>"
      ],
      "text/plain": [
       "  rtc cablefibreoptique adsl autreshautdebit nesaitpas aucun debitweb\n",
       "0   0                 1    0               0         0     0        2\n",
       "1   0                 0    1               0         0     0        1"
      ]
     },
     "execution_count": 10,
     "metadata": {},
     "output_type": "execute_result"
    }
   ],
   "source": [
    "columns_names = km_web.feature_names_in_\n",
    "\n",
    "\n",
    "def change_float_to_int(row):\n",
    "    for rowt in row:\n",
    "        if(rowt > 0.51):\n",
    "            return 1\n",
    "        else:  \n",
    "            return 0\n",
    "\n",
    "\n",
    "def change_float_to_int_deb(row):\n",
    "    for rowt in row:\n",
    "        if(rowt < 0.5):\n",
    "            return 0\n",
    "        elif(rowt < 1.5):\n",
    "            return 1\n",
    "        elif(rowt < 2.5):\n",
    "            return 2\n",
    "        elif(rowt < 3.5):\n",
    "            return 3\n",
    "        else:\n",
    "            return 4\n",
    "\n",
    "\n",
    "for column in km_web.feature_names_in_:\n",
    "    if(column == \"debitweb\"):\n",
    "        resultat[column] = resultat[column].apply(lambda row : change_float_to_int_deb(row), axis='columns')\n",
    "    else:\n",
    "        resultat[column] = resultat[column].apply(lambda row : change_float_to_int(row), axis='columns')\n",
    "\n",
    "\n",
    "resultat\n"
   ]
  },
  {
   "cell_type": "code",
   "execution_count": 11,
   "metadata": {},
   "outputs": [
    {
     "data": {
      "text/html": [
       "<div>\n",
       "<style scoped>\n",
       "    .dataframe tbody tr th:only-of-type {\n",
       "        vertical-align: middle;\n",
       "    }\n",
       "\n",
       "    .dataframe tbody tr th {\n",
       "        vertical-align: top;\n",
       "    }\n",
       "\n",
       "    .dataframe thead tr th {\n",
       "        text-align: left;\n",
       "    }\n",
       "</style>\n",
       "<table border=\"1\" class=\"dataframe\">\n",
       "  <thead>\n",
       "    <tr>\n",
       "      <th></th>\n",
       "      <th>rtc</th>\n",
       "      <th>cablefibreoptique</th>\n",
       "      <th>adsl</th>\n",
       "      <th>autreshautdebit</th>\n",
       "      <th>nesaitpas</th>\n",
       "      <th>aucun</th>\n",
       "      <th>debitweb</th>\n",
       "    </tr>\n",
       "  </thead>\n",
       "  <tbody>\n",
       "    <tr>\n",
       "      <th>0</th>\n",
       "      <td>non</td>\n",
       "      <td>oui</td>\n",
       "      <td>non</td>\n",
       "      <td>non</td>\n",
       "      <td>non</td>\n",
       "      <td>non</td>\n",
       "      <td>10moins50</td>\n",
       "    </tr>\n",
       "    <tr>\n",
       "      <th>1</th>\n",
       "      <td>non</td>\n",
       "      <td>non</td>\n",
       "      <td>oui</td>\n",
       "      <td>non</td>\n",
       "      <td>non</td>\n",
       "      <td>non</td>\n",
       "      <td>De2a10</td>\n",
       "    </tr>\n",
       "  </tbody>\n",
       "</table>\n",
       "</div>"
      ],
      "text/plain": [
       "   rtc cablefibreoptique adsl autreshautdebit nesaitpas aucun   debitweb\n",
       "0  non               oui  non             non       non   non  10moins50\n",
       "1  non               non  oui             non       non   non     De2a10"
      ]
     },
     "execution_count": 11,
     "metadata": {},
     "output_type": "execute_result"
    }
   ],
   "source": [
    "for column in km_web.feature_names_in_:\n",
    "    if(column == \"debitweb\"):\n",
    "        resultat[column] = resultat[column].replace({0: 'InfA2', 1: 'De2a10', 2: '10moins50', 3: '50Moins100', 4: '100OuPlus'})\n",
    "        resultat[column] = resultat[column].astype('str')\n",
    "    else:\n",
    "        resultat[column] = resultat[column].replace({0: 'non', 1: 'oui'})\n",
    "        resultat[column] = resultat[column].astype('str')\n",
    "\n",
    "\n",
    "resultat"
   ]
  },
  {
   "attachments": {},
   "cell_type": "markdown",
   "metadata": {},
   "source": [
    "On voit donc bien quelles sont les caractéristiques d'une classe, on va donc accorder la modalité \"Bon\" pour la première classe qui a la fibre optique et un débit plus important. On va accorder la modalité \"Moyen\" pour la deuxième classe car ils ont seulement l'ADSL et un débit Web plus petit.\n",
    "\n",
    "On va maintenant affecter à chaque établissement la cluster à laquelle il appartient."
   ]
  },
  {
   "cell_type": "code",
   "execution_count": 12,
   "metadata": {},
   "outputs": [
    {
     "data": {
      "text/html": [
       "<div>\n",
       "<style scoped>\n",
       "    .dataframe tbody tr th:only-of-type {\n",
       "        vertical-align: middle;\n",
       "    }\n",
       "\n",
       "    .dataframe tbody tr th {\n",
       "        vertical-align: top;\n",
       "    }\n",
       "\n",
       "    .dataframe thead th {\n",
       "        text-align: right;\n",
       "    }\n",
       "</style>\n",
       "<table border=\"1\" class=\"dataframe\">\n",
       "  <thead>\n",
       "    <tr style=\"text-align: right;\">\n",
       "      <th></th>\n",
       "      <th>rtc</th>\n",
       "      <th>cablefibreoptique</th>\n",
       "      <th>adsl</th>\n",
       "      <th>autreshautdebit</th>\n",
       "      <th>nesaitpas</th>\n",
       "      <th>aucun</th>\n",
       "      <th>debitweb</th>\n",
       "      <th>cluster</th>\n",
       "    </tr>\n",
       "    <tr>\n",
       "      <th>Code_UAI</th>\n",
       "      <th></th>\n",
       "      <th></th>\n",
       "      <th></th>\n",
       "      <th></th>\n",
       "      <th></th>\n",
       "      <th></th>\n",
       "      <th></th>\n",
       "      <th></th>\n",
       "    </tr>\n",
       "  </thead>\n",
       "  <tbody>\n",
       "    <tr>\n",
       "      <th>0810016C</th>\n",
       "      <td>0.0</td>\n",
       "      <td>1.0</td>\n",
       "      <td>0.0</td>\n",
       "      <td>0.0</td>\n",
       "      <td>0.0</td>\n",
       "      <td>0.0</td>\n",
       "      <td>1.0</td>\n",
       "      <td>1</td>\n",
       "    </tr>\n",
       "    <tr>\n",
       "      <th>0810026N</th>\n",
       "      <td>0.0</td>\n",
       "      <td>1.0</td>\n",
       "      <td>0.0</td>\n",
       "      <td>0.0</td>\n",
       "      <td>0.0</td>\n",
       "      <td>0.0</td>\n",
       "      <td>2.0</td>\n",
       "      <td>0</td>\n",
       "    </tr>\n",
       "    <tr>\n",
       "      <th>0810041E</th>\n",
       "      <td>0.0</td>\n",
       "      <td>1.0</td>\n",
       "      <td>0.0</td>\n",
       "      <td>0.0</td>\n",
       "      <td>0.0</td>\n",
       "      <td>0.0</td>\n",
       "      <td>1.0</td>\n",
       "      <td>1</td>\n",
       "    </tr>\n",
       "    <tr>\n",
       "      <th>0810124V</th>\n",
       "      <td>0.0</td>\n",
       "      <td>1.0</td>\n",
       "      <td>1.0</td>\n",
       "      <td>0.0</td>\n",
       "      <td>0.0</td>\n",
       "      <td>0.0</td>\n",
       "      <td>2.0</td>\n",
       "      <td>0</td>\n",
       "    </tr>\n",
       "    <tr>\n",
       "      <th>0810125W</th>\n",
       "      <td>0.0</td>\n",
       "      <td>1.0</td>\n",
       "      <td>0.0</td>\n",
       "      <td>0.0</td>\n",
       "      <td>0.0</td>\n",
       "      <td>0.0</td>\n",
       "      <td>4.0</td>\n",
       "      <td>0</td>\n",
       "    </tr>\n",
       "  </tbody>\n",
       "</table>\n",
       "</div>"
      ],
      "text/plain": [
       "          rtc  cablefibreoptique  adsl  autreshautdebit  nesaitpas  aucun  \\\n",
       "Code_UAI                                                                    \n",
       "0810016C  0.0                1.0   0.0              0.0        0.0    0.0   \n",
       "0810026N  0.0                1.0   0.0              0.0        0.0    0.0   \n",
       "0810041E  0.0                1.0   0.0              0.0        0.0    0.0   \n",
       "0810124V  0.0                1.0   1.0              0.0        0.0    0.0   \n",
       "0810125W  0.0                1.0   0.0              0.0        0.0    0.0   \n",
       "\n",
       "          debitweb  cluster  \n",
       "Code_UAI                     \n",
       "0810016C       1.0        1  \n",
       "0810026N       2.0        0  \n",
       "0810041E       1.0        1  \n",
       "0810124V       2.0        0  \n",
       "0810125W       4.0        0  "
      ]
     },
     "execution_count": 12,
     "metadata": {},
     "output_type": "execute_result"
    }
   ],
   "source": [
    "df_web[\"cluster\"] = y_km_web\n",
    "df_web.head()\n"
   ]
  },
  {
   "attachments": {},
   "cell_type": "markdown",
   "metadata": {},
   "source": [
    "--------------------------------------------"
   ]
  },
  {
   "attachments": {},
   "cell_type": "markdown",
   "metadata": {},
   "source": [
    "Après cela, nous allons essayer de représenter ça graphiquement pour voir ce que cela donne pour voir si il y a eu une bonne découpe des clusters. Pour cela nous allons procéder à une ACP comme nous avons *`p`* variables quantitatives. Nous allons utiliser la librairie prince pour faire notre ACP."
   ]
  },
  {
   "cell_type": "code",
   "execution_count": 13,
   "metadata": {},
   "outputs": [],
   "source": [
    "pca_web = pc.PCA(\n",
    "    n_components=2,\n",
    "    random_state=0,\n",
    "    n_iter=100,\n",
    "    rescale_with_mean=True,\n",
    "    rescale_with_std=True,\n",
    "    copy=True,\n",
    "    engine='auto',\n",
    "    check_input=True\n",
    ")\n",
    "\n",
    "pca_web = pca_web.fit(df_web.drop(\"cluster\", axis=1))"
   ]
  },
  {
   "attachments": {},
   "cell_type": "markdown",
   "metadata": {},
   "source": [
    "On va d'abord regarder l'inertie totale expliquée par l'ACP pour savoir à quel point elle est fiable."
   ]
  },
  {
   "cell_type": "code",
   "execution_count": 14,
   "metadata": {},
   "outputs": [
    {
     "name": "stdout",
     "output_type": "stream",
     "text": [
      "Inertie totale expliquée : [0.32139286 0.24087976]  soit  56.22726223040249 %\n",
      "Valeurs propres : [1.92835715 1.44527858]\n",
      "Inertie totale : 5.999999999999998\n"
     ]
    }
   ],
   "source": [
    "print(\"Inertie totale expliquée :\",pca_web.explained_inertia_, \" soit \", pca_web.explained_inertia_.sum() * 100, \"%\")\n",
    "print(\"Valeurs propres :\",pca_web.eigenvalues_)\n",
    "print(\"Inertie totale :\",pca_web.total_inertia_)"
   ]
  },
  {
   "attachments": {},
   "cell_type": "markdown",
   "metadata": {},
   "source": [
    "On voit que nous avons 56,5 % de l'information qui est restitué. Ce n'est pas très haut, il aurait été préférable d'avoir plus de 66% mais nous n'avons pas d'autres choix. Il va falloir interprêter avec des pincettes."
   ]
  },
  {
   "cell_type": "code",
   "execution_count": 15,
   "metadata": {},
   "outputs": [
    {
     "data": {
      "text/plain": [
       "<matplotlib.legend.Legend at 0x19617b389a0>"
      ]
     },
     "execution_count": 15,
     "metadata": {},
     "output_type": "execute_result"
    },
    {
     "data": {
      "image/png": "[encoded data removed]",
      "text/plain": [
       "<Figure size 600x600 with 1 Axes>"
      ]
     },
     "metadata": {},
     "output_type": "display_data"
    }
   ],
   "source": [
    "ax_web = pca_web.plot_row_coordinates(\n",
    "    df_web.drop(\"cluster\", axis=1),\n",
    "    ax=None,\n",
    "    figsize=(6, 6),\n",
    "    x_component=0,\n",
    "    y_component=1,\n",
    "    labels=None,\n",
    "    color_labels=df_web[\"cluster\"],\n",
    "    show_points=True\n",
    ")\n",
    "ax_web.set_xlabel(\"PC{}\".format(1))\n",
    "ax_web.set_ylabel(\"PC{}\".format(2))\n",
    "ax_web.set_title(\"Coordonnées des individus\")\n",
    "ax_web.legend()"
   ]
  },
  {
   "attachments": {},
   "cell_type": "markdown",
   "metadata": {},
   "source": [
    "----------------------"
   ]
  },
  {
   "cell_type": "code",
   "execution_count": 16,
   "metadata": {},
   "outputs": [
    {
     "name": "stdout",
     "output_type": "stream",
     "text": [
      "<class 'pandas.core.frame.DataFrame'>\n",
      "Index: 432 entries, 0810016C to 0820917B\n",
      "Data columns (total 8 columns):\n",
      " #   Column             Non-Null Count  Dtype  \n",
      "---  ------             --------------  -----  \n",
      " 0   rtc                432 non-null    float64\n",
      " 1   cablefibreoptique  432 non-null    float64\n",
      " 2   adsl               432 non-null    float64\n",
      " 3   autreshautdebit    432 non-null    float64\n",
      " 4   nesaitpas          432 non-null    float64\n",
      " 5   aucun              432 non-null    float64\n",
      " 6   debitweb           432 non-null    float64\n",
      " 7   cluster            432 non-null    object \n",
      "dtypes: float64(7), object(1)\n",
      "memory usage: 30.4+ KB\n"
     ]
    }
   ],
   "source": [
    "df_web.cluster = df_web.cluster.astype('str')\n",
    "df_web.info()"
   ]
  },
  {
   "cell_type": "code",
   "execution_count": 25,
   "metadata": {},
   "outputs": [
    {
     "data": {
      "image/png": "[encoded data removed]",
      "text/plain": [
       "<IPython.core.display.Image object>"
      ]
     },
     "execution_count": 25,
     "metadata": {},
     "output_type": "execute_result"
    }
   ],
   "source": [
    "pca = PCA(n_components=2)\n",
    "components = pca.fit_transform(df_web.drop(\"cluster\", axis=1))\n",
    "\n",
    "fig = px.scatter(components, x=0, y=1, color=df_web[\"cluster\"], title=\"Coordonnées des individus\", labels={\"0\": \"PC1\", \"1\": \"PC2\"})\n",
    "Image(fig.to_image(format=\"png\", width=400, height=400, scale=1.5))\n",
    "#fig.show()"
   ]
  },
  {
   "attachments": {},
   "cell_type": "markdown",
   "metadata": {},
   "source": [
    "On voit bien ici que les classes sont bien divisées, le clustering a trés bien marché. On ne voit pas tous les points car il y a beaucoup de points qui sont superposées car ils partagent les mêmes coordonnées"
   ]
  },
  {
   "attachments": {},
   "cell_type": "markdown",
   "metadata": {},
   "source": [
    "### Création de la colonne `Accès Web`\n",
    "\n",
    "Nous pouvons maintenant attribuer à chaque établissement une des deux valeurs prédéfinies précedemment. Nous passons de 6 colonnes à une seule."
   ]
  },
  {
   "cell_type": "code",
   "execution_count": 18,
   "metadata": {},
   "outputs": [
    {
     "data": {
      "text/html": [
       "<div>\n",
       "<style scoped>\n",
       "    .dataframe tbody tr th:only-of-type {\n",
       "        vertical-align: middle;\n",
       "    }\n",
       "\n",
       "    .dataframe tbody tr th {\n",
       "        vertical-align: top;\n",
       "    }\n",
       "\n",
       "    .dataframe thead th {\n",
       "        text-align: right;\n",
       "    }\n",
       "</style>\n",
       "<table border=\"1\" class=\"dataframe\">\n",
       "  <thead>\n",
       "    <tr style=\"text-align: right;\">\n",
       "      <th></th>\n",
       "      <th>acces_web</th>\n",
       "    </tr>\n",
       "    <tr>\n",
       "      <th>Code_UAI</th>\n",
       "      <th></th>\n",
       "    </tr>\n",
       "  </thead>\n",
       "  <tbody>\n",
       "    <tr>\n",
       "      <th>0810016C</th>\n",
       "      <td>Moyen</td>\n",
       "    </tr>\n",
       "    <tr>\n",
       "      <th>0810026N</th>\n",
       "      <td>Bon</td>\n",
       "    </tr>\n",
       "    <tr>\n",
       "      <th>0810041E</th>\n",
       "      <td>Moyen</td>\n",
       "    </tr>\n",
       "  </tbody>\n",
       "</table>\n",
       "</div>"
      ],
      "text/plain": [
       "         acces_web\n",
       "Code_UAI          \n",
       "0810016C     Moyen\n",
       "0810026N       Bon\n",
       "0810041E     Moyen"
      ]
     },
     "execution_count": 18,
     "metadata": {},
     "output_type": "execute_result"
    }
   ],
   "source": [
    "df_web_final = pd.DataFrame(df_web.cluster.replace({\"0\" : \"Bon\", \"1\":\"Moyen\"}))\n",
    "df_web_final.rename(columns={\"cluster\" : \"acces_web\"}, inplace=True)\n",
    "\n",
    "df_web_final.head(3)"
   ]
  },
  {
   "attachments": {},
   "cell_type": "markdown",
   "metadata": {},
   "source": [
    "### *Exportation des données dans un fichier csv*\n",
    "\n",
    "Nous allons l'importer sous un format `csv` pour pouvoir faire des jointures avec les autres données"
   ]
  },
  {
   "cell_type": "code",
   "execution_count": 19,
   "metadata": {},
   "outputs": [],
   "source": [
    "df_web_final.to_csv(\"../data/analyses/acces_web.csv\", index=True, sep=\";\")"
   ]
  }
 ],
 "metadata": {
  "kernelspec": {
   "display_name": "Python 3",
   "language": "python",
   "name": "python3"
  },
  "language_info": {
   "codemirror_mode": {
    "name": "ipython",
    "version": 3
   },
   "file_extension": ".py",
   "mimetype": "text/x-python",
   "name": "python",
   "nbconvert_exporter": "python",
   "pygments_lexer": "ipython3",
   "version": "3.10.9"
  },
  "orig_nbformat": 4,
  "vscode": {
   "interpreter": {
    "hash": "2349f8cba88a5b2d1d390f83a8a5748abc4e6656a2f4a0a7bc22dd7876009b29"
   }
  }
 },
 "nbformat": 4,
 "nbformat_minor": 2
}
