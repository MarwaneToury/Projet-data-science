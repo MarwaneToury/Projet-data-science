{
 "cells": [
  {
   "cell_type": "markdown",
   "id": "e57ddc6c",
   "metadata": {},
   "source": [
    "# importing a data set page from api"
   ]
  },
  {
   "cell_type": "code",
   "execution_count": 2,
   "id": "e339009b",
   "metadata": {},
   "outputs": [
    {
     "name": "stdout",
     "output_type": "stream",
     "text": [
      "  label annee        localite departement  \\\n",
      "0     1  2018            Agde         034   \n",
      "1     1  2019            Agde         034   \n",
      "2     2  2018            Albi         081   \n",
      "3     1  2017            Albi         081   \n",
      "4     1  2018            Albi         081   \n",
      "5     1  2019            Albi         081   \n",
      "6     1  2019            Albi         081   \n",
      "7     1  2021            Alès         030   \n",
      "8     2  2018  Argelès-Gazost         065   \n",
      "9     3  2018            Auch         032   \n",
      "\n",
      "                                   nom_etablissement  \\\n",
      "0               Lycée polyvalent Auguste Loubatières   \n",
      "1               Lycée polyvalent Auguste Loubatières   \n",
      "2  Lycée d'enseignement général et technologique ...   \n",
      "3             Lycée d'enseignement général Lapérouse   \n",
      "4             Lycée d'enseignement général Lapérouse   \n",
      "5             Lycée d'enseignement général Lapérouse   \n",
      "6  Lycée général et technologique agricole - EPLA...   \n",
      "7   Lycée polyvalent des Métiers Jean Baptiste Dumas   \n",
      "8          Lycée climatique Climatique René Billères   \n",
      "9                     Lycée professionnel Pardailhan   \n",
      "\n",
      "                                  position       rne  \n",
      "0           [43.3000701903, 3.48305956456]  0340002T  \n",
      "1           [43.3000701903, 3.48305956456]  0340002T  \n",
      "2           [43.9310426514, 2.15075998953]  0810004P  \n",
      "3           [43.9302066348, 2.14718960529]  0810006S  \n",
      "4           [43.9302066348, 2.14718960529]  0810006S  \n",
      "5           [43.9302066348, 2.14718960529]  0810006S  \n",
      "6  [43.91942160700829, 2.1017936829450465]  0810121S  \n",
      "7           [44.1300769158, 4.07498948252]  0300002P  \n",
      "8         [43.002631819, -0.0938703120221]  0650001Y  \n",
      "9          [43.6535380428, 0.578259928462]  0320040V  \n"
     ]
    }
   ],
   "source": [
    "#importing the necessary libraries\n",
    "import pandas as pd\n",
    "import requests\n",
    "\n",
    "#making the request\n",
    "url = 'https://data.occitanie.education.gouv.fr/api/records/1.0/search/?dataset=fr-en-occitanie-label-numerique-lycee&q=&facet=annee&facet=rne&facet=departement&facet=label'\n",
    "response = requests.get(url)\n",
    "\n",
    "#converting the response to json\n",
    "data = response.json()\n",
    "\n",
    "#creating an empty list to store the records\n",
    "records = []\n",
    "\n",
    "#looping through the records\n",
    "for record in data['records']:\n",
    "    #storing the records in the list\n",
    "    records.append(record['fields'])\n",
    "\n",
    "#creating the dataframe\n",
    "df = pd.DataFrame.from_records(records)"
   ]
  }
 ],
 "metadata": {
  "kernelspec": {
   "display_name": "Python 3",
   "language": "python",
   "name": "python3"
  },
  "language_info": {
   "codemirror_mode": {
    "name": "ipython",
    "version": 3
   },
   "file_extension": ".py",
   "mimetype": "text/x-python",
   "name": "python",
   "nbconvert_exporter": "python",
   "pygments_lexer": "ipython3",
   "version": "3.10.9"
  },
  "vscode": {
   "interpreter": {
    "hash": "2349f8cba88a5b2d1d390f83a8a5748abc4e6656a2f4a0a7bc22dd7876009b29"
   }
  }
 },
 "nbformat": 4,
 "nbformat_minor": 5
}
