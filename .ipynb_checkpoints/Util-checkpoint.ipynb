{
 "cells": [
  {
   "cell_type": "markdown",
   "id": "e57ddc6c",
   "metadata": {},
   "source": [
    "# importing a data set page from api"
   ]
  },
  {
   "cell_type": "code",
   "execution_count": null,
   "id": "e339009b",
   "metadata": {},
   "outputs": [],
   "source": [
    "#importing the necessary libraries\n",
    "import pandas as pd\n",
    "import requests\n",
    "\n",
    "#making the request\n",
    "url = 'https://data.occitanie.education.gouv.fr/api/records/1.0/search/?dataset=fr-en-occitanie-label-numerique-lycee&q=&facet=annee&facet=rne&facet=departement&facet=label'\n",
    "response = requests.get(url)\n",
    "\n",
    "#converting the response to json\n",
    "data = response.json()\n",
    "\n",
    "#creating an empty list to store the records\n",
    "records = []\n",
    "\n",
    "#looping through the records\n",
    "for record in data['records']:\n",
    "    #storing the records in the list\n",
    "    records.append(record['fields'])\n",
    "\n",
    "#creating the dataframe\n",
    "df = pd.DataFrame.from_records(records)"
   ]
  }
 ],
 "metadata": {
  "kernelspec": {
   "display_name": "Python 3 (ipykernel)",
   "language": "python",
   "name": "python3"
  },
  "language_info": {
   "codemirror_mode": {
    "name": "ipython",
    "version": 3
   },
   "file_extension": ".py",
   "mimetype": "text/x-python",
   "name": "python",
   "nbconvert_exporter": "python",
   "pygments_lexer": "ipython3",
   "version": "3.9.12"
  }
 },
 "nbformat": 4,
 "nbformat_minor": 5
}
